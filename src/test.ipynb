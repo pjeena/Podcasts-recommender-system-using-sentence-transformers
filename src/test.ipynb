{
 "cells": [
  {
   "cell_type": "code",
   "execution_count": 4,
   "metadata": {},
   "outputs": [
    {
     "ename": "ModuleNotFoundError",
     "evalue": "No module named 'sklearn'",
     "output_type": "error",
     "traceback": [
      "\u001b[0;31m---------------------------------------------------------------------------\u001b[0m",
      "\u001b[0;31mModuleNotFoundError\u001b[0m                       Traceback (most recent call last)",
      "Cell \u001b[0;32mIn[4], line 3\u001b[0m\n\u001b[1;32m      1\u001b[0m \u001b[39mimport\u001b[39;00m \u001b[39mnumpy\u001b[39;00m \u001b[39mas\u001b[39;00m \u001b[39mnp\u001b[39;00m\n\u001b[1;32m      2\u001b[0m \u001b[39mimport\u001b[39;00m \u001b[39mpandas\u001b[39;00m \u001b[39mas\u001b[39;00m \u001b[39mpd\u001b[39;00m\n\u001b[0;32m----> 3\u001b[0m \u001b[39mfrom\u001b[39;00m \u001b[39msklearn\u001b[39;00m\u001b[39m.\u001b[39;00m\u001b[39mmetrics\u001b[39;00m\u001b[39m.\u001b[39;00m\u001b[39mpairwise\u001b[39;00m \u001b[39mimport\u001b[39;00m cosine_similarity, manhattan_distances, euclidean_distances\n\u001b[1;32m      4\u001b[0m \u001b[39mimport\u001b[39;00m \u001b[39msys\u001b[39;00m\n\u001b[1;32m      5\u001b[0m sys\u001b[39m.\u001b[39mpath\u001b[39m.\u001b[39minsert(\u001b[39m1\u001b[39m, \u001b[39m'\u001b[39m\u001b[39m/Users/piyush/Desktop/dsml_Portfolio/podcast/final_push\u001b[39m\u001b[39m'\u001b[39m)\n",
      "\u001b[0;31mModuleNotFoundError\u001b[0m: No module named 'sklearn'"
     ]
    }
   ],
   "source": [
    "import numpy as np\n",
    "import pandas as pd\n",
    "from sklearn.metrics.pairwise import cosine_similarity, manhattan_distances, euclidean_distances\n",
    "import sys\n",
    "sys.path.insert(1, '/Users/piyush/Desktop/dsml_Portfolio/podcast/final_push')\n",
    "from config import PODCASTS_DATABASE_PATH_RAW, USER_REVIEWS_DATABASE_PATH_RAW, PODCASTS_DATABASE_PATH_PROCESSED, USER_REVIEWS_DATABASE_PATH_PROCESSED"
   ]
  },
  {
   "cell_type": "code",
   "execution_count": 3,
   "metadata": {},
   "outputs": [
    {
     "data": {
      "text/plain": [
       "'1.24.1'"
      ]
     },
     "execution_count": 3,
     "metadata": {},
     "output_type": "execute_result"
    }
   ],
   "source": [
    "import numpy\n",
    "numpy.version.version"
   ]
  },
  {
   "cell_type": "code",
   "execution_count": 23,
   "metadata": {},
   "outputs": [
    {
     "name": "stderr",
     "output_type": "stream",
     "text": [
      " 37%|███▋      | 873/2363 [00:34<00:59, 25.22it/s]\n"
     ]
    },
    {
     "ename": "KeyboardInterrupt",
     "evalue": "",
     "output_type": "error",
     "traceback": [
      "\u001b[0;31m---------------------------------------------------------------------------\u001b[0m",
      "\u001b[0;31mKeyboardInterrupt\u001b[0m                         Traceback (most recent call last)",
      "Cell \u001b[0;32mIn[23], line 2\u001b[0m\n\u001b[1;32m      1\u001b[0m \u001b[39mfrom\u001b[39;00m \u001b[39mpreprocessing\u001b[39;00m \u001b[39mimport\u001b[39;00m get_preprocessed_text\n\u001b[0;32m----> 2\u001b[0m \u001b[39mfrom\u001b[39;00m \u001b[39mmodel\u001b[39;00m \u001b[39mimport\u001b[39;00m model_tfidf\n\u001b[1;32m      3\u001b[0m \u001b[39mfrom\u001b[39;00m \u001b[39mutils\u001b[39;00m \u001b[39mimport\u001b[39;00m get_recommendation_tfidf\n\u001b[1;32m      4\u001b[0m \u001b[39mfrom\u001b[39;00m \u001b[39mutils\u001b[39;00m \u001b[39mimport\u001b[39;00m get_cosine_similarity_podcasts, get_manhattan_distance_products, get_euclidean_distances_products\n",
      "File \u001b[0;32m~/Desktop/dsml_Portfolio/podcast/final_push/src/model.py:42\u001b[0m\n\u001b[1;32m     40\u001b[0m minilm_embeddings_matrix \u001b[39m=\u001b[39m []\n\u001b[1;32m     41\u001b[0m \u001b[39mfor\u001b[39;00m text \u001b[39min\u001b[39;00m tqdm(df_podcasts[\u001b[39m'\u001b[39m\u001b[39mdescription\u001b[39m\u001b[39m'\u001b[39m]):\n\u001b[0;32m---> 42\u001b[0m         minilm_embeddings_matrix\u001b[39m.\u001b[39mappend(model_miniLM\u001b[39m.\u001b[39;49mencode(text))\n\u001b[1;32m     43\u001b[0m minilm_embeddings_matrix \u001b[39m=\u001b[39m np\u001b[39m.\u001b[39marray(minilm_embeddings_matrix)\n\u001b[1;32m     44\u001b[0m pickle\u001b[39m.\u001b[39mdump(minilm_embeddings_matrix, \u001b[39mopen\u001b[39m(\u001b[39m'\u001b[39m\u001b[39m/Users/piyush/Desktop/dsml_Portfolio/podcast/final_push/models/minilm_embeddings_matrix.pkl\u001b[39m\u001b[39m'\u001b[39m, \u001b[39m'\u001b[39m\u001b[39mwb\u001b[39m\u001b[39m'\u001b[39m))\n",
      "File \u001b[0;32m~/Desktop/dsml_Portfolio/podcast/final_push/lib/python3.9/site-packages/sentence_transformers/SentenceTransformer.py:156\u001b[0m, in \u001b[0;36mSentenceTransformer.encode\u001b[0;34m(self, sentences, batch_size, show_progress_bar, output_value, convert_to_numpy, convert_to_tensor, device, normalize_embeddings)\u001b[0m\n\u001b[1;32m    153\u001b[0m \u001b[39mself\u001b[39m\u001b[39m.\u001b[39mto(device)\n\u001b[1;32m    155\u001b[0m all_embeddings \u001b[39m=\u001b[39m []\n\u001b[0;32m--> 156\u001b[0m length_sorted_idx \u001b[39m=\u001b[39m np\u001b[39m.\u001b[39;49margsort([\u001b[39m-\u001b[39;49m\u001b[39mself\u001b[39;49m\u001b[39m.\u001b[39;49m_text_length(sen) \u001b[39mfor\u001b[39;49;00m sen \u001b[39min\u001b[39;49;00m sentences])\n\u001b[1;32m    157\u001b[0m sentences_sorted \u001b[39m=\u001b[39m [sentences[idx] \u001b[39mfor\u001b[39;00m idx \u001b[39min\u001b[39;00m length_sorted_idx]\n\u001b[1;32m    159\u001b[0m \u001b[39mfor\u001b[39;00m start_index \u001b[39min\u001b[39;00m trange(\u001b[39m0\u001b[39m, \u001b[39mlen\u001b[39m(sentences), batch_size, desc\u001b[39m=\u001b[39m\u001b[39m\"\u001b[39m\u001b[39mBatches\u001b[39m\u001b[39m\"\u001b[39m, disable\u001b[39m=\u001b[39m\u001b[39mnot\u001b[39;00m show_progress_bar):\n",
      "File \u001b[0;32m<__array_function__ internals>:200\u001b[0m, in \u001b[0;36margsort\u001b[0;34m(*args, **kwargs)\u001b[0m\n",
      "File \u001b[0;32m~/Desktop/dsml_Portfolio/podcast/final_push/lib/python3.9/site-packages/numpy/core/fromnumeric.py:1146\u001b[0m, in \u001b[0;36margsort\u001b[0;34m(a, axis, kind, order)\u001b[0m\n\u001b[1;32m   1038\u001b[0m \u001b[39m@array_function_dispatch\u001b[39m(_argsort_dispatcher)\n\u001b[1;32m   1039\u001b[0m \u001b[39mdef\u001b[39;00m \u001b[39margsort\u001b[39m(a, axis\u001b[39m=\u001b[39m\u001b[39m-\u001b[39m\u001b[39m1\u001b[39m, kind\u001b[39m=\u001b[39m\u001b[39mNone\u001b[39;00m, order\u001b[39m=\u001b[39m\u001b[39mNone\u001b[39;00m):\n\u001b[1;32m   1040\u001b[0m     \u001b[39m\"\"\"\u001b[39;00m\n\u001b[1;32m   1041\u001b[0m \u001b[39m    Returns the indices that would sort an array.\u001b[39;00m\n\u001b[1;32m   1042\u001b[0m \n\u001b[0;32m   (...)\u001b[0m\n\u001b[1;32m   1144\u001b[0m \n\u001b[1;32m   1145\u001b[0m \u001b[39m    \"\"\"\u001b[39;00m\n\u001b[0;32m-> 1146\u001b[0m     \u001b[39mreturn\u001b[39;00m _wrapfunc(a, \u001b[39m'\u001b[39;49m\u001b[39margsort\u001b[39;49m\u001b[39m'\u001b[39;49m, axis\u001b[39m=\u001b[39;49maxis, kind\u001b[39m=\u001b[39;49mkind, order\u001b[39m=\u001b[39;49morder)\n",
      "File \u001b[0;32m~/Desktop/dsml_Portfolio/podcast/final_push/lib/python3.9/site-packages/numpy/core/fromnumeric.py:54\u001b[0m, in \u001b[0;36m_wrapfunc\u001b[0;34m(obj, method, *args, **kwds)\u001b[0m\n\u001b[1;32m     52\u001b[0m bound \u001b[39m=\u001b[39m \u001b[39mgetattr\u001b[39m(obj, method, \u001b[39mNone\u001b[39;00m)\n\u001b[1;32m     53\u001b[0m \u001b[39mif\u001b[39;00m bound \u001b[39mis\u001b[39;00m \u001b[39mNone\u001b[39;00m:\n\u001b[0;32m---> 54\u001b[0m     \u001b[39mreturn\u001b[39;00m _wrapit(obj, method, \u001b[39m*\u001b[39;49margs, \u001b[39m*\u001b[39;49m\u001b[39m*\u001b[39;49mkwds)\n\u001b[1;32m     56\u001b[0m \u001b[39mtry\u001b[39;00m:\n\u001b[1;32m     57\u001b[0m     \u001b[39mreturn\u001b[39;00m bound(\u001b[39m*\u001b[39margs, \u001b[39m*\u001b[39m\u001b[39m*\u001b[39mkwds)\n",
      "File \u001b[0;32m~/Desktop/dsml_Portfolio/podcast/final_push/lib/python3.9/site-packages/numpy/core/fromnumeric.py:43\u001b[0m, in \u001b[0;36m_wrapit\u001b[0;34m(obj, method, *args, **kwds)\u001b[0m\n\u001b[1;32m     41\u001b[0m \u001b[39mexcept\u001b[39;00m \u001b[39mAttributeError\u001b[39;00m:\n\u001b[1;32m     42\u001b[0m     wrap \u001b[39m=\u001b[39m \u001b[39mNone\u001b[39;00m\n\u001b[0;32m---> 43\u001b[0m result \u001b[39m=\u001b[39m \u001b[39mgetattr\u001b[39m(asarray(obj), method)(\u001b[39m*\u001b[39margs, \u001b[39m*\u001b[39m\u001b[39m*\u001b[39mkwds)\n\u001b[1;32m     44\u001b[0m \u001b[39mif\u001b[39;00m wrap:\n\u001b[1;32m     45\u001b[0m     \u001b[39mif\u001b[39;00m \u001b[39mnot\u001b[39;00m \u001b[39misinstance\u001b[39m(result, mu\u001b[39m.\u001b[39mndarray):\n",
      "\u001b[0;31mKeyboardInterrupt\u001b[0m: "
     ]
    }
   ],
   "source": [
    "from preprocessing import get_preprocessed_text\n",
    "#from model import model_tfidf\n",
    "from utils import get_recommendation_tfidf\n",
    "from utils import get_cosine_similarity_podcasts, get_manhattan_distance_products, get_euclidean_distances_products\n"
   ]
  },
  {
   "cell_type": "code",
   "execution_count": 25,
   "metadata": {},
   "outputs": [],
   "source": [
    "# Loading data \n",
    "df_podcasts = pd.read_csv(PODCASTS_DATABASE_PATH_RAW,header=None)\n",
    "df_users = pd.read_csv(USER_REVIEWS_DATABASE_PATH_RAW,header=None)\n",
    "\n",
    "columns_pod = ['id','name','url','studio','category','episode_count','avg_rating','total_ratings','description']\n",
    "columns_users = ['id','podcasts_id','username','review_title','review','rating','date']\n",
    "\n",
    "df_podcasts.columns = columns_pod\n",
    "df_users.columns = columns_users\n",
    "df_users = df_users.drop('id', axis=1)"
   ]
  },
  {
   "cell_type": "code",
   "execution_count": 8,
   "metadata": {},
   "outputs": [],
   "source": [
    "df_podcasts['tags'] =  df_podcasts['description'] + ' ' + df_podcasts['category']"
   ]
  },
  {
   "cell_type": "code",
   "execution_count": 9,
   "metadata": {},
   "outputs": [],
   "source": [
    " df_podcasts['tags_parsed'] =  df_podcasts['tags'].apply(lambda x: get_preprocessed_text(x)) "
   ]
  },
  {
   "cell_type": "code",
   "execution_count": 10,
   "metadata": {},
   "outputs": [],
   "source": [
    "tags_parsed_list = list(df_podcasts['tags_parsed'])"
   ]
  },
  {
   "cell_type": "code",
   "execution_count": 11,
   "metadata": {},
   "outputs": [],
   "source": [
    "tfidf_embeddings_matrix = model_tfidf.fit_transform(tags_parsed_list)\n",
    "similarity_matrix = cosine_similarity(tfidf_embeddings_matrix)"
   ]
  },
  {
   "cell_type": "code",
   "execution_count": 12,
   "metadata": {},
   "outputs": [],
   "source": [
    "podcast_id = \"Book Talk, etc.\"\n",
    "podcasts_recommendations = get_recommendation_tfidf(podcast_id, df_podcasts,'cosine',tfidf_embeddings_matrix,n=10)"
   ]
  },
  {
   "cell_type": "code",
   "execution_count": 13,
   "metadata": {},
   "outputs": [
    {
     "data": {
      "text/plain": [
       "[{'value': 'What Should I Read Next?', 'score': 0.45},\n",
       " {'value': 'Slightly Foxed', 'score': 0.41},\n",
       " {'value': \"You're Booked\", 'score': 0.38},\n",
       " {'value': 'Narcissa', 'score': 0.37},\n",
       " {'value': 'Articles of Interest', 'score': 0.34},\n",
       " {'value': 'Fiction Writing Made Easy', 'score': 0.32},\n",
       " {'value': 'Currently Reading', 'score': 0.32},\n",
       " {'value': 'The Book Club', 'score': 0.31},\n",
       " {'value': 'Helping Writers Become Authors', 'score': 0.31},\n",
       " {'value': 'Between The Covers : Conversations with Writers in Fiction, Nonfiction & Poetry',\n",
       "  'score': 0.29}]"
      ]
     },
     "execution_count": 13,
     "metadata": {},
     "output_type": "execute_result"
    }
   ],
   "source": [
    "podcasts_recommendations"
   ]
  },
  {
   "cell_type": "code",
   "execution_count": 14,
   "metadata": {},
   "outputs": [],
   "source": [
    "names = []\n",
    "for i in podcasts_recommendations:\n",
    "    names.append(i['value'])"
   ]
  },
  {
   "cell_type": "code",
   "execution_count": 15,
   "metadata": {},
   "outputs": [
    {
     "data": {
      "text/plain": [
       "['What Should I Read Next?',\n",
       " 'Slightly Foxed',\n",
       " \"You're Booked\",\n",
       " 'Narcissa',\n",
       " 'Articles of Interest',\n",
       " 'Fiction Writing Made Easy',\n",
       " 'Currently Reading',\n",
       " 'The Book Club',\n",
       " 'Helping Writers Become Authors',\n",
       " 'Between The Covers : Conversations with Writers in Fiction, Nonfiction & Poetry']"
      ]
     },
     "execution_count": 15,
     "metadata": {},
     "output_type": "execute_result"
    }
   ],
   "source": [
    "names"
   ]
  },
  {
   "cell_type": "code",
   "execution_count": 16,
   "metadata": {},
   "outputs": [],
   "source": [
    "final = df_podcasts[df_podcasts['name'].isin(names)][['name','category']].reset_index(drop = True)"
   ]
  },
  {
   "cell_type": "code",
   "execution_count": 22,
   "metadata": {},
   "outputs": [
    {
     "data": {
      "application/vnd.plotly.v1+json": {
       "config": {
        "plotlyServerURL": "https://plot.ly"
       },
       "data": [
        {
         "cells": {
          "align": "left",
          "fill": {
           "color": "lavender"
          },
          "values": [
           [
            "What Should I Read Next?",
            "Articles of Interest",
            "Narcissa",
            "Currently Reading",
            "Fiction Writing Made Easy",
            "Helping Writers Become Authors",
            "Between The Covers : Conversations with Writers in Fiction, Nonfiction & Poetry",
            "The Book Club",
            "Slightly Foxed",
            "You're Booked"
           ],
           [
            "Arts",
            "Arts",
            "Fiction",
            "Arts",
            "Arts",
            "Arts",
            "Arts",
            "Arts",
            "Arts",
            "Arts"
           ]
          ]
         },
         "header": {
          "align": "left",
          "fill": {
           "color": "paleturquoise"
          },
          "values": [
           "name",
           "category"
          ]
         },
         "type": "table"
        }
       ],
       "layout": {
        "template": {
         "data": {
          "bar": [
           {
            "error_x": {
             "color": "#2a3f5f"
            },
            "error_y": {
             "color": "#2a3f5f"
            },
            "marker": {
             "line": {
              "color": "#E5ECF6",
              "width": 0.5
             },
             "pattern": {
              "fillmode": "overlay",
              "size": 10,
              "solidity": 0.2
             }
            },
            "type": "bar"
           }
          ],
          "barpolar": [
           {
            "marker": {
             "line": {
              "color": "#E5ECF6",
              "width": 0.5
             },
             "pattern": {
              "fillmode": "overlay",
              "size": 10,
              "solidity": 0.2
             }
            },
            "type": "barpolar"
           }
          ],
          "carpet": [
           {
            "aaxis": {
             "endlinecolor": "#2a3f5f",
             "gridcolor": "white",
             "linecolor": "white",
             "minorgridcolor": "white",
             "startlinecolor": "#2a3f5f"
            },
            "baxis": {
             "endlinecolor": "#2a3f5f",
             "gridcolor": "white",
             "linecolor": "white",
             "minorgridcolor": "white",
             "startlinecolor": "#2a3f5f"
            },
            "type": "carpet"
           }
          ],
          "choropleth": [
           {
            "colorbar": {
             "outlinewidth": 0,
             "ticks": ""
            },
            "type": "choropleth"
           }
          ],
          "contour": [
           {
            "colorbar": {
             "outlinewidth": 0,
             "ticks": ""
            },
            "colorscale": [
             [
              0,
              "#0d0887"
             ],
             [
              0.1111111111111111,
              "#46039f"
             ],
             [
              0.2222222222222222,
              "#7201a8"
             ],
             [
              0.3333333333333333,
              "#9c179e"
             ],
             [
              0.4444444444444444,
              "#bd3786"
             ],
             [
              0.5555555555555556,
              "#d8576b"
             ],
             [
              0.6666666666666666,
              "#ed7953"
             ],
             [
              0.7777777777777778,
              "#fb9f3a"
             ],
             [
              0.8888888888888888,
              "#fdca26"
             ],
             [
              1,
              "#f0f921"
             ]
            ],
            "type": "contour"
           }
          ],
          "contourcarpet": [
           {
            "colorbar": {
             "outlinewidth": 0,
             "ticks": ""
            },
            "type": "contourcarpet"
           }
          ],
          "heatmap": [
           {
            "colorbar": {
             "outlinewidth": 0,
             "ticks": ""
            },
            "colorscale": [
             [
              0,
              "#0d0887"
             ],
             [
              0.1111111111111111,
              "#46039f"
             ],
             [
              0.2222222222222222,
              "#7201a8"
             ],
             [
              0.3333333333333333,
              "#9c179e"
             ],
             [
              0.4444444444444444,
              "#bd3786"
             ],
             [
              0.5555555555555556,
              "#d8576b"
             ],
             [
              0.6666666666666666,
              "#ed7953"
             ],
             [
              0.7777777777777778,
              "#fb9f3a"
             ],
             [
              0.8888888888888888,
              "#fdca26"
             ],
             [
              1,
              "#f0f921"
             ]
            ],
            "type": "heatmap"
           }
          ],
          "heatmapgl": [
           {
            "colorbar": {
             "outlinewidth": 0,
             "ticks": ""
            },
            "colorscale": [
             [
              0,
              "#0d0887"
             ],
             [
              0.1111111111111111,
              "#46039f"
             ],
             [
              0.2222222222222222,
              "#7201a8"
             ],
             [
              0.3333333333333333,
              "#9c179e"
             ],
             [
              0.4444444444444444,
              "#bd3786"
             ],
             [
              0.5555555555555556,
              "#d8576b"
             ],
             [
              0.6666666666666666,
              "#ed7953"
             ],
             [
              0.7777777777777778,
              "#fb9f3a"
             ],
             [
              0.8888888888888888,
              "#fdca26"
             ],
             [
              1,
              "#f0f921"
             ]
            ],
            "type": "heatmapgl"
           }
          ],
          "histogram": [
           {
            "marker": {
             "pattern": {
              "fillmode": "overlay",
              "size": 10,
              "solidity": 0.2
             }
            },
            "type": "histogram"
           }
          ],
          "histogram2d": [
           {
            "colorbar": {
             "outlinewidth": 0,
             "ticks": ""
            },
            "colorscale": [
             [
              0,
              "#0d0887"
             ],
             [
              0.1111111111111111,
              "#46039f"
             ],
             [
              0.2222222222222222,
              "#7201a8"
             ],
             [
              0.3333333333333333,
              "#9c179e"
             ],
             [
              0.4444444444444444,
              "#bd3786"
             ],
             [
              0.5555555555555556,
              "#d8576b"
             ],
             [
              0.6666666666666666,
              "#ed7953"
             ],
             [
              0.7777777777777778,
              "#fb9f3a"
             ],
             [
              0.8888888888888888,
              "#fdca26"
             ],
             [
              1,
              "#f0f921"
             ]
            ],
            "type": "histogram2d"
           }
          ],
          "histogram2dcontour": [
           {
            "colorbar": {
             "outlinewidth": 0,
             "ticks": ""
            },
            "colorscale": [
             [
              0,
              "#0d0887"
             ],
             [
              0.1111111111111111,
              "#46039f"
             ],
             [
              0.2222222222222222,
              "#7201a8"
             ],
             [
              0.3333333333333333,
              "#9c179e"
             ],
             [
              0.4444444444444444,
              "#bd3786"
             ],
             [
              0.5555555555555556,
              "#d8576b"
             ],
             [
              0.6666666666666666,
              "#ed7953"
             ],
             [
              0.7777777777777778,
              "#fb9f3a"
             ],
             [
              0.8888888888888888,
              "#fdca26"
             ],
             [
              1,
              "#f0f921"
             ]
            ],
            "type": "histogram2dcontour"
           }
          ],
          "mesh3d": [
           {
            "colorbar": {
             "outlinewidth": 0,
             "ticks": ""
            },
            "type": "mesh3d"
           }
          ],
          "parcoords": [
           {
            "line": {
             "colorbar": {
              "outlinewidth": 0,
              "ticks": ""
             }
            },
            "type": "parcoords"
           }
          ],
          "pie": [
           {
            "automargin": true,
            "type": "pie"
           }
          ],
          "scatter": [
           {
            "fillpattern": {
             "fillmode": "overlay",
             "size": 10,
             "solidity": 0.2
            },
            "type": "scatter"
           }
          ],
          "scatter3d": [
           {
            "line": {
             "colorbar": {
              "outlinewidth": 0,
              "ticks": ""
             }
            },
            "marker": {
             "colorbar": {
              "outlinewidth": 0,
              "ticks": ""
             }
            },
            "type": "scatter3d"
           }
          ],
          "scattercarpet": [
           {
            "marker": {
             "colorbar": {
              "outlinewidth": 0,
              "ticks": ""
             }
            },
            "type": "scattercarpet"
           }
          ],
          "scattergeo": [
           {
            "marker": {
             "colorbar": {
              "outlinewidth": 0,
              "ticks": ""
             }
            },
            "type": "scattergeo"
           }
          ],
          "scattergl": [
           {
            "marker": {
             "colorbar": {
              "outlinewidth": 0,
              "ticks": ""
             }
            },
            "type": "scattergl"
           }
          ],
          "scattermapbox": [
           {
            "marker": {
             "colorbar": {
              "outlinewidth": 0,
              "ticks": ""
             }
            },
            "type": "scattermapbox"
           }
          ],
          "scatterpolar": [
           {
            "marker": {
             "colorbar": {
              "outlinewidth": 0,
              "ticks": ""
             }
            },
            "type": "scatterpolar"
           }
          ],
          "scatterpolargl": [
           {
            "marker": {
             "colorbar": {
              "outlinewidth": 0,
              "ticks": ""
             }
            },
            "type": "scatterpolargl"
           }
          ],
          "scatterternary": [
           {
            "marker": {
             "colorbar": {
              "outlinewidth": 0,
              "ticks": ""
             }
            },
            "type": "scatterternary"
           }
          ],
          "surface": [
           {
            "colorbar": {
             "outlinewidth": 0,
             "ticks": ""
            },
            "colorscale": [
             [
              0,
              "#0d0887"
             ],
             [
              0.1111111111111111,
              "#46039f"
             ],
             [
              0.2222222222222222,
              "#7201a8"
             ],
             [
              0.3333333333333333,
              "#9c179e"
             ],
             [
              0.4444444444444444,
              "#bd3786"
             ],
             [
              0.5555555555555556,
              "#d8576b"
             ],
             [
              0.6666666666666666,
              "#ed7953"
             ],
             [
              0.7777777777777778,
              "#fb9f3a"
             ],
             [
              0.8888888888888888,
              "#fdca26"
             ],
             [
              1,
              "#f0f921"
             ]
            ],
            "type": "surface"
           }
          ],
          "table": [
           {
            "cells": {
             "fill": {
              "color": "#EBF0F8"
             },
             "line": {
              "color": "white"
             }
            },
            "header": {
             "fill": {
              "color": "#C8D4E3"
             },
             "line": {
              "color": "white"
             }
            },
            "type": "table"
           }
          ]
         },
         "layout": {
          "annotationdefaults": {
           "arrowcolor": "#2a3f5f",
           "arrowhead": 0,
           "arrowwidth": 1
          },
          "autotypenumbers": "strict",
          "coloraxis": {
           "colorbar": {
            "outlinewidth": 0,
            "ticks": ""
           }
          },
          "colorscale": {
           "diverging": [
            [
             0,
             "#8e0152"
            ],
            [
             0.1,
             "#c51b7d"
            ],
            [
             0.2,
             "#de77ae"
            ],
            [
             0.3,
             "#f1b6da"
            ],
            [
             0.4,
             "#fde0ef"
            ],
            [
             0.5,
             "#f7f7f7"
            ],
            [
             0.6,
             "#e6f5d0"
            ],
            [
             0.7,
             "#b8e186"
            ],
            [
             0.8,
             "#7fbc41"
            ],
            [
             0.9,
             "#4d9221"
            ],
            [
             1,
             "#276419"
            ]
           ],
           "sequential": [
            [
             0,
             "#0d0887"
            ],
            [
             0.1111111111111111,
             "#46039f"
            ],
            [
             0.2222222222222222,
             "#7201a8"
            ],
            [
             0.3333333333333333,
             "#9c179e"
            ],
            [
             0.4444444444444444,
             "#bd3786"
            ],
            [
             0.5555555555555556,
             "#d8576b"
            ],
            [
             0.6666666666666666,
             "#ed7953"
            ],
            [
             0.7777777777777778,
             "#fb9f3a"
            ],
            [
             0.8888888888888888,
             "#fdca26"
            ],
            [
             1,
             "#f0f921"
            ]
           ],
           "sequentialminus": [
            [
             0,
             "#0d0887"
            ],
            [
             0.1111111111111111,
             "#46039f"
            ],
            [
             0.2222222222222222,
             "#7201a8"
            ],
            [
             0.3333333333333333,
             "#9c179e"
            ],
            [
             0.4444444444444444,
             "#bd3786"
            ],
            [
             0.5555555555555556,
             "#d8576b"
            ],
            [
             0.6666666666666666,
             "#ed7953"
            ],
            [
             0.7777777777777778,
             "#fb9f3a"
            ],
            [
             0.8888888888888888,
             "#fdca26"
            ],
            [
             1,
             "#f0f921"
            ]
           ]
          },
          "colorway": [
           "#636efa",
           "#EF553B",
           "#00cc96",
           "#ab63fa",
           "#FFA15A",
           "#19d3f3",
           "#FF6692",
           "#B6E880",
           "#FF97FF",
           "#FECB52"
          ],
          "font": {
           "color": "#2a3f5f"
          },
          "geo": {
           "bgcolor": "white",
           "lakecolor": "white",
           "landcolor": "#E5ECF6",
           "showlakes": true,
           "showland": true,
           "subunitcolor": "white"
          },
          "hoverlabel": {
           "align": "left"
          },
          "hovermode": "closest",
          "mapbox": {
           "style": "light"
          },
          "paper_bgcolor": "white",
          "plot_bgcolor": "#E5ECF6",
          "polar": {
           "angularaxis": {
            "gridcolor": "white",
            "linecolor": "white",
            "ticks": ""
           },
           "bgcolor": "#E5ECF6",
           "radialaxis": {
            "gridcolor": "white",
            "linecolor": "white",
            "ticks": ""
           }
          },
          "scene": {
           "xaxis": {
            "backgroundcolor": "#E5ECF6",
            "gridcolor": "white",
            "gridwidth": 2,
            "linecolor": "white",
            "showbackground": true,
            "ticks": "",
            "zerolinecolor": "white"
           },
           "yaxis": {
            "backgroundcolor": "#E5ECF6",
            "gridcolor": "white",
            "gridwidth": 2,
            "linecolor": "white",
            "showbackground": true,
            "ticks": "",
            "zerolinecolor": "white"
           },
           "zaxis": {
            "backgroundcolor": "#E5ECF6",
            "gridcolor": "white",
            "gridwidth": 2,
            "linecolor": "white",
            "showbackground": true,
            "ticks": "",
            "zerolinecolor": "white"
           }
          },
          "shapedefaults": {
           "line": {
            "color": "#2a3f5f"
           }
          },
          "ternary": {
           "aaxis": {
            "gridcolor": "white",
            "linecolor": "white",
            "ticks": ""
           },
           "baxis": {
            "gridcolor": "white",
            "linecolor": "white",
            "ticks": ""
           },
           "bgcolor": "#E5ECF6",
           "caxis": {
            "gridcolor": "white",
            "linecolor": "white",
            "ticks": ""
           }
          },
          "title": {
           "x": 0.05
          },
          "xaxis": {
           "automargin": true,
           "gridcolor": "white",
           "linecolor": "white",
           "ticks": "",
           "title": {
            "standoff": 15
           },
           "zerolinecolor": "white",
           "zerolinewidth": 2
          },
          "yaxis": {
           "automargin": true,
           "gridcolor": "white",
           "linecolor": "white",
           "ticks": "",
           "title": {
            "standoff": 15
           },
           "zerolinecolor": "white",
           "zerolinewidth": 2
          }
         }
        }
       }
      }
     },
     "metadata": {},
     "output_type": "display_data"
    }
   ],
   "source": [
    "import plotly.graph_objects as go\n",
    "import pandas as pd\n",
    "\n",
    "fig = go.Figure(data=[go.Table(\n",
    "    header=dict(values=list(final.columns),\n",
    "                fill_color='paleturquoise',\n",
    "                align='left'),\n",
    "    cells=dict(values=[final.name, final.category],\n",
    "               fill_color='lavender',\n",
    "               align='left'))\n",
    "])\n",
    "\n",
    "fig.show()"
   ]
  },
  {
   "cell_type": "code",
   "execution_count": 25,
   "metadata": {},
   "outputs": [],
   "source": [
    "import numpy as np\n",
    "import pandas as pd\n",
    "import pickle\n",
    "from sklearn.metrics.pairwise import cosine_similarity, manhattan_distances, euclidean_distances\n",
    "import sys\n",
    "sys.path.insert(1, '/Users/piyush/Desktop/dsml_Portfolio/podcast/final_push')\n",
    "from config import PODCASTS_DATABASE_PATH_RAW, USER_REVIEWS_DATABASE_PATH_RAW, PODCASTS_DATABASE_PATH_PROCESSED, USER_REVIEWS_DATABASE_PATH_PROCESSED\n",
    "\n",
    "from preprocessing import get_preprocessed_text\n",
    "from model import model_tfidf\n",
    "from utils import get_recommendation_tfidf\n",
    "from utils import get_cosine_similarity_podcasts, get_manhattan_distance_products, get_euclidean_distances_products\n",
    "\n",
    "# Loading data \n",
    "df_podcasts = pd.read_csv(PODCASTS_DATABASE_PATH_RAW,header=None)\n",
    "#df_users = pd.read_csv(USER_REVIEWS_DATABASE_PATH_RAW,header=None)\n",
    "\n",
    "columns_pod = ['id','name','url','studio','category','episode_count','avg_rating','total_ratings','description']\n",
    "#columns_users = ['id','podcasts_id','username','review_title','review','rating','date']\n",
    "\n",
    "df_podcasts.columns = columns_pod"
   ]
  },
  {
   "cell_type": "code",
   "execution_count": 26,
   "metadata": {},
   "outputs": [],
   "source": [
    "tfidf_embeddings_matrix = pickle.load(open('/Users/piyush/Desktop/dsml_Portfolio/podcast/final_push/models/tfidf_embeddings_matrix.pkl', 'rb'))\n",
    "similarity_matrix = pickle.load(open('/Users/piyush/Desktop/dsml_Portfolio/podcast/final_push/models/similarity_matrix.pkl', 'rb'))"
   ]
  },
  {
   "cell_type": "code",
   "execution_count": 27,
   "metadata": {},
   "outputs": [],
   "source": [
    "podcast_id = \"PBD Podcast\"\n",
    "recommendations = get_recommendation_tfidf(podcast_id, df_podcasts,'cosine',tfidf_embeddings_matrix,n=10)\n"
   ]
  },
  {
   "cell_type": "code",
   "execution_count": 28,
   "metadata": {},
   "outputs": [],
   "source": [
    "names = []\n",
    "for i in recommendations:\n",
    "    names.append(i['value'])\n",
    "\n",
    "podcasts_recommendations = df_podcasts.set_index('name').loc[names].reset_index()[['name','category']]"
   ]
  },
  {
   "cell_type": "code",
   "execution_count": 1,
   "metadata": {},
   "outputs": [
    {
     "ename": "NameError",
     "evalue": "name 'podcasts_recommendations' is not defined",
     "output_type": "error",
     "traceback": [
      "\u001b[0;31m---------------------------------------------------------------------------\u001b[0m",
      "\u001b[0;31mNameError\u001b[0m                                 Traceback (most recent call last)",
      "Cell \u001b[0;32mIn[1], line 4\u001b[0m\n\u001b[1;32m      1\u001b[0m \u001b[39mimport\u001b[39;00m \u001b[39mplotly\u001b[39;00m\u001b[39m.\u001b[39;00m\u001b[39mgraph_objects\u001b[39;00m \u001b[39mas\u001b[39;00m \u001b[39mgo\u001b[39;00m\n\u001b[1;32m      2\u001b[0m \u001b[39mimport\u001b[39;00m \u001b[39mpandas\u001b[39;00m \u001b[39mas\u001b[39;00m \u001b[39mpd\u001b[39;00m\n\u001b[1;32m      3\u001b[0m fig \u001b[39m=\u001b[39m go\u001b[39m.\u001b[39mFigure(data\u001b[39m=\u001b[39m[go\u001b[39m.\u001b[39mTable(\n\u001b[0;32m----> 4\u001b[0m     header\u001b[39m=\u001b[39m\u001b[39mdict\u001b[39m(values\u001b[39m=\u001b[39m\u001b[39mlist\u001b[39m(podcasts_recommendations\u001b[39m.\u001b[39mcolumns),\n\u001b[1;32m      5\u001b[0m                 fill_color\u001b[39m=\u001b[39m\u001b[39m'\u001b[39m\u001b[39mpaleturquoise\u001b[39m\u001b[39m'\u001b[39m,\n\u001b[1;32m      6\u001b[0m                 align\u001b[39m=\u001b[39m\u001b[39m'\u001b[39m\u001b[39mleft\u001b[39m\u001b[39m'\u001b[39m),\n\u001b[1;32m      7\u001b[0m     cells\u001b[39m=\u001b[39m\u001b[39mdict\u001b[39m(values\u001b[39m=\u001b[39m[podcasts_recommendations\u001b[39m.\u001b[39mname, podcasts_recommendations\u001b[39m.\u001b[39mcategory],\n\u001b[1;32m      8\u001b[0m                fill_color\u001b[39m=\u001b[39m\u001b[39m'\u001b[39m\u001b[39mlavender\u001b[39m\u001b[39m'\u001b[39m,\n\u001b[1;32m      9\u001b[0m                align\u001b[39m=\u001b[39m\u001b[39m'\u001b[39m\u001b[39mleft\u001b[39m\u001b[39m'\u001b[39m))\n\u001b[1;32m     10\u001b[0m ])\n\u001b[1;32m     11\u001b[0m fig\u001b[39m.\u001b[39mshow()\n",
      "\u001b[0;31mNameError\u001b[0m: name 'podcasts_recommendations' is not defined"
     ]
    }
   ],
   "source": [
    "import plotly.graph_objects as go\n",
    "import pandas as pd\n",
    "fig = go.Figure(data=[go.Table(\n",
    "    header=dict(values=list(podcasts_recommendations.columns),\n",
    "                fill_color='paleturquoise',\n",
    "                align='left'),\n",
    "    cells=dict(values=[podcasts_recommendations.name, podcasts_recommendations.category],\n",
    "               fill_color='lavender',\n",
    "               align='left'))\n",
    "])\n",
    "fig.show()\n"
   ]
  },
  {
   "cell_type": "code",
   "execution_count": 2,
   "metadata": {},
   "outputs": [],
   "source": [
    "import numpy as np\n",
    "import pandas as pd\n",
    "import pickle\n",
    "from sklearn.metrics.pairwise import cosine_similarity, manhattan_distances, euclidean_distances\n",
    "import sys\n",
    "sys.path.insert(1, '/Users/piyush/Desktop/dsml_Portfolio/podcast/final_push')\n",
    "from config import PODCASTS_DATABASE_PATH_RAW, USER_REVIEWS_DATABASE_PATH_RAW, PODCASTS_DATABASE_PATH_PROCESSED, USER_REVIEWS_DATABASE_PATH_PROCESSED\n",
    "\n",
    "from preprocessing import get_preprocessed_text\n",
    "#from model import model_tfidf\n",
    "from utils import get_recommendation_tfidf\n",
    "from utils import get_cosine_similarity_podcasts, get_manhattan_distance_products, get_euclidean_distances_products\n",
    "\n",
    "# Loading data \n",
    "df_podcasts = pd.read_csv(PODCASTS_DATABASE_PATH_RAW,header=None)\n",
    "#df_users = pd.read_csv(USER_REVIEWS_DATABASE_PATH_RAW,header=None)\n",
    "\n",
    "columns_pod = ['id','name','url','studio','category','episode_count','avg_rating','total_ratings','description']\n",
    "#columns_users = ['id','podcasts_id','username','review_title','review','rating','date']\n",
    "\n",
    "df_podcasts.columns = columns_pod"
   ]
  },
  {
   "cell_type": "code",
   "execution_count": 3,
   "metadata": {},
   "outputs": [],
   "source": [
    "\n",
    "tfidf_embeddings_matrix = pickle.load(open('/Users/piyush/Desktop/dsml_Portfolio/podcast/final_push/models/tfidf_embeddings_matrix.pkl', 'rb'))\n",
    "similarity_matrix = pickle.load(open('/Users/piyush/Desktop/dsml_Portfolio/podcast/final_push/models/similarity_matrix.pkl', 'rb'))\n"
   ]
  },
  {
   "cell_type": "code",
   "execution_count": 4,
   "metadata": {},
   "outputs": [],
   "source": [
    "podcast_id = \"PBD Podcast\"\n",
    "recommendations = get_recommendation_tfidf(podcast_id, df_podcasts,'cosine',tfidf_embeddings_matrix,n=10)\n",
    "\n",
    "names = []\n",
    "for i in recommendations:\n",
    "    names.append(i['value'])"
   ]
  },
  {
   "cell_type": "code",
   "execution_count": 5,
   "metadata": {},
   "outputs": [],
   "source": [
    "podcasts_recommendations = df_podcasts.set_index('name').loc[names].reset_index()[['name','category']]"
   ]
  },
  {
   "cell_type": "code",
   "execution_count": 6,
   "metadata": {},
   "outputs": [
    {
     "data": {
      "application/vnd.plotly.v1+json": {
       "config": {
        "plotlyServerURL": "https://plot.ly"
       },
       "data": [
        {
         "cells": {
          "align": "left",
          "fill": {
           "color": "lavender"
          },
          "values": [
           [
            "Equity",
            "Motivational and Inspirational",
            "6 Figure Influencer",
            "The $100 MBA Show",
            "Joe Rogan Experience Review podcast",
            "Jocko Podcast",
            "The Brown Girls Guide to Politics",
            "Quite Frankly",
            "Jiggle Physics",
            "Discovering Truth with Dan Duval"
           ],
           [
            "Business",
            "Business",
            "Business",
            "Business",
            "Society & Culture",
            "Business",
            "News",
            "Society & Culture",
            "Leisure",
            "Religion & Spirituality"
           ]
          ]
         },
         "header": {
          "align": "left",
          "fill": {
           "color": "paleturquoise"
          },
          "values": [
           "name",
           "category"
          ]
         },
         "type": "table"
        }
       ],
       "layout": {
        "template": {
         "data": {
          "bar": [
           {
            "error_x": {
             "color": "#2a3f5f"
            },
            "error_y": {
             "color": "#2a3f5f"
            },
            "marker": {
             "line": {
              "color": "#E5ECF6",
              "width": 0.5
             },
             "pattern": {
              "fillmode": "overlay",
              "size": 10,
              "solidity": 0.2
             }
            },
            "type": "bar"
           }
          ],
          "barpolar": [
           {
            "marker": {
             "line": {
              "color": "#E5ECF6",
              "width": 0.5
             },
             "pattern": {
              "fillmode": "overlay",
              "size": 10,
              "solidity": 0.2
             }
            },
            "type": "barpolar"
           }
          ],
          "carpet": [
           {
            "aaxis": {
             "endlinecolor": "#2a3f5f",
             "gridcolor": "white",
             "linecolor": "white",
             "minorgridcolor": "white",
             "startlinecolor": "#2a3f5f"
            },
            "baxis": {
             "endlinecolor": "#2a3f5f",
             "gridcolor": "white",
             "linecolor": "white",
             "minorgridcolor": "white",
             "startlinecolor": "#2a3f5f"
            },
            "type": "carpet"
           }
          ],
          "choropleth": [
           {
            "colorbar": {
             "outlinewidth": 0,
             "ticks": ""
            },
            "type": "choropleth"
           }
          ],
          "contour": [
           {
            "colorbar": {
             "outlinewidth": 0,
             "ticks": ""
            },
            "colorscale": [
             [
              0,
              "#0d0887"
             ],
             [
              0.1111111111111111,
              "#46039f"
             ],
             [
              0.2222222222222222,
              "#7201a8"
             ],
             [
              0.3333333333333333,
              "#9c179e"
             ],
             [
              0.4444444444444444,
              "#bd3786"
             ],
             [
              0.5555555555555556,
              "#d8576b"
             ],
             [
              0.6666666666666666,
              "#ed7953"
             ],
             [
              0.7777777777777778,
              "#fb9f3a"
             ],
             [
              0.8888888888888888,
              "#fdca26"
             ],
             [
              1,
              "#f0f921"
             ]
            ],
            "type": "contour"
           }
          ],
          "contourcarpet": [
           {
            "colorbar": {
             "outlinewidth": 0,
             "ticks": ""
            },
            "type": "contourcarpet"
           }
          ],
          "heatmap": [
           {
            "colorbar": {
             "outlinewidth": 0,
             "ticks": ""
            },
            "colorscale": [
             [
              0,
              "#0d0887"
             ],
             [
              0.1111111111111111,
              "#46039f"
             ],
             [
              0.2222222222222222,
              "#7201a8"
             ],
             [
              0.3333333333333333,
              "#9c179e"
             ],
             [
              0.4444444444444444,
              "#bd3786"
             ],
             [
              0.5555555555555556,
              "#d8576b"
             ],
             [
              0.6666666666666666,
              "#ed7953"
             ],
             [
              0.7777777777777778,
              "#fb9f3a"
             ],
             [
              0.8888888888888888,
              "#fdca26"
             ],
             [
              1,
              "#f0f921"
             ]
            ],
            "type": "heatmap"
           }
          ],
          "heatmapgl": [
           {
            "colorbar": {
             "outlinewidth": 0,
             "ticks": ""
            },
            "colorscale": [
             [
              0,
              "#0d0887"
             ],
             [
              0.1111111111111111,
              "#46039f"
             ],
             [
              0.2222222222222222,
              "#7201a8"
             ],
             [
              0.3333333333333333,
              "#9c179e"
             ],
             [
              0.4444444444444444,
              "#bd3786"
             ],
             [
              0.5555555555555556,
              "#d8576b"
             ],
             [
              0.6666666666666666,
              "#ed7953"
             ],
             [
              0.7777777777777778,
              "#fb9f3a"
             ],
             [
              0.8888888888888888,
              "#fdca26"
             ],
             [
              1,
              "#f0f921"
             ]
            ],
            "type": "heatmapgl"
           }
          ],
          "histogram": [
           {
            "marker": {
             "pattern": {
              "fillmode": "overlay",
              "size": 10,
              "solidity": 0.2
             }
            },
            "type": "histogram"
           }
          ],
          "histogram2d": [
           {
            "colorbar": {
             "outlinewidth": 0,
             "ticks": ""
            },
            "colorscale": [
             [
              0,
              "#0d0887"
             ],
             [
              0.1111111111111111,
              "#46039f"
             ],
             [
              0.2222222222222222,
              "#7201a8"
             ],
             [
              0.3333333333333333,
              "#9c179e"
             ],
             [
              0.4444444444444444,
              "#bd3786"
             ],
             [
              0.5555555555555556,
              "#d8576b"
             ],
             [
              0.6666666666666666,
              "#ed7953"
             ],
             [
              0.7777777777777778,
              "#fb9f3a"
             ],
             [
              0.8888888888888888,
              "#fdca26"
             ],
             [
              1,
              "#f0f921"
             ]
            ],
            "type": "histogram2d"
           }
          ],
          "histogram2dcontour": [
           {
            "colorbar": {
             "outlinewidth": 0,
             "ticks": ""
            },
            "colorscale": [
             [
              0,
              "#0d0887"
             ],
             [
              0.1111111111111111,
              "#46039f"
             ],
             [
              0.2222222222222222,
              "#7201a8"
             ],
             [
              0.3333333333333333,
              "#9c179e"
             ],
             [
              0.4444444444444444,
              "#bd3786"
             ],
             [
              0.5555555555555556,
              "#d8576b"
             ],
             [
              0.6666666666666666,
              "#ed7953"
             ],
             [
              0.7777777777777778,
              "#fb9f3a"
             ],
             [
              0.8888888888888888,
              "#fdca26"
             ],
             [
              1,
              "#f0f921"
             ]
            ],
            "type": "histogram2dcontour"
           }
          ],
          "mesh3d": [
           {
            "colorbar": {
             "outlinewidth": 0,
             "ticks": ""
            },
            "type": "mesh3d"
           }
          ],
          "parcoords": [
           {
            "line": {
             "colorbar": {
              "outlinewidth": 0,
              "ticks": ""
             }
            },
            "type": "parcoords"
           }
          ],
          "pie": [
           {
            "automargin": true,
            "type": "pie"
           }
          ],
          "scatter": [
           {
            "fillpattern": {
             "fillmode": "overlay",
             "size": 10,
             "solidity": 0.2
            },
            "type": "scatter"
           }
          ],
          "scatter3d": [
           {
            "line": {
             "colorbar": {
              "outlinewidth": 0,
              "ticks": ""
             }
            },
            "marker": {
             "colorbar": {
              "outlinewidth": 0,
              "ticks": ""
             }
            },
            "type": "scatter3d"
           }
          ],
          "scattercarpet": [
           {
            "marker": {
             "colorbar": {
              "outlinewidth": 0,
              "ticks": ""
             }
            },
            "type": "scattercarpet"
           }
          ],
          "scattergeo": [
           {
            "marker": {
             "colorbar": {
              "outlinewidth": 0,
              "ticks": ""
             }
            },
            "type": "scattergeo"
           }
          ],
          "scattergl": [
           {
            "marker": {
             "colorbar": {
              "outlinewidth": 0,
              "ticks": ""
             }
            },
            "type": "scattergl"
           }
          ],
          "scattermapbox": [
           {
            "marker": {
             "colorbar": {
              "outlinewidth": 0,
              "ticks": ""
             }
            },
            "type": "scattermapbox"
           }
          ],
          "scatterpolar": [
           {
            "marker": {
             "colorbar": {
              "outlinewidth": 0,
              "ticks": ""
             }
            },
            "type": "scatterpolar"
           }
          ],
          "scatterpolargl": [
           {
            "marker": {
             "colorbar": {
              "outlinewidth": 0,
              "ticks": ""
             }
            },
            "type": "scatterpolargl"
           }
          ],
          "scatterternary": [
           {
            "marker": {
             "colorbar": {
              "outlinewidth": 0,
              "ticks": ""
             }
            },
            "type": "scatterternary"
           }
          ],
          "surface": [
           {
            "colorbar": {
             "outlinewidth": 0,
             "ticks": ""
            },
            "colorscale": [
             [
              0,
              "#0d0887"
             ],
             [
              0.1111111111111111,
              "#46039f"
             ],
             [
              0.2222222222222222,
              "#7201a8"
             ],
             [
              0.3333333333333333,
              "#9c179e"
             ],
             [
              0.4444444444444444,
              "#bd3786"
             ],
             [
              0.5555555555555556,
              "#d8576b"
             ],
             [
              0.6666666666666666,
              "#ed7953"
             ],
             [
              0.7777777777777778,
              "#fb9f3a"
             ],
             [
              0.8888888888888888,
              "#fdca26"
             ],
             [
              1,
              "#f0f921"
             ]
            ],
            "type": "surface"
           }
          ],
          "table": [
           {
            "cells": {
             "fill": {
              "color": "#EBF0F8"
             },
             "line": {
              "color": "white"
             }
            },
            "header": {
             "fill": {
              "color": "#C8D4E3"
             },
             "line": {
              "color": "white"
             }
            },
            "type": "table"
           }
          ]
         },
         "layout": {
          "annotationdefaults": {
           "arrowcolor": "#2a3f5f",
           "arrowhead": 0,
           "arrowwidth": 1
          },
          "autotypenumbers": "strict",
          "coloraxis": {
           "colorbar": {
            "outlinewidth": 0,
            "ticks": ""
           }
          },
          "colorscale": {
           "diverging": [
            [
             0,
             "#8e0152"
            ],
            [
             0.1,
             "#c51b7d"
            ],
            [
             0.2,
             "#de77ae"
            ],
            [
             0.3,
             "#f1b6da"
            ],
            [
             0.4,
             "#fde0ef"
            ],
            [
             0.5,
             "#f7f7f7"
            ],
            [
             0.6,
             "#e6f5d0"
            ],
            [
             0.7,
             "#b8e186"
            ],
            [
             0.8,
             "#7fbc41"
            ],
            [
             0.9,
             "#4d9221"
            ],
            [
             1,
             "#276419"
            ]
           ],
           "sequential": [
            [
             0,
             "#0d0887"
            ],
            [
             0.1111111111111111,
             "#46039f"
            ],
            [
             0.2222222222222222,
             "#7201a8"
            ],
            [
             0.3333333333333333,
             "#9c179e"
            ],
            [
             0.4444444444444444,
             "#bd3786"
            ],
            [
             0.5555555555555556,
             "#d8576b"
            ],
            [
             0.6666666666666666,
             "#ed7953"
            ],
            [
             0.7777777777777778,
             "#fb9f3a"
            ],
            [
             0.8888888888888888,
             "#fdca26"
            ],
            [
             1,
             "#f0f921"
            ]
           ],
           "sequentialminus": [
            [
             0,
             "#0d0887"
            ],
            [
             0.1111111111111111,
             "#46039f"
            ],
            [
             0.2222222222222222,
             "#7201a8"
            ],
            [
             0.3333333333333333,
             "#9c179e"
            ],
            [
             0.4444444444444444,
             "#bd3786"
            ],
            [
             0.5555555555555556,
             "#d8576b"
            ],
            [
             0.6666666666666666,
             "#ed7953"
            ],
            [
             0.7777777777777778,
             "#fb9f3a"
            ],
            [
             0.8888888888888888,
             "#fdca26"
            ],
            [
             1,
             "#f0f921"
            ]
           ]
          },
          "colorway": [
           "#636efa",
           "#EF553B",
           "#00cc96",
           "#ab63fa",
           "#FFA15A",
           "#19d3f3",
           "#FF6692",
           "#B6E880",
           "#FF97FF",
           "#FECB52"
          ],
          "font": {
           "color": "#2a3f5f"
          },
          "geo": {
           "bgcolor": "white",
           "lakecolor": "white",
           "landcolor": "#E5ECF6",
           "showlakes": true,
           "showland": true,
           "subunitcolor": "white"
          },
          "hoverlabel": {
           "align": "left"
          },
          "hovermode": "closest",
          "mapbox": {
           "style": "light"
          },
          "paper_bgcolor": "white",
          "plot_bgcolor": "#E5ECF6",
          "polar": {
           "angularaxis": {
            "gridcolor": "white",
            "linecolor": "white",
            "ticks": ""
           },
           "bgcolor": "#E5ECF6",
           "radialaxis": {
            "gridcolor": "white",
            "linecolor": "white",
            "ticks": ""
           }
          },
          "scene": {
           "xaxis": {
            "backgroundcolor": "#E5ECF6",
            "gridcolor": "white",
            "gridwidth": 2,
            "linecolor": "white",
            "showbackground": true,
            "ticks": "",
            "zerolinecolor": "white"
           },
           "yaxis": {
            "backgroundcolor": "#E5ECF6",
            "gridcolor": "white",
            "gridwidth": 2,
            "linecolor": "white",
            "showbackground": true,
            "ticks": "",
            "zerolinecolor": "white"
           },
           "zaxis": {
            "backgroundcolor": "#E5ECF6",
            "gridcolor": "white",
            "gridwidth": 2,
            "linecolor": "white",
            "showbackground": true,
            "ticks": "",
            "zerolinecolor": "white"
           }
          },
          "shapedefaults": {
           "line": {
            "color": "#2a3f5f"
           }
          },
          "ternary": {
           "aaxis": {
            "gridcolor": "white",
            "linecolor": "white",
            "ticks": ""
           },
           "baxis": {
            "gridcolor": "white",
            "linecolor": "white",
            "ticks": ""
           },
           "bgcolor": "#E5ECF6",
           "caxis": {
            "gridcolor": "white",
            "linecolor": "white",
            "ticks": ""
           }
          },
          "title": {
           "x": 0.05
          },
          "xaxis": {
           "automargin": true,
           "gridcolor": "white",
           "linecolor": "white",
           "ticks": "",
           "title": {
            "standoff": 15
           },
           "zerolinecolor": "white",
           "zerolinewidth": 2
          },
          "yaxis": {
           "automargin": true,
           "gridcolor": "white",
           "linecolor": "white",
           "ticks": "",
           "title": {
            "standoff": 15
           },
           "zerolinecolor": "white",
           "zerolinewidth": 2
          }
         }
        }
       }
      }
     },
     "metadata": {},
     "output_type": "display_data"
    }
   ],
   "source": [
    "\n",
    "import plotly.graph_objects as go\n",
    "import pandas as pd\n",
    "fig = go.Figure(data=[go.Table(\n",
    "    header=dict(values=list(podcasts_recommendations.columns),\n",
    "                fill_color='paleturquoise',\n",
    "                align='left'),\n",
    "    cells=dict(values=[podcasts_recommendations.name, podcasts_recommendations.category],\n",
    "               fill_color='lavender',\n",
    "               align='left'))\n",
    "])\n",
    "fig.show()"
   ]
  },
  {
   "cell_type": "code",
   "execution_count": 10,
   "metadata": {},
   "outputs": [],
   "source": [
    "import numpy as np\n",
    "import pandas as pd\n",
    "from tqdm import tqdm\n",
    "import pickle\n",
    "from sklearn.metrics.pairwise import cosine_similarity, manhattan_distances, euclidean_distances\n",
    "import sys\n",
    "sys.path.insert(1, '/Users/piyush/Desktop/dsml_Portfolio/podcast/final_push')\n",
    "from config import PODCASTS_DATABASE_PATH_RAW, USER_REVIEWS_DATABASE_PATH_RAW, PODCASTS_DATABASE_PATH_PROCESSED, USER_REVIEWS_DATABASE_PATH_PROCESSED\n",
    "import sentence_transformers\n",
    "from preprocessing import get_preprocessed_text\n",
    "from utils import get_recommendation_tfidf\n",
    "from utils import get_cosine_similarity_podcasts, get_manhattan_distance_products, get_euclidean_distances_products\n",
    "\n",
    "# Loading data \n",
    "df_podcasts = pd.read_csv('/Users/piyush/Desktop/dsml_Portfolio/podcast/final_push/data/processed/podcasts.csv')\n",
    "minilm_embeddings_matrix = pickle.load(open('/Users/piyush/Desktop/dsml_Portfolio/podcast/final_push/models/minilm_embeddings_matrix.pkl', 'rb'))\n",
    "\n"
   ]
  },
  {
   "cell_type": "code",
   "execution_count": 11,
   "metadata": {},
   "outputs": [],
   "source": [
    "podcast_keywords_from_user = 'global warming'\n",
    "\n",
    "model_miniLM = sentence_transformers.SentenceTransformer('all-MiniLM-L6-v2')\n",
    "input_embedding = model_miniLM.encode(podcast_keywords_from_user).reshape(1,-1)\n"
   ]
  },
  {
   "cell_type": "code",
   "execution_count": 12,
   "metadata": {},
   "outputs": [],
   "source": [
    "scores = cosine_similarity(minilm_embeddings_matrix,input_embedding)\n",
    "\n",
    "result = list(enumerate(scores))\n",
    "\n",
    "sorted_result = sorted(result,key=lambda x:x[1],reverse=True)[0:10+1]"
   ]
  },
  {
   "cell_type": "code",
   "execution_count": 13,
   "metadata": {},
   "outputs": [
    {
     "name": "stdout",
     "output_type": "stream",
     "text": [
      "[{'value': 'The Carbon Copy', 'score': array([0.52], dtype=float32)}, {'value': 'A Matter of Degrees', 'score': array([0.5], dtype=float32)}, {'value': 'Catalyst with Shayle Kann', 'score': array([0.43], dtype=float32)}, {'value': 'Outside/In', 'score': array([0.41], dtype=float32)}, {'value': 'Ones and Tooze', 'score': array([0.38], dtype=float32)}, {'value': 'Columbia Energy Exchange', 'score': array([0.38], dtype=float32)}, {'value': 'Global Insider', 'score': array([0.37], dtype=float32)}, {'value': 'Future Perfect', 'score': array([0.37], dtype=float32)}, {'value': 'BBC Inside Science', 'score': array([0.35], dtype=float32)}, {'value': 'Switched On', 'score': array([0.35], dtype=float32)}, {'value': 'Redefining Energy', 'score': array([0.35], dtype=float32)}]\n"
     ]
    }
   ],
   "source": [
    "similar_products =  [{'value': df_podcasts.iloc[x[0]]['name'], 'score' : np.round(x[1], 2)} for x in sorted_result]\n",
    "\n",
    "print(similar_products)"
   ]
  },
  {
   "cell_type": "code",
   "execution_count": 14,
   "metadata": {},
   "outputs": [
    {
     "data": {
      "text/plain": [
       "[{'value': 'The Carbon Copy', 'score': array([0.52], dtype=float32)},\n",
       " {'value': 'A Matter of Degrees', 'score': array([0.5], dtype=float32)},\n",
       " {'value': 'Catalyst with Shayle Kann', 'score': array([0.43], dtype=float32)},\n",
       " {'value': 'Outside/In', 'score': array([0.41], dtype=float32)},\n",
       " {'value': 'Ones and Tooze', 'score': array([0.38], dtype=float32)},\n",
       " {'value': 'Columbia Energy Exchange', 'score': array([0.38], dtype=float32)},\n",
       " {'value': 'Global Insider', 'score': array([0.37], dtype=float32)},\n",
       " {'value': 'Future Perfect', 'score': array([0.37], dtype=float32)},\n",
       " {'value': 'BBC Inside Science', 'score': array([0.35], dtype=float32)},\n",
       " {'value': 'Switched On', 'score': array([0.35], dtype=float32)},\n",
       " {'value': 'Redefining Energy', 'score': array([0.35], dtype=float32)}]"
      ]
     },
     "execution_count": 14,
     "metadata": {},
     "output_type": "execute_result"
    }
   ],
   "source": [
    "similar_products"
   ]
  },
  {
   "cell_type": "code",
   "execution_count": 16,
   "metadata": {},
   "outputs": [
    {
     "data": {
      "application/vnd.plotly.v1+json": {
       "config": {
        "plotlyServerURL": "https://plot.ly"
       },
       "data": [
        {
         "cells": {
          "align": "left",
          "fill": {
           "color": "lavender"
          },
          "values": [
           [
            "The Carbon Copy",
            "A Matter of Degrees",
            "Catalyst with Shayle Kann",
            "Outside/In",
            "Ones and Tooze",
            "Columbia Energy Exchange",
            "Global Insider",
            "Future Perfect",
            "BBC Inside Science",
            "Switched On",
            "Redefining Energy"
           ],
           [
            "News",
            "Government",
            "Technology",
            "Science",
            "Business",
            "News",
            "News",
            "Society & Culture",
            "Science",
            "Business",
            "Business"
           ]
          ]
         },
         "header": {
          "align": "left",
          "fill": {
           "color": "paleturquoise"
          },
          "values": [
           "name",
           "category"
          ]
         },
         "type": "table"
        }
       ],
       "layout": {
        "template": {
         "data": {
          "bar": [
           {
            "error_x": {
             "color": "#2a3f5f"
            },
            "error_y": {
             "color": "#2a3f5f"
            },
            "marker": {
             "line": {
              "color": "#E5ECF6",
              "width": 0.5
             },
             "pattern": {
              "fillmode": "overlay",
              "size": 10,
              "solidity": 0.2
             }
            },
            "type": "bar"
           }
          ],
          "barpolar": [
           {
            "marker": {
             "line": {
              "color": "#E5ECF6",
              "width": 0.5
             },
             "pattern": {
              "fillmode": "overlay",
              "size": 10,
              "solidity": 0.2
             }
            },
            "type": "barpolar"
           }
          ],
          "carpet": [
           {
            "aaxis": {
             "endlinecolor": "#2a3f5f",
             "gridcolor": "white",
             "linecolor": "white",
             "minorgridcolor": "white",
             "startlinecolor": "#2a3f5f"
            },
            "baxis": {
             "endlinecolor": "#2a3f5f",
             "gridcolor": "white",
             "linecolor": "white",
             "minorgridcolor": "white",
             "startlinecolor": "#2a3f5f"
            },
            "type": "carpet"
           }
          ],
          "choropleth": [
           {
            "colorbar": {
             "outlinewidth": 0,
             "ticks": ""
            },
            "type": "choropleth"
           }
          ],
          "contour": [
           {
            "colorbar": {
             "outlinewidth": 0,
             "ticks": ""
            },
            "colorscale": [
             [
              0,
              "#0d0887"
             ],
             [
              0.1111111111111111,
              "#46039f"
             ],
             [
              0.2222222222222222,
              "#7201a8"
             ],
             [
              0.3333333333333333,
              "#9c179e"
             ],
             [
              0.4444444444444444,
              "#bd3786"
             ],
             [
              0.5555555555555556,
              "#d8576b"
             ],
             [
              0.6666666666666666,
              "#ed7953"
             ],
             [
              0.7777777777777778,
              "#fb9f3a"
             ],
             [
              0.8888888888888888,
              "#fdca26"
             ],
             [
              1,
              "#f0f921"
             ]
            ],
            "type": "contour"
           }
          ],
          "contourcarpet": [
           {
            "colorbar": {
             "outlinewidth": 0,
             "ticks": ""
            },
            "type": "contourcarpet"
           }
          ],
          "heatmap": [
           {
            "colorbar": {
             "outlinewidth": 0,
             "ticks": ""
            },
            "colorscale": [
             [
              0,
              "#0d0887"
             ],
             [
              0.1111111111111111,
              "#46039f"
             ],
             [
              0.2222222222222222,
              "#7201a8"
             ],
             [
              0.3333333333333333,
              "#9c179e"
             ],
             [
              0.4444444444444444,
              "#bd3786"
             ],
             [
              0.5555555555555556,
              "#d8576b"
             ],
             [
              0.6666666666666666,
              "#ed7953"
             ],
             [
              0.7777777777777778,
              "#fb9f3a"
             ],
             [
              0.8888888888888888,
              "#fdca26"
             ],
             [
              1,
              "#f0f921"
             ]
            ],
            "type": "heatmap"
           }
          ],
          "heatmapgl": [
           {
            "colorbar": {
             "outlinewidth": 0,
             "ticks": ""
            },
            "colorscale": [
             [
              0,
              "#0d0887"
             ],
             [
              0.1111111111111111,
              "#46039f"
             ],
             [
              0.2222222222222222,
              "#7201a8"
             ],
             [
              0.3333333333333333,
              "#9c179e"
             ],
             [
              0.4444444444444444,
              "#bd3786"
             ],
             [
              0.5555555555555556,
              "#d8576b"
             ],
             [
              0.6666666666666666,
              "#ed7953"
             ],
             [
              0.7777777777777778,
              "#fb9f3a"
             ],
             [
              0.8888888888888888,
              "#fdca26"
             ],
             [
              1,
              "#f0f921"
             ]
            ],
            "type": "heatmapgl"
           }
          ],
          "histogram": [
           {
            "marker": {
             "pattern": {
              "fillmode": "overlay",
              "size": 10,
              "solidity": 0.2
             }
            },
            "type": "histogram"
           }
          ],
          "histogram2d": [
           {
            "colorbar": {
             "outlinewidth": 0,
             "ticks": ""
            },
            "colorscale": [
             [
              0,
              "#0d0887"
             ],
             [
              0.1111111111111111,
              "#46039f"
             ],
             [
              0.2222222222222222,
              "#7201a8"
             ],
             [
              0.3333333333333333,
              "#9c179e"
             ],
             [
              0.4444444444444444,
              "#bd3786"
             ],
             [
              0.5555555555555556,
              "#d8576b"
             ],
             [
              0.6666666666666666,
              "#ed7953"
             ],
             [
              0.7777777777777778,
              "#fb9f3a"
             ],
             [
              0.8888888888888888,
              "#fdca26"
             ],
             [
              1,
              "#f0f921"
             ]
            ],
            "type": "histogram2d"
           }
          ],
          "histogram2dcontour": [
           {
            "colorbar": {
             "outlinewidth": 0,
             "ticks": ""
            },
            "colorscale": [
             [
              0,
              "#0d0887"
             ],
             [
              0.1111111111111111,
              "#46039f"
             ],
             [
              0.2222222222222222,
              "#7201a8"
             ],
             [
              0.3333333333333333,
              "#9c179e"
             ],
             [
              0.4444444444444444,
              "#bd3786"
             ],
             [
              0.5555555555555556,
              "#d8576b"
             ],
             [
              0.6666666666666666,
              "#ed7953"
             ],
             [
              0.7777777777777778,
              "#fb9f3a"
             ],
             [
              0.8888888888888888,
              "#fdca26"
             ],
             [
              1,
              "#f0f921"
             ]
            ],
            "type": "histogram2dcontour"
           }
          ],
          "mesh3d": [
           {
            "colorbar": {
             "outlinewidth": 0,
             "ticks": ""
            },
            "type": "mesh3d"
           }
          ],
          "parcoords": [
           {
            "line": {
             "colorbar": {
              "outlinewidth": 0,
              "ticks": ""
             }
            },
            "type": "parcoords"
           }
          ],
          "pie": [
           {
            "automargin": true,
            "type": "pie"
           }
          ],
          "scatter": [
           {
            "fillpattern": {
             "fillmode": "overlay",
             "size": 10,
             "solidity": 0.2
            },
            "type": "scatter"
           }
          ],
          "scatter3d": [
           {
            "line": {
             "colorbar": {
              "outlinewidth": 0,
              "ticks": ""
             }
            },
            "marker": {
             "colorbar": {
              "outlinewidth": 0,
              "ticks": ""
             }
            },
            "type": "scatter3d"
           }
          ],
          "scattercarpet": [
           {
            "marker": {
             "colorbar": {
              "outlinewidth": 0,
              "ticks": ""
             }
            },
            "type": "scattercarpet"
           }
          ],
          "scattergeo": [
           {
            "marker": {
             "colorbar": {
              "outlinewidth": 0,
              "ticks": ""
             }
            },
            "type": "scattergeo"
           }
          ],
          "scattergl": [
           {
            "marker": {
             "colorbar": {
              "outlinewidth": 0,
              "ticks": ""
             }
            },
            "type": "scattergl"
           }
          ],
          "scattermapbox": [
           {
            "marker": {
             "colorbar": {
              "outlinewidth": 0,
              "ticks": ""
             }
            },
            "type": "scattermapbox"
           }
          ],
          "scatterpolar": [
           {
            "marker": {
             "colorbar": {
              "outlinewidth": 0,
              "ticks": ""
             }
            },
            "type": "scatterpolar"
           }
          ],
          "scatterpolargl": [
           {
            "marker": {
             "colorbar": {
              "outlinewidth": 0,
              "ticks": ""
             }
            },
            "type": "scatterpolargl"
           }
          ],
          "scatterternary": [
           {
            "marker": {
             "colorbar": {
              "outlinewidth": 0,
              "ticks": ""
             }
            },
            "type": "scatterternary"
           }
          ],
          "surface": [
           {
            "colorbar": {
             "outlinewidth": 0,
             "ticks": ""
            },
            "colorscale": [
             [
              0,
              "#0d0887"
             ],
             [
              0.1111111111111111,
              "#46039f"
             ],
             [
              0.2222222222222222,
              "#7201a8"
             ],
             [
              0.3333333333333333,
              "#9c179e"
             ],
             [
              0.4444444444444444,
              "#bd3786"
             ],
             [
              0.5555555555555556,
              "#d8576b"
             ],
             [
              0.6666666666666666,
              "#ed7953"
             ],
             [
              0.7777777777777778,
              "#fb9f3a"
             ],
             [
              0.8888888888888888,
              "#fdca26"
             ],
             [
              1,
              "#f0f921"
             ]
            ],
            "type": "surface"
           }
          ],
          "table": [
           {
            "cells": {
             "fill": {
              "color": "#EBF0F8"
             },
             "line": {
              "color": "white"
             }
            },
            "header": {
             "fill": {
              "color": "#C8D4E3"
             },
             "line": {
              "color": "white"
             }
            },
            "type": "table"
           }
          ]
         },
         "layout": {
          "annotationdefaults": {
           "arrowcolor": "#2a3f5f",
           "arrowhead": 0,
           "arrowwidth": 1
          },
          "autotypenumbers": "strict",
          "coloraxis": {
           "colorbar": {
            "outlinewidth": 0,
            "ticks": ""
           }
          },
          "colorscale": {
           "diverging": [
            [
             0,
             "#8e0152"
            ],
            [
             0.1,
             "#c51b7d"
            ],
            [
             0.2,
             "#de77ae"
            ],
            [
             0.3,
             "#f1b6da"
            ],
            [
             0.4,
             "#fde0ef"
            ],
            [
             0.5,
             "#f7f7f7"
            ],
            [
             0.6,
             "#e6f5d0"
            ],
            [
             0.7,
             "#b8e186"
            ],
            [
             0.8,
             "#7fbc41"
            ],
            [
             0.9,
             "#4d9221"
            ],
            [
             1,
             "#276419"
            ]
           ],
           "sequential": [
            [
             0,
             "#0d0887"
            ],
            [
             0.1111111111111111,
             "#46039f"
            ],
            [
             0.2222222222222222,
             "#7201a8"
            ],
            [
             0.3333333333333333,
             "#9c179e"
            ],
            [
             0.4444444444444444,
             "#bd3786"
            ],
            [
             0.5555555555555556,
             "#d8576b"
            ],
            [
             0.6666666666666666,
             "#ed7953"
            ],
            [
             0.7777777777777778,
             "#fb9f3a"
            ],
            [
             0.8888888888888888,
             "#fdca26"
            ],
            [
             1,
             "#f0f921"
            ]
           ],
           "sequentialminus": [
            [
             0,
             "#0d0887"
            ],
            [
             0.1111111111111111,
             "#46039f"
            ],
            [
             0.2222222222222222,
             "#7201a8"
            ],
            [
             0.3333333333333333,
             "#9c179e"
            ],
            [
             0.4444444444444444,
             "#bd3786"
            ],
            [
             0.5555555555555556,
             "#d8576b"
            ],
            [
             0.6666666666666666,
             "#ed7953"
            ],
            [
             0.7777777777777778,
             "#fb9f3a"
            ],
            [
             0.8888888888888888,
             "#fdca26"
            ],
            [
             1,
             "#f0f921"
            ]
           ]
          },
          "colorway": [
           "#636efa",
           "#EF553B",
           "#00cc96",
           "#ab63fa",
           "#FFA15A",
           "#19d3f3",
           "#FF6692",
           "#B6E880",
           "#FF97FF",
           "#FECB52"
          ],
          "font": {
           "color": "#2a3f5f"
          },
          "geo": {
           "bgcolor": "white",
           "lakecolor": "white",
           "landcolor": "#E5ECF6",
           "showlakes": true,
           "showland": true,
           "subunitcolor": "white"
          },
          "hoverlabel": {
           "align": "left"
          },
          "hovermode": "closest",
          "mapbox": {
           "style": "light"
          },
          "paper_bgcolor": "white",
          "plot_bgcolor": "#E5ECF6",
          "polar": {
           "angularaxis": {
            "gridcolor": "white",
            "linecolor": "white",
            "ticks": ""
           },
           "bgcolor": "#E5ECF6",
           "radialaxis": {
            "gridcolor": "white",
            "linecolor": "white",
            "ticks": ""
           }
          },
          "scene": {
           "xaxis": {
            "backgroundcolor": "#E5ECF6",
            "gridcolor": "white",
            "gridwidth": 2,
            "linecolor": "white",
            "showbackground": true,
            "ticks": "",
            "zerolinecolor": "white"
           },
           "yaxis": {
            "backgroundcolor": "#E5ECF6",
            "gridcolor": "white",
            "gridwidth": 2,
            "linecolor": "white",
            "showbackground": true,
            "ticks": "",
            "zerolinecolor": "white"
           },
           "zaxis": {
            "backgroundcolor": "#E5ECF6",
            "gridcolor": "white",
            "gridwidth": 2,
            "linecolor": "white",
            "showbackground": true,
            "ticks": "",
            "zerolinecolor": "white"
           }
          },
          "shapedefaults": {
           "line": {
            "color": "#2a3f5f"
           }
          },
          "ternary": {
           "aaxis": {
            "gridcolor": "white",
            "linecolor": "white",
            "ticks": ""
           },
           "baxis": {
            "gridcolor": "white",
            "linecolor": "white",
            "ticks": ""
           },
           "bgcolor": "#E5ECF6",
           "caxis": {
            "gridcolor": "white",
            "linecolor": "white",
            "ticks": ""
           }
          },
          "title": {
           "x": 0.05
          },
          "xaxis": {
           "automargin": true,
           "gridcolor": "white",
           "linecolor": "white",
           "ticks": "",
           "title": {
            "standoff": 15
           },
           "zerolinecolor": "white",
           "zerolinewidth": 2
          },
          "yaxis": {
           "automargin": true,
           "gridcolor": "white",
           "linecolor": "white",
           "ticks": "",
           "title": {
            "standoff": 15
           },
           "zerolinecolor": "white",
           "zerolinewidth": 2
          }
         }
        }
       }
      }
     },
     "metadata": {},
     "output_type": "display_data"
    }
   ],
   "source": [
    "import numpy as np\n",
    "import pandas as pd\n",
    "from tqdm import tqdm\n",
    "import pickle\n",
    "from sklearn.metrics.pairwise import cosine_similarity, manhattan_distances, euclidean_distances\n",
    "import sys\n",
    "sys.path.insert(1, '/Users/piyush/Desktop/dsml_Portfolio/podcast/final_push')\n",
    "from config import PODCASTS_DATABASE_PATH_RAW, USER_REVIEWS_DATABASE_PATH_RAW, PODCASTS_DATABASE_PATH_PROCESSED, USER_REVIEWS_DATABASE_PATH_PROCESSED\n",
    "import sentence_transformers\n",
    "from preprocessing import get_preprocessed_text\n",
    "from utils import get_recommendation_tfidf\n",
    "from utils import get_cosine_similarity_podcasts, get_manhattan_distance_products, get_euclidean_distances_products\n",
    "\n",
    "# Loading data \n",
    "df_podcasts = pd.read_csv('/Users/piyush/Desktop/dsml_Portfolio/podcast/final_push/data/processed/podcasts.csv')\n",
    "minilm_embeddings_matrix = pickle.load(open('/Users/piyush/Desktop/dsml_Portfolio/podcast/final_push/models/minilm_embeddings_matrix.pkl', 'rb'))\n",
    "\n",
    "\n",
    "\n",
    "\n",
    "podcast_keywords_from_user = 'global warming'\n",
    "\n",
    "model_miniLM = sentence_transformers.SentenceTransformer('all-MiniLM-L6-v2')\n",
    "input_embedding = model_miniLM.encode(podcast_keywords_from_user).reshape(1,-1)\n",
    "\n",
    "scores = cosine_similarity(minilm_embeddings_matrix,input_embedding)\n",
    "\n",
    "result = list(enumerate(scores))\n",
    "\n",
    "sorted_result = sorted(result,key=lambda x:x[1],reverse=True)[0:10+1]\n",
    "\n",
    "similar_products =  [{'value': df_podcasts.iloc[x[0]]['name'], 'score' : np.round(x[1], 2)} for x in sorted_result]\n",
    "\n",
    "names = [i['value'] for i in similar_products]\n",
    "\n",
    "podcasts_recommendations = df_podcasts.set_index('name').loc[names].reset_index()[['name','category']]\n",
    "\n",
    "import plotly.graph_objects as go\n",
    "import pandas as pd\n",
    "fig = go.Figure(data=[go.Table(\n",
    "    header=dict(values=list(podcasts_recommendations.columns),\n",
    "                fill_color='paleturquoise',\n",
    "                align='left'),\n",
    "    cells=dict(values=[podcasts_recommendations.name, podcasts_recommendations.category],\n",
    "               fill_color='lavender',\n",
    "               align='left'))\n",
    "])\n",
    "fig.show()"
   ]
  },
  {
   "cell_type": "code",
   "execution_count": 22,
   "metadata": {},
   "outputs": [],
   "source": [
    "import numpy as np\n",
    "import pandas as pd\n",
    "import os\n",
    "os.environ[\"TOKENIZERS_PARALLELISM\"] = \"false\"\n",
    "from tqdm import tqdm\n",
    "import pickle\n",
    "from sklearn.metrics.pairwise import cosine_similarity, manhattan_distances, euclidean_distances\n",
    "import sys\n",
    "sys.path.insert(1, '/Users/piyush/Desktop/dsml_Portfolio/podcast/final_push')\n",
    "from config import PODCASTS_DATABASE_PATH_RAW, USER_REVIEWS_DATABASE_PATH_RAW, PODCASTS_DATABASE_PATH_PROCESSED, USER_REVIEWS_DATABASE_PATH_PROCESSED\n",
    "import sentence_transformers\n",
    "from preprocessing import get_preprocessed_text\n",
    "from utils import get_recommendation_tfidf\n",
    "from utils import get_cosine_similarity_podcasts, get_manhattan_distance_products, get_euclidean_distances_products\n",
    "\n",
    "# Loading data \n",
    "df_podcasts = pd.read_csv('/Users/piyush/Desktop/dsml_Portfolio/podcast/final_push/data/processed/podcasts.csv')\n",
    "minilm_embeddings_matrix = pickle.load(open('/Users/piyush/Desktop/dsml_Portfolio/podcast/final_push/models/minilm_embeddings_matrix.pkl', 'rb'))\n",
    "\n",
    "\n",
    "\n",
    "\n",
    "podcast_keywords_from_user = input('Enter your keywords')\n",
    "podcast_keywords_from_user = get_preprocessed_text(podcast_keywords_from_user)"
   ]
  },
  {
   "cell_type": "code",
   "execution_count": 23,
   "metadata": {},
   "outputs": [
    {
     "data": {
      "text/plain": [
       "'basketball'"
      ]
     },
     "execution_count": 23,
     "metadata": {},
     "output_type": "execute_result"
    }
   ],
   "source": [
    "podcast_keywords_from_user"
   ]
  },
  {
   "cell_type": "code",
   "execution_count": 24,
   "metadata": {},
   "outputs": [
    {
     "data": {
      "application/vnd.plotly.v1+json": {
       "config": {
        "plotlyServerURL": "https://plot.ly"
       },
       "data": [
        {
         "cells": {
          "align": "left",
          "fill": {
           "color": "lavender"
          },
          "values": [
           [
            "The Lowe Post",
            "Basketball Illuminati",
            "The Simple Handicap - NFL Sports Betting Podcast",
            "Brian Windhorst & The Hoop Collective",
            "The Ringer NBA Show",
            "It Was Said: Sports",
            "Sports History This Week",
            "The Mismatch",
            "The Ryen Russillo Podcast",
            "Pardon My Take",
            "Game of Roses"
           ],
           [
            "Sports",
            "Sports",
            "Sports",
            "Sports",
            "Sports",
            "History",
            "Sports",
            "Sports",
            "Sports",
            "Sports",
            "TV & Film"
           ]
          ]
         },
         "header": {
          "align": "left",
          "fill": {
           "color": "paleturquoise"
          },
          "values": [
           "name",
           "category"
          ]
         },
         "type": "table"
        }
       ],
       "layout": {
        "template": {
         "data": {
          "bar": [
           {
            "error_x": {
             "color": "#2a3f5f"
            },
            "error_y": {
             "color": "#2a3f5f"
            },
            "marker": {
             "line": {
              "color": "#E5ECF6",
              "width": 0.5
             },
             "pattern": {
              "fillmode": "overlay",
              "size": 10,
              "solidity": 0.2
             }
            },
            "type": "bar"
           }
          ],
          "barpolar": [
           {
            "marker": {
             "line": {
              "color": "#E5ECF6",
              "width": 0.5
             },
             "pattern": {
              "fillmode": "overlay",
              "size": 10,
              "solidity": 0.2
             }
            },
            "type": "barpolar"
           }
          ],
          "carpet": [
           {
            "aaxis": {
             "endlinecolor": "#2a3f5f",
             "gridcolor": "white",
             "linecolor": "white",
             "minorgridcolor": "white",
             "startlinecolor": "#2a3f5f"
            },
            "baxis": {
             "endlinecolor": "#2a3f5f",
             "gridcolor": "white",
             "linecolor": "white",
             "minorgridcolor": "white",
             "startlinecolor": "#2a3f5f"
            },
            "type": "carpet"
           }
          ],
          "choropleth": [
           {
            "colorbar": {
             "outlinewidth": 0,
             "ticks": ""
            },
            "type": "choropleth"
           }
          ],
          "contour": [
           {
            "colorbar": {
             "outlinewidth": 0,
             "ticks": ""
            },
            "colorscale": [
             [
              0,
              "#0d0887"
             ],
             [
              0.1111111111111111,
              "#46039f"
             ],
             [
              0.2222222222222222,
              "#7201a8"
             ],
             [
              0.3333333333333333,
              "#9c179e"
             ],
             [
              0.4444444444444444,
              "#bd3786"
             ],
             [
              0.5555555555555556,
              "#d8576b"
             ],
             [
              0.6666666666666666,
              "#ed7953"
             ],
             [
              0.7777777777777778,
              "#fb9f3a"
             ],
             [
              0.8888888888888888,
              "#fdca26"
             ],
             [
              1,
              "#f0f921"
             ]
            ],
            "type": "contour"
           }
          ],
          "contourcarpet": [
           {
            "colorbar": {
             "outlinewidth": 0,
             "ticks": ""
            },
            "type": "contourcarpet"
           }
          ],
          "heatmap": [
           {
            "colorbar": {
             "outlinewidth": 0,
             "ticks": ""
            },
            "colorscale": [
             [
              0,
              "#0d0887"
             ],
             [
              0.1111111111111111,
              "#46039f"
             ],
             [
              0.2222222222222222,
              "#7201a8"
             ],
             [
              0.3333333333333333,
              "#9c179e"
             ],
             [
              0.4444444444444444,
              "#bd3786"
             ],
             [
              0.5555555555555556,
              "#d8576b"
             ],
             [
              0.6666666666666666,
              "#ed7953"
             ],
             [
              0.7777777777777778,
              "#fb9f3a"
             ],
             [
              0.8888888888888888,
              "#fdca26"
             ],
             [
              1,
              "#f0f921"
             ]
            ],
            "type": "heatmap"
           }
          ],
          "heatmapgl": [
           {
            "colorbar": {
             "outlinewidth": 0,
             "ticks": ""
            },
            "colorscale": [
             [
              0,
              "#0d0887"
             ],
             [
              0.1111111111111111,
              "#46039f"
             ],
             [
              0.2222222222222222,
              "#7201a8"
             ],
             [
              0.3333333333333333,
              "#9c179e"
             ],
             [
              0.4444444444444444,
              "#bd3786"
             ],
             [
              0.5555555555555556,
              "#d8576b"
             ],
             [
              0.6666666666666666,
              "#ed7953"
             ],
             [
              0.7777777777777778,
              "#fb9f3a"
             ],
             [
              0.8888888888888888,
              "#fdca26"
             ],
             [
              1,
              "#f0f921"
             ]
            ],
            "type": "heatmapgl"
           }
          ],
          "histogram": [
           {
            "marker": {
             "pattern": {
              "fillmode": "overlay",
              "size": 10,
              "solidity": 0.2
             }
            },
            "type": "histogram"
           }
          ],
          "histogram2d": [
           {
            "colorbar": {
             "outlinewidth": 0,
             "ticks": ""
            },
            "colorscale": [
             [
              0,
              "#0d0887"
             ],
             [
              0.1111111111111111,
              "#46039f"
             ],
             [
              0.2222222222222222,
              "#7201a8"
             ],
             [
              0.3333333333333333,
              "#9c179e"
             ],
             [
              0.4444444444444444,
              "#bd3786"
             ],
             [
              0.5555555555555556,
              "#d8576b"
             ],
             [
              0.6666666666666666,
              "#ed7953"
             ],
             [
              0.7777777777777778,
              "#fb9f3a"
             ],
             [
              0.8888888888888888,
              "#fdca26"
             ],
             [
              1,
              "#f0f921"
             ]
            ],
            "type": "histogram2d"
           }
          ],
          "histogram2dcontour": [
           {
            "colorbar": {
             "outlinewidth": 0,
             "ticks": ""
            },
            "colorscale": [
             [
              0,
              "#0d0887"
             ],
             [
              0.1111111111111111,
              "#46039f"
             ],
             [
              0.2222222222222222,
              "#7201a8"
             ],
             [
              0.3333333333333333,
              "#9c179e"
             ],
             [
              0.4444444444444444,
              "#bd3786"
             ],
             [
              0.5555555555555556,
              "#d8576b"
             ],
             [
              0.6666666666666666,
              "#ed7953"
             ],
             [
              0.7777777777777778,
              "#fb9f3a"
             ],
             [
              0.8888888888888888,
              "#fdca26"
             ],
             [
              1,
              "#f0f921"
             ]
            ],
            "type": "histogram2dcontour"
           }
          ],
          "mesh3d": [
           {
            "colorbar": {
             "outlinewidth": 0,
             "ticks": ""
            },
            "type": "mesh3d"
           }
          ],
          "parcoords": [
           {
            "line": {
             "colorbar": {
              "outlinewidth": 0,
              "ticks": ""
             }
            },
            "type": "parcoords"
           }
          ],
          "pie": [
           {
            "automargin": true,
            "type": "pie"
           }
          ],
          "scatter": [
           {
            "fillpattern": {
             "fillmode": "overlay",
             "size": 10,
             "solidity": 0.2
            },
            "type": "scatter"
           }
          ],
          "scatter3d": [
           {
            "line": {
             "colorbar": {
              "outlinewidth": 0,
              "ticks": ""
             }
            },
            "marker": {
             "colorbar": {
              "outlinewidth": 0,
              "ticks": ""
             }
            },
            "type": "scatter3d"
           }
          ],
          "scattercarpet": [
           {
            "marker": {
             "colorbar": {
              "outlinewidth": 0,
              "ticks": ""
             }
            },
            "type": "scattercarpet"
           }
          ],
          "scattergeo": [
           {
            "marker": {
             "colorbar": {
              "outlinewidth": 0,
              "ticks": ""
             }
            },
            "type": "scattergeo"
           }
          ],
          "scattergl": [
           {
            "marker": {
             "colorbar": {
              "outlinewidth": 0,
              "ticks": ""
             }
            },
            "type": "scattergl"
           }
          ],
          "scattermapbox": [
           {
            "marker": {
             "colorbar": {
              "outlinewidth": 0,
              "ticks": ""
             }
            },
            "type": "scattermapbox"
           }
          ],
          "scatterpolar": [
           {
            "marker": {
             "colorbar": {
              "outlinewidth": 0,
              "ticks": ""
             }
            },
            "type": "scatterpolar"
           }
          ],
          "scatterpolargl": [
           {
            "marker": {
             "colorbar": {
              "outlinewidth": 0,
              "ticks": ""
             }
            },
            "type": "scatterpolargl"
           }
          ],
          "scatterternary": [
           {
            "marker": {
             "colorbar": {
              "outlinewidth": 0,
              "ticks": ""
             }
            },
            "type": "scatterternary"
           }
          ],
          "surface": [
           {
            "colorbar": {
             "outlinewidth": 0,
             "ticks": ""
            },
            "colorscale": [
             [
              0,
              "#0d0887"
             ],
             [
              0.1111111111111111,
              "#46039f"
             ],
             [
              0.2222222222222222,
              "#7201a8"
             ],
             [
              0.3333333333333333,
              "#9c179e"
             ],
             [
              0.4444444444444444,
              "#bd3786"
             ],
             [
              0.5555555555555556,
              "#d8576b"
             ],
             [
              0.6666666666666666,
              "#ed7953"
             ],
             [
              0.7777777777777778,
              "#fb9f3a"
             ],
             [
              0.8888888888888888,
              "#fdca26"
             ],
             [
              1,
              "#f0f921"
             ]
            ],
            "type": "surface"
           }
          ],
          "table": [
           {
            "cells": {
             "fill": {
              "color": "#EBF0F8"
             },
             "line": {
              "color": "white"
             }
            },
            "header": {
             "fill": {
              "color": "#C8D4E3"
             },
             "line": {
              "color": "white"
             }
            },
            "type": "table"
           }
          ]
         },
         "layout": {
          "annotationdefaults": {
           "arrowcolor": "#2a3f5f",
           "arrowhead": 0,
           "arrowwidth": 1
          },
          "autotypenumbers": "strict",
          "coloraxis": {
           "colorbar": {
            "outlinewidth": 0,
            "ticks": ""
           }
          },
          "colorscale": {
           "diverging": [
            [
             0,
             "#8e0152"
            ],
            [
             0.1,
             "#c51b7d"
            ],
            [
             0.2,
             "#de77ae"
            ],
            [
             0.3,
             "#f1b6da"
            ],
            [
             0.4,
             "#fde0ef"
            ],
            [
             0.5,
             "#f7f7f7"
            ],
            [
             0.6,
             "#e6f5d0"
            ],
            [
             0.7,
             "#b8e186"
            ],
            [
             0.8,
             "#7fbc41"
            ],
            [
             0.9,
             "#4d9221"
            ],
            [
             1,
             "#276419"
            ]
           ],
           "sequential": [
            [
             0,
             "#0d0887"
            ],
            [
             0.1111111111111111,
             "#46039f"
            ],
            [
             0.2222222222222222,
             "#7201a8"
            ],
            [
             0.3333333333333333,
             "#9c179e"
            ],
            [
             0.4444444444444444,
             "#bd3786"
            ],
            [
             0.5555555555555556,
             "#d8576b"
            ],
            [
             0.6666666666666666,
             "#ed7953"
            ],
            [
             0.7777777777777778,
             "#fb9f3a"
            ],
            [
             0.8888888888888888,
             "#fdca26"
            ],
            [
             1,
             "#f0f921"
            ]
           ],
           "sequentialminus": [
            [
             0,
             "#0d0887"
            ],
            [
             0.1111111111111111,
             "#46039f"
            ],
            [
             0.2222222222222222,
             "#7201a8"
            ],
            [
             0.3333333333333333,
             "#9c179e"
            ],
            [
             0.4444444444444444,
             "#bd3786"
            ],
            [
             0.5555555555555556,
             "#d8576b"
            ],
            [
             0.6666666666666666,
             "#ed7953"
            ],
            [
             0.7777777777777778,
             "#fb9f3a"
            ],
            [
             0.8888888888888888,
             "#fdca26"
            ],
            [
             1,
             "#f0f921"
            ]
           ]
          },
          "colorway": [
           "#636efa",
           "#EF553B",
           "#00cc96",
           "#ab63fa",
           "#FFA15A",
           "#19d3f3",
           "#FF6692",
           "#B6E880",
           "#FF97FF",
           "#FECB52"
          ],
          "font": {
           "color": "#2a3f5f"
          },
          "geo": {
           "bgcolor": "white",
           "lakecolor": "white",
           "landcolor": "#E5ECF6",
           "showlakes": true,
           "showland": true,
           "subunitcolor": "white"
          },
          "hoverlabel": {
           "align": "left"
          },
          "hovermode": "closest",
          "mapbox": {
           "style": "light"
          },
          "paper_bgcolor": "white",
          "plot_bgcolor": "#E5ECF6",
          "polar": {
           "angularaxis": {
            "gridcolor": "white",
            "linecolor": "white",
            "ticks": ""
           },
           "bgcolor": "#E5ECF6",
           "radialaxis": {
            "gridcolor": "white",
            "linecolor": "white",
            "ticks": ""
           }
          },
          "scene": {
           "xaxis": {
            "backgroundcolor": "#E5ECF6",
            "gridcolor": "white",
            "gridwidth": 2,
            "linecolor": "white",
            "showbackground": true,
            "ticks": "",
            "zerolinecolor": "white"
           },
           "yaxis": {
            "backgroundcolor": "#E5ECF6",
            "gridcolor": "white",
            "gridwidth": 2,
            "linecolor": "white",
            "showbackground": true,
            "ticks": "",
            "zerolinecolor": "white"
           },
           "zaxis": {
            "backgroundcolor": "#E5ECF6",
            "gridcolor": "white",
            "gridwidth": 2,
            "linecolor": "white",
            "showbackground": true,
            "ticks": "",
            "zerolinecolor": "white"
           }
          },
          "shapedefaults": {
           "line": {
            "color": "#2a3f5f"
           }
          },
          "ternary": {
           "aaxis": {
            "gridcolor": "white",
            "linecolor": "white",
            "ticks": ""
           },
           "baxis": {
            "gridcolor": "white",
            "linecolor": "white",
            "ticks": ""
           },
           "bgcolor": "#E5ECF6",
           "caxis": {
            "gridcolor": "white",
            "linecolor": "white",
            "ticks": ""
           }
          },
          "title": {
           "x": 0.05
          },
          "xaxis": {
           "automargin": true,
           "gridcolor": "white",
           "linecolor": "white",
           "ticks": "",
           "title": {
            "standoff": 15
           },
           "zerolinecolor": "white",
           "zerolinewidth": 2
          },
          "yaxis": {
           "automargin": true,
           "gridcolor": "white",
           "linecolor": "white",
           "ticks": "",
           "title": {
            "standoff": 15
           },
           "zerolinecolor": "white",
           "zerolinewidth": 2
          }
         }
        }
       }
      }
     },
     "metadata": {},
     "output_type": "display_data"
    }
   ],
   "source": [
    "model_miniLM = sentence_transformers.SentenceTransformer('all-MiniLM-L6-v2')\n",
    "input_embedding = model_miniLM.encode(podcast_keywords_from_user).reshape(1,-1)\n",
    "\n",
    "scores = cosine_similarity(minilm_embeddings_matrix,input_embedding)\n",
    "\n",
    "result = list(enumerate(scores))\n",
    "sorted_result = sorted(result,key=lambda x:x[1],reverse=True)[0:10+1]\n",
    "similar_products =  [{'value': df_podcasts.iloc[x[0]]['name'], 'score' : np.round(x[1], 2)} for x in sorted_result]\n",
    "names = [i['value'] for i in similar_products]\n",
    "podcasts_recommendations = df_podcasts.set_index('name').loc[names].reset_index()[['name','category']]\n",
    "\n",
    "import plotly.graph_objects as go\n",
    "import pandas as pd\n",
    "fig = go.Figure(data=[go.Table(\n",
    "    header=dict(values=list(podcasts_recommendations.columns),\n",
    "                fill_color='paleturquoise',\n",
    "                align='left'),\n",
    "    cells=dict(values=[podcasts_recommendations.name, podcasts_recommendations.category],\n",
    "               fill_color='lavender',\n",
    "               align='left'))\n",
    "])\n",
    "fig.show()"
   ]
  },
  {
   "cell_type": "code",
   "execution_count": 26,
   "metadata": {},
   "outputs": [],
   "source": [
    "import streamlit as st\n",
    "import json\n",
    "import pickle\n",
    " \n",
    "\n",
    "tfidf_embeddings_matrix = pickle.load(open('/Users/piyush/Desktop/dsml_Portfolio/podcast/final_push/models/tfidf_embeddings_matrix.pkl', 'rb'))\n",
    "similarity_matrix = pickle.load(open('/Users/piyush/Desktop/dsml_Portfolio/podcast/final_push/models/similarity_matrix.pkl', 'rb'))\n",
    "#st.write(tfidf_embeddings_matrix.shape)"
   ]
  },
  {
   "cell_type": "code",
   "execution_count": 27,
   "metadata": {},
   "outputs": [
    {
     "data": {
      "text/plain": [
       "<2363x1000 sparse matrix of type '<class 'numpy.float64'>'\n",
       "\twith 41250 stored elements in Compressed Sparse Row format>"
      ]
     },
     "execution_count": 27,
     "metadata": {},
     "output_type": "execute_result"
    }
   ],
   "source": [
    "tfidf_embeddings_matrix"
   ]
  },
  {
   "cell_type": "code",
   "execution_count": null,
   "metadata": {},
   "outputs": [],
   "source": [
    "scipy.sparse.save_npz('/tmp/sparse_matrix.npz', sparse_matrix)"
   ]
  },
  {
   "cell_type": "code",
   "execution_count": 33,
   "metadata": {},
   "outputs": [
    {
     "data": {
      "text/plain": [
       "array(['Rachel Maddow Presents: Ultra', 'Dateline NBC', 'The Daily', ...,\n",
       "       'Request Pending', 'The Opportunist', 'This Land'], dtype=object)"
      ]
     },
     "execution_count": 33,
     "metadata": {},
     "output_type": "execute_result"
    }
   ],
   "source": [
    "df_podcasts.name.values"
   ]
  },
  {
   "cell_type": "code",
   "execution_count": 46,
   "metadata": {},
   "outputs": [],
   "source": [
    "aa =df_podcasts.name.values.tolist().insert(0, ' ')"
   ]
  },
  {
   "cell_type": "code",
   "execution_count": 47,
   "metadata": {},
   "outputs": [],
   "source": [
    "aa.insert(0, ' ')"
   ]
  },
  {
   "cell_type": "code",
   "execution_count": 48,
   "metadata": {},
   "outputs": [
    {
     "data": {
      "text/plain": [
       "[' ',\n",
       " 'Rachel Maddow Presents: Ultra',\n",
       " 'Dateline NBC',\n",
       " 'The Daily',\n",
       " 'Crime Junkie',\n",
       " 'Morbid',\n",
       " 'SmartLess',\n",
       " 'Murdaugh Murders Podcast',\n",
       " 'The Ben Shapiro Show',\n",
       " 'Odd Trails',\n",
       " 'Culpable',\n",
       " 'Up First',\n",
       " 'The Piketon Massacre',\n",
       " 'The Mel Robbins Podcast',\n",
       " 'Stuff You Should Know',\n",
       " 'We Were Three',\n",
       " 'Huberman Lab',\n",
       " 'We Can Do Hard Things with Glennon Doyle',\n",
       " 'My Favorite Murder with Karen Kilgariff and Georgia Hardstark',\n",
       " 'Sold a Story',\n",
       " 'Gone South',\n",
       " 'Devil Town',\n",
       " 'Pardon My Take',\n",
       " '13 Days of Halloween',\n",
       " 'Something Was Wrong',\n",
       " 'Serial',\n",
       " 'The Bible in a Year (with Fr. Mike Schmitz)',\n",
       " 'The Bill Simmons Podcast',\n",
       " 'To Live and Die in LA',\n",
       " 'Next Question with Katie Couric',\n",
       " 'Pod Save America',\n",
       " 'Morning Wire',\n",
       " 'The Rachel Maddow Show',\n",
       " 'Bag Man',\n",
       " 'Internal Affairs',\n",
       " 'Alex Wagner Tonight',\n",
       " 'Why Is This Happening? The Chris Hayes Podcast',\n",
       " '#SistersInLaw',\n",
       " 'All In with Chris Hayes',\n",
       " 'The Dan Bongino Show',\n",
       " 'The Matt Walsh Show',\n",
       " \"Rick Wilson's The Enemies List\",\n",
       " 'The Megyn Kelly Show',\n",
       " 'Bannon`s War Room',\n",
       " 'The Glenn Beck Program',\n",
       " 'Candace Owens',\n",
       " 'The Charlie Kirk Show',\n",
       " 'Seeking Derangements',\n",
       " 'Global News Podcast',\n",
       " 'NPR News Now',\n",
       " 'Pivot',\n",
       " 'The NPR Politics Podcast',\n",
       " 'On with Kara Swisher',\n",
       " '20/20',\n",
       " '48 Hours',\n",
       " 'The Seduction',\n",
       " 'Motive for Murder',\n",
       " 'Dateline: Missing In America',\n",
       " 'Whistleblower',\n",
       " 'The Letter',\n",
       " 'Your Own Backyard',\n",
       " 'The Deck',\n",
       " 'Bone Valley',\n",
       " 'Anatomy of Murder',\n",
       " 'Last Podcast On The Left',\n",
       " 'BBC Inside Science',\n",
       " 'The Generation Why Podcast',\n",
       " 'Sword and Scale',\n",
       " 'MrBallen Podcast: Strange, Dark & Mysterious Stories',\n",
       " 'What Should I Read Next?',\n",
       " 'Hidden Brain',\n",
       " 'Down The Hill: The Delphi Murders',\n",
       " 'Ologies with Alie Ward',\n",
       " 'Blurry Creatures',\n",
       " 'StarTalk Radio',\n",
       " 'Something You Should Know',\n",
       " 'Science Friday',\n",
       " 'Short Wave',\n",
       " 'Radiolab',\n",
       " 'This American Life',\n",
       " 'Invisibilia',\n",
       " 'TED Radio Hour',\n",
       " 'The Supermassive Podcast',\n",
       " 'Freakonomics Radio',\n",
       " 'Fresh Air',\n",
       " 'Making Sense with Sam Harris',\n",
       " 'Freakonomics, M.D.',\n",
       " 'Sasquatch Chronicles',\n",
       " 'This Podcast Will Kill You',\n",
       " 'You Are Not So Smart',\n",
       " 'art bell tape vault',\n",
       " 'The Best of Coast to Coast AM',\n",
       " 'Stuff To Blow Your Mind',\n",
       " 'Discovery',\n",
       " \"Sean Carroll's Mindscape: Science, Society, Philosophy, Culture, Arts, and Ideas\",\n",
       " 'The Science of Happiness',\n",
       " 'Very Scary People',\n",
       " 'Murder Sheet',\n",
       " 'What Happened To Sandy Beal',\n",
       " 'Dua Lipa: At Your Service',\n",
       " 'Up and Vanished',\n",
       " 'Unraveled',\n",
       " 'Give Them Lala',\n",
       " 'Completely Arbortrary',\n",
       " 'In Defense of Plants Podcast',\n",
       " 'The Weirdest Thing I Learned This Week',\n",
       " 'Slumber Party With Alie and Georgia',\n",
       " 'Not So Secret Societies',\n",
       " \"Let's be friends\",\n",
       " 'Discovering Truth with Dan Duval',\n",
       " 'A View from the Bunker',\n",
       " 'The Confessionals',\n",
       " 'Bible Mysteries',\n",
       " 'Daniel and Jorge Explain the Universe',\n",
       " 'Planetary Radio: Space Exploration, Astronomy and Science',\n",
       " 'Universe Today Podcast',\n",
       " 'Ask a Spaceman!',\n",
       " 'SpaceTime with Stuart Gary',\n",
       " 'Something Scary',\n",
       " 'The Jordan Harbinger Show',\n",
       " 'BrainStuff',\n",
       " 'How to Be a Better Human',\n",
       " 'Mark Levin Podcast',\n",
       " 'Talk Is Jericho',\n",
       " 'Brown Ambition',\n",
       " 'Something to Wrestle with Bruce Prichard',\n",
       " 'The Stacking Benjamins Show',\n",
       " 'Science Magazine Podcast',\n",
       " \"Wait Wait... Don't Tell Me!\",\n",
       " 'Big Picture Science',\n",
       " 'Snap Judgment Presents: Spooked',\n",
       " 'The New Yorker Radio Hour',\n",
       " 'Radiolab for Kids Presents: Terrestrials',\n",
       " 'On the Media',\n",
       " 'Death, Sex & Money',\n",
       " 'Consider This from NPR',\n",
       " 'Throughline',\n",
       " 'The Indicator from Planet Money',\n",
       " 'Planet Money',\n",
       " 'Life Kit',\n",
       " 'Surviving El Chapo: The Twins Who Brought Down A Drug Lord',\n",
       " 'All There Is with Anderson Cooper',\n",
       " '99% Invisible',\n",
       " 'The Moth',\n",
       " 'The Ezra Klein Show',\n",
       " 'Real Ones with Jon Bernthal',\n",
       " 'The Tulsi Gabbard Show',\n",
       " \"Stuff They Don't Want You To Know\",\n",
       " 'Wolves Among Us',\n",
       " 'Joe Rogan Experience Review podcast',\n",
       " 'TheThinkingAtheist',\n",
       " 'Unlocked with Savannah Chrisley',\n",
       " 'Otherworld',\n",
       " 'The Way I Heard It with Mike Rowe',\n",
       " 'Behind the Bastards',\n",
       " 'Revisionist History',\n",
       " 'The Trojan Horse Affair',\n",
       " 'S-Town',\n",
       " 'Making',\n",
       " 'Sound Opinions',\n",
       " 'Nerdette',\n",
       " 'Lex Fridman Podcast',\n",
       " 'Hard Fork',\n",
       " 'All-In with Chamath, Jason, Sacks & Friedberg',\n",
       " 'Darknet Diaries',\n",
       " 'The Vergecast',\n",
       " 'Science In Action',\n",
       " 'Waveform: The MKBHD Podcast',\n",
       " 'This Week in Startups',\n",
       " 'WSJ’s The Future of Everything',\n",
       " 'Acquired',\n",
       " 'Endless Thread',\n",
       " 'Underserved',\n",
       " 'Reply All',\n",
       " 'CyberWire Daily',\n",
       " 'a16z Podcast',\n",
       " 'Your Undivided Attention',\n",
       " 'Deep Questions with Cal Newport',\n",
       " 'People I (Mostly) Admire',\n",
       " 'No Stupid Questions',\n",
       " 'The Freakonomics Radio Book Club',\n",
       " 'Literally! With Rob Lowe',\n",
       " 'Unladylike',\n",
       " \"Trillbilly Worker's Party\",\n",
       " 'The Atlas Obscura Podcast',\n",
       " 'LeVar Burton Reads',\n",
       " 'The Magnus Archives',\n",
       " 'Snap Judgment',\n",
       " 'Dedicated with Doug Brunt',\n",
       " 'Myths and Legends',\n",
       " 'Christopher Kimball’s Milk Street Radio',\n",
       " 'Poetry Unbound',\n",
       " 'The Book Review',\n",
       " 'The Splendid Table',\n",
       " 'Articles of Interest',\n",
       " 'The Jeselnik & Rosenthal Vanity Project',\n",
       " 'The Great Creators with Guy Raz',\n",
       " 'The Great Detectives of Old Time Radio',\n",
       " 'Selected Shorts',\n",
       " 'The Best of Making Sense with Sam Harris',\n",
       " 'Conversations With Coleman',\n",
       " 'Quillette Podcast',\n",
       " 'The Saad Truth with Dr. Saad',\n",
       " 'The Michael Shermer Show',\n",
       " 'Growth Mindset Podcast',\n",
       " 'Off Leash',\n",
       " 'Bigfoot Eyewitness Radio',\n",
       " 'Sasquatch Odyssey',\n",
       " 'My Bigfoot Sighting',\n",
       " 'Bigfoot Terror in the Woods Sightings and Encounters',\n",
       " 'Bigfoot and Beyond with Cliff and Bobo',\n",
       " 'Tenfold More Wicked Presents: Wicked Words',\n",
       " 'Buried Bones',\n",
       " 'Do You Need A Ride?',\n",
       " 'Sawbones: A Marital Tour of Misguided Medicine',\n",
       " \"That's Messed Up: An SVU Podcast\",\n",
       " 'Bananas',\n",
       " 'Inquiring Minds',\n",
       " \"World's Greatest Con\",\n",
       " 'Boars, Gore, and Swords: A House of The Dragon Podcast',\n",
       " 'HOME: Stories From L.A.',\n",
       " 'RiYL',\n",
       " 'Apps for Kids',\n",
       " \"Tell Me Something I Don't Know\",\n",
       " 'Boing Boing Gadgets',\n",
       " 'Art Bell Back in Time',\n",
       " 'Somewhere in the Skies',\n",
       " 'Truth Be Told',\n",
       " 'The Micah Hanks Program',\n",
       " \"Richard Syrett's Strange Planet\",\n",
       " 'Mysterious Radio: Paranormal, UFO & Lore Interviews',\n",
       " 'Ridiculous History',\n",
       " 'Stuff You Missed in History Class',\n",
       " 'The End Of The World with Josh Clark',\n",
       " 'Drink Champs',\n",
       " 'The Science Hour',\n",
       " 'CrowdScience',\n",
       " 'The Documentary Podcast',\n",
       " 'The Inquiry',\n",
       " 'In Our Time',\n",
       " \"You're Dead To Me\",\n",
       " 'Newshour',\n",
       " 'The Lazarus Heist',\n",
       " '6 Minute English',\n",
       " 'Why This Universe?',\n",
       " 'The Origins Podcast with Lawrence Krauss',\n",
       " 'Into the Impossible With Brian Keating',\n",
       " 'Quanta Science Podcast',\n",
       " 'The Happiness Lab with Dr. Laurie Santos',\n",
       " 'Ten Percent Happier with Dan Harris',\n",
       " 'Live Happy Now',\n",
       " 'A Mindful Moment',\n",
       " 'Good Life Project',\n",
       " \"Oprah's Super Soul\",\n",
       " 'Reveal',\n",
       " 'The World',\n",
       " 'Suave',\n",
       " 'The Takeaway',\n",
       " 'Latino USA',\n",
       " 'Hell and Gone',\n",
       " 'The Pink Moon Murders',\n",
       " 'Betrayal',\n",
       " 'The Jordan B. Peterson Podcast',\n",
       " 'How to Build a Happy Life',\n",
       " 'The Rich Roll Podcast',\n",
       " 'TED Talks Daily',\n",
       " 'Untangle',\n",
       " 'Being Well with Dr. Rick and Forrest Hanson',\n",
       " 'SPARKED',\n",
       " 'This Is Actually Happening',\n",
       " 'American Scandal',\n",
       " 'American History Tellers',\n",
       " 'The Vanished Podcast',\n",
       " 'Against The Odds',\n",
       " 'This Is Purdue',\n",
       " 'The Skinny Confidential Him & Her Podcast',\n",
       " 'The Daily Motivation',\n",
       " 'Duolingo Spanish Podcast',\n",
       " 'Motivation Daily by Motiversity',\n",
       " 'Trying Not to Care',\n",
       " 'Make Your Damn Bed',\n",
       " 'Navigating Narcissism with Dr. Ramani',\n",
       " 'Full Body Chills',\n",
       " 'Take Out Therapy',\n",
       " \"Here's Where It Gets Interesting\",\n",
       " 'The Daily Stoic',\n",
       " 'Tate Speech',\n",
       " 'Sad to Savage',\n",
       " 'Impact Theory with Tom Bilyeu',\n",
       " 'Mobituaries with Mo Rocca',\n",
       " 'SNAFU with Ed Helms',\n",
       " 'Lore',\n",
       " 'Cautionary Tales with Tim Harford',\n",
       " 'No Such Thing As A Fish',\n",
       " 'The Infinite Monkey Cage',\n",
       " 'The Curious Cases of Rutherford & Fry',\n",
       " 'Not Just the Tudors',\n",
       " 'Gone Medieval',\n",
       " 'Friday Night Comedy from BBC Radio 4',\n",
       " \"You're Wrong About\",\n",
       " 'Dark History',\n",
       " \"Dan Carlin's Hardcore History\",\n",
       " 'The Rest Is History',\n",
       " 'Revolutions',\n",
       " 'It Was Said',\n",
       " \"History That Doesn't Suck\",\n",
       " 'Noble Blood',\n",
       " 'The History of Rome',\n",
       " \"Aaron Mahnke's Cabinet of Curiosities\",\n",
       " 'History Daily',\n",
       " 'The Ancients',\n",
       " 'Kim Komando Today',\n",
       " 'The Tech Guy (Audio)',\n",
       " 'This Week in Tech (Audio)',\n",
       " 'The Problem With Jon Stewart',\n",
       " \"And That's What You REALLY Missed\",\n",
       " 'The Official Game of Thrones Podcast: House of the Dragon',\n",
       " 'Two Ts In A Pod with Teddi Mellencamp and Tamra Judge',\n",
       " 'The Ringer-Verse',\n",
       " 'The Rewatcher: Buffy the Vampire Slayer',\n",
       " \"Doesn't Sound like Anything to Me: A Westworld Recap\",\n",
       " 'A Cast of Kings - A House of the Dragon Podcast',\n",
       " 'HOTD: A House of the Dragon Podcast',\n",
       " 'Still Watching: White Lotus by Vanity Fair',\n",
       " 'Watch What Crappens',\n",
       " 'Blank Check with Griffin & David',\n",
       " 'Back to the Beach with Kristin and Stephen',\n",
       " 'Not Skinny But Not Fat',\n",
       " 'The Big Picture',\n",
       " 'The Rewatchables',\n",
       " 'Drama Queens',\n",
       " 'Doughboys',\n",
       " 'Pop Culture Happy Hour',\n",
       " 'Pod Meets World',\n",
       " 'Giggly Squad',\n",
       " 'Everything Iconic with Danny Pellegrino',\n",
       " 'Game of Thrones: Season 8 Redux',\n",
       " 'Reality with The King',\n",
       " \"Funny Cuz It's True with Elyse Myers\",\n",
       " 'Conan O’Brien Needs A Friend',\n",
       " 'Fly on the Wall with Dana Carvey and David Spade',\n",
       " 'My Brother, My Brother And Me',\n",
       " 'Wonderful!',\n",
       " 'The Adventure Zone',\n",
       " 'The Empty Bowl',\n",
       " 'Still Buffering',\n",
       " 'Shmanners',\n",
       " 'Gun Talk',\n",
       " 'Judge John Hodgman',\n",
       " 'Magic Lessons with Elizabeth Gilbert',\n",
       " 'The Flop House',\n",
       " 'Nobody Listens to Paula Poundstone',\n",
       " 'Office Ladies',\n",
       " '2 Bears, 1 Cave with Tom Segura & Bert Kreischer',\n",
       " 'Two Girls One Ghost',\n",
       " 'Normal Gossip',\n",
       " 'Distractible',\n",
       " 'Small Town Murder',\n",
       " 'This Past Weekend',\n",
       " 'The Toast',\n",
       " 'The Tim Dillon Show',\n",
       " 'Adam Carolla Show',\n",
       " \"Your Mom's House with Christina P. and Tom Segura\",\n",
       " \"And That's Why We Drink\",\n",
       " 'The Daily Show With Trevor Noah: Ears Edition',\n",
       " 'Monday Morning Podcast',\n",
       " 'Unstuffed',\n",
       " 'Old Gods of Appalachia',\n",
       " 'The NoSleep Podcast',\n",
       " 'Creepy',\n",
       " 'Borrasca',\n",
       " 'Grim & Mild Presents',\n",
       " 'American Shadows',\n",
       " 'Bridgewater',\n",
       " 'Haunted Road',\n",
       " 'The Breakfast Club',\n",
       " 'Welcome to Night Vale',\n",
       " 'The Sleepy Bookshelf',\n",
       " 'Undertow: Blood Forest',\n",
       " 'The Lower Bottoms',\n",
       " 'Scary Horror Stories by Dr. NoSleep',\n",
       " 'Scare You To Sleep',\n",
       " 'پادکست رخ',\n",
       " 'Maintenance Phase',\n",
       " 'Six Minutes',\n",
       " 'Camp Redrum',\n",
       " 'Night Falls - Bedtime Stories For Sleep',\n",
       " 'Camp Monsters',\n",
       " 'Mayfair Watchers Society',\n",
       " 'Catholic Classics',\n",
       " 'The Bible Recap',\n",
       " 'The Candace Cameron Bure Podcast',\n",
       " 'Joel Osteen Podcast',\n",
       " 'Follow Him: A Come, Follow Me Podcast',\n",
       " \"Lisa Harper's Back Porch Theology\",\n",
       " 'The Fr. Mike Schmitz Catholic Podcast',\n",
       " 'Sunday Homilies with Fr. Mike Schmitz',\n",
       " 'The Jeff Cavins Show (Your Catholic Bible Study Podcast)',\n",
       " 'Bishop Barron’s Sunday Sermons - Catholic Preaching and Homilies',\n",
       " 'Saint Stories for Kids',\n",
       " 'The Word on Fire Show - Catholic Faith and Culture',\n",
       " 'Ask Father Josh (Your Catholic Question and Answer Podcast)',\n",
       " 'Girlfriends (A Podcast for Catholic Women)',\n",
       " 'Every Knee Shall Bow (Your Catholic Evangelization Podcast)',\n",
       " 'The Tightrope: Reflections for Busy Catholics',\n",
       " 'Unashamed with Phil & Jase Robertson',\n",
       " 'BibleProject',\n",
       " 'Tara Brach',\n",
       " 'Elevation with Steven Furtick',\n",
       " \"WHOA That's Good Podcast\",\n",
       " 'Made For This with Jennie Allen',\n",
       " 'Bible in a Year with Jack Graham',\n",
       " 'Timothy Keller Sermons Podcast by Gospel in Life',\n",
       " 'Spittin Chiclets',\n",
       " 'The Rise and Fall of Mars Hill',\n",
       " 'Rule of Life',\n",
       " 'The Basement with Tim Ross',\n",
       " 'New Heights with Jason and Travis Kelce',\n",
       " 'The Dan Le Batard Show with Stugotz',\n",
       " 'The Ryen Russillo Podcast',\n",
       " 'Fantasy Footballers - Fantasy Football Podcast',\n",
       " 'The Lowe Post',\n",
       " 'The Dave Portnoy Show with Eddie & Co',\n",
       " 'Macrodosing: Arian Foster and PFT Commenter',\n",
       " 'The Yak',\n",
       " 'Barstool Pick Em',\n",
       " 'The Dog Walk',\n",
       " 'KFC Radio',\n",
       " 'Million Dollaz Worth Of Game',\n",
       " 'Chicks in the Office',\n",
       " 'Sleep Meditation Music - Relaxing Music for Sleep, Meditation & Relaxation',\n",
       " 'BFFs with Dave Portnoy, Josh Richards, and Brianna Chickenfry',\n",
       " \"Bussin' With The Boys\",\n",
       " 'Fantasy Football Today',\n",
       " 'The Pat McAfee Show 2.0',\n",
       " 'The Herd with Colin Cowherd',\n",
       " 'The MeatEater Podcast',\n",
       " 'The Dan Patrick Show',\n",
       " 'Skip and Shannon: Undisputed',\n",
       " 'The Mismatch',\n",
       " 'Men In Blazers',\n",
       " 'All The Smoke',\n",
       " 'The Pivot Podcast',\n",
       " 'The Ringer NBA Show',\n",
       " 'Around the NFL',\n",
       " 'PTI',\n",
       " 'The Ramsey Show',\n",
       " 'Greeking Out from National Geographic Kids',\n",
       " 'The Important Part: Investing with Liz Young',\n",
       " 'Erika Taught Me',\n",
       " 'How I Built This with Guy Raz',\n",
       " 'Jocko Podcast',\n",
       " 'Journey To Launch',\n",
       " 'Side Hustle Pro',\n",
       " 'The His and Her Money Show',\n",
       " 'rich & REGULAR with Kiersten and Julien Saunders',\n",
       " 'Therapy for Black Girls',\n",
       " 'The Clever Girls Know Podcast',\n",
       " 'REAL AF with Andy Frisella',\n",
       " 'The Prof G Pod with Scott Galloway',\n",
       " 'BiggerPockets Real Estate Podcast',\n",
       " 'Marketplace',\n",
       " 'Motley Fool Money',\n",
       " 'THE ED MYLETT SHOW',\n",
       " 'Young and Profiting with Hala Taha',\n",
       " 'The $100 MBA Show',\n",
       " 'The Tim Ferriss Show',\n",
       " 'Habits and Hustle',\n",
       " 'Business Wars',\n",
       " 'The Greatness Machine',\n",
       " 'WorkLife with Adam Grant',\n",
       " 'The School of Greatness',\n",
       " 'On Purpose with Jay Shetty',\n",
       " 'The Mindvalley Podcast with Vishen',\n",
       " 'Dr. Joe Dispenza Audio Experience',\n",
       " 'The Mindset Mentor',\n",
       " 'Simple Stories in Spanish',\n",
       " 'Wow in the World',\n",
       " 'News in Slow Spanish Latino (Intermediate)',\n",
       " 'Coffee Break Spanish',\n",
       " 'Intermediate Spanish Podcast - Español Intermedio',\n",
       " 'Spanish for Beginners',\n",
       " 'News in Slow Spanish',\n",
       " 'Duolingo French Podcast',\n",
       " 'Relatos en inglés con Duolingo',\n",
       " 'Motivational and Inspirational',\n",
       " 'Motivation Hour',\n",
       " 'fearless',\n",
       " 'Fitness Motivation',\n",
       " 'Weekly Motivation by Ben Lionel Scott',\n",
       " 'Your World Within | Inspiration, Motivation and Life Stories From Eddie Pinero',\n",
       " 'For You From Eve',\n",
       " 'Not Your Typical with Katelynn Nolan',\n",
       " 'Circle Round',\n",
       " 'Anything Goes with Emma Chamberlain',\n",
       " 'The Wellness Cafe',\n",
       " 'Morning Rae',\n",
       " 'On My Mind with Ava Jules',\n",
       " 'Goes Without Saying',\n",
       " 'Moments Podcast',\n",
       " 'Self-Improvement',\n",
       " 'Healthy But Human',\n",
       " 'Surviving Narcissism with Dr. Les Carter',\n",
       " 'The Covert Narcissism Podcast',\n",
       " 'The Narcissistic Trauma Recovery Podcast',\n",
       " \"Understanding Today's Narcissist\",\n",
       " 'Dr. Laura Call of the Day',\n",
       " 'The Narcissist in Your Life Podcast',\n",
       " 'Waking Up to Narcissism',\n",
       " 'Therapy Thoughts',\n",
       " 'Help Me Be Me',\n",
       " 'Therapy Chat',\n",
       " 'The SelfWork Podcast',\n",
       " 'UnF*ck Your Brain',\n",
       " 'The Hardcore Self Help Podcast with Duff the Psych',\n",
       " 'Human Hope with Carlos Whittaker',\n",
       " 'Good Inside with Dr. Becky',\n",
       " 'The Arthur Podcast',\n",
       " 'Chrisley Confessions',\n",
       " 'Catholic Sprouts: Daily Podcast for Catholic Kids',\n",
       " 'Saints Alive Podcast',\n",
       " 'Abiding Together',\n",
       " 'Messy Family Podcast : Catholic conversations on marriage and family',\n",
       " 'Brains On! Science podcast for kids',\n",
       " 'Focus on the Family Broadcast',\n",
       " 'Stories Podcast: A Bedtime Show for Kids of All Ages',\n",
       " 'Raising Good Humans',\n",
       " 'Respectful Parenting: Janet Lansbury Unruffled',\n",
       " 'Story Pirates',\n",
       " 'Deep Sleep Sounds',\n",
       " 'Little Stories for Tiny People: Anytime and bedtime stories for kids',\n",
       " 'The Southern Tea',\n",
       " 'Raising Boys & Girls',\n",
       " 'Focus on Marriage Podcast',\n",
       " 'Forever Ago',\n",
       " 'The Best of Car Talk',\n",
       " 'Critical Role',\n",
       " 'Duck Call Room',\n",
       " 'ClutterBug Podcast - Organize, Clean and Transform your Home',\n",
       " 'Simple Farmhouse Life',\n",
       " 'Epic Gardening: Daily Growing Tips and Advice',\n",
       " 'Trash Taste Podcast',\n",
       " 'Life with Loverly with Brittany Sjogren',\n",
       " 'Frugal Friends Podcast',\n",
       " 'Game Scoop!',\n",
       " 'Podcast: The Ride',\n",
       " 'Past Gas by Donut Media',\n",
       " \"The joe gardener Show - Organic Gardening - Vegetable Gardening - Expert Garden Advice From Joe Lamp'l\",\n",
       " 'Hey Riddle Riddle',\n",
       " 'Nontendo Podcast',\n",
       " 'The Besties',\n",
       " 'The Joe Budden Podcast',\n",
       " 'Angie Martinez IRL',\n",
       " 'Dia de Los Muertos in Hell',\n",
       " 'Caresha Please',\n",
       " 'Broken Record with Rick Rubin, Malcolm Gladwell, Bruce Headlam and Justin Richmond',\n",
       " 'All Songs Considered',\n",
       " 'Rolling Stone Music Now',\n",
       " 'WTF with Marc Maron Podcast',\n",
       " 'World Cafe Words and Music Podcast',\n",
       " 'Song Exploder',\n",
       " 'My Expert Opinion',\n",
       " 'A History of Rock Music in 500 Songs',\n",
       " 'No Jumper',\n",
       " 'New Rory & MAL',\n",
       " '\"See, The Thing Is...\"',\n",
       " \"60 Songs That Explain the '90s\",\n",
       " \"Dolly Parton's America\",\n",
       " 'DISGRACELAND',\n",
       " 'BIG FACTS with Big Bank & DJ Scream',\n",
       " 'Every Single Album',\n",
       " 'Popcast',\n",
       " 'Wisdom From The Top with Guy Raz',\n",
       " 'Masters of Scale',\n",
       " 'Questioning Christianity with Tim Keller',\n",
       " 'TGC Podcast',\n",
       " 'Life and Books and Everything',\n",
       " 'Gospelbound',\n",
       " 'Sermon of the Day',\n",
       " 'The Briefing - AlbertMohler.com',\n",
       " '...and my guest is Richard Speight',\n",
       " 'The Max Lucado Encouraging Word Podcast',\n",
       " 'Exploring My Strange Bible',\n",
       " 'Ask NT Wright Anything',\n",
       " 'The Naked Bible Podcast',\n",
       " 'Theology in the Raw',\n",
       " 'The Holy Post',\n",
       " 'Hacking Humans',\n",
       " 'Cyber Security Headlines',\n",
       " 'Cybersecurity Today',\n",
       " 'SANS Internet Stormcenter Daily Cyber Security Podcast (Stormcast)',\n",
       " 'Malicious Life',\n",
       " 'Smashing Security',\n",
       " \"Aarthi and Sriram's Good Time Show\",\n",
       " 'The Twenty Minute VC (20VC): Venture Capital | Startup Funding | The Pitch',\n",
       " 'web3 with a16z',\n",
       " \"Invest Like the Best with Patrick O'Shaughnessy\",\n",
       " 'Bio Eats World',\n",
       " 'The Motherly Podcast',\n",
       " 'Happy as a Mother',\n",
       " 'My New Life',\n",
       " 'Molly of Denali',\n",
       " 'Weird But True',\n",
       " 'Story Spectacular',\n",
       " 'Pinkalicious & Peterrific',\n",
       " 'Live from Mount Olympus',\n",
       " 'Smash Boom Best',\n",
       " 'Overheard at National Geographic',\n",
       " 'Trafficked with Mariana van Zeller',\n",
       " \"Flip & Mozi's Guide to How To Be An Earthling\",\n",
       " 'Who, When, Wow!',\n",
       " 'But Why: A Podcast for Curious Kids',\n",
       " 'American Prestige',\n",
       " 'Coffee Convos with Kail Lowry and Lindsie Chrisley',\n",
       " 'Barely Famous',\n",
       " 'Baby Mamas No Drama with Kail Lowry & Vee Rivera',\n",
       " \"Vibin' & Kinda Thrivin'\",\n",
       " 'Restore The Glory Podcast',\n",
       " 'Among The Lilies',\n",
       " 'Lipstick on the Rim',\n",
       " 'Be My Guest with Ina Garten',\n",
       " 'The New Yorker: Fiction',\n",
       " 'The Poco a Poco Podcast with the Franciscan Friars of the Renewal',\n",
       " 'Blessed is She',\n",
       " 'Beloved and Blessed',\n",
       " 'Moment of Um',\n",
       " 'Tumble Science Podcast for Kids',\n",
       " 'Terrible, Thanks For Asking',\n",
       " 'IGN UK Podcast',\n",
       " \"Don't Ask Tig\",\n",
       " 'In the Dark',\n",
       " 'Make Me Smart',\n",
       " 'Focus on Parenting Podcast',\n",
       " 'Loving Well',\n",
       " 'Dr. James Dobson`s Family Talk',\n",
       " 'FamilyLife Today®',\n",
       " 'Family Talk on Oneplace.com',\n",
       " 'The Official Adventures in Odyssey Podcast',\n",
       " 'The Official Average Boy Podcast',\n",
       " 'The Boundless Show',\n",
       " \"Super Great Kids' Stories\",\n",
       " 'Short Stories for Kids: Bedtime ~ Car Time ~ Downtime',\n",
       " 'What If World - Stories for Kids',\n",
       " 'Parenting Beyond Discipline',\n",
       " 'Parenting Without Power Struggles',\n",
       " 'HERself',\n",
       " 'Real Pod',\n",
       " 'What We Said',\n",
       " 'Absolutely Not',\n",
       " 'Dear Gabby',\n",
       " 'Where Should We Begin? with Esther Perel',\n",
       " 'Science Vs',\n",
       " \"How's Work? with Esther Perel\",\n",
       " 'Crimetown',\n",
       " 'Welcome to Your Fantasy',\n",
       " 'Get Sleepy: Sleep meditation and stories',\n",
       " 'Sleep Wave - Meditations, Stories & Hypnosis',\n",
       " 'Tracks To Relax - Sleep Meditations and Relaxation',\n",
       " \"Send Me To Sleep - World's Sleepiest Stories, Meditation & Hypnosis\",\n",
       " 'Drift Off - Bedtime Stories',\n",
       " 'Sleep Tight Stories - Bedtime Stories for Kids',\n",
       " 'Stories For Kids',\n",
       " \"Blue's Clues & You: Story Time with Josh & Blue\",\n",
       " 'Ask Dr. Phil',\n",
       " 'Phil in the Blanks',\n",
       " 'Best Of Dr. Phil',\n",
       " 'I’ve Got a Secret! with Robin McGraw',\n",
       " 'Dr. Laura Weekly Podcast',\n",
       " \"Don't Mom Alone Podcast\",\n",
       " 'That Sounds Fun with Annie F. Downs',\n",
       " 'Girl Mom Podcast',\n",
       " 'Risen Motherhood',\n",
       " 'The Happy Hour with Jamie Ivey',\n",
       " 'Dadville with Dave Barnes and Jon McLaughlin',\n",
       " 'The Proverbs 31 Ministries Podcast',\n",
       " 'Million Bazillion',\n",
       " 'Under The Hood show',\n",
       " 'Ask Me Another',\n",
       " 'Says You! - A Quiz Show for Lovers of Words, Culture, and History',\n",
       " 'Dimension 20',\n",
       " 'Dungeons and Daddies',\n",
       " 'Not Another D&D Podcast',\n",
       " 'High Rollers DnD',\n",
       " 'A Bone to Pick with Michael Waddell',\n",
       " 'IGN Unfiltered',\n",
       " 'Granger Smith Podcast',\n",
       " 'Rodeo Time with Dale Brisby',\n",
       " 'Dr Duck Waterfowl Podcast',\n",
       " 'The 4:8 Men Podcast',\n",
       " 'A Slob Comes Clean Podcast with Dana K White',\n",
       " 'The Minimal Mom',\n",
       " 'Maximized Minimalist Podcast',\n",
       " 'Clutter Free Academy',\n",
       " 'Organize 365® Podcast',\n",
       " 'Wannabe Minimalist Show',\n",
       " 'Old Fashioned On Purpose',\n",
       " 'Pioneering Today',\n",
       " 'Homemaker Chic',\n",
       " 'Pantry Chat - Homesteading Family',\n",
       " \"The Homemaker's Club ® Podcast\",\n",
       " 'The Homegrown Podcast',\n",
       " \"The Beginner's Garden with Jill McSheehy\",\n",
       " 'Backyard Gardens - Gardening for everyone',\n",
       " 'Gardenerd Tip of the Week',\n",
       " 'You Bet Your Garden',\n",
       " 'MARGARET ROACH A WAY TO GARDEN',\n",
       " 'Abroad in Japan',\n",
       " 'OfflineTV Podcast',\n",
       " 'The Yard',\n",
       " 'Chuckle Sandwich',\n",
       " 'Anime Addicts Anonymous',\n",
       " 'The Official Podcast',\n",
       " 'Living with Landyn with Landyn Hutchinson',\n",
       " 'Living Fully with Mallory Ervin',\n",
       " 'IGN.com - Daily Fix (Video)',\n",
       " 'The Carpool with Kelly and Lizz',\n",
       " 'The Good Day Podcast with Sarah Joy',\n",
       " 'The Bestie Breakdown',\n",
       " 'You, Me & Mike',\n",
       " 'Inspired Budget',\n",
       " 'Frugal Debt Free Life',\n",
       " 'The Rachel Cruze Show',\n",
       " 'Minimal-ish: Minimalism, Intentional Living, Motherhood',\n",
       " \"Money Girl's Quick and Dirty Tips for a Richer Life\",\n",
       " 'Marriage Kids and Money',\n",
       " \"Podcast Beyond - IGN's PlayStation Show\",\n",
       " 'Podcast Unlocked',\n",
       " 'Nintendo Voice Chat',\n",
       " 'Kinda Funny Gamescast: Video Game Podcast',\n",
       " 'Kinda Funny Games Daily: Video Games News Podcast',\n",
       " 'PS I Love You XOXO: PlayStation Podcast by Kinda Funny',\n",
       " 'Get Played',\n",
       " 'High and Mighty',\n",
       " 'Very Amusing with Carlye Wisel',\n",
       " 'The Sloppy Boys',\n",
       " 'Race Chaser with Alaska & Willam',\n",
       " 'Midnight Snack with Michelle Collins',\n",
       " 'VERY THAT with Delta and Raja',\n",
       " 'Sloppy Seconds with Big Dipper & Meatball',\n",
       " 'Double Threat with Julie Klausner & Tom Scharpling',\n",
       " 'Just Between Us',\n",
       " 'Donut Racing Show',\n",
       " 'The Smoking Tire',\n",
       " 'Everyday Driver Car Debate',\n",
       " 'The Carmudgeon Show',\n",
       " 'TFLtalk Podcast',\n",
       " 'CarCast',\n",
       " 'The Bald and the Beautiful with Trixie Mattel and Katya Zamo',\n",
       " \"Talkin' Baseball (MLB Podcast)\",\n",
       " 'Killer Instinct',\n",
       " 'Correct Opinions with Trey Kennedy and Jake Triplett',\n",
       " 'Concealed Carry Podcast - Guns | Training | Defense | CCW',\n",
       " \"Bearing Arms' Cam & Co\",\n",
       " 'AR-15 Podcast - Modern Sporting Rifle Radio',\n",
       " 'We Like Shooting',\n",
       " 'The Colion Noir Podcast',\n",
       " 'This Week in Guns',\n",
       " 'SitcomD&D',\n",
       " 'Hello From The Magic Tavern',\n",
       " 'Story Break',\n",
       " 'Equity',\n",
       " 'Minimalist Moms Podcast',\n",
       " 'A Beautiful Mess Podcast',\n",
       " 'Sustainable Minimalists',\n",
       " 'The Purpose Show',\n",
       " 'The Wild with Chris Morgan',\n",
       " 'Sidedoor',\n",
       " 'How We Explore',\n",
       " 'Unexplainable',\n",
       " 'Bret Weinstein | DarkHorse Podcast',\n",
       " 'CYBER',\n",
       " 'Click Here',\n",
       " 'The Official SaaStr Podcast: SaaS | Founders | Investors',\n",
       " 'Bankless',\n",
       " 'There Are No Girls on the Internet',\n",
       " 'Hood Politics with Prop',\n",
       " 'It Could Happen Here',\n",
       " 'The Daily Zeitgeist',\n",
       " 'Divided Argument',\n",
       " 'The Lawfare Podcast',\n",
       " 'Walks Of Life',\n",
       " 'Teaching Texas',\n",
       " 'That Projector Life',\n",
       " 'The Human Design Podcast',\n",
       " 'DayLuna Human Design Podcast',\n",
       " 'Human Design',\n",
       " 'EXPANDED Podcast by To Be Magnetic™',\n",
       " 'Highest Self Podcast®',\n",
       " 'Decorating Tips and Tricks',\n",
       " 'Dear Alice | Interior Design',\n",
       " 'Design Time',\n",
       " 'The Girl Next Door Podcast',\n",
       " 'How to Decorate',\n",
       " 'Affordable Interior Design',\n",
       " 'Millennial Minimalists',\n",
       " 'clean simple free',\n",
       " 'The Mother Like a Boss Podcast',\n",
       " 'The Simplified Podcast with Emily Ley',\n",
       " 'Nature Guys',\n",
       " 'Outside/In',\n",
       " 'Going Wild with Dr. Rae Wynn-Grant',\n",
       " 'Outside Podcast',\n",
       " 'Seattle Now',\n",
       " 'Week In Review',\n",
       " 'KUOW Newsroom',\n",
       " 'terrestrial',\n",
       " 'Battle Tactics For Your Sexist Workplace',\n",
       " 'The Record',\n",
       " 'PORTRAITS',\n",
       " 'the memory palace',\n",
       " 'Twenty Thousand Hertz',\n",
       " 'ReThinking',\n",
       " 'Girls Next Level',\n",
       " 'Today, Explained',\n",
       " 'The Gray Area with Sean Illing',\n",
       " 'The Weeds',\n",
       " 'Future Perfect',\n",
       " 'The Impact',\n",
       " 'Worldly',\n",
       " 'Peak Prosperity',\n",
       " 'UnHerd with Freddie Sayers',\n",
       " 'TRIGGERnometry',\n",
       " '\"YOUR WELCOME\" with Michael Malice',\n",
       " 'Hacked',\n",
       " 'Waypoint Radio',\n",
       " 'Chapo',\n",
       " 'My First Time',\n",
       " 'VICE Meets',\n",
       " 'The VICE Guide to Right Now',\n",
       " 'Strongman',\n",
       " 'The Revolution with Steve Kornacki',\n",
       " 'The Michael Knowles Show',\n",
       " 'The SaaS Podcast - SaaS, Startups, Growth Hacking & Entrepreneurship',\n",
       " 'The Defiant - DeFi Podcast',\n",
       " 'The Scoop',\n",
       " 'Overpriced JPEGs',\n",
       " 'Empire',\n",
       " 'The Pomp Podcast',\n",
       " 'PROOF',\n",
       " 'The Diary Of A CEO with Steven Bartlett',\n",
       " 'PBD Podcast',\n",
       " 'Cancel Me, Daddy',\n",
       " 'Sounds Like A Cult',\n",
       " 'American Hysteria',\n",
       " 'ICYMI',\n",
       " 'Cool People Who Did Cool Stuff',\n",
       " 'Some More News',\n",
       " 'Knowledge Fight',\n",
       " \"I Don't Speak German\",\n",
       " '420 Day Fiance',\n",
       " 'Secretly Incredibly Fascinating',\n",
       " 'The Bechdel Cast',\n",
       " 'Strict Scrutiny',\n",
       " '5-4',\n",
       " 'Deep State Radio',\n",
       " 'Countdown to Capture',\n",
       " 'Intelligence Matters',\n",
       " 'SCOTUStalk',\n",
       " 'U.S. Supreme Court Oral Arguments',\n",
       " \"Amarica's Constitution\",\n",
       " 'Dissenting Opinions',\n",
       " 'We the People',\n",
       " 'Advisory Opinions',\n",
       " 'Congressional Dish',\n",
       " 'Macroaggressions',\n",
       " 'What Roman Mars Can Learn About Con Law',\n",
       " 'سقراط مع عمر الجريسي',\n",
       " 'The Langley Files: A CIA Podcast',\n",
       " 'Fever Dreams',\n",
       " 'A Matter of Degrees',\n",
       " 'Americast',\n",
       " 'Civics 101',\n",
       " 'The Real Story',\n",
       " 'The Truth of the Matter',\n",
       " \"Capitalisn't\",\n",
       " 'Legal Docket',\n",
       " 'Rational Security',\n",
       " 'Chatter',\n",
       " 'Stay Tuned with Preet',\n",
       " 'Talking Feds',\n",
       " 'The National Security Law Podcast',\n",
       " 'The Peter Attia Drive',\n",
       " 'The Meals That Made Me',\n",
       " 'Symptomatic: A Medical Mystery Podcast',\n",
       " 'Therapy and Theology',\n",
       " \"The Doctor's Farmacy with Mark Hyman, M.D.\",\n",
       " 'Nothing much happens; bedtime stories to help you sleep',\n",
       " 'Gravity',\n",
       " 'The Herle Burly',\n",
       " 'Mind Pump: Raw Fitness Truth',\n",
       " 'Passion Struck with John R. Miles',\n",
       " 'Sex With Emily',\n",
       " \"The Doctor's Art\",\n",
       " 'The Dr. John Delony Show',\n",
       " 'Heaven Bent',\n",
       " 'In Trust',\n",
       " 'Majority 54',\n",
       " 'Womanica',\n",
       " 'White Picket Fence',\n",
       " 'The Brown Girls Guide to Politics',\n",
       " 'Ordinary Equality',\n",
       " 'HISTORY This Week',\n",
       " 'Lost At Sea',\n",
       " 'Death of an Artist',\n",
       " 'Le Monstre',\n",
       " 'Thrive Like A Parent',\n",
       " 'The Chalene Show | Diet, Fitness & Life Balance',\n",
       " 'Purposeful Social Selling',\n",
       " 'QAnon Anonymous',\n",
       " 'Build Your Tribe | Grow Your Business with Social Media',\n",
       " 'The Melissa Made Show',\n",
       " 'Trust and Believe with Shaun T',\n",
       " 'You Are Not Broken',\n",
       " 'The Rachel Hollis Podcast',\n",
       " 'the bossbabe podcast',\n",
       " 'The Model Health Show',\n",
       " 'Your Virtual Upline Podcast',\n",
       " 'Level Up with Debbie Neal',\n",
       " 'Jessie Lee is The People’s Mentor',\n",
       " 'Women Inspiring Women',\n",
       " '6 Figure Influencer',\n",
       " 'Posting Through It',\n",
       " 'TrueAnon',\n",
       " 'The Outlaw Ocean',\n",
       " 'The Jasmine Star Show',\n",
       " 'Online Marketing Made Easy with Amy Porterfield',\n",
       " 'The Influencer Podcast',\n",
       " 'The Goal Digger Podcast',\n",
       " 'Do Your Crap',\n",
       " 'Mommy Millionaire',\n",
       " 'Minion Death Cult',\n",
       " 'Team Beachbody Coach Podcast',\n",
       " 'Everyday Wellness',\n",
       " 'Rise Together Podcast',\n",
       " 'Dr. Streicher’s Inside Information: THE Menopause Podcast',\n",
       " 'Essentially You: Empowering You On Your Health & Wellness Journey With Safe, Natural & Effective Solutions',\n",
       " 'Weight Loss for Busy Physicians',\n",
       " 'The Fit and Fabulous Podcast',\n",
       " 'Hit Play Not Pause',\n",
       " 'Be you, Unapologetically.',\n",
       " 'EmpowerHER',\n",
       " 'Earn Your Happy',\n",
       " 'Chapo Trap House',\n",
       " 'Grill Stream',\n",
       " 'Straight Up with Trent Shelton',\n",
       " 'Get Your Teach On',\n",
       " 'Talking Body with Amy Porterfield',\n",
       " 'Start Today Podcast',\n",
       " 'Your Fave’s Faves',\n",
       " 'The Genius Life',\n",
       " 'High Intensity Health with Mike Mutzel, MS',\n",
       " 'The Human Upgrade with Dave Asprey—formerly Bulletproof Radio',\n",
       " 'Dhru Purohit Podcast',\n",
       " 'Ben Greenfield Life',\n",
       " 'Network Marketing Ninja Podcast With Frazer Brookes',\n",
       " 'Getting Magnetic with Sandy & Wade',\n",
       " 'Blowback',\n",
       " 'Pressure Cooker',\n",
       " 'The Art of Online Business',\n",
       " 'The Mind Your Business Podcast',\n",
       " 'Knowledge For Men',\n",
       " \"The Solopreneur Hour Podcast with Michael O'Neal\",\n",
       " 'Social Triggers Insider with Derek Halpern',\n",
       " 'The Melanie Avalon Biohacking Podcast',\n",
       " 'The Intermittent Fasting Podcast',\n",
       " 'The Resetter Podcast',\n",
       " 'The Gutsy Gynecologist™️ Show',\n",
       " 'Kuper Island',\n",
       " 'Better with Dr. Stephanie',\n",
       " 'The Girlfriend Doctor w/ Dr. Anna Cabeca',\n",
       " 'Motivation with Brendon Burchard',\n",
       " \"Not Your Mother's Menopause with Dr. Fiona Lovely\",\n",
       " 'Thinner Peace in Menopause',\n",
       " 'The Flipping 50 Show',\n",
       " 'The Happy Menopause',\n",
       " 'The Other Side of Weight Loss',\n",
       " 'Ask the Health Expert',\n",
       " 'Ancient Health Podcast',\n",
       " 'Be Well By Kelly',\n",
       " 'The Last 10 Pounds Podcast',\n",
       " 'Losing 100 Pounds with Corinne',\n",
       " 'Half Size Me',\n",
       " 'Uncover',\n",
       " 'Weight Loss Made Real: How real women lose weight, stop overeating, and find authentic happiness.',\n",
       " 'The Life Coach School Podcast',\n",
       " 'Thin Within Podcast With Marna Thall | Mental Secrets For Weight Loss Mastery',\n",
       " 'Cutting Against The Grain',\n",
       " 'Nutrition with Judy',\n",
       " 'The Keto Savage Podcast',\n",
       " 'Optimal Protein Podcast (Fast Keto) with Vanessa Spina',\n",
       " 'The Carnivore Yogi Podcast',\n",
       " 'Carnivore Cast',\n",
       " 'Fuel Your Strength',\n",
       " 'The Ready State Podcast',\n",
       " 'Another Mother Runner',\n",
       " 'Death in a Small Town',\n",
       " 'The Neuro Experience with Louisa Nicola',\n",
       " 'The Chris Harder Show',\n",
       " 'Powerhouse Women',\n",
       " 'Style Your Mind Podcast',\n",
       " ...]"
      ]
     },
     "execution_count": 48,
     "metadata": {},
     "output_type": "execute_result"
    }
   ],
   "source": [
    "aa"
   ]
  },
  {
   "cell_type": "code",
   "execution_count": 63,
   "metadata": {},
   "outputs": [],
   "source": [
    "val2 = df_podcasts.name.values.tolist()\n",
    "val2.insert(0,'<select>')"
   ]
  },
  {
   "cell_type": "code",
   "execution_count": 64,
   "metadata": {},
   "outputs": [
    {
     "data": {
      "text/plain": [
       "['<select>',\n",
       " 'Rachel Maddow Presents: Ultra',\n",
       " 'Dateline NBC',\n",
       " 'The Daily',\n",
       " 'Crime Junkie',\n",
       " 'Morbid',\n",
       " 'SmartLess',\n",
       " 'Murdaugh Murders Podcast',\n",
       " 'The Ben Shapiro Show',\n",
       " 'Odd Trails',\n",
       " 'Culpable',\n",
       " 'Up First',\n",
       " 'The Piketon Massacre',\n",
       " 'The Mel Robbins Podcast',\n",
       " 'Stuff You Should Know',\n",
       " 'We Were Three',\n",
       " 'Huberman Lab',\n",
       " 'We Can Do Hard Things with Glennon Doyle',\n",
       " 'My Favorite Murder with Karen Kilgariff and Georgia Hardstark',\n",
       " 'Sold a Story',\n",
       " 'Gone South',\n",
       " 'Devil Town',\n",
       " 'Pardon My Take',\n",
       " '13 Days of Halloween',\n",
       " 'Something Was Wrong',\n",
       " 'Serial',\n",
       " 'The Bible in a Year (with Fr. Mike Schmitz)',\n",
       " 'The Bill Simmons Podcast',\n",
       " 'To Live and Die in LA',\n",
       " 'Next Question with Katie Couric',\n",
       " 'Pod Save America',\n",
       " 'Morning Wire',\n",
       " 'The Rachel Maddow Show',\n",
       " 'Bag Man',\n",
       " 'Internal Affairs',\n",
       " 'Alex Wagner Tonight',\n",
       " 'Why Is This Happening? The Chris Hayes Podcast',\n",
       " '#SistersInLaw',\n",
       " 'All In with Chris Hayes',\n",
       " 'The Dan Bongino Show',\n",
       " 'The Matt Walsh Show',\n",
       " \"Rick Wilson's The Enemies List\",\n",
       " 'The Megyn Kelly Show',\n",
       " 'Bannon`s War Room',\n",
       " 'The Glenn Beck Program',\n",
       " 'Candace Owens',\n",
       " 'The Charlie Kirk Show',\n",
       " 'Seeking Derangements',\n",
       " 'Global News Podcast',\n",
       " 'NPR News Now',\n",
       " 'Pivot',\n",
       " 'The NPR Politics Podcast',\n",
       " 'On with Kara Swisher',\n",
       " '20/20',\n",
       " '48 Hours',\n",
       " 'The Seduction',\n",
       " 'Motive for Murder',\n",
       " 'Dateline: Missing In America',\n",
       " 'Whistleblower',\n",
       " 'The Letter',\n",
       " 'Your Own Backyard',\n",
       " 'The Deck',\n",
       " 'Bone Valley',\n",
       " 'Anatomy of Murder',\n",
       " 'Last Podcast On The Left',\n",
       " 'BBC Inside Science',\n",
       " 'The Generation Why Podcast',\n",
       " 'Sword and Scale',\n",
       " 'MrBallen Podcast: Strange, Dark & Mysterious Stories',\n",
       " 'What Should I Read Next?',\n",
       " 'Hidden Brain',\n",
       " 'Down The Hill: The Delphi Murders',\n",
       " 'Ologies with Alie Ward',\n",
       " 'Blurry Creatures',\n",
       " 'StarTalk Radio',\n",
       " 'Something You Should Know',\n",
       " 'Science Friday',\n",
       " 'Short Wave',\n",
       " 'Radiolab',\n",
       " 'This American Life',\n",
       " 'Invisibilia',\n",
       " 'TED Radio Hour',\n",
       " 'The Supermassive Podcast',\n",
       " 'Freakonomics Radio',\n",
       " 'Fresh Air',\n",
       " 'Making Sense with Sam Harris',\n",
       " 'Freakonomics, M.D.',\n",
       " 'Sasquatch Chronicles',\n",
       " 'This Podcast Will Kill You',\n",
       " 'You Are Not So Smart',\n",
       " 'art bell tape vault',\n",
       " 'The Best of Coast to Coast AM',\n",
       " 'Stuff To Blow Your Mind',\n",
       " 'Discovery',\n",
       " \"Sean Carroll's Mindscape: Science, Society, Philosophy, Culture, Arts, and Ideas\",\n",
       " 'The Science of Happiness',\n",
       " 'Very Scary People',\n",
       " 'Murder Sheet',\n",
       " 'What Happened To Sandy Beal',\n",
       " 'Dua Lipa: At Your Service',\n",
       " 'Up and Vanished',\n",
       " 'Unraveled',\n",
       " 'Give Them Lala',\n",
       " 'Completely Arbortrary',\n",
       " 'In Defense of Plants Podcast',\n",
       " 'The Weirdest Thing I Learned This Week',\n",
       " 'Slumber Party With Alie and Georgia',\n",
       " 'Not So Secret Societies',\n",
       " \"Let's be friends\",\n",
       " 'Discovering Truth with Dan Duval',\n",
       " 'A View from the Bunker',\n",
       " 'The Confessionals',\n",
       " 'Bible Mysteries',\n",
       " 'Daniel and Jorge Explain the Universe',\n",
       " 'Planetary Radio: Space Exploration, Astronomy and Science',\n",
       " 'Universe Today Podcast',\n",
       " 'Ask a Spaceman!',\n",
       " 'SpaceTime with Stuart Gary',\n",
       " 'Something Scary',\n",
       " 'The Jordan Harbinger Show',\n",
       " 'BrainStuff',\n",
       " 'How to Be a Better Human',\n",
       " 'Mark Levin Podcast',\n",
       " 'Talk Is Jericho',\n",
       " 'Brown Ambition',\n",
       " 'Something to Wrestle with Bruce Prichard',\n",
       " 'The Stacking Benjamins Show',\n",
       " 'Science Magazine Podcast',\n",
       " \"Wait Wait... Don't Tell Me!\",\n",
       " 'Big Picture Science',\n",
       " 'Snap Judgment Presents: Spooked',\n",
       " 'The New Yorker Radio Hour',\n",
       " 'Radiolab for Kids Presents: Terrestrials',\n",
       " 'On the Media',\n",
       " 'Death, Sex & Money',\n",
       " 'Consider This from NPR',\n",
       " 'Throughline',\n",
       " 'The Indicator from Planet Money',\n",
       " 'Planet Money',\n",
       " 'Life Kit',\n",
       " 'Surviving El Chapo: The Twins Who Brought Down A Drug Lord',\n",
       " 'All There Is with Anderson Cooper',\n",
       " '99% Invisible',\n",
       " 'The Moth',\n",
       " 'The Ezra Klein Show',\n",
       " 'Real Ones with Jon Bernthal',\n",
       " 'The Tulsi Gabbard Show',\n",
       " \"Stuff They Don't Want You To Know\",\n",
       " 'Wolves Among Us',\n",
       " 'Joe Rogan Experience Review podcast',\n",
       " 'TheThinkingAtheist',\n",
       " 'Unlocked with Savannah Chrisley',\n",
       " 'Otherworld',\n",
       " 'The Way I Heard It with Mike Rowe',\n",
       " 'Behind the Bastards',\n",
       " 'Revisionist History',\n",
       " 'The Trojan Horse Affair',\n",
       " 'S-Town',\n",
       " 'Making',\n",
       " 'Sound Opinions',\n",
       " 'Nerdette',\n",
       " 'Lex Fridman Podcast',\n",
       " 'Hard Fork',\n",
       " 'All-In with Chamath, Jason, Sacks & Friedberg',\n",
       " 'Darknet Diaries',\n",
       " 'The Vergecast',\n",
       " 'Science In Action',\n",
       " 'Waveform: The MKBHD Podcast',\n",
       " 'This Week in Startups',\n",
       " 'WSJ’s The Future of Everything',\n",
       " 'Acquired',\n",
       " 'Endless Thread',\n",
       " 'Underserved',\n",
       " 'Reply All',\n",
       " 'CyberWire Daily',\n",
       " 'a16z Podcast',\n",
       " 'Your Undivided Attention',\n",
       " 'Deep Questions with Cal Newport',\n",
       " 'People I (Mostly) Admire',\n",
       " 'No Stupid Questions',\n",
       " 'The Freakonomics Radio Book Club',\n",
       " 'Literally! With Rob Lowe',\n",
       " 'Unladylike',\n",
       " \"Trillbilly Worker's Party\",\n",
       " 'The Atlas Obscura Podcast',\n",
       " 'LeVar Burton Reads',\n",
       " 'The Magnus Archives',\n",
       " 'Snap Judgment',\n",
       " 'Dedicated with Doug Brunt',\n",
       " 'Myths and Legends',\n",
       " 'Christopher Kimball’s Milk Street Radio',\n",
       " 'Poetry Unbound',\n",
       " 'The Book Review',\n",
       " 'The Splendid Table',\n",
       " 'Articles of Interest',\n",
       " 'The Jeselnik & Rosenthal Vanity Project',\n",
       " 'The Great Creators with Guy Raz',\n",
       " 'The Great Detectives of Old Time Radio',\n",
       " 'Selected Shorts',\n",
       " 'The Best of Making Sense with Sam Harris',\n",
       " 'Conversations With Coleman',\n",
       " 'Quillette Podcast',\n",
       " 'The Saad Truth with Dr. Saad',\n",
       " 'The Michael Shermer Show',\n",
       " 'Growth Mindset Podcast',\n",
       " 'Off Leash',\n",
       " 'Bigfoot Eyewitness Radio',\n",
       " 'Sasquatch Odyssey',\n",
       " 'My Bigfoot Sighting',\n",
       " 'Bigfoot Terror in the Woods Sightings and Encounters',\n",
       " 'Bigfoot and Beyond with Cliff and Bobo',\n",
       " 'Tenfold More Wicked Presents: Wicked Words',\n",
       " 'Buried Bones',\n",
       " 'Do You Need A Ride?',\n",
       " 'Sawbones: A Marital Tour of Misguided Medicine',\n",
       " \"That's Messed Up: An SVU Podcast\",\n",
       " 'Bananas',\n",
       " 'Inquiring Minds',\n",
       " \"World's Greatest Con\",\n",
       " 'Boars, Gore, and Swords: A House of The Dragon Podcast',\n",
       " 'HOME: Stories From L.A.',\n",
       " 'RiYL',\n",
       " 'Apps for Kids',\n",
       " \"Tell Me Something I Don't Know\",\n",
       " 'Boing Boing Gadgets',\n",
       " 'Art Bell Back in Time',\n",
       " 'Somewhere in the Skies',\n",
       " 'Truth Be Told',\n",
       " 'The Micah Hanks Program',\n",
       " \"Richard Syrett's Strange Planet\",\n",
       " 'Mysterious Radio: Paranormal, UFO & Lore Interviews',\n",
       " 'Ridiculous History',\n",
       " 'Stuff You Missed in History Class',\n",
       " 'The End Of The World with Josh Clark',\n",
       " 'Drink Champs',\n",
       " 'The Science Hour',\n",
       " 'CrowdScience',\n",
       " 'The Documentary Podcast',\n",
       " 'The Inquiry',\n",
       " 'In Our Time',\n",
       " \"You're Dead To Me\",\n",
       " 'Newshour',\n",
       " 'The Lazarus Heist',\n",
       " '6 Minute English',\n",
       " 'Why This Universe?',\n",
       " 'The Origins Podcast with Lawrence Krauss',\n",
       " 'Into the Impossible With Brian Keating',\n",
       " 'Quanta Science Podcast',\n",
       " 'The Happiness Lab with Dr. Laurie Santos',\n",
       " 'Ten Percent Happier with Dan Harris',\n",
       " 'Live Happy Now',\n",
       " 'A Mindful Moment',\n",
       " 'Good Life Project',\n",
       " \"Oprah's Super Soul\",\n",
       " 'Reveal',\n",
       " 'The World',\n",
       " 'Suave',\n",
       " 'The Takeaway',\n",
       " 'Latino USA',\n",
       " 'Hell and Gone',\n",
       " 'The Pink Moon Murders',\n",
       " 'Betrayal',\n",
       " 'The Jordan B. Peterson Podcast',\n",
       " 'How to Build a Happy Life',\n",
       " 'The Rich Roll Podcast',\n",
       " 'TED Talks Daily',\n",
       " 'Untangle',\n",
       " 'Being Well with Dr. Rick and Forrest Hanson',\n",
       " 'SPARKED',\n",
       " 'This Is Actually Happening',\n",
       " 'American Scandal',\n",
       " 'American History Tellers',\n",
       " 'The Vanished Podcast',\n",
       " 'Against The Odds',\n",
       " 'This Is Purdue',\n",
       " 'The Skinny Confidential Him & Her Podcast',\n",
       " 'The Daily Motivation',\n",
       " 'Duolingo Spanish Podcast',\n",
       " 'Motivation Daily by Motiversity',\n",
       " 'Trying Not to Care',\n",
       " 'Make Your Damn Bed',\n",
       " 'Navigating Narcissism with Dr. Ramani',\n",
       " 'Full Body Chills',\n",
       " 'Take Out Therapy',\n",
       " \"Here's Where It Gets Interesting\",\n",
       " 'The Daily Stoic',\n",
       " 'Tate Speech',\n",
       " 'Sad to Savage',\n",
       " 'Impact Theory with Tom Bilyeu',\n",
       " 'Mobituaries with Mo Rocca',\n",
       " 'SNAFU with Ed Helms',\n",
       " 'Lore',\n",
       " 'Cautionary Tales with Tim Harford',\n",
       " 'No Such Thing As A Fish',\n",
       " 'The Infinite Monkey Cage',\n",
       " 'The Curious Cases of Rutherford & Fry',\n",
       " 'Not Just the Tudors',\n",
       " 'Gone Medieval',\n",
       " 'Friday Night Comedy from BBC Radio 4',\n",
       " \"You're Wrong About\",\n",
       " 'Dark History',\n",
       " \"Dan Carlin's Hardcore History\",\n",
       " 'The Rest Is History',\n",
       " 'Revolutions',\n",
       " 'It Was Said',\n",
       " \"History That Doesn't Suck\",\n",
       " 'Noble Blood',\n",
       " 'The History of Rome',\n",
       " \"Aaron Mahnke's Cabinet of Curiosities\",\n",
       " 'History Daily',\n",
       " 'The Ancients',\n",
       " 'Kim Komando Today',\n",
       " 'The Tech Guy (Audio)',\n",
       " 'This Week in Tech (Audio)',\n",
       " 'The Problem With Jon Stewart',\n",
       " \"And That's What You REALLY Missed\",\n",
       " 'The Official Game of Thrones Podcast: House of the Dragon',\n",
       " 'Two Ts In A Pod with Teddi Mellencamp and Tamra Judge',\n",
       " 'The Ringer-Verse',\n",
       " 'The Rewatcher: Buffy the Vampire Slayer',\n",
       " \"Doesn't Sound like Anything to Me: A Westworld Recap\",\n",
       " 'A Cast of Kings - A House of the Dragon Podcast',\n",
       " 'HOTD: A House of the Dragon Podcast',\n",
       " 'Still Watching: White Lotus by Vanity Fair',\n",
       " 'Watch What Crappens',\n",
       " 'Blank Check with Griffin & David',\n",
       " 'Back to the Beach with Kristin and Stephen',\n",
       " 'Not Skinny But Not Fat',\n",
       " 'The Big Picture',\n",
       " 'The Rewatchables',\n",
       " 'Drama Queens',\n",
       " 'Doughboys',\n",
       " 'Pop Culture Happy Hour',\n",
       " 'Pod Meets World',\n",
       " 'Giggly Squad',\n",
       " 'Everything Iconic with Danny Pellegrino',\n",
       " 'Game of Thrones: Season 8 Redux',\n",
       " 'Reality with The King',\n",
       " \"Funny Cuz It's True with Elyse Myers\",\n",
       " 'Conan O’Brien Needs A Friend',\n",
       " 'Fly on the Wall with Dana Carvey and David Spade',\n",
       " 'My Brother, My Brother And Me',\n",
       " 'Wonderful!',\n",
       " 'The Adventure Zone',\n",
       " 'The Empty Bowl',\n",
       " 'Still Buffering',\n",
       " 'Shmanners',\n",
       " 'Gun Talk',\n",
       " 'Judge John Hodgman',\n",
       " 'Magic Lessons with Elizabeth Gilbert',\n",
       " 'The Flop House',\n",
       " 'Nobody Listens to Paula Poundstone',\n",
       " 'Office Ladies',\n",
       " '2 Bears, 1 Cave with Tom Segura & Bert Kreischer',\n",
       " 'Two Girls One Ghost',\n",
       " 'Normal Gossip',\n",
       " 'Distractible',\n",
       " 'Small Town Murder',\n",
       " 'This Past Weekend',\n",
       " 'The Toast',\n",
       " 'The Tim Dillon Show',\n",
       " 'Adam Carolla Show',\n",
       " \"Your Mom's House with Christina P. and Tom Segura\",\n",
       " \"And That's Why We Drink\",\n",
       " 'The Daily Show With Trevor Noah: Ears Edition',\n",
       " 'Monday Morning Podcast',\n",
       " 'Unstuffed',\n",
       " 'Old Gods of Appalachia',\n",
       " 'The NoSleep Podcast',\n",
       " 'Creepy',\n",
       " 'Borrasca',\n",
       " 'Grim & Mild Presents',\n",
       " 'American Shadows',\n",
       " 'Bridgewater',\n",
       " 'Haunted Road',\n",
       " 'The Breakfast Club',\n",
       " 'Welcome to Night Vale',\n",
       " 'The Sleepy Bookshelf',\n",
       " 'Undertow: Blood Forest',\n",
       " 'The Lower Bottoms',\n",
       " 'Scary Horror Stories by Dr. NoSleep',\n",
       " 'Scare You To Sleep',\n",
       " 'پادکست رخ',\n",
       " 'Maintenance Phase',\n",
       " 'Six Minutes',\n",
       " 'Camp Redrum',\n",
       " 'Night Falls - Bedtime Stories For Sleep',\n",
       " 'Camp Monsters',\n",
       " 'Mayfair Watchers Society',\n",
       " 'Catholic Classics',\n",
       " 'The Bible Recap',\n",
       " 'The Candace Cameron Bure Podcast',\n",
       " 'Joel Osteen Podcast',\n",
       " 'Follow Him: A Come, Follow Me Podcast',\n",
       " \"Lisa Harper's Back Porch Theology\",\n",
       " 'The Fr. Mike Schmitz Catholic Podcast',\n",
       " 'Sunday Homilies with Fr. Mike Schmitz',\n",
       " 'The Jeff Cavins Show (Your Catholic Bible Study Podcast)',\n",
       " 'Bishop Barron’s Sunday Sermons - Catholic Preaching and Homilies',\n",
       " 'Saint Stories for Kids',\n",
       " 'The Word on Fire Show - Catholic Faith and Culture',\n",
       " 'Ask Father Josh (Your Catholic Question and Answer Podcast)',\n",
       " 'Girlfriends (A Podcast for Catholic Women)',\n",
       " 'Every Knee Shall Bow (Your Catholic Evangelization Podcast)',\n",
       " 'The Tightrope: Reflections for Busy Catholics',\n",
       " 'Unashamed with Phil & Jase Robertson',\n",
       " 'BibleProject',\n",
       " 'Tara Brach',\n",
       " 'Elevation with Steven Furtick',\n",
       " \"WHOA That's Good Podcast\",\n",
       " 'Made For This with Jennie Allen',\n",
       " 'Bible in a Year with Jack Graham',\n",
       " 'Timothy Keller Sermons Podcast by Gospel in Life',\n",
       " 'Spittin Chiclets',\n",
       " 'The Rise and Fall of Mars Hill',\n",
       " 'Rule of Life',\n",
       " 'The Basement with Tim Ross',\n",
       " 'New Heights with Jason and Travis Kelce',\n",
       " 'The Dan Le Batard Show with Stugotz',\n",
       " 'The Ryen Russillo Podcast',\n",
       " 'Fantasy Footballers - Fantasy Football Podcast',\n",
       " 'The Lowe Post',\n",
       " 'The Dave Portnoy Show with Eddie & Co',\n",
       " 'Macrodosing: Arian Foster and PFT Commenter',\n",
       " 'The Yak',\n",
       " 'Barstool Pick Em',\n",
       " 'The Dog Walk',\n",
       " 'KFC Radio',\n",
       " 'Million Dollaz Worth Of Game',\n",
       " 'Chicks in the Office',\n",
       " 'Sleep Meditation Music - Relaxing Music for Sleep, Meditation & Relaxation',\n",
       " 'BFFs with Dave Portnoy, Josh Richards, and Brianna Chickenfry',\n",
       " \"Bussin' With The Boys\",\n",
       " 'Fantasy Football Today',\n",
       " 'The Pat McAfee Show 2.0',\n",
       " 'The Herd with Colin Cowherd',\n",
       " 'The MeatEater Podcast',\n",
       " 'The Dan Patrick Show',\n",
       " 'Skip and Shannon: Undisputed',\n",
       " 'The Mismatch',\n",
       " 'Men In Blazers',\n",
       " 'All The Smoke',\n",
       " 'The Pivot Podcast',\n",
       " 'The Ringer NBA Show',\n",
       " 'Around the NFL',\n",
       " 'PTI',\n",
       " 'The Ramsey Show',\n",
       " 'Greeking Out from National Geographic Kids',\n",
       " 'The Important Part: Investing with Liz Young',\n",
       " 'Erika Taught Me',\n",
       " 'How I Built This with Guy Raz',\n",
       " 'Jocko Podcast',\n",
       " 'Journey To Launch',\n",
       " 'Side Hustle Pro',\n",
       " 'The His and Her Money Show',\n",
       " 'rich & REGULAR with Kiersten and Julien Saunders',\n",
       " 'Therapy for Black Girls',\n",
       " 'The Clever Girls Know Podcast',\n",
       " 'REAL AF with Andy Frisella',\n",
       " 'The Prof G Pod with Scott Galloway',\n",
       " 'BiggerPockets Real Estate Podcast',\n",
       " 'Marketplace',\n",
       " 'Motley Fool Money',\n",
       " 'THE ED MYLETT SHOW',\n",
       " 'Young and Profiting with Hala Taha',\n",
       " 'The $100 MBA Show',\n",
       " 'The Tim Ferriss Show',\n",
       " 'Habits and Hustle',\n",
       " 'Business Wars',\n",
       " 'The Greatness Machine',\n",
       " 'WorkLife with Adam Grant',\n",
       " 'The School of Greatness',\n",
       " 'On Purpose with Jay Shetty',\n",
       " 'The Mindvalley Podcast with Vishen',\n",
       " 'Dr. Joe Dispenza Audio Experience',\n",
       " 'The Mindset Mentor',\n",
       " 'Simple Stories in Spanish',\n",
       " 'Wow in the World',\n",
       " 'News in Slow Spanish Latino (Intermediate)',\n",
       " 'Coffee Break Spanish',\n",
       " 'Intermediate Spanish Podcast - Español Intermedio',\n",
       " 'Spanish for Beginners',\n",
       " 'News in Slow Spanish',\n",
       " 'Duolingo French Podcast',\n",
       " 'Relatos en inglés con Duolingo',\n",
       " 'Motivational and Inspirational',\n",
       " 'Motivation Hour',\n",
       " 'fearless',\n",
       " 'Fitness Motivation',\n",
       " 'Weekly Motivation by Ben Lionel Scott',\n",
       " 'Your World Within | Inspiration, Motivation and Life Stories From Eddie Pinero',\n",
       " 'For You From Eve',\n",
       " 'Not Your Typical with Katelynn Nolan',\n",
       " 'Circle Round',\n",
       " 'Anything Goes with Emma Chamberlain',\n",
       " 'The Wellness Cafe',\n",
       " 'Morning Rae',\n",
       " 'On My Mind with Ava Jules',\n",
       " 'Goes Without Saying',\n",
       " 'Moments Podcast',\n",
       " 'Self-Improvement',\n",
       " 'Healthy But Human',\n",
       " 'Surviving Narcissism with Dr. Les Carter',\n",
       " 'The Covert Narcissism Podcast',\n",
       " 'The Narcissistic Trauma Recovery Podcast',\n",
       " \"Understanding Today's Narcissist\",\n",
       " 'Dr. Laura Call of the Day',\n",
       " 'The Narcissist in Your Life Podcast',\n",
       " 'Waking Up to Narcissism',\n",
       " 'Therapy Thoughts',\n",
       " 'Help Me Be Me',\n",
       " 'Therapy Chat',\n",
       " 'The SelfWork Podcast',\n",
       " 'UnF*ck Your Brain',\n",
       " 'The Hardcore Self Help Podcast with Duff the Psych',\n",
       " 'Human Hope with Carlos Whittaker',\n",
       " 'Good Inside with Dr. Becky',\n",
       " 'The Arthur Podcast',\n",
       " 'Chrisley Confessions',\n",
       " 'Catholic Sprouts: Daily Podcast for Catholic Kids',\n",
       " 'Saints Alive Podcast',\n",
       " 'Abiding Together',\n",
       " 'Messy Family Podcast : Catholic conversations on marriage and family',\n",
       " 'Brains On! Science podcast for kids',\n",
       " 'Focus on the Family Broadcast',\n",
       " 'Stories Podcast: A Bedtime Show for Kids of All Ages',\n",
       " 'Raising Good Humans',\n",
       " 'Respectful Parenting: Janet Lansbury Unruffled',\n",
       " 'Story Pirates',\n",
       " 'Deep Sleep Sounds',\n",
       " 'Little Stories for Tiny People: Anytime and bedtime stories for kids',\n",
       " 'The Southern Tea',\n",
       " 'Raising Boys & Girls',\n",
       " 'Focus on Marriage Podcast',\n",
       " 'Forever Ago',\n",
       " 'The Best of Car Talk',\n",
       " 'Critical Role',\n",
       " 'Duck Call Room',\n",
       " 'ClutterBug Podcast - Organize, Clean and Transform your Home',\n",
       " 'Simple Farmhouse Life',\n",
       " 'Epic Gardening: Daily Growing Tips and Advice',\n",
       " 'Trash Taste Podcast',\n",
       " 'Life with Loverly with Brittany Sjogren',\n",
       " 'Frugal Friends Podcast',\n",
       " 'Game Scoop!',\n",
       " 'Podcast: The Ride',\n",
       " 'Past Gas by Donut Media',\n",
       " \"The joe gardener Show - Organic Gardening - Vegetable Gardening - Expert Garden Advice From Joe Lamp'l\",\n",
       " 'Hey Riddle Riddle',\n",
       " 'Nontendo Podcast',\n",
       " 'The Besties',\n",
       " 'The Joe Budden Podcast',\n",
       " 'Angie Martinez IRL',\n",
       " 'Dia de Los Muertos in Hell',\n",
       " 'Caresha Please',\n",
       " 'Broken Record with Rick Rubin, Malcolm Gladwell, Bruce Headlam and Justin Richmond',\n",
       " 'All Songs Considered',\n",
       " 'Rolling Stone Music Now',\n",
       " 'WTF with Marc Maron Podcast',\n",
       " 'World Cafe Words and Music Podcast',\n",
       " 'Song Exploder',\n",
       " 'My Expert Opinion',\n",
       " 'A History of Rock Music in 500 Songs',\n",
       " 'No Jumper',\n",
       " 'New Rory & MAL',\n",
       " '\"See, The Thing Is...\"',\n",
       " \"60 Songs That Explain the '90s\",\n",
       " \"Dolly Parton's America\",\n",
       " 'DISGRACELAND',\n",
       " 'BIG FACTS with Big Bank & DJ Scream',\n",
       " 'Every Single Album',\n",
       " 'Popcast',\n",
       " 'Wisdom From The Top with Guy Raz',\n",
       " 'Masters of Scale',\n",
       " 'Questioning Christianity with Tim Keller',\n",
       " 'TGC Podcast',\n",
       " 'Life and Books and Everything',\n",
       " 'Gospelbound',\n",
       " 'Sermon of the Day',\n",
       " 'The Briefing - AlbertMohler.com',\n",
       " '...and my guest is Richard Speight',\n",
       " 'The Max Lucado Encouraging Word Podcast',\n",
       " 'Exploring My Strange Bible',\n",
       " 'Ask NT Wright Anything',\n",
       " 'The Naked Bible Podcast',\n",
       " 'Theology in the Raw',\n",
       " 'The Holy Post',\n",
       " 'Hacking Humans',\n",
       " 'Cyber Security Headlines',\n",
       " 'Cybersecurity Today',\n",
       " 'SANS Internet Stormcenter Daily Cyber Security Podcast (Stormcast)',\n",
       " 'Malicious Life',\n",
       " 'Smashing Security',\n",
       " \"Aarthi and Sriram's Good Time Show\",\n",
       " 'The Twenty Minute VC (20VC): Venture Capital | Startup Funding | The Pitch',\n",
       " 'web3 with a16z',\n",
       " \"Invest Like the Best with Patrick O'Shaughnessy\",\n",
       " 'Bio Eats World',\n",
       " 'The Motherly Podcast',\n",
       " 'Happy as a Mother',\n",
       " 'My New Life',\n",
       " 'Molly of Denali',\n",
       " 'Weird But True',\n",
       " 'Story Spectacular',\n",
       " 'Pinkalicious & Peterrific',\n",
       " 'Live from Mount Olympus',\n",
       " 'Smash Boom Best',\n",
       " 'Overheard at National Geographic',\n",
       " 'Trafficked with Mariana van Zeller',\n",
       " \"Flip & Mozi's Guide to How To Be An Earthling\",\n",
       " 'Who, When, Wow!',\n",
       " 'But Why: A Podcast for Curious Kids',\n",
       " 'American Prestige',\n",
       " 'Coffee Convos with Kail Lowry and Lindsie Chrisley',\n",
       " 'Barely Famous',\n",
       " 'Baby Mamas No Drama with Kail Lowry & Vee Rivera',\n",
       " \"Vibin' & Kinda Thrivin'\",\n",
       " 'Restore The Glory Podcast',\n",
       " 'Among The Lilies',\n",
       " 'Lipstick on the Rim',\n",
       " 'Be My Guest with Ina Garten',\n",
       " 'The New Yorker: Fiction',\n",
       " 'The Poco a Poco Podcast with the Franciscan Friars of the Renewal',\n",
       " 'Blessed is She',\n",
       " 'Beloved and Blessed',\n",
       " 'Moment of Um',\n",
       " 'Tumble Science Podcast for Kids',\n",
       " 'Terrible, Thanks For Asking',\n",
       " 'IGN UK Podcast',\n",
       " \"Don't Ask Tig\",\n",
       " 'In the Dark',\n",
       " 'Make Me Smart',\n",
       " 'Focus on Parenting Podcast',\n",
       " 'Loving Well',\n",
       " 'Dr. James Dobson`s Family Talk',\n",
       " 'FamilyLife Today®',\n",
       " 'Family Talk on Oneplace.com',\n",
       " 'The Official Adventures in Odyssey Podcast',\n",
       " 'The Official Average Boy Podcast',\n",
       " 'The Boundless Show',\n",
       " \"Super Great Kids' Stories\",\n",
       " 'Short Stories for Kids: Bedtime ~ Car Time ~ Downtime',\n",
       " 'What If World - Stories for Kids',\n",
       " 'Parenting Beyond Discipline',\n",
       " 'Parenting Without Power Struggles',\n",
       " 'HERself',\n",
       " 'Real Pod',\n",
       " 'What We Said',\n",
       " 'Absolutely Not',\n",
       " 'Dear Gabby',\n",
       " 'Where Should We Begin? with Esther Perel',\n",
       " 'Science Vs',\n",
       " \"How's Work? with Esther Perel\",\n",
       " 'Crimetown',\n",
       " 'Welcome to Your Fantasy',\n",
       " 'Get Sleepy: Sleep meditation and stories',\n",
       " 'Sleep Wave - Meditations, Stories & Hypnosis',\n",
       " 'Tracks To Relax - Sleep Meditations and Relaxation',\n",
       " \"Send Me To Sleep - World's Sleepiest Stories, Meditation & Hypnosis\",\n",
       " 'Drift Off - Bedtime Stories',\n",
       " 'Sleep Tight Stories - Bedtime Stories for Kids',\n",
       " 'Stories For Kids',\n",
       " \"Blue's Clues & You: Story Time with Josh & Blue\",\n",
       " 'Ask Dr. Phil',\n",
       " 'Phil in the Blanks',\n",
       " 'Best Of Dr. Phil',\n",
       " 'I’ve Got a Secret! with Robin McGraw',\n",
       " 'Dr. Laura Weekly Podcast',\n",
       " \"Don't Mom Alone Podcast\",\n",
       " 'That Sounds Fun with Annie F. Downs',\n",
       " 'Girl Mom Podcast',\n",
       " 'Risen Motherhood',\n",
       " 'The Happy Hour with Jamie Ivey',\n",
       " 'Dadville with Dave Barnes and Jon McLaughlin',\n",
       " 'The Proverbs 31 Ministries Podcast',\n",
       " 'Million Bazillion',\n",
       " 'Under The Hood show',\n",
       " 'Ask Me Another',\n",
       " 'Says You! - A Quiz Show for Lovers of Words, Culture, and History',\n",
       " 'Dimension 20',\n",
       " 'Dungeons and Daddies',\n",
       " 'Not Another D&D Podcast',\n",
       " 'High Rollers DnD',\n",
       " 'A Bone to Pick with Michael Waddell',\n",
       " 'IGN Unfiltered',\n",
       " 'Granger Smith Podcast',\n",
       " 'Rodeo Time with Dale Brisby',\n",
       " 'Dr Duck Waterfowl Podcast',\n",
       " 'The 4:8 Men Podcast',\n",
       " 'A Slob Comes Clean Podcast with Dana K White',\n",
       " 'The Minimal Mom',\n",
       " 'Maximized Minimalist Podcast',\n",
       " 'Clutter Free Academy',\n",
       " 'Organize 365® Podcast',\n",
       " 'Wannabe Minimalist Show',\n",
       " 'Old Fashioned On Purpose',\n",
       " 'Pioneering Today',\n",
       " 'Homemaker Chic',\n",
       " 'Pantry Chat - Homesteading Family',\n",
       " \"The Homemaker's Club ® Podcast\",\n",
       " 'The Homegrown Podcast',\n",
       " \"The Beginner's Garden with Jill McSheehy\",\n",
       " 'Backyard Gardens - Gardening for everyone',\n",
       " 'Gardenerd Tip of the Week',\n",
       " 'You Bet Your Garden',\n",
       " 'MARGARET ROACH A WAY TO GARDEN',\n",
       " 'Abroad in Japan',\n",
       " 'OfflineTV Podcast',\n",
       " 'The Yard',\n",
       " 'Chuckle Sandwich',\n",
       " 'Anime Addicts Anonymous',\n",
       " 'The Official Podcast',\n",
       " 'Living with Landyn with Landyn Hutchinson',\n",
       " 'Living Fully with Mallory Ervin',\n",
       " 'IGN.com - Daily Fix (Video)',\n",
       " 'The Carpool with Kelly and Lizz',\n",
       " 'The Good Day Podcast with Sarah Joy',\n",
       " 'The Bestie Breakdown',\n",
       " 'You, Me & Mike',\n",
       " 'Inspired Budget',\n",
       " 'Frugal Debt Free Life',\n",
       " 'The Rachel Cruze Show',\n",
       " 'Minimal-ish: Minimalism, Intentional Living, Motherhood',\n",
       " \"Money Girl's Quick and Dirty Tips for a Richer Life\",\n",
       " 'Marriage Kids and Money',\n",
       " \"Podcast Beyond - IGN's PlayStation Show\",\n",
       " 'Podcast Unlocked',\n",
       " 'Nintendo Voice Chat',\n",
       " 'Kinda Funny Gamescast: Video Game Podcast',\n",
       " 'Kinda Funny Games Daily: Video Games News Podcast',\n",
       " 'PS I Love You XOXO: PlayStation Podcast by Kinda Funny',\n",
       " 'Get Played',\n",
       " 'High and Mighty',\n",
       " 'Very Amusing with Carlye Wisel',\n",
       " 'The Sloppy Boys',\n",
       " 'Race Chaser with Alaska & Willam',\n",
       " 'Midnight Snack with Michelle Collins',\n",
       " 'VERY THAT with Delta and Raja',\n",
       " 'Sloppy Seconds with Big Dipper & Meatball',\n",
       " 'Double Threat with Julie Klausner & Tom Scharpling',\n",
       " 'Just Between Us',\n",
       " 'Donut Racing Show',\n",
       " 'The Smoking Tire',\n",
       " 'Everyday Driver Car Debate',\n",
       " 'The Carmudgeon Show',\n",
       " 'TFLtalk Podcast',\n",
       " 'CarCast',\n",
       " 'The Bald and the Beautiful with Trixie Mattel and Katya Zamo',\n",
       " \"Talkin' Baseball (MLB Podcast)\",\n",
       " 'Killer Instinct',\n",
       " 'Correct Opinions with Trey Kennedy and Jake Triplett',\n",
       " 'Concealed Carry Podcast - Guns | Training | Defense | CCW',\n",
       " \"Bearing Arms' Cam & Co\",\n",
       " 'AR-15 Podcast - Modern Sporting Rifle Radio',\n",
       " 'We Like Shooting',\n",
       " 'The Colion Noir Podcast',\n",
       " 'This Week in Guns',\n",
       " 'SitcomD&D',\n",
       " 'Hello From The Magic Tavern',\n",
       " 'Story Break',\n",
       " 'Equity',\n",
       " 'Minimalist Moms Podcast',\n",
       " 'A Beautiful Mess Podcast',\n",
       " 'Sustainable Minimalists',\n",
       " 'The Purpose Show',\n",
       " 'The Wild with Chris Morgan',\n",
       " 'Sidedoor',\n",
       " 'How We Explore',\n",
       " 'Unexplainable',\n",
       " 'Bret Weinstein | DarkHorse Podcast',\n",
       " 'CYBER',\n",
       " 'Click Here',\n",
       " 'The Official SaaStr Podcast: SaaS | Founders | Investors',\n",
       " 'Bankless',\n",
       " 'There Are No Girls on the Internet',\n",
       " 'Hood Politics with Prop',\n",
       " 'It Could Happen Here',\n",
       " 'The Daily Zeitgeist',\n",
       " 'Divided Argument',\n",
       " 'The Lawfare Podcast',\n",
       " 'Walks Of Life',\n",
       " 'Teaching Texas',\n",
       " 'That Projector Life',\n",
       " 'The Human Design Podcast',\n",
       " 'DayLuna Human Design Podcast',\n",
       " 'Human Design',\n",
       " 'EXPANDED Podcast by To Be Magnetic™',\n",
       " 'Highest Self Podcast®',\n",
       " 'Decorating Tips and Tricks',\n",
       " 'Dear Alice | Interior Design',\n",
       " 'Design Time',\n",
       " 'The Girl Next Door Podcast',\n",
       " 'How to Decorate',\n",
       " 'Affordable Interior Design',\n",
       " 'Millennial Minimalists',\n",
       " 'clean simple free',\n",
       " 'The Mother Like a Boss Podcast',\n",
       " 'The Simplified Podcast with Emily Ley',\n",
       " 'Nature Guys',\n",
       " 'Outside/In',\n",
       " 'Going Wild with Dr. Rae Wynn-Grant',\n",
       " 'Outside Podcast',\n",
       " 'Seattle Now',\n",
       " 'Week In Review',\n",
       " 'KUOW Newsroom',\n",
       " 'terrestrial',\n",
       " 'Battle Tactics For Your Sexist Workplace',\n",
       " 'The Record',\n",
       " 'PORTRAITS',\n",
       " 'the memory palace',\n",
       " 'Twenty Thousand Hertz',\n",
       " 'ReThinking',\n",
       " 'Girls Next Level',\n",
       " 'Today, Explained',\n",
       " 'The Gray Area with Sean Illing',\n",
       " 'The Weeds',\n",
       " 'Future Perfect',\n",
       " 'The Impact',\n",
       " 'Worldly',\n",
       " 'Peak Prosperity',\n",
       " 'UnHerd with Freddie Sayers',\n",
       " 'TRIGGERnometry',\n",
       " '\"YOUR WELCOME\" with Michael Malice',\n",
       " 'Hacked',\n",
       " 'Waypoint Radio',\n",
       " 'Chapo',\n",
       " 'My First Time',\n",
       " 'VICE Meets',\n",
       " 'The VICE Guide to Right Now',\n",
       " 'Strongman',\n",
       " 'The Revolution with Steve Kornacki',\n",
       " 'The Michael Knowles Show',\n",
       " 'The SaaS Podcast - SaaS, Startups, Growth Hacking & Entrepreneurship',\n",
       " 'The Defiant - DeFi Podcast',\n",
       " 'The Scoop',\n",
       " 'Overpriced JPEGs',\n",
       " 'Empire',\n",
       " 'The Pomp Podcast',\n",
       " 'PROOF',\n",
       " 'The Diary Of A CEO with Steven Bartlett',\n",
       " 'PBD Podcast',\n",
       " 'Cancel Me, Daddy',\n",
       " 'Sounds Like A Cult',\n",
       " 'American Hysteria',\n",
       " 'ICYMI',\n",
       " 'Cool People Who Did Cool Stuff',\n",
       " 'Some More News',\n",
       " 'Knowledge Fight',\n",
       " \"I Don't Speak German\",\n",
       " '420 Day Fiance',\n",
       " 'Secretly Incredibly Fascinating',\n",
       " 'The Bechdel Cast',\n",
       " 'Strict Scrutiny',\n",
       " '5-4',\n",
       " 'Deep State Radio',\n",
       " 'Countdown to Capture',\n",
       " 'Intelligence Matters',\n",
       " 'SCOTUStalk',\n",
       " 'U.S. Supreme Court Oral Arguments',\n",
       " \"Amarica's Constitution\",\n",
       " 'Dissenting Opinions',\n",
       " 'We the People',\n",
       " 'Advisory Opinions',\n",
       " 'Congressional Dish',\n",
       " 'Macroaggressions',\n",
       " 'What Roman Mars Can Learn About Con Law',\n",
       " 'سقراط مع عمر الجريسي',\n",
       " 'The Langley Files: A CIA Podcast',\n",
       " 'Fever Dreams',\n",
       " 'A Matter of Degrees',\n",
       " 'Americast',\n",
       " 'Civics 101',\n",
       " 'The Real Story',\n",
       " 'The Truth of the Matter',\n",
       " \"Capitalisn't\",\n",
       " 'Legal Docket',\n",
       " 'Rational Security',\n",
       " 'Chatter',\n",
       " 'Stay Tuned with Preet',\n",
       " 'Talking Feds',\n",
       " 'The National Security Law Podcast',\n",
       " 'The Peter Attia Drive',\n",
       " 'The Meals That Made Me',\n",
       " 'Symptomatic: A Medical Mystery Podcast',\n",
       " 'Therapy and Theology',\n",
       " \"The Doctor's Farmacy with Mark Hyman, M.D.\",\n",
       " 'Nothing much happens; bedtime stories to help you sleep',\n",
       " 'Gravity',\n",
       " 'The Herle Burly',\n",
       " 'Mind Pump: Raw Fitness Truth',\n",
       " 'Passion Struck with John R. Miles',\n",
       " 'Sex With Emily',\n",
       " \"The Doctor's Art\",\n",
       " 'The Dr. John Delony Show',\n",
       " 'Heaven Bent',\n",
       " 'In Trust',\n",
       " 'Majority 54',\n",
       " 'Womanica',\n",
       " 'White Picket Fence',\n",
       " 'The Brown Girls Guide to Politics',\n",
       " 'Ordinary Equality',\n",
       " 'HISTORY This Week',\n",
       " 'Lost At Sea',\n",
       " 'Death of an Artist',\n",
       " 'Le Monstre',\n",
       " 'Thrive Like A Parent',\n",
       " 'The Chalene Show | Diet, Fitness & Life Balance',\n",
       " 'Purposeful Social Selling',\n",
       " 'QAnon Anonymous',\n",
       " 'Build Your Tribe | Grow Your Business with Social Media',\n",
       " 'The Melissa Made Show',\n",
       " 'Trust and Believe with Shaun T',\n",
       " 'You Are Not Broken',\n",
       " 'The Rachel Hollis Podcast',\n",
       " 'the bossbabe podcast',\n",
       " 'The Model Health Show',\n",
       " 'Your Virtual Upline Podcast',\n",
       " 'Level Up with Debbie Neal',\n",
       " 'Jessie Lee is The People’s Mentor',\n",
       " 'Women Inspiring Women',\n",
       " '6 Figure Influencer',\n",
       " 'Posting Through It',\n",
       " 'TrueAnon',\n",
       " 'The Outlaw Ocean',\n",
       " 'The Jasmine Star Show',\n",
       " 'Online Marketing Made Easy with Amy Porterfield',\n",
       " 'The Influencer Podcast',\n",
       " 'The Goal Digger Podcast',\n",
       " 'Do Your Crap',\n",
       " 'Mommy Millionaire',\n",
       " 'Minion Death Cult',\n",
       " 'Team Beachbody Coach Podcast',\n",
       " 'Everyday Wellness',\n",
       " 'Rise Together Podcast',\n",
       " 'Dr. Streicher’s Inside Information: THE Menopause Podcast',\n",
       " 'Essentially You: Empowering You On Your Health & Wellness Journey With Safe, Natural & Effective Solutions',\n",
       " 'Weight Loss for Busy Physicians',\n",
       " 'The Fit and Fabulous Podcast',\n",
       " 'Hit Play Not Pause',\n",
       " 'Be you, Unapologetically.',\n",
       " 'EmpowerHER',\n",
       " 'Earn Your Happy',\n",
       " 'Chapo Trap House',\n",
       " 'Grill Stream',\n",
       " 'Straight Up with Trent Shelton',\n",
       " 'Get Your Teach On',\n",
       " 'Talking Body with Amy Porterfield',\n",
       " 'Start Today Podcast',\n",
       " 'Your Fave’s Faves',\n",
       " 'The Genius Life',\n",
       " 'High Intensity Health with Mike Mutzel, MS',\n",
       " 'The Human Upgrade with Dave Asprey—formerly Bulletproof Radio',\n",
       " 'Dhru Purohit Podcast',\n",
       " 'Ben Greenfield Life',\n",
       " 'Network Marketing Ninja Podcast With Frazer Brookes',\n",
       " 'Getting Magnetic with Sandy & Wade',\n",
       " 'Blowback',\n",
       " 'Pressure Cooker',\n",
       " 'The Art of Online Business',\n",
       " 'The Mind Your Business Podcast',\n",
       " 'Knowledge For Men',\n",
       " \"The Solopreneur Hour Podcast with Michael O'Neal\",\n",
       " 'Social Triggers Insider with Derek Halpern',\n",
       " 'The Melanie Avalon Biohacking Podcast',\n",
       " 'The Intermittent Fasting Podcast',\n",
       " 'The Resetter Podcast',\n",
       " 'The Gutsy Gynecologist™️ Show',\n",
       " 'Kuper Island',\n",
       " 'Better with Dr. Stephanie',\n",
       " 'The Girlfriend Doctor w/ Dr. Anna Cabeca',\n",
       " 'Motivation with Brendon Burchard',\n",
       " \"Not Your Mother's Menopause with Dr. Fiona Lovely\",\n",
       " 'Thinner Peace in Menopause',\n",
       " 'The Flipping 50 Show',\n",
       " 'The Happy Menopause',\n",
       " 'The Other Side of Weight Loss',\n",
       " 'Ask the Health Expert',\n",
       " 'Ancient Health Podcast',\n",
       " 'Be Well By Kelly',\n",
       " 'The Last 10 Pounds Podcast',\n",
       " 'Losing 100 Pounds with Corinne',\n",
       " 'Half Size Me',\n",
       " 'Uncover',\n",
       " 'Weight Loss Made Real: How real women lose weight, stop overeating, and find authentic happiness.',\n",
       " 'The Life Coach School Podcast',\n",
       " 'Thin Within Podcast With Marna Thall | Mental Secrets For Weight Loss Mastery',\n",
       " 'Cutting Against The Grain',\n",
       " 'Nutrition with Judy',\n",
       " 'The Keto Savage Podcast',\n",
       " 'Optimal Protein Podcast (Fast Keto) with Vanessa Spina',\n",
       " 'The Carnivore Yogi Podcast',\n",
       " 'Carnivore Cast',\n",
       " 'Fuel Your Strength',\n",
       " 'The Ready State Podcast',\n",
       " 'Another Mother Runner',\n",
       " 'Death in a Small Town',\n",
       " 'The Neuro Experience with Louisa Nicola',\n",
       " 'The Chris Harder Show',\n",
       " 'Powerhouse Women',\n",
       " 'Style Your Mind Podcast',\n",
       " ...]"
      ]
     },
     "execution_count": 64,
     "metadata": {},
     "output_type": "execute_result"
    }
   ],
   "source": [
    "val2"
   ]
  },
  {
   "cell_type": "code",
   "execution_count": 1,
   "metadata": {},
   "outputs": [
    {
     "data": {
      "application/vnd.jupyter.widget-view+json": {
       "model_id": "76a92afe844e4b9cb73dbb68fbd85f05",
       "version_major": 2,
       "version_minor": 0
      },
      "text/plain": [
       "Downloading:   0%|          | 0.00/352 [00:00<?, ?B/s]"
      ]
     },
     "metadata": {},
     "output_type": "display_data"
    },
    {
     "data": {
      "application/vnd.jupyter.widget-view+json": {
       "model_id": "4dbefcf6eea04b429134f22430bd385d",
       "version_major": 2,
       "version_minor": 0
      },
      "text/plain": [
       "Downloading:   0%|          | 0.00/232k [00:00<?, ?B/s]"
      ]
     },
     "metadata": {},
     "output_type": "display_data"
    },
    {
     "data": {
      "application/vnd.jupyter.widget-view+json": {
       "model_id": "8f0ad24edd6b486c89d4be4289f8638e",
       "version_major": 2,
       "version_minor": 0
      },
      "text/plain": [
       "Downloading:   0%|          | 0.00/466k [00:00<?, ?B/s]"
      ]
     },
     "metadata": {},
     "output_type": "display_data"
    },
    {
     "data": {
      "application/vnd.jupyter.widget-view+json": {
       "model_id": "02903803a8cc43a899e5a5d3a6db3f6d",
       "version_major": 2,
       "version_minor": 0
      },
      "text/plain": [
       "Downloading:   0%|          | 0.00/112 [00:00<?, ?B/s]"
      ]
     },
     "metadata": {},
     "output_type": "display_data"
    },
    {
     "data": {
      "application/vnd.jupyter.widget-view+json": {
       "model_id": "78ba344f2ccc4c8bb2e210d1d8375e1f",
       "version_major": 2,
       "version_minor": 0
      },
      "text/plain": [
       "Downloading:   0%|          | 0.00/573 [00:00<?, ?B/s]"
      ]
     },
     "metadata": {},
     "output_type": "display_data"
    },
    {
     "data": {
      "application/vnd.jupyter.widget-view+json": {
       "model_id": "e3b4fe2b2b1b4a21a91302d336ed9180",
       "version_major": 2,
       "version_minor": 0
      },
      "text/plain": [
       "Downloading:   0%|          | 0.00/134M [00:00<?, ?B/s]"
      ]
     },
     "metadata": {},
     "output_type": "display_data"
    },
    {
     "name": "stdout",
     "output_type": "stream",
     "text": [
      "Sentence embeddings:\n",
      "tensor([[-2.0262e-04,  8.1480e-02,  3.1362e-02,  2.9206e-03,  2.6156e-02,\n",
      "          2.9074e-02,  7.8262e-02, -1.8042e-03,  1.0134e-01, -4.5171e-02,\n",
      "          5.8435e-02, -1.5320e-02,  5.4996e-02, -9.8643e-02, -3.5025e-02,\n",
      "          8.4568e-03,  1.5861e-02,  1.0563e-02, -3.4271e-02, -4.7506e-03,\n",
      "          9.9902e-02, -2.0602e-02, -4.4784e-02,  3.1214e-02, -1.1924e-02,\n",
      "         -5.1501e-02, -1.3361e-02,  1.8962e-02,  9.7681e-02, -5.4411e-02,\n",
      "         -3.4331e-02,  8.1291e-02,  4.8812e-02, -1.1028e-02,  2.1352e-02,\n",
      "          1.2719e-02, -1.4397e-02,  3.6286e-02, -7.6123e-02,  3.2329e-02,\n",
      "          2.0810e-02, -4.2202e-02,  9.1291e-02,  2.0853e-02, -3.0802e-02,\n",
      "         -8.3850e-02,  1.3089e-02, -3.0063e-02,  4.1123e-02, -1.2750e-01,\n",
      "         -7.7803e-02, -3.9341e-02,  1.5260e-03, -2.8011e-02,  3.4166e-02,\n",
      "          1.4671e-02, -7.7165e-02,  1.6362e-01,  4.1129e-02, -5.2446e-02,\n",
      "         -4.1877e-02,  1.8053e-02, -1.3892e-02, -3.6819e-02,  6.9498e-02,\n",
      "         -2.5709e-02,  3.5855e-02,  2.1019e-02, -3.8845e-02,  5.4893e-03,\n",
      "         -5.2454e-02,  2.5310e-02, -3.3734e-02,  1.3260e-01, -6.1091e-02,\n",
      "          3.2604e-02,  5.7724e-02, -2.3485e-02,  2.1315e-02, -1.9393e-04,\n",
      "         -6.7914e-03, -9.2327e-02,  8.6955e-03,  4.6764e-02, -1.0960e-02,\n",
      "          3.9058e-02,  4.6745e-02, -6.9786e-02, -8.7697e-03, -4.9558e-03,\n",
      "         -4.6013e-03, -1.3325e-02,  2.3268e-02, -3.5346e-02,  4.8449e-03,\n",
      "          1.1384e-02, -1.2826e-02, -6.8646e-02,  9.0570e-02,  1.4658e-01,\n",
      "         -2.5707e-03,  1.9660e-03, -4.4464e-02,  8.9292e-02, -1.8448e-03,\n",
      "         -7.3945e-02,  2.7054e-02, -1.6221e-02, -6.7888e-03,  5.0309e-03,\n",
      "          2.8731e-03,  1.0946e-01,  5.2622e-03, -2.6717e-02,  2.4029e-02,\n",
      "         -1.0200e-01, -5.5133e-02,  3.1116e-02, -4.2566e-02,  2.4117e-02,\n",
      "          8.6225e-02,  1.4062e-02,  5.4398e-02,  6.5821e-03, -6.5458e-03,\n",
      "         -1.8252e-01,  3.3347e-03, -3.5597e-02,  7.0852e-02, -9.5739e-02,\n",
      "         -1.9637e-02, -3.8111e-02, -3.3517e-02, -1.2258e-02, -1.9562e-02,\n",
      "         -1.8821e-02,  7.0906e-02, -2.3828e-02, -4.3826e-02,  4.1405e-03,\n",
      "          2.3494e-02,  7.0897e-02,  4.7444e-02,  1.1003e-01, -1.4624e-02,\n",
      "          8.3857e-02, -2.4992e-02,  2.4340e-02,  2.5843e-02,  3.4865e-03,\n",
      "          7.7577e-02,  1.3685e-02, -1.1244e-03, -4.0978e-02,  9.4304e-03,\n",
      "          8.8913e-02,  1.7867e-02, -1.2560e-02,  2.0347e-02,  2.6828e-02,\n",
      "         -1.1238e-01, -4.3561e-03, -3.5928e-02,  3.5933e-03,  3.4327e-02,\n",
      "         -5.9771e-02, -1.5273e-02,  1.9603e-02, -1.8184e-02,  2.4307e-02,\n",
      "          3.6186e-02,  1.4060e-02,  7.6398e-02, -2.2979e-02, -3.0206e-02,\n",
      "         -5.1809e-02,  8.7023e-03,  1.0374e-02,  2.1267e-02,  1.4750e-02,\n",
      "          1.9905e-02, -3.2680e-02, -5.5886e-02,  1.3337e-02, -2.5530e-02,\n",
      "          2.4946e-02, -2.1107e-02, -9.4090e-03,  6.4730e-02,  8.3395e-02,\n",
      "         -6.2127e-02, -1.8043e-02, -1.3113e-02,  5.5395e-03,  8.6745e-03,\n",
      "         -4.6162e-02,  2.9396e-02,  1.2284e-02,  2.9066e-02, -2.4620e-02,\n",
      "         -3.5201e-02,  4.1181e-02, -5.1175e-02, -7.2992e-02, -4.1523e-02,\n",
      "         -2.8216e-02,  2.1841e-02, -2.0928e-02, -7.1991e-02, -6.3535e-02,\n",
      "          2.9739e-02,  8.8681e-02, -1.2057e-01,  6.4130e-03, -1.4459e-02,\n",
      "          2.0245e-03,  2.1488e-02,  4.1197e-02, -9.9740e-02, -3.5870e-03,\n",
      "         -3.1988e-02, -8.8822e-02,  1.0366e-02,  1.4272e-32, -6.8385e-02,\n",
      "          9.5183e-02, -6.6033e-02, -1.3887e-03,  2.5154e-02, -1.4938e-02,\n",
      "          2.0573e-02,  9.6137e-03, -5.1258e-02,  2.0013e-02, -6.8329e-02,\n",
      "          7.2115e-02,  1.0044e-03,  5.3354e-02, -6.6384e-02, -4.9683e-02,\n",
      "          6.0900e-03,  5.8269e-02, -1.7934e-02,  1.6042e-02,  2.4676e-03,\n",
      "          1.0990e-01, -6.0473e-02,  3.4910e-02,  8.8677e-03,  5.3822e-02,\n",
      "          3.7571e-02, -4.1250e-02, -9.2934e-02, -2.5795e-02, -2.7331e-02,\n",
      "         -3.4021e-03, -5.4225e-02,  8.9704e-02, -3.5219e-02,  2.8063e-02,\n",
      "          1.0967e-01, -8.7929e-02, -2.8321e-02, -1.2709e-02, -7.5368e-02,\n",
      "         -6.2294e-02, -1.0085e-01,  1.6844e-01, -6.5540e-02, -2.0168e-02,\n",
      "          2.0491e-02, -5.0510e-03,  3.5321e-02,  1.8797e-02, -8.6906e-02,\n",
      "         -4.4078e-02,  3.2455e-02,  3.7313e-03, -4.6977e-02, -6.9929e-03,\n",
      "         -1.1259e-02, -3.0085e-02,  2.6413e-02, -2.5476e-02, -9.4452e-02,\n",
      "          4.4760e-02,  2.5994e-02,  3.3665e-02,  1.0736e-01,  2.3867e-02,\n",
      "         -5.2156e-02, -2.5788e-02, -8.8478e-03, -4.3215e-02, -5.7881e-02,\n",
      "         -5.8849e-03, -4.2223e-02,  1.2517e-02,  1.2976e-02,  1.6190e-02,\n",
      "         -2.0928e-02, -8.6367e-02, -5.2927e-02, -9.7206e-04,  5.2095e-02,\n",
      "         -1.6528e-02,  6.2264e-02, -4.5418e-03,  2.8056e-02,  1.7149e-02,\n",
      "         -4.0357e-02,  1.9064e-02, -1.7533e-02,  4.1397e-02,  3.0693e-02,\n",
      "         -6.7856e-02,  9.4663e-02,  6.1528e-02, -2.6196e-02,  1.3921e-32,\n",
      "          1.4822e-02, -1.5217e-01,  2.2513e-02,  2.2708e-02,  9.2292e-02,\n",
      "         -2.1754e-04,  6.1387e-02, -7.1298e-02, -3.9596e-02, -9.7090e-03,\n",
      "         -6.7819e-02,  3.6662e-03, -2.5306e-02,  9.2944e-02,  1.6062e-02,\n",
      "          1.1275e-01,  7.1876e-03, -2.6523e-04, -9.7104e-02,  2.0065e-03,\n",
      "          5.1454e-02,  1.5657e-03, -8.6278e-02, -7.9788e-03,  2.0431e-02,\n",
      "          8.4078e-03, -7.0003e-02,  2.1912e-02, -1.6641e-02,  2.1762e-02,\n",
      "          2.4746e-02,  8.9329e-02,  3.6120e-02, -5.7498e-02,  9.1585e-03,\n",
      "          1.2513e-02,  6.6342e-02, -5.7440e-02,  2.8195e-02, -6.7379e-02,\n",
      "         -2.0346e-02,  4.7499e-02,  9.1575e-03,  8.0042e-02,  5.6499e-02,\n",
      "          6.3730e-02, -1.9476e-02,  5.6836e-03,  2.9342e-02, -3.6142e-02,\n",
      "          4.4897e-02, -4.1797e-02,  5.8553e-02, -1.5352e-03,  3.3426e-02,\n",
      "         -3.7150e-02,  9.1379e-02,  4.6740e-03, -1.4017e-02,  2.1975e-02,\n",
      "          2.3849e-02,  6.2093e-02,  4.9103e-02, -2.9028e-04],\n",
      "        [ 6.4757e-02,  4.8520e-02, -1.7860e-02, -4.7978e-02, -5.9088e-02,\n",
      "         -5.2142e-02,  3.9443e-02, -6.2844e-02,  6.6121e-02,  7.6580e-02,\n",
      "         -2.1254e-04,  1.5320e-02,  3.9968e-02, -7.0601e-02,  2.4245e-02,\n",
      "         -4.1588e-02, -1.4465e-03, -7.7605e-03, -5.6043e-02, -8.8963e-02,\n",
      "          7.0695e-02,  2.1028e-02,  2.8623e-02, -7.8708e-03, -1.6565e-02,\n",
      "          7.3264e-02, -9.4989e-02,  1.3173e-02, -7.2403e-03, -5.3078e-02,\n",
      "          1.8276e-02,  8.4790e-02,  2.0148e-02, -5.9290e-03,  2.0633e-02,\n",
      "         -2.2634e-02, -5.8569e-02, -2.3669e-02,  4.6745e-03, -2.8571e-02,\n",
      "          4.1322e-02,  3.8646e-02,  3.7961e-02, -7.8511e-04,  4.3212e-02,\n",
      "         -6.8687e-03, -7.1445e-02, -1.3836e-02,  6.3514e-02, -3.9610e-02,\n",
      "         -9.4036e-02, -2.8578e-02, -5.9751e-02,  4.5022e-02, -6.7160e-03,\n",
      "         -6.9539e-02, -1.7032e-02,  1.4767e-01,  8.3853e-03, -6.9842e-02,\n",
      "         -9.5375e-02,  6.2728e-02,  5.6312e-03,  9.3425e-04,  4.2998e-02,\n",
      "         -2.3814e-02,  1.7499e-02, -4.1666e-02, -9.1068e-02,  4.0324e-02,\n",
      "         -5.2188e-02, -1.3495e-02, -8.4515e-02,  1.5438e-02, -5.9344e-03,\n",
      "         -5.4702e-02,  5.3660e-02, -3.3120e-02,  3.2658e-02,  3.9698e-03,\n",
      "          3.1456e-02, -7.8030e-02, -2.3606e-02, -4.9058e-02,  1.3479e-02,\n",
      "         -1.4947e-02,  1.0118e-03,  1.3985e-02, -3.9593e-02,  5.1761e-03,\n",
      "         -4.1498e-02, -7.5046e-02,  5.3408e-02,  2.3429e-02, -9.2043e-05,\n",
      "          5.9118e-02,  6.0023e-03, -1.8379e-02,  1.0178e-01,  1.6152e-01,\n",
      "         -3.0536e-02,  3.3435e-02,  4.7782e-02, -7.9538e-02, -8.6922e-02,\n",
      "         -6.1917e-02,  3.8695e-02,  1.1651e-02,  8.7407e-03, -1.3770e-02,\n",
      "         -1.7931e-03,  1.6942e-02,  4.2991e-02,  2.1575e-02, -8.6345e-03,\n",
      "         -3.0009e-02, -1.5688e-02, -2.4927e-02, -1.0175e-01,  1.1502e-01,\n",
      "          5.3017e-02,  6.1178e-02, -2.1013e-02,  1.5198e-02,  1.5468e-02,\n",
      "         -1.3327e-01,  4.2989e-02, -1.0496e-02,  4.3588e-02,  1.4731e-02,\n",
      "          1.6897e-02,  1.8899e-02, -8.4391e-02, -4.1344e-02, -8.0098e-03,\n",
      "         -2.5796e-02, -1.5376e-02,  4.5267e-02, -2.4526e-02, -5.1237e-02,\n",
      "          4.2822e-02,  7.4222e-02, -9.3769e-02,  6.7627e-02, -2.8599e-02,\n",
      "          8.1742e-02, -6.8643e-02, -3.6141e-02,  2.3759e-02,  7.5191e-02,\n",
      "          2.6128e-03,  1.0520e-02, -6.7882e-02,  6.1901e-04,  3.1989e-02,\n",
      "          1.6200e-02, -1.3205e-02, -9.0472e-02,  1.8151e-02, -2.3106e-02,\n",
      "         -2.0236e-02,  9.2012e-02,  3.0936e-02, -1.7037e-02,  1.4810e-01,\n",
      "          1.8567e-02, -1.4637e-02,  1.4305e-02, -1.0724e-01, -1.8698e-02,\n",
      "          8.3791e-02, -3.9420e-02,  2.4687e-02,  6.7460e-02,  5.2700e-02,\n",
      "          3.0487e-03,  5.5075e-02, -2.9316e-02,  9.9098e-03, -7.4482e-02,\n",
      "          4.8239e-03, -3.1327e-03,  6.5845e-02,  2.5837e-02,  2.5481e-02,\n",
      "         -8.7161e-03, -1.3478e-03,  1.9123e-02,  2.8082e-02,  3.6589e-02,\n",
      "         -2.4493e-02, -8.0808e-02,  2.4913e-02, -5.3329e-03, -1.7102e-02,\n",
      "          3.3867e-02,  6.3400e-02, -3.3917e-03, -6.7354e-02, -5.5938e-03,\n",
      "          2.1498e-02,  6.5722e-02, -4.7381e-02, -7.9362e-02,  4.1011e-02,\n",
      "         -4.6011e-02, -6.3486e-03, -1.1641e-01, -1.7334e-02,  1.8095e-02,\n",
      "          3.6837e-02,  4.4314e-02, -3.6483e-02,  8.4557e-02, -9.2859e-03,\n",
      "          1.4072e-02,  3.9823e-02, -1.7269e-02,  4.2461e-02, -8.4236e-02,\n",
      "         -9.0057e-02, -1.0825e-01,  5.1165e-02, -6.6264e-34,  1.0048e-02,\n",
      "          1.4766e-01, -1.2518e-01,  1.3070e-02, -7.7228e-02, -4.0407e-02,\n",
      "         -2.2842e-04,  3.9996e-02,  2.8852e-02, -7.1699e-02,  5.1952e-02,\n",
      "         -1.1209e-02, -4.2056e-02,  1.6541e-02, -4.6490e-03, -6.9046e-02,\n",
      "          8.3359e-02,  1.3289e-01,  1.7192e-02, -3.9012e-02,  5.0293e-04,\n",
      "          5.8492e-02, -1.9177e-02,  4.0329e-02, -1.1858e-01, -2.2612e-02,\n",
      "          4.3220e-02,  3.7335e-04, -2.6073e-02,  7.5084e-03,  2.6288e-02,\n",
      "         -9.5066e-03, -3.0889e-02,  8.5365e-02, -7.8631e-02,  5.0377e-03,\n",
      "          1.0590e-02, -5.0390e-02, -3.7519e-02,  1.0257e-01, -1.0085e-02,\n",
      "         -1.9220e-02, -9.5136e-02,  4.9900e-02, -4.5786e-02, -2.0724e-02,\n",
      "          6.8227e-03, -1.0297e-02,  2.7976e-02, -9.2418e-02,  5.9145e-02,\n",
      "         -6.7858e-02, -1.6362e-02, -5.3730e-02,  2.5811e-02, -3.9608e-02,\n",
      "         -1.3228e-02, -8.0786e-02,  3.2411e-02, -1.1777e-02, -5.6467e-02,\n",
      "          2.8093e-02,  1.3829e-02, -6.2383e-03,  3.3643e-02,  6.1135e-02,\n",
      "          1.8746e-02,  8.0135e-02,  4.9136e-02, -1.7234e-02,  9.3471e-03,\n",
      "         -1.3336e-02, -1.3108e-02,  4.1614e-03, -5.4686e-03, -9.3124e-02,\n",
      "         -4.0893e-02, -2.4925e-02, -5.9402e-02, -3.1374e-02,  5.2622e-02,\n",
      "         -5.0378e-02,  2.7204e-02,  2.3029e-02,  2.6585e-02, -2.2152e-02,\n",
      "          8.5036e-02,  6.2771e-02, -2.5475e-02,  4.6020e-02, -1.1727e-02,\n",
      "          4.5752e-02,  7.5289e-02,  2.2162e-02, -9.4698e-03,  2.6075e-32,\n",
      "         -4.3285e-02, -6.5349e-02, -1.4460e-01,  2.5365e-02,  8.4028e-02,\n",
      "         -7.9134e-03,  3.1147e-02, -1.2550e-01, -2.0571e-02, -2.6311e-02,\n",
      "          2.4025e-02,  3.1844e-02, -5.1213e-02,  5.7909e-02,  9.6494e-03,\n",
      "          6.7943e-02,  1.1691e-03,  1.9395e-02, -1.3452e-02,  3.5442e-02,\n",
      "         -3.8499e-02, -1.4651e-02, -2.8915e-02, -3.0350e-02, -2.8647e-02,\n",
      "          2.8942e-02, -1.1235e-02,  4.1892e-03,  5.2143e-02,  7.4083e-04,\n",
      "          3.0334e-02,  5.1220e-02, -2.3024e-02, -5.6751e-02, -2.7655e-02,\n",
      "         -5.0641e-02,  7.3886e-02,  3.7308e-02,  9.6625e-02, -1.1150e-02,\n",
      "          1.3744e-02, -1.0921e-02, -6.5582e-03,  6.8876e-03, -6.5519e-02,\n",
      "          6.8191e-04,  1.5204e-02,  1.5714e-02,  2.2339e-02, -4.5055e-02,\n",
      "          3.9938e-02, -5.9020e-02,  5.9023e-02, -5.9431e-02,  6.6442e-02,\n",
      "         -5.4190e-02, -1.8829e-02,  1.1727e-01,  8.4974e-03,  1.0795e-01,\n",
      "         -7.0657e-04,  3.3757e-02,  8.4337e-03, -6.0036e-02]])\n"
     ]
    }
   ],
   "source": [
    "from transformers import AutoTokenizer, AutoModel\n",
    "import torch\n",
    "import torch.nn.functional as F\n",
    "\n",
    "#Mean Pooling - Take attention mask into account for correct averaging\n",
    "def mean_pooling(model_output, attention_mask):\n",
    "    token_embeddings = model_output[0] #First element of model_output contains all token embeddings\n",
    "    input_mask_expanded = attention_mask.unsqueeze(-1).expand(token_embeddings.size()).float()\n",
    "    return torch.sum(token_embeddings * input_mask_expanded, 1) / torch.clamp(input_mask_expanded.sum(1), min=1e-9)\n",
    "\n",
    "\n",
    "# Sentences we want sentence embeddings for\n",
    "sentences = ['This is an example sentence', 'Each sentence is converted']\n",
    "\n",
    "# Load model from HuggingFace Hub\n",
    "tokenizer = AutoTokenizer.from_pretrained('sentence-transformers/all-MiniLM-L12-v2')\n",
    "model = AutoModel.from_pretrained('sentence-transformers/all-MiniLM-L12-v2')\n",
    "\n",
    "# Tokenize sentences\n",
    "encoded_input = tokenizer(sentences, padding=True, truncation=True, return_tensors='pt')\n",
    "\n",
    "# Compute token embeddings\n",
    "with torch.no_grad():\n",
    "    model_output = model(**encoded_input)\n",
    "\n",
    "# Perform pooling\n",
    "sentence_embeddings = mean_pooling(model_output, encoded_input['attention_mask'])\n",
    "\n",
    "# Normalize embeddings\n",
    "sentence_embeddings = F.normalize(sentence_embeddings, p=2, dim=1)\n",
    "\n",
    "print(\"Sentence embeddings:\")\n",
    "print(sentence_embeddings.shape)\n"
   ]
  },
  {
   "cell_type": "code",
   "execution_count": 2,
   "metadata": {},
   "outputs": [
    {
     "data": {
      "text/plain": [
       "torch.Size([2, 384])"
      ]
     },
     "execution_count": 2,
     "metadata": {},
     "output_type": "execute_result"
    }
   ],
   "source": [
    "sentence_embeddings.shape"
   ]
  },
  {
   "cell_type": "code",
   "execution_count": 9,
   "metadata": {},
   "outputs": [
    {
     "ename": "TypeError",
     "evalue": "file must have 'read' and 'readline' attributes",
     "output_type": "error",
     "traceback": [
      "\u001b[0;31m---------------------------------------------------------------------------\u001b[0m",
      "\u001b[0;31mTypeError\u001b[0m                                 Traceback (most recent call last)",
      "Cell \u001b[0;32mIn[9], line 2\u001b[0m\n\u001b[1;32m      1\u001b[0m \u001b[39mimport\u001b[39;00m \u001b[39mpickle\u001b[39;00m\n\u001b[0;32m----> 2\u001b[0m model\u001b[39m=\u001b[39m pickle\u001b[39m.\u001b[39;49mload(\u001b[39m'\u001b[39;49m\u001b[39m/Users/piyush/Desktop/dsml_Portfolio/podcast/final_push/models/pytorch_model.bin\u001b[39;49m\u001b[39m'\u001b[39;49m)\n",
      "\u001b[0;31mTypeError\u001b[0m: file must have 'read' and 'readline' attributes"
     ]
    }
   ],
   "source": [
    "import pickle\n",
    "model= pickle.load('/Users/piyush/Desktop/dsml_Portfolio/podcast/final_push/models/pytorch_model.bin')\n"
   ]
  },
  {
   "cell_type": "code",
   "execution_count": 12,
   "metadata": {},
   "outputs": [
    {
     "ename": "TypeError",
     "evalue": "initial_value must be str or None, not bytes",
     "output_type": "error",
     "traceback": [
      "\u001b[0;31m---------------------------------------------------------------------------\u001b[0m",
      "\u001b[0;31mTypeError\u001b[0m                                 Traceback (most recent call last)",
      "Cell \u001b[0;32mIn[12], line 5\u001b[0m\n\u001b[1;32m      3\u001b[0m f \u001b[39m=\u001b[39m \u001b[39mopen\u001b[39m(\u001b[39m\"\u001b[39m\u001b[39m/Users/piyush/Desktop/dsml_Portfolio/podcast/final_push/models/pytorch_model.bin\u001b[39m\u001b[39m\"\u001b[39m,\u001b[39m\"\u001b[39m\u001b[39mrb\u001b[39m\u001b[39m\"\u001b[39m)\n\u001b[1;32m      4\u001b[0m bin_data \u001b[39m=\u001b[39m f\u001b[39m.\u001b[39mread()\n\u001b[0;32m----> 5\u001b[0m sio \u001b[39m=\u001b[39m io\u001b[39m.\u001b[39;49mStringIO(bin_data)\n\u001b[1;32m      6\u001b[0m graph_data \u001b[39m=\u001b[39m pickle\u001b[39m.\u001b[39mload(sio)\n",
      "\u001b[0;31mTypeError\u001b[0m: initial_value must be str or None, not bytes"
     ]
    }
   ],
   "source": [
    "import io\n",
    "\n",
    "f = open(\"/Users/piyush/Desktop/dsml_Portfolio/podcast/final_push/models/pytorch_model.bin\",\"rb\")\n",
    "bin_data = f.read()\n",
    "sio = io.StringIO(bin_data)\n",
    "graph_data = pickle.load(sio)"
   ]
  },
  {
   "cell_type": "code",
   "execution_count": 13,
   "metadata": {},
   "outputs": [
    {
     "ename": "ModuleNotFoundError",
     "evalue": "No module named 'keras'",
     "output_type": "error",
     "traceback": [
      "\u001b[0;31m---------------------------------------------------------------------------\u001b[0m",
      "\u001b[0;31mModuleNotFoundError\u001b[0m                       Traceback (most recent call last)",
      "Cell \u001b[0;32mIn[13], line 1\u001b[0m\n\u001b[0;32m----> 1\u001b[0m \u001b[39mfrom\u001b[39;00m \u001b[39mkeras\u001b[39;00m\u001b[39m.\u001b[39;00m\u001b[39mmodels\u001b[39;00m \u001b[39mimport\u001b[39;00m load_model\n\u001b[1;32m      3\u001b[0m model \u001b[39m=\u001b[39m load_model(\u001b[39m'\u001b[39m\u001b[39m/Users/piyush/Desktop/dsml_Portfolio/podcast/final_push/models/tf_model.h5\u001b[39m\u001b[39m'\u001b[39m)\n",
      "\u001b[0;31mModuleNotFoundError\u001b[0m: No module named 'keras'"
     ]
    }
   ],
   "source": [
    "from keras.models import load_model\n",
    "\n",
    "model = load_model('/Users/piyush/Desktop/dsml_Portfolio/podcast/final_push/models/tf_model.h5')"
   ]
  },
  {
   "cell_type": "code",
   "execution_count": 15,
   "metadata": {},
   "outputs": [],
   "source": [
    "model = torch.load('/Users/piyush/Desktop/dsml_Portfolio/podcast/final_push/models/pytorch_model.bin')"
   ]
  },
  {
   "cell_type": "code",
   "execution_count": 20,
   "metadata": {},
   "outputs": [
    {
     "data": {
      "text/plain": [
       "{'embeddings.position_ids': tensor([[  0,   1,   2,   3,   4,   5,   6,   7,   8,   9,  10,  11,  12,  13,\n",
       "           14,  15,  16,  17,  18,  19,  20,  21,  22,  23,  24,  25,  26,  27,\n",
       "           28,  29,  30,  31,  32,  33,  34,  35,  36,  37,  38,  39,  40,  41,\n",
       "           42,  43,  44,  45,  46,  47,  48,  49,  50,  51,  52,  53,  54,  55,\n",
       "           56,  57,  58,  59,  60,  61,  62,  63,  64,  65,  66,  67,  68,  69,\n",
       "           70,  71,  72,  73,  74,  75,  76,  77,  78,  79,  80,  81,  82,  83,\n",
       "           84,  85,  86,  87,  88,  89,  90,  91,  92,  93,  94,  95,  96,  97,\n",
       "           98,  99, 100, 101, 102, 103, 104, 105, 106, 107, 108, 109, 110, 111,\n",
       "          112, 113, 114, 115, 116, 117, 118, 119, 120, 121, 122, 123, 124, 125,\n",
       "          126, 127, 128, 129, 130, 131, 132, 133, 134, 135, 136, 137, 138, 139,\n",
       "          140, 141, 142, 143, 144, 145, 146, 147, 148, 149, 150, 151, 152, 153,\n",
       "          154, 155, 156, 157, 158, 159, 160, 161, 162, 163, 164, 165, 166, 167,\n",
       "          168, 169, 170, 171, 172, 173, 174, 175, 176, 177, 178, 179, 180, 181,\n",
       "          182, 183, 184, 185, 186, 187, 188, 189, 190, 191, 192, 193, 194, 195,\n",
       "          196, 197, 198, 199, 200, 201, 202, 203, 204, 205, 206, 207, 208, 209,\n",
       "          210, 211, 212, 213, 214, 215, 216, 217, 218, 219, 220, 221, 222, 223,\n",
       "          224, 225, 226, 227, 228, 229, 230, 231, 232, 233, 234, 235, 236, 237,\n",
       "          238, 239, 240, 241, 242, 243, 244, 245, 246, 247, 248, 249, 250, 251,\n",
       "          252, 253, 254, 255, 256, 257, 258, 259, 260, 261, 262, 263, 264, 265,\n",
       "          266, 267, 268, 269, 270, 271, 272, 273, 274, 275, 276, 277, 278, 279,\n",
       "          280, 281, 282, 283, 284, 285, 286, 287, 288, 289, 290, 291, 292, 293,\n",
       "          294, 295, 296, 297, 298, 299, 300, 301, 302, 303, 304, 305, 306, 307,\n",
       "          308, 309, 310, 311, 312, 313, 314, 315, 316, 317, 318, 319, 320, 321,\n",
       "          322, 323, 324, 325, 326, 327, 328, 329, 330, 331, 332, 333, 334, 335,\n",
       "          336, 337, 338, 339, 340, 341, 342, 343, 344, 345, 346, 347, 348, 349,\n",
       "          350, 351, 352, 353, 354, 355, 356, 357, 358, 359, 360, 361, 362, 363,\n",
       "          364, 365, 366, 367, 368, 369, 370, 371, 372, 373, 374, 375, 376, 377,\n",
       "          378, 379, 380, 381, 382, 383, 384, 385, 386, 387, 388, 389, 390, 391,\n",
       "          392, 393, 394, 395, 396, 397, 398, 399, 400, 401, 402, 403, 404, 405,\n",
       "          406, 407, 408, 409, 410, 411, 412, 413, 414, 415, 416, 417, 418, 419,\n",
       "          420, 421, 422, 423, 424, 425, 426, 427, 428, 429, 430, 431, 432, 433,\n",
       "          434, 435, 436, 437, 438, 439, 440, 441, 442, 443, 444, 445, 446, 447,\n",
       "          448, 449, 450, 451, 452, 453, 454, 455, 456, 457, 458, 459, 460, 461,\n",
       "          462, 463, 464, 465, 466, 467, 468, 469, 470, 471, 472, 473, 474, 475,\n",
       "          476, 477, 478, 479, 480, 481, 482, 483, 484, 485, 486, 487, 488, 489,\n",
       "          490, 491, 492, 493, 494, 495, 496, 497, 498, 499, 500, 501, 502, 503,\n",
       "          504, 505, 506, 507, 508, 509, 510, 511]]),\n",
       " 'embeddings.word_embeddings.weight': tensor([[-0.0200, -0.0034, -0.0147,  ...,  0.0381, -0.0054,  0.0311],\n",
       "         [-0.0164, -0.0306,  0.0487,  ..., -0.0158,  0.0132, -0.0076],\n",
       "         [-0.0179, -0.0110,  0.0321,  ..., -0.0232,  0.0219, -0.0079],\n",
       "         ...,\n",
       "         [-0.0268, -0.0060,  0.0316,  ..., -0.0249,  0.0128, -0.0103],\n",
       "         [-0.0040, -0.0477,  0.0333,  ..., -0.0235,  0.0242, -0.0132],\n",
       "         [-0.0484,  0.0109,  0.0187,  ..., -0.0177,  0.0081,  0.0046]]),\n",
       " 'embeddings.position_embeddings.weight': tensor([[-0.0856, -0.0329, -0.0170,  ...,  0.0874,  0.0966,  0.0267],\n",
       "         [-0.0327,  0.0023,  0.0211,  ...,  0.0282,  0.0455, -0.0098],\n",
       "         [-0.0134, -0.0095,  0.0317,  ...,  0.0063,  0.0461, -0.0163],\n",
       "         ...,\n",
       "         [ 0.0050,  0.0131, -0.0085,  ..., -0.0356,  0.0383, -0.0005],\n",
       "         [ 0.0155,  0.0149, -0.0155,  ...,  0.0017,  0.0265, -0.0240],\n",
       "         [-0.0231, -0.0088, -0.0210,  ..., -0.0408,  0.0536, -0.0063]]),\n",
       " 'embeddings.token_type_embeddings.weight': tensor([[ 1.4616e-02,  3.7614e-03, -1.2041e-02, -1.7753e-02,  4.8783e-03,\n",
       "           1.3684e-02, -1.5841e-02,  1.4262e-03, -1.4349e-02,  3.3464e-02,\n",
       "          -2.1087e-03, -3.1063e-03, -1.4516e-02,  3.0483e-02,  1.1329e-02,\n",
       "           1.5538e-02, -6.8175e-03,  3.8150e-03,  8.8316e-03,  2.4345e-03,\n",
       "           1.2749e-02, -2.0664e-02,  5.0729e-03,  1.3227e-02, -4.7854e-03,\n",
       "           1.9461e-02, -1.4864e-03,  2.2843e-02, -1.0688e-02,  7.5761e-03,\n",
       "          -8.3454e-03, -4.0247e-03, -2.4043e-03, -2.5713e-03, -1.3619e-03,\n",
       "           1.2682e-02,  6.0804e-03,  6.1391e-03,  5.5376e-03,  8.1780e-03,\n",
       "           6.3440e-03,  3.7561e-03,  9.1863e-04,  1.3406e-02,  5.4030e-03,\n",
       "          -5.2754e-03, -3.1430e-03,  2.4232e-02,  1.0720e-02,  3.1478e-03,\n",
       "          -9.0174e-03,  6.6919e-03, -2.9094e-02, -3.9733e-03,  1.5522e-02,\n",
       "          -2.0244e-03, -2.6359e-02,  9.5589e-03,  1.9244e-03,  3.5413e-02,\n",
       "          -5.4312e-03,  4.4582e-03, -7.2367e-04,  5.2085e-02, -1.4895e-02,\n",
       "           4.1143e-03, -1.9306e-03,  1.1798e-03,  6.0645e-03,  1.1015e-02,\n",
       "          -7.8719e-04, -3.3420e-03, -5.6455e-03,  1.0752e-02,  7.0322e-03,\n",
       "           1.0270e-02,  3.3538e-03,  3.9798e-03,  1.5482e-02,  8.4532e-03,\n",
       "           1.5356e-02, -2.3663e-02, -5.5256e-03,  3.5257e-02, -7.1915e-03,\n",
       "          -1.0290e-03, -9.1508e-04, -5.3220e-04,  1.3478e-02, -1.6917e-03,\n",
       "           8.4189e-04,  5.0449e-03,  1.9900e-03, -1.3663e-02,  4.4935e-02,\n",
       "          -1.2053e-02,  2.7142e-03,  8.5658e-04,  3.2008e-02, -6.7536e-02,\n",
       "           1.7703e-02, -1.9739e-02, -4.6192e-03,  1.0610e-02,  8.7262e-03,\n",
       "          -1.6085e-02, -7.0262e-04, -3.6490e-03, -3.5997e-03,  2.2918e-03,\n",
       "          -1.0335e-02, -2.7695e-02, -2.4184e-02,  1.5204e-02,  2.1405e-02,\n",
       "           1.3741e-02,  3.1920e-04,  1.7027e-02, -9.8122e-03,  1.8854e-02,\n",
       "           2.4173e-02,  4.3121e-03,  1.9433e-02, -3.9045e-03, -6.9629e-03,\n",
       "           2.7662e-02,  5.0670e-03,  1.2279e-02, -3.2558e-03, -7.6325e-03,\n",
       "          -2.1944e-02, -1.0698e-02, -9.1932e-04,  1.0053e-02, -1.9808e-02,\n",
       "          -8.2935e-03, -6.5135e-03, -3.3694e-03, -2.7561e-04, -3.0335e-02,\n",
       "           1.1904e-03,  8.0456e-03,  1.2746e-02,  7.2875e-03,  1.9639e-02,\n",
       "          -3.9417e-02,  1.1136e-02,  4.3329e-03, -1.0543e-02,  1.4741e-02,\n",
       "          -3.0333e-03, -4.3851e-04, -1.6645e-02,  5.4629e-03,  1.3646e-02,\n",
       "           1.8332e-02,  2.6311e-03,  6.9417e-02, -4.3484e-04, -1.5403e-02,\n",
       "          -1.5587e-02, -1.9312e-02,  1.0111e-03, -2.1140e-02, -2.4765e-02,\n",
       "          -1.2914e-03, -9.5247e-03, -2.4246e-03, -1.2606e-02,  1.6352e-02,\n",
       "          -8.2672e-03, -2.7868e-02,  4.8155e-03,  1.4948e-02, -6.7440e-03,\n",
       "           1.5400e-02,  1.0217e-02, -8.0862e-03, -9.5867e-03, -1.0409e-02,\n",
       "           1.1470e-02,  4.9974e-03, -1.0986e-02, -9.0384e-03,  9.3442e-03,\n",
       "          -1.1243e-02, -1.7617e-02,  1.1244e-02,  7.8369e-03, -2.9561e-03,\n",
       "          -7.6106e-03, -3.6344e-03, -6.6234e-03, -2.0253e-03, -3.1698e-03,\n",
       "           2.8276e-03,  2.4861e-03, -1.9020e-02, -2.2730e-02,  8.1969e-03,\n",
       "           1.6612e-02,  3.2735e-03,  4.8140e-03, -4.0556e-04,  2.1359e-02,\n",
       "          -3.6452e-03,  8.6999e-03,  2.9447e-03, -6.4983e-03, -2.0623e-03,\n",
       "           1.4632e-02, -1.4238e-02,  1.6024e-02,  4.2777e-03,  1.1221e-03,\n",
       "           2.8233e-03,  7.3895e-03,  1.8735e-02, -1.5596e-02, -1.0283e-02,\n",
       "          -1.5346e-02,  1.0384e-02,  9.4158e-03,  2.1414e-02,  1.8536e-02,\n",
       "          -5.7682e-03,  1.5709e-02, -1.9527e-02, -1.0329e-02, -2.1957e-03,\n",
       "          -2.0255e-02, -4.9864e-03, -6.5185e-03, -3.9678e-02, -1.5652e-03,\n",
       "          -1.0217e-02, -9.0468e-03,  5.3392e-03, -5.6024e-02, -8.5702e-03,\n",
       "          -3.9260e-03,  1.3176e-02, -1.6084e-02, -9.8212e-03, -1.6497e-02,\n",
       "          -2.8161e-02, -8.8641e-02,  1.5768e-02, -1.7371e-03,  6.2593e-03,\n",
       "          -2.4051e-02, -2.2131e-02,  1.8377e-02,  1.4111e-02, -6.8206e-03,\n",
       "           7.6062e-03,  3.2424e-02, -8.1802e-03, -8.8637e-03,  5.8187e-03,\n",
       "          -2.3265e-02, -6.1260e-03, -8.9742e-03, -1.2118e-02,  9.4115e-03,\n",
       "          -8.7849e-04,  4.6316e-03,  3.6299e-01,  7.1031e-03,  9.2256e-04,\n",
       "           6.8176e-03, -1.4876e-02,  2.4354e-02, -3.1706e-03, -4.6261e-04,\n",
       "           5.1813e-03,  2.6283e-02, -1.3585e-02, -3.5673e-03, -5.8606e-03,\n",
       "           2.7795e-02,  2.0046e-02, -1.1586e-02,  7.1464e-03,  1.8541e-02,\n",
       "          -1.5032e-02,  6.7153e-03, -4.5602e-03, -4.7641e-03, -9.7641e-03,\n",
       "           2.5712e-03, -7.8616e-03, -7.5990e-03, -7.9554e-03,  3.9593e-03,\n",
       "          -1.6309e-02,  1.0425e-03,  3.1739e-04, -3.7996e-03,  9.1374e-03,\n",
       "          -2.5794e-03, -3.8335e-02, -1.3990e-02, -9.7048e-02,  4.1965e-03,\n",
       "          -6.4117e-03,  1.8358e-02,  8.1655e-03,  6.7305e-03, -1.2380e-02,\n",
       "           1.8594e-02,  1.9017e-02,  5.1785e-03,  5.3435e-03, -1.1474e-02,\n",
       "          -2.0342e-03,  4.7572e-03, -2.6667e-02,  1.6352e-02,  1.6685e-02,\n",
       "          -9.2679e-03,  8.9946e-04, -6.5762e-03,  5.1142e-03, -1.7526e-02,\n",
       "           4.8692e-03, -1.0750e-02,  2.2526e-02, -2.0715e-05,  6.2069e-04,\n",
       "           1.4852e-03,  2.0947e-03, -1.5550e-02,  1.7220e-02, -1.2106e-03,\n",
       "           1.5755e-02, -4.5142e-03, -3.1211e-02, -7.1370e-03,  1.1389e-02,\n",
       "          -8.1731e-03,  9.0977e-03,  1.1815e-02, -9.2590e-03,  4.7703e-03,\n",
       "          -9.4027e-03,  1.7838e-03, -4.3268e-03,  1.7100e-02,  3.2941e-02,\n",
       "           2.9714e-03, -7.1190e-03,  2.7731e-02,  2.0788e-02, -5.5624e-03,\n",
       "          -3.9006e-03,  5.1765e-03, -7.4765e-03, -1.8169e-02,  2.1369e-02,\n",
       "          -9.0591e-03,  1.4270e-02,  8.3326e-03, -2.0759e-02,  1.5406e-02,\n",
       "           4.1538e-03, -7.9935e-03, -2.1283e-02, -4.0784e-03, -1.8820e-02,\n",
       "           9.6036e-04,  7.8659e-03,  1.2627e-02, -1.7511e-02, -3.5740e-04,\n",
       "           2.0858e-02,  8.6810e-03, -1.4066e-02, -2.0945e-03, -1.1424e-02,\n",
       "          -1.4605e-03, -6.7575e-03, -1.2987e-02,  1.9765e-02],\n",
       "         [-8.9836e-04, -3.6411e-03, -5.5351e-03, -1.6998e-02, -4.8676e-03,\n",
       "           1.4977e-02, -2.3308e-03,  1.7614e-03, -1.0422e-02,  3.0609e-02,\n",
       "          -2.4490e-03,  1.0881e-03, -1.4870e-02,  2.5116e-02, -7.2975e-03,\n",
       "           1.3756e-02, -1.6800e-02,  1.3374e-02,  2.3087e-02,  2.7027e-03,\n",
       "          -7.4997e-03, -2.3773e-02,  1.4107e-02,  2.7065e-03, -3.9387e-04,\n",
       "           1.8204e-02,  1.0862e-03,  1.3023e-02,  9.3079e-03,  1.7233e-03,\n",
       "           3.6411e-03,  2.0466e-03, -8.9417e-03, -2.1648e-03, -2.7409e-03,\n",
       "           9.8038e-03,  8.8882e-03,  1.6220e-02, -1.7090e-03,  1.0429e-02,\n",
       "           1.2321e-02, -1.8156e-04,  3.7041e-03,  9.2926e-03,  1.7700e-03,\n",
       "          -1.8372e-02, -9.7885e-03,  1.5839e-02,  8.2626e-03, -4.8637e-03,\n",
       "          -1.7441e-02,  5.1498e-03, -2.2629e-02,  1.1196e-03,  1.3199e-02,\n",
       "          -3.9902e-03, -2.6474e-02,  1.6968e-02,  3.2768e-03,  3.4088e-02,\n",
       "          -3.4981e-03, -3.0823e-03,  4.6463e-03,  5.1666e-02,  1.2032e-02,\n",
       "           1.5778e-02, -9.3031e-04,  5.3101e-03,  9.2010e-03, -6.3133e-04,\n",
       "          -2.1420e-03,  1.1206e-03, -2.6455e-03,  8.3008e-03,  1.3294e-03,\n",
       "           8.8120e-03,  9.8114e-03,  8.0414e-03,  2.1805e-02,  1.4191e-02,\n",
       "          -2.9335e-03, -2.5986e-02, -4.8752e-03,  2.8564e-02, -5.3253e-03,\n",
       "           3.9902e-03,  5.9128e-03,  5.5161e-03,  3.2253e-03,  4.1008e-04,\n",
       "          -1.0010e-02,  7.7972e-03, -8.7509e-03, -7.7171e-03, -5.8517e-03,\n",
       "          -9.7961e-03,  6.1846e-04,  1.0216e-02,  1.3779e-02, -6.5857e-02,\n",
       "           1.0582e-02, -1.9455e-02, -9.9640e-03, -5.0659e-03,  5.3329e-03,\n",
       "          -1.2909e-02,  1.8063e-03, -1.5812e-03, -8.7967e-03, -1.6727e-03,\n",
       "          -8.7738e-03, -2.0935e-02, -2.8534e-03,  1.6998e-02,  2.1164e-02,\n",
       "           6.5079e-03, -3.7804e-03,  1.0857e-02, -1.2917e-02,  3.7861e-03,\n",
       "           1.2901e-02, -6.0997e-03,  8.4839e-03,  4.7326e-04, -3.9330e-03,\n",
       "           2.4506e-02,  3.9406e-03,  2.1576e-02, -8.6060e-03,  1.8454e-03,\n",
       "          -2.4658e-02, -1.2520e-02, -7.1669e-04,  1.0292e-02, -1.0834e-02,\n",
       "          -1.2711e-02, -5.3062e-03, -2.2018e-04, -3.8776e-03, -1.0910e-02,\n",
       "           2.4815e-03,  1.2177e-02,  8.2626e-03,  9.3918e-03,  3.2272e-03,\n",
       "          -8.4000e-03,  9.7809e-03,  2.8591e-03, -2.5558e-03,  4.8141e-03,\n",
       "          -8.4591e-04,  3.5114e-03, -9.8038e-03,  1.1368e-02,  3.8564e-05,\n",
       "           1.2413e-02,  3.7632e-03,  1.0223e-01,  9.7961e-03, -1.9547e-02,\n",
       "          -1.8417e-02, -1.8860e-02,  2.4891e-03,  3.8738e-03, -2.6688e-02,\n",
       "          -4.8103e-03, -1.3863e-02, -2.1267e-03, -1.6220e-02,  8.8959e-03,\n",
       "          -2.0504e-03, -2.9587e-02,  3.4256e-03,  2.2354e-02, -5.9471e-03,\n",
       "           1.0994e-02,  8.3389e-03, -1.1024e-02,  8.0948e-03, -1.0109e-02,\n",
       "           6.9389e-03, -4.9629e-03, -1.3041e-04, -1.6357e-02,  7.4387e-03,\n",
       "          -1.2863e-02, -1.2131e-02,  5.9013e-03, -1.6947e-03,  4.7493e-03,\n",
       "          -8.3923e-03, -1.5129e-02, -1.1879e-02, -1.0323e-02, -1.4992e-03,\n",
       "           5.6381e-03,  2.3575e-03, -1.7990e-02, -2.7328e-02,  6.0959e-03,\n",
       "           1.0040e-02,  1.0719e-03,  6.8398e-03, -1.1917e-02,  8.4763e-03,\n",
       "          -3.0422e-03,  3.4332e-03,  3.6354e-03, -1.5465e-02, -5.5237e-03,\n",
       "           7.6942e-03, -1.3435e-02,  1.2466e-02,  9.0332e-03,  2.1229e-03,\n",
       "          -4.0352e-05, -5.3215e-04,  1.4450e-02, -2.3911e-02, -1.2260e-02,\n",
       "          -1.2108e-02, -6.8283e-04,  6.0806e-03,  7.9803e-03,  2.2995e-02,\n",
       "          -6.3591e-03,  8.4839e-03, -4.3058e-04, -3.9482e-03, -4.4518e-03,\n",
       "          -1.8707e-02, -2.2469e-03, -1.6861e-02, -2.4796e-02,  8.4925e-04,\n",
       "          -2.2163e-03, -6.3210e-03, -6.1302e-03, -4.9957e-02, -4.2839e-03,\n",
       "          -6.8817e-03,  1.3977e-02, -2.2903e-02, -3.6354e-03, -2.0294e-02,\n",
       "          -2.2568e-02, -7.5134e-02,  4.9515e-03, -5.1451e-04,  4.2801e-03,\n",
       "          -1.0170e-02, -7.7343e-04,  5.6686e-03,  1.1757e-02, -7.6294e-03,\n",
       "           5.9853e-03,  2.1149e-02, -3.3703e-03, -5.4512e-03,  1.1826e-02,\n",
       "          -2.7832e-02,  3.5286e-03, -1.2634e-02, -1.3062e-02,  2.8152e-03,\n",
       "          -1.3661e-04, -5.0783e-04,  3.5693e-01,  3.9291e-03,  2.6226e-03,\n",
       "           1.3283e-02, -6.9885e-03,  1.9257e-02, -8.1406e-03, -1.0853e-03,\n",
       "          -1.6432e-03,  1.4778e-02, -1.7807e-02, -1.0462e-03, -4.4174e-03,\n",
       "           4.9316e-02,  9.9792e-03, -1.0521e-02,  2.6188e-03,  1.6724e-02,\n",
       "          -8.8348e-03,  5.1880e-03, -1.4359e-02,  1.1574e-02, -2.7046e-03,\n",
       "           1.1826e-02, -1.8265e-02, -2.0266e-04, -1.1574e-02, -3.6392e-03,\n",
       "          -2.2400e-02, -1.3306e-02,  1.6356e-03, -6.0987e-04,  6.6566e-03,\n",
       "           4.6577e-03, -2.7267e-02, -1.8799e-02, -9.9731e-02,  8.6365e-03,\n",
       "           3.3617e-04,  1.2199e-02,  1.6602e-02,  9.5673e-03, -1.5594e-02,\n",
       "           9.3994e-03,  2.7786e-02,  7.5569e-03,  2.3422e-03, -1.1230e-02,\n",
       "          -1.2520e-02,  3.7937e-03, -2.2186e-02,  1.1787e-02,  9.1019e-03,\n",
       "          -9.5291e-03, -2.0618e-03, -3.8986e-03,  2.0618e-03, -2.6611e-02,\n",
       "           5.9280e-03, -7.5645e-03,  2.2888e-02,  4.3221e-03,  7.2403e-03,\n",
       "          -4.0855e-03,  2.0516e-04, -1.2871e-02,  2.3361e-02, -6.3782e-03,\n",
       "           8.6288e-03,  4.4370e-04, -3.6011e-02, -4.3259e-03,  9.9792e-03,\n",
       "          -4.6349e-03, -2.9850e-03,  9.7046e-03, -1.3107e-02,  1.6693e-02,\n",
       "          -1.1383e-02, -3.0899e-03,  1.1932e-02,  1.5869e-02,  2.6901e-02,\n",
       "           5.0735e-03,  7.1220e-03,  1.7044e-02,  4.8218e-03, -8.7662e-03,\n",
       "          -5.5428e-03,  5.4207e-03, -1.6724e-02, -1.6220e-02,  1.6388e-02,\n",
       "          -4.3221e-03,  7.7286e-03,  4.6120e-03, -4.1656e-03,  1.1375e-02,\n",
       "          -3.3736e-04, -1.2955e-02, -9.7656e-03, -5.4512e-03, -6.1531e-03,\n",
       "           1.0574e-02,  2.4757e-03,  6.0158e-03, -2.1301e-02, -5.1498e-03,\n",
       "           1.4809e-02,  3.6812e-03, -1.3214e-02, -7.7286e-03, -1.4715e-03,\n",
       "           3.4857e-04, -6.6147e-03,  7.8354e-03,  5.8594e-03]]),\n",
       " 'embeddings.LayerNorm.weight': tensor([0.5989, 0.5836, 0.6335, 0.6245, 0.5710, 0.6164, 0.6363, 0.6153, 0.6406,\n",
       "         0.5803, 0.6295, 0.6167, 0.6151, 0.5813, 0.5984, 0.6190, 0.6075, 0.5968,\n",
       "         0.6168, 0.6058, 0.5802, 0.6313, 0.5894, 0.6015, 0.6419, 0.5874, 0.6350,\n",
       "         0.6087, 0.6572, 0.5895, 0.5977, 0.6300, 0.6169, 0.5875, 0.6364, 0.5880,\n",
       "         0.6144, 0.5979, 0.6139, 0.6340, 0.6193, 0.5991, 0.6173, 0.6200, 0.6135,\n",
       "         0.6142, 0.6113, 0.6312, 0.6248, 0.5999, 0.6034, 0.6246, 0.5975, 0.6464,\n",
       "         0.6212, 0.6284, 0.5954, 0.6366, 0.5967, 0.6054, 0.6364, 0.6036, 0.6520,\n",
       "         0.5447, 0.6001, 0.6273, 0.6084, 0.6466, 0.6211, 0.6223, 0.6404, 0.5819,\n",
       "         0.6273, 0.6066, 0.5967, 0.6442, 0.6086, 0.6235, 0.6129, 0.6686, 0.6349,\n",
       "         0.6387, 0.6126, 0.6120, 0.6130, 0.6033, 0.6214, 0.6180, 0.6210, 0.5993,\n",
       "         0.6150, 0.6133, 0.6271, 0.6192, 0.6492, 0.5833, 0.5904, 0.6099, 0.6566,\n",
       "         0.3684, 0.5943, 0.6025, 0.6128, 0.6019, 0.6359, 0.6176, 0.6020, 0.6211,\n",
       "         0.6310, 0.5978, 0.6136, 0.5941, 0.6388, 0.6256, 0.6276, 0.6442, 0.6465,\n",
       "         0.6474, 0.6156, 0.6650, 0.6194, 0.6217, 0.6332, 0.6111, 0.6088, 0.6498,\n",
       "         0.6160, 0.6099, 0.5932, 0.6343, 0.6097, 0.6720, 0.6293, 0.6060, 0.5821,\n",
       "         0.6118, 0.6168, 0.6294, 0.6195, 0.6326, 0.6214, 0.6317, 0.6595, 0.6216,\n",
       "         0.6223, 0.6137, 0.6372, 0.5920, 0.6180, 0.6592, 0.6094, 0.6245, 0.6084,\n",
       "         0.6496, 0.6273, 0.5870, 0.6372, 0.9173, 0.6053, 0.6105, 0.6152, 0.6312,\n",
       "         0.6094, 0.6426, 0.6026, 0.6223, 0.6158, 0.6112, 0.6199, 0.6365, 0.6392,\n",
       "         0.6207, 0.6096, 0.6554, 0.6365, 0.6259, 0.6499, 0.6174, 0.5770, 0.6251,\n",
       "         0.6268, 0.5989, 0.6203, 0.6215, 0.6150, 0.6249, 0.6172, 0.6063, 0.5986,\n",
       "         0.6778, 0.6003, 0.6439, 0.6439, 0.6092, 0.6157, 0.6135, 0.6282, 0.6217,\n",
       "         0.6204, 0.6061, 0.6408, 0.6280, 0.6044, 0.5970, 0.6569, 0.6143, 0.6081,\n",
       "         0.6217, 0.6164, 0.6197, 0.6094, 0.6357, 0.6334, 0.6250, 0.6050, 0.6129,\n",
       "         0.6235, 0.6043, 0.6044, 0.5955, 0.6068, 0.6563, 0.6559, 0.6791, 0.6386,\n",
       "         0.6215, 0.6322, 0.6475, 0.5885, 0.6090, 0.5964, 0.6186, 0.6090, 0.6525,\n",
       "         0.6374, 0.5879, 0.6260, 0.5942, 0.5614, 0.6599, 0.6101, 0.6188, 0.5776,\n",
       "         0.6105, 0.5924, 0.6145, 0.5200, 0.6658, 0.5901, 0.6567, 0.6003, 0.6144,\n",
       "         0.6594, 0.6097, 0.6306, 0.5895, 0.6235, 0.6251, 0.6177, 0.6218, 0.5984,\n",
       "         0.6255, 0.6257, 0.5955, 0.6185, 0.6091, 0.6574, 0.1453, 0.6379, 0.6232,\n",
       "         0.6318, 0.6357, 0.6339, 0.6023, 0.6499, 0.6220, 0.6350, 0.6420, 0.6016,\n",
       "         0.6473, 0.5434, 0.6257, 0.6298, 0.6210, 0.6314, 0.6033, 0.6195, 0.6133,\n",
       "         0.6450, 0.5967, 0.5993, 0.6407, 0.6403, 0.6026, 0.5917, 0.5832, 0.6186,\n",
       "         0.6141, 0.6158, 0.6299, 0.6496, 0.5615, 0.6229, 0.3850, 0.6296, 0.6122,\n",
       "         0.6000, 0.6088, 0.6215, 0.6389, 0.6298, 0.5811, 0.5888, 0.6156, 0.5938,\n",
       "         0.5887, 0.6401, 0.6053, 0.6185, 0.5972, 0.6121, 0.6221, 0.6278, 0.6019,\n",
       "         0.5968, 0.6352, 0.6398, 0.6588, 0.6018, 0.6350, 0.6335, 0.6219, 0.6221,\n",
       "         0.5961, 0.6210, 0.6212, 0.6175, 0.5497, 0.8487, 0.6057, 0.6222, 0.6419,\n",
       "         0.6217, 0.6518, 0.6339, 0.6087, 0.6097, 0.6573, 0.6316, 0.6361, 0.6111,\n",
       "         0.6530, 0.5796, 0.5884, 0.6231, 0.5976, 0.5983, 0.6125, 0.6237, 0.7312,\n",
       "         0.5983, 0.6275, 0.6038, 0.5861, 0.6102, 0.6142, 0.6462, 0.6012, 0.6453,\n",
       "         0.5810, 0.5948, 0.6393, 0.6035, 0.6241, 0.6067, 0.6332, 0.5950, 0.5769,\n",
       "         0.5990, 0.6135, 0.6249, 0.6227, 0.5929, 0.6554]),\n",
       " 'embeddings.LayerNorm.bias': tensor([ 1.6954e-01,  1.1112e-01,  6.4446e-03,  2.1634e-02,  4.2797e-02,\n",
       "         -3.9802e-02, -2.9968e-02,  3.9178e-02,  1.6794e-02, -2.0974e-01,\n",
       "         -1.0803e-02, -1.4116e-01,  9.4476e-02, -1.1972e-01,  1.7308e-01,\n",
       "         -2.7716e-02,  9.4356e-02, -9.8478e-02, -1.0690e-01, -1.4287e-02,\n",
       "          1.3355e-01,  2.6531e-02, -3.4553e-02, -2.3788e-02, -1.5993e-02,\n",
       "          9.3721e-02,  6.0022e-02, -1.3411e-02, -1.6432e-02,  1.6169e-01,\n",
       "         -2.4443e-02,  5.0208e-02, -3.7755e-02, -4.1884e-02, -1.6780e-03,\n",
       "         -1.7453e-02,  1.1895e-02,  9.2421e-02,  4.3133e-02,  2.9259e-02,\n",
       "          3.6798e-02,  6.9184e-02, -7.9191e-03, -7.9609e-02, -7.6863e-02,\n",
       "          7.8897e-02,  1.6182e-02,  1.0742e-02,  1.0007e-01,  1.2470e-01,\n",
       "          1.7040e-01,  1.0559e-02,  4.0743e-02,  1.4275e-02, -3.9462e-02,\n",
       "         -3.5754e-02,  1.3381e-01, -4.4799e-02, -1.4906e-01, -2.4192e-01,\n",
       "          4.4505e-02,  6.2968e-02,  4.2638e-02, -5.6693e-01, -1.5144e-01,\n",
       "         -4.6114e-02, -5.6645e-02, -1.8709e-02,  3.9838e-02,  9.8098e-02,\n",
       "          2.1293e-02, -1.0762e-01, -1.1275e-01,  6.6782e-02, -4.6618e-02,\n",
       "          1.1596e-02, -4.6909e-02, -9.3583e-02, -8.5257e-02,  8.6489e-02,\n",
       "          2.8593e-02,  5.6790e-02,  1.2912e-01, -6.6770e-02, -5.6999e-02,\n",
       "          6.9180e-03,  2.3231e-02, -9.8516e-02,  2.0336e-02,  5.3277e-02,\n",
       "          6.0349e-02, -1.0356e-01, -5.3221e-02, -1.9380e-02,  1.6356e-01,\n",
       "          7.4722e-02,  1.0393e-01,  3.0410e-02, -5.7802e-02,  1.6485e-01,\n",
       "         -5.9040e-02,  1.1234e-01,  2.2397e-02,  8.3350e-02,  4.0868e-02,\n",
       "         -4.0153e-02, -8.0072e-03,  3.4747e-02,  1.6986e-04,  5.7870e-02,\n",
       "         -3.5395e-03,  1.3368e-01, -1.7201e-01,  3.3600e-02, -5.2624e-02,\n",
       "          2.9640e-02,  4.8201e-02,  4.8896e-02,  8.9307e-02,  4.5799e-02,\n",
       "          2.9577e-03,  2.6587e-02, -2.8909e-02,  6.2536e-03,  9.7501e-03,\n",
       "         -6.3303e-02,  1.0215e-01, -2.0578e-02,  1.2180e-01,  1.1117e-02,\n",
       "          1.5309e-01,  1.0524e-02,  5.6115e-05, -1.4087e-02,  1.7331e-01,\n",
       "          1.6590e-01, -8.0094e-02,  3.6727e-02,  4.1309e-02, -5.1542e-02,\n",
       "          1.7095e-02, -6.0832e-02, -3.1514e-02, -4.9804e-02,  2.5368e-02,\n",
       "          1.1108e-02, -7.3440e-03, -6.8168e-02,  3.0551e-02,  5.7064e-05,\n",
       "          6.4037e-02, -6.0511e-02,  8.7246e-03, -9.6789e-02, -3.0654e-02,\n",
       "          1.6957e-02,  6.3542e-02, -8.5294e-02, -2.5034e-02,  7.7196e-03,\n",
       "         -3.4490e-02,  5.5635e-02,  1.7745e-03, -1.7402e-01,  1.4520e-01,\n",
       "          1.1229e-01,  1.5108e-01, -6.3477e-03,  8.5786e-02,  1.0057e-02,\n",
       "         -1.7157e-02,  6.4946e-02, -6.5818e-02, -1.0942e-01, -3.9942e-03,\n",
       "          1.0485e-01, -1.2916e-02, -3.0491e-02, -9.0877e-03, -3.5166e-02,\n",
       "         -8.5612e-02,  1.0721e-02,  4.2414e-02,  8.5447e-02,  6.6600e-02,\n",
       "          8.1917e-02,  2.1158e-03, -2.0059e-02,  7.4241e-02,  3.1329e-02,\n",
       "          1.5584e-01,  5.9978e-02, -2.1280e-02,  5.0062e-02, -4.6571e-02,\n",
       "         -1.4376e-01, -6.0831e-02,  3.4012e-02,  2.3255e-01, -7.4270e-02,\n",
       "         -5.8456e-03,  2.2578e-02, -9.0794e-02,  1.1335e-01,  2.6194e-02,\n",
       "         -1.2344e-01,  2.4072e-02,  2.2709e-02,  4.0119e-02, -1.0135e-02,\n",
       "         -7.2457e-02, -6.7113e-03,  2.2020e-02, -3.2340e-02,  5.1251e-02,\n",
       "         -1.0367e-01, -1.3066e-02, -2.2923e-02,  1.2305e-01,  9.4228e-02,\n",
       "          1.1232e-01, -2.6696e-02, -3.7692e-02,  7.1012e-02, -8.3072e-03,\n",
       "         -9.1868e-03,  5.2449e-02,  6.3297e-02,  4.6331e-02,  2.7386e-02,\n",
       "          2.1395e-01,  6.7754e-03,  3.6679e-02,  2.6905e-02, -2.5613e-04,\n",
       "         -1.1289e-01, -2.2438e-02,  1.3720e-02,  2.0717e-01,  9.9697e-02,\n",
       "          1.9502e-01, -1.4028e-02,  1.4654e-01,  4.2845e-03,  1.1750e-01,\n",
       "          9.6879e-02,  3.7940e-01, -1.2524e-02,  1.2329e-01,  1.1152e-02,\n",
       "          1.3642e-01,  1.1348e-01,  1.4207e-01,  5.6184e-02,  4.6326e-02,\n",
       "          5.7975e-02, -1.4999e-01, -1.3977e-02,  5.4862e-02, -1.0301e-01,\n",
       "          2.5058e-01,  2.4502e-02,  3.2922e-03,  1.7842e-01,  8.2214e-02,\n",
       "          3.0806e-02,  4.3544e-02, -1.0901e+00,  9.9020e-02,  1.1078e-02,\n",
       "         -8.4091e-02,  1.5873e-02,  6.3246e-03,  2.8689e-02, -2.9117e-02,\n",
       "          2.5758e-02,  9.8270e-03, -5.3851e-02,  1.2571e-02, -2.2352e-01,\n",
       "         -4.0529e-01, -1.2445e-02,  3.8369e-02, -7.8577e-02, -5.9895e-02,\n",
       "         -2.7755e-02, -9.6733e-02,  5.5600e-02, -7.9138e-03, -2.1259e-02,\n",
       "         -2.6308e-02,  1.3448e-01, -1.2114e-01,  1.1090e-01,  1.6978e-01,\n",
       "          2.0777e-01,  1.7913e-01, -1.7806e-01,  5.2322e-02,  2.4847e-02,\n",
       "          3.5057e-02, -4.1282e-02,  4.0055e-02,  7.6918e-01, -5.5003e-02,\n",
       "          5.1399e-02,  7.1278e-03,  7.0473e-02, -4.5084e-02,  2.1531e-02,\n",
       "         -3.1486e-02, -2.6367e-01,  7.3212e-02, -1.4738e-02,  5.0481e-02,\n",
       "          1.3501e-01, -7.8782e-03,  1.7911e-01,  1.2949e-02,  3.6803e-02,\n",
       "          1.1441e-02,  4.0302e-02, -2.3544e-01, -9.3832e-02,  2.1072e-01,\n",
       "          1.0804e-01,  2.3800e-02, -3.9976e-02,  2.3970e-02,  8.0082e-03,\n",
       "         -7.2047e-02,  1.5253e-02,  5.0433e-03, -8.0455e-02,  7.2010e-02,\n",
       "         -2.9772e-02,  4.6595e-02,  2.3430e-01, -8.1277e-03, -4.0417e-02,\n",
       "         -2.6631e-03,  1.2231e-01,  4.5226e-02,  1.1215e-02, -5.3703e-02,\n",
       "          1.4082e-01, -5.4077e-02, -1.4077e-01, -2.1624e-02,  4.1310e-02,\n",
       "          1.4833e-01, -7.0003e-02, -6.4566e-02, -1.2765e-01,  1.3093e-02,\n",
       "          7.7568e-02,  5.2432e-03,  4.4019e-02,  5.7071e-03,  7.9465e-02,\n",
       "          1.0765e-01,  3.8171e-02,  8.5824e-02, -2.0709e-01, -9.8365e-02,\n",
       "          2.6964e-02,  1.7822e-01, -1.1356e-02,  5.9623e-03, -1.8546e-01,\n",
       "         -1.3640e-01, -6.4011e-02,  4.8603e-02, -4.0235e-02,  4.6312e-02,\n",
       "         -3.8760e-02,  3.3745e-02, -5.3761e-02,  1.6336e-01, -1.3595e-02,\n",
       "          3.2303e-02, -2.9154e-02, -1.6899e-01, -1.0436e-01]),\n",
       " 'encoder.layer.0.attention.self.query.weight': tensor([[-0.1486,  0.0436,  0.0856,  ..., -0.1372,  0.0720,  0.0287],\n",
       "         [ 0.0360,  0.0797,  0.0759,  ...,  0.1086,  0.0688,  0.1029],\n",
       "         [-0.0598,  0.0024, -0.0384,  ..., -0.0633, -0.1062,  0.0776],\n",
       "         ...,\n",
       "         [-0.0025, -0.0027, -0.0003,  ...,  0.0791,  0.0444,  0.0126],\n",
       "         [-0.0531,  0.0572, -0.1405,  ...,  0.0098, -0.0738, -0.0045],\n",
       "         [ 0.0747,  0.0941,  0.1319,  ..., -0.0727,  0.0410, -0.0852]]),\n",
       " 'encoder.layer.0.attention.self.query.bias': tensor([-0.1737, -0.0342,  0.1098,  0.1928,  0.0311, -0.0731, -0.2189,  0.1396,\n",
       "          0.2611, -0.0918,  0.2740, -0.0257, -0.1666, -0.0101, -0.0825,  0.1749,\n",
       "         -0.7163, -0.0627,  0.1441,  0.2135,  0.3876, -0.3360, -0.0933,  0.2931,\n",
       "         -0.0090, -0.0444,  0.0417, -0.1563,  0.1189, -0.0612, -0.0818, -0.1374,\n",
       "         -0.3558,  0.0668,  0.3330,  0.0981,  0.1526,  0.4139, -0.3255, -0.0519,\n",
       "         -0.3730,  0.4379,  0.0972, -0.2195,  0.1171, -0.1707,  0.1541, -0.3081,\n",
       "          0.1660, -0.1325, -0.0777, -0.1890, -0.1067,  0.1093, -0.1836,  0.1819,\n",
       "         -0.3329,  0.1053,  0.1182, -0.3543,  0.0477, -0.2143, -0.1693, -0.1446,\n",
       "         -0.3077,  0.3251, -0.6435,  0.3715, -0.9967,  0.2475,  0.7039, -0.1193,\n",
       "          1.1469,  0.5501, -0.2274,  0.6406,  0.5621, -0.3091,  0.0536,  0.7642,\n",
       "          1.1497, -1.2211, -1.3477, -0.4079,  0.7616,  0.4684, -0.3796, -0.5279,\n",
       "         -0.6573, -1.1071,  0.6476,  0.3679, -0.2146, -0.2123,  0.9510, -1.0984,\n",
       "         -0.1288, -0.1407,  0.0728,  0.0911,  0.0719,  0.1029,  0.3106,  0.0524,\n",
       "          0.1295, -0.1478, -0.1348, -0.2121,  0.3275,  0.2027,  0.0962, -0.2000,\n",
       "          0.0974, -0.3555,  0.4328, -0.0045,  0.0498,  0.2725, -0.1055, -0.5109,\n",
       "         -0.3636, -0.6879, -0.4877, -0.0931, -0.2027, -0.1029,  0.2143,  0.2463,\n",
       "         -0.0185,  0.1117, -0.0611, -0.0914,  0.2195, -0.4919,  0.2862, -0.3156,\n",
       "          0.3491, -0.1225, -0.4911, -0.3213, -0.2124,  0.4760, -0.5601, -0.3347,\n",
       "          0.3288, -0.3778, -0.3315,  0.6691,  0.1915,  0.4159,  0.1924,  0.2735,\n",
       "          0.0902, -0.3248,  0.3833, -0.4507, -0.0616,  0.5779,  0.1761,  0.3962,\n",
       "         -0.4998,  0.2672,  0.6064, -0.3325, -0.0131,  0.3736,  0.5769,  0.0469,\n",
       "          0.4244, -0.4094,  0.3369, -0.8255,  0.6129, -0.4103, -0.3832, -0.2969,\n",
       "         -0.4815, -0.3821, -0.7847, -0.2934,  0.0678,  0.3119,  0.3810,  0.4974,\n",
       "         -0.2556, -0.1155, -0.1919,  0.6330,  0.5592, -0.0174,  0.6449, -0.3511,\n",
       "         -0.1527,  0.4028,  0.1788,  0.6123, -0.1167,  0.2624, -0.0194,  0.0733,\n",
       "         -0.0342, -0.0990, -0.1980,  0.4727,  0.5211, -0.2284, -0.0793,  0.2310,\n",
       "          0.1772,  0.0014, -0.3831,  0.1701, -0.0278,  0.2485,  0.0453,  0.1131,\n",
       "         -0.2650, -0.1606,  0.1864, -0.3790,  0.2640,  0.0958,  0.3028,  0.3655,\n",
       "         -0.4198,  0.0179, -0.2189, -0.1350,  0.2736, -0.2188,  0.4373,  0.3187,\n",
       "          0.2713, -0.3285,  0.0639,  0.3804,  0.1561,  0.1299, -0.0090,  0.0724,\n",
       "         -0.2677,  0.0133, -0.1319,  0.1476,  0.2820, -0.1377,  0.4666, -0.2461,\n",
       "          0.4604, -0.0112,  0.1705, -0.0705,  0.4731, -0.0158,  0.1436, -0.2688,\n",
       "          0.4697, -0.2923, -0.6403,  0.0044, -0.1035,  0.1248,  0.0193,  0.0288,\n",
       "          0.1142,  0.1469,  0.4342, -0.2214, -0.0055,  0.3350, -0.5362, -0.1074,\n",
       "          0.2665,  0.0219,  0.1501,  0.0561,  0.2733,  0.1329, -0.0036,  0.1480,\n",
       "          0.3951,  0.3502, -0.0278,  0.1702,  0.2618, -0.2534, -0.3449,  0.2884,\n",
       "          0.2680, -0.3396,  0.2675, -0.4810, -0.1694, -0.0757, -0.3080,  0.4901,\n",
       "         -0.0723,  0.3158, -0.1687,  0.3900,  0.3114, -0.0037, -0.0168,  0.0516,\n",
       "          0.0743,  0.1512, -0.2159,  0.1443,  0.3932,  0.2109,  0.0825,  0.7823,\n",
       "          0.4738, -0.3418, -0.3872,  0.0956, -0.1897, -0.1608,  0.5916, -0.3255,\n",
       "          0.1392,  0.5755, -0.0870,  0.1076,  0.0419,  0.4439,  0.1246,  0.0425,\n",
       "          0.0196,  0.2696,  0.3266,  0.0202, -0.0686,  0.4094, -0.1856, -0.5064,\n",
       "         -0.0923,  0.0973, -0.2678, -0.3366,  0.0668,  0.0022, -0.0917, -0.2130,\n",
       "         -0.2848,  0.2307, -0.1118, -0.2751, -0.3143,  0.3037,  0.3358,  0.2734,\n",
       "         -0.0069, -0.0322, -0.1500,  0.5361,  0.2019,  0.1857,  0.0617, -0.3309,\n",
       "         -0.3466,  0.1192, -0.1761,  0.0591, -0.3158,  0.1651, -0.0943,  0.0226,\n",
       "         -0.5252, -0.0379, -0.0034,  0.2639, -0.1659,  0.3316, -0.0157,  0.2278,\n",
       "         -0.1263,  0.0828,  0.3444, -0.2077,  0.1531,  0.2961, -0.0637, -0.0176]),\n",
       " 'encoder.layer.0.attention.self.key.weight': tensor([[-0.0108, -0.1881, -0.0653,  ..., -0.0528,  0.0204,  0.0476],\n",
       "         [-0.0389, -0.0558,  0.0916,  ...,  0.0428, -0.0163, -0.0159],\n",
       "         [-0.0805, -0.0242,  0.0511,  ...,  0.0448,  0.1606,  0.0044],\n",
       "         ...,\n",
       "         [-0.0351, -0.0155,  0.0111,  ..., -0.0868,  0.1287,  0.0009],\n",
       "         [-0.1399,  0.0306,  0.1059,  ..., -0.0820,  0.0781,  0.0420],\n",
       "         [ 0.0132,  0.0646,  0.0391,  ..., -0.0206,  0.0496, -0.1105]]),\n",
       " 'encoder.layer.0.attention.self.key.bias': tensor([-1.4166e-04,  4.0008e-04, -3.8241e-05,  2.6539e-04, -3.5283e-04,\n",
       "         -2.6843e-04,  3.7871e-04, -6.2318e-04, -4.9365e-04, -5.3085e-04,\n",
       "         -6.3945e-04, -6.8649e-04,  3.5299e-04,  7.3564e-04,  3.6813e-05,\n",
       "         -4.5020e-04,  2.6920e-04, -3.5126e-04,  1.0202e-04, -6.9583e-04,\n",
       "         -3.5991e-04,  1.5070e-04, -3.4017e-04, -8.2606e-04, -9.2151e-05,\n",
       "          2.4843e-05,  6.4146e-04, -2.8779e-04,  3.2579e-04, -1.4612e-05,\n",
       "         -4.0415e-04, -1.5586e-05, -1.2738e-04, -6.7900e-04,  3.6891e-04,\n",
       "         -1.1796e-03,  8.6239e-04,  8.1841e-04,  5.7309e-05,  5.8094e-04,\n",
       "         -4.3995e-05, -1.5613e-04,  3.5939e-04,  7.1449e-04, -4.4435e-04,\n",
       "         -5.5887e-04,  1.6091e-04, -8.7608e-06,  7.1321e-04, -9.0515e-04,\n",
       "         -1.0162e-03,  1.0141e-04,  1.8087e-04,  8.4161e-04, -6.1315e-04,\n",
       "         -6.8629e-04, -1.2681e-04,  1.9231e-04, -2.9292e-04, -5.5996e-04,\n",
       "          3.2762e-04,  1.0184e-03, -8.7477e-04,  5.9021e-05, -3.0652e-06,\n",
       "          2.1179e-05,  2.7250e-05, -2.7447e-04,  1.5162e-04,  5.3837e-04,\n",
       "         -7.0310e-04,  7.8838e-05, -4.9488e-04,  4.6224e-04,  1.3478e-04,\n",
       "          2.3616e-04, -1.6535e-05, -6.2336e-04,  1.9143e-05,  4.6941e-04,\n",
       "         -2.5796e-04,  4.1677e-04,  4.8158e-04, -6.2958e-05,  2.3976e-04,\n",
       "         -1.9802e-04, -1.1393e-04,  6.8515e-04, -4.4577e-05,  2.3826e-04,\n",
       "          1.9800e-04, -2.1273e-04,  7.2240e-05, -6.4287e-04, -2.9293e-04,\n",
       "         -2.4729e-05, -8.4594e-04, -7.8701e-04,  7.3936e-04, -4.7346e-04,\n",
       "          1.0370e-03, -5.9398e-04,  2.2346e-04,  1.1852e-03,  1.0479e-04,\n",
       "         -6.1308e-04,  2.4836e-04,  2.8423e-04,  3.8808e-04, -2.4130e-04,\n",
       "          1.0111e-03, -1.0251e-03,  8.5315e-04, -1.2387e-03,  5.4227e-04,\n",
       "         -2.5603e-04,  5.0081e-04,  3.6129e-04, -6.0730e-04, -5.7848e-04,\n",
       "         -8.7871e-04, -1.4928e-03, -9.0583e-04,  4.1883e-04,  1.6389e-04,\n",
       "         -2.7166e-04,  2.6242e-04,  4.9021e-05,  5.5717e-04, -1.3369e-03,\n",
       "         -7.5002e-04,  4.1064e-04, -1.9567e-04,  1.1641e-03,  1.3760e-04,\n",
       "         -1.0109e-03,  1.6168e-03, -1.4214e-06,  7.0989e-04, -2.6351e-04,\n",
       "          7.4845e-04,  1.9063e-03,  1.4097e-03,  4.7970e-04, -2.2489e-04,\n",
       "          1.0111e-03,  7.8888e-04, -2.5916e-04, -1.7915e-03, -2.2496e-04,\n",
       "          7.2336e-05,  9.1172e-04,  5.9085e-04,  4.0736e-04, -9.7631e-04,\n",
       "          7.0631e-05,  1.0811e-04, -1.2385e-03, -2.6617e-04, -3.3177e-05,\n",
       "         -1.3732e-04,  4.1321e-04,  1.5932e-04, -6.0803e-04, -8.9278e-04,\n",
       "         -6.9514e-04, -1.1239e-03,  1.7211e-05,  1.4017e-03,  4.2505e-04,\n",
       "          1.7846e-04, -2.7316e-04,  7.7451e-04,  7.6092e-04,  1.3189e-04,\n",
       "         -4.3783e-04,  8.5997e-04,  8.4228e-04,  7.7482e-04, -5.7717e-05,\n",
       "          1.6594e-03,  2.2876e-03, -7.1983e-04, -6.4561e-04, -2.7433e-04,\n",
       "         -3.9674e-04,  7.7981e-04, -5.6376e-04, -1.2228e-03, -2.8859e-04,\n",
       "         -1.4069e-03, -1.0587e-03, -7.5934e-04, -1.4418e-04, -3.6795e-05,\n",
       "         -1.9826e-04,  9.2666e-04, -2.6451e-05,  7.3613e-04,  1.3117e-03,\n",
       "         -1.2988e-04, -7.1793e-04,  8.5680e-04,  5.9331e-04, -1.3676e-03,\n",
       "         -5.6989e-04,  1.3555e-04, -4.0315e-04,  2.8640e-04, -5.9297e-04,\n",
       "         -3.7909e-04, -7.0096e-04, -2.6404e-04, -3.9411e-04,  4.4215e-04,\n",
       "         -7.5243e-04, -1.1030e-04,  2.7301e-04,  5.5056e-04, -1.1787e-04,\n",
       "         -7.8424e-05, -2.8393e-04, -6.8011e-04, -3.7310e-05,  1.9426e-04,\n",
       "          5.8643e-04,  2.2349e-04,  3.9414e-04, -3.7767e-04,  1.5539e-04,\n",
       "          3.5304e-04, -6.6900e-05,  1.0196e-03, -6.9019e-05,  1.0608e-03,\n",
       "         -2.7751e-05, -1.0754e-03,  1.1194e-03, -4.8622e-04,  2.5509e-04,\n",
       "         -8.9126e-04,  5.5668e-04, -1.7258e-04, -9.6636e-05, -5.6330e-04,\n",
       "          9.5551e-04,  2.3126e-04,  6.5405e-04,  1.4315e-04,  5.4287e-06,\n",
       "         -6.2718e-04, -6.2703e-04,  6.6911e-05, -2.5701e-04, -6.8691e-04,\n",
       "          9.3465e-04,  6.5899e-04, -9.0824e-05, -5.8656e-04, -3.8114e-04,\n",
       "         -3.2404e-04,  2.6202e-04,  1.1475e-04,  4.7891e-05,  7.9795e-04,\n",
       "          2.3799e-04,  4.8319e-04,  1.1327e-03,  8.5056e-05,  9.7449e-05,\n",
       "         -2.1663e-04,  9.0918e-04,  1.9425e-04, -7.0822e-04, -4.3262e-04,\n",
       "         -6.7766e-04,  2.2099e-04, -4.6930e-04, -1.2289e-04, -3.4581e-04,\n",
       "          3.2594e-04,  3.8958e-04, -1.1125e-04,  7.5510e-04,  2.2633e-04,\n",
       "          4.7709e-04, -9.7923e-05, -1.7608e-04, -7.2042e-04,  5.7879e-04,\n",
       "          5.6823e-06,  4.3126e-04, -4.5892e-04, -2.5296e-04,  2.1631e-04,\n",
       "         -2.2021e-04, -3.2668e-04,  6.1395e-04,  6.7775e-04, -8.0501e-04,\n",
       "          9.0749e-05,  1.6934e-04,  1.2386e-04, -1.2172e-04, -2.3330e-04,\n",
       "          5.0883e-04,  3.8934e-05, -2.4751e-04,  4.0272e-04,  4.6009e-05,\n",
       "          4.1639e-04, -2.1221e-04, -1.9055e-04, -6.9988e-05,  8.8888e-04,\n",
       "         -7.6243e-04, -1.7002e-04,  7.0261e-04, -1.1868e-03,  1.7174e-04,\n",
       "         -1.2387e-03,  7.5804e-04,  2.0592e-04, -7.8009e-04,  7.5584e-05,\n",
       "         -5.1225e-04,  8.0777e-04,  1.1693e-04, -8.5613e-04,  1.1309e-03,\n",
       "          3.9382e-04,  8.0445e-04, -9.3163e-04, -6.5215e-04,  3.5009e-04,\n",
       "          5.7456e-04,  3.5310e-04, -1.0168e-03,  1.3203e-03,  2.1447e-04,\n",
       "          5.7853e-04, -1.3118e-03,  1.0306e-04,  1.3391e-03,  2.8288e-04,\n",
       "         -6.6234e-04,  5.6040e-05, -2.6904e-04,  1.7071e-04, -1.8666e-04,\n",
       "         -6.8245e-05,  3.8056e-04,  4.5592e-04,  6.9887e-05,  7.2341e-04,\n",
       "          1.1180e-04,  1.0493e-04, -2.2906e-04,  7.2228e-04, -1.7920e-04,\n",
       "          6.8001e-05,  2.0510e-04,  1.6049e-04, -5.8446e-04,  8.2434e-05,\n",
       "          6.2346e-04,  3.3116e-04,  3.6425e-04, -7.3058e-04,  7.4737e-05,\n",
       "         -3.5491e-04,  4.8924e-04, -2.7845e-04,  3.8044e-04, -2.0939e-05,\n",
       "          2.8577e-04, -3.3986e-04,  2.5666e-04, -1.8255e-04, -4.4838e-04,\n",
       "          4.7911e-04,  1.1700e-04,  2.2526e-04,  1.7458e-05]),\n",
       " 'encoder.layer.0.attention.self.value.weight': tensor([[-0.0775,  0.0354, -0.0324,  ...,  0.0538, -0.0521,  0.0288],\n",
       "         [-0.1157,  0.0276, -0.0362,  ..., -0.0001, -0.0356,  0.0332],\n",
       "         [-0.0279, -0.0167,  0.0535,  ..., -0.0123, -0.0280,  0.0163],\n",
       "         ...,\n",
       "         [ 0.0032,  0.0114, -0.0621,  ...,  0.0048,  0.0203,  0.0410],\n",
       "         [-0.0521, -0.0203,  0.0117,  ..., -0.0813,  0.0052, -0.0274],\n",
       "         [-0.1014,  0.0382, -0.0772,  ...,  0.0573,  0.0060,  0.0319]]),\n",
       " 'encoder.layer.0.attention.self.value.bias': tensor([-3.6254e-02, -3.6100e-02, -3.9412e-02, -5.3940e-02,  2.1691e-02,\n",
       "          7.4781e-03, -2.3185e-02,  7.0325e-02,  5.6563e-02,  6.2401e-02,\n",
       "         -3.7447e-03,  4.7420e-02,  3.9901e-02,  3.4138e-02,  1.6122e-02,\n",
       "         -1.3867e-02, -1.3368e-03, -2.2970e-02,  9.7865e-04, -6.4650e-02,\n",
       "         -4.0547e-02, -7.9436e-02,  8.7200e-03,  4.5585e-03, -3.2734e-02,\n",
       "         -7.3282e-02, -6.7982e-03,  1.4137e-02, -2.3245e-03, -1.3954e-02,\n",
       "         -9.0158e-02, -8.2530e-02,  4.2846e-02,  9.9624e-02,  1.5833e-02,\n",
       "          4.2612e-02,  6.9312e-02,  6.4236e-02,  3.8782e-02, -1.1915e-02,\n",
       "         -3.6721e-02,  1.3339e-02, -1.0448e-02, -4.2955e-02,  8.3703e-02,\n",
       "          1.4569e-01, -4.0981e-02, -6.9547e-02, -6.4736e-02,  4.0437e-02,\n",
       "          4.3089e-02, -1.1746e-01, -7.5968e-02,  2.0782e-02,  9.9896e-02,\n",
       "          8.4483e-02,  1.1401e-01, -8.2761e-03, -3.5456e-02,  1.2746e-02,\n",
       "          6.9927e-02,  2.7030e-01,  2.1427e-03, -9.1429e-03,  8.2147e-02,\n",
       "          4.6553e-01,  1.8305e-01,  3.1607e-02, -1.5420e-01,  9.5593e-02,\n",
       "         -1.7889e-02, -3.9439e-02, -1.0114e-01,  4.1898e-02,  1.1424e-01,\n",
       "          6.3983e-03,  4.1377e-01, -5.9472e-02,  9.6434e-02, -1.0104e-01,\n",
       "         -3.1192e-02,  8.3888e-03, -3.0963e-01,  3.8958e-02, -3.4111e-02,\n",
       "          1.4707e-01,  2.3831e-02, -7.1550e-03, -7.3199e-03, -1.1574e-02,\n",
       "          2.4015e-01,  1.6984e-01, -1.4966e-02, -6.6896e-02,  1.1391e-01,\n",
       "         -1.0094e-02,  1.1267e-01, -1.3485e-02,  8.8909e-02, -5.6538e-02,\n",
       "          1.4192e-02,  1.8426e-03,  3.5460e-02, -1.6029e-03,  1.0554e-02,\n",
       "          3.7044e-02,  3.5542e-02, -1.6681e-02,  2.9824e-02,  4.8384e-03,\n",
       "          6.5927e-02, -2.1933e-02, -1.3251e-01, -4.3239e-03,  6.6457e-02,\n",
       "          3.0110e-02,  9.0288e-02, -2.3991e-02, -2.9270e-02, -1.7849e-02,\n",
       "          4.3580e-02,  9.9759e-03,  2.4993e-02, -3.5045e-02,  7.2063e-03,\n",
       "         -2.4640e-02,  6.6946e-02, -6.8973e-02, -6.8363e-02,  2.3642e-01,\n",
       "          2.2754e-02,  1.0095e-01,  8.0039e-02,  9.4113e-02, -9.7650e-03,\n",
       "         -5.9231e-02,  1.5174e-02,  1.9780e-02, -7.9168e-03,  8.6694e-02,\n",
       "         -1.0760e-01, -7.8455e-02, -1.1869e-01,  2.1607e-01,  1.7062e-02,\n",
       "         -9.0941e-02,  5.4951e-02,  1.3544e-02, -8.1879e-02, -6.5083e-02,\n",
       "          6.0914e-05,  8.8594e-02,  2.5326e-02, -7.3668e-03, -3.5830e-02,\n",
       "          8.6503e-02, -1.6817e-01, -6.1265e-03, -1.2761e-02, -7.4456e-02,\n",
       "          1.0603e-01, -1.4190e-01, -2.1922e-02, -1.7941e-01, -9.7805e-02,\n",
       "          4.5762e-02, -4.7881e-02, -1.5654e-01, -3.0260e-02, -3.5862e-01,\n",
       "          2.0566e-02, -1.3003e-01,  3.0489e-02,  7.5580e-02, -2.2199e-01,\n",
       "          1.4469e-01, -2.2788e-01,  5.1378e-02,  1.1598e-01,  1.0759e-01,\n",
       "         -1.5181e-02,  1.5081e-01,  8.4095e-02,  7.1510e-02, -3.1473e-02,\n",
       "          2.1370e-02, -1.1301e-01,  2.3970e-01,  6.5165e-02,  1.2560e-01,\n",
       "         -2.2790e-01,  1.3944e-01, -8.1085e-02,  3.9670e-02,  5.5838e-02,\n",
       "          5.2709e-02, -2.2054e-02, -1.2761e-01, -3.2632e-02, -2.1990e-02,\n",
       "          2.6961e-03, -2.0579e-02, -3.0866e-02, -4.9839e-03,  5.2742e-02,\n",
       "          1.5047e-02,  4.7640e-03,  3.5098e-02,  9.0894e-02, -6.8707e-03,\n",
       "         -6.1852e-02,  8.3381e-02,  3.6594e-02,  8.6134e-03, -4.4141e-02,\n",
       "          2.5759e-02, -2.3924e-02,  2.0335e-02,  7.5985e-02,  7.2920e-02,\n",
       "         -2.8104e-02, -9.7611e-02, -2.2757e-02,  5.1533e-02, -1.5991e-02,\n",
       "         -8.5283e-02, -1.9363e-02, -1.5550e-01, -6.6462e-02,  1.1680e-01,\n",
       "         -8.4467e-02,  2.9627e-02,  2.2346e-02, -4.5410e-02,  1.2589e-02,\n",
       "          6.5769e-04, -3.9522e-02,  1.0536e-01, -5.4055e-02, -1.1962e-01,\n",
       "         -6.9950e-02,  1.5489e-01, -5.4471e-02,  1.5672e-01,  4.3166e-02,\n",
       "         -2.6265e-02, -9.1258e-02, -2.2524e-02,  2.0919e-01, -1.3687e-01,\n",
       "          8.9883e-02, -2.8731e-02,  1.9824e-03,  4.4678e-02, -6.0467e-02,\n",
       "          1.5209e-01, -7.7811e-04, -9.1560e-02,  6.5605e-03,  3.2589e-02,\n",
       "         -4.4246e-02,  1.1549e-01, -5.2736e-02, -6.4323e-02,  9.2465e-03,\n",
       "          5.6887e-02,  4.2696e-02, -4.1738e-02, -7.7902e-02,  7.4500e-02,\n",
       "          2.9560e-03, -1.6074e-01, -1.0805e-02,  8.0301e-02,  1.1399e-01,\n",
       "          2.7372e-02, -2.7318e-02,  7.4646e-02, -9.5227e-02,  3.3202e-03,\n",
       "          3.2480e-02,  3.1996e-02, -6.4523e-02,  1.0903e-01, -6.5110e-02,\n",
       "         -4.6513e-02, -6.6624e-02,  1.1348e-01, -8.4688e-02,  2.9513e-02,\n",
       "         -7.4126e-02, -5.9471e-02,  1.8594e-02,  7.1900e-03,  3.1426e-02,\n",
       "         -1.0250e-01,  4.6830e-03,  6.8512e-02,  6.9597e-02,  2.9418e-02,\n",
       "          3.9903e-02,  5.0955e-02,  1.1975e-02, -3.2651e-02, -7.4596e-03,\n",
       "         -5.1461e-02, -2.3839e-03, -1.5273e-02, -1.9198e-02, -1.6574e-02,\n",
       "          4.9571e-02,  5.1370e-04, -1.5990e-03, -8.5298e-02,  3.7849e-02,\n",
       "          5.9017e-02,  9.9294e-02,  3.8636e-02, -7.9647e-02,  2.4543e-02,\n",
       "         -2.7336e-02,  3.7915e-02,  9.2042e-03, -6.4696e-03,  7.8825e-03,\n",
       "         -8.5473e-02, -3.6422e-02,  2.8698e-02, -3.7301e-02,  1.5900e-02,\n",
       "          1.6239e-02, -6.4175e-02,  6.6094e-02,  4.3785e-02,  1.5240e-02,\n",
       "         -1.4675e-02,  7.6006e-02, -9.2188e-02, -3.2590e-02, -4.3504e-02,\n",
       "         -5.8651e-02,  5.8990e-02, -3.8411e-02,  9.0707e-02, -3.1005e-02,\n",
       "         -5.2256e-02,  2.0777e-02,  2.5737e-02, -5.6445e-02,  5.3061e-02,\n",
       "          7.8743e-02,  7.1019e-02,  3.7815e-02, -7.9102e-03, -1.8198e-02,\n",
       "         -1.1183e-01, -5.3171e-02, -1.2756e-02, -1.0620e-01, -4.4037e-02,\n",
       "         -7.7113e-02, -9.7496e-02,  1.3063e-01, -3.0772e-02,  2.7558e-02,\n",
       "         -1.9281e-02, -2.1936e-01,  9.6829e-02,  6.7501e-02,  5.1708e-02,\n",
       "         -4.5265e-02, -1.2373e-01,  8.9356e-02, -1.1962e-01,  1.5492e-02,\n",
       "          9.9240e-02, -6.9047e-02, -1.5941e-01, -7.9376e-02, -6.5066e-02,\n",
       "          4.4613e-02, -8.3622e-02, -6.2703e-02, -6.8501e-02]),\n",
       " 'encoder.layer.0.attention.output.dense.weight': tensor([[ 0.0184, -0.0569,  0.0245,  ..., -0.0351,  0.0279, -0.0730],\n",
       "         [ 0.0595,  0.0058, -0.0053,  ...,  0.0132, -0.0099, -0.1060],\n",
       "         [-0.0586, -0.0396, -0.0006,  ...,  0.0401,  0.0191,  0.0488],\n",
       "         ...,\n",
       "         [ 0.0106,  0.0105,  0.0015,  ...,  0.0321, -0.0268,  0.0189],\n",
       "         [ 0.0126,  0.0324,  0.0415,  ...,  0.0188, -0.0136,  0.0329],\n",
       "         [-0.0691, -0.0174, -0.0073,  ..., -0.1026,  0.0988,  0.0079]]),\n",
       " 'encoder.layer.0.attention.output.dense.bias': tensor([-0.0452, -0.1125,  0.0307,  0.1217,  0.1324, -0.0405, -0.0750, -0.0393,\n",
       "         -0.0045, -0.1137,  0.1434, -0.0238,  0.0238, -0.0517,  0.1233, -0.0559,\n",
       "         -0.1116, -0.0157, -0.0173,  0.0049,  0.1460,  0.0105, -0.1380,  0.0220,\n",
       "         -0.1069, -0.0094,  0.0085, -0.1442, -0.0378,  0.0511, -0.0355,  0.0350,\n",
       "          0.1607,  0.0078, -0.0115, -0.0359, -0.0218, -0.0565,  0.0824, -0.1316,\n",
       "         -0.0382,  0.1070, -0.0213, -0.0282,  0.1156,  0.1148,  0.0758,  0.0936,\n",
       "         -0.0003,  0.0917,  0.0425,  0.0756,  0.1267, -0.0167,  0.0624, -0.0412,\n",
       "          0.0905, -0.1435, -0.1052, -0.0472, -0.0354,  0.0088, -0.0449,  0.1234,\n",
       "          0.0026,  0.0102, -0.0302, -0.0907, -0.0067,  0.1374, -0.0464,  0.0201,\n",
       "         -0.0731,  0.0458, -0.1002, -0.0641, -0.0700,  0.0856,  0.0427, -0.0038,\n",
       "          0.0442, -0.2036,  0.0481, -0.0418,  0.0877, -0.0185, -0.0429,  0.1041,\n",
       "         -0.1258, -0.0161, -0.1248,  0.0071,  0.0147, -0.0003, -0.0336, -0.0183,\n",
       "          0.0682,  0.0604, -0.1347,  0.0768, -0.1498,  0.0756, -0.0717, -0.0220,\n",
       "         -0.0377,  0.1164, -0.0596, -0.0397,  0.0570, -0.0011,  0.0144,  0.0335,\n",
       "         -0.0060, -0.0262,  0.0456,  0.0842,  0.0411,  0.0507,  0.0186,  0.1645,\n",
       "          0.1309, -0.0651,  0.1446, -0.0156, -0.0387,  0.0461,  0.0377, -0.0831,\n",
       "         -0.0488,  0.0722, -0.0353, -0.1237, -0.0477,  0.0886,  0.0111,  0.0603,\n",
       "          0.0162,  0.0297,  0.0225, -0.0764,  0.0207, -0.0566,  0.0090, -0.0987,\n",
       "          0.0327,  0.0789, -0.1073,  0.1381, -0.0370, -0.0164, -0.0084, -0.0151,\n",
       "         -0.0155, -0.1350, -0.0336, -0.0428, -0.0823, -0.0592, -0.0464, -0.0070,\n",
       "         -0.0152,  0.0471, -0.0538,  0.0270,  0.0424,  0.0151,  0.0149, -0.1807,\n",
       "          0.0726,  0.0409, -0.0896,  0.1451, -0.0711, -0.1982, -0.0294, -0.0891,\n",
       "         -0.0530, -0.1119, -0.0006,  0.0924,  0.0187, -0.0331,  0.0504, -0.0649,\n",
       "          0.0283,  0.1014,  0.0205, -0.0422, -0.0190,  0.0227, -0.0084,  0.0079,\n",
       "         -0.0383, -0.0167,  0.0415, -0.0461, -0.1016, -0.0333,  0.0130, -0.1032,\n",
       "          0.0849,  0.0427, -0.1851,  0.0979, -0.1895,  0.0140,  0.0704,  0.0941,\n",
       "          0.0472, -0.1123, -0.0991,  0.1706,  0.0374,  0.0296, -0.0561,  0.0218,\n",
       "          0.1431,  0.1180,  0.0418,  0.0168,  0.0610, -0.1372, -0.0255,  0.0254,\n",
       "         -0.0657, -0.0428,  0.0858,  0.0392,  0.1065,  0.0951,  0.1394, -0.0712,\n",
       "          0.0514,  0.1032,  0.0049,  0.0775,  0.1015,  0.1081,  0.1270, -0.0926,\n",
       "          0.0852,  0.0155, -0.2093,  0.0022,  0.0882, -0.0570, -0.0032, -0.0371,\n",
       "         -0.0124,  0.0354, -0.0498,  0.0434, -0.0214,  0.0208, -0.0079,  0.0117,\n",
       "         -0.0144, -0.1236,  0.0203, -0.0237,  0.0229, -0.0930,  0.0579,  0.0190,\n",
       "          0.0300,  0.1105, -0.0042, -0.0961, -0.0575,  0.1742,  0.0177,  0.0054,\n",
       "          0.0369, -0.0753,  0.0231, -0.0261,  0.0140,  0.0094, -0.1807, -0.1459,\n",
       "         -0.1283,  0.0640, -0.0459, -0.0184, -0.1116, -0.0021, -0.0059,  0.0236,\n",
       "          0.1116,  0.1802,  0.0881,  0.0192, -0.0156,  0.1204, -0.0777, -0.1059,\n",
       "          0.1282,  0.1235,  0.0234, -0.0115, -0.0033, -0.1088,  0.0488,  0.0488,\n",
       "         -0.0484,  0.0689, -0.0958, -0.0213, -0.1066,  0.0056,  0.1224, -0.1147,\n",
       "         -0.2448,  0.0205,  0.0382,  0.1102, -0.0774,  0.0678, -0.1157, -0.0772,\n",
       "         -0.0816, -0.0306, -0.0100, -0.0783, -0.0672, -0.0237, -0.0725,  0.1253,\n",
       "         -0.0842, -0.0617, -0.0496, -0.1010,  0.0892, -0.0607, -0.0315, -0.1099,\n",
       "         -0.0292,  0.0229,  0.1019, -0.0182,  0.0313,  0.0247,  0.0197,  0.0048,\n",
       "          0.0183, -0.0952, -0.1022, -0.1656,  0.1942, -0.0759,  0.0134,  0.1413,\n",
       "         -0.0037,  0.0444,  0.0817, -0.1268,  0.0999,  0.0808,  0.0093,  0.0647,\n",
       "         -0.0956, -0.0047,  0.0189,  0.1003, -0.0777, -0.0069,  0.0724, -0.0086,\n",
       "          0.0459,  0.0156,  0.0677, -0.0596,  0.0460,  0.1581,  0.0088, -0.0518,\n",
       "          0.0166,  0.1617,  0.0663, -0.0407, -0.1345, -0.0133, -0.0523,  0.0859]),\n",
       " 'encoder.layer.0.attention.output.LayerNorm.weight': tensor([0.5449, 0.5899, 0.4574, 0.4712, 0.6253, 0.5304, 0.6541, 0.5429, 0.5031,\n",
       "         0.4845, 0.5206, 0.6139, 0.4885, 0.4885, 0.5402, 0.5210, 0.5942, 0.5035,\n",
       "         0.6886, 0.5908, 0.6873, 0.6131, 0.5241, 0.4856, 0.5690, 0.4899, 0.5301,\n",
       "         0.4989, 0.6560, 0.4905, 0.4468, 0.6823, 0.6503, 0.5363, 0.5065, 0.5773,\n",
       "         0.4961, 0.5129, 0.5136, 0.5371, 0.4950, 0.5154, 0.5191, 0.4972, 0.4683,\n",
       "         0.5437, 0.4881, 0.5191, 0.5390, 0.4997, 0.6648, 0.5114, 0.5211, 0.5854,\n",
       "         0.4843, 0.5513, 0.5440, 0.5798, 0.4872, 0.5209, 0.6272, 0.4790, 0.6128,\n",
       "         0.8738, 0.6363, 0.5329, 0.4629, 0.6290, 0.6057, 0.6291, 0.5343, 0.5222,\n",
       "         0.5425, 0.5215, 0.4958, 0.4999, 0.4964, 0.5244, 0.5419, 0.6144, 0.6758,\n",
       "         0.7612, 0.4887, 0.5862, 0.5531, 0.4863, 0.4944, 0.5263, 0.5813, 0.5136,\n",
       "         0.5501, 0.5954, 0.5995, 0.5200, 0.7019, 0.5706, 0.4961, 0.6957, 0.6834,\n",
       "         1.5501, 0.5178, 0.5281, 0.6461, 0.5875, 0.4443, 0.4663, 0.5454, 0.6159,\n",
       "         0.4797, 0.5311, 0.4870, 0.5176, 0.7227, 0.5416, 0.5634, 0.5988, 0.5390,\n",
       "         0.4694, 0.6073, 0.6527, 0.5498, 0.5037, 0.5862, 0.5127, 0.5752, 0.6072,\n",
       "         0.5683, 0.4519, 0.5252, 0.5730, 0.5207, 0.7014, 0.5532, 0.4985, 0.5300,\n",
       "         0.4988, 0.5147, 0.6919, 0.5643, 0.6596, 0.5955, 0.6262, 0.6372, 0.5620,\n",
       "         0.6397, 0.6900, 0.5465, 0.4301, 0.5274, 0.6228, 0.4959, 0.5790, 0.5136,\n",
       "         0.5373, 0.5314, 0.5122, 0.6247, 0.7968, 0.4495, 0.4681, 0.5450, 0.5130,\n",
       "         0.5003, 0.7584, 0.5697, 0.5629, 0.4904, 0.4788, 0.5570, 0.5173, 0.6072,\n",
       "         0.4856, 0.6214, 0.5815, 0.5000, 0.5093, 0.5970, 0.5029, 0.5313, 0.4767,\n",
       "         0.6678, 0.5354, 0.5526, 0.4672, 0.5013, 0.5497, 0.5430, 0.4853, 0.5160,\n",
       "         0.6810, 0.6904, 0.6424, 0.6368, 0.5790, 0.5156, 0.5206, 0.5508, 0.5921,\n",
       "         0.7047, 0.4853, 0.6472, 0.5952, 0.5170, 0.5235, 0.6487, 0.5343, 0.6523,\n",
       "         0.5506, 0.6415, 0.5245, 0.5256, 0.6353, 0.6294, 0.5573, 0.4774, 0.5997,\n",
       "         0.5421, 0.4927, 0.6218, 0.4863, 0.6149, 0.6570, 0.6028, 0.5847, 0.6078,\n",
       "         0.4997, 0.6269, 0.6678, 0.5350, 0.5044, 0.6078, 0.5561, 0.6884, 0.6569,\n",
       "         0.5956, 0.5887, 0.6389, 0.5200, 0.6922, 0.5842, 0.6522, 0.6034, 0.5334,\n",
       "         0.5104, 0.5158, 0.7678, 0.7627, 0.6712, 0.5630, 0.5974, 0.6316, 0.7038,\n",
       "         0.7137, 0.5066, 0.4923, 0.5649, 0.7030, 0.4928, 0.5090, 0.6508, 0.6456,\n",
       "         0.6075, 0.5021, 0.5978, 0.5186, 0.5403, 0.5267, 1.4946, 0.5167, 0.5829,\n",
       "         0.6847, 0.6012, 0.6713, 0.4762, 0.6343, 0.5409, 0.5712, 0.6565, 0.5155,\n",
       "         0.6561, 0.7545, 0.5746, 0.5928, 0.5044, 0.5339, 0.4934, 0.5538, 0.5980,\n",
       "         0.7021, 0.5353, 0.5160, 0.6150, 0.5836, 0.4879, 0.5801, 0.5596, 0.6884,\n",
       "         0.7143, 0.5554, 0.5979, 0.6234, 0.6845, 0.4805, 0.9909, 0.6498, 0.5072,\n",
       "         0.5594, 0.5469, 0.6033, 0.5522, 0.6712, 0.5739, 0.5211, 0.4868, 0.5386,\n",
       "         0.5309, 0.5598, 0.6120, 0.5079, 0.4356, 0.4779, 0.5132, 0.6300, 0.5112,\n",
       "         0.5832, 0.5801, 0.6273, 0.5999, 0.4901, 0.6483, 0.5690, 0.5020, 0.5992,\n",
       "         0.5513, 0.5507, 0.5001, 0.4530, 0.5758, 0.7489, 0.5417, 0.4765, 0.5209,\n",
       "         0.5626, 0.6022, 0.5104, 0.4789, 0.5152, 0.7501, 0.4949, 0.5844, 0.5277,\n",
       "         0.6675, 0.5539, 0.5172, 0.6626, 0.5145, 0.5475, 0.5211, 0.4894, 0.8338,\n",
       "         0.5344, 0.5440, 0.5698, 0.7592, 0.7037, 0.5199, 0.5894, 0.5783, 0.5294,\n",
       "         0.5734, 0.5407, 0.5234, 0.5147, 0.5041, 0.5134, 0.5572, 0.4771, 0.5446,\n",
       "         0.5324, 0.4818, 0.6881, 0.5982, 0.7036, 0.7133]),\n",
       " 'encoder.layer.0.attention.output.LayerNorm.bias': tensor([-1.5046e-02,  6.5246e-02,  1.2972e-01, -4.7162e-02, -1.2239e-02,\n",
       "          2.3063e-02,  1.1784e-01,  8.4147e-02,  5.6691e-02, -3.7447e-02,\n",
       "         -3.1310e-02, -5.4302e-02,  9.0051e-02, -7.5406e-02,  4.6492e-03,\n",
       "          2.1502e-02,  2.3510e-02, -4.8628e-02,  8.1297e-02,  3.9515e-02,\n",
       "          6.6373e-02, -1.6268e-02,  5.5773e-02,  4.1031e-02, -2.5720e-02,\n",
       "          2.0556e-02,  5.7287e-02,  3.2462e-02,  1.6689e-02,  2.7224e-02,\n",
       "          4.7514e-02,  4.4038e-02,  3.0198e-02,  2.5876e-02,  9.3170e-02,\n",
       "          8.5304e-03,  8.4589e-02,  4.2145e-02,  4.9164e-02,  5.8593e-02,\n",
       "         -2.9501e-02,  8.6093e-02,  5.9698e-02,  1.8166e-01, -6.3820e-02,\n",
       "         -4.1282e-02, -2.6967e-02,  5.5026e-02,  3.3003e-02,  4.2196e-02,\n",
       "          1.0215e-01, -7.4521e-02,  6.3003e-02,  4.1825e-03, -1.4525e-02,\n",
       "          3.5014e-03,  9.3259e-02,  5.9391e-02,  8.6068e-02,  3.6247e-02,\n",
       "          6.7320e-02,  5.0199e-03,  1.2001e-01, -2.2768e-01,  2.4628e-02,\n",
       "          2.0177e-02,  1.8327e-02,  4.4642e-02,  9.4380e-02,  3.1862e-02,\n",
       "          4.7299e-02, -7.1979e-03,  4.9681e-02,  1.8866e-02,  3.2118e-02,\n",
       "         -1.0955e-02,  4.9015e-02, -9.9227e-02,  6.2755e-02,  1.7299e-02,\n",
       "          7.4247e-02, -2.8573e-01,  2.8721e-02,  1.6619e-01,  4.0604e-02,\n",
       "          8.2422e-02,  6.9598e-02,  6.5446e-02, -5.6842e-02, -3.1098e-03,\n",
       "          3.1438e-02,  1.4598e-02, -1.3598e-01,  4.1698e-02,  4.2613e-01,\n",
       "          2.7236e-02, -6.9482e-02,  7.3171e-02,  5.0576e-02, -1.8021e-03,\n",
       "         -2.8486e-02,  5.7696e-02,  7.8473e-02, -9.4934e-02,  2.9755e-02,\n",
       "          1.2940e-02,  2.3249e-02,  1.1112e-01, -5.2299e-02,  2.3821e-01,\n",
       "          2.6862e-02,  4.8876e-02, -8.3629e-02,  8.3366e-02,  7.8427e-02,\n",
       "          6.1926e-02,  3.0873e-02,  4.8447e-02, -2.4340e-02, -5.9810e-02,\n",
       "         -2.6234e-02, -5.7664e-02,  2.9644e-02,  3.3593e-02,  3.1721e-02,\n",
       "          1.6098e-01,  3.8367e-02,  1.1153e-02,  8.8094e-02, -6.9325e-03,\n",
       "          8.9887e-02, -2.1794e-01,  4.0852e-02, -5.2053e-02,  1.4941e-01,\n",
       "          1.0741e-02, -3.7212e-02,  4.5256e-01, -5.3881e-02,  1.6763e-01,\n",
       "          8.4791e-02, -1.5134e-02, -9.1349e-03,  6.0327e-03, -3.8193e-02,\n",
       "          3.6461e-02,  1.8351e-01, -2.8177e-02, -8.1927e-03, -9.3426e-02,\n",
       "          4.2669e-02, -6.5848e-02,  2.2515e-02,  4.5238e-02,  1.2115e-01,\n",
       "          7.9719e-02, -4.4148e-03,  1.5101e+00,  1.3951e-02, -1.0122e-01,\n",
       "          2.6545e-02,  1.2502e-01,  2.5270e-02,  3.6879e-01,  8.3830e-02,\n",
       "          4.5352e-02,  3.0033e-02, -6.2599e-03,  6.3901e-02,  3.8151e-02,\n",
       "          4.0395e-02,  3.8123e-03,  6.3185e-03,  2.7273e-02,  5.6606e-02,\n",
       "          1.7070e-01,  5.8020e-02, -5.3153e-02,  4.7667e-02, -8.7222e-03,\n",
       "          9.8059e-02, -7.4120e-02,  2.6000e-03, -2.9171e-02, -7.0820e-03,\n",
       "          5.3912e-02,  4.6405e-02, -7.9010e-03, -1.8302e-03,  5.2476e-01,\n",
       "          1.4823e-01,  1.2320e-01, -8.1514e-02,  2.2027e-02, -1.2695e-02,\n",
       "         -1.6891e-02,  3.6455e-02,  3.0486e-02,  3.0827e-01,  9.3928e-02,\n",
       "         -5.1452e-02,  3.3503e-02, -1.1604e-01,  4.1783e-03,  9.2999e-02,\n",
       "         -1.5875e-02,  1.0665e-01,  3.2146e-04, -5.8128e-02,  2.1186e-03,\n",
       "          2.2606e-02,  3.4713e-02,  8.1352e-02, -1.0324e-02,  4.0992e-03,\n",
       "          4.7660e-02,  1.0531e-02, -4.2297e-03, -1.0964e-02,  6.0844e-02,\n",
       "          1.5509e-03,  1.0638e-01, -1.5262e-02, -4.4852e-01,  1.1223e-01,\n",
       "         -3.2699e-03,  1.3342e-01,  1.7213e-01,  7.2927e-02,  3.2806e-02,\n",
       "          1.0514e-01,  4.2654e-02,  1.3196e-01,  6.9277e-02,  8.8708e-03,\n",
       "          2.7614e-02,  1.1225e-01, -5.4501e-03, -1.2623e+00,  2.4668e-01,\n",
       "          1.2940e-02,  7.9332e-02, -3.4710e-03, -3.9060e-02,  2.9492e-02,\n",
       "         -3.2368e-01, -1.0108e+00, -2.2941e-01, -4.0031e-02,  2.1637e-01,\n",
       "          1.0228e-01,  1.9420e-01,  4.1802e-01,  8.3542e-02,  7.8697e-02,\n",
       "         -1.8817e-02, -1.2704e-01,  4.9259e-02,  5.3741e-02, -5.3635e-02,\n",
       "         -1.0663e-02,  5.0375e-02,  6.3788e-02,  1.4080e-01,  1.2016e-01,\n",
       "          1.0617e-02, -2.9392e-03,  1.1749e+00,  1.6863e-01,  1.0136e-01,\n",
       "         -1.4032e-01,  5.0224e-02,  4.6119e-02,  2.6330e-03,  1.0987e-01,\n",
       "          8.0289e-02,  2.4304e-02, -8.4804e-02,  8.8532e-02, -5.9520e-02,\n",
       "          8.7770e-01, -6.9343e-02,  4.5396e-02,  4.2260e-04,  1.1306e-01,\n",
       "         -6.7310e-04,  2.7500e-02,  9.3807e-03,  2.5657e-01,  7.3025e-02,\n",
       "          5.8959e-02,  9.0039e-02,  1.2630e-02, -1.1148e-03,  5.8235e-02,\n",
       "          4.7230e-02,  9.2264e-02, -3.7775e-01,  3.6207e-02, -4.1329e-03,\n",
       "          1.3400e-01, -3.1002e-01,  5.6172e-02, -3.0680e-01, -5.1789e-02,\n",
       "          1.1192e-01, -1.2766e-02,  6.4146e-02, -1.1609e-02,  4.6031e-02,\n",
       "         -5.3205e-02, -2.0307e-02,  4.2294e-02,  1.1329e-01,  1.2457e-01,\n",
       "          5.0224e-02, -4.1693e-02,  9.0551e-02,  9.6200e-02,  9.9129e-03,\n",
       "          1.2725e-01,  6.9946e-02, -2.8385e-01, -1.3251e-02,  1.6548e-02,\n",
       "          1.3379e-01,  2.2307e-01,  3.7945e-02,  3.7139e-02, -1.5571e-02,\n",
       "          5.2095e-02, -2.7605e-02,  3.2978e-02,  1.2569e-01,  6.4625e-02,\n",
       "         -1.4175e-02,  7.1537e-02,  6.7056e-02, -1.0718e+00,  3.9495e-02,\n",
       "          5.1982e-03,  7.7346e-02,  6.1036e-02,  9.6645e-02, -3.0233e-03,\n",
       "          5.4293e-02,  4.0337e-02,  1.1246e+00,  7.1311e-02,  9.1416e-02,\n",
       "         -3.6944e-02,  8.0032e-03, -5.3641e-03, -5.3248e-02,  3.4802e-02,\n",
       "          3.5937e-02,  3.9564e-02, -4.8313e-02, -3.4955e-02, -1.5519e-01,\n",
       "          1.5254e-01,  3.0615e-02,  1.2101e-01, -4.4784e-02, -1.0903e-01,\n",
       "          6.6161e-02,  9.2973e-02,  6.5231e-02,  3.0109e-02,  3.1975e-02,\n",
       "          4.6742e-02,  5.8237e-05,  6.1082e-02, -2.0344e-02, -1.5726e-02,\n",
       "          5.8118e-02,  8.7201e-03, -5.6711e-02,  1.3218e-02,  8.5560e-02,\n",
       "          6.9758e-02,  5.1733e-02, -2.5752e-02, -2.8406e-01]),\n",
       " 'encoder.layer.0.intermediate.dense.weight': tensor([[-0.0287, -0.0777,  0.0871,  ..., -0.0125, -0.0030, -0.0503],\n",
       "         [-0.0118,  0.0721, -0.0281,  ..., -0.0217,  0.0010, -0.0024],\n",
       "         [-0.0033, -0.1187,  0.1622,  ...,  0.0215,  0.0021,  0.0323],\n",
       "         ...,\n",
       "         [ 0.0045, -0.0861,  0.0262,  ..., -0.0698,  0.0133,  0.0115],\n",
       "         [-0.0059, -0.0305, -0.0848,  ...,  0.0181, -0.0123,  0.0763],\n",
       "         [-0.0461,  0.0235,  0.0199,  ...,  0.0961,  0.0691, -0.0399]]),\n",
       " 'encoder.layer.0.intermediate.dense.bias': tensor([-0.0814,  0.1446, -0.2125,  ..., -0.0789, -0.0152, -0.5719]),\n",
       " 'encoder.layer.0.output.dense.weight': tensor([[ 0.0169,  0.0211,  0.0187,  ...,  0.0660, -0.0586, -0.0111],\n",
       "         [ 0.0109,  0.0019, -0.0960,  ..., -0.0477,  0.0211, -0.0140],\n",
       "         [-0.0447,  0.0306,  0.0127,  ...,  0.0138,  0.0019, -0.0152],\n",
       "         ...,\n",
       "         [ 0.0415,  0.0028,  0.0096,  ...,  0.0442,  0.0434, -0.0444],\n",
       "         [-0.0004,  0.0086, -0.0192,  ...,  0.0417, -0.0037, -0.0325],\n",
       "         [ 0.0282,  0.0613, -0.0460,  ..., -0.0238, -0.0871,  0.0207]]),\n",
       " 'encoder.layer.0.output.dense.bias': tensor([-1.1138e-01, -1.4542e-01, -3.1621e-02,  1.1768e-01,  1.9241e-02,\n",
       "         -2.1627e-02, -1.0797e-01, -3.5830e-02, -8.0477e-02, -3.4892e-02,\n",
       "          1.4161e-01,  1.5609e-01, -3.2081e-02,  5.2238e-02,  3.0892e-02,\n",
       "         -1.2922e-01,  9.8485e-02,  1.8910e-02,  4.5963e-02, -4.2260e-02,\n",
       "         -6.6334e-02,  7.6866e-02, -1.1659e-01,  4.1017e-02, -1.7336e-02,\n",
       "          3.1315e-02,  5.3610e-02, -2.0711e-01,  1.4409e-02,  9.4327e-03,\n",
       "         -4.8897e-02,  3.7330e-02, -1.8584e-02, -4.1887e-02,  8.8138e-03,\n",
       "          1.0767e-02, -2.6668e-02, -8.1177e-02, -1.2791e-01, -8.9758e-02,\n",
       "         -6.0262e-02, -9.5873e-02, -1.8681e-03, -2.0436e-01,  1.6172e-02,\n",
       "          3.6674e-02,  6.6710e-02, -1.1480e-01, -9.0474e-02, -2.4484e-02,\n",
       "          4.1841e-02,  4.6740e-02,  6.7211e-02, -2.7324e-02, -1.6849e-02,\n",
       "          6.9924e-02,  3.8063e-03, -6.1775e-02, -7.2657e-03,  7.8877e-03,\n",
       "          2.3375e-02,  7.6864e-02,  1.6683e-01, -1.1491e-01,  3.2547e-02,\n",
       "          1.2532e-01,  1.6770e-02, -3.7387e-02, -7.7982e-03,  6.0541e-02,\n",
       "          7.1050e-02,  4.3190e-02,  4.5251e-02,  6.5586e-02, -7.8866e-02,\n",
       "          4.1516e-02,  3.3938e-02,  8.1949e-02, -1.1580e-01, -1.3825e-02,\n",
       "          7.6246e-03,  4.2655e-02,  7.5160e-02, -1.6957e-01, -4.3201e-02,\n",
       "         -1.4962e-01, -8.5080e-02, -5.6194e-02,  8.3530e-02, -5.5502e-02,\n",
       "          9.6340e-03, -4.4766e-02,  1.0720e-01,  8.0747e-02,  7.5366e-02,\n",
       "          4.7308e-02,  1.4434e-01, -3.2483e-02, -3.6674e-02,  1.0936e-01,\n",
       "          1.7212e-02,  6.5680e-02,  2.2396e-02,  7.6395e-03, -4.2726e-02,\n",
       "          5.3623e-02,  1.1176e-02, -1.7519e-02, -2.0205e-02, -5.1119e-02,\n",
       "         -3.6103e-02,  6.5282e-02, -6.4562e-02, -3.5191e-03,  9.6317e-02,\n",
       "         -3.7940e-02,  7.9804e-02, -4.6703e-02, -1.9695e-03, -1.0820e-03,\n",
       "          1.7824e-02,  4.3959e-02, -1.4748e-02,  1.6804e-03, -6.2874e-02,\n",
       "          3.1414e-02, -1.2128e-01, -3.2493e-02, -8.4912e-02,  6.2014e-02,\n",
       "         -1.0267e-01, -1.2178e-01, -8.2485e-02,  3.3073e-02, -1.3434e-01,\n",
       "         -8.1106e-03,  1.0483e-01, -1.9087e-01,  5.6673e-02,  1.2079e-01,\n",
       "          1.0014e-01, -1.0607e-01, -2.4656e-02,  5.5663e-02,  2.7532e-02,\n",
       "          1.8982e-02, -4.5353e-03, -1.0139e-01, -6.4834e-02,  1.3164e-01,\n",
       "          5.5379e-02, -8.5410e-02,  3.0889e-03, -1.4421e-01, -4.2929e-02,\n",
       "         -6.2512e-02,  3.5160e-02, -6.2661e-02,  2.1565e-02,  1.2932e-01,\n",
       "          3.3160e-03, -1.5763e-02,  2.8269e-02,  1.6788e-01,  2.4977e-03,\n",
       "         -3.2642e-02, -4.5574e-02,  2.5785e-03, -1.5282e-01, -5.6936e-02,\n",
       "         -6.6699e-02, -1.5892e-02, -1.2267e-01,  3.6132e-02,  1.5021e-02,\n",
       "         -4.3209e-02, -3.9651e-02,  4.9616e-02, -9.9069e-03,  1.3671e-01,\n",
       "          4.5135e-02,  9.8574e-02,  4.5240e-02,  2.9670e-02, -2.7248e-02,\n",
       "          1.8739e-02,  9.6717e-02,  6.6937e-02, -6.6244e-02, -4.5455e-02,\n",
       "         -4.6993e-02, -3.5398e-02,  6.9480e-02, -6.2150e-02,  4.8849e-02,\n",
       "          7.4555e-03,  2.4681e-02, -6.7061e-02,  6.2489e-02, -6.9342e-02,\n",
       "          2.3930e-02, -9.6868e-02,  2.5161e-02,  5.4768e-02, -1.7711e-02,\n",
       "         -1.7185e-02, -7.2299e-02,  1.7231e-02, -1.9589e-02, -5.9073e-02,\n",
       "         -4.6859e-02,  9.7373e-02, -5.3979e-02,  6.9075e-02, -8.1532e-02,\n",
       "          8.3006e-02, -4.4062e-04,  1.6346e-02,  3.2467e-02,  1.2678e-02,\n",
       "          8.2110e-02, -2.6132e-02, -4.3323e-02, -8.5686e-02,  1.4096e-02,\n",
       "         -2.4880e-02, -2.7867e-02, -1.3044e-01,  1.5359e-03,  6.0395e-02,\n",
       "         -8.8100e-02,  2.6554e-03,  2.1310e-01,  9.2396e-02,  5.6389e-02,\n",
       "         -5.8596e-02,  7.2019e-02,  1.1728e-02,  2.2637e-01, -5.5502e-02,\n",
       "          1.0567e-01, -5.5135e-02,  6.9574e-02,  1.8548e-01,  7.0805e-02,\n",
       "          1.2685e-01,  1.4925e-01, -7.6819e-02,  4.5213e-02, -3.6521e-02,\n",
       "          1.2310e-01,  1.5137e-01, -1.6479e-02,  5.8227e-02, -6.1869e-02,\n",
       "          5.6465e-02, -2.5464e-02, -5.4533e-02, -2.1462e-02, -7.4393e-02,\n",
       "          8.9945e-02,  5.1756e-02, -3.4169e-02,  1.5397e-02, -9.7348e-02,\n",
       "          5.6091e-02, -7.5928e-03,  2.2208e-02,  2.9783e-02,  4.5764e-02,\n",
       "          1.6755e-02, -1.2691e-02,  1.0504e-02, -8.3352e-02,  6.8967e-02,\n",
       "         -1.1493e-01, -3.4274e-03, -2.7297e-03, -6.4665e-02, -1.1977e-01,\n",
       "         -5.8521e-02,  4.9523e-02, -3.6250e-02,  9.2484e-02, -5.5205e-02,\n",
       "         -1.1788e-01,  6.0977e-02, -2.0299e-02,  3.0512e-02, -8.9663e-02,\n",
       "         -2.4717e-02,  6.7908e-02, -1.0002e-01,  1.2151e-02, -1.7650e-02,\n",
       "          8.9528e-03,  1.1110e-04,  1.7159e-02, -3.7757e-02,  1.0808e-01,\n",
       "          8.8202e-02,  7.6923e-02, -4.2320e-02,  1.2199e-01, -2.2837e-02,\n",
       "          1.2344e-01, -3.2644e-02,  1.7463e-02, -9.2735e-02,  8.7443e-02,\n",
       "          3.6191e-02, -9.4801e-02,  4.5476e-02, -8.4924e-02, -1.1618e-02,\n",
       "          1.0501e-02,  1.9746e-02,  1.7593e-02, -1.5926e-01, -3.5851e-02,\n",
       "         -2.2674e-01,  3.3108e-02,  4.4683e-02, -9.6837e-02, -6.1481e-02,\n",
       "          4.3072e-02,  1.0305e-03,  4.5894e-02, -8.0840e-03, -1.9112e-02,\n",
       "         -6.8100e-02,  6.7524e-02, -2.2969e-02,  7.0166e-03, -1.1840e-01,\n",
       "          5.6179e-02, -2.7312e-02,  3.5414e-03, -4.5546e-02, -1.0155e-01,\n",
       "         -6.6384e-02,  5.2635e-03,  3.9824e-02, -2.8818e-02,  6.2401e-02,\n",
       "          4.8832e-03, -9.0182e-02, -1.6025e-02,  6.4019e-02, -2.2737e-03,\n",
       "          1.9082e-01,  7.4442e-02, -5.8674e-02, -3.5087e-02,  1.3422e-01,\n",
       "         -1.1943e-02,  5.9224e-02,  2.5422e-02,  1.7201e-02, -3.1584e-02,\n",
       "          3.7291e-02, -4.3765e-02,  2.2942e-02,  8.8220e-02, -5.6685e-03,\n",
       "          1.1413e-01,  1.2180e-01,  7.3096e-02,  7.1094e-02,  9.9073e-02,\n",
       "         -2.1688e-02,  5.7977e-02, -2.1300e-01, -8.5065e-02, -3.9329e-02,\n",
       "         -1.6357e-01, -1.4347e-02,  5.8199e-02,  2.4713e-02,  4.2018e-02,\n",
       "         -1.4634e-01,  1.7213e-02, -6.8723e-02,  2.5021e-02]),\n",
       " 'encoder.layer.0.output.LayerNorm.weight': tensor([0.6317, 0.6336, 0.5591, 0.5341, 0.6725, 0.6107, 0.6646, 0.6140, 0.5753,\n",
       "         0.5478, 0.6174, 0.6573, 0.4839, 0.5408, 0.6103, 0.6125, 0.6388, 0.5996,\n",
       "         0.6916, 0.6511, 0.6796, 0.6362, 0.6010, 0.5747, 0.6832, 0.5579, 0.5714,\n",
       "         0.5748, 0.7398, 0.5475, 0.5591, 0.6478, 0.6634, 0.6395, 0.6381, 0.6541,\n",
       "         0.5909, 0.5956, 0.5828, 0.6089, 0.5405, 0.5829, 0.6057, 0.5838, 0.5336,\n",
       "         0.6171, 0.5547, 0.6176, 0.6318, 0.6112, 0.6749, 0.5620, 0.6078, 0.6237,\n",
       "         0.6101, 0.6325, 0.5770, 0.6143, 0.5645, 0.5393, 0.6381, 0.5387, 0.5667,\n",
       "         0.4489, 0.6901, 0.6129, 0.5515, 0.6779, 0.6438, 0.6758, 0.6234, 0.6162,\n",
       "         0.6614, 0.6322, 0.5769, 0.5648, 0.5607, 0.6243, 0.6465, 0.6319, 0.6691,\n",
       "         0.6728, 0.5755, 0.6110, 0.6177, 0.5968, 0.5598, 0.6363, 0.6363, 0.5691,\n",
       "         0.5971, 0.6368, 0.6456, 0.6029, 0.6726, 0.5878, 0.5282, 0.6876, 0.6336,\n",
       "         0.4130, 0.5681, 0.5717, 0.6788, 0.6285, 0.6145, 0.5398, 0.5957, 0.6612,\n",
       "         0.6414, 0.5664, 0.5946, 0.5808, 0.6994, 0.6197, 0.6124, 0.6621, 0.6486,\n",
       "         0.5200, 0.6479, 0.7013, 0.6497, 0.5762, 0.6354, 0.6013, 0.6511, 0.6068,\n",
       "         0.6029, 0.5036, 0.5942, 0.6529, 0.5876, 0.6920, 0.6431, 0.5050, 0.6141,\n",
       "         0.6090, 0.6150, 0.7047, 0.6313, 0.6979, 0.6330, 0.6377, 0.6586, 0.6395,\n",
       "         0.6945, 0.6833, 0.6782, 0.5187, 0.5704, 0.6623, 0.5329, 0.6540, 0.5995,\n",
       "         0.6160, 0.5920, 0.5918, 0.6749, 0.7571, 0.5817, 0.5233, 0.5913, 0.5751,\n",
       "         0.5136, 0.6761, 0.6219, 0.6397, 0.5732, 0.5195, 0.6257, 0.5709, 0.6741,\n",
       "         0.5098, 0.6390, 0.6251, 0.6040, 0.5809, 0.6709, 0.5463, 0.5782, 0.5639,\n",
       "         0.6794, 0.6281, 0.6317, 0.5430, 0.5781, 0.6374, 0.6144, 0.5987, 0.6074,\n",
       "         0.7276, 0.7138, 0.6846, 0.6856, 0.6642, 0.5785, 0.5953, 0.6151, 0.6467,\n",
       "         0.7025, 0.5306, 0.7013, 0.6767, 0.5942, 0.5731, 0.6773, 0.6513, 0.6579,\n",
       "         0.6300, 0.6566, 0.6104, 0.6392, 0.6614, 0.6311, 0.6059, 0.5906, 0.6535,\n",
       "         0.6333, 0.5734, 0.6671, 0.5616, 0.6473, 0.6663, 0.6348, 0.5893, 0.6935,\n",
       "         0.6168, 0.6808, 0.6832, 0.5826, 0.5948, 0.6578, 0.6490, 0.7087, 0.7131,\n",
       "         0.6528, 0.5971, 0.6830, 0.5633, 0.6685, 0.6719, 0.6796, 0.6182, 0.5686,\n",
       "         0.5620, 0.6171, 0.6813, 0.5812, 0.7000, 0.5966, 0.6037, 0.6556, 0.6742,\n",
       "         0.7291, 0.5939, 0.5736, 0.6290, 0.7016, 0.5811, 0.5678, 0.7016, 0.6778,\n",
       "         0.6582, 0.6035, 0.6552, 0.6157, 0.6044, 0.6593, 0.3589, 0.5757, 0.5943,\n",
       "         0.6601, 0.6712, 0.6500, 0.5137, 0.6689, 0.6151, 0.6298, 0.6466, 0.5905,\n",
       "         0.6694, 0.6344, 0.6131, 0.6603, 0.5694, 0.5870, 0.5809, 0.6072, 0.6592,\n",
       "         0.6944, 0.5840, 0.5931, 0.6437, 0.6415, 0.5709, 0.6533, 0.6250, 0.7044,\n",
       "         0.7313, 0.6271, 0.6634, 0.6550, 0.6454, 0.5672, 0.4550, 0.6890, 0.5932,\n",
       "         0.6163, 0.6329, 0.6286, 0.6370, 0.6725, 0.6306, 0.5644, 0.5832, 0.5904,\n",
       "         0.5795, 0.6672, 0.6271, 0.5820, 0.5125, 0.5438, 0.5641, 0.7459, 0.5552,\n",
       "         0.6225, 0.6568, 0.6366, 0.6647, 0.5595, 0.6774, 0.6054, 0.5654, 0.6595,\n",
       "         0.6145, 0.6500, 0.5935, 0.5292, 0.6320, 0.7137, 0.5934, 0.5761, 0.5967,\n",
       "         0.6238, 0.6641, 0.5522, 0.5075, 0.6187, 0.5925, 0.5919, 0.6549, 0.5794,\n",
       "         0.6772, 0.6342, 0.5215, 0.6829, 0.6144, 0.6229, 0.6389, 0.5546, 0.4612,\n",
       "         0.5657, 0.6662, 0.6167, 0.7158, 0.6996, 0.5938, 0.6514, 0.6486, 0.5727,\n",
       "         0.6285, 0.5911, 0.5920, 0.5803, 0.5707, 0.5976, 0.6795, 0.5027, 0.6246,\n",
       "         0.5875, 0.5368, 0.6723, 0.6567, 0.6478, 0.6649]),\n",
       " 'encoder.layer.0.output.LayerNorm.bias': tensor([ 3.8802e-02,  1.9774e-02,  5.4443e-03,  6.6304e-02,  2.3695e-02,\n",
       "          2.6291e-02, -1.3692e-02, -2.7774e-03,  2.9469e-02,  5.3358e-02,\n",
       "          8.6484e-02,  7.5287e-02, -2.3072e-02,  6.5481e-02,  2.9725e-02,\n",
       "         -8.2757e-03,  1.9707e-02,  5.2694e-02,  4.8280e-02,  1.4440e-02,\n",
       "         -2.3091e-02,  1.1339e-01,  7.7623e-03,  6.0038e-02,  7.1631e-02,\n",
       "          4.0426e-02,  3.5275e-02,  1.2946e-02,  8.9175e-03,  4.1947e-03,\n",
       "          8.7303e-03,  8.8668e-02, -3.6391e-02,  1.6806e-02,  1.4553e-02,\n",
       "          3.9608e-02, -6.9783e-03,  2.8249e-02, -2.0516e-02,  2.1993e-02,\n",
       "          3.5511e-02, -3.8068e-03,  3.0147e-02, -7.1797e-02,  5.4226e-02,\n",
       "          5.6497e-02,  4.3555e-02,  1.3241e-02,  1.3839e-04,  4.3012e-02,\n",
       "          4.8606e-02,  1.0042e-01,  1.9512e-02,  4.9978e-02,  4.0548e-02,\n",
       "          6.1148e-02, -1.1589e-02,  2.2616e-02, -1.1068e-02,  1.9773e-02,\n",
       "          2.6353e-02,  7.8065e-02,  1.6178e-01, -2.7413e-01,  7.6628e-02,\n",
       "          6.5220e-02,  2.2766e-02,  6.0206e-02,  4.9033e-02,  6.5328e-02,\n",
       "          4.8586e-02,  6.4839e-02,  3.7018e-02,  4.4350e-02,  1.9916e-02,\n",
       "          3.4463e-02,  2.3933e-02,  1.0618e-01,  1.9761e-02,  6.2554e-02,\n",
       "         -1.9770e-02,  1.4202e-01,  2.4468e-02, -7.4459e-02,  1.4517e-02,\n",
       "         -5.3750e-03,  1.2550e-03, -1.1930e-02,  5.8908e-02,  4.5275e-02,\n",
       "          3.2984e-02,  6.0371e-02,  6.6537e-02,  7.4999e-03,  3.8058e-02,\n",
       "          3.8597e-02,  1.4125e-01,  2.2012e-02,  2.8466e-03,  5.4097e-02,\n",
       "          3.8356e-02, -6.5952e-03,  2.7840e-02,  6.7202e-02,  2.0140e-02,\n",
       "          3.4400e-02,  6.4504e-02, -2.0756e-02,  2.0064e-02, -4.0136e-02,\n",
       "          1.5220e-02,  5.6829e-02,  1.7171e-02,  1.7717e-02,  2.7693e-02,\n",
       "          2.2672e-02,  5.3539e-02,  2.0672e-02,  3.9774e-02,  3.8123e-02,\n",
       "          4.2399e-02,  6.6005e-02,  4.6223e-03,  2.7263e-02,  1.8467e-02,\n",
       "         -7.1079e-02, -5.5505e-03,  5.4820e-02, -4.0474e-03,  7.4714e-02,\n",
       "          6.0078e-03,  1.2098e-01,  4.1608e-03,  1.0468e-01, -2.8539e-02,\n",
       "          5.5196e-02,  1.0480e-01, -1.6017e-01,  9.0518e-02, -1.4578e-02,\n",
       "          1.9507e-02,  5.6579e-02,  7.5615e-02,  4.3473e-02,  6.4896e-02,\n",
       "          1.1898e-01, -4.0852e-02,  2.7894e-03,  4.4163e-02,  9.4345e-02,\n",
       "          5.7631e-02,  4.5512e-02,  2.4763e-02, -1.4149e-02, -4.6657e-02,\n",
       "         -2.6731e-02,  2.2175e-02,  9.9364e-02,  1.9635e-02,  1.2415e-01,\n",
       "          5.0783e-03, -3.4869e-02,  3.5397e-02,  5.2381e-02, -1.6482e-03,\n",
       "          1.9239e-02,  3.0625e-02,  5.8979e-02, -9.5006e-04,  1.6972e-02,\n",
       "          1.5673e-03,  1.9573e-02,  2.4588e-02,  2.2397e-02,  2.7019e-02,\n",
       "         -2.8959e-02,  1.7108e-02,  7.0375e-02,  2.9544e-02,  8.2478e-02,\n",
       "          2.3139e-02,  9.2334e-02,  7.6624e-02,  5.8156e-02,  4.5730e-02,\n",
       "          9.1869e-03,  5.1329e-02,  5.7747e-02,  1.1587e-02, -1.0023e-01,\n",
       "          9.8960e-02, -8.0610e-03,  9.2230e-02, -1.0788e-02,  5.0623e-02,\n",
       "          4.7339e-02,  3.5160e-02,  2.1934e-02, -3.4781e-03,  2.9847e-03,\n",
       "          7.2711e-02,  5.0536e-02,  8.0841e-02,  3.2830e-02, -4.0578e-03,\n",
       "          3.9583e-02, -3.0868e-02,  2.6754e-02,  8.2677e-02,  1.8345e-02,\n",
       "          4.6042e-02,  3.7226e-02, -1.9655e-02,  7.4333e-02,  2.1848e-02,\n",
       "          1.7047e-02,  4.0389e-02,  3.3114e-02,  6.5743e-02, -4.7050e-03,\n",
       "          8.6405e-02,  4.6085e-02, -6.9525e-03, -7.2722e-02,  4.0749e-02,\n",
       "          2.6549e-02,  8.3865e-03,  5.2805e-02,  2.7048e-02,  4.7841e-02,\n",
       "         -1.8579e-02,  4.0866e-02, -1.2969e-02,  2.0715e-02,  8.4534e-02,\n",
       "          3.5023e-02,  3.0710e-04,  5.0543e-02,  3.9175e-02, -2.9177e-02,\n",
       "          1.1526e-01, -1.0668e-03,  5.2424e-02,  1.0119e-01,  4.0859e-02,\n",
       "          2.4798e-01,  5.4158e-02,  1.0386e-01,  8.5984e-02, -3.9166e-02,\n",
       "          5.1059e-02,  6.0397e-02, -5.0618e-03,  2.9192e-02, -1.0412e-02,\n",
       "          6.7184e-02,  6.1285e-02,  4.3331e-02,  4.1260e-02,  5.7075e-02,\n",
       "          2.1486e-02,  4.8358e-02,  9.9630e-03,  1.3367e-03, -3.9374e-02,\n",
       "          2.2610e-02,  6.7685e-02, -1.9385e-01, -2.9002e-03,  1.4130e-03,\n",
       "          9.0521e-02,  3.8250e-02,  5.3133e-02,  2.6237e-02, -2.7401e-02,\n",
       "          1.8877e-02,  3.1845e-02,  1.0872e-01, -4.0843e-02,  5.1704e-02,\n",
       "         -2.4707e-01,  1.1953e-01,  4.2624e-02,  4.2737e-02,  4.6280e-04,\n",
       "          2.0203e-02,  2.2178e-02,  6.5576e-02,  2.1254e-02, -1.8974e-02,\n",
       "          9.6881e-03, -1.1082e-03,  5.7538e-02,  2.9465e-02,  1.3659e-02,\n",
       "          1.5838e-02,  3.7689e-02,  9.5828e-02,  2.1485e-02,  4.6031e-02,\n",
       "         -1.1964e-02,  2.2132e-01,  1.3770e-02,  3.8665e-01,  6.3864e-02,\n",
       "          5.6022e-02,  5.0928e-02,  1.9174e-02,  5.0401e-02,  4.4869e-03,\n",
       "          3.4828e-02,  6.8471e-02,  2.4019e-02,  4.1332e-03, -1.1288e-02,\n",
       "         -8.6385e-03,  8.8481e-02,  3.2250e-02, -1.8250e-02,  1.0156e-02,\n",
       "         -3.0296e-02,  3.2076e-02,  8.1010e-02,  3.7591e-02,  4.3199e-02,\n",
       "         -7.8390e-03, -6.6434e-02,  4.1761e-02,  3.9671e-02,  6.2889e-02,\n",
       "          4.4611e-02,  3.9772e-02,  2.3621e-02, -2.8514e-02,  2.8440e-02,\n",
       "          7.1157e-02,  7.6279e-03, -3.7530e-02, -1.8861e-02,  3.7477e-02,\n",
       "          2.0738e-02,  3.5809e-03,  4.1596e-03,  4.5886e-03,  5.1514e-02,\n",
       "          2.0161e-02, -6.5979e-03, -1.3208e-02,  2.1703e-02, -6.2020e-03,\n",
       "          9.8385e-02, -6.2518e-03,  7.7095e-03,  5.1072e-02, -5.7076e-04,\n",
       "          1.3291e-02,  3.2907e-02,  6.4451e-02,  3.7709e-02,  6.6615e-02,\n",
       "          5.0489e-03,  4.6557e-02, -5.7578e-03, -1.4860e-02,  8.4210e-02,\n",
       "          4.1049e-02,  2.6105e-02,  4.8688e-02,  2.9882e-02,  3.5958e-02,\n",
       "          2.9485e-02,  2.4619e-02,  7.0172e-03,  6.1620e-02,  1.8308e-02,\n",
       "          1.9110e-02,  3.8738e-02,  5.2308e-02,  5.4158e-02, -2.7904e-03,\n",
       "          2.5218e-02,  1.3261e-03,  1.1058e-01, -5.0843e-04]),\n",
       " 'encoder.layer.1.attention.self.query.weight': tensor([[ 0.0366,  0.0057, -0.0885,  ..., -0.0737, -0.0658,  0.0236],\n",
       "         [ 0.0401,  0.0804,  0.1259,  ..., -0.0652,  0.0294,  0.1244],\n",
       "         [ 0.0635,  0.1751, -0.1220,  ..., -0.0343, -0.0477, -0.0163],\n",
       "         ...,\n",
       "         [ 0.0265,  0.0287,  0.0556,  ..., -0.0729,  0.1234, -0.0184],\n",
       "         [ 0.0645,  0.0321, -0.0977,  ..., -0.1017,  0.0109, -0.0605],\n",
       "         [ 0.0642, -0.0655,  0.1126,  ...,  0.0737, -0.0323,  0.0060]]),\n",
       " 'encoder.layer.1.attention.self.query.bias': tensor([ 2.2422e-02, -1.7726e-01, -1.7433e-02, -4.0245e-01, -1.8805e-01,\n",
       "         -8.7865e-02, -2.6520e-01, -3.4924e-01,  7.3547e-02, -1.2352e-01,\n",
       "          2.0325e-01,  4.5003e-02,  2.0846e-01,  2.6220e-01, -1.5856e-01,\n",
       "          1.7131e-01, -2.2767e-02, -9.4679e-02, -1.1233e-01, -7.5456e-02,\n",
       "         -1.8419e-01,  1.5591e-01, -2.9371e-01,  1.6456e-01,  3.4214e-02,\n",
       "          3.2658e-01, -1.6121e-01, -5.7455e-02, -1.7967e-01,  2.1058e-01,\n",
       "          3.5031e-01, -3.5031e-02,  8.4427e-02, -4.9574e-02, -1.7160e-01,\n",
       "          1.4989e-01,  7.0626e-02,  1.0445e-01,  2.6343e-01,  2.1111e-01,\n",
       "         -4.5469e-04,  2.0134e-01,  1.8476e-01,  2.1763e-01,  1.3393e-01,\n",
       "         -3.4777e-03,  1.2302e-01,  1.0905e-01, -1.7785e-01, -2.4047e-01,\n",
       "         -1.6548e-01, -1.3608e-01,  8.8246e-02, -1.6779e-01,  1.4432e-01,\n",
       "          1.5565e-01, -2.1852e-01, -1.3417e-02, -1.5411e-01, -1.2204e-01,\n",
       "         -6.2277e-02,  1.0669e-01, -1.2825e-01, -1.8718e-01,  1.0319e-01,\n",
       "          1.2150e-01,  7.5717e-02,  2.3168e-02,  1.4842e-01, -1.3649e-01,\n",
       "         -1.1788e-01,  3.9384e-02, -8.0798e-02, -5.3994e-02,  6.5660e-02,\n",
       "          7.2009e-02, -2.2157e-02,  7.0505e-02, -1.4992e-01,  2.2738e-02,\n",
       "          1.5984e-02, -6.0131e-02, -3.1985e-02, -7.5361e-02, -9.1225e-02,\n",
       "          1.3168e-01, -5.0777e-02,  9.9143e-02, -7.4024e-02, -1.3046e-01,\n",
       "         -3.2152e-02,  7.7326e-02,  1.5531e-01,  9.6632e-02,  1.5439e-01,\n",
       "         -9.6452e-02, -2.6764e-02,  3.9856e-01,  1.2953e-01, -3.0963e-01,\n",
       "         -3.7054e-01, -6.0679e-02, -9.2740e-02, -1.6801e-01, -2.1548e-01,\n",
       "          1.2563e-01, -1.4390e-01, -1.7525e-01, -4.2021e-01,  3.2445e-01,\n",
       "         -4.6425e-02,  1.2057e-01, -1.2863e-01, -3.0366e-01, -8.6581e-02,\n",
       "          1.5568e-01, -1.7171e-01, -7.7372e-02, -1.6547e-01,  1.8804e-02,\n",
       "          5.3370e-01, -5.5545e-02, -2.6332e-01, -4.4919e-02,  1.4653e-01,\n",
       "         -3.6754e-01,  1.8632e-01,  4.2437e-01,  2.1119e-01,  1.8604e-01,\n",
       "          3.6717e-01,  2.6663e-01,  3.1965e-01, -4.3656e-01, -1.7141e-01,\n",
       "         -3.2997e-01, -1.1231e-01,  5.4994e-01,  3.6364e-01, -3.1886e-01,\n",
       "          2.1506e-01,  2.3134e-01, -2.7296e-01, -1.6664e-01,  3.2196e-01,\n",
       "         -4.1519e-01,  2.2525e-01,  5.0174e-01, -6.4366e-02,  5.5312e-01,\n",
       "         -9.5358e-02, -1.1569e-01, -1.6486e-01,  2.8627e-01, -3.8150e-01,\n",
       "          2.4409e-01, -4.0797e-01, -4.6373e-01,  4.4861e-02,  6.2525e-01,\n",
       "          1.8455e-02,  1.1947e-01, -3.2589e-02,  1.2039e-01, -1.5410e-01,\n",
       "         -1.4699e-02,  3.8889e-02,  1.5106e-02, -7.8946e-02, -6.7358e-02,\n",
       "         -3.9240e-02,  1.4995e-02, -4.1933e-03,  1.1416e-01, -4.2889e-02,\n",
       "         -1.3266e-01, -8.2766e-02,  1.1659e-01, -1.8011e-02, -1.6044e-01,\n",
       "          1.4178e-01, -1.6469e-01, -1.8243e-01,  1.0499e-02, -2.2859e-01,\n",
       "          2.3777e-03, -6.2322e-02,  1.4353e-03, -7.0527e-02, -1.2366e-01,\n",
       "         -1.0986e-01,  4.6721e-02,  3.2123e-01,  2.9750e-01,  1.1445e-01,\n",
       "          1.0847e-01, -3.7850e-01, -2.5290e-01, -5.9994e-01,  1.2841e-01,\n",
       "          4.0669e-01, -6.2201e-01,  2.2471e-02, -2.9160e-01, -4.2177e-01,\n",
       "         -7.4180e-01, -4.9074e-01,  3.6286e-01, -4.1176e-01,  3.3560e-01,\n",
       "          3.7321e-01,  7.0965e-01,  3.6972e-02,  1.1949e-01,  6.9749e-02,\n",
       "         -2.6857e-01, -2.9016e-01, -3.7922e-01, -4.5971e-01, -3.9582e-01,\n",
       "          3.4364e-01,  9.5522e-02, -1.9500e-01, -1.8592e-01,  2.5201e-01,\n",
       "         -2.2120e-01,  2.7354e-01,  2.9050e-01,  4.9653e-01, -5.5665e-02,\n",
       "         -1.3931e-02,  3.2506e-01,  2.1028e-02,  2.8709e-01,  1.8070e-01,\n",
       "          4.6934e-01,  3.1115e-01, -3.3363e-01,  3.0531e-01,  3.1441e-02,\n",
       "          2.1480e-01,  1.9628e-01, -1.1876e-01, -2.7807e-01,  3.2864e-01,\n",
       "          3.0919e-02,  1.5890e-03,  6.4124e-02, -2.0820e-01,  3.8101e-01,\n",
       "         -1.1717e-01,  4.8515e-01,  1.5049e-01, -3.9592e-01,  2.0219e-01,\n",
       "          8.9980e-02,  7.9697e-01,  2.5200e-01,  1.7533e-01, -5.2136e-01,\n",
       "          6.2959e-01, -5.2847e-02, -3.5486e-01, -5.1916e-01,  1.8182e-01,\n",
       "         -2.4092e-01, -3.2400e-01,  3.7010e-01,  9.4709e-02,  3.8478e-01,\n",
       "         -1.9225e-01,  7.6273e-01,  8.2658e-01,  4.0658e-02, -7.1171e-01,\n",
       "         -7.3832e-03, -7.0995e-01, -4.7472e-01, -2.8036e-01, -1.6826e-01,\n",
       "          2.7647e-01,  1.0259e-01,  4.5804e-01,  3.4532e-01,  7.0562e-01,\n",
       "          2.3487e-01, -5.6859e-01,  8.8779e-01,  8.0678e-01, -5.9683e-01,\n",
       "         -1.5755e-01, -8.9358e-01,  2.6461e-02, -2.5203e-03,  2.6723e-01,\n",
       "          3.8393e-01, -6.6976e-03, -7.1703e-01,  6.8498e-01, -4.6713e-01,\n",
       "          3.4495e-01,  3.0451e-01, -4.1087e-01, -6.9456e-01,  3.0842e-02,\n",
       "          1.0762e-01,  5.1442e-01,  5.4432e-01,  7.7887e-01, -4.8204e-01,\n",
       "         -5.9141e-01,  1.3098e-01, -1.8267e-01, -7.5463e-02, -1.2018e-01,\n",
       "         -8.6528e-01, -1.1586e-01, -5.8320e-01,  5.1398e-01, -5.9440e-02,\n",
       "         -7.6908e-02, -5.4675e-02,  1.0467e-01,  7.5611e-02, -2.7113e-01,\n",
       "         -8.4549e-02,  1.4158e-01,  1.2573e-02, -1.4167e-01,  1.5644e-01,\n",
       "          7.3189e-02, -2.3941e-01, -1.7130e-01, -2.1862e-01, -1.2228e-01,\n",
       "         -3.2788e-01,  3.8114e-03,  5.5760e-02,  2.1615e-01, -1.8929e-02,\n",
       "         -2.2413e-01,  1.1524e-01,  9.0809e-02,  4.0608e-02,  8.6020e-02,\n",
       "         -1.3855e-01, -1.7916e-01,  6.4371e-02, -1.4493e-01, -3.6510e-02,\n",
       "         -4.7552e-02, -2.2981e-02,  5.9594e-02,  5.4103e-01, -6.5545e-01,\n",
       "          1.4227e-01, -1.7417e-01, -3.9345e-01, -4.9550e-01, -5.0101e-01,\n",
       "         -4.4831e-01,  3.1708e-01,  5.4513e-01,  2.9855e-01,  3.7459e-01,\n",
       "         -4.4332e-01, -3.1627e-01,  3.1469e-01, -4.8920e-01, -6.4938e-01,\n",
       "          2.1215e-01,  4.0927e-01,  3.5607e-01, -4.4980e-01, -2.5150e-01,\n",
       "         -1.3731e-01, -4.4381e-01,  4.6932e-01,  4.6324e-01, -3.2468e-01,\n",
       "         -3.2173e-01,  5.6898e-01, -2.9338e-01, -5.3125e-01]),\n",
       " 'encoder.layer.1.attention.self.key.weight': tensor([[ 0.0316,  0.0413,  0.0003,  ..., -0.1087, -0.0572, -0.0372],\n",
       "         [ 0.0165, -0.0512,  0.0240,  ..., -0.0659, -0.0132,  0.0409],\n",
       "         [-0.0319,  0.0641, -0.0790,  ..., -0.1380,  0.0253, -0.0584],\n",
       "         ...,\n",
       "         [ 0.1514, -0.0769,  0.0246,  ..., -0.0544,  0.1179,  0.0316],\n",
       "         [ 0.1124,  0.0023, -0.0104,  ...,  0.0111,  0.0210,  0.0372],\n",
       "         [-0.1064,  0.0421,  0.0828,  ...,  0.1008,  0.0949,  0.0999]]),\n",
       " 'encoder.layer.1.attention.self.key.bias': tensor([-4.2063e-04, -1.6146e-03, -9.3503e-04, -4.9930e-03, -3.9431e-05,\n",
       "         -1.1201e-03, -1.8010e-04, -3.0069e-03, -7.1264e-04,  3.0381e-04,\n",
       "          2.3954e-03,  8.3301e-05,  2.2329e-03,  3.4180e-04, -2.0179e-03,\n",
       "          2.2630e-03,  2.3602e-04, -2.5729e-03, -2.0855e-03, -7.1011e-04,\n",
       "         -3.1607e-04,  7.7027e-04, -1.7658e-03,  4.3319e-04,  7.9037e-04,\n",
       "          2.3522e-03, -5.8926e-04, -7.0296e-04,  2.3688e-04,  2.6335e-03,\n",
       "          1.6610e-03, -3.5092e-04, -1.2654e-04, -1.1602e-03,  1.0337e-03,\n",
       "          2.9644e-05,  1.1947e-03,  2.5386e-03, -2.2727e-04, -6.5396e-04,\n",
       "          1.5658e-04,  1.6578e-03,  1.5933e-03, -1.9049e-03,  5.9886e-04,\n",
       "          2.4423e-04,  1.2941e-03, -1.5498e-06,  1.8988e-03, -6.3139e-04,\n",
       "          6.4836e-04, -1.5795e-04, -5.4445e-04,  1.6734e-03, -1.9680e-03,\n",
       "          1.4299e-03,  5.4132e-04,  1.2946e-03, -2.8557e-04, -1.3859e-03,\n",
       "         -4.2542e-04, -7.8673e-04,  1.0724e-03,  3.0595e-04, -1.2838e-04,\n",
       "         -3.5191e-04,  1.1250e-04,  1.0603e-03,  3.9495e-04, -2.4561e-05,\n",
       "         -1.7534e-04, -3.9845e-04,  4.0351e-05, -1.0290e-04, -1.0188e-06,\n",
       "          4.8832e-04,  4.0034e-04,  1.4958e-04,  1.6967e-04, -5.1080e-04,\n",
       "         -5.6232e-04, -2.0543e-04,  1.5354e-04,  3.3075e-04, -4.0319e-04,\n",
       "          5.1500e-04,  1.7211e-04, -2.4670e-04, -1.1261e-04, -1.2626e-03,\n",
       "          1.8357e-04,  5.8767e-04,  8.5637e-04, -1.0838e-03,  5.3576e-04,\n",
       "          9.3541e-05,  3.7168e-04, -6.3817e-04, -1.5070e-03,  7.4584e-04,\n",
       "          3.4146e-05,  7.5217e-04,  2.2671e-04,  1.6741e-03, -6.6477e-05,\n",
       "          6.2338e-04,  1.8193e-04,  1.0871e-03,  2.7205e-03, -1.9435e-04,\n",
       "          1.6995e-04, -1.0555e-03,  5.6038e-04,  4.2783e-04,  5.8430e-05,\n",
       "         -6.3498e-04,  1.3179e-03,  4.9385e-04,  3.0842e-04,  2.5083e-04,\n",
       "         -2.0445e-03,  4.0067e-04, -1.5954e-04,  2.5045e-04,  8.6708e-04,\n",
       "          1.4863e-03, -6.8034e-04, -6.5930e-04, -8.4211e-04,  7.3187e-04,\n",
       "          2.6203e-03, -4.2700e-04,  8.0119e-04, -1.6437e-03, -7.3777e-04,\n",
       "         -1.1436e-03, -7.0038e-04,  1.7311e-03,  1.7096e-03, -2.6994e-04,\n",
       "          3.6803e-04, -1.5269e-03,  1.0701e-03, -2.0298e-03, -6.0621e-04,\n",
       "          7.2178e-04, -6.9985e-04,  3.5007e-03,  5.2498e-05,  2.4156e-03,\n",
       "         -1.5217e-03, -6.6347e-04,  4.3761e-04,  3.3352e-04, -1.3667e-03,\n",
       "          1.5606e-04,  8.7828e-04, -1.7767e-03,  4.7533e-04,  1.1418e-03,\n",
       "          1.9986e-04,  8.2558e-04, -5.4300e-04, -2.1940e-04,  2.2276e-04,\n",
       "         -9.8630e-04,  1.1472e-04, -9.8846e-04,  2.3280e-04,  1.4687e-03,\n",
       "         -8.4795e-05,  5.4183e-04,  1.6580e-04,  1.3577e-03, -1.5255e-04,\n",
       "          1.5420e-04, -4.5640e-04,  4.2853e-04, -3.8338e-05, -4.5539e-04,\n",
       "          7.4511e-04,  6.0193e-04, -4.6325e-05,  4.1299e-04,  1.7514e-04,\n",
       "          2.8014e-04,  8.3657e-04, -1.2216e-03,  4.7901e-04,  1.3837e-04,\n",
       "         -7.9348e-06,  2.3354e-04,  7.0615e-04,  6.3031e-04, -3.4680e-04,\n",
       "         -1.3615e-04, -3.7806e-04, -1.8522e-04, -1.6979e-04, -2.9053e-04,\n",
       "          1.1769e-03, -3.7997e-04, -2.0377e-04, -1.0262e-03, -2.4822e-04,\n",
       "          3.4459e-04,  1.0850e-03, -1.3998e-03, -1.1553e-04, -6.9778e-04,\n",
       "          6.8726e-04,  5.8113e-05,  2.2048e-05,  3.5574e-04, -2.5071e-04,\n",
       "         -7.9726e-04, -1.9542e-04, -3.0312e-04,  1.2388e-03,  6.1861e-04,\n",
       "         -8.4859e-04, -3.3516e-04, -4.0179e-04,  1.1632e-04,  1.4483e-03,\n",
       "         -1.2867e-04, -7.5253e-04, -3.7311e-04,  1.5464e-04, -5.5454e-04,\n",
       "         -5.1388e-04,  1.5279e-03, -1.3163e-03,  8.4961e-04, -1.2070e-03,\n",
       "         -5.7736e-04,  1.0169e-04,  2.4333e-03,  8.1818e-04, -5.2436e-04,\n",
       "          9.7603e-04,  2.5430e-05,  8.1328e-04,  4.5169e-04,  1.7465e-04,\n",
       "          1.1388e-03,  7.1969e-05, -2.2264e-04,  2.7214e-04, -9.2262e-04,\n",
       "          4.4677e-06,  4.9716e-04, -4.4519e-05, -1.5596e-03, -7.5812e-05,\n",
       "         -2.5346e-04, -3.6540e-04,  1.1341e-03,  1.0626e-04,  9.5428e-04,\n",
       "         -8.4483e-04,  7.9704e-04,  3.6531e-04, -1.2583e-03,  2.8029e-04,\n",
       "         -8.8223e-05, -2.2442e-04, -1.2158e-04, -4.7297e-04,  1.8772e-05,\n",
       "          6.1163e-04, -1.3101e-03, -8.3312e-04, -2.1865e-04,  2.5937e-04,\n",
       "          9.7087e-05,  4.9393e-04,  4.0215e-04,  7.2636e-04, -2.7155e-04,\n",
       "         -2.9600e-04,  4.5486e-04, -1.1718e-03, -5.3651e-05,  1.0946e-04,\n",
       "         -7.0350e-04,  7.7032e-04, -3.7573e-04, -1.9981e-04,  1.1173e-03,\n",
       "         -4.8074e-06,  1.6030e-03,  1.1548e-05,  1.1407e-03, -1.9229e-03,\n",
       "         -7.7226e-04,  1.5704e-03, -2.2448e-04,  2.8365e-04, -9.8379e-04,\n",
       "         -3.7184e-04, -3.3016e-04, -3.2376e-04,  3.4033e-04, -1.7041e-04,\n",
       "         -2.7311e-04, -6.3150e-04, -1.5407e-03, -8.3247e-04, -2.7200e-04,\n",
       "          4.7400e-04, -6.3739e-04,  3.0131e-04, -6.0687e-04,  1.5090e-03,\n",
       "          1.3293e-03,  9.0313e-04, -7.7227e-05, -1.2355e-04, -1.0518e-04,\n",
       "         -1.4090e-04, -8.8494e-04,  1.1798e-04, -2.0386e-04,  1.5274e-04,\n",
       "         -9.9410e-04, -8.8123e-04,  1.2813e-04, -1.1508e-03, -3.1455e-04,\n",
       "          1.7445e-04, -5.2766e-04,  3.4300e-04,  4.3565e-04,  6.7336e-04,\n",
       "         -3.2969e-04,  5.9262e-04, -1.1215e-03, -2.2873e-03, -1.2818e-03,\n",
       "         -5.0026e-04,  1.5380e-04,  1.5466e-03, -5.7861e-04,  4.1992e-04,\n",
       "         -3.0746e-04,  4.0962e-04, -1.0623e-03,  7.5335e-04, -6.0083e-04,\n",
       "         -8.9530e-05, -9.3995e-04, -1.5632e-03, -1.0440e-03, -8.7772e-04,\n",
       "         -4.6090e-04,  1.1777e-03,  1.7330e-04,  6.2019e-05,  8.4217e-04,\n",
       "         -1.1565e-03,  9.6161e-04,  1.3306e-03, -6.2850e-04,  9.9516e-04,\n",
       "          1.9910e-03, -1.2027e-03, -4.5335e-04, -3.1666e-04, -7.2393e-04,\n",
       "          1.1146e-04, -9.7151e-04, -1.1311e-03,  2.6796e-04,  1.0729e-04,\n",
       "         -7.1399e-04, -2.1242e-03,  1.6265e-03,  1.3521e-03, -4.6121e-05,\n",
       "         -1.7633e-04,  2.9649e-04, -1.0050e-03,  3.7158e-04]),\n",
       " 'encoder.layer.1.attention.self.value.weight': tensor([[-0.0189,  0.0148, -0.0246,  ...,  0.0283, -0.0305, -0.0539],\n",
       "         [-0.0230,  0.0722, -0.0771,  ...,  0.2393, -0.0353,  0.0608],\n",
       "         [-0.0197,  0.0374,  0.0972,  ..., -0.0006,  0.0512,  0.0222],\n",
       "         ...,\n",
       "         [-0.0694, -0.1152, -0.0017,  ...,  0.0244, -0.0571,  0.0622],\n",
       "         [ 0.0596,  0.0741, -0.0201,  ...,  0.2035, -0.0962, -0.0360],\n",
       "         [ 0.0319,  0.0959, -0.0452,  ...,  0.0525,  0.0593, -0.0397]]),\n",
       " 'encoder.layer.1.attention.self.value.bias': tensor([-4.7105e-02, -6.8694e-03, -4.1350e-02,  3.0790e-02,  2.2904e-02,\n",
       "         -1.2562e-02,  2.3265e-03, -7.3056e-03, -2.5253e-02,  3.3224e-02,\n",
       "         -8.9713e-03,  2.1698e-02,  1.1486e-03, -1.0885e-02,  7.0690e-03,\n",
       "         -4.0567e-02, -2.8945e-04, -1.3326e-02, -4.6154e-02,  1.7767e-02,\n",
       "          1.5960e-02,  5.7257e-03, -1.1084e-03, -4.3736e-02, -1.1237e-02,\n",
       "          2.9536e-03, -1.2686e-02,  1.9434e-02,  2.1287e-03,  1.2731e-02,\n",
       "          2.3861e-03, -3.3136e-04,  1.0888e-02, -1.5646e-02,  1.7446e-02,\n",
       "         -2.1249e-02, -1.3541e-02,  6.1476e-03, -2.1533e-02,  1.7847e-02,\n",
       "          2.4623e-02, -2.1008e-02, -2.8219e-02, -1.8259e-04, -1.9112e-02,\n",
       "         -1.1193e-02,  2.2154e-02, -4.1900e-02, -2.8851e-02, -5.9552e-02,\n",
       "         -4.0237e-03,  6.2916e-03,  5.7137e-03, -4.5087e-02, -3.0061e-02,\n",
       "         -3.8738e-02,  2.3448e-02, -2.4626e-02, -7.3883e-03,  1.3117e-02,\n",
       "         -3.1277e-02,  2.1774e-02,  3.4170e-02,  1.6805e-02,  9.4792e-04,\n",
       "         -2.4249e-02, -1.1472e-02, -1.1979e-02, -8.1512e-03, -1.1743e-02,\n",
       "         -1.3447e-02, -1.7927e-02, -2.4132e-03, -1.2260e-02, -1.3731e-02,\n",
       "          2.3330e-02,  3.0241e-02, -6.6213e-03,  2.5126e-03,  3.1936e-02,\n",
       "          5.7516e-02, -3.3755e-03,  2.8313e-02, -4.4726e-03, -3.9860e-03,\n",
       "         -1.0017e-02,  2.5045e-02,  1.7644e-03,  1.7369e-02, -5.4403e-02,\n",
       "          1.4530e-02,  2.2644e-02, -1.2653e-02, -1.9342e-02,  4.2402e-03,\n",
       "          9.8991e-03,  1.0755e-02,  1.6705e-02,  1.0280e-02,  4.9283e-03,\n",
       "          4.5287e-03,  5.9068e-02, -2.0200e-03,  3.4469e-03,  2.3059e-03,\n",
       "          1.8577e-02, -1.6096e-02,  3.7980e-03, -3.1009e-03, -6.0424e-04,\n",
       "         -1.0285e-02, -1.3674e-02,  1.3833e-02,  3.6620e-02, -1.0878e-02,\n",
       "          9.7832e-03, -3.7750e-03,  1.9379e-02, -1.5974e-03,  2.1228e-02,\n",
       "          2.8541e-02, -7.2551e-03, -1.9647e-03,  1.0713e-02,  5.1790e-02,\n",
       "         -5.7345e-03,  2.3398e-02, -1.9310e-02, -3.4521e-02,  3.5363e-02,\n",
       "          1.1541e-02, -6.7110e-02, -5.4756e-02, -8.9032e-02,  2.4961e-02,\n",
       "          9.9549e-03, -3.7699e-02, -4.0480e-03,  9.6293e-03,  4.0463e-02,\n",
       "          2.8703e-02, -4.1619e-03, -1.9752e-02, -3.2160e-02, -2.3031e-02,\n",
       "          3.4632e-03,  1.1302e-03,  1.0604e-01, -6.7621e-02, -3.0474e-02,\n",
       "          8.2439e-03,  3.7225e-02, -4.6616e-02, -1.9911e-02, -8.0811e-04,\n",
       "         -3.6088e-03, -4.2285e-02,  4.1021e-02, -2.4964e-02, -1.2204e-03,\n",
       "         -3.3783e-02,  9.5865e-03, -4.3638e-03,  6.7310e-03,  7.2041e-03,\n",
       "          9.7660e-03,  7.5382e-03, -1.9096e-02, -2.3276e-02,  7.5433e-03,\n",
       "         -1.2274e-02, -1.3149e-02,  8.0122e-03,  6.9453e-03, -2.6185e-02,\n",
       "          1.0853e-02,  5.9550e-03,  4.9104e-03,  1.7649e-02, -1.4777e-02,\n",
       "          5.8957e-03,  1.5368e-02, -5.8518e-04,  6.0470e-03,  1.8403e-02,\n",
       "          9.1991e-03, -7.9608e-03,  9.0579e-03, -9.9278e-03, -1.9321e-02,\n",
       "          7.6053e-03, -8.1984e-03, -2.8984e-02,  3.7745e-02,  9.1023e-03,\n",
       "          5.0488e-03, -5.8912e-02,  4.3843e-02,  9.5098e-02,  1.9007e-02,\n",
       "         -5.8374e-03,  1.1020e-02,  5.5493e-02,  2.7565e-03, -1.6959e-02,\n",
       "          2.8122e-02, -2.9959e-03, -1.2706e-02, -5.6392e-02,  4.3802e-02,\n",
       "          1.9206e-02,  1.0138e-01,  2.8049e-02, -3.2063e-03,  4.4651e-03,\n",
       "          2.5749e-02, -4.1515e-03,  1.0362e-02, -1.8120e-02, -1.1941e-02,\n",
       "         -2.2739e-03,  7.8364e-03, -2.9564e-03, -8.5746e-03,  8.5494e-03,\n",
       "         -2.8625e-02,  5.9488e-03,  1.7932e-02,  3.0297e-02, -2.3547e-02,\n",
       "          1.1254e-02, -1.2032e-02, -1.5464e-02, -2.7261e-03, -3.3649e-02,\n",
       "          3.9981e-04,  1.1600e-02,  1.1758e-02,  6.9465e-03, -5.0598e-04,\n",
       "          1.8764e-02,  4.3537e-03, -2.4061e-02, -7.1685e-03, -2.3290e-02,\n",
       "          5.4802e-03, -1.4821e-03,  7.2876e-03,  1.5444e-02, -1.9945e-02,\n",
       "          1.7734e-02, -2.0800e-02, -1.2941e-02,  1.2437e-02, -2.1826e-02,\n",
       "         -7.0972e-02, -6.6323e-03, -2.5853e-02,  1.2921e-03, -4.2805e-03,\n",
       "         -1.3559e-02,  6.0376e-02, -5.1137e-04,  2.0562e-02,  2.6021e-02,\n",
       "          8.8563e-02, -3.6160e-02,  1.5084e-01,  2.2349e-02, -6.0175e-03,\n",
       "         -3.8217e-02, -5.7893e-02,  1.6818e-01, -1.0604e-02,  5.4003e-03,\n",
       "          1.0189e-01,  4.4754e-02, -1.5725e-02, -1.0490e-02,  8.3744e-03,\n",
       "          5.2467e-02, -1.0898e-02,  7.9639e-03, -3.9620e-02, -1.9688e-03,\n",
       "          7.3087e-02, -8.3198e-02, -1.6388e-02,  1.0649e-02,  2.2673e-02,\n",
       "          1.7470e-02, -3.7434e-02,  3.2518e-02,  7.6304e-03,  2.4756e-02,\n",
       "         -1.1188e-02,  8.1946e-02,  3.2467e-02, -2.1627e-03,  4.2476e-03,\n",
       "          1.6430e-02, -2.0944e-02, -2.7375e-02,  4.7313e-02, -8.0723e-03,\n",
       "          1.4988e-01, -2.1899e-02,  4.6239e-02, -2.1543e-02,  1.3709e-02,\n",
       "          2.5525e-02,  5.7217e-02,  1.3108e-02, -2.4038e-02,  2.2035e-02,\n",
       "         -3.0442e-02,  1.5226e-02, -7.9128e-02,  4.2881e-02,  2.4735e-02,\n",
       "         -7.7645e-03, -6.2177e-03, -1.3395e-02, -1.3451e-05, -2.2159e-02,\n",
       "          7.7825e-04, -4.5528e-03,  7.5437e-03, -8.4299e-03,  1.3745e-02,\n",
       "          3.8309e-02,  1.7724e-02,  1.5222e-02,  6.1079e-04, -2.4964e-03,\n",
       "         -1.3399e-02, -4.6983e-03, -1.0705e-02, -2.6759e-02,  1.6120e-02,\n",
       "         -3.4726e-02, -3.5564e-02,  4.1502e-02,  3.6266e-02, -1.4490e-02,\n",
       "         -9.8657e-03, -8.0514e-03,  6.6572e-05, -1.5304e-02,  2.1624e-02,\n",
       "          2.5008e-03,  6.9582e-03, -3.3375e-02, -1.8683e-03,  5.8195e-03,\n",
       "          6.9035e-02,  8.4882e-03, -2.2365e-02, -4.7839e-02, -4.0490e-02,\n",
       "         -3.9030e-02, -1.9042e-02,  3.6974e-04, -5.4745e-02,  3.2199e-02,\n",
       "          1.6476e-03,  1.2443e-01,  3.4576e-02,  5.1853e-03, -2.7228e-02,\n",
       "         -4.0900e-02, -4.2141e-02, -3.1799e-02,  2.6706e-02,  6.0272e-02,\n",
       "          6.8757e-02, -5.1387e-02, -1.4191e-02,  1.2320e-03, -2.8557e-02,\n",
       "         -1.3271e-02, -7.0819e-03,  2.0360e-02,  6.7447e-03]),\n",
       " 'encoder.layer.1.attention.output.dense.weight': tensor([[ 6.8280e-05, -2.3193e-02, -9.7457e-02,  ..., -7.9320e-02,\n",
       "           9.4111e-03,  1.3473e-02],\n",
       "         [ 5.8949e-02,  1.1757e-02,  6.2043e-02,  ..., -4.3675e-02,\n",
       "           3.7739e-03,  3.7102e-02],\n",
       "         [-5.6368e-02, -5.5684e-02,  2.8918e-02,  ..., -1.4314e-02,\n",
       "          -1.2643e-02, -4.3745e-02],\n",
       "         ...,\n",
       "         [-6.7564e-02,  2.1473e-02,  6.8278e-02,  ...,  3.7604e-02,\n",
       "           9.4466e-02, -2.2212e-02],\n",
       "         [-5.0608e-03, -5.0404e-03, -2.7465e-03,  ..., -1.6420e-02,\n",
       "          -4.5241e-02, -3.3120e-02],\n",
       "         [ 2.3406e-03,  9.0914e-03, -3.1570e-02,  ...,  2.8580e-02,\n",
       "          -1.5518e-02,  3.2176e-02]]),\n",
       " 'encoder.layer.1.attention.output.dense.bias': tensor([-7.2218e-02,  5.5623e-02, -1.1259e-01,  7.0122e-02,  4.6412e-02,\n",
       "          9.5846e-02,  2.3203e-02,  2.4471e-02,  8.0443e-02, -3.1491e-02,\n",
       "          1.2442e-01, -8.0866e-02, -8.8730e-02,  4.8263e-02,  1.5211e-01,\n",
       "          8.9057e-03,  2.6256e-02, -4.6352e-02,  5.7791e-02,  2.8134e-02,\n",
       "         -1.1787e-02,  2.4246e-02,  1.4332e-02, -1.2804e-01, -3.8940e-02,\n",
       "          1.8721e-02, -1.0657e-01,  1.7098e-02, -1.0695e-02,  8.3586e-02,\n",
       "         -4.3702e-02, -5.9996e-02, -1.7198e-02,  3.5975e-02,  1.1635e-02,\n",
       "          1.7895e-02,  7.8636e-03, -3.2341e-02,  1.2288e-01, -6.4724e-03,\n",
       "          6.4634e-02,  1.1433e-01,  7.9615e-02, -3.1721e-02,  1.4928e-01,\n",
       "          9.3222e-02,  9.0855e-02, -8.7910e-02,  2.6337e-02,  1.7553e-02,\n",
       "         -1.8575e-02,  1.3303e-01,  2.4846e-02,  3.2912e-02,  4.0558e-02,\n",
       "          2.6959e-03, -5.1444e-02,  1.8763e-03, -1.1948e-01, -5.6635e-02,\n",
       "         -7.2951e-02,  2.0535e-02,  5.5393e-02,  2.5022e-02, -6.5537e-02,\n",
       "          1.0554e-01,  3.0481e-02, -1.6027e-02, -6.0684e-04,  1.0388e-01,\n",
       "          4.2607e-02,  3.9463e-02,  3.5173e-03,  9.4764e-02, -2.1766e-04,\n",
       "         -1.0465e-03, -1.9266e-02, -1.8734e-02,  9.6621e-02,  3.9734e-02,\n",
       "          2.2874e-02, -2.1174e-02,  1.0152e-01, -9.7654e-02,  4.9003e-02,\n",
       "          1.8937e-02, -4.2768e-02, -8.1096e-02,  3.1908e-02, -7.7694e-02,\n",
       "         -3.8827e-02, -9.5475e-02,  7.8712e-02, -1.3314e-02, -1.5855e-01,\n",
       "          4.2519e-02, -8.6231e-02, -4.6045e-02, -4.1878e-02, -1.3693e-01,\n",
       "         -4.1376e-02, -5.4012e-02, -4.1635e-02, -4.4698e-02, -2.7805e-02,\n",
       "         -1.0324e-02, -1.1312e-01, -8.3779e-02,  5.8619e-02, -2.4927e-02,\n",
       "         -3.7883e-02,  1.0192e-02, -1.1140e-02, -3.7579e-02,  4.2893e-02,\n",
       "          6.9809e-02, -2.6744e-02, -1.4554e-01,  3.4228e-02,  7.6426e-02,\n",
       "         -1.9826e-02,  2.6139e-02, -3.1360e-02,  6.4614e-02, -5.1077e-02,\n",
       "         -3.6453e-02,  4.8397e-02,  4.6888e-02, -2.2447e-02, -7.6449e-02,\n",
       "          1.4785e-01, -1.1824e-02,  5.6875e-02, -1.0681e-01,  3.2509e-02,\n",
       "         -4.1902e-02, -1.3084e-03, -3.3328e-02,  3.7631e-02, -2.0725e-02,\n",
       "         -8.7694e-02,  7.9951e-02, -2.0485e-02, -3.7677e-02,  2.1011e-02,\n",
       "          1.0814e-01, -1.4262e-02,  1.3947e-01, -1.0858e-02,  2.4785e-02,\n",
       "         -3.6435e-02,  1.0142e-01,  8.0528e-02, -9.3898e-02,  1.2748e-02,\n",
       "         -5.2420e-02,  3.8975e-02, -2.0066e-01, -1.3135e-02,  5.3994e-02,\n",
       "         -1.4923e-01, -4.2420e-02, -1.2556e-01, -1.3404e-01, -1.3783e-02,\n",
       "         -1.5173e-02,  1.6321e-02, -1.0228e-01,  1.9176e-02, -1.2440e-01,\n",
       "          3.9684e-02, -1.2731e-02,  6.0497e-02,  4.6416e-02, -7.9452e-02,\n",
       "         -1.6070e-01,  5.7584e-02,  2.5672e-02,  1.7861e-02,  1.4977e-01,\n",
       "          4.2438e-02,  1.3362e-02,  4.8321e-02, -1.2165e-01,  9.7429e-02,\n",
       "         -9.7125e-02,  4.3911e-02, -3.0545e-02,  8.8230e-02, -1.1052e-02,\n",
       "         -4.2596e-02, -6.9784e-02,  2.4665e-02,  6.3344e-02, -9.4734e-02,\n",
       "         -6.9223e-02, -4.2647e-02, -2.3645e-02, -7.2538e-02, -3.8412e-02,\n",
       "         -2.1639e-02,  7.4619e-02, -1.6946e-01,  1.7409e-01, -1.4351e-01,\n",
       "         -7.9606e-02,  2.1530e-02,  3.0345e-02, -3.0884e-02, -3.4599e-02,\n",
       "          5.7576e-02,  1.7375e-02,  7.8322e-02,  1.2454e-01, -1.2680e-02,\n",
       "         -3.8934e-02, -5.2670e-03,  9.6304e-02,  3.6110e-02,  7.1769e-02,\n",
       "          4.8067e-02, -6.5844e-02, -2.1570e-02,  2.5549e-01, -5.9910e-02,\n",
       "          5.2629e-03, -5.5116e-02,  2.6727e-02,  1.8125e-02,  1.3140e-01,\n",
       "          1.7021e-02,  8.1955e-02, -6.5877e-02,  9.0644e-02,  9.6334e-03,\n",
       "         -3.6861e-02, -3.9528e-03,  2.5141e-03,  1.8298e-01, -1.2125e-01,\n",
       "          2.2046e-02, -1.2314e-03, -1.3375e-01, -5.9182e-03,  1.5719e-01,\n",
       "          7.4691e-02,  1.7420e-02,  1.3420e-02,  1.0482e-01, -3.1310e-02,\n",
       "          3.3260e-02, -7.2150e-02, -9.8279e-02, -3.8132e-02, -6.8872e-02,\n",
       "          2.9859e-02, -1.4528e-02, -2.5396e-02, -4.2545e-02,  1.9338e-02,\n",
       "          9.2404e-02, -6.4892e-02,  6.6280e-03, -8.8196e-03, -7.7281e-02,\n",
       "         -6.7050e-02,  4.6344e-02, -3.0725e-01,  8.1312e-02,  2.6840e-02,\n",
       "          7.3425e-02, -2.9864e-02, -1.4311e-02, -1.6659e-02,  3.3192e-02,\n",
       "          8.0848e-02,  4.0857e-02, -1.8428e-02, -1.1394e-01,  1.8162e-02,\n",
       "         -8.3933e-02,  2.9886e-03, -1.1487e-02,  9.1885e-02, -1.8126e-02,\n",
       "         -8.3981e-03, -7.0830e-02, -1.7867e-02, -1.5316e-02, -3.9618e-02,\n",
       "         -1.2849e-01, -2.1002e-02, -8.6279e-02,  3.4222e-02, -4.4233e-02,\n",
       "         -2.7920e-02,  2.4427e-02,  1.3398e-01,  1.0636e-01,  5.3349e-02,\n",
       "         -5.7761e-02,  4.0731e-03, -5.2042e-02,  4.5997e-02,  4.0578e-02,\n",
       "         -5.0299e-04, -7.5386e-02,  6.9074e-03, -7.2276e-02, -1.4408e-03,\n",
       "         -7.9953e-02, -3.5124e-02, -6.9332e-02,  8.2846e-02, -6.0374e-02,\n",
       "          2.1809e-02,  4.2891e-02,  9.8958e-02, -1.1382e-01,  4.4774e-02,\n",
       "         -9.2876e-02, -1.4691e-02,  1.1865e-03, -1.5154e-01,  9.1896e-02,\n",
       "          5.3745e-02, -5.7033e-02,  3.1120e-02,  6.0195e-02,  1.5931e-02,\n",
       "         -1.2944e-01,  8.6777e-02,  2.3653e-02, -9.2917e-02, -3.1732e-02,\n",
       "          1.1936e-02, -6.3412e-02,  1.2706e-01,  1.9747e-01,  3.8624e-02,\n",
       "          6.2294e-02, -2.5828e-02,  5.0503e-02, -4.9240e-02,  7.1802e-02,\n",
       "          9.2941e-02, -2.4396e-02, -2.2095e-01,  2.0583e-02,  4.9491e-02,\n",
       "         -1.5983e-02,  1.3557e-01,  4.4746e-03, -6.5287e-02,  2.9608e-02,\n",
       "         -8.8803e-03,  6.1303e-02, -4.2315e-02, -7.3516e-02, -3.3586e-02,\n",
       "         -1.9319e-02,  1.6741e-02, -6.8513e-02,  1.0163e-01,  3.2137e-02,\n",
       "          1.1380e-01,  5.5588e-02, -8.1973e-02, -1.3231e-01, -1.2663e-01,\n",
       "         -4.0050e-02,  4.4772e-02, -5.7126e-02,  2.0836e-03, -2.4587e-02,\n",
       "         -1.1006e-01, -2.0522e-02,  2.3783e-01,  3.3504e-02,  1.6494e-02,\n",
       "          1.2859e-02,  3.2227e-02, -7.5832e-03,  1.6639e-02]),\n",
       " 'encoder.layer.1.attention.output.LayerNorm.weight': tensor([0.5676, 0.6137, 0.5157, 0.4762, 0.6561, 0.5379, 0.7066, 0.5599, 0.5431,\n",
       "         0.4805, 0.5309, 0.6462, 0.3802, 0.4732, 0.5892, 0.5898, 0.6339, 0.5371,\n",
       "         0.6926, 0.6363, 0.6947, 0.6496, 0.5366, 0.4806, 0.6088, 0.4630, 0.5391,\n",
       "         0.4845, 0.7006, 0.4584, 0.4215, 0.6831, 0.6969, 0.5685, 0.5383, 0.6025,\n",
       "         0.5029, 0.5412, 0.5402, 0.5562, 0.4734, 0.5144, 0.5469, 0.4909, 0.4448,\n",
       "         0.5920, 0.4805, 0.5227, 0.5684, 0.5237, 0.6648, 0.4948, 0.5441, 0.6268,\n",
       "         0.4859, 0.5992, 0.4983, 0.6268, 0.4795, 0.4492, 0.6457, 0.4539, 0.7493,\n",
       "         0.8419, 0.6985, 0.5500, 0.4865, 0.6646, 0.6327, 0.6837, 0.5291, 0.5491,\n",
       "         0.5685, 0.5618, 0.5095, 0.5142, 0.4773, 0.5472, 0.5585, 0.6548, 0.6819,\n",
       "         0.7061, 0.5194, 0.6116, 0.5775, 0.4789, 0.4380, 0.5499, 0.6015, 0.5161,\n",
       "         0.5647, 0.6414, 0.6787, 0.5124, 0.6835, 0.5491, 0.4649, 0.6957, 0.6842,\n",
       "         1.5358, 0.5083, 0.5193, 0.6684, 0.6615, 0.5043, 0.4711, 0.5449, 0.6479,\n",
       "         0.4930, 0.4891, 0.4955, 0.5043, 0.6549, 0.5891, 0.5767, 0.6475, 0.6113,\n",
       "         0.4743, 0.6379, 0.6859, 0.5750, 0.5097, 0.6220, 0.5181, 0.6058, 0.6212,\n",
       "         0.5975, 0.4612, 0.5294, 0.6207, 0.5307, 0.6819, 0.5991, 0.4482, 0.5596,\n",
       "         0.4920, 0.5382, 0.6858, 0.6378, 0.6787, 0.6186, 0.6802, 0.6743, 0.6119,\n",
       "         0.6640, 0.7003, 0.6089, 0.4164, 0.5237, 0.6678, 0.4274, 0.6266, 0.5135,\n",
       "         0.5815, 0.5146, 0.4842, 0.6748, 0.7197, 0.4850, 0.4532, 0.5890, 0.4832,\n",
       "         0.4452, 0.7045, 0.5471, 0.6135, 0.4706, 0.4779, 0.5857, 0.5233, 0.6599,\n",
       "         0.4075, 0.6315, 0.6219, 0.5452, 0.4890, 0.6737, 0.4961, 0.4972, 0.4707,\n",
       "         0.6440, 0.5457, 0.6077, 0.4762, 0.5330, 0.5769, 0.5839, 0.5515, 0.5499,\n",
       "         0.6794, 0.6841, 0.6753, 0.6767, 0.6180, 0.5460, 0.5489, 0.5885, 0.6382,\n",
       "         0.6622, 0.4691, 0.6426, 0.6560, 0.5689, 0.5027, 0.6830, 0.5775, 0.6755,\n",
       "         0.5935, 0.6553, 0.5743, 0.5369, 0.6580, 0.6535, 0.5685, 0.5099, 0.6348,\n",
       "         0.5845, 0.4915, 0.6811, 0.4724, 0.6281, 0.6712, 0.6749, 0.9559, 0.6476,\n",
       "         0.5390, 0.6633, 0.7036, 0.5323, 0.5165, 0.6034, 0.6311, 0.6823, 0.6685,\n",
       "         0.6466, 0.5752, 0.6867, 0.4545, 0.6824, 0.6283, 0.6614, 0.6136, 0.4591,\n",
       "         0.5086, 0.5316, 0.7279, 0.7234, 0.6724, 0.5755, 0.7439, 0.6752, 0.6900,\n",
       "         0.6830, 0.5560, 0.5414, 0.5992, 0.6657, 0.4712, 0.4861, 0.6454, 0.6861,\n",
       "         0.6605, 0.5108, 0.6249, 0.5261, 0.5886, 0.5933, 1.0428, 0.5023, 0.5827,\n",
       "         0.6945, 0.6666, 0.6759, 0.4467, 0.6529, 0.6196, 0.6108, 0.6734, 0.5478,\n",
       "         0.6386, 0.7072, 0.6202, 0.6710, 0.4784, 0.5776, 0.5022, 0.5883, 0.6172,\n",
       "         0.6796, 0.5529, 0.5122, 0.6426, 0.6641, 0.4744, 0.6076, 0.5666, 0.6811,\n",
       "         0.6921, 0.5874, 0.6392, 0.6746, 0.6910, 0.4817, 0.8038, 0.6775, 0.5234,\n",
       "         0.5911, 0.6022, 0.6824, 0.6124, 0.6777, 0.5983, 0.4851, 0.5021, 0.5507,\n",
       "         0.5595, 0.6554, 0.6642, 0.4622, 0.4311, 0.4316, 0.5436, 0.6708, 0.5189,\n",
       "         0.6346, 0.6143, 0.6553, 0.6584, 0.4853, 0.6712, 0.6093, 0.5470, 0.6138,\n",
       "         0.6097, 0.5975, 0.4937, 0.4421, 0.6007, 0.7419, 0.5141, 0.5229, 0.5280,\n",
       "         0.6100, 0.6602, 0.5154, 0.4584, 0.5199, 0.8198, 0.4897, 0.6456, 0.4754,\n",
       "         0.6728, 0.5376, 0.4788, 0.6991, 0.5609, 0.5763, 0.5579, 0.5067, 0.7706,\n",
       "         0.5033, 0.6268, 0.5928, 0.7100, 0.6868, 0.5216, 0.6292, 0.6527, 0.5091,\n",
       "         0.5936, 0.5033, 0.5646, 0.4923, 0.4979, 0.5145, 0.6142, 0.4612, 0.5779,\n",
       "         0.5522, 0.4920, 0.6859, 0.6341, 0.7007, 0.7007]),\n",
       " 'encoder.layer.1.attention.output.LayerNorm.bias': tensor([ 2.7728e-02, -1.1924e-02,  2.3452e-02,  9.5224e-03,  2.9655e-03,\n",
       "          2.7181e-02,  1.9340e-02,  8.9106e-03, -6.9486e-02,  7.0846e-02,\n",
       "          4.7575e-03,  5.7271e-02,  3.8694e-02,  1.6535e-02, -3.9102e-03,\n",
       "          1.5304e-02,  1.5476e-02,  5.0689e-02, -8.8434e-02,  5.5518e-02,\n",
       "          3.6302e-02, -5.9190e-03,  7.0634e-03,  2.3287e-02,  2.9255e-02,\n",
       "          6.0537e-02,  5.7282e-02,  3.9840e-02, -2.2966e-02, -5.3082e-02,\n",
       "         -2.8452e-04,  6.3657e-02,  6.8692e-02,  1.6167e-02,  8.3543e-02,\n",
       "         -7.8598e-03,  6.2422e-02, -5.3086e-02, -7.7269e-02, -7.5557e-04,\n",
       "          2.9445e-02, -3.9653e-02,  6.5798e-02, -9.7738e-03, -8.9855e-02,\n",
       "         -5.4228e-02, -4.1572e-02,  2.3785e-02, -1.7086e-02,  1.0976e-02,\n",
       "          2.1981e-02, -2.4527e-02,  1.6916e-02,  6.4089e-03, -8.0649e-02,\n",
       "          1.2891e-03, -1.4641e-02, -8.4261e-02,  8.6065e-02,  6.0697e-02,\n",
       "         -5.2736e-02,  5.6383e-02, -1.1263e-01,  5.0356e-02, -1.3948e-03,\n",
       "          1.2738e-02, -9.0585e-02,  7.5796e-02, -1.9433e-02, -6.6323e-03,\n",
       "         -8.3818e-03, -1.6865e-02, -7.9112e-03,  6.8668e-02,  5.4236e-03,\n",
       "          1.0312e-01, -2.1057e-02, -7.0187e-03, -2.2861e-02, -3.1887e-02,\n",
       "          8.5098e-02, -1.1689e-01, -2.6671e-02,  3.5399e-02, -9.9629e-03,\n",
       "         -2.3908e-02, -2.9437e-02,  5.6812e-02, -2.0860e-02, -3.7571e-02,\n",
       "         -4.1428e-02, -4.3777e-03, -4.0942e-02,  7.6542e-02,  2.6525e-01,\n",
       "          1.4014e-02, -1.1096e-01,  1.3594e-01, -1.2521e-01,  6.3339e-01,\n",
       "         -5.5284e-04,  1.0691e-01, -2.6898e-03, -5.2393e-03,  1.1176e-02,\n",
       "          8.2359e-02,  6.9770e-04,  7.6709e-02, -3.3772e-02,  5.4669e-03,\n",
       "         -7.5640e-02, -9.7762e-03, -1.3381e-02,  5.2400e-02,  1.0747e-01,\n",
       "         -1.2281e-02, -2.3407e-02, -9.6009e-04,  1.4085e-02, -1.3755e-02,\n",
       "          9.7772e-02, -3.2192e-02,  9.7307e-03,  4.5440e-02,  4.2376e-02,\n",
       "          6.5509e-02,  3.1944e-02,  3.9485e-02, -1.6336e-02,  3.1295e-02,\n",
       "         -1.4554e-01, -2.9189e-01, -3.7791e-02,  3.8180e-02,  2.0381e-02,\n",
       "          1.5325e-02,  6.5963e-02,  1.2485e-01, -1.2911e-02,  6.6105e-02,\n",
       "          1.1076e-01, -1.9287e-02,  1.8838e-02, -3.2725e-02, -8.9020e-03,\n",
       "         -1.0950e-01,  4.6184e-02, -1.0070e-01,  1.7521e-02, -3.5880e-02,\n",
       "          4.4461e-03, -7.0197e-02,  1.8143e-02, -6.6261e-03, -2.2474e-04,\n",
       "          2.9803e-02, -8.4387e-02,  4.5090e-01,  1.3732e-02, -3.6341e-02,\n",
       "          1.8783e-02,  4.7022e-02,  1.2639e-01,  2.2998e-01,  3.0534e-02,\n",
       "          2.8808e-02,  2.6454e-02,  3.5891e-02, -1.1619e-01,  1.8242e-01,\n",
       "         -1.6726e-02,  3.9219e-03, -1.2083e-01, -3.6383e-02,  7.6929e-02,\n",
       "          2.7679e-02, -9.0623e-03, -5.6858e-02,  4.4789e-02,  1.4466e-02,\n",
       "         -9.8162e-03, -8.6312e-03,  7.4151e-03,  6.1684e-02, -9.4863e-02,\n",
       "          3.4377e-03,  2.9323e-02, -4.4299e-02, -7.3443e-02,  1.3846e-01,\n",
       "          3.4739e-02,  5.1028e-02, -7.7532e-02, -1.5266e-02,  1.0733e-02,\n",
       "          3.3363e-02,  4.2126e-02, -8.9969e-02,  1.5243e-01,  2.1923e-02,\n",
       "          1.0870e-01,  3.9841e-03,  2.6400e-02, -2.4530e-02,  6.5921e-02,\n",
       "          6.7470e-02, -2.5324e-02,  6.0100e-04, -3.8456e-02,  1.2273e-02,\n",
       "         -2.9285e-02,  1.0164e-01,  1.9714e-02, -4.7809e-02, -6.8740e-02,\n",
       "          2.6949e-02,  2.7233e-03,  1.8716e-02,  2.6597e-02,  3.3595e-02,\n",
       "          3.5330e-02, -1.1125e-02,  2.6006e-03, -1.1641e+00, -4.1580e-02,\n",
       "          1.9474e-02,  4.1634e-02,  1.7736e-02, -9.5051e-03, -7.0335e-02,\n",
       "          3.3690e-02, -3.9006e-02,  1.8039e-01,  5.3002e-02,  9.8116e-03,\n",
       "          5.2114e-02,  1.5512e-01,  2.0218e-02, -9.3377e-02,  1.0314e-01,\n",
       "          1.7702e-02,  2.5840e-02, -2.5668e-02, -2.7609e-02,  1.4281e-02,\n",
       "         -1.3449e-01, -1.1037e-01, -7.2832e-02, -8.4770e-02,  1.8426e-01,\n",
       "          2.8867e-02,  8.9252e-02,  4.3870e-02,  7.1009e-02, -1.4526e-02,\n",
       "         -3.9443e-03, -3.5817e-02,  1.1595e-02,  2.8744e-02, -4.1572e-02,\n",
       "         -2.4313e-02, -2.2536e-03,  1.4080e-02,  5.5019e-02,  4.0943e-02,\n",
       "          5.7908e-02, -4.3620e-02,  3.8142e-01,  7.3350e-02,  4.0285e-02,\n",
       "         -8.8279e-02,  5.5875e-02, -3.1846e-03, -3.7061e-03,  4.8646e-02,\n",
       "         -7.3906e-02, -7.5012e-03,  2.7837e-03,  6.7949e-02, -3.6998e-02,\n",
       "          2.8125e-02, -4.8703e-02,  3.4808e-02, -4.7518e-04,  1.6053e-02,\n",
       "          2.9648e-02,  4.1269e-02, -4.5142e-02,  1.3544e-01,  2.0873e-02,\n",
       "          5.8083e-02,  3.8645e-02, -2.1199e-02, -2.0196e-02, -1.2198e-02,\n",
       "          4.2326e-02,  2.8887e-02, -1.3179e-01, -3.2465e-03,  5.0239e-02,\n",
       "          5.4646e-02, -9.2223e-03,  4.8777e-02, -1.8396e-01, -8.0243e-02,\n",
       "          6.5557e-02,  7.4376e-02,  9.0512e-02,  1.2830e-03,  4.1781e-02,\n",
       "          9.2268e-02, -6.3528e-02,  7.4346e-04, -1.1295e-02,  1.6495e-02,\n",
       "          5.0545e-02,  1.1251e-01, -3.2767e-02,  8.6391e-02, -3.9387e-02,\n",
       "         -4.5931e-02, -7.5001e-03, -1.1045e-01,  1.5328e-02, -5.8033e-02,\n",
       "         -9.8762e-03,  6.2643e-02,  7.8554e-02, -6.8994e-02, -2.4198e-02,\n",
       "         -9.1025e-03,  1.3395e-02, -7.4664e-02,  9.1550e-02, -3.2305e-02,\n",
       "          5.8147e-02, -8.5313e-03, -8.4692e-02, -4.1665e-01,  4.2288e-02,\n",
       "         -5.1317e-02,  4.7791e-02,  4.2534e-02,  2.4491e-02,  4.3716e-02,\n",
       "         -7.9649e-02, -6.9654e-03,  2.8040e-01, -7.4604e-05, -1.5810e-02,\n",
       "          6.1582e-02,  6.5282e-02,  9.6994e-02,  3.3604e-02,  8.2766e-02,\n",
       "         -1.8875e-02,  4.7506e-02,  2.2475e-04,  1.2943e-02,  3.0069e-02,\n",
       "          7.4131e-02,  1.9135e-03,  1.8020e-02,  1.8280e-01, -6.8354e-02,\n",
       "          9.3252e-02,  3.6141e-02,  1.2054e-02,  1.1522e-01,  2.7589e-02,\n",
       "         -7.0615e-02,  1.3972e-01, -9.0028e-02, -4.1622e-02, -1.6957e-02,\n",
       "          1.7692e-02,  5.6677e-02, -2.3578e-02,  1.7096e-02,  6.8354e-02,\n",
       "         -5.1671e-02,  2.9093e-02, -1.5617e-02,  1.0258e-01]),\n",
       " 'encoder.layer.1.intermediate.dense.weight': tensor([[ 0.0275,  0.0829, -0.1113,  ..., -0.0383, -0.0591, -0.0476],\n",
       "         [ 0.0173, -0.0290,  0.0261,  ..., -0.0006, -0.0564, -0.0831],\n",
       "         [ 0.0357, -0.0406, -0.0026,  ..., -0.0227,  0.0468, -0.0048],\n",
       "         ...,\n",
       "         [-0.0852, -0.0773, -0.0483,  ..., -0.0383,  0.0678,  0.0099],\n",
       "         [ 0.0295,  0.0268,  0.0192,  ...,  0.0760,  0.0571, -0.0670],\n",
       "         [ 0.1124, -0.0698, -0.0380,  ...,  0.0307, -0.0653, -0.0163]]),\n",
       " 'encoder.layer.1.intermediate.dense.bias': tensor([-0.0121, -0.5892,  0.1549,  ..., -0.0693, -0.0624, -0.1105]),\n",
       " 'encoder.layer.1.output.dense.weight': tensor([[-0.0407, -0.0172,  0.0372,  ...,  0.0462, -0.0125,  0.0449],\n",
       "         [-0.0182, -0.0429, -0.0329,  ..., -0.0075,  0.0443, -0.0242],\n",
       "         [ 0.0027, -0.0152, -0.0088,  ...,  0.0452,  0.0972,  0.0195],\n",
       "         ...,\n",
       "         [-0.0109,  0.0707,  0.0632,  ..., -0.0172,  0.0250, -0.0492],\n",
       "         [-0.0102,  0.0614,  0.0075,  ..., -0.0030,  0.0111, -0.0105],\n",
       "         [-0.0024,  0.0748, -0.0163,  ..., -0.0236, -0.0020, -0.0171]]),\n",
       " 'encoder.layer.1.output.dense.bias': tensor([ 5.2364e-02, -4.6235e-02,  8.5489e-03, -1.2029e-01, -3.3608e-02,\n",
       "          9.4595e-03,  3.1793e-02, -8.3169e-03, -9.9709e-03,  5.4449e-02,\n",
       "         -3.1264e-02, -1.8806e-02,  7.1586e-02,  5.4260e-02, -2.5415e-02,\n",
       "         -1.6757e-02,  3.4214e-02,  1.0280e-02, -1.9341e-02, -1.4305e-02,\n",
       "         -5.2412e-03,  4.5935e-02, -6.0343e-04, -9.1211e-03,  2.8244e-02,\n",
       "          4.0688e-02,  5.4425e-02, -2.8041e-02, -1.3638e-03, -5.9986e-03,\n",
       "         -4.5537e-02,  7.0731e-02,  2.9107e-02, -5.0436e-02,  1.0752e-01,\n",
       "         -1.2556e-03, -7.4852e-02, -5.7057e-02, -4.3765e-02, -3.0403e-02,\n",
       "         -6.8061e-02, -6.4482e-02,  2.4885e-02, -4.8817e-02,  2.0698e-02,\n",
       "         -5.8140e-02, -3.5327e-02, -9.5572e-02, -5.2530e-04, -5.2893e-02,\n",
       "         -2.2663e-02, -8.8719e-02, -7.2804e-03,  2.1170e-02, -1.4063e-02,\n",
       "         -6.6920e-02,  1.1297e-02, -1.2348e-02,  1.3754e-01,  4.5092e-02,\n",
       "         -3.3242e-02,  5.1333e-02, -5.6957e-02, -7.5177e-03,  5.1869e-02,\n",
       "         -1.4028e-02, -9.6662e-04,  7.7034e-02, -3.4175e-02,  7.2598e-03,\n",
       "         -2.4938e-02, -2.7746e-02,  7.1157e-02,  1.8434e-02,  7.1679e-03,\n",
       "          4.3895e-02, -3.7528e-02, -8.3772e-02, -1.8623e-04, -8.8507e-02,\n",
       "          1.3297e-02,  6.5346e-02, -6.6262e-03,  7.1809e-02,  1.4042e-02,\n",
       "         -6.5340e-03, -2.8531e-02, -4.5593e-02, -6.6335e-02, -1.9873e-02,\n",
       "         -2.3903e-02, -1.1451e-02,  9.0720e-03,  6.7381e-02,  7.1557e-02,\n",
       "          1.8736e-02,  3.5318e-02,  3.6896e-02,  1.7886e-02, -3.5897e-02,\n",
       "         -7.5002e-03,  1.8280e-02,  3.8174e-02,  1.0760e-02,  2.0968e-03,\n",
       "          2.4484e-02, -2.3244e-02,  4.5010e-02, -5.5510e-02, -8.5104e-03,\n",
       "          4.3805e-02, -2.2525e-02, -2.2108e-02, -4.9957e-02,  4.0926e-02,\n",
       "         -3.0674e-02,  2.9498e-02,  5.6053e-02, -3.3008e-02, -5.1104e-02,\n",
       "         -6.3638e-02, -6.4925e-02,  1.0976e-02, -2.9824e-03, -1.0009e-01,\n",
       "          6.9944e-02, -1.5289e-03,  9.1468e-02,  5.4606e-02, -3.0445e-02,\n",
       "         -1.7866e-01,  2.3986e-02, -1.2320e-02,  1.4168e-01,  7.1577e-02,\n",
       "         -1.9580e-02, -3.7355e-02,  3.9925e-02,  3.7867e-02,  3.7490e-02,\n",
       "          1.4084e-02, -4.4262e-02, -7.7933e-02, -8.9424e-03, -3.0431e-02,\n",
       "         -4.1890e-02, -2.3327e-02, -7.1721e-02, -1.7399e-01, -2.6418e-03,\n",
       "          1.0907e-02, -7.0770e-02,  2.1131e-02, -3.7235e-02, -2.8007e-02,\n",
       "         -3.5267e-02, -1.7344e-02,  9.1557e-02, -3.8116e-02, -8.2195e-03,\n",
       "          5.5173e-02,  2.1907e-02,  8.1796e-02,  1.9493e-02, -8.9095e-02,\n",
       "         -8.8543e-02,  3.7641e-02,  3.0395e-02, -3.4828e-02,  4.3109e-02,\n",
       "          6.6198e-02, -3.9549e-02,  2.4614e-02, -2.0751e-02,  4.7221e-02,\n",
       "          5.2532e-02,  4.7227e-02, -8.7219e-02, -2.1067e-02, -7.8203e-02,\n",
       "          1.3428e-02,  1.1334e-02, -1.4389e-03,  2.2872e-02, -3.7689e-02,\n",
       "         -9.5830e-03, -6.2849e-03,  6.8063e-02, -1.2631e-01, -1.6826e-02,\n",
       "         -6.6712e-02,  1.2243e-02, -1.1749e-02,  1.4752e-02, -1.2265e-02,\n",
       "         -3.6567e-02,  5.9089e-02, -5.8022e-02,  4.8790e-02,  2.2389e-02,\n",
       "          1.4348e-02, -5.0165e-02,  4.6430e-02, -4.7705e-02,  6.7150e-02,\n",
       "         -9.3585e-03,  9.6711e-03, -6.0194e-03, -7.1148e-02,  2.7343e-02,\n",
       "          1.4818e-02,  4.7321e-02, -1.8577e-02, -4.0183e-02,  2.7606e-02,\n",
       "         -5.8409e-02, -5.5462e-02, -2.6385e-02, -1.3827e-02,  3.6896e-02,\n",
       "         -7.5070e-02,  1.0214e-01,  4.4860e-02, -2.7253e-01,  5.8587e-02,\n",
       "          1.1543e-02, -1.0893e-02, -5.6861e-02, -4.7369e-02, -9.7758e-02,\n",
       "         -2.4485e-02, -1.8063e-02, -3.0251e-02, -6.8481e-02, -9.0163e-03,\n",
       "          4.0277e-02,  5.3897e-02, -1.1733e-01, -9.3496e-02,  7.7167e-02,\n",
       "         -8.1173e-03,  9.7902e-03,  1.7882e-02, -3.9962e-02,  1.7779e-02,\n",
       "         -2.8722e-02, -7.8351e-02, -1.9947e-02,  3.7433e-02,  3.0476e-02,\n",
       "          2.9748e-02,  7.8296e-02, -9.9519e-03,  4.3853e-02, -1.9939e-03,\n",
       "         -2.6142e-02,  1.2255e-02,  5.3921e-02,  1.1503e-01, -1.7423e-03,\n",
       "         -5.8070e-03,  4.3098e-02, -1.0423e-02,  7.8017e-02, -3.0812e-02,\n",
       "          5.1489e-02, -2.0838e-02,  5.2561e-02, -1.7486e-03,  4.1911e-02,\n",
       "         -2.6530e-03,  7.7222e-02,  5.3407e-02, -2.4351e-02, -2.4582e-02,\n",
       "         -3.4820e-02, -4.2243e-02,  4.1419e-02,  1.0011e-01, -6.2915e-02,\n",
       "          1.0307e-01, -4.0566e-03,  2.4017e-02, -3.6953e-03,  2.0001e-02,\n",
       "         -7.8870e-02,  8.4753e-02,  8.8346e-02,  1.6349e-02, -4.4252e-02,\n",
       "          7.5035e-02, -6.3779e-03, -2.8924e-02, -9.3622e-03,  1.3079e-02,\n",
       "          2.8950e-03,  1.4662e-02, -4.4324e-02, -3.4898e-02,  5.4809e-02,\n",
       "          4.5509e-02, -9.8902e-03,  1.2562e-01, -7.7925e-03, -5.0679e-02,\n",
       "          3.4762e-02,  4.5010e-02,  8.1527e-02,  1.2681e-02,  5.1435e-02,\n",
       "          1.1123e-03, -3.1925e-02,  4.0870e-02,  2.5551e-02, -9.6804e-03,\n",
       "         -5.7139e-02, -3.7497e-02, -1.5045e-02,  1.1083e-03,  5.4108e-02,\n",
       "          1.3978e-02,  6.5412e-02,  4.3915e-03,  2.2067e-02,  3.9889e-03,\n",
       "         -4.6969e-02,  5.3380e-03,  4.4523e-04, -2.9905e-02,  1.1139e-02,\n",
       "          3.0506e-02,  5.7876e-03, -1.8314e-03,  1.4179e-01, -2.2580e-02,\n",
       "          5.0288e-02, -2.4455e-02,  5.1711e-03, -1.0610e-01,  5.2150e-03,\n",
       "         -2.4859e-02,  7.2381e-02, -1.0213e-02, -2.0621e-02,  3.0545e-02,\n",
       "         -1.5711e-01, -9.4919e-03,  1.1468e-01,  4.7340e-02,  1.8026e-02,\n",
       "          8.4162e-02, -4.1827e-02, -1.9273e-02, -2.8797e-03,  1.0795e-02,\n",
       "          5.5667e-02, -1.1080e-02, -1.8239e-04,  4.7031e-02,  6.9845e-04,\n",
       "          5.2864e-02,  2.0012e-02, -6.1080e-02,  1.6181e-02,  2.7612e-02,\n",
       "          7.9135e-02,  7.3005e-02,  3.6952e-02,  6.9419e-02,  4.0206e-02,\n",
       "          5.8418e-02,  3.8918e-02, -1.4703e-02, -3.8355e-02, -9.4758e-02,\n",
       "         -4.7869e-02, -5.9375e-03, -9.9749e-02, -5.3714e-02,  1.1479e-02,\n",
       "          7.1883e-03, -6.9823e-02,  6.8149e-02,  2.3492e-02]),\n",
       " 'encoder.layer.1.output.LayerNorm.weight': tensor([0.6020, 0.6440, 0.5434, 0.5024, 0.6874, 0.6022, 0.6765, 0.6232, 0.5579,\n",
       "         0.5004, 0.6101, 0.6601, 0.4597, 0.5462, 0.6182, 0.5816, 0.6463, 0.5930,\n",
       "         0.6937, 0.6479, 0.6872, 0.6417, 0.5909, 0.5485, 0.6788, 0.5138, 0.5765,\n",
       "         0.5419, 0.7173, 0.5538, 0.5504, 0.7154, 0.6808, 0.6416, 0.5937, 0.6651,\n",
       "         0.5868, 0.5366, 0.5700, 0.5992, 0.5369, 0.5756, 0.6092, 0.5363, 0.4867,\n",
       "         0.6287, 0.5021, 0.5846, 0.6422, 0.5660, 0.7151, 0.5397, 0.5834, 0.6638,\n",
       "         0.5742, 0.6510, 0.5493, 0.6475, 0.4871, 0.4889, 0.6871, 0.4794, 0.6055,\n",
       "         0.5802, 0.6860, 0.6210, 0.5437, 0.6882, 0.6495, 0.6700, 0.6216, 0.5709,\n",
       "         0.6760, 0.6138, 0.5687, 0.5662, 0.5336, 0.5984, 0.6279, 0.6497, 0.6900,\n",
       "         0.6717, 0.5430, 0.6434, 0.6378, 0.5650, 0.5162, 0.5804, 0.6597, 0.5480,\n",
       "         0.6014, 0.6529, 0.6493, 0.5572, 0.6827, 0.5955, 0.4967, 0.6803, 0.6659,\n",
       "         0.4119, 0.5454, 0.5727, 0.6931, 0.6474, 0.5392, 0.5260, 0.5752, 0.6844,\n",
       "         0.5759, 0.5587, 0.5358, 0.5620, 0.7029, 0.5984, 0.5920, 0.6446, 0.6553,\n",
       "         0.5136, 0.6757, 0.6866, 0.6368, 0.5193, 0.6660, 0.5284, 0.6663, 0.6130,\n",
       "         0.6415, 0.4814, 0.5829, 0.6850, 0.5504, 0.6807, 0.6362, 0.4726, 0.6125,\n",
       "         0.5481, 0.5895, 0.6916, 0.6340, 0.6927, 0.6669, 0.6764, 0.6712, 0.6265,\n",
       "         0.6872, 0.7137, 0.6424, 0.4454, 0.5645, 0.6776, 0.4592, 0.6417, 0.5609,\n",
       "         0.6243, 0.5866, 0.5480, 0.6850, 0.5674, 0.5618, 0.4736, 0.6207, 0.5433,\n",
       "         0.4363, 0.6842, 0.6213, 0.6576, 0.4961, 0.5370, 0.5972, 0.5260, 0.6958,\n",
       "         0.5043, 0.6827, 0.6337, 0.6163, 0.5019, 0.7071, 0.5330, 0.5529, 0.5356,\n",
       "         0.6919, 0.6107, 0.6532, 0.5099, 0.5565, 0.6491, 0.5941, 0.6009, 0.5962,\n",
       "         0.6849, 0.7144, 0.6766, 0.6848, 0.6622, 0.6254, 0.5901, 0.6339, 0.6605,\n",
       "         0.6967, 0.5515, 0.7061, 0.6725, 0.5911, 0.5510, 0.6845, 0.6225, 0.6652,\n",
       "         0.6495, 0.6989, 0.6062, 0.5793, 0.6840, 0.6744, 0.6007, 0.5321, 0.6611,\n",
       "         0.6232, 0.5466, 0.6580, 0.5497, 0.6855, 0.7139, 0.6635, 0.4498, 0.6705,\n",
       "         0.6249, 0.6640, 0.6956, 0.5795, 0.5733, 0.6623, 0.6557, 0.7148, 0.6978,\n",
       "         0.6906, 0.6090, 0.6643, 0.4860, 0.6312, 0.6668, 0.6948, 0.6636, 0.5340,\n",
       "         0.5282, 0.5858, 0.7018, 0.6458, 0.6760, 0.5879, 0.6207, 0.6696, 0.6907,\n",
       "         0.6980, 0.5507, 0.5785, 0.6182, 0.7082, 0.5434, 0.5564, 0.7004, 0.7080,\n",
       "         0.6872, 0.5896, 0.6657, 0.5838, 0.6104, 0.6870, 0.3964, 0.5631, 0.6508,\n",
       "         0.6974, 0.6572, 0.6921, 0.4703, 0.6903, 0.5867, 0.6249, 0.6713, 0.5754,\n",
       "         0.7057, 0.6589, 0.6062, 0.6671, 0.5196, 0.5985, 0.5416, 0.6401, 0.6336,\n",
       "         0.6944, 0.5692, 0.5266, 0.6889, 0.6582, 0.5498, 0.6549, 0.6568, 0.6666,\n",
       "         0.6998, 0.6280, 0.6950, 0.6855, 0.6478, 0.5473, 0.5668, 0.7047, 0.5849,\n",
       "         0.6219, 0.6308, 0.6600, 0.6732, 0.7062, 0.6042, 0.4981, 0.5578, 0.6108,\n",
       "         0.6238, 0.6529, 0.6344, 0.4924, 0.4802, 0.4534, 0.5962, 0.7253, 0.5520,\n",
       "         0.6254, 0.6898, 0.6704, 0.6863, 0.5558, 0.6824, 0.6153, 0.5481, 0.6867,\n",
       "         0.6325, 0.6491, 0.5218, 0.4984, 0.5934, 0.5917, 0.5335, 0.6183, 0.5837,\n",
       "         0.6610, 0.6652, 0.5035, 0.4859, 0.5899, 0.5921, 0.5447, 0.6601, 0.5248,\n",
       "         0.7053, 0.5935, 0.5252, 0.7244, 0.5801, 0.6308, 0.6229, 0.5566, 0.6508,\n",
       "         0.5379, 0.6847, 0.6260, 0.7013, 0.6978, 0.5936, 0.6952, 0.6586, 0.5394,\n",
       "         0.6296, 0.5486, 0.5713, 0.5046, 0.5458, 0.5786, 0.6335, 0.4968, 0.5718,\n",
       "         0.5860, 0.5203, 0.6936, 0.7029, 0.6907, 0.7007]),\n",
       " 'encoder.layer.1.output.LayerNorm.bias': tensor([-6.3416e-03,  4.1890e-02,  1.7363e-02,  1.6592e-02,  2.1346e-02,\n",
       "          1.7602e-02, -2.3334e-03,  3.3235e-02,  5.1204e-02, -1.5194e-02,\n",
       "          1.5243e-02, -8.9375e-03, -1.0236e-03,  1.7984e-02,  3.1062e-02,\n",
       "          1.9090e-02,  2.9853e-02,  1.0509e-03,  6.6946e-02, -2.5848e-02,\n",
       "         -1.7996e-02,  5.9790e-02,  1.2589e-02,  1.7369e-02,  2.3226e-02,\n",
       "         -1.9041e-03, -8.1925e-03, -1.6504e-03, -1.0241e-02,  3.9826e-02,\n",
       "          2.5685e-02,  6.1282e-03, -3.8568e-02,  1.6565e-02, -2.3512e-03,\n",
       "          1.0391e-02, -1.6932e-02,  3.9105e-02,  5.6851e-02,  2.5093e-02,\n",
       "          2.1334e-02,  3.1226e-02, -5.8612e-03,  5.6973e-03,  5.9159e-02,\n",
       "          5.9990e-02,  6.1197e-02, -3.0166e-03,  3.8250e-02,  4.0368e-02,\n",
       "          2.1736e-02,  2.5768e-02,  1.0296e-02, -1.0685e-02,  6.2292e-02,\n",
       "          3.9494e-02,  4.8403e-02,  7.3863e-02, -1.0057e-02,  3.2790e-04,\n",
       "          5.6677e-02,  4.8887e-03,  6.6211e-02, -1.2975e-01,  2.1025e-02,\n",
       "          1.6828e-02,  7.5856e-02,  3.1431e-02,  3.0921e-02,  4.2753e-02,\n",
       "          2.4361e-02,  4.2578e-02,  3.7085e-02, -8.1755e-03,  2.1420e-02,\n",
       "         -3.2553e-02,  3.4898e-02,  2.4284e-02,  4.4063e-02,  5.5603e-02,\n",
       "         -5.2054e-03,  1.6305e-01,  4.6006e-02,  1.0982e-02,  1.9979e-02,\n",
       "          2.2749e-02,  2.7834e-02, -1.2245e-02,  3.5928e-02,  3.3134e-02,\n",
       "          2.0776e-02,  4.5580e-02,  4.5781e-02, -1.8033e-02, -7.6135e-02,\n",
       "          2.0983e-02,  8.1101e-02, -5.5595e-02,  4.3333e-02, -6.6928e-02,\n",
       "          1.4812e-02, -3.2149e-02,  2.3819e-02,  3.3135e-02,  1.7188e-02,\n",
       "         -1.4489e-02,  3.2100e-02, -4.3732e-02,  3.4058e-02,  2.0461e-02,\n",
       "          5.9910e-02,  3.0637e-02,  1.8957e-02,  1.4880e-03, -2.0254e-02,\n",
       "          5.1651e-02,  4.1843e-02,  3.5506e-02,  5.8541e-03,  3.3930e-02,\n",
       "         -4.8464e-02,  3.4763e-02,  1.1729e-02,  1.1182e-03, -2.7919e-02,\n",
       "         -4.6081e-02, -2.1848e-03, -1.1823e-02,  3.6799e-02,  1.3569e-02,\n",
       "          9.8233e-02,  1.4531e-01,  2.0899e-02,  2.5001e-02,  6.7323e-03,\n",
       "          1.9095e-02, -1.3525e-03, -9.5071e-02,  4.5472e-02, -1.5619e-02,\n",
       "         -2.8705e-02,  4.2509e-02,  7.3493e-03,  2.2112e-02,  3.9186e-02,\n",
       "          9.6104e-02, -1.0090e-02,  5.7762e-02,  1.5987e-02,  2.6225e-02,\n",
       "          2.1150e-02,  5.7773e-02,  1.5236e-02,  2.5282e-02, -1.3872e-02,\n",
       "          4.9688e-03,  4.5945e-02, -1.0367e-01,  6.7310e-03,  3.5573e-02,\n",
       "         -1.8025e-02, -1.1085e-02, -3.4073e-02, -5.0300e-02,  1.1555e-03,\n",
       "         -1.2667e-02,  1.4092e-02,  6.9276e-03,  7.5044e-02, -5.2651e-02,\n",
       "          4.2070e-02,  2.8155e-02,  7.0597e-02,  3.0489e-02, -4.3879e-03,\n",
       "          1.5588e-02,  3.2980e-02,  5.0816e-02, -4.4966e-05,  1.5159e-02,\n",
       "          6.1739e-02,  2.5603e-02,  2.8795e-02, -7.1314e-03,  8.2599e-02,\n",
       "          1.9686e-02,  1.8598e-02,  5.3030e-02,  6.4429e-02, -7.3687e-02,\n",
       "          6.5157e-02, -1.7728e-02,  6.3838e-02,  2.1509e-02,  2.0617e-02,\n",
       "          6.3572e-03,  1.2917e-02,  5.8628e-02, -4.8949e-02, -3.8554e-04,\n",
       "         -1.2626e-02,  3.1962e-02, -4.7322e-03,  3.8699e-02, -1.9921e-02,\n",
       "         -2.3745e-02,  1.3804e-02,  3.6656e-02,  4.5746e-02,  2.4962e-02,\n",
       "          3.5620e-02, -1.7950e-02, -4.2625e-03,  6.6482e-02,  5.7364e-02,\n",
       "          1.6154e-03,  2.6381e-02,  1.3269e-02,  6.3348e-03,  7.2718e-04,\n",
       "          6.9288e-03,  4.8065e-02, -4.5190e-03, -1.3783e-01,  5.6758e-02,\n",
       "          1.0844e-02, -1.3068e-03,  4.0934e-02,  1.7469e-02,  4.3918e-02,\n",
       "          3.6409e-04,  5.0719e-02, -1.1847e-01,  9.4902e-03,  3.9091e-02,\n",
       "         -5.3727e-03, -5.8593e-02,  1.1476e-02,  4.2185e-01, -2.2991e-02,\n",
       "          5.4356e-02,  1.1411e-02,  4.1438e-02,  4.5366e-02,  2.5219e-02,\n",
       "          1.9384e-01,  5.1333e-01,  5.9401e-02,  6.6927e-02, -4.9261e-02,\n",
       "          2.0545e-02, -6.0936e-03, -3.2767e-02,  1.1010e-03,  4.1286e-02,\n",
       "          2.7436e-02,  5.2182e-02,  3.7728e-02,  3.6032e-02,  2.9025e-02,\n",
       "          3.9751e-02,  2.6860e-02,  1.8399e-02,  1.4815e-03, -7.2449e-03,\n",
       "         -8.5963e-03,  4.3278e-02, -3.7178e-01, -1.2857e-02,  4.4615e-03,\n",
       "          6.6698e-02,  2.2899e-02,  2.9262e-02,  2.5459e-02, -1.3653e-03,\n",
       "          6.3544e-02,  2.0480e-02,  6.1172e-02, -2.7419e-02,  6.2095e-03,\n",
       "         -1.5848e-01,  7.1828e-02,  1.8143e-02,  2.6948e-02,  2.2428e-02,\n",
       "         -6.5654e-03,  6.9072e-03,  6.6860e-02, -5.9392e-02,  5.4379e-03,\n",
       "          9.9082e-04,  2.8790e-03,  2.5465e-02,  3.4295e-02,  4.5455e-02,\n",
       "         -1.5263e-03,  1.7602e-02,  8.1789e-02,  1.4566e-02, -5.3222e-03,\n",
       "          2.0648e-02,  1.3851e-01,  1.3307e-02,  2.3269e-01,  3.6817e-02,\n",
       "         -9.6858e-03, -1.1889e-02, -6.6400e-03,  1.3405e-04, -7.8161e-03,\n",
       "         -4.1284e-02,  6.3269e-02,  1.5259e-02,  3.5944e-02,  2.8372e-02,\n",
       "         -8.1061e-03, -2.5784e-02,  5.9490e-02, -3.4121e-02,  3.2479e-02,\n",
       "          4.5088e-02,  4.0732e-02,  7.2838e-02, -1.3032e-02,  5.1181e-02,\n",
       "          2.9667e-02,  1.1881e-03, -2.5219e-02,  5.3625e-02,  4.6415e-02,\n",
       "          2.4423e-02,  4.9391e-03,  6.8256e-02, -3.4787e-02,  4.2009e-02,\n",
       "         -3.2659e-03,  1.0523e-02,  4.2687e-02,  9.3064e-02,  1.8588e-02,\n",
       "          3.6938e-02,  5.8866e-04,  4.6407e-03,  2.8745e-02,  1.0501e-02,\n",
       "          6.0955e-02,  1.9239e-02, -3.2682e-01,  1.1938e-02,  3.2232e-02,\n",
       "          1.0308e-02, -3.0952e-02, -2.8067e-02, -3.4874e-03, -5.7293e-02,\n",
       "          4.5315e-02,  1.1016e-02,  4.5653e-02,  1.0522e-02,  6.0265e-02,\n",
       "         -2.1720e-02,  1.8716e-02,  1.3199e-02, -3.3512e-03,  2.9575e-02,\n",
       "          1.6157e-03,  3.0933e-02,  1.0060e-02, -3.4267e-02,  1.6934e-02,\n",
       "          6.8057e-02, -4.1633e-02,  7.1512e-02,  5.8228e-02,  2.8142e-02,\n",
       "          2.0556e-02, -3.3928e-03,  4.4082e-02,  3.3681e-03, -1.1878e-02,\n",
       "          4.3986e-02, -4.2773e-03,  8.8852e-02, -9.2875e-02]),\n",
       " 'encoder.layer.2.attention.self.query.weight': tensor([[ 0.0448, -0.1386,  0.0445,  ..., -0.0659,  0.0863,  0.0366],\n",
       "         [ 0.0738,  0.0360, -0.0365,  ...,  0.0407,  0.1203,  0.0134],\n",
       "         [ 0.0277, -0.0022, -0.1808,  ...,  0.0534,  0.0834,  0.0628],\n",
       "         ...,\n",
       "         [ 0.0959, -0.0662,  0.0350,  ..., -0.0560, -0.0090,  0.0019],\n",
       "         [ 0.0102, -0.0028,  0.0751,  ...,  0.0239, -0.0592, -0.0140],\n",
       "         [-0.0554,  0.0994, -0.0315,  ..., -0.2175, -0.1668,  0.0514]]),\n",
       " 'encoder.layer.2.attention.self.query.bias': tensor([ 2.0461e-01,  1.4563e-01, -4.7454e-01,  9.4567e-02,  2.0043e-01,\n",
       "          4.1299e-01,  3.7565e-01,  3.1958e-01,  6.0413e-01, -4.6540e-02,\n",
       "          3.0163e-01, -2.5902e-01, -2.1128e-01,  2.7115e-01,  3.3891e-01,\n",
       "         -1.5219e-01, -1.8446e-01,  3.4924e-01, -4.8596e-01,  7.6534e-02,\n",
       "          8.3041e-02, -1.3792e-02, -1.4630e-01, -2.1389e-02, -3.1408e-01,\n",
       "         -1.3531e-01, -4.5233e-01, -5.2650e-01,  4.0002e-01, -3.6895e-01,\n",
       "         -2.5556e-01,  1.3748e-01,  1.2546e-01, -1.4053e-01, -2.3376e-01,\n",
       "          1.6512e-01,  7.8699e-02, -6.5022e-02,  2.8878e-01, -2.3367e-01,\n",
       "         -2.7756e-02,  2.1565e-01, -3.0396e-01,  4.1353e-01, -2.2882e-02,\n",
       "         -3.8735e-02,  1.9076e-01,  2.3240e-01,  1.4064e-01,  2.8672e-01,\n",
       "          2.5916e-01, -1.7669e-01,  1.7204e-01, -1.5065e-01, -1.1531e-01,\n",
       "         -2.2157e-01,  3.8481e-01, -2.1784e-01, -1.1690e-01, -2.4518e-01,\n",
       "         -1.6924e-01,  2.7155e-01, -1.0619e-01,  9.2729e-02,  6.3418e-02,\n",
       "         -4.7443e-01,  9.3033e-02, -1.4119e-01, -5.5314e-02, -2.9917e-01,\n",
       "          1.5546e-01,  1.6164e-01, -3.0581e-01, -2.5766e-01, -1.2846e-01,\n",
       "          3.5310e-01,  2.7652e-01, -2.7140e-01,  1.8184e-01, -1.3628e-01,\n",
       "          2.0399e-01,  2.2888e-01, -1.9484e-01, -2.3963e-01,  5.6930e-02,\n",
       "          2.7266e-01,  1.2105e-01,  4.1728e-01, -1.2394e-01, -1.1935e-02,\n",
       "          2.8763e-01,  2.7469e-01,  2.6821e-01, -2.4439e-01,  1.4704e-01,\n",
       "         -1.3317e-01, -2.1028e-01, -1.7938e-01,  3.0391e-01,  2.3487e-01,\n",
       "         -7.5222e-02, -2.1613e-01, -1.0380e-01, -4.6382e-02, -4.8015e-01,\n",
       "         -6.1022e-01, -5.4248e-02, -2.0689e-01, -6.5565e-02, -3.5071e-01,\n",
       "          1.0788e-02,  7.9051e-02,  3.6149e-02, -2.2307e-01, -5.8139e-02,\n",
       "          1.3427e-01, -3.0071e-01,  2.5036e-01, -2.6311e-01,  8.0961e-02,\n",
       "          1.8479e-01,  1.5373e-01, -6.4192e-02,  1.9337e-01, -2.5445e-02,\n",
       "         -2.2638e-01, -3.6090e-02,  4.7812e-02, -1.2209e-01,  3.1905e-01,\n",
       "         -5.1158e-01, -2.1174e-01, -2.9779e-01, -4.3479e-01,  1.3140e-01,\n",
       "         -3.4291e-01,  2.9079e-01,  2.3558e-04, -1.5699e-01, -5.6314e-01,\n",
       "          3.6264e-01, -4.2970e-01,  1.9677e-01, -2.7122e-01,  6.1084e-02,\n",
       "          5.2204e-01,  3.1855e-01,  1.0964e-01, -2.3520e-01, -6.6200e-02,\n",
       "         -3.1341e-02,  2.6353e-01, -4.3258e-01,  1.0558e-01,  1.1989e-01,\n",
       "          5.1100e-01, -5.7718e-01, -1.5964e-01,  3.9808e-01,  3.7777e-01,\n",
       "         -5.2122e-02, -4.0128e-02,  8.0795e-02,  4.3597e-02, -4.2405e-02,\n",
       "         -6.7979e-02,  9.1981e-02, -3.0327e-02, -3.6230e-02, -2.6176e-02,\n",
       "          4.2685e-03,  7.1341e-02, -1.3981e-03,  4.9961e-02, -9.1930e-02,\n",
       "          1.6854e-01,  1.7231e-02,  6.7561e-02, -9.0040e-02,  5.7388e-02,\n",
       "         -9.7115e-02,  8.6037e-02,  3.4926e-02, -1.0427e-02,  7.0889e-02,\n",
       "          3.0116e-02, -9.6137e-02, -1.0450e-01, -7.2631e-02,  5.6054e-02,\n",
       "         -9.7239e-02, -1.7739e-01, -7.3161e-02,  7.0897e-02, -1.2815e-01,\n",
       "         -2.5258e-01, -3.1291e-02,  2.6182e-02,  1.1696e-01,  1.2708e-01,\n",
       "          1.2310e-02, -1.3031e-01,  6.0757e-02, -7.2721e-02, -5.7202e-02,\n",
       "         -6.4507e-02, -4.1544e-04,  9.2239e-02, -1.1003e-01, -5.3612e-02,\n",
       "         -3.4483e-02, -1.6650e-01,  6.7673e-03,  3.7827e-02, -1.4415e-01,\n",
       "          1.6731e-02, -4.1002e-02,  3.8098e-02, -7.3886e-02, -2.2696e-02,\n",
       "         -6.6658e-02, -1.1616e-01,  9.0656e-02, -7.7908e-02, -9.8951e-02,\n",
       "         -1.4886e-01, -1.6242e-01, -6.9313e-02,  8.0642e-02,  3.9022e-02,\n",
       "         -2.4251e-02,  8.9672e-02, -6.3998e-02,  5.7740e-02,  9.7973e-02,\n",
       "         -1.2352e-02, -3.6641e-02, -3.9611e-02, -7.6773e-02,  1.4873e-02,\n",
       "         -9.5598e-02, -1.6344e-03,  4.6095e-02,  1.0341e-01, -9.2902e-02,\n",
       "          9.2360e-02, -3.2747e-02,  8.0369e-02,  1.5654e-01, -9.4818e-02,\n",
       "          2.4488e-02, -4.8744e-02,  4.3786e-02,  3.9652e-02, -1.2141e-01,\n",
       "          6.8738e-02,  3.7767e-01, -2.1165e-01, -3.8111e-01, -5.3614e-01,\n",
       "          3.5961e-03, -4.9710e-01,  5.3604e-02,  4.4476e-01, -1.5068e-01,\n",
       "          6.6125e-03,  4.0193e-01,  2.9421e-01, -7.3748e-01,  3.7296e-01,\n",
       "          3.2306e-02,  1.0998e-01,  7.1016e-01,  8.2621e-02, -4.9129e-01,\n",
       "         -1.1335e-01, -4.3476e-02,  6.0701e-01, -7.5422e-01, -8.2169e-02,\n",
       "         -2.7510e-02,  4.2398e-01,  1.3234e-01, -6.7748e-03,  5.1631e-01,\n",
       "          3.4079e-01,  6.6443e-02,  6.7431e-02, -2.6598e-01, -1.2289e-01,\n",
       "          2.9385e-01,  1.4975e-01, -2.3675e-01, -1.2776e-01,  2.1089e-01,\n",
       "          2.3480e-01,  3.1112e-01, -9.0359e-02,  1.1734e-01, -2.0740e-01,\n",
       "         -1.0566e-01, -2.0503e-01,  2.1564e-01,  4.9974e-02, -2.1682e-01,\n",
       "         -1.7359e-01, -8.1861e-02, -8.2600e-02, -2.5257e-01,  1.9336e-02,\n",
       "         -2.0350e-01,  5.1235e-02,  2.3451e-01, -2.1916e-01, -2.2791e-01,\n",
       "         -1.3956e-01, -1.4030e-02,  2.5675e-01,  1.8239e-01,  2.8519e-01,\n",
       "         -1.3649e-01,  5.4874e-02, -2.8150e-01,  1.8324e-01, -1.0338e-02,\n",
       "         -5.3100e-02, -1.1170e-01, -1.0309e-01, -1.8134e-02,  1.7021e-01,\n",
       "          8.7609e-02,  2.1844e-01,  1.6940e-01,  1.6018e-01, -2.2878e-01,\n",
       "         -4.9248e-02, -3.0501e-01,  3.5147e-02, -2.1504e-01,  8.0753e-02,\n",
       "          3.4349e-01,  1.3359e-01,  8.4040e-02,  1.8582e-01,  2.1223e-01,\n",
       "         -1.2794e-01, -4.0264e-02,  1.8806e-01, -2.0998e-01,  3.6342e-01,\n",
       "          1.9050e-01,  7.5988e-03, -6.9795e-01, -6.0529e-01,  1.2780e-01,\n",
       "          4.3418e-01,  4.6914e-04, -2.1940e-01,  3.8256e-01,  7.0391e-01,\n",
       "         -7.0674e-01,  8.1779e-02,  5.9286e-01,  5.3474e-02,  6.6161e-01,\n",
       "          5.8648e-01, -5.8954e-01,  1.0400e-01,  6.3867e-01, -7.4022e-01,\n",
       "          2.1986e-01, -2.4310e-01,  6.0135e-01, -6.3930e-01,  3.8021e-01,\n",
       "         -2.7554e-01, -4.6717e-01, -1.1953e-01,  8.4843e-01, -5.6796e-01,\n",
       "         -2.9984e-01, -4.7682e-01,  2.5254e-01,  3.0408e-01]),\n",
       " 'encoder.layer.2.attention.self.key.weight': tensor([[-0.1636, -0.0397, -0.0580,  ..., -0.0361, -0.0910,  0.0469],\n",
       "         [-0.0357, -0.0669, -0.1358,  ...,  0.1282,  0.0611, -0.0737],\n",
       "         [-0.0185, -0.0433, -0.0468,  ...,  0.0430, -0.0112,  0.1647],\n",
       "         ...,\n",
       "         [-0.0168,  0.1425, -0.0872,  ...,  0.0256, -0.0864,  0.0019],\n",
       "         [ 0.1889, -0.0162, -0.0720,  ...,  0.0681, -0.0047, -0.0196],\n",
       "         [-0.0218,  0.0460,  0.0514,  ..., -0.1101, -0.0854, -0.1030]]),\n",
       " 'encoder.layer.2.attention.self.key.bias': tensor([-4.8139e-04, -4.5070e-04,  8.9437e-04,  5.4266e-04, -8.3170e-05,\n",
       "         -2.1570e-04,  1.7670e-04, -5.0329e-04, -1.4668e-03,  4.2103e-04,\n",
       "         -1.5210e-04,  1.1959e-04, -3.2386e-04, -6.6649e-06, -2.9092e-04,\n",
       "         -6.5676e-04,  3.5534e-04, -6.9215e-04,  7.0777e-04,  5.0323e-04,\n",
       "          1.2179e-04, -8.2971e-04,  1.5437e-03,  4.8806e-04, -4.4977e-04,\n",
       "          8.3857e-04,  4.7717e-04,  9.2916e-04, -1.0133e-03,  1.1416e-04,\n",
       "         -4.3083e-04, -5.7157e-04, -8.6757e-04, -1.0099e-03, -5.1128e-06,\n",
       "          2.7646e-05, -3.7096e-04, -4.5234e-04, -3.1525e-04,  3.1268e-04,\n",
       "         -9.4412e-04,  7.5055e-04,  3.4042e-04, -1.0128e-03,  4.6450e-04,\n",
       "         -1.1145e-03,  1.2947e-04, -7.5598e-04, -9.8458e-04,  2.1779e-04,\n",
       "          1.5106e-03,  8.5481e-04, -1.3768e-03, -8.5869e-04,  7.1036e-04,\n",
       "         -8.1086e-04,  3.3236e-04, -9.0557e-04, -3.2655e-05, -1.0247e-03,\n",
       "         -2.6051e-04, -4.6911e-04, -6.2327e-04, -4.3444e-04, -9.0929e-07,\n",
       "         -1.5290e-04,  2.6576e-04,  1.5978e-04, -6.0614e-05, -2.3186e-04,\n",
       "          9.5635e-05,  8.1698e-06, -5.7245e-04, -1.8274e-05, -1.1306e-04,\n",
       "         -1.8601e-04,  4.8978e-04,  3.3111e-04, -1.2403e-04,  8.7090e-04,\n",
       "          5.3489e-04, -1.3643e-04, -4.0573e-04,  1.7175e-04, -3.0601e-04,\n",
       "         -2.0619e-04,  1.7907e-04,  1.5834e-04,  1.6925e-04, -8.4524e-05,\n",
       "         -3.8251e-05, -5.4681e-04,  9.7279e-04,  1.2875e-05, -9.1398e-04,\n",
       "         -7.7029e-05,  1.0466e-04, -7.5379e-06, -8.7593e-04,  1.0338e-03,\n",
       "         -5.2865e-04, -1.3311e-03,  9.9233e-05,  7.9295e-04, -2.0854e-03,\n",
       "         -1.5489e-05, -6.4000e-04, -1.4090e-03, -5.9341e-04,  1.0232e-03,\n",
       "         -9.1748e-04,  6.8948e-04, -8.9262e-04, -1.9479e-04, -1.4779e-03,\n",
       "          1.3963e-03, -7.5706e-04,  2.1879e-03,  3.0038e-04,  5.5482e-04,\n",
       "         -2.5566e-04,  1.6069e-05,  8.1239e-04,  1.7272e-03, -2.2271e-03,\n",
       "          7.3280e-04, -1.8015e-05, -7.9812e-05,  1.6578e-04,  2.3337e-04,\n",
       "          7.0910e-05,  3.9256e-05,  8.5780e-04,  2.5638e-03,  3.2989e-04,\n",
       "          3.4813e-03,  4.4615e-04,  1.5361e-04,  2.2112e-03,  2.7695e-03,\n",
       "         -2.3604e-03,  7.9909e-04, -1.8760e-03, -1.5897e-03,  2.3167e-03,\n",
       "         -3.7374e-03, -6.7327e-04,  5.3040e-04,  8.1690e-04, -1.0843e-03,\n",
       "         -1.5549e-03, -3.7474e-04,  2.4287e-03, -6.8101e-04, -1.2640e-04,\n",
       "         -1.8685e-03,  1.8560e-03,  4.0715e-04,  1.0252e-03, -2.1564e-03,\n",
       "          9.6093e-04, -1.7271e-04,  9.7348e-04, -1.4586e-03,  6.0065e-04,\n",
       "         -2.6585e-04, -8.9078e-04, -1.0134e-03,  3.3589e-04, -8.9180e-05,\n",
       "          9.0534e-04,  7.5874e-04,  1.4357e-04,  2.2606e-04, -1.4940e-03,\n",
       "          1.3440e-03,  1.1349e-03, -9.3358e-05,  1.5857e-03,  5.8209e-04,\n",
       "          9.1572e-05, -1.0361e-04,  1.3948e-03, -1.3428e-04, -1.6058e-04,\n",
       "         -4.5587e-04,  4.6522e-04, -3.8282e-04, -5.6084e-04,  5.4732e-04,\n",
       "          8.9583e-04, -8.4172e-04, -8.5180e-04,  9.0845e-04,  1.3668e-04,\n",
       "         -9.6515e-04,  3.9201e-04, -7.2705e-04, -1.9285e-04, -4.7717e-04,\n",
       "          1.2562e-05, -5.0936e-04, -6.8864e-04,  6.2702e-04,  3.8494e-04,\n",
       "          4.8157e-04,  1.0942e-03, -1.2276e-05,  4.5184e-04,  2.7483e-04,\n",
       "         -9.9335e-05,  1.1607e-03,  2.2881e-04,  6.6589e-04, -2.6625e-04,\n",
       "         -1.0464e-05, -2.9876e-04, -4.3136e-04,  1.8947e-04,  4.9471e-04,\n",
       "         -8.8051e-05,  1.2070e-04, -6.1827e-04, -2.3286e-04,  7.8070e-04,\n",
       "         -8.2868e-04, -6.7224e-04,  8.9323e-05, -3.4583e-04, -3.3163e-05,\n",
       "         -9.8195e-04, -3.0591e-04, -8.7023e-04, -5.9064e-04,  1.9904e-04,\n",
       "          1.2528e-03,  5.0473e-04, -1.4215e-03,  3.1724e-04,  1.1461e-03,\n",
       "         -1.4207e-04, -1.5144e-04, -1.1134e-03,  5.5675e-04, -1.0703e-03,\n",
       "         -6.6242e-04, -4.1775e-05, -5.2184e-04, -2.8661e-05,  1.9177e-03,\n",
       "         -6.2033e-04, -1.6948e-03, -1.6306e-03, -1.3129e-03, -3.7229e-04,\n",
       "          1.1346e-04,  1.3739e-03, -1.1870e-03,  3.6720e-04, -8.3181e-04,\n",
       "         -6.6323e-04, -6.8208e-04,  1.4402e-03,  4.7773e-04, -1.4196e-03,\n",
       "          3.8766e-04,  5.2933e-04,  5.4954e-04, -3.2462e-03,  1.1569e-03,\n",
       "         -6.0581e-04,  4.2035e-04,  1.7749e-03, -9.5944e-04,  6.5293e-05,\n",
       "          1.9309e-04,  8.5260e-04,  2.3723e-03, -1.4741e-03, -3.1130e-04,\n",
       "         -7.2866e-04,  2.2430e-03,  1.3267e-03,  1.3720e-03,  8.3601e-04,\n",
       "          8.9847e-04,  1.2731e-03,  3.4841e-04,  1.1424e-03,  5.4341e-04,\n",
       "         -4.3790e-04,  1.3701e-03,  9.1192e-04,  5.4041e-04, -2.1445e-03,\n",
       "         -4.6299e-04, -1.3516e-03, -9.0193e-05, -8.2306e-05, -1.5145e-04,\n",
       "          1.3025e-03,  1.9610e-04, -3.1702e-04, -2.0275e-03, -2.7695e-04,\n",
       "         -1.1055e-03,  1.5192e-03, -3.2067e-05, -2.4088e-04, -1.2727e-04,\n",
       "         -8.6290e-04,  1.9696e-04, -6.1282e-04,  7.3519e-04, -6.0325e-04,\n",
       "          2.1534e-04,  1.7051e-04,  7.8286e-05, -8.7790e-04, -8.0867e-04,\n",
       "          1.3973e-03, -7.5811e-05, -4.9393e-04, -1.1774e-04,  3.5445e-04,\n",
       "          3.7067e-04, -4.2806e-05,  7.7455e-04,  2.9585e-04,  3.2227e-04,\n",
       "          5.6682e-06, -8.7217e-05, -5.7698e-04, -4.1547e-04, -6.5304e-04,\n",
       "          6.2123e-04,  7.0635e-04,  1.9975e-04,  3.5337e-04,  4.7618e-04,\n",
       "          1.5326e-04,  4.0169e-04, -4.4995e-04, -2.1213e-04,  1.2018e-03,\n",
       "         -3.3590e-05,  9.2522e-04,  9.2903e-04, -1.4065e-03,  5.0323e-04,\n",
       "          6.4109e-04,  5.4317e-05,  1.4944e-05, -9.0007e-04,  1.0031e-03,\n",
       "          5.0141e-04,  8.4349e-04, -5.4407e-04,  1.0588e-03, -2.9660e-05,\n",
       "         -1.1217e-03,  3.3876e-05,  8.8266e-04, -1.3273e-04,  4.9001e-05,\n",
       "         -7.3678e-04, -9.7932e-04,  7.5657e-05,  1.4403e-03, -8.3900e-04,\n",
       "         -5.8800e-04,  2.1711e-04,  2.3309e-04,  8.0418e-05, -1.6598e-05,\n",
       "          1.2336e-04, -9.8659e-04,  4.7412e-04,  1.3408e-03, -2.4134e-04,\n",
       "         -1.1964e-04, -2.1492e-04,  4.2417e-04,  9.6656e-04]),\n",
       " 'encoder.layer.2.attention.self.value.weight': tensor([[-0.0251,  0.0380, -0.0986,  ..., -0.0007,  0.0260, -0.0466],\n",
       "         [ 0.0597,  0.0196, -0.1267,  ..., -0.0466, -0.0282,  0.0382],\n",
       "         [-0.1168,  0.0490,  0.0473,  ..., -0.0632, -0.0468,  0.0603],\n",
       "         ...,\n",
       "         [ 0.0507, -0.0337, -0.0893,  ..., -0.0475, -0.0023,  0.0161],\n",
       "         [-0.0192, -0.0930, -0.0218,  ...,  0.0321,  0.0655, -0.0020],\n",
       "         [ 0.0567, -0.0513,  0.0175,  ...,  0.0547, -0.0587,  0.0137]]),\n",
       " 'encoder.layer.2.attention.self.value.bias': tensor([-9.1802e-03, -4.6823e-02,  4.9041e-03,  4.8667e-02,  5.7087e-02,\n",
       "          1.7121e-02,  3.0104e-02,  5.5249e-02, -3.4652e-02,  6.4652e-02,\n",
       "         -2.8297e-02, -1.9659e-02,  1.9485e-02,  3.2840e-02, -3.0995e-02,\n",
       "         -4.3139e-02,  1.4177e-03, -2.4506e-03,  7.7042e-02,  5.9962e-02,\n",
       "         -2.8350e-03,  1.1003e-02,  4.9054e-03,  3.2957e-02,  1.0524e-02,\n",
       "         -2.7770e-02, -7.3814e-02, -3.3152e-02,  2.6357e-02,  4.6679e-02,\n",
       "          1.0057e-02,  1.4298e-01,  1.9101e-02, -7.4757e-03, -2.8821e-03,\n",
       "         -5.8555e-03, -1.1449e-02, -1.0621e-02, -2.7711e-03, -2.5693e-02,\n",
       "         -3.2920e-02,  6.3245e-03, -1.2341e-02,  4.6784e-02, -2.4771e-02,\n",
       "          2.5099e-02,  2.1491e-02, -1.9436e-02,  2.1580e-02, -2.5095e-03,\n",
       "         -1.1796e-02, -1.9218e-02,  1.3943e-03,  8.6914e-02, -4.4462e-03,\n",
       "          5.4378e-03, -2.7106e-02, -1.6824e-02, -1.9823e-02, -1.1351e-02,\n",
       "          2.4245e-02,  1.6908e-02, -2.0781e-02, -2.7900e-02,  3.2616e-03,\n",
       "         -2.4558e-02,  1.7099e-02, -1.7722e-02,  1.8699e-02, -3.0734e-02,\n",
       "          3.7581e-02,  2.3789e-02,  3.3981e-02, -2.3707e-02, -3.9509e-02,\n",
       "         -3.4970e-02, -8.1054e-02,  2.1926e-02, -1.7743e-03, -3.9311e-02,\n",
       "         -7.5064e-02, -2.9474e-02, -2.9101e-02, -2.2810e-02,  6.4138e-02,\n",
       "          7.9581e-03, -2.3187e-02, -7.7582e-02, -5.9838e-03, -1.2084e-02,\n",
       "         -1.5474e-02,  1.7419e-02, -2.1478e-02, -5.0898e-02,  8.2963e-03,\n",
       "         -4.0893e-02,  3.2687e-02,  2.8020e-02,  1.1039e-03, -5.4613e-02,\n",
       "         -2.1692e-02,  3.0176e-02,  2.9039e-02,  4.1160e-02,  6.3028e-02,\n",
       "         -3.4647e-02, -2.8125e-02, -7.4097e-03,  7.7569e-03,  1.6055e-02,\n",
       "          5.3992e-03, -2.6298e-02, -5.8398e-02,  4.7094e-02,  1.8208e-02,\n",
       "          5.3044e-02, -5.7901e-02, -3.2364e-02,  1.4666e-02,  7.7138e-02,\n",
       "         -5.9242e-02, -1.6669e-02,  2.7118e-02, -2.4648e-02, -6.7894e-04,\n",
       "         -7.5124e-03,  1.5123e-02, -3.4137e-02, -2.7510e-02,  7.7113e-02,\n",
       "          1.1207e-02, -7.5626e-03,  3.2623e-02,  1.6510e-02,  7.9009e-03,\n",
       "          2.0073e-02,  2.6896e-02,  2.6036e-02,  7.2001e-03, -3.2139e-02,\n",
       "         -2.9932e-02, -1.6946e-02,  3.3067e-02,  8.9634e-03,  2.6853e-02,\n",
       "         -2.8257e-02,  2.0625e-02,  2.4758e-02, -4.2007e-02,  1.8034e-02,\n",
       "         -3.4019e-02, -2.2091e-02, -1.0241e-02, -6.9431e-02,  5.6930e-03,\n",
       "          2.9798e-03,  6.1154e-03, -2.3108e-03, -3.7812e-02,  6.9113e-04,\n",
       "          2.6654e-02,  6.0630e-03,  4.5381e-03,  1.7211e-02, -2.4027e-02,\n",
       "         -1.2662e-02,  2.7124e-02, -7.1439e-03,  1.6471e-02, -1.9415e-04,\n",
       "         -6.8550e-03,  1.6131e-03,  1.6590e-02, -5.5919e-03, -1.6027e-02,\n",
       "          4.0312e-02,  1.5365e-02, -2.0036e-02,  1.2857e-02, -3.1699e-04,\n",
       "         -8.4353e-03, -1.9488e-02, -8.3078e-03, -7.0044e-04, -1.9584e-02,\n",
       "          7.1962e-04, -1.5870e-02,  2.7110e-02,  5.1766e-02, -5.1490e-04,\n",
       "          6.1838e-03, -7.2737e-03,  4.1098e-03,  1.8101e-02,  1.0995e-02,\n",
       "          1.4493e-03, -2.2642e-02,  8.7189e-03,  2.2576e-02,  1.2813e-02,\n",
       "         -2.4526e-03,  7.5975e-03, -3.2451e-02,  7.8390e-04,  5.1477e-02,\n",
       "          1.2536e-02, -8.6973e-03,  1.4155e-02, -5.8830e-03,  7.5348e-03,\n",
       "          1.5547e-02, -2.0593e-02, -2.3149e-02, -5.6557e-03,  1.9805e-02,\n",
       "         -1.0106e-02, -1.8463e-02,  2.3353e-02,  1.4780e-03, -5.7739e-03,\n",
       "         -1.2638e-02, -6.3446e-03,  1.0425e-02, -1.2621e-02, -1.5253e-02,\n",
       "          1.9755e-02,  4.2615e-02,  7.1982e-04, -5.6681e-03,  1.4860e-02,\n",
       "          3.1636e-02, -3.8645e-03,  9.3860e-03,  1.7044e-03, -7.9866e-03,\n",
       "          2.7736e-03,  3.3361e-02, -1.8617e-02, -1.3201e-02,  4.6033e-03,\n",
       "         -5.3501e-03,  6.3576e-03, -1.3624e-02,  1.1437e-02,  2.3290e-03,\n",
       "         -5.5128e-04, -5.7311e-03,  1.6743e-02, -8.2475e-03,  1.3455e-02,\n",
       "          1.1577e-02,  1.6871e-03,  5.6327e-03,  3.2124e-02, -5.6679e-03,\n",
       "          1.8128e-02,  1.3681e-01, -2.2843e-02,  5.4576e-02,  6.2350e-02,\n",
       "          4.8064e-04,  2.8240e-02, -1.4348e-02,  2.5969e-02, -7.2394e-03,\n",
       "         -4.8042e-02, -4.1109e-02,  2.1385e-02,  5.5454e-02, -2.6572e-02,\n",
       "          3.2648e-02,  8.4406e-03, -4.2756e-02, -3.3335e-02, -6.2428e-02,\n",
       "          9.3185e-05,  4.0199e-02,  4.3856e-02,  4.8762e-02,  2.3904e-02,\n",
       "          1.4054e-02,  2.9721e-02,  1.3865e-03,  6.8067e-03,  1.6813e-02,\n",
       "         -1.5922e-02,  4.1212e-02,  1.1904e-02, -5.1429e-02,  6.3456e-02,\n",
       "          1.6599e-02,  2.5037e-02, -3.8830e-03, -2.3108e-02,  8.3230e-02,\n",
       "         -1.8392e-02, -2.5290e-02,  1.6883e-02, -1.1633e-01,  3.2890e-03,\n",
       "          1.8727e-02,  3.7763e-02, -4.6918e-03, -8.1579e-02, -8.9839e-02,\n",
       "          3.7236e-02, -1.5454e-02, -3.7733e-03, -1.4865e-03,  2.3862e-02,\n",
       "          7.7270e-02,  8.1114e-03, -8.9884e-05, -1.9570e-02,  2.4010e-02,\n",
       "          1.1200e-01, -1.5337e-02, -1.0052e-02, -3.3110e-02,  1.2026e-01,\n",
       "          8.3171e-03,  1.7076e-02, -2.4250e-02,  7.0296e-02, -5.4312e-04,\n",
       "          2.2365e-04, -7.3233e-03, -1.2071e-02, -1.6688e-02,  2.3210e-02,\n",
       "         -5.1526e-03,  1.5987e-02, -2.2773e-02, -3.5777e-02,  6.7129e-03,\n",
       "          2.0405e-02,  4.0412e-03, -2.1986e-03, -7.6410e-03, -4.6533e-02,\n",
       "         -3.4906e-02, -1.7171e-02, -1.4130e-03,  1.4292e-02,  3.1814e-02,\n",
       "          2.2682e-02, -4.3888e-02,  3.6087e-02, -8.4474e-03, -4.1853e-03,\n",
       "          2.4432e-02, -2.7143e-03,  3.4923e-02, -2.3453e-02, -3.5984e-02,\n",
       "         -9.2008e-02, -3.2850e-02, -5.4151e-02,  1.0450e-02,  1.5380e-02,\n",
       "         -3.0504e-02, -4.9433e-02, -1.7527e-01,  1.5837e-02, -1.5748e-01,\n",
       "          2.9612e-02, -2.7498e-02,  5.4656e-02,  9.3216e-02, -3.4105e-03,\n",
       "          9.5885e-02,  2.5628e-02, -4.9614e-02, -2.4264e-01, -5.5110e-03,\n",
       "          5.5907e-02, -9.5268e-02,  4.2970e-02, -2.9586e-02,  2.6574e-03,\n",
       "          8.2807e-02,  3.7062e-02,  3.3168e-02, -4.9695e-03]),\n",
       " 'encoder.layer.2.attention.output.dense.weight': tensor([[ 0.0533, -0.0223,  0.0248,  ..., -0.0855, -0.0405, -0.0324],\n",
       "         [-0.0239,  0.0622,  0.0258,  ...,  0.0414, -0.0581,  0.0189],\n",
       "         [-0.0845, -0.0240, -0.0548,  ...,  0.0034, -0.1071, -0.0553],\n",
       "         ...,\n",
       "         [ 0.0116, -0.0116, -0.0187,  ..., -0.0069, -0.0360, -0.0820],\n",
       "         [ 0.0067, -0.0514, -0.0021,  ...,  0.0039, -0.0014,  0.0055],\n",
       "         [-0.0085,  0.0181,  0.0028,  ...,  0.0088, -0.0082, -0.0038]]),\n",
       " 'encoder.layer.2.attention.output.dense.bias': tensor([-1.9672e-02,  1.2009e-01,  5.4707e-03,  1.5846e-02,  5.7376e-02,\n",
       "         -1.1965e-02,  4.0364e-02, -3.6724e-02,  5.2300e-02, -6.1519e-02,\n",
       "          6.3523e-02, -4.3480e-02, -1.2520e-02, -7.2138e-02,  7.6406e-02,\n",
       "          1.1409e-01,  5.0568e-02,  3.7842e-03,  1.7169e-02, -5.2706e-02,\n",
       "          2.1679e-02, -3.4969e-02,  4.2442e-02, -1.0806e-01, -6.1720e-02,\n",
       "          4.5082e-02, -6.4860e-02, -4.4725e-02,  6.8632e-03,  1.2529e-04,\n",
       "         -7.9150e-02, -3.8106e-02,  1.8279e-02, -3.4496e-02,  3.5329e-02,\n",
       "         -5.1195e-04, -8.4891e-03,  1.2839e-02,  1.6702e-01, -4.7187e-02,\n",
       "          4.3114e-02,  1.2886e-01,  8.9867e-02, -2.8151e-02, -1.6914e-02,\n",
       "         -1.6855e-02,  1.1341e-01,  1.3357e-02,  1.7914e-02,  6.2677e-02,\n",
       "         -1.2632e-02, -1.2857e-02,  7.1181e-02,  3.8052e-03,  4.6943e-02,\n",
       "          1.0913e-02,  2.3636e-02,  1.0506e-01, -1.2921e-01, -3.1973e-02,\n",
       "         -1.8905e-02, -4.3195e-02,  8.1625e-02,  1.2588e-02, -4.1164e-02,\n",
       "          1.0337e-01,  1.1214e-01, -1.8088e-02, -9.5235e-02,  1.2179e-01,\n",
       "         -2.4599e-03,  7.4858e-02, -9.8935e-02,  9.6817e-02,  2.5712e-03,\n",
       "         -5.6708e-03, -6.6113e-02, -5.7211e-03,  7.9379e-02,  2.8408e-02,\n",
       "         -7.5267e-03, -2.8803e-02,  1.6051e-02, -1.4106e-01,  2.0040e-02,\n",
       "         -4.6279e-03,  9.9798e-02, -7.2187e-02, -1.3406e-03, -5.3115e-02,\n",
       "         -7.7857e-02, -6.6588e-02,  4.0371e-02,  9.8420e-02, -7.7178e-02,\n",
       "          2.5271e-02, -5.1255e-02, -1.8328e-02, -8.6119e-02, -8.7446e-02,\n",
       "          2.4564e-02,  5.9914e-03,  1.5476e-02,  2.4183e-03, -4.7952e-03,\n",
       "          1.1540e-02, -7.7018e-02,  2.8996e-02,  1.7559e-02,  4.1319e-02,\n",
       "          4.0530e-03,  9.4666e-02, -1.3970e-03, -4.7230e-02,  5.8840e-02,\n",
       "          7.3344e-02, -1.4585e-02, -1.2224e-01,  4.1163e-02,  3.3012e-02,\n",
       "         -1.2236e-02,  4.2777e-02,  1.0957e-02,  6.7990e-02,  1.5978e-02,\n",
       "          7.6520e-02,  1.2161e-01, -1.7033e-01,  3.6249e-02, -6.7017e-02,\n",
       "          1.1911e-01, -8.3235e-03,  5.8503e-02, -7.1319e-02, -1.0989e-02,\n",
       "         -4.4408e-02, -8.6927e-03,  1.3696e-02, -5.4371e-02, -2.8617e-02,\n",
       "         -4.1687e-02,  6.2999e-02, -5.4541e-03,  5.2575e-02,  6.5202e-03,\n",
       "          6.7868e-02, -9.1590e-02, -1.0523e-01,  3.7341e-02,  2.4866e-02,\n",
       "         -1.4390e-02,  8.7846e-02,  1.1957e-01, -9.0926e-02, -1.3882e-02,\n",
       "          8.8905e-03,  1.0830e-02, -7.6023e-02,  7.1669e-02,  1.3124e-02,\n",
       "         -9.0275e-02,  4.7223e-02, -1.0230e-01, -8.2480e-02,  3.4042e-02,\n",
       "         -5.5533e-02,  1.0762e-01, -1.9419e-02, -1.5776e-02, -6.1429e-02,\n",
       "          2.6506e-02, -9.7653e-02,  8.2922e-02,  5.7612e-02, -2.6950e-02,\n",
       "         -2.6286e-02,  5.4947e-02, -9.7954e-03,  9.3816e-02, -4.4051e-03,\n",
       "         -4.7477e-03,  2.1179e-02, -7.2058e-02, -1.6284e-01, -6.5953e-02,\n",
       "         -4.2138e-02, -1.2772e-01, -4.4895e-02,  3.8640e-02,  6.2858e-03,\n",
       "          3.8169e-02, -7.4870e-02, -5.7609e-03,  1.4074e-01, -1.3382e-01,\n",
       "         -4.5272e-02,  5.3631e-03, -1.9140e-03, -4.1136e-02, -5.4373e-02,\n",
       "         -9.1444e-04,  7.0334e-02, -1.1189e-01, -3.4576e-02, -6.4006e-02,\n",
       "         -1.3149e-01,  3.9774e-02,  4.5560e-03, -8.8581e-03, -4.5636e-02,\n",
       "          3.4313e-02, -9.8093e-03,  3.8695e-02, -4.6133e-02, -2.9030e-02,\n",
       "          2.5036e-02, -1.1740e-02,  1.0434e-01,  7.1692e-03,  1.4764e-02,\n",
       "          3.3929e-02, -3.8696e-02,  4.7432e-03,  2.1311e-01, -8.4528e-02,\n",
       "         -4.6382e-02, -2.2781e-02,  1.0100e-02, -5.7976e-02,  1.0775e-01,\n",
       "          2.0621e-02,  1.2535e-02, -5.6998e-02,  7.8149e-02,  5.3749e-02,\n",
       "         -3.2998e-02, -5.0257e-02, -8.7970e-02,  1.0423e-01, -1.0218e-01,\n",
       "          1.8795e-02, -6.2912e-02, -3.0617e-02,  2.6350e-02,  4.9885e-02,\n",
       "          6.0106e-02, -3.1266e-02,  2.3266e-02, -1.1355e-01, -2.3169e-02,\n",
       "         -2.7592e-02, -4.7967e-02, -4.6357e-02,  3.6353e-03, -3.3256e-02,\n",
       "          2.1629e-03,  1.9606e-02, -9.9718e-02, -4.8794e-02,  1.6705e-02,\n",
       "          7.1746e-03, -7.7260e-02, -8.0358e-02, -5.3480e-04, -4.8757e-02,\n",
       "          1.0110e-02, -4.3047e-02, -1.2475e-01,  8.6934e-02,  5.1039e-02,\n",
       "          8.5907e-02, -4.6795e-02, -2.8864e-02, -6.0102e-02,  3.9922e-03,\n",
       "          3.6907e-02,  2.5721e-02,  1.8818e-02, -9.9088e-02,  6.2764e-03,\n",
       "         -5.1019e-02, -3.1559e-02,  4.3492e-02,  3.4527e-02,  4.8815e-02,\n",
       "         -4.1411e-02, -1.1572e-01, -5.2537e-02,  1.5763e-02, -2.6924e-02,\n",
       "         -1.6411e-01,  1.9385e-02,  3.0884e-03, -3.1775e-02, -3.3994e-02,\n",
       "         -4.3990e-02, -7.4116e-03,  7.3486e-02,  7.6619e-02,  7.9579e-03,\n",
       "         -1.1499e-02, -4.1577e-02,  5.4249e-03,  3.4592e-04,  7.0336e-02,\n",
       "         -1.9814e-02, -7.3152e-02,  3.8063e-02,  2.6057e-02,  4.6440e-03,\n",
       "         -4.4019e-02, -2.4081e-02,  9.0955e-03, -7.3829e-02, -6.4674e-03,\n",
       "          7.5581e-02,  3.3385e-02,  5.2488e-02, -1.1829e-02, -7.1013e-02,\n",
       "         -9.0166e-02,  5.5151e-02,  7.3812e-03, -3.9624e-02,  8.7477e-02,\n",
       "          8.4149e-02, -3.7589e-02,  2.3220e-02,  1.1074e-02,  3.3117e-02,\n",
       "         -1.5114e-02,  7.0356e-02,  3.7898e-02, -4.9652e-03,  4.1635e-02,\n",
       "         -5.6059e-02, -8.5187e-03,  1.0824e-01,  1.3169e-01, -4.9911e-02,\n",
       "          5.4862e-02, -8.4814e-02, -6.4233e-03, -4.2009e-02, -1.4195e-01,\n",
       "          2.3785e-03,  8.1064e-03, -1.1686e-01,  4.9554e-02,  4.5821e-02,\n",
       "          2.4086e-02,  6.5995e-02,  2.2467e-02, -8.5462e-02,  2.0204e-02,\n",
       "         -8.7458e-02,  9.3659e-02, -4.2509e-02, -6.5919e-02, -4.9338e-02,\n",
       "          1.4017e-02, -1.4508e-02, -8.9611e-02,  4.3651e-02,  1.6227e-02,\n",
       "          1.4360e-01, -2.8029e-03, -2.0759e-02, -1.2363e-01, -2.7778e-02,\n",
       "         -1.1028e-01,  8.6351e-02,  4.7876e-02,  4.8219e-02,  5.9025e-02,\n",
       "          3.7338e-02, -6.3833e-02,  1.4306e-01, -7.2536e-02,  5.8190e-03,\n",
       "          1.6747e-02,  5.0282e-02,  3.4112e-03,  2.8869e-02]),\n",
       " 'encoder.layer.2.attention.output.LayerNorm.weight': tensor([0.5913, 0.6447, 0.5167, 0.4821, 0.6777, 0.5510, 0.7274, 0.5880, 0.5477,\n",
       "         0.4618, 0.5341, 0.6703, 0.3782, 0.4677, 0.6034, 0.5826, 0.6423, 0.5932,\n",
       "         0.7074, 0.6427, 0.6881, 0.6791, 0.5099, 0.5088, 0.6597, 0.4374, 0.5173,\n",
       "         0.4775, 0.7226, 0.3973, 0.4493, 0.6990, 0.7313, 0.5789, 0.6072, 0.6396,\n",
       "         0.5348, 0.4857, 0.5446, 0.5114, 0.4823, 0.5361, 0.5566, 0.5286, 0.4493,\n",
       "         0.5937, 0.5020, 0.5269, 0.5668, 0.5023, 0.6986, 0.4883, 0.5390, 0.6702,\n",
       "         0.4897, 0.6534, 0.4945, 0.6348, 0.4505, 0.4305, 0.6731, 0.4186, 0.8534,\n",
       "         0.8035, 0.6863, 0.5409, 0.4663, 0.7018, 0.6743, 0.7086, 0.5909, 0.5021,\n",
       "         0.5985, 0.6264, 0.4895, 0.5097, 0.4629, 0.5662, 0.5985, 0.7033, 0.7107,\n",
       "         0.6671, 0.5093, 0.6436, 0.5832, 0.5004, 0.4524, 0.5865, 0.6401, 0.4538,\n",
       "         0.5978, 0.6705, 0.6762, 0.5094, 0.6932, 0.5533, 0.4478, 0.6992, 0.7086,\n",
       "         1.4259, 0.4985, 0.5206, 0.6863, 0.6798, 0.5139, 0.4332, 0.5671, 0.6826,\n",
       "         0.4816, 0.5260, 0.4929, 0.4517, 0.6865, 0.5847, 0.6010, 0.7014, 0.6406,\n",
       "         0.4484, 0.6653, 0.7101, 0.5855, 0.4692, 0.6346, 0.5181, 0.6306, 0.6563,\n",
       "         0.6092, 0.4698, 0.5371, 0.6380, 0.5055, 0.7223, 0.6726, 0.4258, 0.5754,\n",
       "         0.4287, 0.5153, 0.6884, 0.6725, 0.6734, 0.6332, 0.7006, 0.7115, 0.6639,\n",
       "         0.6871, 0.6870, 0.6570, 0.4028, 0.5314, 0.6961, 0.4203, 0.6493, 0.4833,\n",
       "         0.5904, 0.4946, 0.4542, 0.7033, 0.7131, 0.4763, 0.4390, 0.6252, 0.5222,\n",
       "         0.4276, 0.7337, 0.5673, 0.6372, 0.4334, 0.4709, 0.6049, 0.4987, 0.6819,\n",
       "         0.4770, 0.6635, 0.6398, 0.6134, 0.4520, 0.6922, 0.5038, 0.5031, 0.4408,\n",
       "         0.6984, 0.5542, 0.5992, 0.4419, 0.5423, 0.5887, 0.6276, 0.5258, 0.5296,\n",
       "         0.7173, 0.7026, 0.7126, 0.6793, 0.6454, 0.5713, 0.5070, 0.6025, 0.6397,\n",
       "         0.6979, 0.4538, 0.6813, 0.6681, 0.5779, 0.4651, 0.7114, 0.5709, 0.6840,\n",
       "         0.6016, 0.6982, 0.5951, 0.5606, 0.6658, 0.6952, 0.5520, 0.4440, 0.6495,\n",
       "         0.6138, 0.5387, 0.6814, 0.4259, 0.6496, 0.6942, 0.7075, 1.2354, 0.6919,\n",
       "         0.5791, 0.6984, 0.7061, 0.5371, 0.4716, 0.6573, 0.6541, 0.7019, 0.7001,\n",
       "         0.6805, 0.5751, 0.7167, 0.4791, 0.6886, 0.6825, 0.6947, 0.6576, 0.5143,\n",
       "         0.5203, 0.5514, 0.6898, 0.7493, 0.6860, 0.5217, 0.8372, 0.7119, 0.7011,\n",
       "         0.7066, 0.5592, 0.5491, 0.5874, 0.6918, 0.5259, 0.4732, 0.6827, 0.7133,\n",
       "         0.6797, 0.5358, 0.6515, 0.5576, 0.5588, 0.6299, 0.8414, 0.4626, 0.5914,\n",
       "         0.6999, 0.7176, 0.6957, 0.4423, 0.6935, 0.6110, 0.6127, 0.6947, 0.5069,\n",
       "         0.6669, 0.6863, 0.6170, 0.6990, 0.4310, 0.6206, 0.5117, 0.6055, 0.6656,\n",
       "         0.6949, 0.5254, 0.4650, 0.6824, 0.6977, 0.4829, 0.6513, 0.5769, 0.7078,\n",
       "         0.7018, 0.6311, 0.6951, 0.6854, 0.6896, 0.4924, 0.7235, 0.7008, 0.5202,\n",
       "         0.5988, 0.6282, 0.7318, 0.6651, 0.6892, 0.6297, 0.4391, 0.5159, 0.5713,\n",
       "         0.5659, 0.6883, 0.6972, 0.4884, 0.4326, 0.4389, 0.5727, 0.6813, 0.4888,\n",
       "         0.6483, 0.6382, 0.6974, 0.6959, 0.4693, 0.6932, 0.6627, 0.5567, 0.6582,\n",
       "         0.6128, 0.6288, 0.4758, 0.4780, 0.6112, 0.7778, 0.5338, 0.5225, 0.5240,\n",
       "         0.6130, 0.6983, 0.5179, 0.4072, 0.5402, 0.7888, 0.5152, 0.6623, 0.4414,\n",
       "         0.6736, 0.5163, 0.5151, 0.6874, 0.5412, 0.5959, 0.5470, 0.4837, 0.7564,\n",
       "         0.5066, 0.6995, 0.6247, 0.6958, 0.6901, 0.5368, 0.6731, 0.6524, 0.5136,\n",
       "         0.5941, 0.5339, 0.5398, 0.4232, 0.4631, 0.5729, 0.6059, 0.4485, 0.5636,\n",
       "         0.5438, 0.4728, 0.7028, 0.6613, 0.7185, 0.6981]),\n",
       " 'encoder.layer.2.attention.output.LayerNorm.bias': tensor([-1.6587e-02, -1.2647e-02, -1.1450e-02, -5.3726e-02, -1.6123e-02,\n",
       "         -3.1596e-02, -8.1081e-02,  1.4200e-02, -7.9750e-02, -2.6286e-02,\n",
       "         -7.5023e-02,  1.0428e-02,  3.2102e-02, -1.3156e-02, -3.5231e-02,\n",
       "         -1.6647e-02,  3.1564e-02,  4.5745e-03, -1.1840e-01,  1.5002e-02,\n",
       "          1.6413e-02, -1.8111e-02, -1.7583e-02,  4.4723e-02,  5.4249e-02,\n",
       "          1.9352e-02,  8.7070e-03,  3.7168e-02, -2.6612e-02, -1.4730e-02,\n",
       "          2.1100e-02,  7.3377e-02,  4.8327e-02, -2.5931e-02,  5.6580e-02,\n",
       "         -6.1570e-02,  5.3347e-03,  2.5438e-02, -1.2133e-01, -2.3228e-03,\n",
       "          4.4256e-02, -6.3703e-02,  3.1564e-02, -1.5447e-02, -5.0302e-02,\n",
       "         -3.4117e-02, -5.7631e-02, -2.8153e-02,  2.5846e-02,  1.1517e-03,\n",
       "          3.5981e-02, -9.8287e-03, -3.6252e-02,  1.0886e-02, -6.6126e-02,\n",
       "         -3.4325e-02,  2.3842e-02, -9.9745e-03,  2.9523e-02, -6.7310e-03,\n",
       "         -1.5097e-02,  4.3190e-02, -2.9726e-01,  1.1777e-01,  6.0975e-03,\n",
       "         -6.0746e-03,  1.4325e-02,  5.5227e-02,  8.3257e-03, -8.1662e-02,\n",
       "         -5.0486e-02, -4.0590e-02,  9.2147e-02,  3.4369e-02, -4.1390e-02,\n",
       "          7.4377e-03, -3.7011e-02, -7.8174e-02, -1.7099e-02, -1.5545e-02,\n",
       "          4.3965e-02, -4.3795e-02, -8.6284e-03,  1.4393e-01, -2.3151e-02,\n",
       "         -4.8694e-02, -7.8632e-02,  8.4418e-03, -5.0192e-02, -2.4084e-02,\n",
       "          7.4279e-03, -4.4598e-03, -9.5238e-03,  1.4774e-02,  1.7650e-01,\n",
       "          3.6154e-02, -4.7622e-02,  1.0081e-01, -6.4084e-02,  2.4529e-01,\n",
       "         -5.3186e-02,  4.4694e-02,  1.2475e-02, -1.1658e-02, -2.0866e-02,\n",
       "          3.1944e-02, -8.0417e-03,  4.8775e-02, -3.6342e-02,  4.1210e-02,\n",
       "         -2.3565e-02, -6.1576e-02, -7.5895e-02,  2.4389e-02, -6.9185e-04,\n",
       "         -2.6765e-03,  5.1388e-03,  2.7152e-02, -2.6250e-02, -2.3116e-02,\n",
       "         -2.5503e-02, -2.3989e-02, -1.4118e-02,  6.2593e-03,  3.1888e-02,\n",
       "          2.4699e-02, -2.4996e-02,  6.2649e-02,  1.6168e-02, -4.4195e-02,\n",
       "         -8.6733e-02, -1.3273e-01, -7.5524e-02,  4.3744e-02,  6.2759e-02,\n",
       "          7.1116e-03, -3.8506e-03,  7.1671e-02,  2.1937e-02,  5.4472e-02,\n",
       "          2.5274e-02,  1.2688e-02, -1.2101e-01, -6.1371e-02, -3.9566e-02,\n",
       "         -1.5749e-01, -4.0548e-02, -1.7595e-02, -6.6446e-02, -8.4211e-02,\n",
       "         -7.7467e-02, -5.6069e-03, -1.9474e-02,  1.4110e-02, -2.7296e-02,\n",
       "          2.2367e-03, -1.1456e-03,  2.4391e-01, -1.4384e-02, -4.6984e-02,\n",
       "         -3.4386e-03,  1.6476e-02,  7.0967e-02,  2.5289e-01, -1.3899e-02,\n",
       "         -2.4717e-02,  1.6254e-02, -3.1846e-02, -9.1488e-02,  2.2781e-02,\n",
       "         -3.2238e-02,  5.6295e-03, -3.2194e-02, -1.3181e-02,  3.0628e-02,\n",
       "          8.0886e-03, -3.8407e-02, -9.5310e-04, -7.0926e-02, -5.2567e-02,\n",
       "          2.9277e-02, -1.3783e-03, -4.3909e-02,  3.7373e-02, -4.0266e-02,\n",
       "          1.4833e-02,  5.4379e-03, -6.2235e-02, -8.5026e-03,  1.2257e-01,\n",
       "         -1.0743e-01,  7.0153e-02, -1.1055e-01, -2.4029e-02,  3.4331e-02,\n",
       "         -1.6514e-02,  1.8743e-02, -5.9656e-02,  1.2772e-01, -1.8763e-02,\n",
       "          6.3359e-02, -5.4017e-02, -4.7422e-02, -2.8655e-02,  6.8686e-02,\n",
       "         -3.8542e-02, -7.1359e-02, -2.4669e-02, -7.1468e-02, -5.7883e-03,\n",
       "         -6.3768e-03,  5.3535e-02,  4.1502e-02, -3.5501e-02, -2.5728e-02,\n",
       "          4.9581e-04, -1.4545e-02, -3.2136e-02,  1.7305e-02, -1.9589e-03,\n",
       "          8.1340e-03,  2.5290e-02,  1.9635e-03, -1.6435e+00,  7.1804e-03,\n",
       "          3.9123e-03,  3.5213e-02, -3.6985e-02, -7.2743e-02, -1.0206e-01,\n",
       "         -8.8688e-03,  8.7000e-03,  2.0979e-01, -2.1175e-02, -7.1030e-03,\n",
       "          2.7966e-02,  1.1122e-01, -4.8884e-02,  1.6786e-01,  1.4075e-01,\n",
       "         -2.0388e-02, -3.5279e-02,  6.9361e-03, -4.4052e-02, -1.9145e-02,\n",
       "         -1.2986e-01,  1.2838e-01, -9.4516e-02,  7.1404e-03,  1.7950e-01,\n",
       "         -1.5090e-02,  4.1968e-02,  1.0215e-02,  2.9302e-02, -4.5142e-02,\n",
       "         -7.9256e-03, -4.7797e-02,  2.3092e-02,  2.8960e-02, -2.4617e-02,\n",
       "         -7.2544e-02, -1.5896e-02, -2.2489e-02,  6.4415e-02, -8.7255e-03,\n",
       "         -1.6432e-02, -2.6071e-02,  2.3713e-02, -5.0734e-02,  1.3255e-02,\n",
       "         -1.0704e-01,  7.5387e-02,  3.4774e-02,  1.8035e-02,  7.6836e-02,\n",
       "         -5.3927e-02, -1.0651e-02, -3.8608e-02,  3.6077e-02, -1.0371e-01,\n",
       "          7.5498e-02, -5.2728e-02,  4.4742e-02, -2.3155e-02,  8.3381e-03,\n",
       "          1.2745e-02,  4.9936e-02,  7.2539e-02,  7.4854e-02,  2.1290e-02,\n",
       "          8.8529e-02, -1.3126e-02,  2.7284e-03, -2.7631e-02,  4.5680e-02,\n",
       "         -1.7428e-02,  4.5795e-03, -7.4149e-02, -4.8000e-02, -9.8896e-03,\n",
       "          2.7558e-02, -3.8598e-02,  8.8888e-02, -1.2632e-01, -7.0386e-02,\n",
       "          5.3538e-02,  8.1012e-02,  5.3003e-02, -2.6760e-02,  5.5043e-02,\n",
       "          5.8712e-02, -3.2084e-02,  1.4045e-02,  4.7248e-03, -4.6550e-04,\n",
       "         -1.7757e-02,  1.6148e-02,  1.3652e-02,  1.9748e-02,  2.7705e-02,\n",
       "          5.5026e-02, -2.2634e-02, -6.0776e-02, -1.9140e-02, -4.8357e-02,\n",
       "          4.8355e-03,  7.2075e-02,  4.5112e-02, -5.4697e-02, -3.4846e-03,\n",
       "          4.8424e-02, -5.2061e-02, -4.1944e-02,  3.2903e-02, -4.2381e-02,\n",
       "          8.0813e-03, -2.7360e-02, -3.2230e-02, -4.3611e-01, -1.6411e-02,\n",
       "         -1.9531e-02,  4.6547e-02, -5.6524e-03, -3.1945e-03,  4.6297e-02,\n",
       "         -7.0013e-02, -1.1359e-02,  2.0480e-01,  2.1876e-02, -2.4842e-03,\n",
       "          1.9561e-02,  5.3718e-02,  7.2393e-05,  2.8158e-02,  6.8246e-02,\n",
       "          3.7193e-02, -1.7058e-02, -1.7940e-02,  9.3129e-03,  9.8733e-02,\n",
       "          5.5099e-02,  3.8995e-02,  1.8750e-02,  2.3560e-01, -4.8726e-02,\n",
       "          2.3176e-02,  3.0066e-02,  1.4365e-02,  7.7874e-02,  1.6114e-02,\n",
       "          3.9991e-02,  5.2468e-02, -1.0309e-01, -6.1662e-02, -5.7996e-02,\n",
       "         -4.5508e-02, -1.4739e-04, -1.6202e-02, -1.4921e-02,  7.4336e-02,\n",
       "         -4.5247e-02, -1.4628e-02, -2.1358e-02,  8.2629e-03]),\n",
       " 'encoder.layer.2.intermediate.dense.weight': tensor([[ 0.0562, -0.0137, -0.0867,  ...,  0.0680, -0.0270, -0.0136],\n",
       "         [-0.0223,  0.1055,  0.0367,  ...,  0.0878, -0.0004, -0.1183],\n",
       "         [ 0.0418,  0.0131, -0.0459,  ..., -0.0523,  0.0604,  0.0203],\n",
       "         ...,\n",
       "         [-0.0138,  0.1773, -0.0883,  ...,  0.0226,  0.0602,  0.0076],\n",
       "         [-0.0289,  0.1255,  0.1580,  ...,  0.0528, -0.0486,  0.0585],\n",
       "         [-0.0107,  0.0294,  0.0121,  ...,  0.1065, -0.0258, -0.0523]]),\n",
       " 'encoder.layer.2.intermediate.dense.bias': tensor([-0.0408, -0.0638,  0.0320,  ..., -0.0384, -0.1538,  0.0067]),\n",
       " 'encoder.layer.2.output.dense.weight': tensor([[ 2.4482e-02, -2.4009e-02, -3.5347e-02,  ...,  1.2176e-02,\n",
       "           2.1275e-02, -1.4681e-02],\n",
       "         [-9.8694e-03, -7.2458e-02,  8.1172e-02,  ..., -8.6972e-02,\n",
       "           5.5433e-03, -8.2199e-02],\n",
       "         [ 3.6932e-02,  5.6187e-02,  4.2087e-02,  ...,  9.0229e-05,\n",
       "           3.3921e-02, -4.6486e-03],\n",
       "         ...,\n",
       "         [ 1.4814e-01,  1.5312e-02,  2.3245e-02,  ..., -1.4672e-02,\n",
       "           2.7261e-02,  2.8130e-02],\n",
       "         [ 2.4989e-02,  2.0321e-02, -1.2520e-02,  ..., -1.4917e-03,\n",
       "          -1.1484e-02,  2.5788e-02],\n",
       "         [-1.7983e-02, -6.5150e-04, -2.0282e-03,  ..., -2.3535e-02,\n",
       "          -2.8496e-03,  4.5516e-03]]),\n",
       " 'encoder.layer.2.output.dense.bias': tensor([-5.0451e-03, -5.3231e-02, -1.3621e-02,  2.6089e-02, -2.6305e-02,\n",
       "         -3.1617e-02,  4.0104e-02, -5.6139e-02, -5.6364e-02,  2.9131e-02,\n",
       "         -5.6504e-02, -9.9551e-03,  9.7701e-02,  2.5521e-02, -8.0962e-02,\n",
       "          4.3888e-02,  4.4531e-02,  1.9648e-02, -1.4107e-02, -2.1413e-04,\n",
       "          5.9648e-03, -4.2451e-03, -1.3140e-02,  3.5119e-02,  3.2781e-02,\n",
       "          5.0099e-02,  7.9602e-02, -2.5639e-02,  2.8090e-03,  5.0867e-02,\n",
       "         -4.0432e-02,  3.7609e-02, -3.1027e-02,  6.4089e-02,  7.0873e-02,\n",
       "         -2.9735e-02, -5.3217e-02, -1.5311e-01, -1.2388e-01,  5.9866e-02,\n",
       "         -4.9192e-02, -2.7771e-02, -2.7472e-02, -6.0816e-02, -6.9823e-02,\n",
       "         -2.5150e-02, -1.1728e-01, -1.4210e-01,  8.4000e-02, -4.0077e-03,\n",
       "         -2.6526e-02, -4.6995e-02,  4.6989e-03,  5.6910e-02, -7.2895e-02,\n",
       "         -1.0506e-01,  8.1144e-02, -1.0651e-02,  1.3084e-01,  7.3057e-02,\n",
       "         -1.5584e-02,  1.3895e-01, -7.2032e-03, -5.2625e-03, -1.7163e-02,\n",
       "         -4.3091e-02, -2.4618e-02,  3.2362e-03,  4.0387e-03, -4.7263e-02,\n",
       "          4.8904e-02, -6.1903e-02,  5.2708e-02, -3.2727e-02, -1.5206e-02,\n",
       "         -1.8118e-02, -2.4667e-02, -4.9802e-02, -1.0651e-01, -3.5942e-02,\n",
       "          1.6727e-02,  5.1589e-02, -6.1915e-03,  1.4924e-01, -3.9057e-02,\n",
       "          7.9529e-02, -2.5998e-02, -6.9731e-02, -7.4145e-02, -8.9428e-02,\n",
       "         -1.1536e-01,  2.2966e-02,  2.4804e-04,  8.1229e-03,  9.7941e-02,\n",
       "          2.4478e-02,  9.0686e-02,  1.3139e-02,  9.4754e-04,  2.3110e-01,\n",
       "         -2.1989e-02, -3.1967e-02,  4.8193e-03, -2.2662e-02, -2.9768e-02,\n",
       "          6.8294e-02, -2.2636e-02,  5.8706e-02, -7.6806e-02, -3.1644e-02,\n",
       "          3.1068e-02,  2.5505e-03,  2.1047e-02, -1.7797e-02,  5.8082e-03,\n",
       "          9.5617e-05,  4.9693e-03, -9.6943e-03, -2.6904e-02, -2.3712e-02,\n",
       "         -1.0557e-01,  2.7230e-02, -4.1708e-02,  3.9797e-04, -8.0843e-02,\n",
       "          6.5149e-03, -2.0311e-02,  1.3099e-01,  4.6172e-02,  3.9267e-02,\n",
       "         -1.2813e-01,  1.3301e-02, -1.1547e-01,  4.7571e-02, -5.4461e-02,\n",
       "         -2.4570e-02,  5.0810e-02,  3.4559e-02,  3.6556e-03,  5.3462e-02,\n",
       "          1.0976e-02, -2.3522e-02, -9.3891e-02, -7.8271e-02, -3.4913e-02,\n",
       "         -6.9874e-02, -1.0743e-01, -6.1018e-02, -6.1119e-02, -5.7265e-02,\n",
       "         -5.7374e-02,  1.4895e-03, -1.1996e-02, -7.7495e-02, -9.9507e-02,\n",
       "         -1.9335e-02,  3.0806e-02,  5.9311e-02, -2.3555e-02, -4.4881e-02,\n",
       "         -4.9455e-02, -1.9323e-02,  1.2921e-01,  4.3951e-02, -7.5926e-02,\n",
       "         -6.9993e-02,  2.8317e-02,  4.5783e-02,  8.4160e-02,  1.4835e-02,\n",
       "          5.9679e-02,  3.2833e-02,  6.1523e-02, -2.4360e-02,  2.4838e-02,\n",
       "         -2.4555e-02,  4.9124e-02,  3.6123e-04, -9.1722e-02, -3.8532e-02,\n",
       "          6.0323e-02, -1.7998e-02,  8.6233e-03,  7.2617e-02,  2.9134e-03,\n",
       "          5.1952e-02,  4.4362e-02, -1.2191e-02, -4.1533e-02,  5.4519e-03,\n",
       "         -7.8142e-02, -4.3765e-03,  3.1371e-02, -7.8858e-02, -3.1828e-03,\n",
       "         -4.9101e-03, -4.5082e-02, -1.1800e-02,  8.5598e-02,  4.0563e-02,\n",
       "          1.6477e-02, -7.5873e-02, -5.9084e-02,  1.2085e-02,  6.9360e-02,\n",
       "         -1.7548e-02,  2.8593e-02,  3.0333e-02, -4.1665e-02,  1.1296e-02,\n",
       "         -3.4236e-02,  3.1995e-03, -6.2487e-02,  3.8302e-02,  5.3388e-02,\n",
       "         -1.8937e-02,  4.3984e-02, -2.0415e-02, -4.9920e-02,  1.8001e-02,\n",
       "         -5.3740e-02,  7.2987e-02,  4.8565e-02, -4.9793e-01,  6.8616e-02,\n",
       "          4.4627e-02,  6.2287e-03, -5.0269e-02,  5.2530e-04, -1.2168e-01,\n",
       "         -4.5055e-02, -6.0451e-02,  1.7086e-02, -6.6096e-02, -3.0518e-02,\n",
       "         -8.1995e-03,  8.4517e-02, -2.8963e-02, -1.0109e-02,  8.3363e-03,\n",
       "          5.5425e-02, -4.5842e-02,  3.4895e-02, -6.9984e-02,  4.2582e-02,\n",
       "         -4.6797e-02,  5.6943e-02,  8.3512e-03,  8.4918e-02, -7.6968e-02,\n",
       "          2.7953e-02,  4.5138e-02,  1.2618e-02,  7.1589e-02,  3.1008e-02,\n",
       "          5.9045e-02, -4.9777e-02,  2.2471e-03,  1.2262e-01,  7.9893e-03,\n",
       "         -1.2555e-02,  4.4216e-02, -4.9806e-02,  4.0193e-02,  3.4659e-03,\n",
       "          8.0357e-02, -5.3438e-02,  5.7288e-02,  2.5332e-02,  4.7036e-02,\n",
       "          6.2770e-03,  6.6189e-02,  6.3567e-02,  1.7361e-02,  7.0389e-02,\n",
       "         -1.0882e-01, -5.9790e-02, -1.6793e-02, -2.3774e-02, -4.5855e-02,\n",
       "          3.0345e-02, -4.4875e-03,  1.2190e-02, -7.7927e-03,  5.7479e-02,\n",
       "         -1.3352e-01,  7.5138e-02,  1.2119e-01,  6.7055e-02,  7.5375e-02,\n",
       "          1.1147e-01, -1.6701e-02, -6.9129e-02, -2.4704e-02,  2.3543e-02,\n",
       "          9.3689e-03, -7.4867e-04, -3.6980e-02,  1.2125e-02, -8.2494e-03,\n",
       "          6.0546e-02,  3.1720e-02,  6.8268e-02,  9.3559e-03, -7.7155e-02,\n",
       "          6.9279e-02,  8.6627e-02,  2.3801e-02,  1.6801e-02,  5.0584e-02,\n",
       "          3.6052e-02, -4.2378e-02,  7.6252e-02, -8.0987e-03, -6.8893e-02,\n",
       "         -9.6902e-02,  2.1349e-02,  3.7332e-02,  2.4700e-02,  9.1324e-03,\n",
       "          5.3309e-02,  5.8988e-02,  2.0277e-02, -1.8039e-02, -5.1564e-02,\n",
       "          1.7923e-02, -1.6828e-02, -1.0375e-03, -1.1012e-02, -1.5217e-02,\n",
       "         -1.3230e-02, -7.6429e-03,  1.6836e-02,  8.6760e-02,  1.2585e-02,\n",
       "          9.1898e-02,  7.5764e-02,  6.1538e-03, -9.6572e-02,  1.0883e-02,\n",
       "         -2.9062e-02,  4.2212e-02, -7.8190e-02, -1.8227e-03,  4.1181e-02,\n",
       "         -1.1708e-01, -1.9103e-02,  9.7146e-02,  5.2883e-02, -6.5258e-02,\n",
       "          7.3484e-02,  1.8123e-02,  2.9669e-02,  1.7380e-02,  1.3537e-02,\n",
       "          1.0248e-01, -4.2078e-02,  6.3226e-02,  1.0581e-01, -4.3724e-02,\n",
       "          7.9036e-02, -1.7963e-02,  4.1855e-02,  4.2303e-02,  1.4493e-02,\n",
       "          2.8273e-02,  1.0412e-01,  4.3549e-02,  2.5551e-02, -3.6110e-03,\n",
       "          1.4460e-01, -1.8454e-02, -5.7372e-02, -8.5220e-02, -7.5682e-02,\n",
       "         -9.6390e-02, -2.4807e-02, -3.3605e-02,  2.8038e-03,  6.7060e-02,\n",
       "         -3.2585e-02, -6.3339e-02,  4.3555e-02, -2.1629e-02]),\n",
       " 'encoder.layer.2.output.LayerNorm.weight': tensor([0.6331, 0.6626, 0.5599, 0.4969, 0.7540, 0.6287, 0.6961, 0.6279, 0.6084,\n",
       "         0.5775, 0.6080, 0.7181, 0.4462, 0.5318, 0.6738, 0.6213, 0.6904, 0.6312,\n",
       "         0.7198, 0.6885, 0.7370, 0.6953, 0.6067, 0.5588, 0.7082, 0.5456, 0.6152,\n",
       "         0.5698, 0.7132, 0.5445, 0.5157, 0.7244, 0.7185, 0.5940, 0.6550, 0.7203,\n",
       "         0.5994, 0.5789, 0.5715, 0.5851, 0.5356, 0.5931, 0.6501, 0.6038, 0.5578,\n",
       "         0.6524, 0.5593, 0.6204, 0.7037, 0.5977, 0.7345, 0.6001, 0.6044, 0.7157,\n",
       "         0.5498, 0.7005, 0.5735, 0.6691, 0.5225, 0.5614, 0.7356, 0.5207, 0.5908,\n",
       "         0.6536, 0.7288, 0.6337, 0.5621, 0.7220, 0.6924, 0.7000, 0.6593, 0.5622,\n",
       "         0.6486, 0.6730, 0.6051, 0.5986, 0.5573, 0.6162, 0.6587, 0.7116, 0.7267,\n",
       "         0.7267, 0.5796, 0.6543, 0.6651, 0.5680, 0.6010, 0.6331, 0.7107, 0.5626,\n",
       "         0.6386, 0.7141, 0.7129, 0.5663, 0.7426, 0.6170, 0.5020, 0.7088, 0.7214,\n",
       "         0.4950, 0.5495, 0.5994, 0.7486, 0.7082, 0.6138, 0.5078, 0.6034, 0.7316,\n",
       "         0.5551, 0.6059, 0.5835, 0.5820, 0.7402, 0.6123, 0.6702, 0.7029, 0.6850,\n",
       "         0.5350, 0.7173, 0.7166, 0.6878, 0.5517, 0.7207, 0.5960, 0.6640, 0.6399,\n",
       "         0.6700, 0.5501, 0.6193, 0.7101, 0.5694, 0.7325, 0.6807, 0.4990, 0.6432,\n",
       "         0.5641, 0.6218, 0.7328, 0.6622, 0.7527, 0.6839, 0.7164, 0.7003, 0.6869,\n",
       "         0.7151, 0.7542, 0.6966, 0.4533, 0.5503, 0.6941, 0.5088, 0.7075, 0.5824,\n",
       "         0.6834, 0.5784, 0.5716, 0.7187, 0.6660, 0.6283, 0.5177, 0.6752, 0.5590,\n",
       "         0.4809, 0.7178, 0.6525, 0.6867, 0.4703, 0.5458, 0.6125, 0.5749, 0.7005,\n",
       "         0.5597, 0.7147, 0.6852, 0.6655, 0.5568, 0.6986, 0.5593, 0.5932, 0.5311,\n",
       "         0.7429, 0.5882, 0.7262, 0.5321, 0.5986, 0.6865, 0.6283, 0.5944, 0.6264,\n",
       "         0.7011, 0.7517, 0.7131, 0.7484, 0.6807, 0.6225, 0.6037, 0.6708, 0.6837,\n",
       "         0.7053, 0.5412, 0.7745, 0.7237, 0.5968, 0.5745, 0.7036, 0.6047, 0.7338,\n",
       "         0.6913, 0.7375, 0.6700, 0.6246, 0.7160, 0.7153, 0.6743, 0.5599, 0.7181,\n",
       "         0.6618, 0.6026, 0.7245, 0.5158, 0.7321, 0.7632, 0.6848, 0.2940, 0.7484,\n",
       "         0.6717, 0.7213, 0.7148, 0.6095, 0.5738, 0.7297, 0.6813, 0.7509, 0.7775,\n",
       "         0.7003, 0.6366, 0.6861, 0.5053, 0.7270, 0.6864, 0.7299, 0.6944, 0.5980,\n",
       "         0.5769, 0.6388, 0.7603, 0.7405, 0.7366, 0.6039, 0.6133, 0.7106, 0.7312,\n",
       "         0.7486, 0.6293, 0.6360, 0.6481, 0.7406, 0.5630, 0.5981, 0.7196, 0.7586,\n",
       "         0.7343, 0.6103, 0.6767, 0.6117, 0.6469, 0.7317, 0.4993, 0.5924, 0.6679,\n",
       "         0.7206, 0.7120, 0.7399, 0.5496, 0.7400, 0.6387, 0.6912, 0.7258, 0.5598,\n",
       "         0.7306, 0.7118, 0.6691, 0.7311, 0.5375, 0.6243, 0.6297, 0.6259, 0.6902,\n",
       "         0.7447, 0.6036, 0.5636, 0.7222, 0.6906, 0.5448, 0.6639, 0.6908, 0.7395,\n",
       "         0.7357, 0.6624, 0.7150, 0.7031, 0.7146, 0.5418, 0.7211, 0.7358, 0.6142,\n",
       "         0.6560, 0.6303, 0.7020, 0.6899, 0.7355, 0.6426, 0.5428, 0.5943, 0.6271,\n",
       "         0.6385, 0.7007, 0.6891, 0.5534, 0.5400, 0.4737, 0.6446, 0.7398, 0.6128,\n",
       "         0.6485, 0.7356, 0.6984, 0.7027, 0.5700, 0.7443, 0.6788, 0.5896, 0.7262,\n",
       "         0.6536, 0.6768, 0.5795, 0.5423, 0.6137, 0.6332, 0.5741, 0.6493, 0.5841,\n",
       "         0.6833, 0.7199, 0.5494, 0.5284, 0.6188, 0.6253, 0.5949, 0.7117, 0.5412,\n",
       "         0.7746, 0.5944, 0.6029, 0.7580, 0.5779, 0.6637, 0.5999, 0.5800, 0.6444,\n",
       "         0.5379, 0.7208, 0.6547, 0.7620, 0.7632, 0.6085, 0.6879, 0.7059, 0.5556,\n",
       "         0.7013, 0.6159, 0.6217, 0.5230, 0.5402, 0.6190, 0.7225, 0.5554, 0.6017,\n",
       "         0.6443, 0.5522, 0.7403, 0.7230, 0.7084, 0.7482]),\n",
       " 'encoder.layer.2.output.LayerNorm.bias': tensor([ 1.2538e-02,  1.6520e-02,  1.3016e-02,  3.7753e-02,  1.5738e-02,\n",
       "          2.3887e-02,  3.5010e-02,  1.5863e-02,  3.8079e-02,  1.3099e-02,\n",
       "          2.8328e-02,  7.6722e-03, -1.3557e-02,  2.3013e-02,  1.5235e-02,\n",
       "          1.8587e-02,  2.7510e-02, -9.5624e-03,  5.3392e-02,  2.5314e-03,\n",
       "         -9.0182e-03,  5.7103e-02,  1.1523e-02, -1.6209e-02, -2.0822e-02,\n",
       "         -4.6581e-03, -1.2165e-02, -1.5684e-02,  1.2240e-02,  1.1679e-02,\n",
       "          1.8366e-03, -2.6020e-02, -2.1576e-02,  4.6233e-03, -2.0487e-02,\n",
       "          4.1866e-02,  1.4077e-02, -1.1337e-02,  5.7188e-02,  7.7616e-03,\n",
       "         -1.1179e-02,  4.4394e-02, -4.8830e-03,  9.4619e-03,  2.7875e-02,\n",
       "          4.6070e-02,  4.3630e-02,  4.4742e-03,  9.8600e-04,  1.6477e-02,\n",
       "         -1.6887e-02,  8.5149e-03,  2.6510e-02, -1.3941e-02,  4.8997e-02,\n",
       "          3.6572e-02,  7.3841e-03,  2.0020e-02, -1.9465e-02,  2.0583e-02,\n",
       "          6.9471e-03,  3.2868e-03,  1.1833e-01, -2.1474e-02,  6.8772e-03,\n",
       "          5.5939e-03,  1.5995e-03, -1.0368e-02,  6.1177e-03,  4.5165e-02,\n",
       "          3.3414e-02,  4.1245e-02, -2.5370e-02, -1.0333e-02,  3.4423e-02,\n",
       "          5.8915e-03,  2.9312e-02,  4.8136e-02,  2.6202e-02,  3.4385e-02,\n",
       "         -1.7565e-02,  9.2504e-02,  2.2662e-02, -5.9910e-02,  2.2114e-02,\n",
       "          3.5530e-02,  4.2920e-02, -9.1510e-03,  2.7170e-02,  1.8944e-03,\n",
       "         -7.8704e-03,  3.4395e-02,  2.3418e-02, -1.2813e-02, -9.1404e-02,\n",
       "         -1.4629e-02,  3.8278e-02, -5.5558e-02,  2.7799e-02, -2.2510e-02,\n",
       "          2.1637e-02, -1.4021e-02,  1.5910e-02,  7.2763e-03,  1.1216e-02,\n",
       "         -9.7372e-03,  1.7619e-02, -2.3135e-02,  2.9880e-02, -6.5641e-03,\n",
       "          1.8909e-02,  4.2706e-02,  5.9647e-02,  2.2001e-02,  2.6613e-03,\n",
       "          4.3659e-02, -9.1638e-03,  9.7810e-03,  3.3440e-02,  2.5295e-02,\n",
       "         -1.3402e-03,  2.3554e-02,  8.8497e-03, -5.3459e-03, -3.5765e-02,\n",
       "         -5.3925e-02,  1.9358e-02, -3.4497e-02,  2.0599e-02,  4.5625e-02,\n",
       "          5.5785e-02,  1.3632e-01,  3.8988e-02, -4.9372e-03, -3.5130e-02,\n",
       "         -1.7003e-03,  1.4028e-03, -5.9719e-02,  2.0380e-03, -3.2609e-02,\n",
       "         -2.2228e-02,  4.4271e-03,  7.0841e-02,  3.2075e-02,  2.9664e-02,\n",
       "          7.2133e-02,  8.9747e-03,  3.4599e-02,  2.7056e-02,  5.6618e-02,\n",
       "          4.1165e-02,  2.9281e-02,  2.5051e-02,  1.2855e-02,  2.0208e-02,\n",
       "          1.1422e-02,  2.3471e-02, -1.8470e-01,  9.9696e-03,  1.7652e-02,\n",
       "         -1.2855e-02, -1.7697e-02, -1.7164e-02, -9.8189e-02,  5.6511e-03,\n",
       "          2.8151e-02,  1.2512e-02,  2.1421e-02,  6.3759e-02, -2.1923e-02,\n",
       "          1.6363e-02,  1.4760e-02,  2.7128e-02,  6.7041e-03,  5.7125e-04,\n",
       "         -1.3930e-02,  4.0183e-02, -3.5383e-03,  2.9552e-02,  3.1850e-02,\n",
       "          2.8934e-03,  5.9434e-03,  1.2130e-02, -7.0433e-03,  5.0003e-02,\n",
       "          7.5761e-03,  1.2018e-02,  3.0458e-02,  2.7213e-02, -9.4187e-02,\n",
       "          7.1708e-02, -2.8041e-02,  6.1619e-02,  7.4405e-03, -5.2292e-03,\n",
       "          9.4354e-03, -1.6042e-02,  5.6047e-02, -1.0005e-01,  5.2146e-03,\n",
       "         -1.6773e-02,  3.7125e-02,  8.3163e-03,  3.3238e-02, -4.3740e-02,\n",
       "          1.4416e-02,  4.3956e-02,  4.1899e-02,  4.7200e-02, -4.2560e-03,\n",
       "          1.1961e-02, -4.3726e-02, -1.9767e-02,  3.8903e-02,  3.3662e-02,\n",
       "          7.9725e-03,  3.5154e-02,  2.2412e-02,  1.1820e-02, -5.6177e-05,\n",
       "          1.3467e-02,  7.6787e-03, -9.1613e-03, -1.0531e-01,  9.1788e-03,\n",
       "          5.0077e-03, -2.6739e-03,  7.4775e-03,  4.9989e-02,  4.9727e-02,\n",
       "          2.0904e-02,  1.2130e-02, -8.9827e-02,  3.2943e-03,  1.0902e-02,\n",
       "         -1.7807e-02, -7.1674e-02,  3.8440e-02,  3.6159e-01, -6.6277e-02,\n",
       "          4.1548e-02,  1.3812e-02,  1.9886e-02,  1.5364e-02,  2.3338e-02,\n",
       "          1.3328e-01,  2.3770e-01,  6.2676e-02,  1.4846e-02, -8.8898e-02,\n",
       "          1.1861e-02, -1.7741e-02, -6.5982e-02, -5.0403e-03,  3.5986e-02,\n",
       "          1.7267e-02,  4.8306e-02,  1.7866e-02,  1.7765e-02,  4.3430e-02,\n",
       "          4.1826e-02,  2.0785e-02,  2.1493e-02, -7.9747e-03, -7.7708e-03,\n",
       "          2.0055e-02,  3.6955e-04, -1.6789e-01,  3.0545e-02,  4.0494e-03,\n",
       "          8.4877e-02, -1.7450e-03, -1.0111e-02,  7.1364e-03, -4.5408e-02,\n",
       "          4.6770e-02,  1.4613e-03,  5.9425e-02, -2.0686e-02,  5.7231e-02,\n",
       "         -1.2511e-01,  4.5416e-02, -9.5008e-03,  1.0676e-02,  8.1898e-03,\n",
       "         -1.8477e-03, -1.9595e-02, -3.6289e-03, -6.7737e-02,  8.0673e-03,\n",
       "         -3.4166e-02,  1.2480e-03,  9.8312e-03,  3.4155e-02, -6.1271e-03,\n",
       "          4.1614e-03,  7.1779e-03,  1.0983e-01,  3.0067e-02,  1.2450e-03,\n",
       "         -4.0934e-03,  6.9484e-02, -2.6644e-02,  1.1382e-01,  5.9726e-02,\n",
       "         -1.8412e-02, -4.6705e-02, -2.2315e-02,  2.0796e-02, -1.7084e-02,\n",
       "         -2.6508e-02,  4.4537e-02,  6.1947e-03,  9.8289e-03,  2.2875e-02,\n",
       "         -2.4242e-03, -2.4821e-03,  4.4255e-03, -5.3164e-03, -1.9671e-02,\n",
       "         -6.9434e-03,  2.5747e-02,  6.8564e-02,  7.6715e-03,  4.2460e-02,\n",
       "          1.3720e-02, -3.3426e-02, -1.0694e-02,  2.8411e-02,  3.7041e-02,\n",
       "         -8.8362e-03,  1.9255e-02,  5.5817e-02, -1.4675e-02,  2.5486e-02,\n",
       "          3.5238e-03,  1.9417e-02,  2.2728e-02,  1.0388e-01,  1.5241e-02,\n",
       "          2.8628e-02, -1.4361e-02,  1.4837e-02,  2.3822e-02, -1.9556e-03,\n",
       "          4.0984e-02,  6.7917e-03, -2.5285e-01, -5.9833e-04,  5.6425e-03,\n",
       "          2.6367e-03, -3.6289e-02,  9.8062e-04, -4.4073e-03, -5.4178e-02,\n",
       "          3.3222e-03,  1.0474e-02,  3.1923e-02,  4.3535e-03,  5.2878e-03,\n",
       "         -1.3500e-03, -1.3108e-02,  1.5619e-02, -7.7755e-03,  3.6124e-02,\n",
       "         -1.7534e-02,  1.1049e-03, -4.9595e-03, -4.1998e-02, -7.0052e-03,\n",
       "          1.3073e-02, -3.3668e-02,  5.4931e-02,  3.4355e-02,  3.7225e-02,\n",
       "          3.0950e-02,  1.3765e-02,  3.6784e-02,  1.4636e-02, -3.6974e-02,\n",
       "          3.7692e-02,  1.1681e-02,  2.9831e-02, -6.0510e-02]),\n",
       " 'encoder.layer.3.attention.self.query.weight': tensor([[ 0.0500,  0.0310, -0.0090,  ...,  0.0304, -0.0062, -0.1126],\n",
       "         [-0.0620,  0.0196,  0.0181,  ...,  0.0085, -0.0200, -0.0223],\n",
       "         [ 0.0986, -0.0202, -0.1268,  ..., -0.0182,  0.0023, -0.1203],\n",
       "         ...,\n",
       "         [-0.1976, -0.0166,  0.2475,  ..., -0.0010,  0.0912, -0.0715],\n",
       "         [-0.1038, -0.0803,  0.0911,  ...,  0.1317,  0.1025, -0.0375],\n",
       "         [ 0.0093,  0.0179,  0.0083,  ...,  0.0514, -0.0282, -0.0316]]),\n",
       " 'encoder.layer.3.attention.self.query.bias': tensor([ 2.7841e-01, -5.0389e-01, -3.3247e-02, -2.9020e-01, -3.1767e-01,\n",
       "         -1.0970e-01, -1.4268e-01,  9.1153e-02,  8.7088e-02,  1.6305e-01,\n",
       "         -5.2989e-01,  4.5597e-02,  1.1930e-01, -4.0143e-01, -5.0140e-01,\n",
       "          1.4886e-01, -4.7128e-01,  5.1098e-01,  2.8033e-01,  1.4489e-02,\n",
       "         -5.0381e-01,  2.3084e-02, -3.0921e-01,  3.4860e-01,  2.0915e-01,\n",
       "          1.6135e-01,  4.1269e-01,  7.5200e-02, -4.8025e-01, -5.7033e-02,\n",
       "         -1.7271e-01,  3.6002e-01,  2.4786e-01,  1.6306e-01,  2.5158e-01,\n",
       "          2.2667e-02, -4.4973e-02,  3.2413e-03, -9.8496e-02,  1.0615e-01,\n",
       "         -2.8383e-01,  1.7567e-01,  2.7146e-01,  2.8015e-01, -2.6667e-01,\n",
       "         -1.2002e-01, -2.4980e-01, -9.9809e-05,  1.5109e-01,  1.0075e-01,\n",
       "          2.7424e-01, -2.1709e-01, -9.2212e-02, -5.5278e-02,  9.0369e-02,\n",
       "          1.7932e-01,  1.9924e-01, -1.3102e-01, -1.8780e-01, -2.3522e-01,\n",
       "         -8.9745e-02,  2.8428e-01,  1.8685e-01, -2.1319e-01,  2.6524e-01,\n",
       "          2.1885e-02, -2.1402e-01, -7.2341e-04, -3.3423e-01, -1.7240e-01,\n",
       "         -2.6418e-01, -2.3911e-01, -2.9484e-01,  2.8277e-01,  2.7718e-03,\n",
       "         -1.8979e-02, -1.7599e-01, -5.6331e-02, -3.6280e-01, -2.0063e-02,\n",
       "         -8.4998e-02,  7.4969e-02, -2.1898e-01,  3.5117e-01, -2.2572e-01,\n",
       "          7.9475e-02, -2.9690e-01, -3.1533e-01,  1.1116e-01,  5.3205e-02,\n",
       "         -6.0218e-02,  2.1566e-01,  1.5663e-01,  1.6285e-01, -2.5732e-01,\n",
       "          1.4392e-01,  1.2174e-01, -1.0284e-01, -2.1016e-01, -2.6646e-01,\n",
       "          2.2477e-01, -8.8466e-02,  3.7026e-02,  1.6444e-01, -7.7051e-02,\n",
       "          1.9684e-01, -6.9737e-02, -2.1043e-01, -6.6784e-02,  2.0596e-01,\n",
       "         -5.0259e-02,  9.0013e-02, -6.5586e-02, -1.4454e-01,  2.3039e-01,\n",
       "          1.2998e-01,  1.6954e-01,  1.5484e-01, -1.1555e-01, -1.8419e-01,\n",
       "         -1.6790e-01, -3.0904e-02, -1.5873e-01, -1.1038e-01, -2.0794e-02,\n",
       "          2.2509e-01, -6.4744e-02, -9.2196e-02,  1.4782e-01, -7.6756e-03,\n",
       "          1.8708e-01,  6.7632e-02,  1.5618e-01, -2.6760e-03,  1.4636e-01,\n",
       "         -2.8177e-02,  7.2237e-02,  1.4769e-02,  1.0528e-01,  1.1915e-01,\n",
       "         -1.8546e-01,  3.1854e-02, -1.2031e-02, -1.2006e-01,  1.2803e-01,\n",
       "         -9.7800e-02, -6.6911e-02, -1.8245e-01,  1.4532e-01, -1.3240e-01,\n",
       "          1.9954e-01,  1.2641e-01, -7.8086e-02, -2.5172e-01, -1.4742e-01,\n",
       "         -7.3552e-02, -1.0099e-02, -1.2765e-01,  6.0853e-02, -6.7450e-02,\n",
       "         -7.5550e-02,  2.0477e-01,  3.6737e-02, -5.8456e-03, -3.2412e-01,\n",
       "          3.1172e-01,  1.2842e-01,  3.2673e-01,  2.5130e-01, -2.1485e-01,\n",
       "          2.8900e-01,  9.5446e-02, -1.5631e-01,  1.5127e-01, -3.2219e-01,\n",
       "         -3.3417e-01, -1.3245e-01, -3.5953e-01,  3.0012e-01, -3.3908e-01,\n",
       "          2.0031e-01, -2.7816e-01,  1.5855e-01, -9.7055e-02, -1.6748e-01,\n",
       "          2.8676e-01, -5.3580e-02,  2.7484e-01, -2.3478e-01, -2.0518e-02,\n",
       "         -1.9742e-01,  3.4499e-01, -3.2962e-02,  6.0599e-02,  4.0470e-02,\n",
       "         -9.0720e-02, -5.3276e-02,  1.6619e-01, -5.9987e-03, -1.3454e-01,\n",
       "         -8.3724e-02,  1.9780e-02,  5.9289e-02, -2.6585e-02, -1.0672e-01,\n",
       "          1.2170e-01, -3.3116e-02,  1.0761e-01, -1.6351e-01,  1.2060e-02,\n",
       "         -2.3205e-01, -9.0568e-03,  3.7202e-02, -3.0912e-02, -4.6524e-02,\n",
       "          1.0763e-02,  1.5433e-01,  1.6491e-01,  5.5928e-02, -2.1220e-01,\n",
       "         -1.5572e-01, -4.8525e-02,  1.5484e-02,  1.9937e-02,  2.4419e-01,\n",
       "         -2.2128e-01, -1.6021e-01, -9.5696e-02,  1.5857e-01, -4.0096e-02,\n",
       "          1.0532e-01,  7.4951e-03,  2.3982e-01, -1.7672e-02, -2.6618e-01,\n",
       "          1.2970e-01,  7.2143e-04, -9.7100e-02, -5.9670e-02, -1.6444e-01,\n",
       "          2.4533e-02,  3.4871e-02,  4.2443e-02, -1.1861e-01,  1.3854e-01,\n",
       "          2.1967e-01,  2.5624e-01, -6.2843e-02,  2.5016e-01,  9.1737e-02,\n",
       "          2.8221e-01, -1.9934e-01, -9.9340e-03,  7.1923e-02,  2.7548e-02,\n",
       "          1.1269e-01,  2.1885e-01,  1.6477e-01, -3.8596e-02, -1.8214e-02,\n",
       "         -4.0025e-01, -5.4382e-01, -1.2165e-01,  1.0278e-01,  1.6625e-02,\n",
       "          3.3897e-02, -2.1174e-01,  4.2758e-02, -3.8164e-01, -4.0919e-01,\n",
       "         -4.6124e-01,  2.2002e-01, -4.2402e-01,  2.9028e-01,  4.4082e-01,\n",
       "          8.7587e-02, -2.8912e-01,  1.5913e-01, -3.5374e-01,  4.8893e-02,\n",
       "          2.9071e-01, -4.8684e-01,  6.4509e-02, -2.0645e-01, -2.0831e-01,\n",
       "         -1.9530e-01, -3.5812e-01,  2.0509e-01, -2.8439e-02,  1.0595e-01,\n",
       "          1.9642e-02,  2.9260e-01, -1.6443e-01, -4.5449e-02, -1.5877e-01,\n",
       "         -3.5988e-02, -9.9950e-02,  2.9499e-02,  4.2339e-02,  2.6409e-01,\n",
       "          7.8379e-02,  1.7992e-01, -1.0255e-02,  2.6917e-01, -2.4583e-01,\n",
       "         -8.0300e-03, -2.9378e-01,  2.4846e-01, -6.6915e-02,  7.9827e-02,\n",
       "          2.1929e-01, -3.2735e-01, -2.3772e-01, -2.4158e-02, -2.3487e-01,\n",
       "          2.4026e-01,  1.0915e-01,  1.1782e-01, -2.6216e-01, -3.6742e-02,\n",
       "         -1.5929e-01,  7.9789e-02, -3.5127e-01, -2.9155e-01,  1.7761e-02,\n",
       "          5.6598e-02,  8.7025e-02, -2.9963e-01, -2.5790e-01, -6.6962e-02,\n",
       "         -3.3183e-01, -2.9266e-01,  1.0374e-01, -3.7910e-01, -3.1238e-01,\n",
       "          2.9561e-01, -7.7880e-02,  1.7978e-01, -3.3407e-01, -1.0202e-01,\n",
       "          3.3232e-01,  3.6532e-01, -3.2820e-01, -3.0853e-01,  2.3940e-01,\n",
       "         -3.9550e-01,  3.1206e-01, -1.3587e-01,  2.2106e-01, -2.0702e-01,\n",
       "         -2.4906e-01, -1.6515e-01,  4.5756e-02, -1.1721e-02,  2.1622e-02,\n",
       "         -5.2868e-02,  4.7843e-02,  1.3763e-01, -1.3955e-01, -3.2124e-02,\n",
       "          5.6587e-02, -4.7442e-02,  1.0256e-01, -8.6682e-03, -3.2258e-02,\n",
       "         -6.0405e-02, -8.5393e-02, -4.9894e-02,  5.1191e-02,  1.7729e-02,\n",
       "          2.6728e-02,  3.5061e-02,  6.1682e-02, -3.3595e-02,  1.0911e-01,\n",
       "          5.4974e-02,  8.2584e-02, -8.1632e-02,  1.3393e-01, -3.7052e-02,\n",
       "          6.8042e-02, -8.6119e-02,  5.0123e-02,  9.6137e-02]),\n",
       " 'encoder.layer.3.attention.self.key.weight': tensor([[ 0.0353,  0.0305,  0.0492,  ...,  0.0381, -0.0161, -0.0579],\n",
       "         [-0.0090,  0.0441, -0.0631,  ...,  0.0364, -0.0169,  0.0353],\n",
       "         [ 0.0437,  0.0525,  0.0038,  ..., -0.1160, -0.0138, -0.0591],\n",
       "         ...,\n",
       "         [ 0.1314,  0.0689,  0.0706,  ...,  0.0503,  0.0703, -0.0306],\n",
       "         [-0.0861,  0.0014, -0.0591,  ..., -0.0356, -0.0015, -0.0985],\n",
       "         [-0.0689,  0.0237,  0.1085,  ..., -0.1228, -0.0016,  0.0768]]),\n",
       " 'encoder.layer.3.attention.self.key.bias': tensor([ 4.9125e-04, -1.4378e-03, -4.0126e-04, -1.2784e-03, -1.0298e-03,\n",
       "         -4.3991e-04, -9.5343e-04,  1.5066e-04,  7.0557e-04, -1.0132e-04,\n",
       "         -1.2640e-03, -6.2120e-05,  6.1829e-05, -2.2195e-04, -4.5834e-04,\n",
       "         -1.2313e-05, -9.8854e-04,  1.6621e-03, -7.6241e-05, -7.0770e-05,\n",
       "         -8.4855e-04,  9.0167e-04, -6.6009e-04,  3.1205e-04, -8.8880e-04,\n",
       "         -4.4962e-04,  7.8537e-04,  5.0845e-04,  5.3093e-04,  4.5048e-05,\n",
       "         -8.8827e-04,  3.6954e-04,  2.5086e-04, -1.6148e-04,  6.3764e-05,\n",
       "          2.0916e-04, -4.2789e-04, -6.6659e-04,  1.0735e-04,  1.1510e-03,\n",
       "          2.0513e-04, -1.9690e-03, -2.8492e-04,  7.2320e-04, -6.6339e-05,\n",
       "         -3.3113e-04, -2.9838e-05, -3.4861e-04, -1.6012e-03,  5.0544e-04,\n",
       "          3.7643e-04, -2.3445e-05,  7.4410e-05, -1.3205e-03, -3.0305e-04,\n",
       "          3.7363e-04,  8.0071e-05,  1.2851e-04, -1.5119e-04,  9.5233e-04,\n",
       "         -4.4113e-04, -1.3955e-03, -1.0897e-03, -3.6953e-04,  3.9104e-04,\n",
       "          1.2261e-03, -1.3778e-04,  2.9383e-04, -1.5097e-04,  5.3253e-04,\n",
       "          6.7769e-04,  1.0097e-03, -5.6212e-06, -1.4730e-05,  1.8625e-04,\n",
       "          1.6717e-04,  3.0904e-04,  3.3404e-04,  2.6114e-04, -1.0352e-03,\n",
       "         -6.7790e-04,  1.8339e-04,  3.6049e-04, -1.5716e-03, -3.8881e-05,\n",
       "         -4.5219e-04,  1.6542e-03,  8.5011e-04,  2.8907e-04,  3.0389e-04,\n",
       "         -2.5464e-04, -1.2885e-03,  1.0394e-03,  1.3779e-03,  1.0940e-03,\n",
       "          7.5867e-04, -1.2059e-03, -4.9751e-04,  1.0972e-03,  1.8045e-03,\n",
       "         -1.2803e-04,  3.7404e-04,  8.1311e-04, -2.2114e-03,  5.7510e-04,\n",
       "         -3.0933e-03, -7.0849e-05, -1.6120e-04,  3.7203e-04,  1.7607e-04,\n",
       "          2.2177e-03, -2.3584e-03, -4.8340e-04, -3.6195e-04,  1.0038e-05,\n",
       "         -6.3032e-05, -5.9145e-05, -2.9689e-03, -1.1713e-03,  1.6421e-03,\n",
       "          5.1917e-04,  6.8544e-04,  2.9088e-03,  1.3412e-03,  1.1808e-03,\n",
       "         -1.6978e-03, -1.7783e-03,  2.9068e-03,  1.7631e-03,  1.3771e-03,\n",
       "         -2.6156e-04,  1.4320e-03,  1.4769e-03,  1.0771e-03, -2.5261e-04,\n",
       "          9.8237e-04, -6.1259e-04,  4.6747e-04,  2.4911e-03,  5.1431e-04,\n",
       "         -2.5974e-04, -7.0845e-04, -2.0805e-03, -1.5455e-03,  9.1278e-04,\n",
       "          6.1285e-04,  5.2794e-04, -5.9449e-04,  6.8637e-04,  5.8000e-05,\n",
       "         -8.6471e-04,  2.1427e-03, -1.0225e-03, -1.7653e-03,  5.0938e-04,\n",
       "         -1.5191e-04, -2.5569e-04, -2.6975e-04,  1.2234e-03,  8.0097e-04,\n",
       "          1.2527e-04,  7.3415e-04,  1.8543e-03,  5.2244e-04, -3.0281e-04,\n",
       "          9.9213e-04, -1.3105e-03,  1.5404e-03,  6.5180e-04, -1.0073e-04,\n",
       "          6.4671e-04,  8.7019e-04, -9.5846e-04,  5.8265e-04, -5.6366e-04,\n",
       "         -4.3686e-05,  2.4455e-04,  5.6786e-04, -1.3263e-04, -6.4346e-05,\n",
       "         -5.3866e-04, -6.6023e-04,  1.3940e-03, -1.2100e-03,  1.1748e-03,\n",
       "          1.2774e-04, -5.9217e-04, -4.6822e-04,  1.2189e-03, -1.2546e-03,\n",
       "          3.8975e-04, -3.9340e-04,  5.9924e-04,  6.7461e-04, -1.3140e-04,\n",
       "         -2.1728e-05, -3.0750e-04,  1.0941e-04, -7.3432e-05, -4.4822e-04,\n",
       "         -9.3765e-05, -6.2617e-04, -8.6270e-04,  4.3274e-04, -2.4425e-04,\n",
       "          3.2300e-04, -4.3423e-05, -1.5854e-04,  4.2128e-05,  2.0338e-06,\n",
       "          3.5843e-04,  3.2348e-04,  1.8179e-04,  3.7218e-04,  3.8006e-04,\n",
       "         -5.6043e-04, -6.2462e-04, -2.7736e-04,  5.7395e-04, -8.4605e-05,\n",
       "         -5.4683e-04, -3.6090e-04, -1.1149e-04,  4.2997e-04,  3.2777e-04,\n",
       "         -9.1532e-04, -9.6947e-04, -8.4835e-04,  6.2130e-04, -3.9422e-04,\n",
       "         -1.0666e-03, -1.0074e-03,  5.4844e-04,  2.0460e-04, -4.7101e-04,\n",
       "          9.0358e-04, -4.0491e-04, -9.1182e-06, -5.3288e-04,  1.0478e-04,\n",
       "          2.2843e-04, -4.2522e-04,  7.8942e-04, -3.7391e-04,  4.5900e-04,\n",
       "          5.3491e-04, -5.6784e-06, -3.5886e-04, -1.5610e-04, -1.7035e-04,\n",
       "          8.7090e-04, -3.2606e-04,  1.1665e-04,  2.9987e-04, -1.3049e-04,\n",
       "          5.1716e-04,  3.6926e-04,  4.5468e-04,  2.2153e-04, -2.8914e-04,\n",
       "         -9.0894e-04, -8.1861e-04,  6.4611e-04,  5.6576e-04, -1.5976e-03,\n",
       "         -2.3986e-04,  8.5091e-04, -1.0059e-03, -1.4604e-04, -1.9774e-04,\n",
       "          6.7570e-04,  1.3879e-03, -9.8042e-04,  9.7662e-05, -4.8468e-04,\n",
       "         -3.9121e-04, -2.6348e-03,  6.9479e-04,  2.9568e-04, -8.2876e-04,\n",
       "         -1.3569e-05,  2.5832e-04,  5.5049e-04,  1.1108e-03,  4.1356e-04,\n",
       "         -1.4902e-03, -6.8294e-04,  8.7539e-04,  6.2496e-04, -5.7823e-05,\n",
       "          8.8345e-04, -5.1909e-04,  1.3923e-04,  1.5656e-04, -2.9995e-04,\n",
       "         -1.0082e-03,  2.7850e-05, -8.8870e-04,  7.1362e-04,  2.0271e-04,\n",
       "         -9.9093e-04, -4.7038e-05,  1.9050e-05, -8.4530e-05,  1.0647e-03,\n",
       "         -8.4382e-05, -5.5391e-04,  2.8366e-04,  9.2112e-04, -4.0570e-04,\n",
       "         -3.0870e-04,  3.0213e-04,  3.5958e-04,  5.8306e-04,  1.7263e-04,\n",
       "          2.7083e-04,  2.4777e-04,  1.4372e-04, -1.0308e-03, -3.0355e-04,\n",
       "         -6.0916e-06,  3.9355e-04, -2.8263e-04, -1.1805e-03, -4.2606e-04,\n",
       "          6.0002e-04,  4.7054e-04, -7.0602e-04, -5.0427e-04,  1.0923e-04,\n",
       "         -6.7426e-04, -1.5267e-03,  9.8302e-05, -4.2357e-04, -9.7008e-04,\n",
       "          1.1969e-03, -2.8824e-04,  6.8815e-04, -5.1915e-04, -8.1859e-04,\n",
       "          1.0313e-03,  1.3210e-03,  3.1089e-04, -7.6400e-04,  5.4951e-04,\n",
       "         -8.7367e-04,  3.7690e-04,  1.2672e-04,  9.8248e-05, -6.7107e-04,\n",
       "         -5.0210e-04, -1.0590e-03, -5.1323e-04, -1.0322e-04, -5.3528e-04,\n",
       "         -4.4651e-04,  2.2002e-04,  2.1794e-04,  8.5020e-05, -6.2586e-04,\n",
       "          2.5085e-04,  4.6996e-04, -4.0974e-04,  8.1710e-05,  7.2475e-04,\n",
       "         -3.6374e-04,  6.9894e-04,  5.2859e-04, -1.9265e-04, -1.6074e-04,\n",
       "          5.0051e-04,  2.5106e-03, -9.5266e-04,  2.8957e-04,  1.7010e-04,\n",
       "         -6.0905e-04,  6.8710e-05, -4.8105e-04, -4.0573e-04, -9.4741e-04,\n",
       "          9.5017e-05, -1.0615e-06, -4.3813e-04,  2.7208e-04]),\n",
       " 'encoder.layer.3.attention.self.value.weight': tensor([[-0.0637,  0.1077,  0.0674,  ...,  0.0257, -0.0483, -0.0014],\n",
       "         [ 0.1522, -0.0013, -0.2095,  ..., -0.0598,  0.0827,  0.0326],\n",
       "         [ 0.0652,  0.0594,  0.0187,  ..., -0.1188,  0.0438,  0.0126],\n",
       "         ...,\n",
       "         [ 0.0653,  0.0032,  0.1126,  ..., -0.0049, -0.0330,  0.0533],\n",
       "         [ 0.0317, -0.0172, -0.0463,  ...,  0.0383,  0.1089,  0.0478],\n",
       "         [ 0.0666,  0.0063,  0.0453,  ...,  0.0184, -0.0514,  0.0014]]),\n",
       " 'encoder.layer.3.attention.self.value.bias': tensor([ 3.5243e-02,  2.1244e-02, -2.6507e-02, -9.7111e-03, -2.2322e-02,\n",
       "          3.5081e-02, -6.5205e-03, -1.4835e-02,  3.7972e-04,  6.7533e-03,\n",
       "          1.3786e-02, -1.5423e-02, -4.4813e-03, -2.3141e-03, -4.6688e-02,\n",
       "         -2.2544e-02, -5.2912e-03, -1.9988e-02,  4.4159e-03, -3.3661e-02,\n",
       "         -1.6880e-02, -3.4138e-04, -1.2458e-02, -4.2948e-02, -2.1834e-02,\n",
       "          2.4386e-03, -9.7668e-04,  8.2374e-03, -2.2951e-02,  9.0234e-03,\n",
       "          4.9361e-03, -2.2130e-02,  1.2809e-02,  3.5762e-02,  4.2521e-02,\n",
       "         -2.4085e-02, -1.8728e-02,  2.6689e-02,  2.6374e-02,  2.6770e-02,\n",
       "         -4.5847e-02,  7.2902e-03,  2.3409e-02,  2.2420e-02, -1.4924e-02,\n",
       "          9.5206e-05,  5.7604e-02,  5.4374e-02,  1.9625e-02, -4.2966e-02,\n",
       "          1.2835e-02, -2.8531e-02, -1.6022e-02,  3.8473e-02, -1.4653e-02,\n",
       "          7.5319e-03, -2.7123e-02,  6.5747e-02, -4.9333e-02, -1.8727e-02,\n",
       "         -3.1435e-02,  3.8727e-02, -8.5419e-03, -4.1251e-02, -1.4592e-02,\n",
       "          5.9152e-03,  8.2487e-03, -8.9807e-03,  1.5664e-02,  1.3937e-02,\n",
       "          1.7670e-02, -3.0775e-02,  2.2654e-02,  1.2288e-02, -1.5205e-02,\n",
       "          2.2432e-02,  6.6526e-03,  6.4203e-04,  3.1039e-02, -2.4099e-02,\n",
       "          4.7545e-03,  1.2171e-02,  1.7030e-02, -1.5382e-02, -1.3528e-02,\n",
       "         -1.3722e-02, -8.8453e-03, -7.6681e-03, -1.5136e-02, -2.2867e-02,\n",
       "          1.1618e-04,  4.5071e-02,  2.1929e-02,  2.1222e-02, -9.6304e-03,\n",
       "         -7.5250e-03,  1.1649e-02, -1.9305e-02, -4.3082e-02, -1.8555e-02,\n",
       "          1.0226e-02,  8.1659e-03,  1.6414e-02, -1.4466e-02,  1.5532e-02,\n",
       "          1.8207e-02, -3.9083e-02, -3.0989e-02,  1.5149e-02, -2.0227e-02,\n",
       "         -1.4842e-02,  2.4390e-02,  6.0852e-03, -1.6287e-02,  6.4959e-03,\n",
       "         -9.4063e-03,  1.6448e-02, -1.5353e-02, -2.1849e-02, -6.8561e-03,\n",
       "         -2.8649e-02,  1.8071e-02,  1.0479e-02, -1.3511e-02,  2.8049e-02,\n",
       "          1.5884e-02, -4.6485e-04,  1.3680e-02, -2.3303e-02, -2.9747e-02,\n",
       "          2.4489e-02,  4.9013e-04,  5.6164e-03, -2.1971e-02,  1.3213e-02,\n",
       "         -1.8583e-02, -2.2000e-02, -1.9962e-02,  6.3543e-04,  2.3098e-02,\n",
       "          2.2922e-02, -1.5087e-02,  2.5385e-02,  2.5523e-02,  2.1919e-02,\n",
       "         -3.5534e-02, -1.3323e-02, -2.5158e-03,  1.9438e-02, -4.8317e-03,\n",
       "          7.7404e-03,  1.0501e-03, -2.6378e-03, -7.5815e-03, -5.3940e-03,\n",
       "         -4.8862e-03, -5.5623e-02,  4.0257e-02, -5.2529e-03,  2.7001e-02,\n",
       "          3.7639e-04, -5.3280e-03, -1.3958e-04,  5.1804e-03,  2.3193e-02,\n",
       "         -5.7991e-04, -4.4210e-02,  1.1431e-02, -1.4478e-02,  2.8141e-02,\n",
       "         -3.5246e-02,  2.8897e-04, -1.1676e-02, -2.8701e-02,  5.0330e-03,\n",
       "         -8.6505e-03,  1.5431e-03, -9.4068e-03, -1.3830e-02, -2.1151e-02,\n",
       "          5.7189e-03,  5.3131e-03,  3.0792e-02,  1.1983e-02,  1.1759e-02,\n",
       "         -2.6101e-03, -1.0726e-02,  2.5008e-02,  2.4397e-02, -2.0324e-02,\n",
       "         -5.7616e-02, -9.9962e-03, -4.1425e-04,  6.4233e-03, -1.0372e-02,\n",
       "         -5.0917e-02, -1.3613e-02,  2.1734e-02,  7.0434e-02, -1.3842e-02,\n",
       "         -6.5136e-03, -7.0215e-03,  3.1193e-03, -3.4413e-03, -6.0295e-03,\n",
       "         -1.5978e-02, -4.2068e-03, -3.1702e-02,  7.2545e-03, -4.7128e-03,\n",
       "         -5.2311e-03, -2.0642e-02,  2.5055e-03, -6.7990e-03,  4.8943e-03,\n",
       "          1.0474e-02,  4.9690e-03,  1.2393e-02, -1.8255e-03, -2.2405e-03,\n",
       "         -4.8081e-03, -6.6984e-03,  5.2228e-04, -1.6532e-02, -5.4150e-03,\n",
       "         -7.8825e-03,  1.5957e-02,  1.3842e-02, -2.0312e-02,  8.0948e-03,\n",
       "          7.8689e-03, -1.5496e-02,  7.6699e-05, -3.1297e-03,  3.8363e-03,\n",
       "          2.4139e-02,  9.2173e-03,  3.2308e-03,  1.0415e-02,  2.2513e-03,\n",
       "         -7.0271e-03,  2.8399e-03,  2.5096e-03,  1.7443e-03, -4.8759e-03,\n",
       "          8.8111e-03, -1.2950e-02,  1.2904e-02,  8.1739e-03, -2.2335e-02,\n",
       "          4.4380e-03, -9.7121e-03,  1.5980e-02, -1.0163e-02,  5.1880e-03,\n",
       "         -5.5129e-03,  1.5415e-02,  4.9146e-02, -4.7551e-02, -1.0210e-02,\n",
       "         -1.5247e-02,  1.2657e-02, -3.5541e-02, -5.6709e-02, -3.8182e-04,\n",
       "          4.1396e-03,  9.0363e-02,  9.4958e-03,  6.6231e-02, -4.5721e-02,\n",
       "         -4.2330e-02, -4.7687e-02, -3.7442e-02, -5.8721e-02,  3.3991e-02,\n",
       "         -1.3383e-02, -7.6941e-02,  1.9340e-03, -1.5985e-02, -2.7778e-02,\n",
       "         -5.6845e-02,  6.4274e-03,  2.4890e-02,  6.6325e-03, -3.9993e-02,\n",
       "          6.0138e-02, -5.0616e-02,  2.9265e-03, -3.3097e-02,  4.2383e-02,\n",
       "          4.3241e-02, -3.0246e-02,  1.5463e-02,  1.5798e-03,  2.2839e-02,\n",
       "          1.7805e-02,  2.7579e-02, -3.0581e-02,  3.8628e-02,  1.8312e-02,\n",
       "          1.8727e-02,  2.1535e-02,  2.2473e-02,  2.5274e-02, -2.5154e-02,\n",
       "          1.2493e-02,  1.1182e-02,  3.8878e-03, -1.8970e-03,  3.3916e-02,\n",
       "          5.9162e-03,  2.0064e-02,  7.5079e-03,  2.4467e-03, -2.7014e-04,\n",
       "          1.5763e-02,  2.8746e-03, -1.2761e-02, -1.4479e-02,  3.7325e-04,\n",
       "         -1.4987e-02,  1.8694e-03, -1.1891e-02,  1.1872e-02, -3.1335e-02,\n",
       "         -2.5080e-03,  2.5745e-03, -9.9656e-03,  9.9268e-03,  2.5932e-02,\n",
       "          5.2542e-03,  2.8401e-02,  1.3970e-02,  2.7182e-03, -7.2114e-03,\n",
       "          1.4672e-02, -8.1997e-04, -2.5675e-02,  2.0326e-02,  6.5241e-03,\n",
       "         -8.3220e-03,  6.6171e-03,  4.3574e-03, -1.4329e-02,  1.6394e-02,\n",
       "          1.8414e-03,  1.1547e-02,  6.8357e-03,  1.7601e-03, -1.4970e-02,\n",
       "         -2.2614e-02,  2.1134e-02,  1.9680e-02,  9.0090e-03, -2.2479e-03,\n",
       "          4.6399e-03, -9.3376e-03, -1.1577e-02,  1.1889e-03,  1.1410e-02,\n",
       "          1.5606e-02, -3.7174e-03, -2.5699e-03, -4.4980e-03, -6.5037e-04,\n",
       "          9.4798e-03,  3.8906e-03,  9.2084e-03,  1.0162e-02,  9.4827e-04,\n",
       "          8.2816e-03, -6.3497e-03,  1.0041e-02, -1.8939e-03, -1.5029e-02,\n",
       "          1.7350e-02, -1.7862e-02, -1.1726e-04,  1.0240e-04,  2.3465e-02,\n",
       "         -1.8564e-03, -4.0513e-03, -1.6589e-02, -8.7442e-04]),\n",
       " 'encoder.layer.3.attention.output.dense.weight': tensor([[ 0.0504, -0.0120,  0.0526,  ..., -0.0749, -0.0463, -0.0074],\n",
       "         [ 0.0055,  0.0436, -0.0105,  ...,  0.0354,  0.0287,  0.0454],\n",
       "         [-0.0815,  0.0465,  0.0459,  ...,  0.0042, -0.0310, -0.0661],\n",
       "         ...,\n",
       "         [-0.0170,  0.0204,  0.0956,  ..., -0.0225,  0.0046,  0.0090],\n",
       "         [ 0.0150, -0.0203,  0.0240,  ...,  0.0326, -0.0435,  0.0060],\n",
       "         [ 0.0041, -0.0148,  0.0356,  ..., -0.0004, -0.0058, -0.0034]]),\n",
       " 'encoder.layer.3.attention.output.dense.bias': tensor([ 3.3556e-02,  1.5503e-01,  7.6716e-02,  4.9892e-02,  2.9301e-02,\n",
       "         -5.6119e-02,  1.4005e-02, -5.1485e-02,  3.0123e-02, -7.8394e-02,\n",
       "          4.0961e-02, -5.7719e-02,  2.4338e-02,  6.9330e-03,  4.9036e-02,\n",
       "          7.5798e-02, -2.8650e-02, -3.7534e-02,  4.4699e-02,  6.0634e-03,\n",
       "          6.8709e-03, -6.0656e-02, -2.7775e-02,  4.6173e-02,  1.6704e-02,\n",
       "         -3.4093e-03, -6.0854e-03, -5.8032e-02,  3.0928e-03, -4.9926e-02,\n",
       "         -5.4684e-02, -1.0303e-01,  1.9757e-02, -5.5770e-02,  1.7534e-03,\n",
       "         -1.7269e-02, -4.4401e-02,  3.5205e-02,  8.9728e-02,  4.4522e-03,\n",
       "         -5.3668e-02,  9.5638e-02,  5.2453e-02, -3.3580e-02,  2.6055e-02,\n",
       "          5.9383e-03,  7.8092e-02, -2.5336e-02, -3.3467e-02,  5.0793e-02,\n",
       "          3.8980e-02, -5.7316e-03,  8.2913e-02,  3.9558e-02,  1.7998e-02,\n",
       "         -4.1039e-02, -1.2093e-01,  5.9271e-02,  2.9230e-02, -8.3800e-02,\n",
       "         -1.2795e-02, -5.5014e-02,  9.1831e-02, -2.8493e-02,  2.7973e-03,\n",
       "          4.9841e-02,  5.7466e-02,  4.7201e-02, -3.9417e-02,  1.0737e-01,\n",
       "          6.0445e-02,  8.7961e-02, -4.8257e-02,  8.3742e-02, -6.8341e-03,\n",
       "          2.2574e-03,  2.0635e-02,  6.2091e-02,  1.5561e-02,  3.0136e-02,\n",
       "          2.2096e-02,  4.4879e-02,  4.9157e-03, -4.4598e-02,  3.5429e-02,\n",
       "         -2.0037e-02, -6.3970e-02, -2.4817e-02, -2.1820e-02, -2.7938e-02,\n",
       "         -8.0962e-03, -4.2055e-02,  2.4782e-02,  4.2943e-02, -4.8465e-02,\n",
       "          2.0846e-02,  5.4104e-02, -3.6281e-02, -3.5333e-02, -5.4617e-02,\n",
       "         -1.5297e-02,  3.8607e-02, -5.5933e-02,  4.0616e-02,  1.0921e-02,\n",
       "         -6.2303e-02, -8.5966e-03,  4.3087e-02, -3.5620e-02, -2.8182e-02,\n",
       "         -3.3763e-02,  8.8845e-02, -1.4349e-02, -3.0466e-02, -2.1315e-02,\n",
       "          2.0806e-02, -2.6936e-02, -1.3063e-01, -3.2363e-02,  5.3188e-02,\n",
       "          6.7670e-02, -1.0963e-02,  7.0406e-02,  7.1425e-02, -8.0427e-03,\n",
       "          1.3375e-02,  1.6987e-02, -7.1164e-02, -8.8157e-02,  6.2950e-02,\n",
       "          3.8347e-02,  1.0383e-02,  5.0174e-02,  5.9125e-02, -1.9946e-02,\n",
       "          2.9677e-02, -1.8086e-03, -2.2147e-02, -2.6461e-02, -3.2241e-03,\n",
       "          5.9499e-02, -4.5399e-02,  7.4551e-02,  3.5772e-02,  2.9592e-02,\n",
       "          6.7325e-02,  6.9461e-02, -3.0174e-02, -9.9264e-02, -3.6862e-02,\n",
       "         -3.3368e-02,  6.6352e-02,  3.7741e-02,  3.4836e-03,  1.6846e-02,\n",
       "         -1.4037e-01,  1.4573e-02, -6.1144e-02,  6.8779e-02,  7.1161e-02,\n",
       "          5.9822e-03, -6.8732e-03, -3.5592e-02, -1.7443e-02,  1.5765e-03,\n",
       "          4.8307e-02,  5.5132e-02, -7.6769e-02, -1.8304e-02,  2.5358e-02,\n",
       "          5.1899e-03,  1.3031e-02,  5.4215e-02, -1.7800e-02, -5.8767e-02,\n",
       "         -2.9273e-02, -6.3096e-05, -1.6352e-02,  2.5238e-02, -2.3671e-02,\n",
       "         -2.7036e-02,  8.8293e-02, -1.6045e-02, -2.9263e-02, -6.4115e-02,\n",
       "         -4.1845e-02, -1.5956e-01,  1.0293e-02,  9.7709e-02,  3.0693e-03,\n",
       "          1.2650e-03, -4.7891e-02,  1.4735e-02,  1.0369e-01,  1.6748e-02,\n",
       "         -1.6854e-02,  1.5936e-02,  5.1973e-02,  3.9574e-02, -5.5413e-02,\n",
       "         -5.6595e-03,  7.6304e-02,  7.2237e-02, -3.3936e-02,  1.7878e-02,\n",
       "         -1.0398e-01, -1.3077e-02, -7.2355e-02,  3.1564e-02,  1.3164e-02,\n",
       "          6.7200e-02, -7.9264e-03,  5.6604e-02, -1.0984e-01,  4.7161e-02,\n",
       "         -7.0587e-02, -5.8081e-02,  5.0693e-02,  6.0069e-03,  3.1585e-03,\n",
       "          4.1687e-02, -5.8726e-02,  4.9571e-02,  1.7276e-01, -7.1874e-02,\n",
       "         -1.9231e-02, -4.0841e-02,  1.0781e-02, -9.7538e-02, -2.1516e-02,\n",
       "         -1.0253e-02,  1.8391e-02,  9.8376e-03, -2.8020e-02, -1.1562e-03,\n",
       "          1.8045e-04, -8.2717e-02,  2.4612e-02,  9.0449e-02,  7.5912e-02,\n",
       "         -3.3423e-02,  3.4376e-02,  3.1064e-02,  5.7988e-02, -4.4396e-02,\n",
       "         -3.2632e-03, -5.7997e-02,  3.2667e-02, -5.5199e-02, -3.0410e-02,\n",
       "         -3.0726e-02, -3.0260e-02, -4.0317e-02,  3.3722e-02, -7.5669e-02,\n",
       "          2.2443e-02,  3.0351e-02, -5.3636e-03, -4.1240e-02, -2.1715e-02,\n",
       "          4.1079e-02,  6.8824e-03, -5.9021e-03, -5.9158e-03,  1.0120e-01,\n",
       "          2.1691e-02, -4.9709e-02,  4.5151e-02, -6.5830e-02,  4.0983e-02,\n",
       "          5.8143e-02, -2.4998e-02, -4.1598e-02, -7.4070e-02, -7.0182e-02,\n",
       "          8.6359e-02,  4.4789e-02, -8.3633e-02, -1.8437e-02,  2.7654e-02,\n",
       "         -2.9147e-02, -1.1512e-01, -1.3942e-02, -3.6049e-04, -9.0363e-02,\n",
       "          1.0082e-03, -1.5870e-01, -1.0093e-01,  5.6155e-03, -1.0372e-03,\n",
       "         -9.7274e-02,  3.1817e-02,  1.0310e-01, -1.4188e-02,  6.8312e-02,\n",
       "          6.2666e-02,  2.2635e-02,  2.3221e-02, -1.8673e-02,  7.3917e-02,\n",
       "          2.4840e-02,  4.5412e-02, -1.5843e-02,  3.4177e-02,  6.5670e-02,\n",
       "         -1.7622e-02, -3.0574e-02,  2.7676e-02,  2.5843e-02, -1.8785e-02,\n",
       "         -5.5942e-03,  9.9499e-03, -5.1345e-02,  1.7424e-02,  2.9692e-02,\n",
       "          3.4326e-02,  1.3626e-02,  7.6591e-02, -7.1657e-02,  1.3758e-01,\n",
       "         -5.9907e-02, -1.9562e-01,  5.6420e-02, -1.5448e-01,  1.5840e-02,\n",
       "          2.2692e-02, -8.0444e-02,  7.3967e-02, -1.4281e-02,  8.4151e-02,\n",
       "         -5.2077e-02, -2.2067e-02,  8.3427e-02,  1.2685e-02, -3.2541e-03,\n",
       "          6.9545e-03,  6.1562e-02,  4.4102e-02,  9.4881e-02,  2.0967e-02,\n",
       "         -7.0589e-03, -1.5383e-01, -2.0098e-02, -8.7195e-02, -6.0105e-02,\n",
       "         -2.7944e-02, -1.0182e-02, -8.1644e-02, -1.2460e-01,  5.7267e-02,\n",
       "          3.4755e-02,  1.7750e-02,  2.9576e-02,  3.7806e-02, -2.1219e-02,\n",
       "         -6.2729e-02,  1.9923e-02,  1.4202e-02, -3.3223e-02,  1.7307e-03,\n",
       "         -9.1190e-02, -4.4048e-02,  1.6548e-02,  2.1720e-02, -3.2644e-02,\n",
       "          1.5161e-02,  2.5364e-02, -2.3757e-02, -2.8914e-02, -5.9038e-02,\n",
       "         -5.0377e-02,  3.9463e-02,  3.7762e-02,  6.2551e-02, -8.8457e-02,\n",
       "          1.5587e-02,  6.7911e-02, -9.8818e-03, -9.2918e-02, -9.0330e-02,\n",
       "         -3.5533e-02,  4.8501e-02,  2.0638e-02,  1.7556e-02]),\n",
       " 'encoder.layer.3.attention.output.LayerNorm.weight': tensor([0.6209, 0.6538, 0.4947, 0.4531, 0.6586, 0.5367, 0.7248, 0.5811, 0.5565,\n",
       "         0.4353, 0.4979, 0.6790, 0.3672, 0.4195, 0.6130, 0.5024, 0.6165, 0.6161,\n",
       "         0.6682, 0.6388, 0.6826, 0.6317, 0.5045, 0.4692, 0.6450, 0.4305, 0.5087,\n",
       "         0.4357, 0.7191, 0.5420, 0.4551, 0.7206, 0.7684, 0.4811, 0.5522, 0.6170,\n",
       "         0.5116, 0.4397, 0.5145, 0.4983, 0.4608, 0.4938, 0.5241, 0.4931, 0.4526,\n",
       "         0.5518, 0.4762, 0.4971, 0.5778, 0.4799, 0.6781, 0.4826, 0.4921, 0.6257,\n",
       "         0.4567, 0.6311, 0.4684, 0.5786, 0.4327, 0.4049, 0.6465, 0.3880, 0.9305,\n",
       "         1.0138, 0.6704, 0.5148, 0.4661, 0.6530, 0.6313, 0.7030, 0.5869, 0.4643,\n",
       "         0.5922, 0.6061, 0.4784, 0.5390, 0.4762, 0.5649, 0.5675, 0.6881, 0.6669,\n",
       "         0.6469, 0.4798, 0.5808, 0.5688, 0.4920, 0.4066, 0.5829, 0.5855, 0.4300,\n",
       "         0.5600, 0.6233, 0.6386, 0.4524, 0.6596, 0.5362, 0.3845, 0.6722, 0.7084,\n",
       "         1.4850, 0.4590, 0.4870, 0.6975, 0.6251, 0.4965, 0.4151, 0.4715, 0.6455,\n",
       "         0.4009, 0.4847, 0.4422, 0.4202, 0.6857, 0.5704, 0.5596, 0.6776, 0.6526,\n",
       "         0.4425, 0.6438, 0.6745, 0.5608, 0.4617, 0.5990, 0.4692, 0.6216, 0.7705,\n",
       "         0.6087, 0.7920, 0.5194, 0.6103, 0.4915, 0.6836, 0.6432, 0.4046, 0.5318,\n",
       "         0.4193, 0.5411, 0.6659, 0.6319, 0.6753, 0.5936, 0.6822, 0.6915, 0.5986,\n",
       "         0.6670, 0.6652, 0.6394, 0.3492, 0.4702, 0.6781, 0.4087, 0.6016, 0.5037,\n",
       "         0.5871, 0.5178, 0.4292, 0.6917, 0.7108, 0.4790, 0.4456, 0.6334, 0.5035,\n",
       "         0.4281, 0.6744, 0.5473, 0.5921, 0.4580, 0.4579, 0.5875, 0.4603, 0.6580,\n",
       "         0.4804, 0.6411, 0.6094, 0.6041, 0.4986, 0.6829, 0.4873, 0.4992, 0.4471,\n",
       "         0.6761, 0.5207, 0.5679, 0.4566, 0.5012, 0.5713, 0.5827, 0.5295, 0.5112,\n",
       "         0.6474, 0.6416, 0.7432, 0.6673, 0.6275, 0.5003, 0.4815, 0.5771, 0.5879,\n",
       "         0.6536, 0.3770, 0.6594, 0.6808, 0.5838, 0.4660, 0.6930, 0.5591, 0.6515,\n",
       "         0.5766, 0.6802, 0.5822, 0.5726, 0.6524, 0.6606, 0.5539, 0.4253, 0.6427,\n",
       "         0.6001, 0.5356, 0.6436, 0.4213, 0.6780, 0.6695, 0.6980, 1.3170, 0.6818,\n",
       "         0.5508, 0.6979, 0.6735, 0.5378, 0.4597, 0.6252, 0.6919, 0.6996, 0.6540,\n",
       "         0.6609, 0.5107, 0.6819, 0.4511, 0.6363, 0.6430, 0.6585, 0.6340, 0.4967,\n",
       "         0.4932, 0.5295, 0.6297, 0.7113, 0.6682, 0.5210, 0.8808, 0.6730, 0.6521,\n",
       "         0.6760, 0.5508, 0.5237, 0.5609, 0.6482, 0.5441, 0.4661, 0.6437, 0.6902,\n",
       "         0.6632, 0.4926, 0.6475, 0.5377, 0.5561, 0.6227, 0.8261, 0.4741, 0.5316,\n",
       "         0.6553, 0.6745, 0.6811, 0.4360, 0.6686, 0.5963, 0.6251, 0.6643, 0.4521,\n",
       "         0.7085, 0.6394, 0.5568, 0.6682, 0.4145, 0.5960, 0.5347, 0.5816, 0.6244,\n",
       "         0.6486, 0.4727, 0.4425, 0.6501, 0.6830, 0.4634, 0.6213, 0.6347, 0.6942,\n",
       "         0.6843, 0.5572, 0.6269, 0.6649, 0.6739, 0.4793, 0.7568, 0.6330, 0.4954,\n",
       "         0.5373, 0.5673, 0.6767, 0.6650, 0.6902, 0.6388, 0.4202, 0.5184, 0.5338,\n",
       "         0.5259, 0.6637, 0.6609, 0.4397, 0.7073, 0.3776, 0.6006, 0.7012, 0.4655,\n",
       "         0.6074, 0.6330, 0.7022, 0.6310, 0.4227, 0.6583, 0.6119, 0.5336, 0.6443,\n",
       "         0.5708, 0.6119, 0.5358, 0.4681, 0.5796, 0.7299, 0.5089, 0.5324, 0.7329,\n",
       "         0.5665, 0.6709, 0.4444, 0.3656, 0.4749, 0.7349, 0.4924, 0.6292, 0.4340,\n",
       "         0.6612, 0.4866, 0.5023, 0.6711, 0.5227, 0.5692, 0.5280, 0.4822, 0.8418,\n",
       "         0.4509, 0.6857, 0.5969, 0.6704, 0.6514, 0.5196, 0.6743, 0.6253, 0.4703,\n",
       "         0.5677, 0.5068, 0.5199, 0.4364, 0.4246, 0.5134, 0.5874, 0.4524, 0.5190,\n",
       "         0.5575, 0.4538, 0.6785, 0.6380, 0.7162, 0.7293]),\n",
       " 'encoder.layer.3.attention.output.LayerNorm.bias': tensor([-1.1655e-02, -3.0086e-02, -4.2123e-04, -2.1218e-03, -3.8904e-03,\n",
       "         -2.7401e-02,  1.9035e-02,  8.2827e-03, -3.1113e-03, -2.1827e-02,\n",
       "          4.5233e-04,  6.0357e-04,  1.9691e-02,  1.6527e-02, -2.1608e-02,\n",
       "          6.5810e-03,  5.0989e-02, -8.5871e-03, -9.5227e-02, -2.9520e-03,\n",
       "          7.3426e-04,  1.6863e-03, -8.1442e-03,  2.2989e-03,  3.0449e-02,\n",
       "          1.1732e-02,  5.2365e-03,  8.0700e-03,  7.0042e-03, -1.3998e-02,\n",
       "         -1.5943e-02,  7.9389e-03, -2.3967e-03, -3.0918e-02,  2.2031e-02,\n",
       "         -2.3968e-02,  1.6490e-02, -2.4113e-02, -5.8552e-02,  3.6085e-03,\n",
       "          1.1697e-02, -9.4290e-03,  1.2668e-02, -9.9485e-04, -5.9575e-02,\n",
       "          6.8507e-04,  1.7411e-03, -8.5751e-03,  1.8384e-02, -1.9637e-02,\n",
       "          7.9400e-02, -1.8125e-02,  2.7377e-03,  3.3858e-02, -4.8046e-02,\n",
       "         -1.7179e-02, -1.1718e-02, -4.9512e-03,  1.8660e-02,  2.1728e-02,\n",
       "          3.5247e-03,  4.6689e-02, -1.1962e-01,  1.1205e-01,  9.1899e-02,\n",
       "         -2.6850e-02, -3.7878e-02, -2.4330e-04,  5.0237e-02, -1.9807e-02,\n",
       "          3.7214e-03, -6.6336e-03, -6.6189e-03, -3.7163e-03, -8.8624e-03,\n",
       "         -1.0199e-02, -2.9570e-02,  1.0461e-02, -1.3922e-02, -2.6564e-02,\n",
       "          2.8471e-02,  4.6682e-02,  1.3012e-02,  4.4667e-02, -1.7304e-02,\n",
       "         -5.6435e-03,  2.7218e-02,  9.7151e-03, -2.2090e-02, -5.1198e-02,\n",
       "         -2.3934e-02, -6.9362e-03, -6.6792e-03,  1.5385e-03, -3.5864e-02,\n",
       "          1.0704e-02, -6.3478e-03,  1.3733e-02,  6.5207e-03,  4.6632e-02,\n",
       "          7.5211e-03, -2.4055e-02,  2.0231e-02, -1.4552e-02, -3.8306e-02,\n",
       "          4.1940e-02, -1.1366e-02,  4.0988e-02,  1.1272e-02, -2.4709e-03,\n",
       "         -2.2884e-02,  8.5418e-03, -6.7719e-02,  3.4473e-02,  1.2665e-03,\n",
       "          6.8145e-03, -1.5457e-02,  2.0029e-02, -3.3175e-02, -8.9889e-03,\n",
       "         -1.1976e-02, -4.6669e-02, -6.2538e-02,  7.3682e-03,  1.1728e-02,\n",
       "         -4.0421e-02, -1.6329e-02,  1.3569e-01,  1.8205e-02, -8.3103e-04,\n",
       "         -4.4367e-03, -7.5544e-03, -2.1839e-02,  2.0434e-02,  6.3048e-04,\n",
       "         -1.0920e-03, -1.9140e-02, -1.6725e-02,  2.7527e-02,  1.5525e-02,\n",
       "          3.2112e-04, -3.1452e-02, -4.6217e-02,  4.2684e-03, -6.2730e-03,\n",
       "          2.0365e-02, -1.1613e-02,  2.2875e-02, -4.1004e-02, -6.6428e-03,\n",
       "         -1.0405e-02, -1.0444e-02, -3.5775e-03, -1.2365e-03,  2.4401e-02,\n",
       "          1.3333e-02, -5.6860e-03, -3.1395e-02, -1.1839e-02, -7.0513e-03,\n",
       "         -2.0720e-02,  1.0873e-02,  5.5825e-02,  1.4283e-01,  1.2158e-02,\n",
       "         -2.4061e-02,  1.0190e-02, -8.6330e-03, -3.7159e-02,  1.4852e-02,\n",
       "          1.6019e-02, -1.9051e-02, -6.7813e-03, -4.4433e-02,  5.2762e-02,\n",
       "          3.9810e-02,  4.1048e-02, -7.6956e-03, -1.7352e-02, -9.3864e-03,\n",
       "          1.3874e-02,  1.6506e-02,  7.1211e-03,  2.3641e-03,  2.4378e-02,\n",
       "          3.0151e-02,  1.2939e-02, -5.7494e-03, -5.7088e-02,  7.7531e-02,\n",
       "         -7.8018e-02, -1.2435e-03, -1.5496e-02, -2.0657e-02, -3.5920e-03,\n",
       "         -1.7811e-02,  4.6546e-02, -6.5207e-03,  1.1223e-01, -2.8789e-02,\n",
       "          1.5231e-02, -2.6844e-02, -6.8790e-02,  1.6411e-03,  4.3374e-02,\n",
       "         -2.6107e-02, -1.9681e-02, -6.4852e-04,  3.2787e-02, -4.1030e-02,\n",
       "         -3.8390e-02,  1.7504e-02, -2.1025e-02,  1.7428e-02, -1.3528e-02,\n",
       "         -5.3663e-02, -1.9451e-02, -5.8878e-03,  1.2106e-02, -1.1745e-02,\n",
       "         -1.3760e-02,  5.1601e-02,  1.3472e-02, -1.0415e+00, -4.5966e-02,\n",
       "         -1.2849e-02,  2.1654e-02, -2.1071e-02,  7.4102e-03, -4.8928e-02,\n",
       "         -5.7649e-02,  4.3409e-02,  8.0670e-02, -4.3868e-02,  4.1346e-02,\n",
       "          2.1144e-03,  2.3364e-02, -3.9605e-03,  1.2908e-01,  3.2850e-02,\n",
       "         -1.9197e-02, -1.0859e-02,  7.6515e-03, -2.1422e-02, -1.0119e-02,\n",
       "         -4.8958e-02,  6.5077e-02, -5.1290e-02, -3.0634e-02,  1.7443e-01,\n",
       "          3.6614e-02,  3.9156e-02, -2.8367e-04, -1.2338e-02, -3.7324e-02,\n",
       "         -2.5002e-02, -8.8786e-02,  1.1212e-02,  2.6181e-02,  4.2186e-02,\n",
       "          9.0569e-03, -1.1400e-02, -4.3909e-03,  5.2462e-02, -8.7569e-04,\n",
       "          4.4748e-03, -1.1501e-02,  1.2797e-02,  1.2053e-02,  5.7589e-03,\n",
       "         -6.1405e-02,  2.2448e-02, -2.7920e-03, -6.8567e-03,  3.1515e-02,\n",
       "         -5.1253e-02,  9.1614e-03,  1.0557e-02, -4.4132e-03,  2.7834e-03,\n",
       "         -1.7161e-02, -3.8714e-02,  2.0669e-02, -3.6577e-02,  4.1047e-02,\n",
       "          8.2651e-03,  8.0966e-03, -1.7320e-02,  8.8440e-02, -4.9852e-03,\n",
       "         -3.4175e-03,  3.6262e-03, -7.6290e-03,  1.7090e-02,  3.6978e-03,\n",
       "          5.6962e-03, -2.3838e-02,  3.4064e-03,  2.5389e-02,  5.8342e-03,\n",
       "          4.6609e-02,  3.8803e-03,  2.6329e-02, -3.3698e-02,  1.5276e-02,\n",
       "          1.0850e-02,  4.0327e-02,  1.2926e-02,  9.3871e-03,  5.7630e-02,\n",
       "          5.7689e-02, -2.1604e-02,  4.4182e-02, -5.0998e-03,  2.9887e-02,\n",
       "         -1.3754e-02, -7.9043e-03, -1.9812e-02, -1.3801e-02, -9.5067e-02,\n",
       "         -5.2776e-03,  2.4870e-02, -1.2439e-02, -1.7671e-02, -5.4360e-02,\n",
       "         -8.7998e-03,  4.3101e-02,  1.7788e-03, -3.4375e-02, -2.0382e-02,\n",
       "         -1.1489e-03,  6.5956e-03, -3.2022e-02,  1.3394e-02, -1.2384e-02,\n",
       "          5.1921e-02,  9.7034e-03,  2.6986e-02, -1.0796e-01,  2.1171e-02,\n",
       "         -3.5749e-02,  1.2604e-01,  5.8391e-03,  2.0202e-02, -7.8886e-03,\n",
       "         -2.5531e-02, -2.3369e-02, -1.0493e-02,  1.5300e-02, -2.9732e-03,\n",
       "          2.3065e-02,  3.7857e-02,  1.2360e-02, -1.3816e-02,  5.8745e-02,\n",
       "          3.5403e-03, -2.2448e-02, -8.6376e-03,  1.4514e-02,  3.8028e-02,\n",
       "          5.6316e-02,  1.0958e-02,  1.3759e-02,  2.0663e-01, -3.3506e-02,\n",
       "          1.1836e-02,  8.8913e-03, -2.2650e-02, -2.1940e-02, -1.3144e-03,\n",
       "          7.6666e-03,  5.8877e-02, -1.1560e-02, -9.7881e-03, -7.9465e-03,\n",
       "         -3.2587e-02, -1.5507e-02,  6.1172e-03,  2.6979e-03,  2.2957e-02,\n",
       "          6.1170e-03, -4.5255e-02, -2.6591e-02,  2.0836e-03]),\n",
       " 'encoder.layer.3.intermediate.dense.weight': tensor([[-0.1316, -0.0624, -0.1068,  ...,  0.0508, -0.0021, -0.0025],\n",
       "         [-0.0320,  0.1522,  0.0421,  ...,  0.0030, -0.0289,  0.0390],\n",
       "         [-0.0026,  0.1312,  0.0296,  ...,  0.1191,  0.0289,  0.0187],\n",
       "         ...,\n",
       "         [ 0.0690,  0.0892,  0.0660,  ..., -0.0712, -0.0183, -0.0097],\n",
       "         [-0.0484, -0.0861, -0.0167,  ..., -0.0004, -0.0597,  0.0541],\n",
       "         [-0.0957,  0.0692,  0.1003,  ..., -0.0352, -0.0219,  0.0404]]),\n",
       " 'encoder.layer.3.intermediate.dense.bias': tensor([-0.0831, -0.0695, -0.1421,  ..., -0.2744, -0.0547, -0.1034]),\n",
       " 'encoder.layer.3.output.dense.weight': tensor([[ 0.1179,  0.0349, -0.0126,  ...,  0.0065, -0.0225,  0.0964],\n",
       "         [ 0.0619, -0.0658,  0.0093,  ...,  0.0787, -0.0148, -0.0153],\n",
       "         [ 0.0342, -0.0820, -0.0118,  ...,  0.0206,  0.0186, -0.0023],\n",
       "         ...,\n",
       "         [-0.0179, -0.0353,  0.0030,  ..., -0.0486, -0.0195,  0.0410],\n",
       "         [ 0.0029,  0.0077,  0.0045,  ...,  0.0081,  0.0156, -0.0140],\n",
       "         [ 0.0300, -0.0308,  0.0139,  ..., -0.0020, -0.0257, -0.0105]]),\n",
       " 'encoder.layer.3.output.dense.bias': tensor([-3.9039e-02, -2.6558e-02,  1.0939e-02,  4.6391e-04, -2.6659e-02,\n",
       "          1.5486e-02, -1.7505e-02, -3.3485e-02, -2.6340e-02, -5.9019e-03,\n",
       "         -1.7877e-02, -4.5100e-02,  7.5413e-03,  3.9917e-02, -2.4676e-02,\n",
       "         -2.1948e-02, -4.9634e-03,  1.6502e-02, -1.2785e-01,  8.8488e-03,\n",
       "         -1.3509e-02,  1.7527e-03, -4.3989e-02,  2.6810e-04,  5.6344e-02,\n",
       "          5.1107e-02,  7.1751e-02, -8.1773e-03, -1.4213e-02,  6.5465e-03,\n",
       "         -4.0651e-02,  4.1566e-02,  5.6264e-02,  5.5247e-02,  5.4729e-02,\n",
       "         -6.7874e-02,  1.4471e-02, -4.1104e-02, -1.0313e-01,  5.5342e-02,\n",
       "         -4.1811e-02, -4.3743e-02, -5.1176e-02, -1.5070e-02, -4.4406e-02,\n",
       "          7.7916e-03,  3.9089e-03, -2.3469e-02,  8.3496e-02, -1.7766e-03,\n",
       "         -6.8058e-03, -3.6482e-02,  1.6883e-02, -1.8626e-02, -6.8043e-02,\n",
       "         -2.8253e-02,  2.2816e-02, -5.1586e-02,  9.9177e-02,  5.1796e-02,\n",
       "          2.1734e-02,  7.0440e-02, -9.5763e-02,  7.1853e-03,  7.0067e-02,\n",
       "         -1.9396e-02,  1.2714e-02,  7.1348e-02,  2.9171e-02, -4.1688e-02,\n",
       "         -2.9587e-02, -6.0821e-02,  7.3012e-02,  2.9113e-03, -1.3010e-02,\n",
       "          2.8085e-02, -5.7442e-02, -2.8024e-02, -5.3681e-02, -6.0101e-02,\n",
       "          4.2590e-02,  6.6767e-02, -1.2283e-02,  1.0336e-01, -2.8077e-02,\n",
       "          6.9239e-02, -3.0362e-03, -4.3614e-02, -4.7563e-03, -8.7130e-02,\n",
       "         -3.4905e-02, -9.5243e-04, -1.0528e-02,  3.5568e-02,  1.1602e-01,\n",
       "          7.7691e-02, -2.7559e-03,  5.9246e-03, -7.2019e-03, -2.8574e-02,\n",
       "          2.1152e-03, -1.0211e-02, -5.0819e-02, -9.2419e-03, -2.6648e-02,\n",
       "          5.1812e-02,  1.7516e-02,  2.2698e-02, -1.4162e-02,  1.9447e-02,\n",
       "         -2.3554e-02,  1.5094e-02, -2.3976e-02,  1.4846e-04, -2.7379e-02,\n",
       "          1.2515e-02,  2.9375e-02,  4.3459e-03, -2.6729e-02, -3.0741e-02,\n",
       "         -3.9843e-04, -2.2620e-02, -1.1066e-01,  1.5318e-02,  1.5196e-04,\n",
       "          7.3794e-02,  4.3126e-04,  1.1936e-01,  6.2794e-02,  1.5780e-02,\n",
       "         -1.5315e-01, -2.2323e-02, -6.3907e-02, -2.6835e-02, -3.1580e-02,\n",
       "         -5.5471e-03,  2.0867e-02, -2.9141e-02,  2.0192e-02,  2.1469e-02,\n",
       "         -3.8932e-03, -4.0375e-02, -2.3350e-02, -1.0509e-01, -2.8739e-02,\n",
       "         -1.1515e-01, -5.6728e-02,  2.2013e-02, -2.5503e-02, -7.6122e-02,\n",
       "         -5.8295e-02,  3.1616e-02, -5.2597e-02, -3.0512e-02, -1.4560e-02,\n",
       "          2.4506e-02,  2.8164e-02,  1.0341e-01,  2.9573e-02, -4.5534e-02,\n",
       "         -3.1594e-02, -1.0134e-01,  1.2300e-01,  7.3696e-02, -5.5349e-02,\n",
       "         -8.2627e-02, -1.8014e-02, -8.8282e-03, -1.5001e-02,  3.8088e-02,\n",
       "          4.8070e-02,  1.0579e-02,  2.0814e-02, -4.2252e-02,  6.3952e-02,\n",
       "          3.0622e-02,  3.7055e-02,  9.2417e-03, -8.3715e-02,  6.5897e-02,\n",
       "          2.7156e-02,  5.9879e-03,  1.9057e-02, -7.9931e-03, -3.0869e-02,\n",
       "          2.7130e-02,  4.9056e-02,  3.8462e-02, -4.9087e-02,  2.7247e-02,\n",
       "         -1.0246e-01, -1.8558e-02, -6.9599e-03, -1.0106e-01, -7.9754e-03,\n",
       "         -4.9445e-02, -8.5361e-03, -1.6744e-02,  2.4052e-02, -9.3177e-02,\n",
       "          5.9680e-02, -6.5115e-02, -7.3472e-02,  2.8431e-02,  2.0839e-02,\n",
       "         -6.6206e-02, -4.8430e-02,  1.1845e-02, -4.5295e-02,  1.0838e-02,\n",
       "         -3.3884e-03,  6.6027e-02, -6.9916e-02,  5.2541e-02, -2.6485e-02,\n",
       "         -1.2991e-01, -2.9742e-03, -5.8838e-03, -7.3131e-02, -3.1330e-02,\n",
       "          2.5012e-02,  7.5419e-02,  1.6027e-03, -3.3807e-01,  4.8282e-02,\n",
       "          3.2262e-02,  3.2034e-02, -2.7264e-02, -3.9264e-02, -3.8581e-02,\n",
       "         -8.0049e-02,  8.3025e-02,  6.5762e-02, -5.6414e-02,  5.8657e-02,\n",
       "         -3.1499e-02,  9.5136e-02,  5.4159e-02, -1.3112e-02,  5.9727e-02,\n",
       "         -6.5504e-03,  5.7091e-04,  5.0380e-02, -1.3816e-01,  4.7799e-02,\n",
       "         -1.6228e-02,  2.9440e-02, -8.3325e-02,  2.7088e-02,  8.4239e-02,\n",
       "          3.8837e-02,  3.6935e-02, -2.4220e-02,  1.1702e-02, -1.3373e-02,\n",
       "         -1.7636e-02, -5.8812e-02,  7.6278e-03,  9.6515e-02, -2.4653e-02,\n",
       "          5.8483e-03,  7.0121e-02, -5.1277e-03,  8.8616e-02,  1.5962e-03,\n",
       "          3.7048e-02, -8.7583e-03,  5.1993e-02,  2.4710e-02,  3.3030e-02,\n",
       "         -4.6868e-02,  4.7924e-02,  3.1415e-02,  6.8124e-02,  6.8885e-03,\n",
       "         -1.2477e-02, -1.3076e-02, -1.9393e-02, -4.0767e-02, -3.3054e-02,\n",
       "          3.1019e-03, -9.2381e-03, -2.4521e-02, -7.2243e-03,  6.3568e-02,\n",
       "         -2.2795e-02,  2.9525e-02,  1.0301e-01,  6.1091e-02,  3.8695e-02,\n",
       "          3.3633e-02, -2.2943e-03, -3.2335e-02,  3.0025e-03,  9.5488e-02,\n",
       "         -1.2608e-02,  3.4068e-02, -5.4801e-02, -5.6203e-02,  2.4656e-02,\n",
       "          7.4396e-02,  6.3810e-02, -2.1185e-03, -1.4962e-02, -6.1712e-02,\n",
       "          6.0008e-02,  6.1029e-02,  2.3206e-02, -9.4823e-03,  4.1395e-02,\n",
       "          5.8539e-02,  5.9898e-03,  4.5959e-02, -2.0470e-02, -3.4511e-02,\n",
       "         -5.5405e-02, -1.2012e-02,  4.4403e-02,  3.0677e-02, -7.1451e-02,\n",
       "          1.8487e-02,  8.4019e-03,  1.3856e-02, -2.1274e-02, -7.9603e-02,\n",
       "         -2.2650e-02,  5.4052e-02, -5.9341e-02, -3.2207e-02,  7.2654e-03,\n",
       "         -8.1366e-03, -8.3720e-02, -2.9184e-02,  9.3768e-02, -4.0691e-02,\n",
       "          9.0749e-02,  5.4707e-03,  1.4227e-02, -1.3163e-01, -9.5437e-03,\n",
       "          5.7933e-03,  5.0600e-02, -4.0515e-02,  3.1091e-03, -8.5792e-04,\n",
       "         -4.0498e-02,  2.0975e-02,  8.7273e-02,  5.1721e-02,  3.5480e-02,\n",
       "          7.0555e-02,  3.0502e-02,  4.5243e-02, -2.2132e-02,  4.5960e-02,\n",
       "          2.4886e-02,  2.9194e-02,  2.2110e-02, -2.7338e-02,  4.8751e-02,\n",
       "          7.0639e-02, -2.6560e-02,  4.2186e-02,  9.0358e-02, -8.2801e-02,\n",
       "          8.0673e-02,  7.3815e-02,  9.8109e-03, -2.0232e-02, -2.9015e-03,\n",
       "          4.2094e-02,  2.4677e-03, -3.1810e-02, -2.3388e-02, -5.3159e-02,\n",
       "         -9.4209e-02, -3.1142e-02,  6.5907e-02,  2.3409e-02,  6.3760e-02,\n",
       "         -5.2483e-02, -9.4837e-02,  1.7469e-02,  1.8255e-02]),\n",
       " 'encoder.layer.3.output.LayerNorm.weight': tensor([0.7203, 0.7079, 0.6941, 0.6190, 0.8270, 0.6734, 0.7792, 0.6872, 0.6710,\n",
       "         0.6761, 0.6723, 0.8143, 0.6037, 0.5974, 0.7548, 0.6735, 0.7883, 0.7256,\n",
       "         0.8171, 0.7570, 0.8090, 0.7816, 0.6569, 0.6099, 0.7556, 0.6372, 0.6290,\n",
       "         0.6141, 0.7624, 0.2666, 0.5771, 0.8080, 0.7733, 0.6739, 0.7695, 0.7527,\n",
       "         0.6795, 0.6355, 0.6397, 0.6554, 0.6125, 0.6911, 0.7318, 0.6420, 0.6403,\n",
       "         0.7301, 0.6740, 0.6691, 0.7194, 0.6690, 0.8390, 0.6576, 0.7606, 0.8105,\n",
       "         0.6317, 0.7800, 0.6432, 0.7385, 0.5922, 0.5563, 0.8078, 0.5132, 0.5250,\n",
       "         0.5985, 0.8062, 0.7039, 0.6222, 0.8440, 0.7710, 0.7803, 0.7512, 0.6221,\n",
       "         0.7486, 0.7337, 0.6885, 0.6926, 0.5933, 0.6697, 0.7505, 0.8028, 0.8390,\n",
       "         0.8424, 0.6308, 0.7377, 0.7597, 0.6308, 0.6030, 0.6825, 0.7622, 0.5806,\n",
       "         0.6983, 0.7810, 0.8144, 0.6339, 0.8380, 0.7039, 0.5853, 0.8417, 0.8085,\n",
       "         0.5513, 0.6022, 0.6258, 0.8270, 0.7927, 0.6982, 0.6101, 0.6722, 0.8197,\n",
       "         0.5899, 0.6660, 0.6580, 0.5965, 0.8580, 0.6898, 0.7222, 0.7765, 0.7539,\n",
       "         0.5669, 0.7806, 0.8576, 0.7278, 0.6427, 0.7484, 0.6298, 0.7302, 0.3139,\n",
       "         0.7257, 0.3393, 0.6854, 0.7918, 0.6213, 0.8352, 0.7347, 0.5766, 0.7078,\n",
       "         0.5931, 0.6705, 0.8468, 0.7455, 0.8510, 0.7274, 0.8072, 0.7710, 0.7854,\n",
       "         0.8120, 0.8110, 0.7677, 0.5420, 0.6329, 0.7955, 0.5957, 0.7584, 0.6411,\n",
       "         0.7367, 0.6469, 0.6217, 0.8009, 0.7819, 0.6739, 0.6160, 0.7289, 0.6262,\n",
       "         0.5630, 0.8174, 0.7368, 0.7538, 0.5657, 0.6016, 0.7027, 0.6062, 0.8045,\n",
       "         0.6043, 0.7900, 0.7596, 0.7081, 0.5830, 0.7808, 0.6629, 0.6602, 0.5964,\n",
       "         0.8358, 0.6645, 0.7618, 0.5585, 0.6594, 0.7540, 0.7019, 0.6870, 0.7163,\n",
       "         0.8347, 0.8579, 0.7674, 0.8629, 0.7537, 0.6696, 0.6713, 0.7114, 0.7743,\n",
       "         0.8270, 0.5788, 0.8739, 0.7681, 0.6879, 0.6429, 0.8404, 0.6591, 0.8113,\n",
       "         0.7392, 0.8171, 0.7257, 0.6791, 0.8054, 0.7961, 0.7104, 0.6919, 0.8056,\n",
       "         0.7417, 0.6602, 0.8188, 0.5922, 0.7764, 0.8356, 0.7970, 0.3132, 0.7823,\n",
       "         0.7145, 0.8279, 0.8451, 0.7270, 0.6199, 0.7718, 0.7341, 0.8185, 0.8875,\n",
       "         0.7876, 0.7301, 0.8018, 0.5833, 0.8429, 0.7812, 0.8250, 0.7234, 0.6765,\n",
       "         0.6357, 0.7241, 0.8391, 0.8721, 0.8357, 0.6488, 0.5777, 0.8201, 0.8353,\n",
       "         0.8179, 0.7222, 0.7057, 0.7623, 0.8349, 0.6818, 0.6512, 0.8259, 0.8262,\n",
       "         0.8171, 0.6786, 0.7807, 0.6933, 0.6691, 0.7884, 0.6172, 0.6654, 0.7166,\n",
       "         0.8483, 0.7697, 0.8242, 0.6268, 0.8123, 0.7056, 0.7442, 0.8189, 0.6404,\n",
       "         0.8032, 0.8522, 0.7208, 0.7893, 0.6312, 0.6836, 0.6562, 0.7196, 0.7481,\n",
       "         0.8051, 0.6244, 0.6132, 0.8270, 0.7884, 0.6390, 0.7176, 0.7052, 0.8264,\n",
       "         0.8133, 0.7486, 0.8092, 0.8066, 0.8318, 0.6034, 0.8160, 0.8573, 0.6514,\n",
       "         0.7235, 0.7434, 0.8280, 0.7420, 0.8222, 0.7477, 0.5693, 0.6790, 0.7247,\n",
       "         0.7436, 0.7799, 0.7981, 0.6589, 0.3415, 0.6011, 0.7191, 0.8756, 0.6403,\n",
       "         0.7269, 0.7934, 0.7705, 0.8217, 0.5865, 0.8584, 0.7366, 0.7014, 0.8049,\n",
       "         0.7493, 0.7697, 0.6189, 0.6525, 0.6973, 0.7497, 0.7229, 0.7141, 0.3738,\n",
       "         0.7015, 0.8071, 0.6474, 0.5912, 0.7133, 0.7567, 0.6757, 0.7823, 0.6127,\n",
       "         0.8864, 0.6738, 0.6232, 0.8380, 0.6836, 0.7279, 0.7074, 0.6546, 0.6629,\n",
       "         0.5642, 0.7704, 0.7039, 0.8556, 0.8699, 0.6663, 0.7722, 0.7904, 0.6363,\n",
       "         0.7373, 0.6798, 0.6828, 0.5731, 0.5532, 0.6709, 0.7722, 0.6083, 0.6708,\n",
       "         0.7077, 0.6037, 0.8275, 0.7860, 0.8085, 0.8368]),\n",
       " 'encoder.layer.3.output.LayerNorm.bias': tensor([ 1.0098e-02,  2.7465e-02,  7.3431e-03,  1.2670e-02, -1.6520e-02,\n",
       "          2.1755e-02, -4.3358e-02,  1.4763e-02,  6.0257e-04,  3.3495e-03,\n",
       "         -9.8292e-03,  5.0744e-03, -2.0317e-02, -6.9474e-03, -1.4323e-02,\n",
       "         -1.6146e-02, -2.3209e-02, -9.5549e-03, -2.5634e-02, -8.4712e-03,\n",
       "         -3.5880e-02,  4.1079e-02, -2.1079e-02, -1.3089e-02, -4.5017e-02,\n",
       "          2.4894e-03, -2.6623e-02, -1.0510e-02,  2.1602e-02, -7.3435e-02,\n",
       "         -1.1864e-03, -6.0914e-03, -2.9631e-02,  1.0896e-02, -9.3410e-03,\n",
       "          1.4161e-02, -1.6912e-02, -2.2658e-03,  2.6314e-02, -4.6704e-03,\n",
       "         -1.9813e-02, -1.0375e-02, -9.4756e-03, -4.7243e-03,  1.1669e-02,\n",
       "          1.6333e-02, -5.2012e-03, -5.4767e-03, -1.3627e-02,  1.1164e-02,\n",
       "         -4.3156e-02, -1.1575e-02, -5.4889e-03, -2.8746e-02,  4.5359e-02,\n",
       "         -1.6257e-03,  4.4061e-03,  1.7344e-03, -1.7338e-02, -2.2497e-02,\n",
       "         -7.6796e-03, -1.8994e-02, -3.1521e-02, -2.6198e-04, -2.6366e-02,\n",
       "         -1.1685e-02,  2.9845e-03,  1.7630e-03, -2.7547e-02, -1.0189e-02,\n",
       "         -8.0499e-03,  1.8914e-02, -2.6029e-02, -8.3019e-03,  1.6395e-03,\n",
       "         -1.0486e-03, -9.8227e-04, -6.2570e-03,  2.1329e-02,  9.8817e-03,\n",
       "         -3.8867e-02, -1.1488e-02, -1.4139e-02, -3.4116e-02,  8.7493e-03,\n",
       "         -1.4752e-02, -1.2648e-02, -2.3620e-02,  9.6209e-03,  1.2709e-02,\n",
       "         -7.4920e-03,  2.2491e-02, -4.6638e-03, -1.4737e-02, -3.3673e-02,\n",
       "         -3.0117e-02, -1.0949e-02, -5.5059e-02, -4.6041e-03, -9.5875e-02,\n",
       "          1.0351e-03,  1.0651e-02, -1.4019e-02, -3.5336e-03,  2.7059e-02,\n",
       "         -1.1332e-02, -4.6655e-03, -3.6616e-02, -1.5961e-02, -1.1867e-02,\n",
       "          1.8584e-02, -1.3735e-02,  1.9009e-02, -7.2115e-03,  2.4663e-03,\n",
       "          1.2618e-02,  8.7126e-03, -1.5416e-03, -1.3017e-02,  1.1269e-02,\n",
       "         -1.3546e-02,  2.7537e-02,  3.2117e-02,  2.3436e-03, -2.8725e-02,\n",
       "         -9.2795e-02, -4.1095e-03, -9.6437e-02, -2.1351e-02,  1.6474e-02,\n",
       "          1.8148e-03,  7.7105e-03, -1.7717e-02, -2.1112e-02,  6.7729e-03,\n",
       "         -9.8259e-03, -1.8094e-02, -2.9994e-02, -6.9273e-03, -2.7329e-02,\n",
       "         -1.3695e-02, -1.8755e-02,  2.7735e-02, -7.9892e-03, -1.1975e-02,\n",
       "         -9.6402e-03, -9.8482e-03, -1.7501e-02,  2.6776e-02, -1.4859e-02,\n",
       "          2.1847e-02,  1.5050e-02,  1.3055e-02,  2.4195e-02,  6.5652e-03,\n",
       "         -1.4693e-02, -5.3191e-04, -6.5713e-02, -5.6703e-04,  5.8467e-03,\n",
       "         -9.2977e-03, -2.1536e-02, -2.7051e-02, -9.1173e-03, -1.6347e-02,\n",
       "          2.6774e-02, -2.1119e-03, -2.8134e-03,  2.3585e-02, -1.4610e-02,\n",
       "         -3.8724e-02,  3.0662e-03, -1.4948e-02,  2.9766e-02, -7.5056e-03,\n",
       "         -2.3654e-02,  1.4465e-04, -1.4198e-02, -5.3379e-03,  1.2986e-02,\n",
       "         -8.4744e-03, -2.5265e-02, -2.2930e-02, -1.1464e-02,  7.7043e-04,\n",
       "         -2.7546e-03, -1.0490e-02,  4.5752e-03,  3.1848e-02, -4.6692e-02,\n",
       "          3.0741e-03, -1.8879e-02, -1.6872e-03, -1.6066e-03,  1.4736e-02,\n",
       "          2.8434e-03, -4.8293e-02,  9.1640e-03, -9.8179e-02,  1.8396e-02,\n",
       "         -3.6548e-03, -7.6137e-03,  2.1188e-02, -1.8981e-03, -6.0275e-02,\n",
       "          2.1971e-02, -5.6418e-03,  1.6079e-02, -1.6398e-02, -1.0881e-02,\n",
       "          2.6136e-03, -3.4242e-02, -5.8647e-03, -1.4370e-02, -7.2135e-03,\n",
       "          2.9235e-02,  1.9242e-02,  8.7591e-03,  1.7534e-03, -9.4079e-03,\n",
       "          1.3279e-02, -7.8425e-03, -3.1792e-02, -2.0998e-01,  3.5604e-02,\n",
       "         -1.9259e-03,  3.1472e-03, -3.0363e-02,  1.5757e-02,  1.7087e-02,\n",
       "          1.6433e-02, -4.1256e-02, -2.1892e-02, -2.0753e-02, -3.1900e-02,\n",
       "         -1.0206e-02, -3.7446e-02, -1.4342e-02,  1.9479e-02, -4.7781e-02,\n",
       "          5.1100e-04, -7.6038e-03,  1.3658e-02, -1.7482e-02, -2.0407e-02,\n",
       "          1.4632e-03,  1.5060e-02,  5.8339e-03,  2.3983e-02,  7.4477e-02,\n",
       "         -1.9835e-02, -2.1720e-02, -2.7890e-02,  1.4077e-02,  5.4261e-03,\n",
       "          8.1684e-03, -3.9249e-02,  7.8615e-03, -2.3608e-02, -2.4945e-03,\n",
       "         -1.7302e-02, -2.0435e-02,  4.8972e-03, -1.1763e-02, -2.7711e-02,\n",
       "          7.9683e-03, -2.4140e-02, -5.8353e-02,  6.3809e-03, -1.0513e-02,\n",
       "          3.5958e-02, -2.2841e-02, -9.2211e-03,  1.4007e-02, -3.9117e-02,\n",
       "          1.8188e-02, -2.9494e-02, -8.3613e-03, -1.3600e-02, -6.4841e-03,\n",
       "         -5.0265e-02,  4.6969e-02, -2.0311e-02,  7.7391e-03, -4.5563e-02,\n",
       "          2.3268e-03, -1.6876e-02,  1.5213e-02, -4.4214e-02, -3.0988e-03,\n",
       "         -6.3654e-03, -1.2473e-02, -1.3707e-02,  8.3074e-03, -9.6137e-03,\n",
       "         -8.8445e-03,  1.4415e-02, -1.5201e-02, -2.7635e-02, -1.8324e-02,\n",
       "         -2.2873e-02,  1.0597e-02, -2.2792e-02,  4.6197e-03,  5.5522e-03,\n",
       "         -1.7432e-02, -4.3491e-02,  5.6282e-03, -1.2856e-02, -2.7257e-02,\n",
       "         -4.1771e-02,  4.7134e-02, -1.3884e-02,  3.9703e-03,  4.0661e-03,\n",
       "          1.0849e-02, -1.2758e-02, -2.1473e-02, -1.9151e-03,  5.3991e-03,\n",
       "          2.0821e-02, -1.5330e-02, -1.2629e-02, -4.8732e-03,  2.2391e-02,\n",
       "          1.5442e-03, -3.6796e-02, -2.3734e-02,  1.2737e-02, -5.7634e-03,\n",
       "         -1.8259e-02, -1.5662e-02,  5.7387e-03, -4.5444e-03, -2.4022e-02,\n",
       "         -3.6988e-02, -1.8689e-03, -2.5400e-02, -7.9810e-02, -4.1237e-03,\n",
       "          9.5753e-03, -8.0255e-02, -5.9798e-04,  2.7879e-03, -5.5896e-04,\n",
       "          1.0798e-02, -6.3147e-03, -1.0641e-01, -1.4852e-02,  1.1445e-02,\n",
       "         -4.0403e-02, -4.5607e-02, -1.8856e-02, -1.7299e-03, -4.2379e-02,\n",
       "         -2.3960e-02, -1.5669e-02,  3.8143e-03, -3.1545e-02,  1.4770e-02,\n",
       "         -2.6382e-02,  3.6651e-03, -2.1186e-03,  2.5503e-03,  1.7872e-02,\n",
       "         -2.7808e-02, -5.0097e-02,  1.3627e-02,  4.6809e-03, -3.8484e-03,\n",
       "          8.2293e-04, -2.6171e-02, -3.1054e-03, -1.9453e-03,  1.5705e-02,\n",
       "          1.4842e-02,  8.4185e-03, -3.1299e-03, -6.6763e-03, -8.8145e-03,\n",
       "          1.1241e-02,  4.2577e-03, -3.7481e-02, -1.6295e-02]),\n",
       " 'encoder.layer.4.attention.self.query.weight': tensor([[ 0.0125, -0.0270, -0.0328,  ..., -0.0416, -0.0575,  0.0276],\n",
       "         [ 0.0501,  0.0015, -0.1145,  ...,  0.0423, -0.1316, -0.0835],\n",
       "         [ 0.0436, -0.0270, -0.0213,  ...,  0.0417, -0.0797,  0.0014],\n",
       "         ...,\n",
       "         [ 0.0026, -0.0511, -0.1305,  ...,  0.0034,  0.1876,  0.0523],\n",
       "         [ 0.0034, -0.0422,  0.0187,  ..., -0.0737,  0.0635,  0.0359],\n",
       "         [ 0.0193,  0.0040,  0.1413,  ..., -0.0776, -0.0575,  0.0004]]),\n",
       " 'encoder.layer.4.attention.self.query.bias': tensor([ 2.8417e-01, -2.7144e-01,  2.4351e-01, -2.7846e-01, -7.7295e-02,\n",
       "         -2.6162e-01,  2.6265e-01, -2.5501e-01,  1.5314e-01,  1.4142e-01,\n",
       "         -3.5025e-02,  2.5090e-01, -1.0226e-01, -8.5926e-03,  2.6907e-01,\n",
       "          1.5578e-01, -7.0450e-05,  1.8659e-01,  2.2804e-01, -1.0945e-01,\n",
       "         -2.5733e-01,  2.8641e-01,  1.6955e-01, -3.1413e-01,  1.9758e-01,\n",
       "         -3.3222e-01,  1.6033e-03,  2.8881e-01, -3.3489e-01,  2.5261e-01,\n",
       "          1.3564e-01, -1.2959e-01, -3.5331e-02, -3.7693e-02, -1.3579e-01,\n",
       "         -2.7795e-01, -4.5972e-02, -2.7831e-02, -2.7454e-02, -4.8029e-02,\n",
       "         -2.8657e-02, -6.9389e-02,  2.1146e-01, -9.4915e-02, -2.1262e-01,\n",
       "         -1.3806e-01,  2.7172e-01,  3.9570e-03,  3.4130e-01, -8.4197e-02,\n",
       "          8.0780e-02, -1.0681e-01, -7.1089e-02,  2.6068e-01,  1.2996e-01,\n",
       "         -2.4526e-01, -1.5916e-01, -1.1020e-01, -1.4775e-02, -1.6168e-01,\n",
       "         -2.4709e-01,  7.3067e-02, -2.7151e-02,  2.0252e-01,  9.4711e-02,\n",
       "         -1.2046e-01, -8.4816e-02, -7.6450e-02,  5.1206e-02, -3.9352e-02,\n",
       "         -1.0722e-01, -1.8587e-01, -8.5521e-02, -1.9043e-01, -1.2419e-03,\n",
       "          2.2197e-02, -1.2069e-01, -1.3453e-01, -1.4319e-01,  1.4256e-01,\n",
       "         -8.9647e-02,  7.6240e-02,  6.1452e-02,  1.8926e-02,  1.3346e-01,\n",
       "         -1.4986e-01, -7.6221e-03, -1.1818e-01, -5.1688e-03,  5.1876e-02,\n",
       "          1.8962e-01, -3.6183e-02,  1.1525e-01,  6.9081e-03, -1.0362e-01,\n",
       "         -1.0306e-02, -2.7004e-02, -4.4386e-02,  2.9211e-01,  7.6979e-02,\n",
       "          4.1727e-02, -4.9097e-02,  2.1655e-01, -3.8333e-01,  3.4378e-02,\n",
       "         -2.1744e-01, -1.1746e-01,  8.6269e-02,  4.2725e-02, -1.7274e-01,\n",
       "          8.2397e-02, -1.4022e-01, -3.4466e-01,  8.6732e-02, -1.7482e-01,\n",
       "          1.0493e-01,  4.3813e-01, -2.7082e-02, -1.7856e-01, -7.0063e-02,\n",
       "          2.3502e-01,  2.7018e-01,  4.2075e-02, -2.2110e-01,  3.9329e-01,\n",
       "         -1.4316e-01, -1.2014e-02,  4.0047e-02,  8.6859e-02, -1.4177e-01,\n",
       "          1.9451e-01,  2.8636e-02, -3.2679e-02,  8.1372e-02,  2.3099e-01,\n",
       "          6.9705e-02, -1.5669e-02,  9.5766e-02,  1.4542e-01, -7.3153e-02,\n",
       "          6.5073e-02, -3.4114e-02,  1.2737e-01,  6.1796e-02,  3.1466e-02,\n",
       "         -1.2440e-01,  7.1056e-02,  6.5918e-02, -1.9191e-01, -1.1260e-01,\n",
       "          6.5685e-02, -5.7079e-02, -9.6619e-02,  2.3593e-01,  9.6819e-02,\n",
       "         -2.0279e-01,  1.8242e-01, -6.2191e-02, -3.8099e-02,  5.2553e-02,\n",
       "          1.0234e-01,  2.2796e-01, -1.8998e-02, -2.4724e-01,  8.5178e-02,\n",
       "          1.0642e-01,  2.6758e-01,  1.2508e-01, -2.1289e-01,  7.1255e-02,\n",
       "          9.6742e-02, -1.9309e-01,  1.5378e-01,  2.4165e-01, -2.4033e-01,\n",
       "          2.6417e-04,  2.4590e-01,  2.5311e-01, -5.7126e-02, -8.8904e-02,\n",
       "          1.3984e-01, -1.9533e-01, -5.8301e-02, -2.0745e-01,  2.5980e-01,\n",
       "          3.1091e-01, -5.7130e-02,  4.6495e-02,  6.1130e-02,  2.2185e-01,\n",
       "          3.7644e-02,  1.8595e-01, -2.8903e-01,  2.4284e-01, -1.3777e-01,\n",
       "         -3.1690e-02,  2.2289e-01, -2.5587e-01,  4.0771e-02, -1.7244e-01,\n",
       "         -2.3550e-01,  1.1126e-01,  2.5588e-01, -1.3801e-01,  9.7458e-02,\n",
       "          2.6840e-01, -1.5147e-01,  6.6776e-02,  2.0168e-01,  7.7260e-02,\n",
       "          1.7651e-01, -2.1583e-01, -1.4692e-01, -5.8602e-02, -6.1797e-02,\n",
       "         -5.0554e-02,  1.6368e-01, -2.0635e-01, -2.6504e-01,  2.6183e-01,\n",
       "          1.1071e-01,  7.7021e-02,  1.3662e-01, -2.5032e-01, -2.5883e-01,\n",
       "         -3.2435e-01, -1.1558e-01,  1.8643e-01, -5.8404e-02, -2.6217e-01,\n",
       "         -2.4128e-01, -3.4343e-01,  1.7366e-01,  2.3233e-01,  1.3730e-01,\n",
       "          1.7357e-01,  2.1244e-01, -3.7448e-01,  1.3037e-01, -2.9637e-01,\n",
       "          6.8029e-02,  2.8604e-01, -1.6381e-01, -3.6704e-01,  2.0046e-01,\n",
       "         -7.8867e-03,  2.9025e-01, -2.2774e-01,  1.2801e-01, -3.2366e-01,\n",
       "          1.1205e-01, -1.9714e-01,  4.3652e-02,  2.5018e-02, -9.1206e-02,\n",
       "         -8.5934e-02, -8.6759e-03, -6.1555e-02,  1.7803e-01, -2.4304e-01,\n",
       "         -1.3724e-01,  1.3745e-01, -1.6823e-01, -1.2383e-01, -2.2832e-01,\n",
       "          2.6717e-01,  1.4785e-01, -2.5908e-01, -1.7939e-02, -3.6219e-03,\n",
       "         -3.0845e-02,  1.7743e-01, -1.2418e-01,  9.0512e-02, -2.5261e-01,\n",
       "         -3.4647e-01,  2.4010e-01, -1.3596e-01, -1.1818e-02,  1.8735e-01,\n",
       "         -1.9226e-01, -1.6685e-01, -1.9199e-02,  2.1536e-01, -1.1159e-01,\n",
       "          8.1224e-02, -2.5817e-01,  1.1325e-01, -4.5964e-02, -1.6150e-01,\n",
       "         -3.8876e-01, -2.0855e-01,  4.1249e-01,  4.4119e-01,  2.2463e-01,\n",
       "         -1.3280e-01,  1.4793e-01,  2.7154e-01, -2.4975e-01,  1.7992e-01,\n",
       "         -6.8758e-02,  3.6035e-01, -2.6796e-01, -4.4970e-01,  3.0116e-03,\n",
       "         -1.7208e-01,  2.4154e-01, -3.2598e-01, -4.2386e-01, -3.5274e-01,\n",
       "         -3.3268e-01,  2.1389e-01, -1.6794e-01,  3.7652e-01, -1.1530e-01,\n",
       "         -7.5154e-02, -3.0136e-01, -2.7865e-01, -1.1702e-02, -2.0167e-01,\n",
       "          7.8300e-02, -4.2332e-03, -1.5639e-01, -1.2156e-01,  1.2538e-01,\n",
       "          3.4420e-02,  1.8766e-02, -9.8800e-02, -1.4496e-01,  9.3139e-02,\n",
       "          1.0232e-01, -1.3315e-02,  6.4044e-02,  1.9445e-01, -1.7662e-01,\n",
       "          1.0781e-01,  3.6715e-02,  5.9117e-02,  5.8205e-02, -1.4086e-01,\n",
       "         -9.6971e-02,  9.4043e-02, -1.0860e-01,  1.4612e-01, -8.5803e-02,\n",
       "          5.6990e-02,  4.9789e-02, -1.1903e-01,  5.3670e-02,  8.2981e-02,\n",
       "          6.1871e-02,  1.3042e-01, -1.4889e-01,  1.4990e-01, -1.3650e-02,\n",
       "          5.3861e-02, -9.2390e-02,  1.4783e-01,  1.1659e-01,  2.4653e-02,\n",
       "          1.1415e-01, -1.9042e-01, -1.0615e-01, -1.3443e-01, -5.9591e-02,\n",
       "          1.6060e-01, -1.1116e-01,  1.4800e-01,  1.7425e-01, -2.1213e-02,\n",
       "         -6.8136e-03, -1.8356e-01, -5.0061e-02,  6.1245e-02, -2.6317e-02,\n",
       "         -2.9737e-02,  5.1842e-02, -5.2167e-03,  1.8996e-01, -2.1056e-01,\n",
       "          5.2832e-02, -1.0339e-01, -8.0987e-02,  9.9475e-02]),\n",
       " 'encoder.layer.4.attention.self.key.weight': tensor([[-0.0374, -0.0202,  0.0849,  ..., -0.0201, -0.0435, -0.0277],\n",
       "         [ 0.0992, -0.0378, -0.0905,  ...,  0.0013, -0.1149, -0.0698],\n",
       "         [ 0.0120,  0.0324, -0.0802,  ...,  0.0080, -0.0311, -0.0406],\n",
       "         ...,\n",
       "         [ 0.0629, -0.0149, -0.0802,  ..., -0.0816,  0.1190,  0.0548],\n",
       "         [ 0.0270,  0.0674,  0.0300,  ..., -0.0477,  0.0889, -0.1049],\n",
       "         [ 0.0274, -0.0447,  0.0076,  ..., -0.0688, -0.1213, -0.0536]]),\n",
       " 'encoder.layer.4.attention.self.key.bias': tensor([-2.3018e-04, -7.6903e-04, -2.2349e-04, -1.0607e-03, -2.1811e-04,\n",
       "          5.9508e-04,  7.5915e-04, -9.1356e-04,  1.1351e-03, -2.5848e-04,\n",
       "         -2.0840e-04, -4.1578e-04, -5.6780e-04,  2.7181e-04, -1.6272e-04,\n",
       "         -8.0342e-04, -1.0265e-04,  1.4324e-04,  8.0500e-04, -2.3576e-04,\n",
       "         -1.1556e-03,  2.1589e-04,  7.4484e-04, -3.5352e-04, -7.2154e-06,\n",
       "         -1.0869e-04, -2.1842e-04,  6.8612e-06, -5.4352e-04,  1.0896e-03,\n",
       "         -2.3522e-04, -3.0238e-05, -6.9650e-04,  1.1093e-04, -4.6024e-04,\n",
       "          5.4952e-04,  6.9798e-04, -3.5631e-05,  5.7978e-04,  9.7112e-04,\n",
       "         -2.2150e-04, -5.7731e-04, -2.9087e-05, -1.4233e-04, -1.0463e-04,\n",
       "         -6.0916e-04, -1.2101e-03, -8.1966e-04, -4.7319e-04,  6.7535e-05,\n",
       "         -7.2403e-04,  4.8386e-04,  6.1253e-04, -1.4142e-04,  1.1079e-04,\n",
       "          1.5974e-03,  7.8819e-04,  6.6750e-04,  9.7929e-04,  4.2496e-04,\n",
       "          1.6775e-03, -1.6258e-03, -5.7195e-04, -7.8837e-04, -1.8713e-03,\n",
       "          9.3070e-04,  1.4842e-03, -6.4599e-04, -1.9756e-03, -6.2165e-04,\n",
       "          7.1498e-04,  5.2753e-04,  9.4972e-04,  2.2385e-04,  3.1996e-04,\n",
       "         -1.2172e-03,  5.8023e-04,  9.8652e-04,  8.7844e-04, -4.1884e-04,\n",
       "         -8.7702e-04,  2.3460e-05,  8.1572e-04, -5.5205e-04, -1.7275e-03,\n",
       "          1.7900e-03,  9.4896e-04,  2.1548e-03,  6.1004e-04,  9.7729e-04,\n",
       "          3.1532e-04,  2.5695e-04, -9.9837e-04, -7.3910e-04,  2.5239e-04,\n",
       "         -3.5858e-04,  1.8954e-04,  5.5357e-04, -1.5981e-03,  4.9964e-04,\n",
       "          3.9056e-04,  1.0800e-03,  4.1911e-04,  2.3868e-03, -2.8952e-04,\n",
       "          7.2949e-04,  6.9230e-04,  1.1856e-03, -6.3780e-04,  1.1192e-03,\n",
       "         -3.0839e-04, -6.8892e-04,  5.9423e-04,  5.0002e-05,  1.2102e-03,\n",
       "          4.1003e-05, -1.6652e-03,  4.9945e-04,  3.0602e-04, -2.5824e-04,\n",
       "          3.4861e-04, -1.1469e-03, -5.9095e-05, -2.0439e-04, -1.3154e-03,\n",
       "         -8.7516e-05,  6.1680e-05,  7.5572e-04,  2.1423e-04, -2.8336e-04,\n",
       "          1.7818e-04, -1.0627e-04, -1.0042e-03, -1.8546e-04,  1.9188e-03,\n",
       "          4.0548e-04, -7.8696e-04, -1.9767e-05,  1.1796e-05,  2.3537e-04,\n",
       "         -5.4063e-04, -2.5384e-04, -2.2008e-04,  6.8992e-04,  5.8566e-04,\n",
       "         -5.4876e-04,  2.1819e-04,  3.9055e-04, -2.4868e-04,  1.8411e-04,\n",
       "          8.0972e-05,  2.5088e-05, -9.1139e-04,  3.9220e-04,  6.8843e-05,\n",
       "         -9.6185e-04,  1.4226e-03, -1.2659e-03, -3.6010e-04, -4.9179e-04,\n",
       "         -7.2637e-04,  6.1498e-04, -2.0308e-04, -1.0250e-03,  8.5475e-04,\n",
       "         -1.7075e-03,  3.8700e-04,  5.3457e-04,  8.7514e-04,  8.0410e-04,\n",
       "          1.2694e-03,  6.5676e-04,  1.0690e-03,  1.3946e-03, -1.9971e-05,\n",
       "          2.3567e-04,  2.2064e-04,  6.3265e-04, -1.0103e-04,  5.1114e-04,\n",
       "          1.1683e-03, -8.3803e-04,  7.4800e-04, -1.5555e-03, -1.1884e-05,\n",
       "          5.4481e-04, -5.5764e-04,  5.5235e-05, -1.3995e-03, -4.2424e-05,\n",
       "          3.5074e-04,  5.3979e-04, -6.5803e-04, -1.6959e-04,  1.2501e-03,\n",
       "         -3.2998e-04,  3.5145e-04,  3.4754e-04,  4.6125e-04,  1.8965e-04,\n",
       "         -2.8772e-04,  8.2093e-05, -6.3434e-04,  1.5126e-04,  4.0248e-05,\n",
       "         -1.6733e-04, -1.7646e-05, -4.7614e-05, -1.2136e-03, -3.0894e-04,\n",
       "          3.6157e-04,  1.0784e-03,  1.0563e-03,  1.0599e-04, -1.3699e-04,\n",
       "          1.6374e-04, -2.2957e-04, -1.6235e-04,  3.5290e-04, -5.1419e-05,\n",
       "         -9.1943e-04, -2.0350e-04,  1.0905e-04, -6.6885e-04,  1.7571e-04,\n",
       "          1.1113e-03,  1.2229e-03,  6.9340e-04,  4.9526e-04,  4.4237e-05,\n",
       "          4.1079e-04,  2.6893e-04, -8.5323e-04, -3.3818e-04,  1.0015e-03,\n",
       "          4.5198e-04,  1.1982e-03,  1.7550e-04,  1.6198e-04, -8.7072e-04,\n",
       "         -2.0694e-04, -1.9841e-03, -1.7214e-03, -1.0386e-03, -2.3154e-03,\n",
       "         -1.6182e-04, -5.7461e-04,  4.5653e-04,  1.7036e-03,  6.8300e-04,\n",
       "         -1.9989e-04,  3.4428e-04,  9.1372e-04,  9.0553e-04,  3.8431e-05,\n",
       "          3.6291e-04, -2.8393e-04, -2.3119e-04,  2.1529e-04, -1.1496e-03,\n",
       "          8.2966e-05,  1.1735e-03, -4.4583e-04, -4.9284e-04, -1.8725e-03,\n",
       "          1.6881e-03,  3.4754e-07, -1.7677e-03,  2.1537e-05, -2.8560e-05,\n",
       "         -4.8253e-04,  2.3328e-04, -4.2222e-04, -1.6739e-04, -4.7995e-04,\n",
       "         -1.0871e-03,  1.8139e-03, -1.0510e-03,  4.2469e-04,  7.3978e-04,\n",
       "         -3.1209e-04, -7.3247e-04,  1.1059e-03,  2.3249e-04, -6.9482e-04,\n",
       "          1.8280e-03, -1.2597e-03,  3.2278e-04,  2.2701e-04,  4.2497e-06,\n",
       "         -4.7659e-05,  6.1619e-04,  1.8062e-04, -3.3653e-04, -2.9339e-04,\n",
       "         -5.3878e-04,  4.2845e-04,  1.4332e-04, -5.8451e-04, -3.2436e-04,\n",
       "          5.9386e-05,  4.6172e-04, -1.2318e-04,  4.5728e-04,  4.6341e-04,\n",
       "          2.6854e-04, -2.2103e-04,  3.1602e-04, -6.8203e-04, -4.7362e-04,\n",
       "          1.5225e-04,  3.1404e-04,  5.4862e-04, -2.3806e-04, -5.1207e-06,\n",
       "         -4.4585e-04, -1.3785e-04, -3.4531e-04, -3.3072e-04,  2.9023e-04,\n",
       "          5.7100e-04,  1.9485e-04,  4.8606e-04, -4.6916e-04,  2.4188e-04,\n",
       "         -4.8361e-04,  2.1290e-04, -1.0443e-03, -1.0465e-03, -5.1719e-04,\n",
       "         -5.5707e-04,  6.4965e-04, -4.5705e-04,  2.4537e-04,  3.7510e-04,\n",
       "          6.3123e-04, -5.2931e-05,  9.1203e-04, -5.8955e-04,  3.6306e-04,\n",
       "         -1.0901e-03, -6.6688e-04, -1.0978e-03,  1.2408e-03, -1.1413e-04,\n",
       "         -5.3919e-04,  2.5663e-04, -6.9956e-04,  8.3196e-05,  4.5984e-04,\n",
       "          4.8209e-04,  6.6118e-04, -1.6353e-03,  9.5458e-04, -7.3088e-04,\n",
       "         -6.9199e-04, -5.9617e-04,  5.0722e-04,  3.4028e-05, -9.4434e-04,\n",
       "          7.5276e-05, -1.9755e-03, -1.9901e-04,  1.0326e-03,  7.5480e-04,\n",
       "          3.7328e-05,  1.3844e-04,  2.4322e-04,  3.8597e-04,  5.2420e-04,\n",
       "          6.8205e-04, -5.7386e-04, -7.3401e-04,  1.5311e-04, -1.2709e-03,\n",
       "         -3.1295e-04,  1.7306e-04, -2.1587e-04,  2.1068e-03, -2.0649e-03,\n",
       "          1.7667e-03, -2.4365e-04,  8.7216e-04, -1.1293e-03]),\n",
       " 'encoder.layer.4.attention.self.value.weight': tensor([[-0.0015, -0.0652,  0.0617,  ...,  0.0045,  0.0367, -0.0080],\n",
       "         [-0.0163,  0.0144,  0.0298,  ...,  0.0423, -0.0470, -0.0493],\n",
       "         [ 0.0101,  0.0218, -0.0409,  ..., -0.0240, -0.0018,  0.0779],\n",
       "         ...,\n",
       "         [ 0.0423,  0.0296, -0.0284,  ...,  0.0719, -0.0588, -0.0128],\n",
       "         [-0.0807, -0.0985,  0.0986,  ...,  0.0854, -0.0177, -0.0055],\n",
       "         [ 0.0632, -0.1687, -0.0047,  ..., -0.0436, -0.0105, -0.0763]]),\n",
       " 'encoder.layer.4.attention.self.value.bias': tensor([ 1.5503e-02,  1.0954e-02, -3.6268e-02, -1.4887e-02, -1.5575e-02,\n",
       "          2.0588e-03, -1.1963e-02, -2.3433e-02, -1.1731e-02,  4.9758e-04,\n",
       "          2.3684e-02,  2.4907e-02, -1.6529e-02,  3.8014e-02, -5.1792e-03,\n",
       "          9.7044e-03,  1.5729e-02,  2.4649e-02, -1.5158e-02,  9.0534e-03,\n",
       "          8.3197e-03, -3.6716e-03, -6.9379e-03, -2.7747e-02, -2.9725e-02,\n",
       "          4.9349e-02, -1.8338e-02, -2.3874e-02,  5.5495e-02,  1.4444e-02,\n",
       "          1.6414e-02, -8.4818e-04,  3.6025e-04, -5.7789e-03,  5.4135e-03,\n",
       "         -2.4409e-03, -1.3537e-02,  3.4464e-03, -2.6162e-02, -5.4534e-04,\n",
       "         -1.2607e-02,  8.2460e-03, -2.2860e-02, -1.7737e-02, -2.0866e-02,\n",
       "          7.9658e-03,  1.6100e-03, -5.2888e-03,  3.9824e-04,  1.6553e-02,\n",
       "         -1.5524e-02, -6.7111e-03, -8.0806e-03, -2.3206e-04, -7.4061e-03,\n",
       "         -1.5832e-02, -1.7528e-02,  4.8554e-03,  2.6454e-02, -8.6900e-03,\n",
       "          1.5538e-02,  9.5513e-05, -5.2734e-03,  7.9601e-03, -2.1880e-03,\n",
       "         -1.4402e-02,  3.9615e-02, -9.6372e-03,  2.1694e-02, -1.3564e-02,\n",
       "          5.6344e-03, -2.4052e-02, -4.4988e-02,  1.3066e-02, -1.8250e-02,\n",
       "         -4.7894e-03, -1.0126e-02, -2.2587e-02, -4.7532e-03, -5.2599e-03,\n",
       "          1.0671e-02, -7.9200e-03,  2.1208e-02,  1.5391e-03,  1.1425e-02,\n",
       "         -1.4844e-02, -4.3919e-03,  9.3169e-04,  4.0912e-03,  3.1873e-02,\n",
       "         -7.6627e-03,  3.7948e-02, -1.1503e-02,  6.7561e-04, -7.8065e-03,\n",
       "          4.6320e-03, -7.1288e-03, -8.9700e-03, -4.4219e-03, -1.3456e-02,\n",
       "         -2.2733e-03,  9.1884e-03,  4.9444e-03, -2.1314e-03,  1.2998e-02,\n",
       "         -4.7562e-03,  8.1986e-03, -5.0811e-03, -5.9307e-03, -1.8478e-02,\n",
       "         -2.2082e-02, -7.2116e-03, -1.9272e-02, -1.3473e-03,  5.7206e-04,\n",
       "         -1.9698e-03, -3.5595e-03,  1.7787e-02,  3.7240e-03, -5.9969e-03,\n",
       "         -1.8166e-03,  5.2892e-03, -1.1114e-02, -6.3766e-03,  1.2316e-02,\n",
       "         -5.3812e-03, -7.2561e-03,  8.2755e-03,  9.6324e-03, -2.6303e-03,\n",
       "         -5.9425e-03, -2.0565e-03, -5.1835e-03, -1.1216e-02,  6.6656e-05,\n",
       "          6.9426e-04, -1.1590e-03, -2.5757e-03, -1.6128e-02, -4.1776e-04,\n",
       "         -8.2731e-03, -1.7897e-02,  4.9476e-04,  1.3736e-02,  5.0965e-03,\n",
       "          1.9998e-03, -1.9470e-03, -4.4162e-03,  1.0196e-02,  3.4276e-03,\n",
       "          5.0466e-03,  9.3692e-04, -2.0779e-03,  2.7350e-03,  1.4792e-03,\n",
       "         -1.0296e-02,  6.0969e-04,  2.1328e-03, -1.5397e-02, -9.3899e-03,\n",
       "         -3.4140e-02, -1.8620e-02,  8.3010e-03, -9.5253e-03, -1.6074e-02,\n",
       "          1.0546e-02, -1.2317e-02, -9.2932e-04,  1.3350e-02,  1.3363e-02,\n",
       "          1.2983e-02,  1.0011e-03, -2.1077e-03,  3.6784e-03, -1.8049e-02,\n",
       "         -3.2386e-03,  2.1314e-02, -6.3509e-03,  7.7823e-03,  1.5785e-02,\n",
       "          6.1285e-03,  2.0908e-02, -2.3939e-02, -2.5033e-03,  5.1129e-02,\n",
       "         -6.3554e-03,  2.3829e-02,  7.4950e-03,  4.0686e-02, -4.3402e-02,\n",
       "          1.2014e-03,  1.6676e-02,  1.6865e-02, -6.5160e-02,  2.7679e-02,\n",
       "         -2.6040e-02,  3.0641e-02, -1.9585e-02, -1.7161e-02,  1.1152e-02,\n",
       "         -7.3310e-02,  5.7492e-03, -2.8784e-02,  7.9688e-02,  2.1746e-02,\n",
       "         -5.3922e-03, -2.9480e-02, -2.9117e-02, -3.1228e-02,  4.1150e-03,\n",
       "         -8.9135e-04,  4.1883e-02,  3.1850e-02, -1.7186e-02,  3.9558e-02,\n",
       "          2.9235e-03, -5.9311e-02,  1.9646e-02,  3.1934e-03, -2.9858e-03,\n",
       "         -2.3165e-02, -9.8784e-03, -3.8119e-02,  8.0175e-02,  4.2675e-02,\n",
       "          1.7732e-02, -6.3137e-04, -1.4322e-03,  3.8904e-02,  4.0434e-02,\n",
       "          7.3215e-03, -1.3088e-02,  2.1241e-03, -6.7639e-02,  2.4405e-02,\n",
       "         -3.8244e-02, -7.1061e-02,  4.3836e-02,  5.2252e-02, -1.7933e-02,\n",
       "          5.7140e-02,  2.2362e-02, -5.6034e-02, -2.0156e-02, -5.2053e-03,\n",
       "         -4.5690e-02, -7.2855e-04,  1.3343e-02, -4.8288e-02, -3.2278e-02,\n",
       "          4.3251e-02,  1.8801e-02, -3.4993e-02,  5.6284e-02, -3.7281e-02,\n",
       "          5.6615e-03, -1.7007e-02,  1.5243e-02,  2.4541e-02, -1.3700e-02,\n",
       "          5.6564e-03, -3.0071e-03,  1.0846e-02,  2.1820e-02,  1.0941e-02,\n",
       "          2.1442e-03,  6.6447e-03,  4.9415e-03,  8.3297e-03, -2.3874e-02,\n",
       "         -1.4070e-02, -1.5626e-02,  2.0878e-02, -3.9067e-02,  2.2481e-02,\n",
       "          1.6223e-03, -1.5036e-03,  1.8889e-02, -7.6212e-03,  2.2545e-02,\n",
       "         -2.9458e-02, -1.2565e-02,  1.5007e-02,  2.7432e-02,  1.9089e-02,\n",
       "         -3.0787e-02,  9.7183e-03,  1.6786e-02, -6.2711e-02, -2.7588e-02,\n",
       "         -3.2337e-02, -1.5617e-01,  1.2862e-02, -1.9614e-01, -1.2533e-02,\n",
       "         -6.7035e-02, -1.2615e-03, -4.9287e-02,  6.5442e-02, -1.0399e-01,\n",
       "         -1.2069e-01,  5.8755e-02,  1.4187e-02, -6.0347e-02,  1.2611e-02,\n",
       "         -1.0108e-02, -4.7396e-04,  2.5031e-02, -6.8303e-02, -9.7002e-02,\n",
       "          5.4477e-02, -2.7403e-02,  6.7785e-02, -5.1706e-02, -2.8423e-03,\n",
       "          1.3423e-02,  1.5192e-01, -9.1228e-03, -5.8883e-03, -1.1817e-03,\n",
       "          4.0327e-03,  3.6862e-02, -9.8920e-03,  3.1204e-02, -2.1548e-02,\n",
       "          1.5203e-02, -2.2620e-02,  8.1873e-03,  6.0359e-03, -1.1881e-02,\n",
       "          1.6857e-02, -1.1602e-02,  6.1263e-03,  4.0008e-03,  1.4561e-02,\n",
       "         -6.2811e-02, -2.9889e-02, -3.0043e-03,  1.5780e-02, -1.6925e-03,\n",
       "          1.1615e-02, -3.7393e-04, -1.9587e-02, -1.7995e-02,  8.5503e-03,\n",
       "          2.0912e-02, -3.3045e-03, -1.1646e-02,  8.3416e-03, -6.0737e-03,\n",
       "         -2.0190e-02, -7.1337e-03,  4.2198e-04, -2.0431e-02,  1.1528e-02,\n",
       "         -1.1830e-02,  2.8239e-02,  1.3930e-03, -1.5346e-02, -1.4013e-02,\n",
       "         -2.1329e-02, -2.0519e-02, -4.6331e-03,  2.2553e-02,  7.5547e-03,\n",
       "          1.8590e-02,  1.0283e-02, -5.7708e-03,  1.5718e-02, -6.5189e-02,\n",
       "         -1.1154e-02,  4.7748e-04,  3.1935e-03,  2.6868e-02, -5.2415e-03,\n",
       "         -5.8225e-03, -1.0547e-02,  3.2286e-02,  7.4952e-03,  7.1683e-03,\n",
       "          1.0747e-02,  1.4669e-02,  6.1842e-03, -1.3297e-02]),\n",
       " 'encoder.layer.4.attention.output.dense.weight': tensor([[ 0.0115, -0.0140,  0.0099,  ..., -0.0615, -0.0487, -0.0177],\n",
       "         [ 0.0684,  0.0857,  0.0128,  ..., -0.0145, -0.0024, -0.0502],\n",
       "         [-0.0350,  0.0097, -0.0425,  ...,  0.0327,  0.0657, -0.0257],\n",
       "         ...,\n",
       "         [ 0.0079,  0.0164, -0.0073,  ...,  0.0249,  0.0662, -0.0095],\n",
       "         [ 0.0070,  0.0376, -0.0023,  ..., -0.0112, -0.0771, -0.0064],\n",
       "         [ 0.0209,  0.0404, -0.0602,  ..., -0.0458, -0.0163, -0.0185]]),\n",
       " 'encoder.layer.4.attention.output.dense.bias': tensor([ 3.7352e-02,  7.2798e-03,  5.5611e-02,  1.1617e-01,  1.8024e-02,\n",
       "         -1.6545e-02,  9.0058e-03, -4.3591e-02,  2.4303e-03, -1.2208e-01,\n",
       "          4.9085e-02, -1.3120e-02, -9.7475e-02, -1.5878e-01, -2.1004e-02,\n",
       "          4.5917e-03, -1.6351e-02,  1.9929e-02,  6.1333e-02, -6.4719e-02,\n",
       "         -1.6424e-02, -8.2855e-03,  1.4114e-02, -1.0788e-01, -3.5725e-02,\n",
       "         -2.7588e-02, -1.7269e-01,  3.1481e-03,  1.4510e-02, -5.9613e-02,\n",
       "          7.7032e-02, -5.2983e-02,  1.0157e-02, -8.4932e-02, -9.2564e-03,\n",
       "         -3.8969e-02, -6.1193e-02, -3.1114e-02,  9.5849e-02,  2.0246e-02,\n",
       "          3.1896e-02,  5.5842e-02,  1.6281e-02, -5.4470e-03, -2.1665e-02,\n",
       "          3.7585e-02, -7.2627e-03, -2.4417e-02, -7.6844e-02,  1.2712e-02,\n",
       "          2.6037e-02,  1.2086e-01,  1.2355e-02, -1.7822e-02, -2.2088e-02,\n",
       "          2.8084e-02,  2.3384e-02,  9.1501e-02, -1.7789e-01, -1.2273e-01,\n",
       "          1.5364e-02, -6.5691e-02,  3.9686e-02, -5.2977e-02, -3.5026e-02,\n",
       "         -1.9727e-02,  1.8143e-02, -1.6744e-02, -3.7573e-02,  4.3031e-02,\n",
       "         -1.6812e-02,  5.6319e-02, -3.2988e-02,  2.1178e-02, -6.7024e-02,\n",
       "         -3.8227e-02,  4.7168e-02,  3.8008e-02,  3.8293e-02,  4.7428e-02,\n",
       "         -2.1499e-02,  1.6735e-02, -2.2655e-02, -9.0452e-03,  1.3359e-02,\n",
       "          8.5912e-02,  2.4592e-02, -2.7222e-02,  6.5556e-02, -1.0772e-01,\n",
       "          5.7073e-03,  8.8200e-03,  3.8931e-02, -1.4099e-02, -5.1937e-02,\n",
       "          3.0736e-02, -1.2929e-04, -6.9688e-02,  2.6692e-02,  4.1035e-02,\n",
       "         -8.7931e-02, -1.8723e-02, -2.4360e-02, -1.1869e-02, -2.8592e-02,\n",
       "         -1.2855e-01,  1.9860e-02,  5.9513e-02, -4.1073e-03, -2.7757e-03,\n",
       "         -2.1230e-02,  1.0334e-01,  3.3127e-02, -4.1474e-02, -6.0723e-02,\n",
       "          1.9163e-02, -6.9631e-02, -1.7283e-01,  4.0866e-02,  8.0720e-03,\n",
       "          1.6244e-02,  9.8828e-02, -1.5349e-02,  4.6549e-03,  1.5917e-02,\n",
       "         -7.1978e-02, -1.1993e-02, -6.8304e-02, -2.7459e-02,  2.3998e-02,\n",
       "          1.1745e-01,  2.2694e-02,  3.5954e-02, -1.0321e-01, -3.3739e-02,\n",
       "          1.7308e-03, -3.0142e-02, -1.7781e-02, -7.8237e-02, -2.2197e-02,\n",
       "          5.1963e-02,  2.7188e-02,  4.6461e-02,  4.0900e-02,  1.9965e-03,\n",
       "          4.8808e-02,  7.2772e-02,  1.1535e-01, -9.4652e-03,  1.8538e-02,\n",
       "         -1.0039e-02,  1.0417e-01,  1.0410e-02,  1.2267e-02,  8.6987e-02,\n",
       "         -1.4156e-01, -3.2310e-02, -5.7605e-02,  2.1019e-02,  5.1699e-02,\n",
       "         -1.8111e-02, -9.8609e-02, -3.6855e-02, -5.2880e-02, -2.9574e-02,\n",
       "          8.9688e-02,  4.5053e-02, -8.8027e-02,  6.4296e-02, -4.2365e-02,\n",
       "          6.8786e-03,  7.6147e-03,  1.3620e-02,  4.4450e-02,  4.4325e-02,\n",
       "         -8.1912e-02,  3.0733e-02,  6.5728e-02, -8.4614e-03,  4.8192e-02,\n",
       "         -5.5181e-02,  2.8310e-02, -9.0424e-02,  2.4068e-02, -9.8174e-03,\n",
       "          5.3541e-02, -2.4958e-02,  5.4768e-02,  6.6487e-02, -2.9046e-02,\n",
       "          2.7657e-02,  9.8819e-03, -1.3446e-02,  4.4793e-02,  6.2445e-02,\n",
       "          8.6027e-03, -2.0610e-02, -5.7699e-02,  4.3228e-02, -8.0446e-02,\n",
       "         -2.4772e-02,  2.8931e-02, -3.3022e-02,  4.1200e-02,  2.3995e-02,\n",
       "         -5.5032e-02,  4.2595e-03,  2.3915e-03,  2.6817e-02, -2.9023e-03,\n",
       "          9.9266e-02, -1.9203e-03,  1.3640e-02, -1.0656e-01, -5.6917e-02,\n",
       "          4.9621e-02, -3.0990e-02, -5.3152e-05, -1.0303e-02, -5.7153e-02,\n",
       "          5.4467e-02, -1.2274e-02,  2.3242e-02,  1.1787e-01, -1.4591e-02,\n",
       "         -3.4654e-02, -2.3415e-02, -1.8030e-02, -3.2265e-02,  1.0548e-01,\n",
       "          9.6239e-03,  5.1254e-02, -2.3573e-02,  1.9527e-02,  1.4431e-02,\n",
       "          5.6931e-02, -3.3177e-02,  1.4389e-01,  5.8414e-02, -7.1752e-02,\n",
       "          7.1118e-03, -1.1503e-02, -5.3050e-02,  1.4750e-02, -5.0484e-02,\n",
       "          2.7335e-02, -1.6484e-02,  1.2215e-02,  1.0302e-01,  8.4416e-03,\n",
       "         -1.0569e-02, -3.2563e-02, -1.0645e-02,  6.8154e-03, -1.8421e-02,\n",
       "         -1.0551e-02,  4.5682e-02,  1.1377e-02, -1.2610e-02,  1.6490e-02,\n",
       "         -1.7944e-03,  1.0134e-02,  8.1553e-02, -2.7629e-03, -3.5853e-02,\n",
       "          1.2175e-02, -2.1974e-02, -5.3677e-03, -5.5429e-02, -8.2631e-02,\n",
       "          8.9238e-03,  2.0848e-02, -2.4714e-02,  5.5559e-02, -6.8725e-02,\n",
       "          9.8432e-02,  2.0057e-02, -2.1699e-03, -1.5186e-02, -3.2221e-02,\n",
       "         -2.6977e-02, -1.1164e-01,  1.8490e-02,  9.2200e-02, -3.6541e-02,\n",
       "         -3.9303e-03, -4.4215e-02, -3.3312e-02, -5.0101e-02, -1.1581e-02,\n",
       "         -1.8712e-02,  3.9347e-02,  3.6205e-03, -1.1608e-02, -1.8528e-02,\n",
       "          1.5729e-02,  1.1805e-02,  1.3958e-02,  1.0448e-02, -2.5533e-02,\n",
       "         -2.6495e-02, -3.6417e-03, -1.4316e-01,  5.4430e-02,  3.9081e-02,\n",
       "          3.5187e-02, -4.8092e-02,  2.8358e-02,  1.8496e-02,  1.3605e-02,\n",
       "         -2.9133e-02,  3.5087e-02, -1.6274e-02,  9.9536e-02,  7.6688e-02,\n",
       "          7.2208e-03,  2.7637e-02,  6.5889e-02, -1.1834e-02,  3.3243e-02,\n",
       "         -8.4033e-03, -1.5521e-03,  3.3425e-02, -1.2737e-01,  3.7520e-02,\n",
       "          7.4352e-02,  2.3742e-03,  5.8454e-02,  3.2677e-02,  4.1561e-02,\n",
       "          1.3029e-02,  2.9481e-03,  1.5984e-02, -1.0812e-01,  2.3988e-03,\n",
       "         -6.0112e-02,  7.5040e-02, -3.4791e-02,  9.5441e-02,  1.2221e-02,\n",
       "          3.1332e-02, -3.3051e-02, -2.9485e-02, -2.4869e-02, -5.7947e-02,\n",
       "          3.7089e-02,  3.9035e-02, -5.0035e-02, -1.1241e-01,  4.7118e-02,\n",
       "         -4.9159e-04, -4.4427e-02, -5.6861e-02,  5.6849e-02, -3.3990e-02,\n",
       "         -6.8683e-02, -1.6955e-02,  1.7924e-02,  4.0593e-02, -9.9348e-03,\n",
       "         -1.4073e-02, -1.4588e-02,  3.5700e-02, -6.1262e-02, -1.0378e-02,\n",
       "          9.1014e-02, -1.7070e-02,  2.1440e-02, -7.6767e-02, -4.3360e-02,\n",
       "          3.0167e-02,  1.0553e-01,  3.3887e-02, -2.9937e-02,  4.3967e-03,\n",
       "          5.4978e-02,  5.8602e-02, -5.3043e-03, -3.1026e-02, -4.6173e-03,\n",
       "         -3.6559e-02,  4.9131e-02, -8.5159e-04,  1.9368e-03]),\n",
       " 'encoder.layer.4.attention.output.LayerNorm.weight': tensor([0.5213, 0.5311, 0.4294, 0.4221, 0.5858, 0.4407, 0.6426, 0.5294, 0.5130,\n",
       "         0.3380, 0.4368, 0.6393, 0.2901, 0.3344, 0.5120, 0.4519, 0.5819, 0.5753,\n",
       "         0.6126, 0.5261, 0.6262, 0.5956, 0.4264, 0.3895, 0.5649, 0.3683, 0.4085,\n",
       "         0.3889, 0.7163, 1.0187, 0.3771, 0.6440, 0.6879, 0.3744, 0.5078, 0.5151,\n",
       "         0.3990, 0.3954, 0.4149, 0.3651, 0.3420, 0.4342, 0.4496, 0.4006, 0.4205,\n",
       "         0.4703, 0.4018, 0.4359, 0.6169, 0.4392, 0.6179, 0.4659, 0.4763, 0.5737,\n",
       "         0.3865, 0.5951, 0.4008, 0.5292, 0.3427, 0.3837, 0.5741, 0.2674, 0.9633,\n",
       "         0.9495, 0.6317, 0.4413, 0.3740, 0.6164, 0.5137, 0.6608, 0.5419, 0.4067,\n",
       "         0.4872, 0.5807, 0.4173, 0.4487, 0.3595, 0.5073, 0.5186, 0.5990, 0.6370,\n",
       "         0.5888, 0.3748, 0.5229, 0.4686, 0.4325, 0.3302, 0.5377, 0.5586, 0.3541,\n",
       "         0.4955, 0.5910, 0.5842, 0.3560, 0.6141, 0.4226, 0.3589, 0.6055, 0.6690,\n",
       "         1.1222, 0.4028, 0.3862, 0.6381, 0.5857, 0.4249, 0.3037, 0.4384, 0.4954,\n",
       "         0.3140, 0.4112, 0.3740, 0.3391, 0.6334, 0.4501, 0.4915, 0.6193, 0.5865,\n",
       "         0.3930, 0.6150, 0.6412, 0.4830, 0.3733, 0.5244, 0.3953, 0.4992, 1.0732,\n",
       "         0.5654, 1.4714, 0.3988, 0.6099, 0.4090, 0.6264, 0.5599, 0.3409, 0.4305,\n",
       "         0.3129, 0.4860, 0.6478, 0.5904, 0.6264, 0.4913, 0.6706, 0.6741, 0.5756,\n",
       "         0.6242, 0.6368, 0.5835, 0.3322, 0.3895, 0.6261, 0.3340, 0.5018, 0.4086,\n",
       "         0.5244, 0.4404, 0.3543, 0.6296, 0.6705, 0.4257, 0.3652, 0.5559, 0.4533,\n",
       "         0.4410, 0.6209, 0.4974, 0.5894, 0.3942, 0.3635, 0.5139, 0.3830, 0.5788,\n",
       "         0.4153, 0.5846, 0.5295, 0.5224, 0.4052, 0.6499, 0.4038, 0.4281, 0.3333,\n",
       "         0.6199, 0.4261, 0.4864, 0.3686, 0.4143, 0.4824, 0.4880, 0.4227, 0.4524,\n",
       "         0.6272, 0.6228, 0.6766, 0.6190, 0.5458, 0.4139, 0.4334, 0.4962, 0.5609,\n",
       "         0.5819, 0.3292, 0.6218, 0.6196, 0.4906, 0.3057, 0.6191, 0.4269, 0.5958,\n",
       "         0.4988, 0.6372, 0.4984, 0.5074, 0.5423, 0.6078, 0.4327, 0.3681, 0.5931,\n",
       "         0.5351, 0.4818, 0.6424, 0.3190, 0.5841, 0.6340, 0.6434, 1.1555, 0.6282,\n",
       "         0.5024, 0.6073, 0.6574, 0.4541, 0.3499, 0.5519, 0.6265, 0.6345, 0.6193,\n",
       "         0.6297, 0.4167, 0.6012, 0.3624, 0.5717, 0.5323, 0.6108, 0.5468, 0.4591,\n",
       "         0.3851, 0.4947, 0.6070, 0.6497, 0.6014, 0.4155, 0.8915, 0.6404, 0.6131,\n",
       "         0.6451, 0.4747, 0.5022, 0.4560, 0.5986, 0.4398, 0.4196, 0.6214, 0.6359,\n",
       "         0.6052, 0.3638, 0.5328, 0.4661, 0.4340, 0.5826, 0.7005, 0.4195, 0.4616,\n",
       "         0.6545, 0.6095, 0.6473, 0.3339, 0.6211, 0.5144, 0.5636, 0.6066, 0.3837,\n",
       "         0.6425, 0.6017, 0.4658, 0.5965, 0.3477, 0.4949, 0.4599, 0.5015, 0.5958,\n",
       "         0.6266, 0.3819, 0.3174, 0.5807, 0.6034, 0.4417, 0.5829, 0.5440, 0.6440,\n",
       "         0.6354, 0.4995, 0.5765, 0.6335, 0.5892, 0.3697, 0.7362, 0.6057, 0.4081,\n",
       "         0.4608, 0.4728, 0.5872, 0.5745, 0.6365, 0.5753, 0.3683, 0.4447, 0.4586,\n",
       "         0.4482, 0.5998, 0.6169, 0.3610, 0.9122, 0.3079, 0.5654, 0.6503, 0.4298,\n",
       "         0.5501, 0.5426, 0.6550, 0.5977, 0.3441, 0.6270, 0.5607, 0.4806, 0.5804,\n",
       "         0.5183, 0.5058, 0.5234, 0.4150, 0.5152, 0.6399, 0.4640, 0.4667, 0.7878,\n",
       "         0.4858, 0.6465, 0.3626, 0.2800, 0.4260, 0.6535, 0.4556, 0.5601, 0.3592,\n",
       "         0.6328, 0.4222, 0.3994, 0.6390, 0.4847, 0.5086, 0.4535, 0.4106, 0.7486,\n",
       "         0.3942, 0.6127, 0.5121, 0.6686, 0.6293, 0.4398, 0.6058, 0.5449, 0.3705,\n",
       "         0.4896, 0.4525, 0.4926, 0.3872, 0.3632, 0.4757, 0.5175, 0.3726, 0.3952,\n",
       "         0.4851, 0.3542, 0.6364, 0.5662, 0.6626, 0.7093]),\n",
       " 'encoder.layer.4.attention.output.LayerNorm.bias': tensor([-1.6716e-02, -1.4787e-02,  2.1465e-02,  2.8695e-02, -1.1872e-02,\n",
       "          5.7570e-03,  4.5239e-02, -2.0985e-02, -9.2215e-04, -6.9629e-03,\n",
       "          1.0134e-02,  1.0237e-02,  9.1194e-03, -9.6805e-03, -5.5899e-03,\n",
       "          3.2579e-02,  2.3602e-02, -2.6252e-02, -7.2304e-03, -2.7532e-03,\n",
       "          6.1901e-03,  8.4567e-03,  1.9698e-02,  2.4725e-02,  2.4306e-02,\n",
       "          2.6229e-02,  8.3815e-04,  1.6095e-02,  1.4853e-02,  1.7733e-02,\n",
       "         -1.4619e-02, -5.3950e-03,  7.9194e-03, -2.7994e-02, -2.6428e-02,\n",
       "         -2.9800e-02,  5.3488e-03, -1.6717e-02, -4.0673e-03,  2.8655e-02,\n",
       "         -3.2639e-03,  1.4847e-02,  1.0557e-02,  1.6772e-03, -3.0562e-02,\n",
       "         -8.7954e-03, -4.6631e-03,  9.3069e-03,  4.4200e-02,  3.0624e-02,\n",
       "          3.9788e-02,  1.6135e-02,  1.2385e-02,  3.9809e-03,  1.1353e-02,\n",
       "         -7.5441e-03,  3.7123e-02, -1.6078e-02, -1.5691e-02,  3.5498e-02,\n",
       "          4.3851e-03,  3.5912e-02, -2.0696e-01,  1.2790e-01,  8.4207e-02,\n",
       "          1.3019e-02,  4.3220e-03, -1.4417e-02,  4.3244e-02, -1.4557e-02,\n",
       "          2.6355e-03,  3.5402e-02, -2.3470e-02,  3.1864e-02, -1.9571e-02,\n",
       "          2.7849e-02,  9.7256e-04,  3.6666e-03,  2.1419e-02, -1.0241e-02,\n",
       "         -2.0649e-03, -1.7377e-02,  2.2426e-03,  2.5000e-02,  1.2401e-02,\n",
       "         -2.4162e-02,  1.1960e-02, -1.4702e-03,  4.8465e-03,  4.8959e-03,\n",
       "         -1.9616e-02,  6.2324e-02,  1.2404e-02,  1.0653e-02, -1.7088e-01,\n",
       "         -8.2369e-03,  1.8367e-02, -6.9433e-03,  1.4035e-02, -7.5390e-02,\n",
       "         -1.1140e-04,  2.4017e-02,  2.3453e-02, -3.3657e-02,  1.1756e-02,\n",
       "          3.4813e-02, -4.8253e-03,  8.6823e-03,  2.3826e-02,  1.1889e-02,\n",
       "         -8.6028e-03, -3.7551e-03, -2.5482e-02,  4.2899e-02, -5.8659e-03,\n",
       "         -9.1746e-03,  4.7202e-03,  2.7647e-02, -9.3229e-03,  4.8171e-02,\n",
       "          2.5158e-02, -9.6732e-03, -3.9905e-02,  1.2355e-02, -4.2735e-03,\n",
       "          4.4615e-02,  2.1787e-02,  3.0549e-01,  4.6474e-02,  1.4253e-02,\n",
       "          6.6756e-03, -1.4599e-03,  1.1110e-03,  2.5857e-02,  2.6178e-03,\n",
       "          1.1904e-02, -1.6726e-02, -2.1675e-02,  2.0966e-02, -4.1788e-03,\n",
       "          2.1339e-02, -2.9864e-02, -3.6288e-02,  6.3399e-02, -4.9445e-02,\n",
       "          8.6960e-02,  1.5675e-02,  3.3190e-02, -2.2025e-02, -1.9286e-02,\n",
       "          7.4102e-04,  1.2208e-02,  2.0650e-02,  2.3366e-02,  7.5158e-03,\n",
       "          8.9321e-03,  3.3408e-02, -1.2559e-01,  4.2340e-02, -1.5733e-02,\n",
       "         -4.2213e-03, -1.2981e-02,  6.5134e-02,  4.1268e-04, -8.4956e-03,\n",
       "          7.2220e-03,  1.0033e-02, -3.5157e-03, -4.1044e-02, -1.4116e-03,\n",
       "         -3.3355e-03,  9.0802e-03, -3.2967e-03, -1.6363e-03,  3.0214e-02,\n",
       "          6.5364e-02,  8.9434e-03, -1.0342e-02,  4.9361e-02, -3.1720e-04,\n",
       "          1.6288e-02,  2.0954e-04, -4.5789e-04,  8.8872e-04, -1.9708e-03,\n",
       "          1.8890e-02,  1.6659e-02,  3.1536e-02, -2.7286e-03,  2.2539e-02,\n",
       "         -6.8762e-02,  4.5338e-02, -1.6207e-02,  1.6719e-02,  1.5811e-02,\n",
       "         -3.2202e-02,  1.2034e-02,  2.2735e-02,  6.9349e-02,  1.9468e-02,\n",
       "         -3.3008e-02,  8.0279e-03, -2.4851e-02,  8.1089e-03, -2.1355e-02,\n",
       "         -2.4186e-02,  4.0981e-03,  2.1714e-02,  2.7953e-02, -2.3064e-02,\n",
       "         -3.2435e-02,  5.1207e-02,  2.1393e-03, -9.7090e-04, -2.9147e-02,\n",
       "          3.5031e-02,  1.5214e-02,  2.9974e-02,  3.0171e-02, -1.7124e-02,\n",
       "          6.6781e-02, -2.0159e-02, -2.1901e-02, -5.3217e-01, -1.3145e-02,\n",
       "          2.9773e-04,  3.7730e-02, -6.5665e-03,  1.0826e-03, -2.3274e-02,\n",
       "          3.4370e-03,  6.3761e-03, -4.4241e-02, -1.7656e-02,  6.2257e-03,\n",
       "          1.7136e-02,  5.2175e-02,  2.2349e-02,  5.7221e-02,  1.6151e-02,\n",
       "         -1.6989e-02, -6.8673e-03,  2.5652e-02, -1.5013e-03,  3.7045e-03,\n",
       "          5.8034e-02,  6.0025e-02, -5.7508e-02, -7.4785e-03,  1.7958e-01,\n",
       "          1.3993e-02,  6.0231e-02, -4.6947e-03,  1.9365e-02, -2.9977e-02,\n",
       "          7.2357e-03, -3.1131e-02,  3.5281e-03, -1.2780e-02,  4.0842e-02,\n",
       "         -1.5110e-02, -1.0613e-02,  1.1099e-02,  3.2210e-02,  8.0740e-03,\n",
       "         -1.6455e-02,  1.5172e-02,  2.2451e-02,  4.1078e-02,  2.6352e-02,\n",
       "         -1.8004e-03,  6.1332e-03, -3.7349e-02,  1.0974e-02,  2.1182e-02,\n",
       "         -6.8151e-03,  5.2914e-03, -2.6837e-02, -4.2689e-02, -3.6307e-02,\n",
       "         -2.7622e-02, -2.5470e-02,  1.3379e-02, -4.6090e-03,  6.2137e-02,\n",
       "          1.3978e-02, -4.2821e-03,  8.9029e-03,  6.4969e-04,  1.2423e-02,\n",
       "          9.3491e-03,  2.4526e-02, -5.4836e-02, -8.7497e-03, -2.0613e-02,\n",
       "          5.0988e-02,  2.1744e-02,  1.0676e-01,  3.0180e-02,  1.4185e-04,\n",
       "          5.5160e-02,  4.8246e-02,  3.1644e-02, -5.0156e-02,  2.5892e-02,\n",
       "          3.3061e-02, -7.2373e-03,  3.0600e-02, -8.8818e-03,  5.1286e-02,\n",
       "          1.9925e-02,  1.3258e-02,  2.8982e-02, -2.2153e-03,  3.0529e-02,\n",
       "          1.2213e-02,  1.4025e-02,  2.1454e-02,  2.4029e-02, -2.7621e-01,\n",
       "         -1.2511e-02,  2.0552e-02, -3.2343e-02,  3.2731e-02, -3.8330e-02,\n",
       "          5.7105e-02,  4.2922e-02,  5.8376e-02, -4.0550e-02, -3.2782e-02,\n",
       "          5.6648e-03,  1.9525e-02, -4.2212e-03, -2.7345e-02, -3.8375e-03,\n",
       "          1.3549e-02,  1.5691e-02, -3.0645e-02,  1.3168e-01,  1.6164e-02,\n",
       "         -4.5509e-02,  9.3100e-02,  2.2210e-02,  1.9743e-02, -1.4462e-04,\n",
       "         -1.3695e-02,  5.1067e-03, -1.3800e-01,  8.9790e-02, -2.3527e-02,\n",
       "         -1.3034e-02,  2.6008e-02,  1.7636e-02,  1.6798e-02,  3.1345e-02,\n",
       "         -3.0385e-02,  2.8089e-03,  1.3288e-02, -2.0320e-02,  3.5727e-02,\n",
       "          5.8754e-02,  1.0168e-03,  4.5215e-02,  2.1180e-02, -3.0393e-02,\n",
       "          3.6615e-03, -1.6660e-02,  3.2714e-03, -1.2849e-02,  3.9011e-02,\n",
       "         -1.6532e-03,  3.6219e-02,  2.8130e-02,  4.8302e-02,  2.8233e-03,\n",
       "         -3.9786e-02,  1.5998e-02, -8.6507e-03, -8.8394e-03, -1.3650e-03,\n",
       "          4.3768e-03, -5.5426e-02, -5.1719e-03, -4.0478e-02]),\n",
       " 'encoder.layer.4.intermediate.dense.weight': tensor([[-0.0524, -0.0630, -0.0180,  ..., -0.0777,  0.0143,  0.0319],\n",
       "         [-0.0144, -0.0247, -0.0348,  ..., -0.0187, -0.0304, -0.0103],\n",
       "         [-0.0068,  0.0474, -0.0165,  ..., -0.0415, -0.0500,  0.0173],\n",
       "         ...,\n",
       "         [-0.0010,  0.0650,  0.0605,  ...,  0.0574,  0.0361,  0.0979],\n",
       "         [-0.0169, -0.1014, -0.0858,  ..., -0.0263, -0.0387,  0.0235],\n",
       "         [ 0.0916,  0.0461, -0.0261,  ...,  0.0166,  0.0326,  0.1117]]),\n",
       " 'encoder.layer.4.intermediate.dense.bias': tensor([ 0.0304, -0.0073,  0.1105,  ..., -0.0034, -0.0949, -0.0463]),\n",
       " 'encoder.layer.4.output.dense.weight': tensor([[ 0.0850, -0.0050, -0.0564,  ...,  0.0307,  0.0368, -0.0370],\n",
       "         [ 0.0346, -0.0550, -0.0360,  ..., -0.0020,  0.0162, -0.0582],\n",
       "         [-0.0163, -0.0213, -0.0439,  ..., -0.0358, -0.0055, -0.0315],\n",
       "         ...,\n",
       "         [ 0.0450, -0.0104,  0.0019,  ..., -0.0004, -0.0124, -0.0122],\n",
       "         [ 0.0205, -0.0487,  0.0501,  ...,  0.0463, -0.0236, -0.0348],\n",
       "         [-0.0308,  0.0042, -0.0136,  ...,  0.0112, -0.0172,  0.0220]]),\n",
       " 'encoder.layer.4.output.dense.bias': tensor([ 0.0515,  0.0168,  0.0264, -0.0046, -0.0208,  0.0063, -0.0531, -0.0159,\n",
       "         -0.0495, -0.0225, -0.0056, -0.0106, -0.0334, -0.0425, -0.0218,  0.0051,\n",
       "          0.0111,  0.0067, -0.0980,  0.0224,  0.0589,  0.0465, -0.0888,  0.0336,\n",
       "          0.0226,  0.0056,  0.0481, -0.0500, -0.0196, -0.0681, -0.0216,  0.0021,\n",
       "         -0.0211, -0.0018, -0.0187, -0.0539, -0.0103, -0.0289, -0.0531,  0.0595,\n",
       "         -0.0111, -0.0526, -0.0377,  0.0716, -0.0169,  0.0268,  0.0173, -0.0008,\n",
       "          0.0784, -0.0108, -0.0031, -0.0065,  0.0288,  0.0275, -0.0442, -0.0084,\n",
       "          0.0510, -0.0659,  0.0714,  0.0494,  0.0379,  0.0446, -0.0371,  0.0308,\n",
       "          0.1161, -0.0060, -0.0062, -0.0035,  0.0414,  0.0230, -0.0177, -0.0377,\n",
       "          0.0085,  0.0055, -0.0136,  0.0290, -0.0223,  0.0255, -0.0818, -0.0532,\n",
       "          0.0282,  0.0048, -0.0362, -0.0111, -0.0061, -0.0494,  0.0213,  0.0053,\n",
       "         -0.0164,  0.0005, -0.0204, -0.0056,  0.0362,  0.0087,  0.0724,  0.0272,\n",
       "          0.0223,  0.0378,  0.0047, -0.0722, -0.0354, -0.0193, -0.0046, -0.0186,\n",
       "          0.0089,  0.0272,  0.0023, -0.0547, -0.0353, -0.0161,  0.0073, -0.0255,\n",
       "         -0.0040, -0.0076,  0.0292,  0.0343, -0.0140,  0.0190,  0.0156,  0.0174,\n",
       "          0.0163,  0.0042, -0.0169,  0.0165,  0.0141,  0.0337, -0.0221,  0.1604,\n",
       "          0.0331,  0.0714, -0.0571, -0.0502, -0.0857, -0.0288, -0.0257, -0.0085,\n",
       "         -0.0141, -0.0550,  0.0269,  0.0462, -0.0042, -0.0556, -0.0021, -0.1004,\n",
       "         -0.0114, -0.0604,  0.0044,  0.0091, -0.0219, -0.0589, -0.0633, -0.0082,\n",
       "         -0.0073, -0.0152,  0.0409,  0.0371, -0.0206,  0.0603,  0.0076, -0.0505,\n",
       "         -0.0084, -0.0065,  0.0463,  0.0993, -0.0192, -0.1011, -0.0091, -0.0288,\n",
       "          0.0399, -0.0022, -0.0088, -0.0272, -0.0373,  0.0021,  0.0036,  0.0660,\n",
       "         -0.0368,  0.0141, -0.0105, -0.0084,  0.0631, -0.0277, -0.0020,  0.0365,\n",
       "          0.0253,  0.0675, -0.0201,  0.0053, -0.0336, -0.0429, -0.0780, -0.0245,\n",
       "          0.0135, -0.0802, -0.0640,  0.0036,  0.0109, -0.0625,  0.0129, -0.0407,\n",
       "          0.0177, -0.0681, -0.0593,  0.0311,  0.0319,  0.0179, -0.0074, -0.0307,\n",
       "         -0.0131, -0.0177, -0.0078, -0.0518,  0.0005,  0.0552, -0.0304,  0.0524,\n",
       "          0.0272, -0.0233, -0.0066, -0.0456, -0.0381,  0.0311, -0.0337, -0.2991,\n",
       "          0.0026, -0.0211, -0.0314, -0.0223,  0.0158, -0.0499, -0.0314,  0.0199,\n",
       "          0.1165, -0.0195,  0.0052, -0.0369,  0.0436, -0.0062,  0.0224,  0.0004,\n",
       "          0.0005, -0.0278,  0.0342, -0.0386, -0.0022, -0.0173,  0.0176, -0.0324,\n",
       "          0.0351,  0.0964,  0.0858,  0.0247,  0.0485,  0.0337, -0.0573, -0.0087,\n",
       "         -0.1141,  0.0556,  0.0388, -0.0966, -0.0102, -0.0074,  0.0148,  0.0953,\n",
       "         -0.0200,  0.0284, -0.0084,  0.0221,  0.0051, -0.0100, -0.0248, -0.0160,\n",
       "          0.0102, -0.0116,  0.0203, -0.0161, -0.0510,  0.0041, -0.0103, -0.0439,\n",
       "          0.0590,  0.0015, -0.0396,  0.0009,  0.0315, -0.0370,  0.0038,  0.0513,\n",
       "          0.0881, -0.0104,  0.0179,  0.0673, -0.0106,  0.0102,  0.0917,  0.0701,\n",
       "          0.0330, -0.0418, -0.0293, -0.0359,  0.0655,  0.0306, -0.0204, -0.0112,\n",
       "         -0.0372, -0.0116,  0.0549,  0.0510, -0.0482,  0.0590,  0.0626,  0.0040,\n",
       "         -0.0096, -0.0500,  0.0289, -0.0391, -0.0288,  0.0008, -0.0024, -0.1178,\n",
       "          0.0688, -0.0247,  0.0475, -0.0195, -0.0812, -0.0070,  0.0537,  0.0074,\n",
       "          0.0237,  0.0210,  0.0208,  0.0304, -0.0048,  0.0463,  0.0125,  0.0854,\n",
       "         -0.0242, -0.0255, -0.0978, -0.0304,  0.0099,  0.0468, -0.0273, -0.0149,\n",
       "          0.0122, -0.0647,  0.0360,  0.0787,  0.0212,  0.0638, -0.0194,  0.0872,\n",
       "         -0.0036,  0.0019,  0.0343,  0.0645, -0.0180,  0.0090, -0.0058,  0.0466,\n",
       "          0.0402,  0.0157, -0.0471,  0.1076, -0.0082,  0.0535, -0.0045, -0.0059,\n",
       "         -0.0099,  0.0171,  0.0219,  0.0033, -0.0167,  0.0090, -0.0083, -0.0597,\n",
       "          0.0263,  0.0090, -0.0410,  0.0079, -0.0495, -0.0192, -0.0403, -0.0051]),\n",
       " 'encoder.layer.4.output.LayerNorm.weight': tensor([0.6872, 0.7138, 0.6577, 0.5814, 0.7513, 0.6754, 0.7433, 0.6917, 0.7111,\n",
       "         0.6001, 0.6756, 0.7383, 0.5372, 0.5723, 0.6936, 0.6278, 0.7176, 0.7334,\n",
       "         0.7690, 0.7232, 0.7869, 0.7355, 0.6502, 0.6034, 0.7513, 0.6261, 0.6090,\n",
       "         0.5917, 0.7119, 0.5032, 0.6246, 0.8034, 0.7286, 0.6139, 0.6706, 0.6716,\n",
       "         0.6666, 0.6170, 0.6057, 0.5829, 0.6092, 0.6336, 0.6478, 0.6205, 0.6362,\n",
       "         0.6587, 0.6376, 0.6623, 0.6790, 0.6638, 0.7652, 0.6192, 0.6835, 0.7380,\n",
       "         0.6058, 0.7117, 0.6525, 0.6851, 0.5617, 0.5384, 0.7392, 0.5498, 0.4237,\n",
       "         0.4951, 0.7495, 0.6734, 0.6072, 0.7619, 0.7436, 0.7776, 0.7143, 0.6096,\n",
       "         0.6984, 0.6802, 0.6710, 0.6498, 0.5934, 0.6433, 0.7155, 0.7671, 0.7938,\n",
       "         0.7742, 0.5982, 0.6714, 0.7044, 0.6682, 0.6258, 0.7005, 0.7461, 0.5801,\n",
       "         0.6944, 0.7421, 0.7426, 0.6002, 0.7915, 0.7104, 0.6159, 0.7748, 0.7696,\n",
       "         0.5374, 0.5966, 0.6212, 0.7596, 0.7512, 0.6655, 0.5929, 0.6945, 0.7375,\n",
       "         0.5997, 0.6486, 0.6608, 0.5458, 0.7660, 0.6747, 0.6831, 0.7488, 0.7229,\n",
       "         0.5453, 0.7504, 0.7755, 0.7229, 0.5833, 0.7313, 0.6389, 0.7238, 0.4743,\n",
       "         0.7326, 0.2033, 0.6131, 0.7295, 0.6785, 0.7894, 0.6980, 0.5328, 0.6162,\n",
       "         0.5711, 0.6690, 0.8225, 0.6725, 0.8309, 0.7219, 0.6976, 0.7228, 0.7253,\n",
       "         0.7695, 0.7534, 0.7593, 0.5222, 0.5785, 0.7992, 0.5211, 0.7192, 0.6185,\n",
       "         0.7225, 0.6272, 0.5934, 0.7383, 0.6830, 0.7244, 0.5971, 0.7369, 0.5909,\n",
       "         0.5054, 0.7581, 0.7224, 0.6981, 0.5609, 0.5997, 0.6724, 0.6076, 0.7038,\n",
       "         0.5954, 0.7385, 0.6592, 0.7061, 0.5660, 0.7649, 0.6719, 0.6321, 0.5564,\n",
       "         0.8094, 0.6440, 0.7204, 0.6124, 0.6611, 0.7169, 0.6893, 0.6573, 0.6682,\n",
       "         0.8254, 0.8014, 0.7129, 0.7836, 0.7302, 0.6131, 0.6647, 0.7121, 0.6891,\n",
       "         0.7371, 0.5822, 0.7960, 0.7254, 0.7182, 0.5718, 0.8306, 0.6161, 0.7894,\n",
       "         0.7123, 0.7481, 0.6713, 0.6540, 0.7526, 0.7337, 0.6456, 0.6402, 0.7576,\n",
       "         0.7101, 0.6624, 0.7795, 0.5426, 0.7211, 0.7668, 0.7616, 0.3100, 0.7637,\n",
       "         0.7047, 0.7774, 0.8250, 0.6906, 0.5259, 0.7106, 0.7399, 0.7787, 0.7880,\n",
       "         0.7409, 0.5867, 0.7074, 0.6335, 0.7343, 0.7180, 0.8104, 0.6804, 0.6515,\n",
       "         0.6453, 0.6808, 0.8281, 0.7802, 0.7998, 0.5848, 0.4550, 0.7213, 0.8017,\n",
       "         0.8252, 0.6656, 0.7080, 0.6762, 0.7779, 0.6874, 0.6543, 0.7944, 0.7643,\n",
       "         0.7720, 0.6431, 0.7633, 0.6646, 0.6628, 0.7461, 0.6311, 0.6214, 0.6429,\n",
       "         0.7692, 0.7179, 0.7508, 0.6495, 0.7491, 0.6881, 0.7128, 0.6929, 0.6024,\n",
       "         0.7339, 0.7648, 0.7430, 0.7409, 0.5763, 0.7624, 0.6490, 0.6757, 0.7091,\n",
       "         0.7947, 0.6563, 0.6000, 0.7661, 0.7453, 0.6511, 0.6754, 0.7149, 0.7989,\n",
       "         0.7930, 0.6884, 0.7385, 0.7223, 0.7105, 0.5863, 0.7134, 0.7524, 0.6467,\n",
       "         0.6557, 0.6823, 0.7157, 0.6884, 0.7519, 0.6951, 0.5840, 0.6642, 0.7599,\n",
       "         0.6439, 0.7308, 0.7384, 0.5844, 0.5783, 0.5605, 0.7393, 0.7759, 0.6528,\n",
       "         0.6912, 0.6758, 0.7295, 0.7639, 0.5664, 0.7768, 0.7032, 0.6923, 0.7294,\n",
       "         0.7129, 0.7694, 0.6407, 0.6746, 0.7080, 0.7462, 0.6822, 0.6833, 0.5357,\n",
       "         0.6549, 0.7472, 0.6343, 0.5486, 0.7370, 0.7582, 0.6479, 0.7699, 0.6021,\n",
       "         0.7984, 0.6216, 0.6602, 0.7443, 0.6581, 0.7232, 0.6458, 0.6069, 0.6643,\n",
       "         0.5696, 0.7355, 0.6590, 0.7627, 0.8111, 0.6377, 0.7588, 0.7650, 0.6058,\n",
       "         0.6770, 0.6943, 0.6821, 0.6158, 0.6138, 0.7312, 0.6822, 0.5506, 0.6602,\n",
       "         0.7071, 0.6420, 0.7463, 0.7390, 0.7643, 0.7707]),\n",
       " 'encoder.layer.4.output.LayerNorm.bias': tensor([-8.3199e-03,  1.8987e-03, -2.9137e-02, -1.1691e-02, -2.9113e-02,\n",
       "         -2.9412e-02, -4.5053e-02, -6.4872e-04, -4.8608e-02, -2.3286e-03,\n",
       "         -1.6567e-03, -8.2287e-03, -1.0044e-02, -1.7592e-02, -1.8279e-02,\n",
       "         -5.7512e-02, -3.7176e-02, -8.2964e-03,  1.9011e-03, -2.2901e-02,\n",
       "         -6.8451e-02,  1.3229e-02, -3.5202e-02, -2.7033e-02, -5.9188e-02,\n",
       "         -2.7205e-02, -1.9624e-02, -2.1183e-02,  3.9314e-03, -1.0928e-01,\n",
       "         -1.7171e-02, -3.0218e-02, -6.7103e-02, -2.6081e-02,  3.7514e-03,\n",
       "          6.7583e-03, -1.9076e-02,  1.3110e-03,  9.8659e-04, -3.7696e-02,\n",
       "         -3.0750e-03, -3.6251e-02, -2.9521e-02, -2.9008e-02, -2.0951e-02,\n",
       "          3.1476e-04,  4.1435e-03, -6.9995e-03,  2.2626e-02, -5.4655e-02,\n",
       "         -7.6295e-02, -3.0314e-02, -2.1339e-02, -1.8326e-02,  1.9521e-02,\n",
       "         -3.1585e-02, -3.3144e-02,  9.9863e-03, -4.6542e-05, -3.7276e-02,\n",
       "         -1.0394e-02, -3.0193e-02,  1.5754e-02, -1.4769e-01, -6.3096e-02,\n",
       "         -4.1560e-02, -2.2372e-02, -2.8299e-02, -2.4838e-02,  1.2082e-03,\n",
       "         -4.2992e-02, -2.1731e-02, -2.4603e-02, -6.1735e-02, -7.5164e-03,\n",
       "         -3.9486e-02, -5.8247e-03, -2.1536e-02, -3.0065e-02, -3.7992e-02,\n",
       "         -6.8499e-02, -1.0577e-02, -1.1128e-02, -4.8969e-02, -5.2485e-03,\n",
       "         -3.3073e-02, -9.2636e-03,  2.2184e-03, -2.7475e-02,  3.9741e-03,\n",
       "         -7.9969e-03, -6.0271e-02, -3.0517e-02, -1.4582e-02, -1.9636e-01,\n",
       "         -7.5825e-03, -3.4195e-02, -2.9375e-02,  1.1081e-02, -1.2479e-01,\n",
       "         -3.9576e-03, -2.8095e-02, -4.8071e-02,  9.3745e-03, -7.3363e-03,\n",
       "         -4.9042e-02, -2.3496e-03, -1.7244e-02, -2.4246e-02, -2.6375e-02,\n",
       "          3.0318e-03, -3.4406e-02,  2.0630e-02, -1.6918e-02,  7.9499e-04,\n",
       "         -1.6697e-02, -3.9591e-02, -1.6625e-02,  5.5312e-03, -8.6975e-02,\n",
       "         -4.2054e-02,  1.6750e-02,  8.3472e-03, -8.8551e-03, -1.0641e-02,\n",
       "         -3.3384e-02, -2.6211e-02, -1.5307e-01, -1.7654e-02, -2.1203e-02,\n",
       "         -1.1156e-02, -7.2803e-03, -7.7735e-03, -1.5898e-02, -5.2874e-03,\n",
       "         -3.3718e-02, -3.2210e-02, -4.7979e-02, -3.0507e-02, -2.2328e-02,\n",
       "         -4.1117e-02,  6.2361e-03,  3.6525e-02, -7.5134e-02, -2.3309e-03,\n",
       "          3.8185e-02, -2.9698e-02, -4.5583e-02,  2.0922e-02,  1.9733e-02,\n",
       "         -4.0388e-03, -1.9803e-02, -1.2458e-02, -1.6626e-02, -4.8713e-05,\n",
       "         -2.2187e-02, -5.7903e-02, -1.2311e-01, -3.9331e-02,  1.0758e-03,\n",
       "         -1.0654e-02, -1.0423e-03, -5.2147e-02, -2.6692e-03, -2.4569e-02,\n",
       "         -1.3795e-01, -1.7123e-02, -2.0101e-02, -2.5904e-04, -2.9301e-02,\n",
       "         -3.9599e-02, -3.2589e-02, -2.9152e-02,  3.4838e-03, -5.1756e-03,\n",
       "         -4.6549e-02, -9.9866e-03, -1.1738e-02, -2.6762e-02, -1.7139e-02,\n",
       "         -7.8644e-02, -2.9897e-03, -2.7895e-02, -9.9394e-03, -1.5479e-02,\n",
       "         -2.3038e-03, -2.9572e-02, -3.9730e-02, -1.1232e-03, -7.3873e-02,\n",
       "          5.7025e-02, -4.3192e-02, -1.7263e-02, -4.1710e-02, -2.3165e-02,\n",
       "          3.6729e-03, -1.2948e-02, -2.5782e-02, -1.0170e-01,  2.8120e-03,\n",
       "         -1.5575e-02, -3.6239e-02, -8.3653e-03, -6.1483e-03,  6.9237e-03,\n",
       "          1.3880e-02,  1.4726e-03, -4.9361e-02, -7.0853e-03, -1.8655e-02,\n",
       "         -2.5812e-02, -7.7672e-02, -1.3628e-02, -3.9703e-02,  2.1109e-02,\n",
       "         -4.9166e-02, -2.0891e-02, -2.2173e-02, -1.9968e-02, -7.4800e-03,\n",
       "         -8.9355e-02,  9.7102e-03, -3.1946e-02, -2.3187e-02, -1.7285e-02,\n",
       "         -4.0160e-02, -6.3519e-02, -5.4069e-02,  3.6059e-03,  2.7449e-03,\n",
       "         -3.2551e-02, -2.7826e-02, -1.0666e-01, -2.5398e-02, -2.5691e-02,\n",
       "         -3.3394e-02, -8.5699e-02, -2.3705e-02, -5.1839e-03, -4.0273e-02,\n",
       "         -1.1621e-02, -1.2040e-02, -2.5056e-02, -2.9072e-02, -4.0988e-02,\n",
       "         -4.6503e-02,  7.7944e-03,  5.0031e-02, -1.7572e-02,  2.4397e-02,\n",
       "         -4.6698e-02, -7.0251e-02, -3.6320e-02, -1.3354e-02, -1.2109e-02,\n",
       "         -2.0197e-02, -3.3099e-02, -7.2467e-03, -3.0424e-02, -3.5458e-02,\n",
       "         -5.0964e-02, -5.5389e-02, -4.2617e-03, -1.8209e-02, -5.2928e-03,\n",
       "          1.0312e-02, -5.0323e-02, -3.3024e-02, -4.9650e-02, -4.0063e-02,\n",
       "          6.4524e-03, -3.7019e-02, -6.8593e-03, -9.6735e-03, -3.7582e-02,\n",
       "         -3.7317e-02, -4.1101e-02,  7.5071e-03,  1.1014e-02,  1.7276e-02,\n",
       "         -3.1705e-02,  5.2143e-03, -5.6454e-02, -3.6383e-03, -7.2666e-02,\n",
       "         -1.5780e-02, -1.3224e-02, -3.7625e-02, -1.2688e-01, -2.0273e-02,\n",
       "         -3.2047e-02, -4.1006e-02, -2.1347e-02,  2.1231e-03, -6.4473e-03,\n",
       "         -5.5717e-02, -5.8153e-02, -5.7643e-02, -1.8925e-02, -4.5124e-02,\n",
       "         -6.2598e-02, -3.9692e-02, -3.2863e-02,  1.6107e-02, -2.9683e-02,\n",
       "         -3.5736e-02, -2.9050e-02, -3.3516e-02, -1.5516e-04, -6.7233e-02,\n",
       "         -4.2823e-02,  1.6636e-02, -2.6288e-02, -2.0876e-02, -3.5690e-03,\n",
       "         -1.3078e-02, -3.5714e-02, -6.4116e-02, -3.9058e-02, -3.2087e-01,\n",
       "          2.6606e-03, -1.8155e-02,  7.6234e-03, -2.8570e-02,  3.1400e-02,\n",
       "         -7.4601e-02, -5.9254e-02, -6.4784e-02, -1.0551e-02,  3.1421e-02,\n",
       "         -2.1470e-02, -9.6661e-04, -2.3508e-02,  1.6438e-02, -4.0070e-03,\n",
       "         -3.1407e-02, -2.8481e-02,  3.4171e-03,  3.2196e-02, -4.0101e-02,\n",
       "         -1.7072e-04,  7.2836e-02, -5.8165e-03, -1.3345e-02, -8.2545e-03,\n",
       "          2.8221e-03, -1.9237e-02, -1.7334e-01, -8.0832e-02,  1.7279e-03,\n",
       "         -3.3364e-02, -1.1203e-02, -3.7379e-02, -5.6311e-02, -1.1216e-01,\n",
       "         -3.1861e-03, -2.9655e-02, -6.7647e-04, -1.8191e-02,  1.0577e-02,\n",
       "         -5.3880e-02, -9.2125e-03, -6.0428e-02, -8.7690e-02,  1.2184e-02,\n",
       "         -1.9796e-02, -2.7294e-02, -2.5779e-02, -1.8797e-02, -2.4895e-02,\n",
       "         -3.6936e-02, -1.5503e-02, -3.0191e-02, -2.6208e-02, -1.6210e-03,\n",
       "          2.5614e-02, -2.2418e-02, -6.0480e-03, -1.5632e-02, -1.2287e-02,\n",
       "         -1.4470e-02,  1.9610e-02, -2.8973e-02, -2.9837e-02]),\n",
       " 'encoder.layer.5.attention.self.query.weight': tensor([[ 0.1945, -0.0730,  0.1258,  ...,  0.0035,  0.0084,  0.0373],\n",
       "         [-0.0404, -0.1326, -0.0869,  ..., -0.0410,  0.0114,  0.0037],\n",
       "         [ 0.0653,  0.0135, -0.0546,  ..., -0.0462,  0.1080, -0.0081],\n",
       "         ...,\n",
       "         [ 0.0503,  0.0143,  0.0415,  ..., -0.1424,  0.1634,  0.1132],\n",
       "         [-0.0850, -0.1182,  0.0205,  ..., -0.0516,  0.0778, -0.0456],\n",
       "         [ 0.0570, -0.0402, -0.1043,  ...,  0.0598, -0.0277, -0.0009]]),\n",
       " 'encoder.layer.5.attention.self.query.bias': tensor([-5.0474e-03,  6.9148e-02,  9.4675e-02, -5.7314e-03,  4.1745e-02,\n",
       "         -3.9461e-02,  8.3502e-03,  2.9828e-02,  3.4828e-02, -6.6688e-02,\n",
       "         -1.0731e-01, -1.4819e-01,  2.4861e-03, -1.7257e-01, -1.0113e-01,\n",
       "         -4.0812e-02,  5.5018e-02,  3.8156e-02,  1.7955e-01, -7.2810e-02,\n",
       "          1.1840e-01, -1.1588e-01, -4.4912e-02,  1.3640e-01,  1.0050e-01,\n",
       "          9.4765e-03, -1.6043e-01,  1.6941e-01, -1.2811e-01,  1.2390e-01,\n",
       "          1.2949e-01,  1.4432e-01,  6.1640e-02,  1.0505e-01, -7.7318e-02,\n",
       "         -1.0230e-01,  1.0820e-01,  7.4235e-02,  4.8076e-02, -4.3933e-02,\n",
       "          2.0774e-02,  5.6049e-02, -7.9345e-02, -3.8601e-02,  8.6149e-02,\n",
       "          1.0323e-01, -1.0801e-01,  1.0095e-01,  6.0723e-02, -1.9108e-02,\n",
       "          9.2522e-02, -8.8194e-02, -7.5867e-02, -4.9428e-03, -4.1224e-02,\n",
       "         -1.1301e-01,  8.0439e-02,  7.8111e-02,  3.8316e-02, -1.1318e-01,\n",
       "         -7.4733e-02,  5.9297e-02, -3.7691e-02, -9.7188e-02,  9.5101e-02,\n",
       "         -9.2163e-02, -5.9889e-02, -8.9404e-02,  4.6353e-03,  1.2384e-01,\n",
       "         -6.8488e-02, -3.7406e-02,  7.7033e-02,  1.1165e-01,  4.4957e-02,\n",
       "         -1.3990e-02, -9.9549e-03,  1.9415e-01, -6.4829e-02, -6.8124e-02,\n",
       "         -8.0253e-02,  2.9243e-02,  1.7870e-02, -9.5902e-02,  7.5808e-03,\n",
       "          6.7201e-03, -1.1379e-01, -7.1587e-02, -1.3744e-01,  3.0520e-02,\n",
       "         -6.1626e-02,  4.8470e-02,  1.5677e-01, -8.5828e-02, -1.4184e-01,\n",
       "          1.1843e-01,  1.2135e-01, -6.6871e-02,  8.4623e-02, -8.9820e-02,\n",
       "          5.6849e-02, -7.1748e-02,  4.2578e-02,  1.2225e-01, -1.4202e-01,\n",
       "         -7.8822e-02,  1.1497e-01, -5.2886e-02, -9.8651e-02,  4.8841e-02,\n",
       "         -9.3355e-03, -1.9492e-02,  1.8159e-01,  1.2424e-01,  1.1403e-01,\n",
       "          7.7287e-02, -1.0605e-01,  7.2637e-02,  1.2384e-01,  1.3912e-01,\n",
       "          1.2595e-01,  1.3960e-01, -1.5582e-01, -7.3878e-02, -7.7122e-02,\n",
       "          1.8986e-01, -5.0972e-02,  4.5753e-02, -2.0408e-02,  2.2211e-02,\n",
       "          8.6194e-03,  4.0373e-03,  4.9627e-02,  5.1829e-02, -1.7929e-02,\n",
       "         -2.4787e-02, -4.1907e-03,  6.4381e-04, -7.9649e-02,  2.3398e-02,\n",
       "         -7.7813e-03, -1.0980e-01,  3.2005e-02, -6.4229e-02, -2.4688e-03,\n",
       "          5.8399e-02,  1.9262e-02,  2.0736e-02, -5.5203e-02,  3.2003e-02,\n",
       "          8.4205e-03, -6.6497e-02,  6.1233e-02,  6.5736e-03, -4.5687e-02,\n",
       "          5.9323e-03, -2.2835e-03, -4.9430e-02,  4.4683e-02,  6.7320e-02,\n",
       "          1.0522e-01, -1.7914e-03,  1.6739e-01, -1.9989e-01, -4.6594e-02,\n",
       "         -1.8514e-01,  1.9747e-01,  1.7536e-01, -1.7646e-01,  2.2287e-01,\n",
       "          2.5112e-02, -1.0928e-01, -2.1079e-01,  1.6993e-01, -8.7605e-02,\n",
       "         -1.3577e-01,  2.2001e-01, -9.7864e-02,  8.8470e-02, -5.5899e-02,\n",
       "         -1.2819e-01, -4.0626e-02, -5.6197e-02, -1.4603e-01, -1.5774e-01,\n",
       "          1.2345e-01,  1.8111e-01,  6.5141e-02,  1.9890e-01,  3.1826e-02,\n",
       "          3.0664e-01,  2.0979e-01,  8.3454e-02,  1.1990e-02, -2.2869e-02,\n",
       "          4.2404e-05,  1.5870e-02,  1.7878e-02, -7.9565e-02,  4.9525e-02,\n",
       "          6.4976e-02, -4.9748e-02, -1.2941e-02, -1.0901e-01, -9.8562e-02,\n",
       "          7.0705e-02,  2.8135e-02, -7.1923e-02,  4.4039e-02,  2.6823e-02,\n",
       "         -8.4066e-03,  1.2881e-01,  6.5333e-02, -2.5172e-04, -4.5558e-02,\n",
       "         -2.4544e-02, -4.6869e-02,  1.8114e-01, -6.5926e-02,  4.0155e-02,\n",
       "          1.6473e-02, -4.2426e-02,  3.5173e-02, -2.5089e-02,  4.6785e-02,\n",
       "         -1.1014e-01, -1.7711e-01, -6.5200e-02,  1.5713e-01, -1.0566e-01,\n",
       "          3.4921e-02, -2.0155e-01,  8.8853e-02, -4.3486e-02, -2.2435e-01,\n",
       "          1.5757e-01,  1.4198e-01, -7.1919e-03, -1.0460e-01,  1.2382e-01,\n",
       "          1.5073e-01, -1.5572e-01,  2.1705e-01, -1.5384e-01,  1.1850e-01,\n",
       "          1.9081e-01, -1.5921e-01, -1.0016e-01,  7.4357e-02,  1.6370e-01,\n",
       "         -1.8593e-01, -1.5422e-01,  1.5714e-01,  1.9615e-01, -4.2875e-02,\n",
       "         -9.4769e-02, -9.5482e-02, -8.2930e-02, -7.5058e-02, -4.7741e-02,\n",
       "         -1.0798e-01, -8.7198e-02, -6.8723e-02,  1.2212e-01,  6.5797e-02,\n",
       "         -1.1490e-01,  1.0720e-01, -1.0685e-01, -7.8485e-02, -3.8597e-02,\n",
       "          1.2213e-02,  1.1380e-01,  1.4214e-01,  1.1813e-01, -6.8575e-02,\n",
       "         -1.4729e-01,  1.1595e-01, -8.6398e-02,  9.2743e-02,  6.7638e-02,\n",
       "          1.0067e-01,  2.2875e-02, -1.3753e-01, -9.3041e-02, -1.6567e-01,\n",
       "         -4.9451e-02,  9.0337e-02, -1.4069e-01, -1.4627e-01,  2.0555e-01,\n",
       "         -1.7526e-01, -1.8027e-01,  1.5147e-01, -1.4671e-01, -1.9352e-01,\n",
       "         -6.3587e-02, -1.9374e-01, -1.9148e-01, -1.5757e-01, -1.4977e-01,\n",
       "         -1.4070e-01,  1.4800e-01, -1.5445e-01, -1.8706e-01, -1.4723e-01,\n",
       "          1.3710e-01, -1.6951e-01,  9.7629e-02,  1.4668e-01,  1.5181e-01,\n",
       "          9.3349e-02,  1.4047e-01,  1.5091e-01,  1.6031e-01,  1.6258e-01,\n",
       "         -2.0434e-01,  7.4706e-02, -8.9783e-02,  1.5215e-01, -2.4463e-01,\n",
       "          1.4526e-01, -7.9259e-02, -4.8136e-02, -1.4000e-01, -1.6191e-01,\n",
       "         -1.5153e-01, -1.3970e-01,  1.2513e-01, -1.5938e-01, -1.4824e-01,\n",
       "         -1.3117e-01, -1.2596e-01, -1.1429e-01, -1.0839e-01, -1.3175e-01,\n",
       "         -1.5498e-01,  1.5045e-01, -1.5792e-01, -2.8443e-02,  4.0145e-02,\n",
       "          5.9193e-02,  7.9932e-02, -1.6230e-01, -1.3563e-01, -1.6460e-02,\n",
       "         -1.1902e-01, -1.3588e-01, -1.1370e-01, -1.5207e-01,  1.6326e-01,\n",
       "         -1.5594e-01, -1.1678e-01, -7.1573e-02,  1.0054e-01, -1.1897e-01,\n",
       "         -8.8436e-02, -1.7433e-01, -1.3923e-01,  1.6350e-01, -2.2373e-02,\n",
       "          1.2497e-01,  1.1293e-01,  1.7211e-02, -3.4142e-02, -6.3644e-02,\n",
       "         -1.0331e-01, -7.6052e-02, -1.1330e-01,  2.8252e-02,  3.9625e-02,\n",
       "          7.8478e-02,  8.4222e-02,  1.1724e-02,  4.2965e-02, -1.3242e-01,\n",
       "         -8.4569e-02, -2.3309e-02,  2.3912e-02,  8.8752e-02,  1.9478e-02,\n",
       "          1.8884e-02, -9.1578e-02, -1.2684e-01, -2.6640e-02]),\n",
       " 'encoder.layer.5.attention.self.key.weight': tensor([[-0.0991, -0.0083,  0.0186,  ..., -0.0538, -0.0459,  0.0878],\n",
       "         [-0.0605,  0.1131, -0.1487,  ..., -0.0245, -0.0578,  0.0330],\n",
       "         [ 0.1771,  0.0322, -0.0049,  ...,  0.0642,  0.0142, -0.0124],\n",
       "         ...,\n",
       "         [-0.0498,  0.1101,  0.0570,  ..., -0.0514,  0.0495,  0.0369],\n",
       "         [-0.0641, -0.0615,  0.0002,  ...,  0.0991, -0.0044,  0.1105],\n",
       "         [ 0.0577,  0.0093, -0.0968,  ..., -0.0831, -0.0997, -0.0341]]),\n",
       " 'encoder.layer.5.attention.self.key.bias': tensor([ 7.0133e-05,  3.0670e-04, -3.1604e-04, -1.8497e-04, -4.5004e-04,\n",
       "          6.4651e-05,  3.8394e-05,  5.7888e-04,  1.2821e-04, -4.9974e-04,\n",
       "         -3.1788e-04,  1.9771e-04, -3.0909e-04,  7.1379e-04,  2.6376e-04,\n",
       "          5.3383e-05,  5.9046e-04, -3.0744e-04, -1.5709e-04,  6.8944e-05,\n",
       "         -3.8082e-04,  2.8923e-04,  6.8474e-05,  4.0357e-04, -1.8844e-04,\n",
       "         -2.3948e-04, -2.6809e-04, -3.5717e-04,  3.2402e-04, -2.7968e-05,\n",
       "         -3.0465e-04,  6.3553e-04,  5.9906e-04,  2.9994e-04, -7.4010e-04,\n",
       "         -7.9685e-04,  1.0885e-03,  9.0238e-04,  3.2487e-05, -1.6453e-04,\n",
       "          7.8417e-04,  1.0633e-04, -1.5411e-04, -5.7875e-04,  4.6943e-04,\n",
       "          1.3578e-03, -9.8767e-04,  9.7331e-04,  8.2603e-04,  1.4587e-04,\n",
       "          4.7256e-04, -8.5287e-04, -4.8329e-04,  1.2136e-03, -3.0929e-04,\n",
       "         -6.6130e-04,  4.0763e-04,  9.8200e-04,  1.9666e-04, -1.3256e-03,\n",
       "         -1.0398e-03, -1.5529e-05, -7.9501e-04, -9.7324e-04, -3.6452e-04,\n",
       "          2.0645e-04,  5.2000e-05,  5.4788e-04,  1.1152e-04, -4.8608e-04,\n",
       "          6.7891e-04, -1.5690e-04,  3.3168e-04,  2.2554e-06, -4.2580e-04,\n",
       "          2.8464e-04,  1.6483e-05, -6.2357e-04, -1.8354e-04,  1.4048e-03,\n",
       "          1.7742e-05, -1.9004e-04, -2.4073e-04, -9.6240e-06,  3.1262e-04,\n",
       "         -1.3039e-04,  6.9929e-04, -2.1063e-04,  9.6300e-04, -7.9167e-04,\n",
       "         -2.2047e-04, -5.0020e-04,  2.0843e-04,  7.3575e-05,  6.5721e-04,\n",
       "         -9.3276e-04,  2.7275e-04,  6.7172e-04, -1.0525e-04, -4.0916e-04,\n",
       "         -4.4374e-04, -6.7748e-05,  1.7989e-04,  7.1168e-04,  2.8007e-04,\n",
       "         -1.3732e-04, -7.0138e-04, -2.8905e-04,  3.5427e-04,  3.7026e-04,\n",
       "         -2.8125e-04, -5.5669e-04, -6.3554e-04,  2.0041e-04,  1.5169e-04,\n",
       "          2.1253e-05, -3.7812e-04,  9.5733e-04,  2.1392e-05, -2.3290e-04,\n",
       "         -3.5183e-04, -5.3466e-05,  4.4496e-06, -3.1829e-05,  7.0008e-04,\n",
       "          3.7018e-04, -7.6121e-04, -8.6028e-04, -1.9019e-04, -3.9523e-04,\n",
       "          4.1044e-04, -5.3967e-04,  6.3836e-05,  1.6606e-04, -8.8839e-05,\n",
       "          4.2620e-05, -6.1521e-04, -1.2131e-05,  6.4972e-04,  1.5911e-05,\n",
       "          4.4915e-04, -8.2786e-05, -4.1657e-04, -2.7807e-04, -8.8446e-05,\n",
       "          4.0604e-04,  6.2499e-04,  4.9621e-04,  1.0782e-03,  7.5732e-05,\n",
       "         -6.3177e-05,  1.9363e-04,  4.2109e-05, -6.4965e-04, -5.4259e-04,\n",
       "          2.2661e-04,  3.2287e-04,  4.5023e-04, -6.6913e-04, -1.5532e-05,\n",
       "         -1.1341e-04,  6.7665e-05,  1.4085e-03, -5.1659e-04,  4.5388e-04,\n",
       "          9.0847e-05,  1.2049e-03,  4.0842e-04,  6.3310e-04,  4.7483e-04,\n",
       "          5.8805e-04, -3.0234e-05, -3.8702e-04,  2.8403e-04,  3.8951e-04,\n",
       "          4.0974e-04,  1.2166e-03,  3.8213e-05,  1.1957e-03,  1.1747e-03,\n",
       "          4.5707e-04,  2.7141e-04, -5.8900e-04, -1.6734e-03, -1.2865e-03,\n",
       "          2.6399e-04, -1.3708e-04, -8.5568e-04,  5.3656e-04,  4.5151e-04,\n",
       "          9.8529e-04,  8.9163e-04,  6.5145e-05,  9.2353e-05,  2.4528e-04,\n",
       "         -1.5864e-04,  7.8108e-04,  1.2412e-04, -3.0719e-04, -1.8697e-04,\n",
       "         -6.0258e-05,  3.9004e-05,  3.5292e-04,  2.4405e-04, -5.8236e-05,\n",
       "          3.8599e-05, -9.4151e-05, -3.4018e-04, -2.5788e-04,  2.6951e-05,\n",
       "         -2.7539e-04, -1.2360e-04, -1.3526e-04,  1.6939e-04, -4.8219e-04,\n",
       "         -3.1039e-04, -3.5110e-04,  8.4964e-05,  4.6364e-05,  9.1738e-05,\n",
       "          1.3783e-04, -7.0768e-05, -1.3129e-04, -3.4728e-04,  7.7018e-04,\n",
       "          1.4616e-04, -5.9940e-04, -8.0875e-04,  5.7750e-04, -1.7374e-03,\n",
       "          4.5448e-04, -8.6804e-04, -1.1478e-04, -6.1523e-04, -1.4086e-03,\n",
       "         -1.4767e-04,  1.8497e-04,  3.3568e-04,  3.4063e-04,  1.2941e-03,\n",
       "          4.2728e-04, -7.5594e-05,  7.3789e-04,  4.3995e-04, -1.0666e-04,\n",
       "         -3.3828e-04, -1.9420e-04,  2.3883e-04,  9.3438e-04,  1.2902e-03,\n",
       "         -1.6059e-03,  2.8298e-04,  3.1994e-04,  9.0980e-04,  6.2709e-04,\n",
       "          2.7586e-07,  6.1937e-04, -5.7538e-05, -6.5772e-04, -3.2728e-04,\n",
       "          3.6616e-04,  3.8741e-04,  1.5174e-04, -3.3006e-04, -3.1030e-04,\n",
       "          3.5050e-04, -2.1387e-04,  3.6611e-04,  8.1941e-04, -3.0937e-04,\n",
       "         -5.4741e-05, -9.0577e-05,  9.3202e-05, -6.6164e-04, -1.1580e-04,\n",
       "         -8.6710e-06,  8.8597e-06,  5.2464e-04, -3.0573e-04, -3.6747e-05,\n",
       "         -4.2650e-04, -8.6948e-04,  4.9512e-04, -3.7080e-05,  4.4429e-05,\n",
       "         -3.8036e-04, -1.6487e-04,  4.3429e-04, -5.4108e-04,  7.5084e-04,\n",
       "         -3.6413e-04, -6.2580e-04,  3.6844e-04, -6.3020e-04, -6.7823e-05,\n",
       "         -2.5903e-04, -8.7545e-04, -1.4796e-04, -3.4372e-04, -5.1702e-04,\n",
       "         -5.8809e-04,  9.4842e-04, -1.4187e-04, -3.6804e-04, -1.3262e-03,\n",
       "          5.4081e-04, -6.4204e-04,  6.1194e-04,  8.5099e-04,  2.7041e-04,\n",
       "         -1.8517e-04,  3.1735e-04,  3.1939e-04,  2.0150e-04,  5.4716e-04,\n",
       "         -5.0393e-04, -9.9281e-05,  8.2661e-05,  7.8943e-04, -5.2396e-04,\n",
       "         -3.0244e-04,  1.8224e-04, -7.9151e-04, -2.5577e-04, -3.2686e-05,\n",
       "          1.7046e-04, -6.2630e-04,  1.8428e-04, -9.9447e-04, -2.0080e-04,\n",
       "         -3.0291e-04,  6.1279e-04,  6.4086e-04, -7.9845e-05, -5.4987e-04,\n",
       "         -6.4491e-05,  2.1508e-04, -1.2229e-03, -4.7132e-04, -1.5538e-03,\n",
       "         -7.0336e-05,  5.4114e-04, -5.8113e-04,  2.7222e-04, -2.9305e-05,\n",
       "          1.8964e-04, -9.1935e-04,  4.8102e-04,  1.2261e-04, -4.7362e-04,\n",
       "         -5.7795e-04,  5.1672e-04,  6.0000e-04,  6.4761e-04,  3.0538e-04,\n",
       "         -1.6694e-04, -2.6713e-04, -6.3185e-04,  4.6937e-04, -3.7421e-04,\n",
       "          1.0663e-03,  3.5952e-04,  5.6479e-04, -2.8221e-04,  9.1469e-05,\n",
       "         -2.8239e-04, -1.8670e-05,  2.9189e-04, -1.7646e-04, -9.8359e-05,\n",
       "         -2.6032e-04, -5.3131e-04,  4.4073e-05, -1.7287e-04, -4.4393e-05,\n",
       "         -5.1827e-04,  1.6291e-04, -2.7726e-04, -3.4623e-04, -3.2178e-04,\n",
       "         -4.5826e-04, -8.0362e-04, -6.7613e-04, -2.3194e-05]),\n",
       " 'encoder.layer.5.attention.self.value.weight': tensor([[ 2.9657e-02, -6.9678e-02, -1.4481e-01,  ...,  8.4752e-02,\n",
       "          -1.1507e-01,  8.3051e-02],\n",
       "         [-7.9822e-03, -4.4624e-02, -4.6396e-02,  ..., -2.3558e-02,\n",
       "          -1.2993e-02, -3.0202e-02],\n",
       "         [-6.4071e-02, -1.7873e-02, -2.9836e-02,  ..., -1.1414e-01,\n",
       "           1.3146e-02,  4.0194e-02],\n",
       "         ...,\n",
       "         [-1.3982e-01, -2.0341e-02,  6.0768e-02,  ..., -7.3726e-02,\n",
       "           8.7066e-03,  9.7339e-03],\n",
       "         [ 2.0428e-02, -1.0289e-01, -6.1785e-02,  ...,  5.5181e-02,\n",
       "          -4.2954e-04,  6.5610e-04],\n",
       "         [ 1.2296e-01, -1.6067e-02,  5.2385e-02,  ..., -3.9194e-03,\n",
       "          -6.3953e-02,  8.4953e-05]]),\n",
       " 'encoder.layer.5.attention.self.value.bias': tensor([-1.8112e-02,  7.8159e-03, -6.1753e-03,  2.2277e-03,  1.0928e-02,\n",
       "          6.5765e-03, -2.0503e-03, -1.8044e-03, -8.0596e-03,  1.2143e-02,\n",
       "         -1.6247e-02,  1.0312e-02,  3.9080e-03,  1.0152e-03,  6.1508e-03,\n",
       "          5.4942e-03, -1.2655e-02, -5.4596e-03,  9.6918e-03,  1.1329e-02,\n",
       "         -9.3251e-03, -6.3754e-03,  1.2478e-03, -7.4532e-03,  1.4527e-03,\n",
       "          2.0367e-03,  1.5292e-02,  1.3141e-02,  1.8222e-02, -2.6575e-03,\n",
       "         -1.0539e-02, -7.2904e-03, -3.5896e-03,  9.6140e-04, -9.0725e-03,\n",
       "          9.5046e-03, -1.3842e-02, -2.9254e-02,  3.5726e-03,  8.4587e-03,\n",
       "         -2.8051e-02,  2.7697e-03,  1.8259e-02, -5.2861e-03, -1.1528e-02,\n",
       "          2.2444e-02,  4.1842e-03,  1.5790e-03, -1.9269e-02,  2.7660e-03,\n",
       "         -4.2464e-03,  3.7535e-03, -1.5684e-02, -4.9964e-03, -7.6048e-03,\n",
       "         -1.2705e-02,  4.7864e-03,  9.9448e-03,  5.4853e-03, -2.4897e-02,\n",
       "          1.6866e-02, -1.2155e-02,  1.0602e-03,  1.3630e-03, -9.6128e-03,\n",
       "         -1.0619e-03,  9.8904e-03, -1.9614e-02,  1.6139e-02,  2.2143e-03,\n",
       "          9.8534e-03,  1.1282e-02,  1.8474e-02, -4.8635e-03, -3.9891e-03,\n",
       "         -7.7590e-03,  4.9961e-03,  8.2301e-03, -4.0147e-03,  2.0496e-02,\n",
       "         -2.0608e-03, -8.2389e-04,  1.1230e-02,  4.5545e-03,  6.7557e-03,\n",
       "         -3.1408e-02, -2.4903e-03,  7.1305e-03,  1.8856e-03,  2.6270e-03,\n",
       "          7.8660e-03, -8.8167e-04, -1.7549e-02,  6.5412e-03, -2.5832e-02,\n",
       "         -1.5167e-03, -2.3625e-02, -3.1399e-03,  5.4914e-03,  1.7970e-02,\n",
       "         -1.2308e-02,  7.7541e-03, -1.6032e-02,  1.3652e-03,  5.9273e-03,\n",
       "         -1.4114e-03,  5.6624e-03, -3.7831e-03,  7.5880e-04,  1.5080e-02,\n",
       "          1.0821e-02,  1.4629e-02, -5.9831e-03, -1.9863e-04,  1.3554e-02,\n",
       "          9.3704e-03,  5.3645e-03,  2.3617e-02, -2.2865e-03, -6.4241e-03,\n",
       "         -9.9641e-03,  8.6196e-04, -2.0477e-04, -5.7215e-03, -5.8964e-03,\n",
       "          1.6142e-02,  1.2685e-02,  6.5104e-03, -1.4715e-03,  1.4320e-02,\n",
       "          6.5974e-03, -2.0750e-03,  4.2265e-03,  7.3482e-03, -3.1210e-02,\n",
       "         -1.3752e-03,  8.1876e-03, -9.8203e-03,  8.1753e-03,  3.0430e-02,\n",
       "         -1.5378e-03,  7.6809e-03,  3.2810e-03,  1.3056e-02,  5.0153e-03,\n",
       "          2.2608e-02,  1.6709e-02,  2.4939e-03, -1.6483e-02, -1.0802e-02,\n",
       "          3.8069e-03,  1.5002e-02,  9.8022e-03,  3.0004e-02, -6.3088e-03,\n",
       "         -6.8131e-03,  1.0340e-02, -9.2257e-03,  2.0974e-02, -1.0158e-02,\n",
       "         -8.4565e-03, -5.4986e-03, -3.7519e-04, -1.6432e-03,  2.0173e-03,\n",
       "         -1.2307e-02,  9.3321e-03,  5.3094e-03, -4.3294e-03, -9.3419e-03,\n",
       "         -4.0844e-03,  1.3858e-02,  7.9003e-04,  2.1108e-02, -7.4237e-03,\n",
       "          6.8417e-03,  1.1841e-02, -4.0306e-06,  1.0072e-02,  1.6472e-02,\n",
       "          4.1004e-03,  7.7872e-03, -1.3602e-02,  1.1978e-02,  2.3471e-03,\n",
       "         -1.3304e-02,  1.3158e-02, -2.4693e-03,  1.6056e-03,  6.1235e-03,\n",
       "          2.3520e-03, -1.7804e-02, -3.4440e-03,  1.9424e-03,  1.0375e-02,\n",
       "          7.1691e-03, -3.4749e-05, -3.8066e-03,  1.3202e-03,  8.6715e-03,\n",
       "          4.6118e-03,  2.2353e-02,  2.4975e-03, -3.8745e-03, -7.7556e-03,\n",
       "          3.7877e-03,  4.5084e-03, -1.4870e-02,  1.0467e-02,  1.7371e-02,\n",
       "          1.0310e-02, -1.2730e-02,  1.0473e-03, -1.2421e-02, -7.4217e-03,\n",
       "          1.7709e-02, -1.2098e-02,  5.6274e-03, -7.5815e-03, -1.2357e-02,\n",
       "          1.3486e-02, -9.4225e-03,  1.7044e-02,  8.6674e-03,  9.8549e-04,\n",
       "         -9.2602e-03,  8.4839e-03, -5.8632e-03, -1.5293e-02,  1.0957e-02,\n",
       "          1.4790e-02,  2.6312e-03, -2.8125e-03, -6.3222e-03,  4.0870e-03,\n",
       "         -1.2405e-02, -2.5355e-03, -1.2398e-02,  6.2838e-03,  8.9358e-03,\n",
       "         -1.4007e-02,  2.1748e-04,  1.2544e-02, -2.1820e-02,  1.2410e-02,\n",
       "          9.8959e-03,  8.9135e-03, -2.4784e-02,  5.4903e-03,  2.5238e-02,\n",
       "          1.2366e-02,  1.7388e-02,  1.5889e-03,  1.5690e-02,  1.4793e-02,\n",
       "          4.1977e-03,  3.7538e-03, -2.3491e-03, -3.9572e-03,  1.0461e-02,\n",
       "          1.6086e-02, -1.4171e-03,  3.3135e-03,  3.7323e-03,  8.3019e-03,\n",
       "         -1.0108e-02, -1.5343e-02, -1.1432e-02,  4.6376e-03,  4.0860e-03,\n",
       "         -3.2146e-03, -1.0527e-03,  2.4931e-03, -1.0392e-03, -1.0004e-02,\n",
       "         -1.3115e-04,  1.1345e-02,  1.7175e-02, -5.9600e-03,  9.8292e-04,\n",
       "          2.9932e-02, -2.3851e-04,  3.8116e-03,  5.6518e-03,  1.0312e-02,\n",
       "         -1.8370e-04,  2.9876e-03,  5.6758e-03,  2.2307e-02,  4.8432e-02,\n",
       "         -2.5595e-02, -1.0593e-02, -3.4244e-03,  1.6178e-02,  1.5281e-02,\n",
       "          3.5204e-02, -2.1843e-02,  8.9501e-03,  8.8294e-03, -2.1154e-02,\n",
       "         -1.0363e-02, -1.4701e-02, -1.2661e-02, -5.1188e-03,  4.0351e-02,\n",
       "          4.1928e-04,  3.9418e-03,  1.2546e-02, -8.5198e-03, -1.9453e-02,\n",
       "          3.1470e-03, -1.2494e-02,  6.0383e-03, -1.3994e-02,  4.0360e-03,\n",
       "         -2.3897e-02,  9.4115e-03, -3.8914e-03,  3.5074e-02,  8.7237e-03,\n",
       "          8.8348e-03,  3.7302e-03,  3.8386e-03, -4.0917e-03,  5.9726e-03,\n",
       "         -4.1698e-03,  3.2857e-03,  8.4025e-03, -6.3541e-03, -1.8196e-03,\n",
       "          4.6059e-03, -4.7965e-03,  1.1836e-02,  5.8027e-03,  8.2823e-04,\n",
       "         -6.7387e-03,  1.3060e-02, -7.7032e-04,  6.6017e-03, -3.2138e-04,\n",
       "         -4.6694e-03, -1.4669e-02, -1.7325e-03, -8.3653e-04,  7.5177e-03,\n",
       "          5.9069e-03, -1.1993e-02, -5.2667e-03,  1.0840e-02,  8.6854e-03,\n",
       "          1.7037e-02,  4.5173e-03, -1.1861e-02,  1.2530e-02, -1.3424e-02,\n",
       "          1.3901e-02, -1.1892e-03, -9.0397e-03, -1.1443e-02, -1.6468e-02,\n",
       "         -7.0605e-03,  2.0645e-03, -2.1772e-02, -1.0483e-02,  3.7176e-04,\n",
       "          1.0838e-02,  1.4649e-03, -9.4769e-03, -1.8632e-02,  1.8936e-03,\n",
       "         -1.2235e-02,  5.0909e-03, -1.0962e-02,  3.6256e-02, -1.0545e-02,\n",
       "         -1.1567e-02,  1.3486e-02,  1.3678e-02, -4.9161e-03,  1.8932e-03,\n",
       "         -3.3245e-03,  9.8111e-03, -5.7360e-03, -5.7211e-03]),\n",
       " 'encoder.layer.5.attention.output.dense.weight': tensor([[ 0.0109, -0.0012,  0.0240,  ...,  0.1527,  0.0522, -0.1597],\n",
       "         [ 0.0561,  0.0350,  0.0063,  ..., -0.0018, -0.0004, -0.0247],\n",
       "         [-0.0267,  0.0832,  0.0243,  ...,  0.0031, -0.0265, -0.0187],\n",
       "         ...,\n",
       "         [-0.0703,  0.0334,  0.0910,  ...,  0.0155,  0.0961,  0.0476],\n",
       "         [ 0.0543,  0.0108,  0.0139,  ...,  0.0320,  0.0349,  0.0627],\n",
       "         [-0.0663,  0.0584, -0.0206,  ..., -0.0036, -0.0279,  0.0131]]),\n",
       " 'encoder.layer.5.attention.output.dense.bias': tensor([ 4.6939e-02, -2.1759e-02, -1.1975e-02,  5.2506e-02,  1.0220e-02,\n",
       "         -6.0503e-02,  1.8518e-02, -9.7055e-03, -1.5640e-03, -1.0629e-02,\n",
       "          9.3531e-03,  1.9156e-02, -5.8192e-02, -5.6244e-02,  2.1042e-02,\n",
       "         -1.1653e-02, -4.2289e-02,  1.2906e-02,  5.7279e-02, -7.4942e-02,\n",
       "         -4.0220e-02, -6.3703e-02,  1.9460e-02,  2.1107e-02, -5.5572e-03,\n",
       "         -2.0637e-02, -6.4993e-02,  2.0816e-02,  4.2824e-02,  1.0389e-01,\n",
       "          4.2387e-02, -3.9751e-02,  1.4644e-02, -5.3556e-02, -5.3317e-02,\n",
       "          1.7160e-02, -1.5591e-02,  3.4091e-03,  4.7140e-02, -1.0604e-02,\n",
       "         -8.2954e-03,  3.8755e-02,  2.9240e-02,  4.1841e-02, -1.3111e-02,\n",
       "          6.2732e-02,  4.4626e-02, -3.2543e-02, -4.6011e-02,  2.6499e-02,\n",
       "         -1.1268e-02, -2.3774e-02, -4.1829e-03, -1.4998e-02,  4.2835e-02,\n",
       "         -1.4695e-03, -1.3109e-02, -1.7140e-02, -4.4034e-02,  6.8691e-04,\n",
       "         -8.5274e-03,  2.0134e-03,  4.4721e-02, -5.0488e-02, -5.7283e-02,\n",
       "         -1.4825e-02,  3.1480e-02, -2.9340e-02, -3.2949e-02,  2.7840e-02,\n",
       "          1.4068e-02, -1.4828e-02,  5.4139e-02, -2.2439e-02,  1.6367e-02,\n",
       "         -2.8017e-02,  1.2111e-02,  1.4202e-02,  2.0269e-02, -2.2056e-02,\n",
       "         -2.0585e-02, -1.0648e-02, -3.1521e-02,  8.9700e-02,  4.0509e-02,\n",
       "         -1.6418e-02, -3.6089e-02,  4.5735e-03, -2.2139e-02, -4.1263e-02,\n",
       "         -2.8041e-03,  1.6138e-02,  3.5348e-02, -5.3322e-02, -1.8905e-02,\n",
       "          4.0049e-02,  5.3752e-03,  1.6971e-03,  1.5990e-03,  2.7207e-02,\n",
       "          8.6655e-03, -1.9784e-02,  2.3274e-02,  5.4102e-03, -1.9992e-02,\n",
       "         -2.6992e-02,  9.9851e-03, -6.4827e-03, -4.9487e-02,  2.1944e-02,\n",
       "          3.1450e-02,  9.7696e-02,  2.4174e-02, -1.9225e-03, -3.0123e-02,\n",
       "          3.4359e-02, -5.2959e-02, -5.5200e-02,  1.3713e-02, -7.1357e-03,\n",
       "          2.4394e-02, -9.7997e-03,  7.8180e-03, -1.8478e-02, -2.4897e-02,\n",
       "         -1.9132e-02,  1.7393e-02,  7.5844e-03, -1.0756e-02, -7.3415e-03,\n",
       "          4.3468e-02,  2.2757e-02,  2.8871e-02,  7.8001e-02,  1.1199e-02,\n",
       "         -6.1443e-02, -2.7638e-02, -2.5620e-02, -6.4833e-03,  8.6391e-04,\n",
       "         -6.2154e-03,  7.5514e-02,  4.8302e-03,  5.1461e-02,  4.8076e-03,\n",
       "          4.3165e-02, -2.6471e-03, -1.5498e-01,  9.7141e-03, -8.1415e-03,\n",
       "          2.0088e-02,  5.8667e-02,  1.0989e-02,  8.9245e-03, -1.4320e-02,\n",
       "         -7.6590e-02,  6.1195e-03, -4.2856e-02,  3.1588e-02,  6.6884e-02,\n",
       "          2.9968e-02, -3.2283e-02, -2.3012e-02, -5.3027e-02, -3.0638e-02,\n",
       "          5.6906e-02, -5.5954e-02,  5.3365e-02, -4.0844e-02, -2.4974e-02,\n",
       "          1.8105e-03, -2.2566e-02,  2.8817e-02, -5.6647e-02, -1.4552e-02,\n",
       "         -4.4257e-02,  1.7399e-02,  3.1946e-02,  2.7977e-02, -3.4294e-02,\n",
       "         -2.0623e-02,  8.3537e-03, -2.3220e-02,  4.1364e-02, -2.8047e-02,\n",
       "          8.0052e-02,  3.9169e-03, -4.2107e-02,  1.3042e-03, -1.7128e-02,\n",
       "          3.9890e-02, -1.6674e-02, -1.7728e-02,  3.1245e-02, -3.0695e-03,\n",
       "          3.7246e-03,  2.1333e-02, -1.8126e-02, -2.5822e-03, -3.3040e-02,\n",
       "         -5.7680e-02, -1.0540e-03, -9.3992e-03, -7.9523e-02, -1.1576e-02,\n",
       "         -1.2165e-02, -1.4410e-02, -1.9833e-02, -4.2193e-03, -3.3614e-02,\n",
       "          2.9179e-02,  2.5785e-02,  3.2496e-02, -5.3936e-02, -5.7720e-02,\n",
       "         -2.4181e-03, -3.3883e-02,  2.9558e-02, -3.5115e-02, -4.7966e-02,\n",
       "          2.5662e-02, -1.6624e-02,  3.5740e-02, -3.7730e-02, -4.6219e-02,\n",
       "          1.9717e-02, -1.8807e-02, -1.1531e-02, -2.7744e-02,  4.1694e-02,\n",
       "          6.9918e-02,  3.5282e-02, -3.6974e-02,  1.8070e-02,  3.6439e-02,\n",
       "         -2.1193e-03, -1.4352e-02,  1.6647e-02, -4.0726e-03, -3.4201e-02,\n",
       "          2.9365e-02,  1.8150e-02,  1.9366e-02, -9.7399e-03, -6.6836e-02,\n",
       "          3.8220e-02,  3.3839e-02,  1.9413e-02,  3.0148e-02, -2.8210e-02,\n",
       "         -5.4100e-02, -2.7328e-02, -5.8464e-02,  4.0142e-02, -1.5039e-02,\n",
       "         -2.6205e-02,  5.1303e-02,  1.4921e-02, -3.6349e-03,  3.1738e-03,\n",
       "          4.6849e-02,  9.0909e-03, -9.9545e-02,  2.4403e-02,  2.4467e-02,\n",
       "          1.0609e-02,  4.1130e-02,  5.9765e-03, -1.3090e-02,  2.2967e-02,\n",
       "         -4.0180e-02,  4.2889e-02,  1.3216e-02, -3.8042e-02, -1.6303e-02,\n",
       "          5.9351e-02,  4.0566e-02, -1.3582e-02,  7.5247e-02,  3.7036e-02,\n",
       "         -2.8377e-02, -4.7950e-03, -3.1281e-03, -4.3395e-02,  2.4181e-02,\n",
       "         -2.9200e-02, -7.2518e-03, -1.7079e-02, -1.1977e-02,  5.1066e-02,\n",
       "          4.9752e-02,  2.0573e-02,  2.8514e-03, -6.0216e-03, -4.6933e-02,\n",
       "          1.9195e-02, -2.6490e-02,  5.8559e-03, -2.1181e-02, -9.6266e-03,\n",
       "         -4.8602e-02, -2.4524e-02, -6.0736e-02,  1.1081e-02,  5.2721e-02,\n",
       "         -1.3030e-02, -5.7430e-02,  1.2530e-02,  1.7259e-02, -3.9837e-02,\n",
       "         -1.7674e-02, -2.2202e-02,  2.2476e-02,  2.1761e-03,  3.5304e-02,\n",
       "          5.6166e-02,  1.3249e-02, -3.3102e-03,  4.4476e-02,  5.1611e-02,\n",
       "         -3.3995e-02, -7.1853e-03, -1.5319e-04,  3.2764e-02,  5.5402e-03,\n",
       "          7.1185e-03, -2.6115e-02,  4.1424e-02, -4.4000e-03, -5.9460e-03,\n",
       "          1.6314e-02, -8.5703e-03, -3.0260e-03, -2.6615e-02,  3.0185e-02,\n",
       "         -2.9362e-02,  3.6569e-02, -4.9379e-03,  6.8557e-02, -7.3559e-02,\n",
       "          3.9797e-03, -6.9161e-02, -1.5158e-02, -1.2512e-02, -1.5363e-02,\n",
       "         -1.0141e-02,  3.2663e-02, -5.2729e-02,  3.3694e-02,  1.1269e-02,\n",
       "          4.1057e-03, -3.9768e-02,  1.5022e-02,  1.2609e-01, -4.5054e-02,\n",
       "          2.2205e-03, -2.9465e-03,  4.4230e-02, -2.9429e-03, -6.7335e-02,\n",
       "         -7.5206e-02, -3.3259e-02, -3.8547e-03, -4.3514e-02,  3.5204e-03,\n",
       "         -2.2477e-03, -1.3644e-02,  1.3795e-02,  5.2038e-02,  3.2966e-02,\n",
       "          6.0717e-03,  2.1282e-02,  3.1940e-02, -1.3354e-02, -2.2103e-02,\n",
       "          2.5727e-02, -5.9107e-02,  5.8352e-02,  1.6230e-02,  1.0573e-01,\n",
       "         -1.1145e-02, -2.6006e-02,  4.1222e-02,  2.5045e-02]),\n",
       " 'encoder.layer.5.attention.output.LayerNorm.weight': tensor([0.6550, 0.5927, 0.5431, 0.5020, 0.5649, 0.4985, 0.6066, 0.5966, 0.6524,\n",
       "         0.4121, 0.4874, 0.6401, 0.3821, 0.4041, 0.5364, 0.4772, 0.5944, 0.6603,\n",
       "         0.5284, 0.5222, 0.5337, 0.5814, 0.4927, 0.4012, 0.5740, 0.5775, 0.4465,\n",
       "         0.4294, 0.5819, 1.0142, 0.6127, 0.5901, 0.6061, 0.4087, 0.6150, 0.5412,\n",
       "         0.5634, 0.4871, 0.4625, 0.4329, 0.4391, 0.6184, 0.4922, 0.4586, 0.4729,\n",
       "         0.5420, 0.5686, 0.4789, 0.6610, 0.4855, 0.5810, 0.5504, 0.5901, 0.5842,\n",
       "         0.4836, 0.6023, 0.5815, 0.5763, 0.4300, 0.4881, 0.5712, 0.3340, 1.3332,\n",
       "         0.5777, 0.5990, 0.5511, 0.4742, 0.5719, 0.5580, 0.5972, 0.6285, 0.4740,\n",
       "         0.6376, 0.6181, 0.4930, 0.5743, 0.4089, 0.5765, 0.5152, 0.5904, 0.5703,\n",
       "         0.6052, 0.4540, 0.5033, 0.5390, 0.5374, 0.4585, 0.6223, 0.5895, 0.4241,\n",
       "         0.6291, 0.5917, 0.6249, 0.4609, 0.5472, 0.4939, 0.3953, 0.6115, 0.5863,\n",
       "         0.7298, 0.4405, 0.4982, 0.6052, 0.6371, 0.5290, 0.4288, 0.4815, 0.5464,\n",
       "         0.4330, 0.4462, 0.4854, 0.3928, 0.5456, 0.5417, 0.4841, 0.6038, 0.6078,\n",
       "         0.3866, 0.6058, 0.5702, 0.5096, 0.4309, 0.5404, 0.5094, 0.6087, 0.8539,\n",
       "         0.6218, 0.9783, 0.4795, 0.6163, 0.5309, 0.5239, 0.5855, 0.4226, 0.4589,\n",
       "         0.4208, 0.5604, 0.5742, 0.5807, 0.5859, 0.5100, 0.6103, 0.6158, 0.5878,\n",
       "         0.5839, 0.5250, 0.6104, 0.4568, 0.4598, 0.5965, 0.4079, 0.5446, 0.4817,\n",
       "         0.5840, 0.4539, 0.4509, 0.5899, 0.5188, 0.5190, 0.4523, 0.5797, 0.4835,\n",
       "         0.4412, 0.5258, 0.5961, 0.5776, 0.4428, 0.5111, 0.5685, 0.4622, 0.5480,\n",
       "         0.4681, 0.6030, 0.5808, 0.5727, 0.5425, 0.5949, 0.5042, 0.4917, 0.3968,\n",
       "         0.5942, 0.5285, 0.5572, 0.5181, 0.4748, 0.5684, 0.5592, 0.4716, 0.6362,\n",
       "         0.5142, 0.5349, 0.5873, 0.6131, 0.5786, 0.4844, 0.5621, 0.5954, 0.5607,\n",
       "         0.5656, 0.3752, 0.5665, 0.5926, 0.5963, 0.3812, 0.5540, 0.5520, 0.5804,\n",
       "         0.5505, 0.6007, 0.5359, 0.5497, 0.6053, 0.6042, 0.4617, 0.4927, 0.5994,\n",
       "         0.5857, 0.6056, 0.6038, 0.4472, 0.5519, 0.5692, 0.5590, 0.7895, 0.5973,\n",
       "         0.5461, 0.5848, 0.5459, 0.5357, 0.4996, 0.6070, 0.6450, 0.5724, 0.5471,\n",
       "         0.5929, 0.4595, 0.5742, 0.4502, 0.6142, 0.5431, 0.5701, 0.5792, 0.5255,\n",
       "         0.5333, 0.6079, 0.5331, 0.5756, 0.5529, 0.4747, 1.0898, 0.6009, 0.5623,\n",
       "         0.5404, 0.4949, 0.5891, 0.5048, 0.5356, 0.5921, 0.4727, 0.5921, 0.5680,\n",
       "         0.6044, 0.4353, 0.6281, 0.5594, 0.4734, 0.5988, 0.7923, 0.3997, 0.4256,\n",
       "         0.5705, 0.5940, 0.5970, 0.4484, 0.6037, 0.5436, 0.5968, 0.6049, 0.4339,\n",
       "         0.5717, 0.5999, 0.4964, 0.5972, 0.4075, 0.5835, 0.5212, 0.5612, 0.5912,\n",
       "         0.5910, 0.4837, 0.4301, 0.6071, 0.6097, 0.5250, 0.6244, 0.6061, 0.5829,\n",
       "         0.5658, 0.5851, 0.5721, 0.5862, 0.5855, 0.4805, 0.5711, 0.5579, 0.4883,\n",
       "         0.4587, 0.5333, 0.5820, 0.6450, 0.5838, 0.6193, 0.4524, 0.5232, 0.5011,\n",
       "         0.5146, 0.6066, 0.6191, 0.3897, 1.2019, 0.3549, 0.5902, 0.5850, 0.4829,\n",
       "         0.5728, 0.5551, 0.5926, 0.5858, 0.3887, 0.5910, 0.6412, 0.5057, 0.6321,\n",
       "         0.5388, 0.5458, 0.7048, 0.6167, 0.5925, 0.4645, 0.5248, 0.5353, 1.0477,\n",
       "         0.5126, 0.6028, 0.4168, 0.3831, 0.5378, 0.6004, 0.5374, 0.6068, 0.4544,\n",
       "         0.5361, 0.5224, 0.5174, 0.5746, 0.6590, 0.5889, 0.4823, 0.4354, 0.7246,\n",
       "         0.4753, 0.6332, 0.4911, 0.5264, 0.5681, 0.5043, 0.6220, 0.5878, 0.4637,\n",
       "         0.5751, 0.5280, 0.5037, 0.5686, 0.4421, 0.5235, 0.5560, 0.4349, 0.4659,\n",
       "         0.5766, 0.4429, 0.5761, 0.6074, 0.6018, 0.5049]),\n",
       " 'encoder.layer.5.attention.output.LayerNorm.bias': tensor([ 3.9309e-02, -3.0377e-02, -4.3452e-03,  7.7908e-03, -1.8487e-02,\n",
       "         -1.0881e-02, -1.4830e-02, -2.4715e-02, -3.3038e-02, -2.6685e-02,\n",
       "          1.3112e-02, -2.9668e-02, -4.1369e-02, -3.4515e-02, -1.4102e-02,\n",
       "         -1.1235e-02,  1.2579e-02, -4.1585e-02, -5.2777e-02, -1.1300e-02,\n",
       "          3.7614e-02, -1.4076e-02, -6.6596e-03, -2.4831e-02, -5.9676e-03,\n",
       "         -3.7603e-02, -2.0859e-02, -2.9960e-03, -6.7501e-02, -2.8762e-01,\n",
       "         -1.2228e-02, -5.7141e-02,  3.0380e-02, -1.8092e-02, -5.8718e-02,\n",
       "          1.7589e-02, -1.8126e-02, -2.5437e-03,  4.8275e-03,  1.3633e-02,\n",
       "         -3.4250e-03,  3.8702e-03, -1.1421e-02,  1.5371e-02, -4.0108e-03,\n",
       "         -3.0614e-03, -7.9479e-03, -1.9235e-02,  2.9394e-02, -1.5509e-02,\n",
       "          1.2438e-02,  1.4984e-02, -3.5254e-03, -9.5206e-03,  1.0934e-02,\n",
       "          4.1957e-02, -1.6502e-02, -2.8710e-02, -1.1926e-02, -5.0131e-03,\n",
       "          1.4470e-02,  6.6906e-03, -5.2497e-01,  6.3121e-02,  2.5623e-02,\n",
       "         -1.1436e-02,  8.3406e-03, -2.6330e-02, -4.5860e-02,  1.3863e-02,\n",
       "         -3.5217e-02,  4.9652e-04, -6.9793e-03,  1.6462e-02, -8.0267e-03,\n",
       "         -1.3181e-02, -2.9438e-02, -1.3358e-02,  3.4601e-03,  2.8046e-02,\n",
       "         -3.4987e-02,  1.8575e-02, -2.1946e-04,  2.3153e-02, -4.7560e-04,\n",
       "         -7.7084e-03, -8.8744e-03, -3.2708e-03, -2.5749e-05, -5.9974e-03,\n",
       "         -1.1226e-02,  1.6262e-02,  1.7167e-02,  1.3914e-02, -1.5282e-01,\n",
       "         -1.3077e-02, -1.6891e-02, -2.7127e-02,  2.3601e-02, -2.8586e-02,\n",
       "         -2.7365e-02, -2.8187e-03,  1.8389e-02, -1.0727e-03, -1.5399e-02,\n",
       "         -1.0719e-03,  1.0512e-02, -3.5764e-02, -5.3056e-03, -2.7044e-02,\n",
       "         -3.8367e-02, -8.7276e-03,  4.3866e-02,  1.2390e-02, -1.6070e-03,\n",
       "         -2.0404e-02,  1.0444e-02, -1.5354e-02, -2.6472e-02,  6.4333e-02,\n",
       "          3.2022e-02,  1.9039e-02, -2.6417e-02, -2.3956e-02, -1.4266e-02,\n",
       "         -3.6363e-02, -2.9362e-02,  1.5590e-01,  1.1091e-02, -1.7636e-02,\n",
       "          1.2484e-02,  7.6471e-03, -1.4526e-02, -4.6204e-03, -1.9211e-02,\n",
       "          1.2180e-02, -5.7049e-03, -9.2491e-02, -3.1108e-02, -4.8323e-02,\n",
       "         -3.4776e-02, -1.2625e-01,  1.7385e-02, -5.0785e-02, -1.9461e-02,\n",
       "          4.1557e-03,  4.9438e-03, -1.5720e-02,  4.3255e-04,  5.2312e-03,\n",
       "         -2.0234e-02, -4.9914e-03,  1.1846e-03, -1.6270e-02,  1.7678e-02,\n",
       "         -2.4695e-02, -3.7638e-03, -5.0928e-02,  3.7670e-02, -1.8734e-02,\n",
       "          1.1509e-02, -3.0077e-02, -2.0969e-04, -4.7142e-02, -1.9624e-02,\n",
       "         -5.6783e-02, -3.2180e-02,  5.2323e-05,  2.3921e-03, -2.5564e-03,\n",
       "         -3.9654e-02, -5.2426e-03,  1.8409e-03, -3.0825e-02,  8.6585e-03,\n",
       "         -1.1201e-02,  8.4360e-03,  3.0794e-03,  6.7961e-04, -8.3910e-04,\n",
       "         -2.8335e-03, -4.5570e-03, -4.0920e-02, -2.4107e-02, -2.5352e-02,\n",
       "         -1.7442e-03,  2.9889e-02,  1.8793e-02, -1.5236e-02, -4.3883e-02,\n",
       "         -5.8445e-02, -3.1120e-02, -3.3493e-02,  2.1634e-03, -2.9692e-02,\n",
       "         -2.5095e-03, -1.0181e-02, -1.1757e-02,  5.6765e-03, -2.9595e-04,\n",
       "          3.5762e-02, -1.8513e-02, -6.4937e-03, -1.9495e-02, -5.4100e-02,\n",
       "         -1.5257e-02, -3.8150e-03,  1.7336e-02, -1.6288e-02, -3.9255e-02,\n",
       "         -5.9295e-03, -1.9620e-02, -1.4721e-02, -8.5291e-03, -3.4839e-02,\n",
       "          1.8292e-02, -3.8292e-02,  1.8684e-02,  1.4711e-02, -2.2097e-02,\n",
       "         -1.3364e-02, -4.5120e-02,  1.5917e-03, -5.4598e-01, -6.1940e-03,\n",
       "         -1.9346e-02, -5.6218e-03,  5.9839e-03, -1.1411e-02, -1.2203e-02,\n",
       "          1.8950e-02,  2.2594e-02,  1.3522e-02,  7.4933e-02, -6.9153e-03,\n",
       "         -2.4325e-02, -2.8991e-02,  1.7693e-02,  3.5512e-02, -1.4604e-02,\n",
       "          2.9533e-02, -1.3081e-02,  5.1468e-03, -1.9453e-02, -1.4243e-02,\n",
       "         -9.5621e-03,  2.0641e-02,  9.4449e-02, -2.5002e-02,  4.2389e-01,\n",
       "          1.6933e-02, -1.6191e-02, -2.6832e-02,  1.2852e-03, -4.4538e-02,\n",
       "         -2.8467e-02, -3.8180e-02,  1.2984e-02, -2.8657e-02,  2.6631e-02,\n",
       "          3.4679e-02,  1.1650e-02,  8.4165e-03, -1.2838e-02, -1.5610e-02,\n",
       "         -1.7920e-02,  2.5773e-02,  5.7446e-02, -3.7776e-03,  2.5145e-02,\n",
       "          2.1290e-02,  7.2025e-03, -2.1929e-02, -4.3899e-03, -3.4343e-02,\n",
       "         -2.9742e-02,  1.5341e-02, -5.0689e-02, -2.9396e-02, -7.6720e-02,\n",
       "         -4.4474e-02, -2.5074e-02, -3.0395e-02, -1.2727e-02, -5.9164e-03,\n",
       "         -2.3350e-02, -2.0539e-02,  1.2839e-03, -9.1040e-02,  9.8184e-03,\n",
       "         -5.1447e-03,  4.5188e-03,  2.1405e-02, -1.6865e-02,  5.5510e-02,\n",
       "         -9.7214e-03, -2.6916e-02,  1.5009e-01, -1.2703e-02, -1.0318e-02,\n",
       "          4.4256e-03, -4.9060e-03, -4.0586e-03, -2.9821e-02, -8.1567e-03,\n",
       "         -1.9129e-02, -3.7649e-02,  1.2824e-02, -2.4665e-02,  2.0262e-02,\n",
       "          4.4258e-02,  8.4403e-03,  1.9296e-02, -1.0823e-02,  3.2246e-03,\n",
       "         -2.1865e-02,  6.6456e-02, -9.2664e-03, -1.3487e-04, -5.0771e-01,\n",
       "         -1.0649e-02,  7.6206e-04,  2.5823e-02, -1.1999e-02,  8.8798e-03,\n",
       "          1.7195e-02,  3.5055e-02,  2.7200e-02, -1.3269e-02, -8.2241e-03,\n",
       "          1.3390e-02, -3.5422e-02, -3.9208e-02,  1.1659e-02, -8.7789e-03,\n",
       "          1.0353e-02,  9.6004e-03, -3.6450e-02,  6.0250e-02, -1.3545e-02,\n",
       "         -1.3275e-02,  3.5603e-01,  1.7316e-02, -3.5138e-02, -1.4877e-03,\n",
       "         -2.1353e-02,  1.9933e-03, -7.8426e-02,  6.8982e-03, -2.1829e-02,\n",
       "          2.1324e-03,  9.3010e-02, -2.5746e-03, -1.5871e-02,  5.9894e-02,\n",
       "         -2.5252e-02, -3.1421e-02, -1.8325e-02, -1.5436e-02,  5.0792e-02,\n",
       "         -9.2598e-03,  7.1424e-03, -9.5372e-04,  5.8361e-02, -4.5170e-02,\n",
       "          6.3453e-03, -2.1138e-02, -2.3800e-02, -7.2760e-03, -9.1664e-03,\n",
       "         -2.3177e-02, -1.7851e-03,  1.8123e-02,  2.5835e-03,  2.5100e-03,\n",
       "         -9.4034e-03,  7.0994e-03, -2.0542e-02,  2.4952e-03,  1.1828e-02,\n",
       "          4.3676e-02, -3.5925e-02, -2.0794e-02, -3.2139e-02]),\n",
       " 'encoder.layer.5.intermediate.dense.weight': tensor([[-1.2872e-01,  4.8868e-02,  1.1631e-04,  ..., -1.0915e-02,\n",
       "           1.5727e-02, -1.6582e-02],\n",
       "         [ 2.1423e-02, -2.9144e-02,  3.9667e-02,  ..., -3.2609e-02,\n",
       "           5.1493e-02, -3.3110e-02],\n",
       "         [ 1.5892e-01,  3.9650e-02, -1.1395e-02,  ...,  5.5328e-02,\n",
       "          -3.1773e-02, -3.6336e-03],\n",
       "         ...,\n",
       "         [-1.0923e-02, -1.3187e-04, -1.1177e-03,  ...,  4.1376e-02,\n",
       "           2.2833e-02,  7.4065e-03],\n",
       "         [ 8.6519e-02,  3.6570e-03,  1.0981e-02,  ...,  1.2306e-02,\n",
       "           2.2467e-02,  2.1188e-02],\n",
       "         [-4.3578e-02,  5.6495e-02, -3.2642e-02,  ...,  1.0560e-02,\n",
       "           4.5462e-02,  3.2631e-02]]),\n",
       " 'encoder.layer.5.intermediate.dense.bias': tensor([ 0.0042,  0.0141,  0.0042,  ..., -0.0910,  0.0654, -0.0630]),\n",
       " 'encoder.layer.5.output.dense.weight': tensor([[-0.0565,  0.0099, -0.0123,  ...,  0.0179, -0.0387,  0.0045],\n",
       "         [-0.0234, -0.0108,  0.0005,  ..., -0.0321, -0.0068, -0.0003],\n",
       "         [ 0.0526, -0.0002, -0.0018,  ...,  0.0283, -0.0275,  0.0429],\n",
       "         ...,\n",
       "         [ 0.0226, -0.0387, -0.0465,  ..., -0.0004,  0.0114, -0.0009],\n",
       "         [-0.0126, -0.0092,  0.0151,  ...,  0.0124,  0.0060,  0.0181],\n",
       "         [-0.0540, -0.0098, -0.0371,  ..., -0.0346, -0.0172,  0.0012]]),\n",
       " 'encoder.layer.5.output.dense.bias': tensor([-1.1343e-03, -1.3269e-02,  3.4918e-03,  1.4029e-02,  5.0791e-03,\n",
       "          2.3983e-02,  6.2502e-03,  6.6489e-03,  1.6769e-04, -7.9329e-03,\n",
       "          6.2461e-03,  1.6168e-02, -2.1881e-02,  2.1330e-02, -4.9082e-03,\n",
       "          2.0086e-02, -2.0749e-02,  1.6167e-02, -8.7078e-03,  1.4578e-02,\n",
       "          9.9803e-04, -1.1262e-05, -1.4746e-03, -3.0524e-02,  1.9457e-02,\n",
       "         -9.4345e-03, -9.2553e-03,  2.8280e-02,  1.4177e-02,  1.7968e-02,\n",
       "          1.6764e-02, -6.5532e-03,  3.6046e-02,  3.5701e-02,  1.0386e-03,\n",
       "         -1.1577e-02,  7.9971e-03,  2.2226e-02, -9.3321e-03, -1.4891e-02,\n",
       "          2.9242e-02, -2.9499e-02, -3.8014e-03,  1.9007e-02,  4.3723e-03,\n",
       "         -5.0457e-03, -1.5223e-02,  4.6361e-02,  9.1121e-03,  1.3154e-02,\n",
       "         -3.2163e-03, -2.8775e-02,  6.4919e-03,  1.8862e-02,  1.3717e-02,\n",
       "         -2.5642e-02,  3.7851e-03,  3.5572e-03,  1.1651e-02,  2.4173e-02,\n",
       "          2.9001e-02,  2.2898e-03, -3.5514e-02,  7.4532e-03,  1.9553e-02,\n",
       "          1.9077e-02,  2.7317e-02,  7.6997e-03, -4.1017e-03, -1.9088e-02,\n",
       "          1.5575e-02, -6.1128e-03,  2.7342e-04, -7.0977e-03,  7.1277e-03,\n",
       "         -1.7669e-02, -1.9324e-02,  4.3700e-02,  4.6336e-02,  6.6881e-03,\n",
       "         -8.1899e-03,  3.8335e-02,  9.0484e-03, -5.9573e-04, -3.7642e-02,\n",
       "         -3.6919e-02,  3.5793e-02, -9.9712e-04, -7.9695e-03,  1.2223e-02,\n",
       "         -1.2620e-02,  1.3283e-02, -3.7803e-02,  3.6290e-02, -9.2547e-03,\n",
       "          6.4338e-03, -7.9623e-03, -1.8749e-02, -1.4104e-02, -4.6808e-02,\n",
       "         -1.4857e-03, -3.8596e-03, -1.9701e-03,  2.6386e-02,  3.3479e-02,\n",
       "         -2.0925e-02, -5.2876e-03,  4.8299e-03,  3.7075e-02,  2.2053e-03,\n",
       "         -1.5933e-02,  2.4060e-02,  4.8612e-03, -2.5992e-02, -1.5962e-02,\n",
       "         -3.1222e-03, -1.1057e-03,  2.8884e-02, -2.7082e-02, -4.7148e-02,\n",
       "         -2.0279e-02,  1.0310e-02,  1.3570e-02, -2.9607e-02,  2.6234e-02,\n",
       "          3.1073e-02, -1.0032e-03,  5.3298e-02, -2.0407e-02,  1.4432e-02,\n",
       "         -2.8724e-02, -7.7827e-03, -3.9282e-03, -2.5269e-02,  3.1869e-03,\n",
       "         -2.1929e-02,  1.4947e-02, -1.9875e-02, -1.8268e-02, -2.4980e-02,\n",
       "          6.5487e-03,  1.5951e-02,  2.1021e-02, -9.5385e-03, -1.5052e-02,\n",
       "         -8.4342e-03,  2.2917e-02, -8.6296e-03,  1.4927e-02, -1.8834e-02,\n",
       "         -4.8005e-02, -2.7106e-02, -4.1238e-02, -1.8585e-02,  8.7035e-04,\n",
       "         -3.9022e-02, -5.1928e-03,  3.3562e-03,  1.7771e-02, -1.3827e-02,\n",
       "         -2.1580e-02,  4.9136e-03,  5.3924e-03,  1.4972e-02,  1.3195e-04,\n",
       "         -1.4564e-04, -3.0291e-02,  4.0708e-02,  1.3053e-02, -4.3601e-02,\n",
       "          6.3080e-03,  3.7344e-02,  1.6795e-04, -2.6622e-02,  2.1589e-02,\n",
       "          4.6353e-02,  1.4005e-02, -1.4916e-02, -1.2627e-03,  2.2741e-03,\n",
       "         -2.7921e-03,  3.5448e-03,  1.4699e-02, -5.7156e-03,  1.2460e-02,\n",
       "         -2.4721e-02,  4.3123e-02, -1.2925e-02, -3.1608e-02,  1.4866e-02,\n",
       "          1.1104e-02, -1.8400e-02,  2.0131e-02, -7.9235e-03,  8.0587e-03,\n",
       "          3.0203e-02,  8.4428e-03,  3.0135e-02,  1.1821e-02, -2.6117e-03,\n",
       "          6.5873e-03, -8.2121e-03,  4.0723e-02,  3.5947e-02, -1.0676e-02,\n",
       "          2.4254e-02, -3.0431e-02, -2.4261e-02, -8.9361e-03, -6.9207e-03,\n",
       "         -2.4626e-02,  1.5110e-02, -5.3637e-03, -2.4246e-02, -8.4260e-03,\n",
       "          4.9065e-03,  1.4630e-02, -1.3349e-02,  2.0449e-02, -2.5120e-03,\n",
       "          7.8115e-03,  2.2724e-02, -1.0669e-02,  3.3033e-02,  5.3030e-03,\n",
       "          6.8910e-03, -1.4992e-02,  3.4245e-02,  1.2714e-03,  5.0487e-03,\n",
       "         -5.3257e-03, -6.7109e-04, -4.1839e-03, -2.0916e-02, -1.9714e-03,\n",
       "         -2.9781e-02,  1.3651e-02, -2.4855e-02, -8.4408e-03,  1.3882e-03,\n",
       "          4.2500e-02,  2.9076e-02,  6.5006e-03, -1.3462e-02,  1.4799e-02,\n",
       "         -4.2859e-03, -1.3352e-02,  6.2767e-03, -4.7203e-02,  1.3976e-01,\n",
       "          2.2180e-02, -1.4814e-02,  1.6296e-03, -8.6400e-03, -7.6844e-03,\n",
       "         -1.7743e-02, -4.3415e-03,  1.2802e-02,  2.7064e-02, -2.2471e-02,\n",
       "         -1.8688e-02,  2.6222e-02,  1.8435e-02, -1.9635e-02, -2.2136e-02,\n",
       "          4.6226e-02,  3.6165e-03,  5.6793e-02,  1.0398e-02,  2.7070e-02,\n",
       "         -6.2389e-03, -3.7948e-03, -2.5743e-02, -1.1585e-02, -2.3157e-02,\n",
       "         -2.4805e-02,  3.1521e-03, -3.1380e-03, -2.9704e-03, -1.0463e-02,\n",
       "          3.4887e-02,  1.3493e-02,  3.5186e-02,  1.6147e-02,  5.1516e-03,\n",
       "          1.1065e-02, -2.7942e-02,  3.5736e-03, -2.0924e-02, -4.8134e-03,\n",
       "         -1.2042e-02,  6.3203e-03,  3.2368e-03, -8.1640e-03,  2.2570e-02,\n",
       "          1.7674e-03, -6.5804e-03, -2.9958e-02,  1.8852e-02,  4.5515e-03,\n",
       "         -1.2887e-02,  2.1716e-02, -6.1865e-02, -3.1665e-02, -7.5347e-03,\n",
       "         -1.5383e-03, -1.7310e-02, -1.3553e-02, -1.7687e-03,  8.4748e-03,\n",
       "         -2.3602e-03,  3.0796e-02,  7.3578e-03, -1.6242e-02,  1.7714e-02,\n",
       "          9.7643e-04, -5.0283e-03,  9.2334e-03,  1.0823e-02,  6.2888e-01,\n",
       "          3.5077e-02, -1.3922e-02, -8.8514e-03,  5.9310e-03,  6.0648e-03,\n",
       "         -3.7645e-04, -7.6664e-04, -1.1899e-02, -2.3803e-02,  3.1014e-02,\n",
       "         -6.4392e-03, -2.2647e-02,  3.9786e-03,  2.5031e-02, -1.1327e-02,\n",
       "          1.9784e-02,  8.6959e-03,  1.6320e-02,  2.9713e-03, -2.2257e-02,\n",
       "          9.5491e-03,  1.8837e-02, -5.1767e-04,  1.7347e-02, -1.5538e-02,\n",
       "          3.4330e-02, -1.1800e-02,  5.4603e-03, -5.9748e-02, -1.2647e-03,\n",
       "          5.4064e-02,  1.5132e-03, -1.0844e-02, -1.6792e-02, -1.1758e-03,\n",
       "         -1.4141e-02, -1.8414e-02, -3.1652e-02,  1.4631e-02,  2.3243e-02,\n",
       "          8.3649e-03,  8.1222e-03, -1.2252e-02, -9.2787e-03,  8.3838e-03,\n",
       "          4.7589e-02, -9.4913e-03, -6.9378e-04, -6.1504e-04, -1.3134e-02,\n",
       "          3.9842e-02, -8.1996e-03, -7.3589e-03, -3.2824e-03,  1.7194e-03,\n",
       "          7.9569e-04, -1.7400e-02, -3.2655e-02,  1.4082e-02,  1.7120e-03,\n",
       "          1.2983e-02,  6.1270e-03,  2.0658e-02,  7.7719e-03]),\n",
       " 'encoder.layer.5.output.LayerNorm.weight': tensor([ 6.4597e-01,  6.7479e-01,  6.7166e-01,  6.5946e-01,  6.2882e-01,\n",
       "          6.8350e-01,  6.7488e-01,  6.5755e-01,  6.4649e-01,  6.4440e-01,\n",
       "          6.8499e-01,  6.3341e-01,  6.5719e-01,  6.1773e-01,  6.6222e-01,\n",
       "          6.4514e-01,  7.0188e-01,  6.8974e-01,  7.0607e-01,  6.7142e-01,\n",
       "          7.6497e-01,  6.3606e-01,  6.7237e-01,  6.1793e-01,  6.7228e-01,\n",
       "          6.5789e-01,  7.1691e-01,  6.7191e-01,  6.0205e-01,  4.1974e-01,\n",
       "          6.2455e-01,  6.2124e-01,  6.3842e-01,  6.1795e-01,  6.7504e-01,\n",
       "          6.4936e-01,  6.6781e-01,  6.2511e-01,  6.4775e-01,  6.2875e-01,\n",
       "          6.4851e-01,  6.6373e-01,  6.3511e-01,  6.7543e-01,  6.5414e-01,\n",
       "          6.4949e-01,  6.6716e-01,  6.5387e-01,  6.3059e-01,  6.8669e-01,\n",
       "          6.0857e-01,  6.3925e-01,  6.5339e-01,  6.4688e-01,  6.5040e-01,\n",
       "          6.7401e-01,  6.5413e-01,  6.0916e-01,  6.0504e-01,  6.1038e-01,\n",
       "          6.4109e-01,  6.4604e-01,  3.7914e-01,  4.9665e-01,  7.0906e-01,\n",
       "          6.5931e-01,  6.5265e-01,  6.6680e-01,  6.5352e-01,  6.6773e-01,\n",
       "          6.7525e-01,  6.4940e-01,  6.1307e-01,  6.9381e-01,  6.4018e-01,\n",
       "          6.5201e-01,  6.2326e-01,  6.0714e-01,  6.5853e-01,  6.1398e-01,\n",
       "          6.1757e-01,  6.0286e-01,  6.2839e-01,  6.7832e-01,  6.9501e-01,\n",
       "          6.3841e-01,  6.8733e-01,  6.9058e-01,  6.5075e-01,  5.9856e-01,\n",
       "          6.4624e-01,  6.4333e-01,  6.3665e-01,  6.3943e-01,  7.3112e-01,\n",
       "          6.9263e-01,  6.5402e-01,  6.0136e-01,  6.4913e-01,  3.6632e-01,\n",
       "          6.0711e-01,  6.4797e-01,  6.1790e-01,  6.4671e-01,  6.6339e-01,\n",
       "          6.4632e-01,  6.5874e-01,  6.1613e-01,  6.3410e-01,  6.8178e-01,\n",
       "          6.3579e-01,  6.5643e-01,  6.4712e-01,  6.6286e-01,  6.8975e-01,\n",
       "          6.4838e-01,  6.6523e-01,  6.9172e-01,  6.5239e-01,  6.2323e-01,\n",
       "          6.4412e-01,  6.3551e-01,  6.5503e-01,  6.1096e-01,  6.4082e-01,\n",
       "          5.7761e-01,  6.7073e-01, -6.0128e-33,  6.7571e-01,  6.6483e-01,\n",
       "          6.4263e-01,  6.5221e-01,  6.8608e-01,  6.4359e-01,  6.2727e-01,\n",
       "          6.4628e-01,  6.8027e-01,  5.9964e-01,  6.8049e-01,  6.3943e-01,\n",
       "          6.0649e-01,  6.5929e-01,  6.6821e-01,  6.7618e-01,  6.5388e-01,\n",
       "          7.0995e-01,  6.5514e-01,  6.1731e-01,  6.9412e-01,  6.7169e-01,\n",
       "          5.8873e-01,  6.8917e-01,  6.5636e-01,  6.5824e-01,  6.3773e-01,\n",
       "          6.9366e-01,  6.6893e-01,  3.0723e-01,  6.8559e-01,  6.3845e-01,\n",
       "          7.0968e-01,  6.7203e-01,  6.4701e-01,  6.3995e-01,  6.5601e-01,\n",
       "          5.6840e-01,  6.0638e-01,  6.4607e-01,  6.6857e-01,  6.0181e-01,\n",
       "          6.1289e-01,  6.8182e-01,  6.2662e-01,  6.3740e-01,  7.2439e-01,\n",
       "          5.9236e-01,  7.0602e-01,  6.6740e-01,  6.1766e-01,  6.1195e-01,\n",
       "          6.3702e-01,  6.3745e-01,  6.5201e-01,  6.4166e-01,  6.0698e-01,\n",
       "          6.3311e-01,  6.5960e-01,  6.9876e-01,  6.6967e-01,  6.6184e-01,\n",
       "          6.5135e-01,  6.5810e-01,  6.1733e-01,  6.4955e-01,  6.3038e-01,\n",
       "          6.6128e-01,  6.6892e-01,  6.3040e-01,  5.8885e-01,  6.2730e-01,\n",
       "          6.9348e-01,  6.5986e-01,  6.7916e-01,  6.4721e-01,  6.4046e-01,\n",
       "          6.6500e-01,  6.3157e-01,  6.5659e-01,  6.3254e-01,  6.5381e-01,\n",
       "          6.6649e-01,  6.1260e-01,  6.4515e-01,  6.7053e-01,  6.2540e-01,\n",
       "          6.3632e-01,  6.6157e-01,  6.8447e-01,  6.6973e-01,  6.2421e-01,\n",
       "          7.0449e-01,  6.0411e-01,  6.7269e-01, -4.7951e-33,  6.1807e-01,\n",
       "          6.6283e-01,  6.3661e-01,  6.2561e-01,  7.0107e-01,  5.4963e-01,\n",
       "          6.3692e-01,  6.5350e-01,  6.6770e-01,  6.4929e-01,  6.6055e-01,\n",
       "          6.5775e-01,  6.9775e-01,  6.8161e-01,  6.4755e-01,  6.5236e-01,\n",
       "          6.2088e-01,  6.7644e-01,  6.7974e-01,  6.7425e-01,  6.4831e-01,\n",
       "          6.9682e-01,  6.1575e-01,  6.1940e-01,  6.7153e-01,  2.5210e-01,\n",
       "          6.8669e-01,  6.5873e-01,  6.0701e-01,  6.8257e-01,  6.4036e-01,\n",
       "          6.5008e-01,  6.9946e-01,  6.8451e-01,  6.3783e-01,  6.3525e-01,\n",
       "          6.4719e-01,  6.2586e-01,  6.5578e-01,  6.5083e-01,  6.4735e-01,\n",
       "          6.4244e-01,  6.7850e-01,  5.4944e-01,  6.9151e-01,  6.6225e-01,\n",
       "          6.2469e-01,  6.3459e-01,  6.3695e-01,  6.9239e-01,  6.0245e-01,\n",
       "          5.9804e-01,  6.2189e-01,  6.1886e-01,  6.3703e-01,  6.5325e-01,\n",
       "          6.5002e-01,  6.7551e-01,  6.8300e-01,  6.8796e-01,  6.6015e-01,\n",
       "          6.5027e-01,  6.4754e-01,  6.7571e-01,  6.1650e-01,  6.5286e-01,\n",
       "          6.5545e-01,  6.4185e-01,  6.2924e-01,  6.6356e-01,  7.9437e-01,\n",
       "          6.5578e-01,  6.4775e-01,  6.1701e-01,  6.4735e-01,  6.3168e-01,\n",
       "          6.5937e-01,  6.1627e-01,  6.1284e-01,  6.2503e-01,  7.4060e-01,\n",
       "          6.4524e-01,  6.4979e-01,  7.0125e-01,  6.3707e-01,  6.4402e-01,\n",
       "          6.3001e-01,  6.5916e-01,  6.1005e-01,  6.5260e-01,  6.7788e-01,\n",
       "          6.4290e-01,  6.7091e-01,  6.4140e-01,  6.5666e-01, -1.5022e-09,\n",
       "          6.7881e-01,  6.7530e-01,  5.8420e-01,  6.7780e-01,  6.4215e-01,\n",
       "          6.7412e-01,  6.5644e-01,  6.7375e-01,  5.8324e-01,  6.8030e-01,\n",
       "          6.3579e-01,  6.6187e-01,  6.0157e-01,  6.5710e-01,  6.3903e-01,\n",
       "          6.1576e-01,  6.7380e-01,  6.7989e-01,  4.1580e-01,  6.6769e-01,\n",
       "          6.5534e-01,  3.4026e-01,  6.7559e-01,  6.2741e-01,  6.5629e-01,\n",
       "          6.5018e-01,  6.8208e-01,  6.7419e-01,  6.4990e-01,  6.5349e-01,\n",
       "          6.2486e-01,  5.8009e-01,  6.3824e-01,  6.6249e-01,  6.8065e-01,\n",
       "          6.9439e-01,  6.6158e-01,  6.5079e-01,  6.7720e-01,  6.3110e-01,\n",
       "          5.7611e-01,  6.6349e-01,  6.9438e-01,  4.6322e-01,  6.1911e-01,\n",
       "          6.6823e-01,  6.3838e-01,  6.5833e-01,  6.6835e-01,  6.4573e-01,\n",
       "          7.0175e-01,  6.8034e-01,  6.1148e-01,  6.8941e-01,  6.8417e-01,\n",
       "          6.5045e-01,  6.2727e-01,  6.6989e-01,  6.5362e-01,  7.1913e-01,\n",
       "          6.3908e-01,  6.4351e-01,  6.5922e-01,  5.8259e-01]),\n",
       " 'encoder.layer.5.output.LayerNorm.bias': tensor([-3.6307e-02,  6.6166e-02,  1.4946e-02,  6.2236e-04,  3.7191e-02,\n",
       "          3.0070e-02,  2.7832e-02,  1.4204e-02,  1.2187e-02,  1.8812e-02,\n",
       "          2.9828e-03,  5.8418e-02,  3.2625e-02,  3.4935e-02,  5.0477e-03,\n",
       "          7.0585e-03,  5.2829e-03,  4.8455e-02, -1.6302e-02, -7.8441e-04,\n",
       "          5.4700e-02,  3.0742e-02,  3.8699e-02,  3.0223e-02,  2.4650e-02,\n",
       "          3.7523e-02,  1.7021e-02,  8.2340e-03, -3.5271e-02, -5.1624e-02,\n",
       "          7.1772e-03, -4.3882e-03,  5.8266e-02,  4.8101e-03,  5.0160e-02,\n",
       "          4.6471e-03,  2.3613e-02,  2.5022e-02,  1.5840e-02, -3.6964e-03,\n",
       "          9.7650e-03,  1.1917e-02,  3.4653e-02, -5.6248e-03,  2.0774e-02,\n",
       "          6.3452e-03,  4.2097e-03, -4.5701e-03,  4.0401e-02,  3.2228e-02,\n",
       "          2.3706e-02,  1.9731e-03,  4.0009e-03,  3.8016e-02, -1.6870e-03,\n",
       "          1.8733e-02,  1.8380e-02,  1.8946e-02,  1.9216e-02,  1.4688e-02,\n",
       "          5.1604e-03,  1.1842e-02, -3.0244e-02,  5.0047e-03,  5.8631e-02,\n",
       "          1.6907e-02,  6.7765e-03,  4.7157e-02,  3.9346e-02, -5.8767e-04,\n",
       "          3.7869e-02,  3.3195e-02,  1.2715e-02,  5.0012e-02,  1.2441e-02,\n",
       "          2.7581e-02,  2.0951e-02,  1.8906e-02,  3.5686e-02,  2.0399e-02,\n",
       "          2.6972e-02,  3.3305e-02,  1.1196e-02, -9.9571e-03,  2.0419e-02,\n",
       "          1.0852e-02,  2.1767e-02, -3.2115e-02,  2.8763e-02,  9.1874e-03,\n",
       "          1.5413e-02,  4.3997e-03,  2.2930e-03, -4.1331e-04,  3.4924e-02,\n",
       "          2.7382e-03,  6.5318e-03,  2.0824e-02, -2.5504e-02, -1.0214e-01,\n",
       "          3.7222e-02,  1.5161e-02,  3.9702e-02,  2.9934e-02,  2.8692e-02,\n",
       "          3.2160e-04,  8.4656e-03,  2.2133e-02,  3.0691e-02,  2.5090e-02,\n",
       "          1.2642e-02,  2.1341e-02,  6.8935e-02, -5.2185e-04,  1.1076e-02,\n",
       "          1.5892e-02,  3.7193e-02,  3.9699e-02,  4.2360e-02,  5.6402e-02,\n",
       "          7.2670e-03,  7.4276e-03,  2.1336e-02,  4.5929e-02,  6.6430e-03,\n",
       "          6.5016e-02,  2.3234e-02, -8.5982e-33,  5.1269e-03,  3.6765e-02,\n",
       "          1.8358e-02,  3.9319e-03,  1.7067e-02,  8.3486e-03,  1.2735e-02,\n",
       "          1.6788e-02,  3.9853e-02,  2.9239e-02,  4.6643e-02, -3.7992e-03,\n",
       "          2.0124e-02, -4.4626e-02,  4.3382e-02, -4.0611e-02,  6.5239e-02,\n",
       "          4.4899e-02,  1.0084e-02,  3.1785e-02,  1.9252e-02,  5.2102e-02,\n",
       "          4.1669e-02,  3.3581e-02,  3.4474e-03,  3.0864e-02,  1.4235e-03,\n",
       "          3.4144e-02,  5.9178e-02, -2.8280e-02, -2.2890e-02,  2.5171e-02,\n",
       "         -2.4967e-02,  1.4840e-02,  3.0334e-02,  5.4927e-03,  2.2722e-02,\n",
       "         -3.0635e-02,  3.6921e-02,  1.5190e-02,  2.0305e-02,  7.1512e-03,\n",
       "          2.9982e-02,  1.9211e-02,  2.1202e-02,  2.9725e-02,  4.9369e-02,\n",
       "          4.8948e-02, -2.7134e-02,  1.2934e-02,  7.2020e-03,  1.3668e-02,\n",
       "          7.3688e-02,  1.0772e-02,  3.1785e-02,  3.2025e-02,  1.1990e-02,\n",
       "          1.1300e-02,  6.6828e-03,  2.8972e-03,  1.7875e-02,  4.6273e-02,\n",
       "         -2.2522e-02,  8.6658e-02,  5.7477e-02,  6.7640e-03,  3.2899e-02,\n",
       "         -2.7633e-03,  1.8626e-03,  2.3511e-02,  2.6875e-03,  6.5742e-03,\n",
       "          4.3498e-02,  2.3042e-02,  2.4908e-02,  2.0326e-02,  5.8126e-02,\n",
       "          1.8153e-02,  2.3129e-02,  2.0904e-02, -3.0527e-03,  4.2621e-02,\n",
       "          4.1478e-02,  2.7420e-02,  3.1308e-02,  3.3889e-02,  3.5449e-02,\n",
       "          1.7333e-02,  3.1621e-02,  3.7212e-02,  5.6553e-02,  2.6930e-02,\n",
       "          6.7312e-02,  3.5392e-03, -5.3138e-02,  1.5605e-32,  4.0273e-02,\n",
       "          3.3508e-02,  1.0892e-02,  4.7434e-02,  3.9866e-03,  1.4430e-02,\n",
       "          1.4154e-02, -1.2186e-03,  4.6349e-02,  5.7044e-02,  4.5923e-02,\n",
       "          3.1955e-02,  4.4293e-02, -1.1728e-03,  1.6071e-02,  1.7335e-02,\n",
       "          3.5696e-03,  2.1953e-02,  1.5437e-02,  1.7144e-02,  3.9719e-02,\n",
       "         -4.5567e-02, -5.9817e-02, -4.8838e-03,  2.0673e-02,  9.3210e-02,\n",
       "          6.8153e-02,  1.1415e-02,  9.6305e-02,  1.4794e-02,  4.8208e-02,\n",
       "          2.9601e-02, -2.6060e-02,  1.3689e-02,  6.4934e-03,  5.7783e-02,\n",
       "          2.4350e-02,  1.7076e-02,  1.6274e-02,  3.3105e-02,  9.9549e-03,\n",
       "          2.3159e-02, -3.3917e-02, -3.4988e-02,  1.5305e-02, -1.9688e-02,\n",
       "          3.6551e-02,  2.5891e-02,  2.2420e-02,  2.2206e-02,  2.2263e-02,\n",
       "          3.9153e-02,  2.3322e-02,  3.6330e-02,  1.2242e-02, -2.2690e-02,\n",
       "          1.8451e-02,  2.5032e-02,  5.2434e-02,  3.9877e-03,  2.4976e-03,\n",
       "          2.2611e-02,  1.2339e-02,  6.1044e-02,  3.9212e-02,  7.2906e-03,\n",
       "          9.6314e-03,  8.8198e-03,  2.7590e-02,  1.8998e-02,  5.0298e-02,\n",
       "          2.8007e-02,  5.9450e-02,  2.7270e-02,  1.0014e-02,  2.2254e-02,\n",
       "         -2.1032e-02,  2.5989e-02,  2.8974e-02,  9.1783e-02, -4.2168e-02,\n",
       "          5.7802e-03,  2.0274e-02,  1.7923e-03,  3.4435e-02,  3.8754e-02,\n",
       "          5.7767e-03,  1.9683e-02, -1.3827e-02,  2.0511e-02, -1.7933e-03,\n",
       "          3.6169e-02,  8.6702e-03,  3.4608e-02,  1.8358e-02, -8.6552e-08,\n",
       "         -2.8542e-03,  3.4104e-02,  1.9786e-02,  1.4666e-02,  3.4873e-02,\n",
       "          4.1894e-02,  9.0693e-03,  4.7095e-03, -7.2059e-04,  4.1637e-02,\n",
       "          1.2115e-02,  9.0741e-03,  4.9762e-02, -1.4600e-02,  2.0347e-02,\n",
       "          3.5531e-02, -6.8393e-03,  3.9175e-02,  1.6414e-02,  2.2703e-02,\n",
       "          3.0549e-02,  4.2829e-02,  4.9160e-03,  3.3118e-02,  2.0222e-02,\n",
       "          2.0104e-02,  6.3108e-03,  4.0043e-02,  1.9102e-02,  9.6799e-03,\n",
       "          1.7716e-02,  9.7493e-04,  6.5533e-03,  1.3198e-02,  4.2913e-02,\n",
       "         -4.5898e-03,  4.9200e-02,  2.0708e-02,  5.5458e-03,  7.0654e-02,\n",
       "          2.7066e-02,  3.0692e-02,  4.9343e-03, -5.4350e-02,  5.5594e-02,\n",
       "         -2.1314e-04,  2.0744e-02,  3.4721e-02,  1.1732e-02,  6.3457e-03,\n",
       "          1.9630e-02, -1.6289e-02, -1.1898e-02,  2.0787e-02,  5.3616e-03,\n",
       "          5.6487e-03,  8.1676e-03,  1.3681e-02,  1.8039e-02,  2.7100e-03,\n",
       "         -1.5162e-02,  3.7701e-02, -5.8013e-02,  6.6124e-02]),\n",
       " 'pooler.dense.weight': tensor([[-1.5129e-02, -2.2446e-02, -4.5738e-03,  ..., -9.0942e-03,\n",
       "           8.0872e-03, -2.0313e-03],\n",
       "         [ 8.3313e-03, -1.8631e-02, -1.3229e-02,  ...,  7.2670e-03,\n",
       "          -1.3771e-03, -6.0043e-03],\n",
       "         [-3.0270e-03,  1.0765e-02, -1.0201e-02,  ...,  6.1846e-04,\n",
       "          -2.6054e-03,  2.8744e-03],\n",
       "         ...,\n",
       "         [-4.8752e-03, -1.0090e-03, -4.2839e-03,  ..., -5.3062e-03,\n",
       "          -1.6842e-03, -4.1122e-03],\n",
       "         [-8.8654e-03,  1.0757e-02,  1.1263e-03,  ..., -2.2068e-03,\n",
       "          -9.7752e-05,  3.0460e-03],\n",
       "         [ 4.9095e-03,  6.9542e-03, -6.5308e-03,  ...,  1.2444e-02,\n",
       "          -2.0504e-03, -1.4183e-02]]),\n",
       " 'pooler.dense.bias': tensor([0., 0., 0., 0., 0., 0., 0., 0., 0., 0., 0., 0., 0., 0., 0., 0., 0., 0., 0., 0., 0., 0., 0., 0.,\n",
       "         0., 0., 0., 0., 0., 0., 0., 0., 0., 0., 0., 0., 0., 0., 0., 0., 0., 0., 0., 0., 0., 0., 0., 0.,\n",
       "         0., 0., 0., 0., 0., 0., 0., 0., 0., 0., 0., 0., 0., 0., 0., 0., 0., 0., 0., 0., 0., 0., 0., 0.,\n",
       "         0., 0., 0., 0., 0., 0., 0., 0., 0., 0., 0., 0., 0., 0., 0., 0., 0., 0., 0., 0., 0., 0., 0., 0.,\n",
       "         0., 0., 0., 0., 0., 0., 0., 0., 0., 0., 0., 0., 0., 0., 0., 0., 0., 0., 0., 0., 0., 0., 0., 0.,\n",
       "         0., 0., 0., 0., 0., 0., 0., 0., 0., 0., 0., 0., 0., 0., 0., 0., 0., 0., 0., 0., 0., 0., 0., 0.,\n",
       "         0., 0., 0., 0., 0., 0., 0., 0., 0., 0., 0., 0., 0., 0., 0., 0., 0., 0., 0., 0., 0., 0., 0., 0.,\n",
       "         0., 0., 0., 0., 0., 0., 0., 0., 0., 0., 0., 0., 0., 0., 0., 0., 0., 0., 0., 0., 0., 0., 0., 0.,\n",
       "         0., 0., 0., 0., 0., 0., 0., 0., 0., 0., 0., 0., 0., 0., 0., 0., 0., 0., 0., 0., 0., 0., 0., 0.,\n",
       "         0., 0., 0., 0., 0., 0., 0., 0., 0., 0., 0., 0., 0., 0., 0., 0., 0., 0., 0., 0., 0., 0., 0., 0.,\n",
       "         0., 0., 0., 0., 0., 0., 0., 0., 0., 0., 0., 0., 0., 0., 0., 0., 0., 0., 0., 0., 0., 0., 0., 0.,\n",
       "         0., 0., 0., 0., 0., 0., 0., 0., 0., 0., 0., 0., 0., 0., 0., 0., 0., 0., 0., 0., 0., 0., 0., 0.,\n",
       "         0., 0., 0., 0., 0., 0., 0., 0., 0., 0., 0., 0., 0., 0., 0., 0., 0., 0., 0., 0., 0., 0., 0., 0.,\n",
       "         0., 0., 0., 0., 0., 0., 0., 0., 0., 0., 0., 0., 0., 0., 0., 0., 0., 0., 0., 0., 0., 0., 0., 0.,\n",
       "         0., 0., 0., 0., 0., 0., 0., 0., 0., 0., 0., 0., 0., 0., 0., 0., 0., 0., 0., 0., 0., 0., 0., 0.,\n",
       "         0., 0., 0., 0., 0., 0., 0., 0., 0., 0., 0., 0., 0., 0., 0., 0., 0., 0., 0., 0., 0., 0., 0., 0.])}"
      ]
     },
     "execution_count": 20,
     "metadata": {},
     "output_type": "execute_result"
    }
   ],
   "source": [
    "model"
   ]
  },
  {
   "cell_type": "code",
   "execution_count": 17,
   "metadata": {},
   "outputs": [
    {
     "ename": "AttributeError",
     "evalue": "'dict' object has no attribute 'encode'",
     "output_type": "error",
     "traceback": [
      "\u001b[0;31m---------------------------------------------------------------------------\u001b[0m",
      "\u001b[0;31mAttributeError\u001b[0m                            Traceback (most recent call last)",
      "Cell \u001b[0;32mIn[17], line 2\u001b[0m\n\u001b[1;32m      1\u001b[0m sample_sentences \u001b[39m=\u001b[39m [\u001b[39m'\u001b[39m\u001b[39mmy name is pop smoke\u001b[39m\u001b[39m'\u001b[39m]\n\u001b[0;32m----> 2\u001b[0m sample_embeddings \u001b[39m=\u001b[39m model\u001b[39m.\u001b[39;49mencode(sample_sentences)\n",
      "\u001b[0;31mAttributeError\u001b[0m: 'dict' object has no attribute 'encode'"
     ]
    }
   ],
   "source": [
    "sample_sentences = ['my name is pop smoke']\n",
    "sample_embeddings = model.encode(sample_sentences)"
   ]
  },
  {
   "cell_type": "code",
   "execution_count": 33,
   "metadata": {},
   "outputs": [],
   "source": [
    "import sentence_transformers"
   ]
  },
  {
   "cell_type": "code",
   "execution_count": 39,
   "metadata": {},
   "outputs": [
    {
     "data": {
      "application/vnd.jupyter.widget-view+json": {
       "model_id": "240e6b208a3149ccb0cb9331dada3ad9",
       "version_major": 2,
       "version_minor": 0
      },
      "text/plain": [
       "Downloading:   0%|          | 0.00/690 [00:00<?, ?B/s]"
      ]
     },
     "metadata": {},
     "output_type": "display_data"
    },
    {
     "data": {
      "application/vnd.jupyter.widget-view+json": {
       "model_id": "49b3c04eb01849cbbbe16025ea50d174",
       "version_major": 2,
       "version_minor": 0
      },
      "text/plain": [
       "Downloading:   0%|          | 0.00/190 [00:00<?, ?B/s]"
      ]
     },
     "metadata": {},
     "output_type": "display_data"
    },
    {
     "data": {
      "application/vnd.jupyter.widget-view+json": {
       "model_id": "0f6b4e62bed24672be980ebf04b4f270",
       "version_major": 2,
       "version_minor": 0
      },
      "text/plain": [
       "Downloading:   0%|          | 0.00/4.03k [00:00<?, ?B/s]"
      ]
     },
     "metadata": {},
     "output_type": "display_data"
    },
    {
     "data": {
      "application/vnd.jupyter.widget-view+json": {
       "model_id": "9ed41142b11d474b9eb890c21bb2a427",
       "version_major": 2,
       "version_minor": 0
      },
      "text/plain": [
       "Downloading:   0%|          | 0.00/827 [00:00<?, ?B/s]"
      ]
     },
     "metadata": {},
     "output_type": "display_data"
    },
    {
     "data": {
      "application/vnd.jupyter.widget-view+json": {
       "model_id": "edb62b359e1c426b9663d57b24040ff5",
       "version_major": 2,
       "version_minor": 0
      },
      "text/plain": [
       "Downloading:   0%|          | 0.00/122 [00:00<?, ?B/s]"
      ]
     },
     "metadata": {},
     "output_type": "display_data"
    },
    {
     "data": {
      "application/vnd.jupyter.widget-view+json": {
       "model_id": "34b01e737f9243ae8026fbe84d57c323",
       "version_major": 2,
       "version_minor": 0
      },
      "text/plain": [
       "Downloading:   0%|          | 0.00/46.7M [00:00<?, ?B/s]"
      ]
     },
     "metadata": {},
     "output_type": "display_data"
    },
    {
     "data": {
      "application/vnd.jupyter.widget-view+json": {
       "model_id": "b23aa30922e74c8ca19eacf49dc9c991",
       "version_major": 2,
       "version_minor": 0
      },
      "text/plain": [
       "Downloading:   0%|          | 0.00/53.0 [00:00<?, ?B/s]"
      ]
     },
     "metadata": {},
     "output_type": "display_data"
    },
    {
     "data": {
      "application/vnd.jupyter.widget-view+json": {
       "model_id": "d39d8badfa21477db52dac07e0714954",
       "version_major": 2,
       "version_minor": 0
      },
      "text/plain": [
       "Downloading:   0%|          | 0.00/245 [00:00<?, ?B/s]"
      ]
     },
     "metadata": {},
     "output_type": "display_data"
    },
    {
     "data": {
      "application/vnd.jupyter.widget-view+json": {
       "model_id": "58f6827c47b54b01a925288ea1c08fdc",
       "version_major": 2,
       "version_minor": 0
      },
      "text/plain": [
       "Downloading:   0%|          | 0.00/760k [00:00<?, ?B/s]"
      ]
     },
     "metadata": {},
     "output_type": "display_data"
    },
    {
     "data": {
      "application/vnd.jupyter.widget-view+json": {
       "model_id": "de1e7bd1753848ebaa021c3ed791ca89",
       "version_major": 2,
       "version_minor": 0
      },
      "text/plain": [
       "Downloading:   0%|          | 0.00/1.31M [00:00<?, ?B/s]"
      ]
     },
     "metadata": {},
     "output_type": "display_data"
    },
    {
     "data": {
      "application/vnd.jupyter.widget-view+json": {
       "model_id": "f57b10492cee4ba999dcc620f6fc1ffd",
       "version_major": 2,
       "version_minor": 0
      },
      "text/plain": [
       "Downloading:   0%|          | 0.00/465 [00:00<?, ?B/s]"
      ]
     },
     "metadata": {},
     "output_type": "display_data"
    },
    {
     "data": {
      "application/vnd.jupyter.widget-view+json": {
       "model_id": "30f3df5d1c224a3d99787dcc79088f19",
       "version_major": 2,
       "version_minor": 0
      },
      "text/plain": [
       "Downloading:   0%|          | 0.00/229 [00:00<?, ?B/s]"
      ]
     },
     "metadata": {},
     "output_type": "display_data"
    }
   ],
   "source": [
    "model = sentence_transformers.SentenceTransformer('paraphrase-albert-small-v2')\n"
   ]
  },
  {
   "cell_type": "code",
   "execution_count": 40,
   "metadata": {},
   "outputs": [
    {
     "data": {
      "text/plain": [
       "SentenceTransformer(\n",
       "  (0): Transformer({'max_seq_length': 100, 'do_lower_case': False}) with Transformer model: AlbertModel \n",
       "  (1): Pooling({'word_embedding_dimension': 768, 'pooling_mode_cls_token': False, 'pooling_mode_mean_tokens': True, 'pooling_mode_max_tokens': False, 'pooling_mode_mean_sqrt_len_tokens': False})\n",
       ")"
      ]
     },
     "execution_count": 40,
     "metadata": {},
     "output_type": "execute_result"
    }
   ],
   "source": [
    "model"
   ]
  },
  {
   "cell_type": "code",
   "execution_count": 45,
   "metadata": {},
   "outputs": [],
   "source": [
    "import pickle\n",
    "pickle.dump(model, open('model_para.pkl', 'wb'))\n"
   ]
  },
  {
   "cell_type": "code",
   "execution_count": 18,
   "metadata": {},
   "outputs": [],
   "source": [
    "model = pickle.load(open('model_miniLM.pkl', 'rb'))"
   ]
  },
  {
   "cell_type": "code",
   "execution_count": 19,
   "metadata": {},
   "outputs": [
    {
     "data": {
      "text/plain": [
       "SentenceTransformer(\n",
       "  (0): Transformer({'max_seq_length': 256, 'do_lower_case': False}) with Transformer model: BertModel \n",
       "  (1): Pooling({'word_embedding_dimension': 384, 'pooling_mode_cls_token': False, 'pooling_mode_mean_tokens': True, 'pooling_mode_max_tokens': False, 'pooling_mode_mean_sqrt_len_tokens': False})\n",
       "  (2): Normalize()\n",
       ")"
      ]
     },
     "execution_count": 19,
     "metadata": {},
     "output_type": "execute_result"
    }
   ],
   "source": [
    "model"
   ]
  },
  {
   "cell_type": "code",
   "execution_count": 38,
   "metadata": {},
   "outputs": [
    {
     "data": {
      "text/plain": [
       "['model_jlib']"
      ]
     },
     "execution_count": 38,
     "metadata": {},
     "output_type": "execute_result"
    }
   ],
   "source": [
    "import joblib\n",
    "joblib.dump(model , 'model_jlib')"
   ]
  },
  {
   "cell_type": "code",
   "execution_count": null,
   "metadata": {},
   "outputs": [],
   "source": []
  },
  {
   "cell_type": "code",
   "execution_count": 41,
   "metadata": {},
   "outputs": [
    {
     "data": {
      "text/plain": [
       "'Sitting members of Congress aiding and abetting a plot to overthrow the government. Insurrectionists criminally charged with plotting to end American democracy for good. Justice Department prosecutors under crushing political pressure. Rachel Maddow Presents: Ultra is the all-but-forgotten true story of good, old-fashioned American extremism getting supercharged by proximity to power. When extremist elected officials get caught plotting against America with the violent ultra right, this is the story of the lengths they will go to… to cover their tracks. Follow now and join Rachel Maddow for the first two episodes on October 10th.'"
      ]
     },
     "execution_count": 41,
     "metadata": {},
     "output_type": "execute_result"
    }
   ],
   "source": [
    "df_podcasts['description'][0]\n"
   ]
  },
  {
   "cell_type": "code",
   "execution_count": 42,
   "metadata": {},
   "outputs": [],
   "source": [
    "input_embedding = model.encode(df_podcasts['description'][0])"
   ]
  },
  {
   "cell_type": "code",
   "execution_count": 43,
   "metadata": {},
   "outputs": [
    {
     "data": {
      "text/plain": [
       "(768,)"
      ]
     },
     "execution_count": 43,
     "metadata": {},
     "output_type": "execute_result"
    }
   ],
   "source": [
    "input_embedding.shape"
   ]
  },
  {
   "cell_type": "code",
   "execution_count": null,
   "metadata": {},
   "outputs": [],
   "source": []
  }
 ],
 "metadata": {
  "kernelspec": {
   "display_name": "Python 3.9.12 ('podcast_recommender_system_final': venv)",
   "language": "python",
   "name": "python3"
  },
  "language_info": {
   "codemirror_mode": {
    "name": "ipython",
    "version": 3
   },
   "file_extension": ".py",
   "mimetype": "text/x-python",
   "name": "python",
   "nbconvert_exporter": "python",
   "pygments_lexer": "ipython3",
   "version": "3.9.12"
  },
  "orig_nbformat": 4,
  "vscode": {
   "interpreter": {
    "hash": "ab5c160e9f2b3a98f8d76bff118e358ee0109112353980c73886454d49c83114"
   }
  }
 },
 "nbformat": 4,
 "nbformat_minor": 2
}
