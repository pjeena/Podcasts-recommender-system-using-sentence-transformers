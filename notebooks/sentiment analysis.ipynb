{
 "cells": [
  {
   "cell_type": "code",
   "execution_count": 1,
   "id": "0cf0138d",
   "metadata": {},
   "outputs": [],
   "source": [
    "# Importing data paths\n",
    "import sys\n",
    "sys.path.insert(1, '/Users/piyush/Desktop/dsml_Portfolio/podcast/final_push')\n",
    "from config import PODCASTS_DATABASE_PATH_RAW, USER_REVIEWS_DATABASE_PATH_RAW, PODCASTS_DATABASE_PATH_PROCESSED, USER_REVIEWS_DATABASE_PATH_PROCESSED\n",
    "import pandas as pd\n",
    "from sklearn.feature_extraction.text import CountVectorizer\n",
    "from sklearn.metrics.pairwise import cosine_similarity, manhattan_distances, euclidean_distances\n",
    "from sklearn.feature_extraction.text import TfidfVectorizer\n",
    "from sklearn.model_selection import train_test_split\n",
    "import re\n",
    "import numpy as np\n",
    "import matplotlib.pyplot as plt\n",
    "import matplotlib.style\n",
    "import seaborn as sns\n",
    "import plotly.express as px\n",
    "import plotly.figure_factory as ff\n",
    "%matplotlib inline\n",
    "from IPython.display import Image"
   ]
  },
  {
   "cell_type": "code",
   "execution_count": 2,
   "id": "d7110625",
   "metadata": {},
   "outputs": [
    {
     "name": "stderr",
     "output_type": "stream",
     "text": [
      "[nltk_data] Downloading package punkt to /Users/piyush/nltk_data...\n",
      "[nltk_data]   Package punkt is already up-to-date!\n",
      "[nltk_data] Downloading package stopwords to\n",
      "[nltk_data]     /Users/piyush/nltk_data...\n",
      "[nltk_data]   Package stopwords is already up-to-date!\n",
      "[nltk_data] Downloading package wordnet to /Users/piyush/nltk_data...\n",
      "[nltk_data]   Package wordnet is already up-to-date!\n",
      "[nltk_data] Downloading package omw-1.4 to /Users/piyush/nltk_data...\n",
      "[nltk_data]   Package omw-1.4 is already up-to-date!\n"
     ]
    },
    {
     "data": {
      "text/plain": [
       "True"
      ]
     },
     "execution_count": 2,
     "metadata": {},
     "output_type": "execute_result"
    }
   ],
   "source": [
    "import nltk\n",
    "import ssl\n",
    "\n",
    "try:\n",
    "    _create_unverified_https_context = ssl._create_unverified_context\n",
    "except AttributeError:\n",
    "    pass\n",
    "else:\n",
    "    ssl._create_default_https_context = _create_unverified_https_context\n",
    "\n",
    "nltk.download('punkt')\n",
    "nltk.download('stopwords')\n",
    "nltk.download('wordnet')\n",
    "nltk.download('omw-1.4')"
   ]
  },
  {
   "cell_type": "code",
   "execution_count": 3,
   "id": "3fffedc6",
   "metadata": {},
   "outputs": [
    {
     "data": {
      "text/plain": [
       "('/Users/piyush/Desktop/dsml_Portfolio/podcast/final_push/data/raw/podcasts.csv',\n",
       " '/Users/piyush/Desktop/dsml_Portfolio/podcast/final_push/data/raw/user_reviews.csv')"
      ]
     },
     "execution_count": 3,
     "metadata": {},
     "output_type": "execute_result"
    }
   ],
   "source": [
    "PODCASTS_DATABASE_PATH_RAW, USER_REVIEWS_DATABASE_PATH_RAW"
   ]
  },
  {
   "cell_type": "code",
   "execution_count": 4,
   "id": "e5dfb69c",
   "metadata": {},
   "outputs": [],
   "source": [
    "# Loading data \n",
    "df_podcasts = pd.read_csv(PODCASTS_DATABASE_PATH_RAW,header=None)\n",
    "df_users = pd.read_csv(USER_REVIEWS_DATABASE_PATH_RAW,header=None)"
   ]
  },
  {
   "cell_type": "code",
   "execution_count": 11,
   "id": "21ac0395",
   "metadata": {},
   "outputs": [],
   "source": [
    "columns_pod = ['id','name','url','studio','category','episode_count','avg_rating','total_ratings','description']\n",
    "columns_users = ['id','podcasts_id','username','review_title','review','rating','date']\n",
    "\n",
    "df_podcasts.columns = columns_pod\n",
    "df_users.columns = columns_users\n",
    "df_users = df_users.drop('id', axis=1)"
   ]
  },
  {
   "cell_type": "code",
   "execution_count": null,
   "id": "3966fba3",
   "metadata": {},
   "outputs": [],
   "source": [
    "df_users['review']"
   ]
  },
  {
   "cell_type": "code",
   "execution_count": 6,
   "id": "89cf0298",
   "metadata": {},
   "outputs": [
    {
     "name": "stdout",
     "output_type": "stream",
     "text": [
      "Collecting vaderSentiment\n",
      "  Using cached vaderSentiment-3.3.2-py2.py3-none-any.whl (125 kB)\n",
      "Requirement already satisfied: requests in /Users/piyush/Desktop/dsml_Portfolio/podcast/final_push/lib/python3.9/site-packages (from vaderSentiment) (2.28.1)\n",
      "Requirement already satisfied: idna<4,>=2.5 in /Users/piyush/Desktop/dsml_Portfolio/podcast/final_push/lib/python3.9/site-packages (from requests->vaderSentiment) (3.4)\n",
      "Requirement already satisfied: charset-normalizer<3,>=2 in /Users/piyush/Desktop/dsml_Portfolio/podcast/final_push/lib/python3.9/site-packages (from requests->vaderSentiment) (2.1.1)\n",
      "Requirement already satisfied: urllib3<1.27,>=1.21.1 in /Users/piyush/Desktop/dsml_Portfolio/podcast/final_push/lib/python3.9/site-packages (from requests->vaderSentiment) (1.26.13)\n",
      "Requirement already satisfied: certifi>=2017.4.17 in /Users/piyush/Desktop/dsml_Portfolio/podcast/final_push/lib/python3.9/site-packages (from requests->vaderSentiment) (2022.12.7)\n",
      "Installing collected packages: vaderSentiment\n",
      "Successfully installed vaderSentiment-3.3.2\n",
      "Note: you may need to restart the kernel to use updated packages.\n"
     ]
    }
   ],
   "source": [
    "pip install vaderSentiment\n"
   ]
  },
  {
   "cell_type": "code",
   "execution_count": 7,
   "id": "08f816db",
   "metadata": {},
   "outputs": [],
   "source": [
    "from vaderSentiment.vaderSentiment import SentimentIntensityAnalyzer\n"
   ]
  },
  {
   "cell_type": "code",
   "execution_count": 13,
   "id": "33dd28df",
   "metadata": {},
   "outputs": [
    {
     "name": "stdout",
     "output_type": "stream",
     "text": [
      "Sentiment of text 1: {'neg': 0.023, 'neu': 0.735, 'pos': 0.243, 'compound': 0.9611}\n",
      "Sentiment of text 2: {'neg': 0.2, 'neu': 0.717, 'pos': 0.084, 'compound': -0.8669}\n"
     ]
    }
   ],
   "source": [
    "from vaderSentiment.vaderSentiment import SentimentIntensityAnalyzer\n",
    "sentiment = SentimentIntensityAnalyzer()\n",
    "text_1 = tags_list[0]\n",
    "text_2 =  tags_list[1]\n",
    "sent_1 = sentiment.polarity_scores(text_1)\n",
    "sent_2 = sentiment.polarity_scores(text_2)\n",
    "print(\"Sentiment of text 1:\", sent_1)\n",
    "print(\"Sentiment of text 2:\", sent_2)"
   ]
  },
  {
   "cell_type": "code",
   "execution_count": 19,
   "id": "00350654",
   "metadata": {},
   "outputs": [],
   "source": [
    "pop = []\n",
    "for i in tags_list[0:1000]:\n",
    "    pop.append(sentiment.polarity_scores(i))"
   ]
  },
  {
   "cell_type": "code",
   "execution_count": 21,
   "id": "b46ae90f",
   "metadata": {},
   "outputs": [
    {
     "data": {
      "text/plain": [
       "{'neg': 0.257, 'neu': 0.514, 'pos': 0.229, 'compound': 0.128}"
      ]
     },
     "execution_count": 21,
     "metadata": {},
     "output_type": "execute_result"
    }
   ],
   "source": [
    "pop[67]"
   ]
  },
  {
   "cell_type": "code",
   "execution_count": 22,
   "id": "6492c633",
   "metadata": {},
   "outputs": [
    {
     "data": {
      "text/plain": [
       "'Outstanding piece.  Today’s political climate compared with historical happenings.   Serious and scary.'"
      ]
     },
     "execution_count": 22,
     "metadata": {},
     "output_type": "execute_result"
    }
   ],
   "source": [
    "tags_list[67]"
   ]
  },
  {
   "cell_type": "code",
   "execution_count": 25,
   "id": "c0d51aa8",
   "metadata": {},
   "outputs": [
    {
     "name": "stdout",
     "output_type": "stream",
     "text": [
      "2022-12-28 16:32:04,335 https://nlp.informatik.hu-berlin.de/resources/models/sentiment-curated-distilbert/sentiment-en-mix-distillbert_4.pt not found in cache, downloading to /var/folders/hk/dkqk41797ls590n4w_sfpy180000gn/T/tmpo93b0ouw\n"
     ]
    },
    {
     "name": "stderr",
     "output_type": "stream",
     "text": [
      "100%|██████████| 265512723/265512723 [01:29<00:00, 2980304.30B/s]"
     ]
    },
    {
     "name": "stdout",
     "output_type": "stream",
     "text": [
      "2022-12-28 16:33:33,675 copying /var/folders/hk/dkqk41797ls590n4w_sfpy180000gn/T/tmpo93b0ouw to cache at /Users/piyush/.flair/models/sentiment-en-mix-distillbert_4.pt\n"
     ]
    },
    {
     "name": "stderr",
     "output_type": "stream",
     "text": [
      "\n"
     ]
    },
    {
     "name": "stdout",
     "output_type": "stream",
     "text": [
      "2022-12-28 16:33:33,938 removing temp file /var/folders/hk/dkqk41797ls590n4w_sfpy180000gn/T/tmpo93b0ouw\n",
      "2022-12-28 16:33:34,144 loading file /Users/piyush/.flair/models/sentiment-en-mix-distillbert_4.pt\n"
     ]
    },
    {
     "data": {
      "application/vnd.jupyter.widget-view+json": {
       "model_id": "8f129b9eacd64403a1913e54c023d729",
       "version_major": 2,
       "version_minor": 0
      },
      "text/plain": [
       "Downloading:   0%|          | 0.00/28.0 [00:00<?, ?B/s]"
      ]
     },
     "metadata": {},
     "output_type": "display_data"
    },
    {
     "data": {
      "application/vnd.jupyter.widget-view+json": {
       "model_id": "16a54a2f9e4a4e60a0cbd00f91c685aa",
       "version_major": 2,
       "version_minor": 0
      },
      "text/plain": [
       "Downloading:   0%|          | 0.00/483 [00:00<?, ?B/s]"
      ]
     },
     "metadata": {},
     "output_type": "display_data"
    },
    {
     "data": {
      "application/vnd.jupyter.widget-view+json": {
       "model_id": "7b486be76d644abebd370d9446a6b8fc",
       "version_major": 2,
       "version_minor": 0
      },
      "text/plain": [
       "Downloading:   0%|          | 0.00/232k [00:00<?, ?B/s]"
      ]
     },
     "metadata": {},
     "output_type": "display_data"
    },
    {
     "data": {
      "application/vnd.jupyter.widget-view+json": {
       "model_id": "f49c5355b8f64f239b99364c29c76fa1",
       "version_major": 2,
       "version_minor": 0
      },
      "text/plain": [
       "Downloading:   0%|          | 0.00/466k [00:00<?, ?B/s]"
      ]
     },
     "metadata": {},
     "output_type": "display_data"
    },
    {
     "name": "stdout",
     "output_type": "stream",
     "text": [
      "Sentence above is:  ['Sentence: \"The food was great !\"'/'POSITIVE' (0.9961)]\n"
     ]
    }
   ],
   "source": [
    "from flair.models import TextClassifier\n",
    "from flair.data import Sentence\n",
    "\n",
    "classifier = TextClassifier.load('en-sentiment')\n",
    "sentence = Sentence('The food was great!')\n",
    "classifier.predict(sentence)\n",
    "\n",
    "# print sentence with predicted labels\n",
    "print('Sentence above is: ', sentence.labels)"
   ]
  },
  {
   "cell_type": "code",
   "execution_count": 30,
   "id": "ebd969c2",
   "metadata": {},
   "outputs": [
    {
     "name": "stdout",
     "output_type": "stream",
     "text": [
      "Sentence above is:  ['Sentence: \"It ’s so amazing that this is deja vu . The story is so well narrated by Rachel as usual , and it just makes you want more . It also surprises me to hear that Make America Great has surfaced again in the 21st century and the title is used just has a sham as it was used in the 1940 ’s . Rachel , you ALWAYS do such great work . Well done presentation , I ’m anxious to hear more !! !\"'/'POSITIVE' (0.9994)]\n"
     ]
    }
   ],
   "source": [
    "sentence = Sentence(tags_list[0])\n",
    "classifier.predict(sentence)\n",
    "\n",
    "# print sentence with predicted labels\n",
    "print('Sentence above is: ', sentence.labels)"
   ]
  },
  {
   "cell_type": "code",
   "execution_count": 36,
   "id": "ef910bb9",
   "metadata": {},
   "outputs": [
    {
     "name": "stdout",
     "output_type": "stream",
     "text": [
      "['Sentence: \"It ’s so amazing that this is deja vu . The story is so well narrated by Rachel as usual , and it just makes you want more . It also surprises me to hear that Make America Great has surfaced again in the 21st century and the title is used just has a sham as it was used in the 1940 ’s . Rachel , you ALWAYS do such great work . Well done presentation , I ’m anxious to hear more !! !\"'/'POSITIVE' (0.9994)]\n",
      "['Sentence: \"What a dizzying ride into the past as well as a terrifying mirror of the present . Listening to these riveting , granular details that we have come to expect and love from Rachel Maddow about this cancer that lived among us is horrifying and sobering at the same time . How can history seem so very now ? Cannot wait to learn more …! !\"'/'POSITIVE' (0.9998)]\n",
      "['Sentence: \"I say this has happened and people look at me as if I am crazy ! This podcast is done exceptionally well !\"'/'POSITIVE' (0.9965)]\n",
      "['Sentence: \"Crazy how history is repeating itself - just change the names and country doing the influencing . Yikes\"'/'NEGATIVE' (0.9944)]\n",
      "['Sentence: \"But you ca n’t be wrong that many times and remain credible .\"'/'POSITIVE' (0.9955)]\n",
      "['Sentence: \"Rachel Maddow takes the best of the journalism she delivered nightly to the next level . With superb storytelling , amazing historic audio clips and pictorial writing , Maddow and her teams do what many consider to be impossible . They make history meaningful and exciting . Bravo .\"'/'POSITIVE' (0.9997)]\n",
      "['Sentence: \"This should be required listening for all registered voters and all high school students sitting in an American History class . Amazing story amazingly told ! Thank you , Rachel ! Merk49\"'/'POSITIVE' (0.9971)]\n",
      "['Sentence: \"My husband and I enjoyed your tv show and never missed it . I was devastated when you cut down to one night . What can I watch now ?! ? I finally figured out that whole podcast ‘ thing’ and am so glad to hear your take on fascism in the US in the past . Thank you !\"'/'POSITIVE' (0.9941)]\n",
      "['Sentence: \"Another fantastic program by our favorite scholar , Rachel Maddow .\"'/'POSITIVE' (0.9984)]\n",
      "['Sentence: \"Excellent podcast ! WOW , the things they do n’t teach you in history classes . If the truth were taught in schools we would n’t be having the problems in politics that exist today .\"'/'POSITIVE' (0.999)]\n",
      "['Sentence: \"Absolutely under emphasized part of our own history . Here to give a big thumbs up .\"'/'POSITIVE' (0.9982)]\n",
      "['Sentence: \"Her “ Bagman ” was our intro into podcasts & opened up a whole new world of history storytelling . So hooked now ! Ca n’t wait for Mondays new episodes . Wish she could do the mob story in Crooked City podcast next , as she would do a better job , even tho the story itself is amazing and Rt up her alley of govt. corruption . She has btr delivery .\"'/'POSITIVE' (0.999)]\n",
      "['Sentence: \"Well done !\"'/'POSITIVE' (0.9964)]\n",
      "['Sentence: \"A thoroughly researched look into our past history . This needs to be heard as history is once again repeating itself . Thank you !\"'/'POSITIVE' (0.9881)]\n",
      "['Sentence: \"These Podcast by Racheal Maddow and other ’s are the most crazy , but absolutely high level informative , very well historical documentations , that for sure , has filled in areas of Unpublicized issues that sound a lot like MAGA ! Divisiveness , Facism , violence , TERRORISM and all that has happened since the ‘ Donald’ regime of an attempt to overthrow Our US Democracy ! We need Town hall meetings to inform all American Citizens , some may already know but continue to gaslight , lie and all that other mess as if they are unaware of these dangers ! Excellent work and information Racheal . Norma Lundeen , sit your crazy a — down-if your not dead , pretty sure you must be by now !! ! Sorry if my response is somewhat discombobulated , I ’m completely in Awww ! !\"'/'POSITIVE' (0.9942)]\n",
      "['Sentence: \"I ’m new to the world of Podcast and what a Podcast to start with ! Aqhagirl344 has a great review that I totally agree with . The range of emotions I ’m feeling from the first 4 episodes run from eye opening to beyond concerned and everything in between . I have never been with any Party since I first registered in 1969 and always prided myself with doing my homework and voting for the Candidate that I felt was the best qualified for the position . But in 2016 things started to change and have gotten to a point where I will not vote for any Candidate that promotes violence , ball faced lies and hateful rhetoric . Thank you Rachel for this well put together story that I had no idea had occurred before . Tho the comparisons to what ’s happening in todays world are frightening to me , I do appreciate the time and devotion you ’ve put into giving us some history in a way so we do n’t have to read a bazillion books .\"'/'POSITIVE' (0.9957)]\n",
      "['Sentence: \"This podcast is essential listening for all Americans . Maddow is a master storyteller , and this is certainly one of the greatest , most important stories in American history . I ca n’t give it enough stars .\"'/'POSITIVE' (0.9976)]\n",
      "['Sentence: \"Love the background music !\"'/'POSITIVE' (0.9954)]\n",
      "['Sentence: \"Hi , Have been listening since your radio days when I lived in Marina del Rey . Yes , I was lucky to live at the beach . Your show came on before Stephanie Miller . You are very gifted in starting a story that all can understand and slowly sewing that story into the piece . Believe it or not , your reporting is very similar to the Dominican order of priests . Drawing people into a story is gift most reporters do not have . Good Morning , Patrick Zeller\"'/'POSITIVE' (0.9987)]\n",
      "['Sentence: \"Excellent work of investigation and well narrated\"'/'POSITIVE' (0.9982)]\n",
      "['Sentence: \"I ’d give the podcast a 10 out of 5 stars , but the rating app wo n’t let me do that . Lol ! Loved the first 4 episodes and ca n’t wait for more ! ( Spoiler alert - scary stuff ! ) Those who ’ve been sucked into the MAGA cult should seriously listen to this podcast , but ( sadly ) you ’d have to retitle it “ 2001 Mules ” and use a ghostwriter name before they ’d ever consider doing so .\"'/'NEGATIVE' (0.5233)]\n",
      "['Sentence: \"Beautifully put together connecting pieces that solve a segment of the puzzle and pull me on for more . How can I wait a week between episodes ? !\"'/'POSITIVE' (1.0)]\n",
      "['Sentence: \"Awful stories from the twit herself\"'/'NEGATIVE' (0.9998)]\n",
      "['Sentence: \"Very intriguing . I look forward to it each week and plan on binge listening at season ’s end .\"'/'POSITIVE' (0.9995)]\n",
      "['Sentence: \"I ’m only giving it four stars because it ’s done on an installment basis . I wish it all dropped at once so I could binge it .\"'/'NEGATIVE' (0.9947)]\n",
      "['Sentence: \"This podcast is incredible . The way the historical stories are researched and told by Rachel , the delivery , the production — top notch . I ’m learning things I was never taught anywhere . And it all eerily mirrors what we are experiencing today . I ’m on the edge of my seat with every episode . I ’ve told all my friends & family to listen .\"'/'POSITIVE' (0.9991)]\n",
      "['Sentence: \"I have try to find your show time to sit back and see what I miss so far .\"'/'POSITIVE' (0.7953)]\n",
      "['Sentence: \"Thank you for this . I can hear your constant subliminal screams of “ SOUND FAMILIAR ? !?!” bleeding throughout the story . - DDR\"'/'NEGATIVE' (0.9997)]\n",
      "['Sentence: \"This show should run in prime time on MSNBC — This type of political ( and politically relevant ) true-story storytelling of history is such a talent of Rachel ’s and a genre that is so important in our time . If only this type of history was more well-known ! For those of us in education , we are simultaneously learning , and also trying to teach the next generation better than the convenient narratives that we were told . Thank you for this project — We eagerly await the next !\"'/'POSITIVE' (0.9993)]\n",
      "['Sentence: \"Such a riveting Podcast . The history and true content is so interesting and I hope to listen to everyone of the Ultra Podcasts for my own knowledge and insight . Our country needs these Podcasts . Thank you , Rachel\"'/'POSITIVE' (0.9938)]\n",
      "['Sentence: \"Rachael is amazing . She manages to boil down complex events into manageable and understandable pieces . This is so important in making the details accessible to all listeners . Please lower the volume of the music . It detracts from the story , but this is still an amazing podcast . Thank you for all the hard work put into this .\"'/'POSITIVE' (0.9989)]\n",
      "['Sentence: \"…” Those who do n’t know History are destined to repeat it ,” Rachel ’s thoroughly engaging , positively riveting & utterly frightening account of the events she ’s uncovered that is the subject matter of this “ must listen podcast ” will once & for all settle the aforementioned statement as FACT !—“ ULTRA ” confirms that “ We , the People ” as citizens of the United States of America have already been where Trump , his fellow political acolytes , right-wing Christian conservatives , the “ MAGA ” movement writ large , armed neo-fascist paramilitary groups and , indeed , the entire Republican Party are AT THIS VERY MOMENT attempting to take Our Country once again : That there is a large contingent of Americans who INACCURATELY call themselves “ PATRIOTS ” who are , in-fact , the very antithesis of such & who are unified in their desire to destroy Democracy & replace it with a Fascist authoritarian regime .\"'/'POSITIVE' (0.9984)]\n",
      "['Sentence: \"Education and entertainment . Maddow ’s narrative skill is equaled perhaps , but never surpassed . Stellar podcast . Must-learn history !\"'/'POSITIVE' (0.9993)]\n",
      "['Sentence: \"Bagman was fantastic ! Ultra is somehow better . Rachel ’s gift of storytelling is maximized with this story . Ca n’t wait for the next episode\"'/'POSITIVE' (0.9997)]\n",
      "['Sentence: \"Like the Crosby , Stills , Nash and Young song , this is truly Deja Vu . We learn about critical failures in the character of national leaders during a time in which fascists were threatening democracy around the world . The connection of this 1940 ’s history has an incredible similarity to what we are living today . Crazy , right wing fascists wanting to take power and end democracy . Rachael and her production team does an excellent job of telling the story of this history in an interesting way . Like a mystery novel , it has intrigue , heroes , and many people with deep character flaws , particularly folks who are supposed to be serving the country in congress . I hope we survive our current times as well as we did 80 years ago .\"'/'POSITIVE' (0.9997)]\n",
      "['Sentence: \"I am already addicted to this series . Rachel is like no other . Keep them coming !\"'/'POSITIVE' (0.9997)]\n",
      "['Sentence: \"Rachel opined that Lundeen stood out from others in Congress in his opposition to the US entering the First World War . However , there was zero follow-up or evidence to support this contention . Was it excised from the podcast , or was it merely hyperbole ? I would have appreciated some facts in support of the statement .\"'/'NEGATIVE' (0.9999)]\n",
      "['Sentence: \"Rachel I have loved your Ultra podcast . You ’ve answered so many questions I ’ve had . Why would the Republican Party follow a mentally I ’ll man that thrives on hate and revenge , considers himself the Second Coming of Hitler . If the Party is trying to Repeat history , Hitler may have been the draw . What our country is going thru now is exactly what we went thru 80 years ago , we can only hope it ends the same way with the Republican Party being dormant another 80 years .\"'/'POSITIVE' (0.9981)]\n",
      "['Sentence: \"Very important history lesson - since history does repeat itself .\"'/'POSITIVE' (0.9988)]\n",
      "['Sentence: \"Every time I try and explain this history to others I ’m fully rejected as paranoid , lying , and worse . This is actual history and I want to thank Rachael for bringing it to light as the war against fascism begins once again . The most excellent podcast for this point in time .\"'/'POSITIVE' (0.9998)]\n",
      "['Sentence: \"Rachel Maddox is amazing !\"'/'POSITIVE' (0.9988)]\n",
      "['Sentence: \"I wish more people would listen to her . A real history lesson\"'/'POSITIVE' (0.9705)]\n",
      "['Sentence: \"Chilling - growing up I ’d heard snippets but this superbly told history captivates like a spy novel ! I was immediately fascinated and scared out of my wits . We ’ll done All !\"'/'POSITIVE' (0.9996)]\n",
      "['Sentence: \"Excellent storytelling , research and production .\"'/'POSITIVE' (0.9975)]\n",
      "['Sentence: \"Rachel Maddow has done it again ! History forgotten that is very pertinent today ! ! Scary how close our government came to being over thrown and most of Americans of this generation were unaware . Thank you again Rachel ! !\"'/'POSITIVE' (0.9977)]\n",
      "['Sentence: \"This podcast is so alarming to those who know how democracy can be submitted to attacks from within . I recommend that we share this with those who are not listening . Bob Burkhardt and Donna Mertz-Burkhardt\"'/'NEGATIVE' (0.9764)]\n",
      "['Sentence: \"Very interesting part of our history that is not known by most . BUT … is the music necessary ? The constant drum beat takes away from the oratory skills of Maddow ! Every great program whether TV , radio or podcast follow one simple plan … KISS … Keep it simple stu ** d .\"'/'POSITIVE' (0.8769)]\n",
      "['Sentence: \"Chilling .\"'/'POSITIVE' (0.9992)]\n",
      "['Sentence: \"Very good podcast\"'/'POSITIVE' (0.9837)]\n",
      "['Sentence: \"Honestly stunned - hooked and ca n’t wait for the next episode - learning history like this has never been more important or relevant - make this one a “ must listen to ” podcast\"'/'POSITIVE' (0.9997)]\n",
      "['Sentence: \"More please !\"'/'POSITIVE' (0.9504)]\n",
      "['Sentence: \"A true life thriller .\"'/'POSITIVE' (0.9999)]\n",
      "['Sentence: \"Another shockingly brilliant piece by Rachel Maddow . While we may have lost her insightful and informative commentary four out five days of the week , we have gained timely historical accounts of our nation ’s prior battles with the fascist enemy within . Additionally with those battles , Ms . Maddow tells us the true although hidden and often ignored accounts of the courageous patriots who quietly fought those battles against this most evil and violent foe . Thank you ! And hopefully your inspirational history lesson will assist all Americans in fighting for our democracy currently .\"'/'POSITIVE' (0.9998)]\n",
      "['Sentence: \"If you love history and love learning the origins of the political parties and beliefs you will LOVE this podcast ! One of the best historical podcasts of all time . If anyone did n’t give this podcast 5-stars they are probably members of the ult-right , they are the only ones that might not enjoy these interesting history lessons Rachel shares in her usual intriguing fashion . I highly recommend this podcast to anyone who loves podcasts or history or both !\"'/'POSITIVE' (0.9998)]\n",
      "['Sentence: \"Wow , this is # 1 podcast ? What a waste of space .\"'/'NEGATIVE' (0.9999)]\n",
      "['Sentence: \"Brilliantly crafted and presented . As society we need to pay more than homage and mimicry to history and learn from it to walk forward and further . To this point , Mark Twain nailed it when he said , “ History never repeats itself , but it does often rhyme . ”\"'/'POSITIVE' (0.9998)]\n",
      "['Sentence: \"I had no idea about this wild chapter in our history existed.Rachel Maddie is to investigative reporting what John Lennon was to music to my generation.She is so good I both love and worry this brave soul .\"'/'POSITIVE' (0.9948)]\n",
      "['Sentence: \"# 4 was so good . It is hard to wait for # 5 . More Please 😁\"'/'POSITIVE' (0.9734)]\n",
      "['Sentence: \"This is probably the best podcast I have ever heard . The story is both fascinating and terrifying . The production value is top-notch . Rachel Maddow is incredible as usual .\"'/'POSITIVE' (0.9999)]\n",
      "['Sentence: \"Whoa . Those who fail to learn history are bound to repeat it . Eerily familiar sounding plots with congressional collusion — 80 years ago . It ’s frightening to think what Americans may choose this time .\"'/'NEGATIVE' (0.6343)]\n",
      "['Sentence: \"Fascinating listening , but why — why — must it be accompanied by circus music ?\"'/'NEGATIVE' (0.6775)]\n",
      "['Sentence: \"Rachel does her usual deep investigation and builds on historical events that were critical to the rising threat against Democracy . I read everything she posts or publishes !\"'/'POSITIVE' (0.9998)]\n",
      "['Sentence: \"Rachel ’s combination of academic chops and gift for narrative storytelling are on full display in this podcast . Brilliantly-researched , the parallels between the close brushes with authoritarianism in the late-1930s / early-1940s and the current MAGA crowd are unmistakable .\"'/'POSITIVE' (0.9999)]\n",
      "['Sentence: \"Rachael is amazing as a story teller she keeps you hanging on to every word ! She narrates a piece of history , that before our eyes , is repeating . Chilling !\"'/'POSITIVE' (0.9997)]\n",
      "['Sentence: \"Does she even know what she is talking about ?\"'/'NEGATIVE' (0.8962)]\n",
      "['Sentence: \"Being prepared and weary of government is n’t bad nor is using our god given and constitutional rights . But it is interesting to hear the other side of things . very humbling\"'/'NEGATIVE' (0.7429)]\n",
      "['Sentence: \"There is no one who can tell a story like Rachel . Every episode is so well researched and presented . Every episode is intriguing and it has to be said , sounds like it could be happening today ….. ooops …. it is. . in a 2022 version . I take that to be the point . Bringing to life buried history and drawing the parallels to today is what Rachel does so well . I am guessing this podcasts listeners already know that and appreciate it . I just wish those living that alternative reality could see that . Sadly history seems to be destined to repeat itself in one way or another .\"'/'POSITIVE' (0.9998)]\n",
      "['Sentence: \"Outstanding piece . Today ’s political climate compared with historical happenings . Serious and scary .\"'/'POSITIVE' (1.0)]\n",
      "['Sentence: \"Well researched ; stunning history ; Maddow is a polished story teller with the instincts of a professor\"'/'POSITIVE' (0.9996)]\n",
      "['Sentence: \"This is what these maniacs of today are trying to do . Their benefactor is Russia\"'/'POSITIVE' (0.8354)]\n",
      "['Sentence: \"So very good and informative,also very entertaining\"'/'POSITIVE' (0.9943)]\n",
      "['Sentence: \"A threat of books being banned from a political group raised my attention to ask why ? Are we concerned that truth is written ? Are we concerned that history is wrong ? Or maybe we have n’t examined our own history well enough . I urge you to listen to this podcast for your own briefing on history in America . Rachel has always presented well documented background on a myriad of issues that concerned citizens should have . This story is as astounding as it is relevant . Do n’t take my word for it . Listen up ! You ’ll be glad you did ! She and her team have done all the research for you . Once again ! !\"'/'POSITIVE' (0.9623)]\n",
      "['Sentence: \"My only complaint is that the episodes are n’t longer , more frequent and more numerous . Please give us more of your history lessons !\"'/'POSITIVE' (0.5195)]\n",
      "['Sentence: \"Excellent coverage with innuendoes of similarities with current day politics . Without hyperbole , Maddow informs and educates us .\"'/'POSITIVE' (0.9985)]\n",
      "['Sentence: \"I just finished listening to all current episodes . It was GREAT . One question , will this be shown on Prime Time TV ? It should be since it sounds exactly like what ’s happening now ! Rachel , I am a great fan and miss seeing you nightly on MSNBC at 9:00 pm . Always watch you on Monday nights .\"'/'POSITIVE' (0.9989)]\n",
      "['Sentence: \"Rachel and her team are fantastic . I hope the valiant endeavor to open eyes through a thrilling , suspenseful , and addictive historical lesson resonates with the world , so we do whatever it takes not to repeat our genocidal history .\"'/'POSITIVE' (0.9996)]\n",
      "['Sentence: \"I wish I had learned about this in school’\"'/'POSITIVE' (0.8851)]\n",
      "['Sentence: \"This is an absolutely incredible work of investigative historical journalism . With everything that has happened and continues to progress in our country ; listening to this affirms the old saying , “ history does repeat itself ” . I miss Rachel ’s every night reporting and have resigned myself to accept my ‘ Rachel fix’ only on Mondays , however , after downloading the podcast app I now can listen to her wonderful story telling of historical events that I was totally unfamiliar with . Keep them coming Rachel ! ❤ Sheila T Scott Adams , MA\"'/'POSITIVE' (0.9992)]\n",
      "['Sentence: \"Absolutely Awesome ! Rachel in her purest form . Making any story the most fascinating story ever told ! 10 ⭐ ’s\"'/'POSITIVE' (0.9994)]\n",
      "['Sentence: \"Wonderful ! Rachel is a wonderful ( true ) story teller . A gripping history lesson about the constant threat to our democracy . SMOKEY355\"'/'POSITIVE' (0.9962)]\n",
      "['Sentence: \"I have been a fan of the Rachel Maddow Show for years … but this was my first podcast … and all I can say is “ WOW ! ” The sheer detail in our country ’s history and her ability to tie the “ then and now ” comparisons is astounding . It is true that , when we forget where we ’ve been , we ’re bound to repeat ourselves … this shows that to be 100 % true . Good work to you , Rachel , and your staff ; together you are gold !\"'/'POSITIVE' (0.9993)]\n",
      "['Sentence: \"It ca n’t happen here ? It already almost did . This is a vital companion piece to Ken Burns’ documentary on the US and the Holocaust . Every American should consume both before voting this year .\"'/'POSITIVE' (0.9991)]\n",
      "['Sentence: \"Superb !\"'/'POSITIVE' (0.9995)]\n",
      "['Sentence: \"Love all your work , really educational .\"'/'POSITIVE' (0.9793)]\n",
      "['Sentence: \"This should have been run in Prime Time on NBC prior to the election , rather than a podcast . Americans need to see this ! !\"'/'NEGATIVE' (0.7853)]\n",
      "['Sentence: \"Timely review of mainstream American fascists from the 1940s . But the kooky , overly-loud music sounds like it ’s a podcast on the history of gingerbread houses and Maddow reads everything with glee in a distractingly smug way .\"'/'NEGATIVE' (0.9442)]\n",
      "['Sentence: \"History will always repeat it self if you do n’t cut it off at the knees .\"'/'POSITIVE' (0.8927)]\n",
      "['Sentence: \"This is an amazing and well put together audio of an important part of history America MUST be reminded of . It is actually a glimpse in the rear view mirror in an effort to avoid a collision already in progress today . Thank you Rachel for your fine work .\"'/'POSITIVE' (0.9992)]\n",
      "['Sentence: \"Thank you Rachel for your incredible work exposing the extreme right wing ’s evolution in America\"'/'POSITIVE' (0.9846)]\n",
      "['Sentence: \"This is one of the best podcast series I have listened to . In light of continued fascism , antisemitism , and sedition in our country , it is imperative that we understand the history of these movements so we resist complacency and naivety . Thank you , Rachel Maddow , this is a remarkable series .\"'/'POSITIVE' (0.9997)]\n",
      "['Sentence: \"This story has so much significance today . We are going through so much turbulence in our democracy now . Many current events closely mirror what ’s has happened in the past . Rachael shows us truth like no one else . Her research is impeccable and gripping . This us so worth listening to . Hopefully we can learn from the past . Democracy is worth educating ourselves in every way possible .\"'/'POSITIVE' (0.9949)]\n",
      "['Sentence: \"I am generally a skeptic and did a bit of research about several of the assertions in these episodes and found them to be accurate . I appreciate the excellent writing and sourcing but would love some additional source interviews . Also , the music is terrible and i hope they read reviews as I see others have also mentioned it . There is too much of it and the character of it is too “ Masterpiece Theater ” for this subject matter . So distracting . I recommended this to a friend and that was the first thing he said to me about it . Optimistically giving it 5 stars anyway , as I hope they get this fixed and continue with the great content .\"'/'NEGATIVE' (1.0)]\n",
      "['Sentence: \"Essential listening to gain perspective on where we are as a country in 2022 . We ’ve been here before , and this story speaks to the danger of weak willed leaders at the levers of government . It ’s a story of foreign adversaries exploiting that weakness on a large scale in the US . Rachel and her team lay it out in a way that ’s detailed and compelling .\"'/'POSITIVE' (0.9999)]\n",
      "['Sentence: \"Maddox , in her inimitable style , tells a critical chapter in the American story that resonates with frightening perfection today . But she speaks in front of a bed of music that sounds like a 30s caper movie , and serves to trivialize the entire podcast . I urge the producers to re-score and re-release the podcast for the benefit of its future legacy .\"'/'NEGATIVE' (0.9773)]\n",
      "['Sentence: \"It ’s disturbing yet it really happened . Rachel is very good . Wow\"'/'POSITIVE' (0.9654)]\n",
      "['Sentence: \"This show is incredible , it ’s scary how history is repeating itself . Everyone should listen to this , it ’s simply unbelievable .\"'/'POSITIVE' (0.9993)]\n",
      "['Sentence: \"I am 79 years old , relatively well educated , and I have never heard this story . Never . How is this possible ? Listening to what happened to our country puts what ’s happening today in perspective . And not in a good way . Read ultra and pay attention . This could happen to us .\"'/'NEGATIVE' (0.9997)]\n",
      "['Sentence: \"Only the 2nd podcast I ’ve ever listen to ( Thank you Rachael for explaining on your show how I could listen , asking my 27 year old for technology help is up there with dentist appointments and Fox News ) I was too young to know much about the Nixon VP scandal ( until first podcast ) and I just want to say thank you for bringing these historical moments back to life . You did that each week on your television show , always making the path from past to present perfectly clear with the historical truths that seemed to be forgotten and buried with the thickest layers of dust deposited by time . This Podcast is no exception and only lends credence to your uncanny ability to show our current reflection in the mirror of history ! You are the Windex of lost history ! And girl do you shine ! I so enjoy you , and know you are missed each and every night ( except Monday ) at 9pm !! ! But keep telling these stories , and I ’ll keep listening ! Great Job !\"'/'POSITIVE' (0.9999)]\n",
      "['Sentence: \"I would love this podcast if the music was n’t playing the whole time it ’s distracting and annoying\"'/'NEGATIVE' (0.9991)]\n",
      "['Sentence: \"Just , WOW !! !\"'/'POSITIVE' (0.9968)]\n"
     ]
    }
   ],
   "source": [
    "for i in tags_list[0:100]:\n",
    "    sentence = Sentence(i)\n",
    "    classifier.predict(sentence)\n",
    "\n",
    "# print sentence with predicted labels\n",
    "    print(sentence.labels)"
   ]
  },
  {
   "cell_type": "code",
   "execution_count": 40,
   "id": "f6433ebb",
   "metadata": {},
   "outputs": [
    {
     "data": {
      "text/plain": [
       "['Sentence: \"Just , WOW !! !\"'/'POSITIVE' (0.9968)]"
      ]
     },
     "execution_count": 40,
     "metadata": {},
     "output_type": "execute_result"
    }
   ],
   "source": [
    "sentence.labels"
   ]
  },
  {
   "cell_type": "code",
   "execution_count": null,
   "id": "c0d5a3eb",
   "metadata": {},
   "outputs": [],
   "source": []
  },
  {
   "cell_type": "code",
   "execution_count": 27,
   "id": "ac0eb614",
   "metadata": {},
   "outputs": [
    {
     "data": {
      "text/plain": [
       "Sentence: \"The food was great !\" → POSITIVE (0.9961)"
      ]
     },
     "execution_count": 27,
     "metadata": {},
     "output_type": "execute_result"
    }
   ],
   "source": [
    "sentence"
   ]
  },
  {
   "cell_type": "code",
   "execution_count": 1,
   "id": "8e8bb1bf",
   "metadata": {},
   "outputs": [
    {
     "name": "stderr",
     "output_type": "stream",
     "text": [
      "No model was supplied, defaulted to distilbert-base-uncased-finetuned-sst-2-english and revision af0f99b (https://huggingface.co/distilbert-base-uncased-finetuned-sst-2-english).\n",
      "Using a pipeline without specifying a model name and revision in production is not recommended.\n"
     ]
    },
    {
     "data": {
      "application/vnd.jupyter.widget-view+json": {
       "model_id": "5507a63a45e14999a690aac8c2d160ef",
       "version_major": 2,
       "version_minor": 0
      },
      "text/plain": [
       "Downloading:   0%|          | 0.00/48.0 [00:00<?, ?B/s]"
      ]
     },
     "metadata": {},
     "output_type": "display_data"
    },
    {
     "data": {
      "application/vnd.jupyter.widget-view+json": {
       "model_id": "b9035b7a48a5443f8814bb14ff452877",
       "version_major": 2,
       "version_minor": 0
      },
      "text/plain": [
       "Downloading:   0%|          | 0.00/232k [00:00<?, ?B/s]"
      ]
     },
     "metadata": {},
     "output_type": "display_data"
    }
   ],
   "source": [
    "from transformers import pipeline\n",
    "sentiment_pipeline = pipeline(\"sentiment-analysis\")\n",
    "#data = [\"I love you\", \"I hate you\"]\n",
    "#sentiment_pipeline(data)\n"
   ]
  },
  {
   "cell_type": "code",
   "execution_count": 2,
   "id": "d580c8e4",
   "metadata": {},
   "outputs": [
    {
     "data": {
      "text/plain": [
       "[{'label': 'POSITIVE', 'score': 0.9998656511306763},\n",
       " {'label': 'NEGATIVE', 'score': 0.9991129040718079}]"
      ]
     },
     "execution_count": 2,
     "metadata": {},
     "output_type": "execute_result"
    }
   ],
   "source": [
    "data = [\"I love you\", \"I hate you\"]\n",
    "sentiment_pipeline(data)"
   ]
  },
  {
   "cell_type": "code",
   "execution_count": 12,
   "id": "f2ea76db",
   "metadata": {},
   "outputs": [],
   "source": [
    "tags_list = list(df_users['review'].values)"
   ]
  },
  {
   "cell_type": "code",
   "execution_count": 45,
   "id": "4481e389",
   "metadata": {},
   "outputs": [],
   "source": [
    "results = sentiment_pipeline(tags_list[0:100])"
   ]
  },
  {
   "cell_type": "code",
   "execution_count": 40,
   "id": "26e183b1",
   "metadata": {},
   "outputs": [],
   "source": [
    "res_sub = results[0:10]"
   ]
  },
  {
   "cell_type": "code",
   "execution_count": 44,
   "id": "f3ef5d9a",
   "metadata": {},
   "outputs": [
    {
     "data": {
      "text/plain": [
       "'POSITIVE'"
      ]
     },
     "execution_count": 44,
     "metadata": {},
     "output_type": "execute_result"
    }
   ],
   "source": [
    "res_sub[0]['label']"
   ]
  },
  {
   "cell_type": "code",
   "execution_count": 38,
   "id": "f3bd01d0",
   "metadata": {},
   "outputs": [
    {
     "data": {
      "text/plain": [
       "5422.85"
      ]
     },
     "execution_count": 38,
     "metadata": {},
     "output_type": "execute_result"
    }
   ],
   "source": [
    "542285/100 "
   ]
  },
  {
   "cell_type": "code",
   "execution_count": null,
   "id": "9a94818c",
   "metadata": {},
   "outputs": [],
   "source": []
  }
 ],
 "metadata": {
  "kernelspec": {
   "display_name": "Python 3.9.12 ('final_push': venv)",
   "language": "python",
   "name": "python3"
  },
  "language_info": {
   "codemirror_mode": {
    "name": "ipython",
    "version": 3
   },
   "file_extension": ".py",
   "mimetype": "text/x-python",
   "name": "python",
   "nbconvert_exporter": "python",
   "pygments_lexer": "ipython3",
   "version": "3.9.12"
  },
  "vscode": {
   "interpreter": {
    "hash": "8e02da1a44ae18450cb5af5e09f6e0e7f89156b4e35bd0658bcd16be5d7b1a8b"
   }
  }
 },
 "nbformat": 4,
 "nbformat_minor": 5
}
