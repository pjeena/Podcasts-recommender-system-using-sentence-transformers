{
 "cells": [
  {
   "cell_type": "code",
   "execution_count": 5,
   "id": "502a1604",
   "metadata": {},
   "outputs": [],
   "source": [
    "import pandas as pd\n",
    "import numpy as np\n",
    "import pickle\n",
    "from sklearn.feature_extraction.text import CountVectorizer\n",
    "from sklearn.feature_extraction.text import TfidfVectorizer\n",
    "import sentence_transformers\n",
    "import scipy.sparse\n",
    "import sys\n",
    "sys.path.insert(1, '/Users/piyush/Desktop/dsml_Portfolio/podcast/final_push')\n",
    "from config import PODCASTS_DATABASE_PATH_RAW, USER_REVIEWS_DATABASE_PATH_RAW, PODCASTS_DATABASE_PATH_PROCESSED, USER_REVIEWS_DATABASE_PATH_PROCESSED\n",
    "#from preprocessing import get_preprocessed_text\n",
    "from sklearn.metrics.pairwise import cosine_similarity, manhattan_distances, euclidean_distances\n",
    "from tqdm import tqdm\n",
    "\n",
    "\n",
    "# Loading data \n",
    "df_podcasts = pd.read_csv(PODCASTS_DATABASE_PATH_RAW,header=None)\n",
    "df_users = pd.read_csv(USER_REVIEWS_DATABASE_PATH_RAW,header=None)\n",
    "\n",
    "columns_pod = ['id','name','url','studio','category','episode_count','avg_rating','total_ratings','description']\n",
    "columns_users = ['id','podcasts_id','username','review_title','review','rating','date']\n",
    "\n",
    "df_podcasts.columns = columns_pod\n",
    "df_users.columns = columns_users\n",
    "df_users = df_users.drop('id', axis=1)\n",
    "\n",
    "df_podcasts['tags'] =  df_podcasts['description'] + ' ' + df_podcasts['category']\n",
    "#df_podcasts['tags_parsed'] =  df_podcasts['tags'].apply(lambda x: get_preprocessed_text(x)) \n",
    "#tags_parsed_list = list(df_podcasts['tags_parsed'])\n",
    "\n",
    "model_tfidf = TfidfVectorizer(max_features=1000,stop_words='english', analyzer='word', ngram_range=(1,3))\n",
    "#tfidf_embeddings_matrix = model_tfidf.fit_transform(tags_parsed_list)"
   ]
  },
  {
   "cell_type": "code",
   "execution_count": null,
   "id": "33b5f049",
   "metadata": {},
   "outputs": [],
   "source": [
    "df_minilm_embeddings = pd.DataFrame(minilm_embeddings)\n",
    "\n",
    "df_minilm_embeddings['id'] = df_podcasts['id']\n",
    "df_minilm_embeddings['name'] = df_podcasts['name']\n",
    "df_minilm_embeddings['category'] = df_podcasts['category']\n",
    "\n",
    "\n",
    "df_minilm_embeddings.insert(0, 'id', df_minilm_embeddings.pop(\"id\"))\n",
    "df_minilm_embeddings.insert(1, 'name', df_minilm_embeddings.pop(\"name\"))\n",
    "df_minilm_embeddings.insert(2, 'category', df_minilm_embeddings.pop(\"category\"))"
   ]
  }
 ],
 "metadata": {
  "kernelspec": {
   "display_name": "Python 3 (ipykernel)",
   "language": "python",
   "name": "python3"
  },
  "language_info": {
   "codemirror_mode": {
    "name": "ipython",
    "version": 3
   },
   "file_extension": ".py",
   "mimetype": "text/x-python",
   "name": "python",
   "nbconvert_exporter": "python",
   "pygments_lexer": "ipython3",
   "version": "3.9.12"
  },
  "vscode": {
   "interpreter": {
    "hash": "8e02da1a44ae18450cb5af5e09f6e0e7f89156b4e35bd0658bcd16be5d7b1a8b"
   }
  }
 },
 "nbformat": 4,
 "nbformat_minor": 5
}
