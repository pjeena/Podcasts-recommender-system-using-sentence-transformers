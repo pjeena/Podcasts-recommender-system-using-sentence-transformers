{
 "cells": [
  {
   "cell_type": "code",
   "execution_count": 21,
   "id": "502a1604",
   "metadata": {},
   "outputs": [
    {
     "ename": "ModuleNotFoundError",
     "evalue": "No module named 'preprocessing'",
     "output_type": "error",
     "traceback": [
      "\u001b[0;31m---------------------------------------------------------------------------\u001b[0m",
      "\u001b[0;31mModuleNotFoundError\u001b[0m                       Traceback (most recent call last)",
      "Input \u001b[0;32mIn [21]\u001b[0m, in \u001b[0;36m<cell line: 11>\u001b[0;34m()\u001b[0m\n\u001b[1;32m      9\u001b[0m sys\u001b[38;5;241m.\u001b[39mpath\u001b[38;5;241m.\u001b[39minsert(\u001b[38;5;241m1\u001b[39m, \u001b[38;5;124m'\u001b[39m\u001b[38;5;124m/Users/piyush/Desktop/dsml_Portfolio/podcast/final_push\u001b[39m\u001b[38;5;124m'\u001b[39m)\n\u001b[1;32m     10\u001b[0m \u001b[38;5;28;01mfrom\u001b[39;00m \u001b[38;5;21;01mconfig\u001b[39;00m \u001b[38;5;28;01mimport\u001b[39;00m PODCASTS_DATABASE_PATH_RAW, USER_REVIEWS_DATABASE_PATH_RAW, PODCASTS_DATABASE_PATH_PROCESSED, USER_REVIEWS_DATABASE_PATH_PROCESSED\n\u001b[0;32m---> 11\u001b[0m \u001b[38;5;28;01mfrom\u001b[39;00m \u001b[38;5;21;01mpreprocessing\u001b[39;00m \u001b[38;5;28;01mimport\u001b[39;00m get_preprocessed_text\n\u001b[1;32m     12\u001b[0m \u001b[38;5;28;01mfrom\u001b[39;00m \u001b[38;5;21;01msklearn\u001b[39;00m\u001b[38;5;21;01m.\u001b[39;00m\u001b[38;5;21;01mmetrics\u001b[39;00m\u001b[38;5;21;01m.\u001b[39;00m\u001b[38;5;21;01mpairwise\u001b[39;00m \u001b[38;5;28;01mimport\u001b[39;00m cosine_similarity, manhattan_distances, euclidean_distances\n\u001b[1;32m     13\u001b[0m \u001b[38;5;28;01mfrom\u001b[39;00m \u001b[38;5;21;01mtqdm\u001b[39;00m \u001b[38;5;28;01mimport\u001b[39;00m tqdm\n",
      "\u001b[0;31mModuleNotFoundError\u001b[0m: No module named 'preprocessing'"
     ]
    }
   ],
   "source": [
    "import pandas as pd\n",
    "import numpy as np\n",
    "import pickle\n",
    "from sklearn.feature_extraction.text import CountVectorizer\n",
    "from sklearn.feature_extraction.text import TfidfVectorizer\n",
    "import sentence_transformers\n",
    "import scipy.sparse\n",
    "import sys\n",
    "sys.path.insert(1, '/Users/piyush/Desktop/dsml_Portfolio/podcast/final_push')\n",
    "from config import PODCASTS_DATABASE_PATH_RAW, USER_REVIEWS_DATABASE_PATH_RAW, PODCASTS_DATABASE_PATH_PROCESSED, USER_REVIEWS_DATABASE_PATH_PROCESSED\n",
    "from preprocessing import get_preprocessed_text\n",
    "from sklearn.metrics.pairwise import cosine_similarity, manhattan_distances, euclidean_distances\n",
    "from tqdm import tqdm\n",
    "\n",
    "\n",
    "# Loading data \n",
    "df_podcasts = pd.read_csv(PODCASTS_DATABASE_PATH_RAW,header=None)\n",
    "df_users = pd.read_csv(USER_REVIEWS_DATABASE_PATH_RAW,header=None)\n",
    "\n",
    "columns_pod = ['id','name','url','studio','category','episode_count','avg_rating','total_ratings','description']\n",
    "columns_users = ['id','podcasts_id','username','review_title','review','rating','date']\n",
    "\n",
    "df_podcasts.columns = columns_pod\n",
    "df_users.columns = columns_users\n",
    "df_users = df_users.drop('id', axis=1)\n",
    "\n",
    "df_podcasts['tags'] =  df_podcasts['description'] + ' ' + df_podcasts['category']\n",
    "df_podcasts['tags_parsed'] =  df_podcasts['tags'].apply(lambda x: get_preprocessed_text(x)) \n",
    "tags_parsed_list = list(df_podcasts['tags_parsed'])\n",
    "\n",
    "model_tfidf = TfidfVectorizer(max_features=1000,stop_words='english', analyzer='word', ngram_range=(1,3))\n",
    "tfidf_embeddings_matrix = model_tfidf.fit_transform(tags_parsed_list)"
   ]
  },
  {
   "cell_type": "code",
   "execution_count": null,
   "id": "33b5f049",
   "metadata": {},
   "outputs": [],
   "source": []
  }
 ],
 "metadata": {
  "kernelspec": {
   "display_name": "Python 3 (ipykernel)",
   "language": "python",
   "name": "python3"
  },
  "language_info": {
   "codemirror_mode": {
    "name": "ipython",
    "version": 3
   },
   "file_extension": ".py",
   "mimetype": "text/x-python",
   "name": "python",
   "nbconvert_exporter": "python",
   "pygments_lexer": "ipython3",
   "version": "3.9.12"
  }
 },
 "nbformat": 4,
 "nbformat_minor": 5
}
